{
  "nbformat": 4,
  "nbformat_minor": 0,
  "metadata": {
    "colab": {
      "provenance": []
    },
    "kernelspec": {
      "name": "python3",
      "display_name": "Python 3"
    },
    "language_info": {
      "name": "python"
    }
  },
  "cells": [
    {
      "cell_type": "code",
      "execution_count": null,
      "metadata": {
        "id": "12yX2d78jJGz"
      },
      "outputs": [],
      "source": [
        "# 1) Swap two numbers using 3rd variable\n",
        "\n",
        "num_1 = int(input('put the first number. '))\n",
        "num_2 = int(input('Put your second number. '))\n",
        "num_3 = num_1\n",
        "num_1 = num_2\n",
        "num_2 = num_3\n",
        "\n",
        "print(f'After the swap your first number is: {num_1}')\n",
        "print(f'After the swap your second number is: {num_2}')\n"
      ]
    },
    {
      "cell_type": "code",
      "source": [
        "# 2) Swap two numbers without using 3rd variable\n",
        "\n",
        "a = int(input('Enter first number. '))\n",
        "b = int(input('Second number. '))\n",
        "\n",
        "a = a + b\n",
        "b = a - b\n",
        "a = a - b\n",
        "\n",
        "print(f'After the swap your first number is: {a}')\n",
        "print(f'After the swap your second number is: {b}')"
      ],
      "metadata": {
        "id": "flgZixJJjR-W",
        "colab": {
          "base_uri": "https://localhost:8080/"
        },
        "outputId": "e0e8812a-b128-42a8-e4d8-c30dcc8e7595"
      },
      "execution_count": null,
      "outputs": [
        {
          "output_type": "stream",
          "name": "stdout",
          "text": [
            "Enter first number. 12\n",
            "Second number. 12\n",
            "After the swap your first number is: 12\n",
            "After the swap your second number is: 12\n"
          ]
        }
      ]
    },
    {
      "cell_type": "code",
      "source": [
        "# 3) Remove duplicate elements from a list without converting to tuple\n",
        "\n",
        "num_list = [1, 2, 3, 3, 4, 5, 1, 2]\n",
        "new_list = []\n",
        "\n",
        "for x in num_list:\n",
        "    if x not in new_list:\n",
        "        new_list.append(x)\n",
        "\n",
        "print(new_list)"
      ],
      "metadata": {
        "colab": {
          "base_uri": "https://localhost:8080/"
        },
        "id": "OIG-RIMgjXFJ",
        "outputId": "ac17a0ec-467e-4803-f3b2-29185fd77530"
      },
      "execution_count": null,
      "outputs": [
        {
          "output_type": "stream",
          "name": "stdout",
          "text": [
            "[1, 2, 3, 4, 5]\n"
          ]
        }
      ]
    },
    {
      "cell_type": "code",
      "source": [
        "# 4) Write a program to find greatest common divisor (GCD) or\n",
        "#  highest common factor (HCF) of given two numbers\n",
        "\n",
        "first_num = int(input('Put your first number. '))\n",
        "second_num = int(input('Put your second number. '))\n",
        "\n",
        "if first_num > second_num:\n",
        "    for x in range( second_num, 0, -1):\n",
        "        if second_num % x == 0 and first_num % x == 0:\n",
        "            print(f\"The greatest common divisor (GCD) of both {first_num} and {second_num} is {x}\")\n",
        "            break\n",
        "\n",
        "elif first_num == first_num:\n",
        "     for x in range( second_num, 0, -1):\n",
        "        if second_num % x == 0 and first_num % x == 0:\n",
        "            print(f\"The greatest common divisor (GCD) of both {first_num} and {second_num} is {x}\")\n",
        "            break\n",
        "\n",
        "else:\n",
        "    for x in range(first_num, 0, -1):\n",
        "        if first_num % x == 0 and second_num % x == 0:\n",
        "            print(f\"The greatest common divisor (GCD) of both {first_num} and {second_num} is {x}\")\n",
        "            break\n",
        "\n"
      ],
      "metadata": {
        "id": "I1EEWWxLkKmh",
        "colab": {
          "base_uri": "https://localhost:8080/"
        },
        "outputId": "1dba4db5-a7bf-41b0-a8cf-cc5415c22e55"
      },
      "execution_count": 11,
      "outputs": [
        {
          "output_type": "stream",
          "name": "stdout",
          "text": [
            "Put your first number. 12\n",
            "Put your second number. 14\n",
            "The greatest common divisor (GCD) of both 12 and 14 is 2\n"
          ]
        }
      ]
    },
    {
      "cell_type": "code",
      "source": [
        "# 5) Write a loop to print following series\n",
        "# 10, 20, 30,  …………………, 300\n",
        "\n",
        "for num in range(10, 301, 10):\n",
        "    print(num, end= ' ')\n"
      ],
      "metadata": {
        "id": "s92SQO5UkUdm",
        "colab": {
          "base_uri": "https://localhost:8080/"
        },
        "outputId": "f73a4876-f314-41ec-9be3-795cda21e832"
      },
      "execution_count": null,
      "outputs": [
        {
          "output_type": "stream",
          "name": "stdout",
          "text": [
            "10 20 30 40 50 60 70 80 90 100 110 120 130 140 150 160 170 180 190 200 210 220 230 240 250 260 270 280 290 300 "
          ]
        }
      ]
    },
    {
      "cell_type": "code",
      "source": [
        "# 5) Write a loop to print following series\n",
        "# 10, 20, 30,  …………………, 300\n",
        "\n",
        "x = 10\n",
        "while True:\n",
        "    print(x, end=' ')\n",
        "    x += 10\n",
        "    if x > 300:\n",
        "        break"
      ],
      "metadata": {
        "id": "14lnpg_3kjYS",
        "colab": {
          "base_uri": "https://localhost:8080/"
        },
        "outputId": "ed9b7794-5a1b-4667-cdda-9bcedbf35495"
      },
      "execution_count": null,
      "outputs": [
        {
          "output_type": "stream",
          "name": "stdout",
          "text": [
            "10 20 30 40 50 60 70 80 90 100 110 120 130 140 150 160 170 180 190 200 210 220 230 240 250 260 270 280 290 300 "
          ]
        }
      ]
    },
    {
      "cell_type": "code",
      "source": [
        "# 6) Write a loop to print following series\n",
        "# 105,98,91,………………………,7\n",
        "for num in range(105, 1, -7):\n",
        "    print(num, end=' ')\n"
      ],
      "metadata": {
        "colab": {
          "base_uri": "https://localhost:8080/"
        },
        "id": "PI5YT6Vvkw4H",
        "outputId": "f17d2bfa-26db-430e-be5d-955fe683fc20"
      },
      "execution_count": null,
      "outputs": [
        {
          "output_type": "stream",
          "name": "stdout",
          "text": [
            "105 98 91 84 77 70 63 56 49 42 35 28 21 14 7 "
          ]
        }
      ]
    },
    {
      "cell_type": "code",
      "source": [
        "# 6) Write a loop to print following series\n",
        "# 105,98,91,………………………,7\n",
        "\n",
        "x = 105\n",
        "while True:\n",
        "    print(x, end=' ')\n",
        "    x -= 7\n",
        "    if x < 7:\n",
        "        break"
      ],
      "metadata": {
        "colab": {
          "base_uri": "https://localhost:8080/"
        },
        "id": "V-NB2FP-lZGE",
        "outputId": "08228b40-2977-4a17-b85c-00f70b9a171d"
      },
      "execution_count": null,
      "outputs": [
        {
          "output_type": "stream",
          "name": "stdout",
          "text": [
            "105 98 91 84 77 70 63 56 49 42 35 28 21 14 7 "
          ]
        }
      ]
    },
    {
      "cell_type": "code",
      "source": [
        "# 7) Write a program to print number names of digits in a number like\n",
        "# SAMPLE INPUT 231 \t\tSAMPLE OUTPUT TWO THREE ONE\n",
        "\n",
        "user_input = int(input('Put your number: '))\n",
        "number_words = [\"Zero\", \"One\", \"Two\", \"Three\", \"Four\", \"Five\", \"Six\", \"Seven\", \"Eight\", \"Nine\"]\n",
        "digit_list = []\n",
        "while user_input != 0:\n",
        "    digit = user_input % 10\n",
        "    digit_list.append(number_words[digit])\n",
        "    user_input = user_input // 10\n",
        "num = len(digit_list)\n",
        "for x in range(num):\n",
        "    out_put = digit_list[num-x-1]\n",
        "    print(out_put, end=',')"
      ],
      "metadata": {
        "id": "4OFypN8El2Tv",
        "colab": {
          "base_uri": "https://localhost:8080/"
        },
        "outputId": "dda05195-4c56-4a1f-95f2-399d8462cb80"
      },
      "execution_count": null,
      "outputs": [
        {
          "output_type": "stream",
          "name": "stdout",
          "text": [
            "Put your number: 125\n",
            "One,Two,Five,"
          ]
        }
      ]
    },
    {
      "cell_type": "markdown",
      "source": [
        "8) Write a program to print Fibonacci series till n terms take n =50"
      ],
      "metadata": {
        "id": "Tup6lRTGuZ78"
      }
    },
    {
      "cell_type": "code",
      "source": [
        "a, b = 0, 1\n",
        "n_th = int(input(\"Which n term Fibonacci do you want? \"))\n",
        "\n",
        "print(a, b , end=' ')\n",
        "for x in range(2, n_th):\n",
        "    c = a + b\n",
        "    a = b\n",
        "    b = c\n",
        "    print(c, end=' ')\n"
      ],
      "metadata": {
        "id": "x4yYGJDKuJYH",
        "colab": {
          "base_uri": "https://localhost:8080/"
        },
        "outputId": "c1224b51-1bef-450d-de0d-2edc3c41a088"
      },
      "execution_count": null,
      "outputs": [
        {
          "output_type": "stream",
          "name": "stdout",
          "text": [
            "Which n term Fibonacci do you want? 13\n",
            "0 1 1 2 3 5 8 13 21 34 55 89 144 "
          ]
        }
      ]
    },
    {
      "cell_type": "code",
      "source": [
        "a, b = 0, 1\n",
        "n_th = int(input(\"Which n term Fibonacci do you want? \"))\n",
        "\n",
        "for x in range(2, n_th):\n",
        "    c = a + b\n",
        "    a = b\n",
        "    b = c\n",
        "\n",
        "print(f'The {n_th} term of the Fibonacci is: {c}')"
      ],
      "metadata": {
        "id": "MHuFIshA_Ykz",
        "colab": {
          "base_uri": "https://localhost:8080/"
        },
        "outputId": "a766b392-134a-449c-f90a-19beaf4b77e5"
      },
      "execution_count": null,
      "outputs": [
        {
          "output_type": "stream",
          "name": "stdout",
          "text": [
            "Which n term Fibonacci do you want? 8\n",
            "The 8 term of the Fibonacci is: 13\n"
          ]
        }
      ]
    },
    {
      "cell_type": "code",
      "source": [
        "# 9) Write a program to print factorial of a number\n",
        "\n",
        "number = int(input('Put your number.'))\n",
        "factorial = 1\n",
        "for x in range(1, number + 1):\n",
        "    factorial *= x\n",
        "\n",
        "print(f\"The factorial of {number} is {factorial}\")"
      ],
      "metadata": {
        "id": "PD7oaP_PuK6u",
        "colab": {
          "base_uri": "https://localhost:8080/"
        },
        "outputId": "5dd0f7b3-f9b6-4661-e4d9-50fdcbdb4391"
      },
      "execution_count": null,
      "outputs": [
        {
          "output_type": "stream",
          "name": "stdout",
          "text": [
            "Put your number.5\n",
            "The factorial of 5 is 120\n"
          ]
        }
      ]
    },
    {
      "cell_type": "code",
      "source": [
        "# 10) Write a program to check if a number is Armstrong or not\n",
        "\n",
        "def return_sum(num, n):\n",
        "    sum = 0\n",
        "    while num != 0:\n",
        "        digit = num % 10\n",
        "        sum += digit ** n\n",
        "        num = num // 10\n",
        "\n",
        "    return sum\n",
        "\n",
        "def return_power(num):\n",
        "    count = 0\n",
        "    while num != 0:\n",
        "        digit = num % 10\n",
        "        count += 1\n",
        "        num = num // 10\n",
        "\n",
        "    return count\n",
        "\n",
        "input_num = int(input(\"Your number is. \"))\n",
        "\n",
        "power_of = return_power(input_num)\n",
        "result = return_sum(input_num, power_of)\n",
        "if input_num == result:\n",
        "    print(f\"The number {input_num} is Armstrong\")\n",
        "else:\n",
        "    print(f'The number {input_num} is NOT Armstrong')\n"
      ],
      "metadata": {
        "id": "ehjUIzzKuMC-",
        "colab": {
          "base_uri": "https://localhost:8080/"
        },
        "outputId": "81653f4a-1a33-4a29-b8c7-ecb056625531"
      },
      "execution_count": null,
      "outputs": [
        {
          "output_type": "stream",
          "name": "stdout",
          "text": [
            "Your number is. 1213321\n",
            "The number 1213321 is NOT Armstrong\n"
          ]
        }
      ]
    },
    {
      "cell_type": "code",
      "source": [
        "# 11) Write a program to convert binary to decimal\n",
        "\n",
        "user_input =  int(input(\"Put the binary number you need to change to decimal. \"))\n",
        "input = user_input\n",
        "\n",
        "sum = 0\n",
        "power = 0\n",
        "while input != 0 :\n",
        "    digit = input % 10\n",
        "    sum += digit * (2 ** power)\n",
        "    input //= 10\n",
        "    power += 1\n",
        "\n",
        "print(f\"The binary conversion {user_input} to decimal is: {sum}\")"
      ],
      "metadata": {
        "id": "7OdSwimHuNKK",
        "colab": {
          "base_uri": "https://localhost:8080/"
        },
        "outputId": "79489f0f-207d-4bb3-974a-fa3a3a43416b"
      },
      "execution_count": null,
      "outputs": [
        {
          "output_type": "stream",
          "name": "stdout",
          "text": [
            "Put the binary number you need to change to decimal. 100\n",
            "The binary conversion 100 to decimal is: 4\n"
          ]
        }
      ]
    },
    {
      "cell_type": "code",
      "source": [
        "# 12) Write a program to convert decimal to binary\n",
        "\n",
        "input_user = int(input(\"Put the decimal number you need to change. \"))\n",
        "input = input_user\n",
        "\n",
        "out_put = ''\n",
        "while input != 0 :\n",
        "    digit = input % 2\n",
        "    out_put = str(digit) + out_put\n",
        "    input //= 2\n",
        "\n",
        "\n",
        "print(f\"The desimal coverstion of {input_user} to binary is:  {out_put}\")"
      ],
      "metadata": {
        "id": "EDLWMFmRuOk3"
      },
      "execution_count": null,
      "outputs": []
    },
    {
      "cell_type": "code",
      "source": [
        "# 13) Write a program to check if number is\n",
        "# palindrome on not (Without converting to string)\n",
        "\n",
        "def check_list(num_l , n):\n",
        "\n",
        "    for x in range(n):\n",
        "        if num_list[x] != num_l[n - x - 1]:\n",
        "            return  False\n",
        "            break\n",
        "\n",
        "    return True\n",
        "\n",
        "input = int(input(\"THe number is. \"))\n",
        "num_list = []\n",
        "\n",
        "while input != 0:\n",
        "    digit = input % 10\n",
        "    num_list.append(digit)\n",
        "    input //= 10\n",
        "\n",
        "len_list = len(num_list)\n",
        "if check_list(num_list, len_list):\n",
        "    print(f\"Yes the number {input} is Palindrome\")\n",
        "else:\n",
        "    print('No')"
      ],
      "metadata": {
        "id": "VBnEfEcy2US8"
      },
      "execution_count": null,
      "outputs": []
    },
    {
      "cell_type": "code",
      "source": [
        "# 14) Write a program to print all numbers which are\n",
        "# divisible by 13 but not by 3 between 100 and 500\n",
        "\n",
        "for x in range(100, 501):\n",
        "    if x % 13 == 0 and x % 3 != 0:\n",
        "        print(x, end=\" \")"
      ],
      "metadata": {
        "id": "n-7FqR8l2WpH",
        "colab": {
          "base_uri": "https://localhost:8080/"
        },
        "outputId": "df462341-5f42-47cc-b117-f1de32cc06de"
      },
      "execution_count": null,
      "outputs": [
        {
          "output_type": "stream",
          "name": "stdout",
          "text": [
            "104 130 143 169 182 208 221 247 260 286 299 325 338 364 377 403 416 442 455 481 494 "
          ]
        }
      ]
    },
    {
      "cell_type": "code",
      "source": [
        "# 15) Write a Python program to convert temperatures\n",
        "#  to and from Celsius and Fahrenheit.\n",
        "\n",
        "user_chose = input(\"Click 'C' if u need to change to degree Celsius else 'F' for Fahrenheit. \").lower()\n",
        "if user_chose == 'f':\n",
        "    celsius = int(input(\"Put Your digree Celsius. \"))\n",
        "    degree_fahre = (celsius * 9 / 5) + 32\n",
        "    print(f\" {celsius}°C  is equal to {degree_fahre} °F\")\n",
        "else:\n",
        "    Fahrenheit = int(input(\"Put Your Fahrenheit Celsius. \"))\n",
        "    degree_celsius = (Fahrenheit - 32) * 5 / 9\n",
        "    print(f\" {Fahrenheit}°C  is equal to {degree_celsius} °F\")"
      ],
      "metadata": {
        "id": "xsi8mgdP2YLU"
      },
      "execution_count": null,
      "outputs": []
    },
    {
      "cell_type": "code",
      "source": [
        "# 16) Write a Python program that takes two digits m (row) and n (column) as\n",
        "# input and generates a two-dimensional array. The element value in\n",
        "# the i-th row and j-th column of the array should be i*j. else it will be 0\n",
        "\n",
        "input_two_digit = int(input(\"Put the two gigit number. \"))\n",
        "\n",
        "if input_two_digit > 99 or input_two_digit < 11 or input_two_digit % 10 == 0:\n",
        "    print(f\"You put invalid number so the result is: 0\")\n",
        "else:\n",
        "    i = input_two_digit // 10\n",
        "    j = input_two_digit % 10\n",
        "\n",
        "    for x in range(1,i+1):\n",
        "        for y in range(1, j+1):\n",
        "            result = x * y\n",
        "            print(f\"{x} x {y} ={result}\", end='  ')\n",
        "\n",
        "        print()"
      ],
      "metadata": {
        "id": "0oIWof_R2ZjZ"
      },
      "execution_count": null,
      "outputs": []
    },
    {
      "cell_type": "code",
      "source": [
        "# 17. Write a Python program that accepts a string and calculates\n",
        "#  the number of digits and letters.\n",
        "# Sample Data: Python 3.2\n",
        "# Expected Output:\n",
        "# Letters 6\n",
        "# Digits 2\n",
        "\n",
        "alphabets = ['a', 'b', 'c', 'd', 'e', 'f', 'g', 'h', 'i',\n",
        "             'j', 'k', 'l', 'm', 'n', 'o', 'p', 'q', 'r',\n",
        "             's', 't', 'u', 'v', 'w', 'x', 'y', 'z'\n",
        "             ]\n",
        "numbers = [str(x) for x in range(10)]  # Creates a list of specific numbers\n",
        "\n",
        "user_input = input(\"Put your input. \").lower()\n",
        "count_alp = 0\n",
        "count_num = 0\n",
        "for x in user_input:\n",
        "    if x in alphabets:\n",
        "        count_alp += 1\n",
        "    elif x in numbers:\n",
        "        count_num += 1\n",
        "\n",
        "print(f\"The number of Letters in the input sentence are:- {count_alp}\")\n",
        "print(f\"The number of Digits in the input sentence are:- {count_num}\")"
      ],
      "metadata": {
        "id": "56mn7VGeHgAU"
      },
      "execution_count": null,
      "outputs": []
    },
    {
      "cell_type": "code",
      "source": [
        "# 18) Print all possible combination for a string or a word\n",
        "# Sample input “ABC”\n",
        "# Sample output  BAC  CAB CBA   ACB  BCA\n",
        "\n",
        "def combinations(input_string):\n",
        "    if len(input_string) <= 1:\n",
        "        return [input_string]\n",
        "\n",
        "    combinations = []\n",
        "    for i in range(len(input_string)):\n",
        "        first_char = input_string[i]\n",
        "        rest_of_chars = input_string[:i] + input_string[i + 1:]\n",
        "        rest_combinations = combinations(rest_of_chars)\n",
        "\n",
        "        for combo in rest_combinations:\n",
        "            combinations.append(first_char + combo)\n",
        "\n",
        "    return combinations\n",
        "\n",
        "sample_input = input(\"Put the word .\")\n",
        "\n",
        "combinations = combinations(sample_input)\n",
        "\n",
        "for combo in combinations:\n",
        "    print(combo)"
      ],
      "metadata": {
        "id": "Q1spWkw_EXg9"
      },
      "execution_count": null,
      "outputs": []
    },
    {
      "cell_type": "code",
      "source": [
        "# 19) Write a Python program to check if a triangle is equilateral,\n",
        "#  isosceles or scalene. Take 3 inputs for each side\n",
        "# Note :\n",
        "    # An equilateral triangle is a triangle in which all three sides are equal.\n",
        "    # A scalene triangle is a triangle that has three unequal sides.\n",
        "    # An isosceles triangle is a triangle with (at least) two equal sides.\n",
        "shape = True\n",
        "while shape:\n",
        "    side_one = int(input(\"Put first side. \"))\n",
        "    side_two = int(input(\"Put second side. \"))\n",
        "    side_three = int(input(\"Put 3rd side. \"))\n",
        "\n",
        "    if side_one == side_two == side_three:\n",
        "        print('The triangle is Equilateral Triangle')\n",
        "\n",
        "    elif side_three != side_two != side_one:\n",
        "        print(\"The triangle is Scalene Ttriangle \")\n",
        "\n",
        "    else:\n",
        "        print(\"The triangle is Isosceles Triangle\")\n",
        "\n",
        "    if input('Do you need to continue Enter y or n. ').lower() == 'n':\n",
        "\n",
        "        shape = False"
      ],
      "metadata": {
        "id": "cPxhZ6hnElB3"
      },
      "execution_count": null,
      "outputs": []
    },
    {
      "cell_type": "code",
      "source": [
        "# 20) Write a Python program to get the next day of a given date.\n",
        "# Expected Output:\n",
        "# Input a year: 2016\n",
        "# Input a month [1-12]: 08\n",
        "# Input a day [1-31]: 23\n",
        "# The next date is [yyyy-mm-dd] 2016-8-24\n",
        "\n",
        "\n",
        "def check_month():\n",
        "    if month_input > 12 or month_input < 1:\n",
        "        print(f'You put invalid Month we have only 12 month and you put {month_input}')\n",
        "    else:\n",
        "        return months[month_input - 1]\n",
        "\n",
        "\n",
        "def check_day(month):\n",
        "    if month == \"February\" and year_input % 4 == 0:\n",
        "        print(\"This year is leap Year. February is 29 days, \")\n",
        "        month_to_days[\"February\"] = 29\n",
        "        day_input = int(input(\"Input a day. \"))\n",
        "        if day_input < 0 or day_input > month_to_days[month]:\n",
        "            print(f'You put invalid day we have only {month_to_days[month]} days in {month}.')\n",
        "\n",
        "        elif day_input == month_to_days[month]:\n",
        "            return 1\n",
        "        else:\n",
        "            return day_input + 1\n",
        "    else:\n",
        "        print(f'Remember {month} has only {month_to_days[month]} days')\n",
        "        day_input = int(input(\"Input a day. \"))\n",
        "\n",
        "        if day_input < 0 or day_input > month_to_days[month]:\n",
        "            print(f'You put invalid day we have only {month_to_days[month]} days in {month}.')\n",
        "\n",
        "        elif day_input == month_to_days[month]:\n",
        "            return 1\n",
        "        else:\n",
        "            return day_input + 1\n",
        "\n",
        "\n",
        "months = [\"January\", \"February\", \"March\", \"April\", \"May\", \"June\", \"July\",\n",
        "          \"August\", \"September\", \"October\", \"November\", \"December\"\n",
        "          ]\n",
        "\n",
        "month_to_days = {\"January\": 31, \"February\": 28, \"March\": 31, \"April\": 30,\n",
        "                 \"May\": 31, \"June\": 30, \"July\": 31, \"August\": 31, \"September\": 30,\n",
        "                 \"October\": 31, \"November\": 30, \"December\": 31\n",
        "                 }\n",
        "\n",
        "year_input = int(input(\"Input a year: \"))\n",
        "month_input = int(input(\"Input a month. \"))\n",
        "result_month = check_month()\n",
        "if result_month:\n",
        "    day_result = check_day(result_month)\n",
        "    if day_result:\n",
        "        if day_result == 1 and result_month == \"December\":\n",
        "            new_month = months[0]\n",
        "            print(f\"The next date is {year_input + 1}-{new_month}-01\")\n",
        "        elif day_result == 1:\n",
        "            new_month = months[month_input]\n",
        "            print(f\"The next date is {year_input}-{new_month}-01\")\n",
        "        else:\n",
        "            print(f\"The next date is {year_input}-{result_month}-{day_result}\")"
      ],
      "metadata": {
        "id": "MqfFpy7tEpuS"
      },
      "execution_count": null,
      "outputs": []
    }
  ]
}