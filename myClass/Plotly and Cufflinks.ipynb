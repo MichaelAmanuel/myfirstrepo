{
 "cells": [
  {
   "cell_type": "code",
   "execution_count": 38,
   "id": "a8f4f331",
   "metadata": {},
   "outputs": [],
   "source": [
    "import pandas as pd\n",
    "import plotly.express as px\n",
    "import numpy as np\n",
    "%matplotlib inline"
   ]
  },
  {
   "cell_type": "code",
   "execution_count": 2,
   "id": "8f3253cd",
   "metadata": {},
   "outputs": [],
   "source": [
    "from plotly import __version__"
   ]
  },
  {
   "cell_type": "code",
   "execution_count": 3,
   "id": "126490cb",
   "metadata": {},
   "outputs": [
    {
     "name": "stdout",
     "output_type": "stream",
     "text": [
      "5.9.0\n"
     ]
    }
   ],
   "source": [
    "print(__version__)"
   ]
  },
  {
   "cell_type": "code",
   "execution_count": 4,
   "id": "0807c73d",
   "metadata": {},
   "outputs": [
    {
     "name": "stderr",
     "output_type": "stream",
     "text": [
      "C:\\Users\\DELL\\anaconda3\\Lib\\site-packages\\paramiko\\transport.py:219: CryptographyDeprecationWarning:\n",
      "\n",
      "Blowfish has been deprecated\n",
      "\n"
     ]
    }
   ],
   "source": [
    "import cufflinks as cf"
   ]
  },
  {
   "cell_type": "code",
   "execution_count": 6,
   "id": "2ea7dfbe",
   "metadata": {},
   "outputs": [],
   "source": [
    "from plotly.offline import download_plotlyjs, init_notebook_mode,plot,iplot"
   ]
  },
  {
   "cell_type": "code",
   "execution_count": 7,
   "id": "da5a20d5",
   "metadata": {},
   "outputs": [
    {
     "data": {
      "text/html": [
       "        <script type=\"text/javascript\">\n",
       "        window.PlotlyConfig = {MathJaxConfig: 'local'};\n",
       "        if (window.MathJax && window.MathJax.Hub && window.MathJax.Hub.Config) {window.MathJax.Hub.Config({SVG: {font: \"STIX-Web\"}});}\n",
       "        if (typeof require !== 'undefined') {\n",
       "        require.undef(\"plotly\");\n",
       "        requirejs.config({\n",
       "            paths: {\n",
       "                'plotly': ['https://cdn.plot.ly/plotly-2.12.1.min']\n",
       "            }\n",
       "        });\n",
       "        require(['plotly'], function(Plotly) {\n",
       "            window._Plotly = Plotly;\n",
       "        });\n",
       "        }\n",
       "        </script>\n",
       "        "
      ]
     },
     "metadata": {},
     "output_type": "display_data"
    }
   ],
   "source": [
    "init_notebook_mode(connected=True)"
   ]
  },
  {
   "cell_type": "code",
   "execution_count": 8,
   "id": "0eacfb1d",
   "metadata": {},
   "outputs": [
    {
     "data": {
      "text/html": [
       "        <script type=\"text/javascript\">\n",
       "        window.PlotlyConfig = {MathJaxConfig: 'local'};\n",
       "        if (window.MathJax && window.MathJax.Hub && window.MathJax.Hub.Config) {window.MathJax.Hub.Config({SVG: {font: \"STIX-Web\"}});}\n",
       "        if (typeof require !== 'undefined') {\n",
       "        require.undef(\"plotly\");\n",
       "        requirejs.config({\n",
       "            paths: {\n",
       "                'plotly': ['https://cdn.plot.ly/plotly-2.12.1.min']\n",
       "            }\n",
       "        });\n",
       "        require(['plotly'], function(Plotly) {\n",
       "            window._Plotly = Plotly;\n",
       "        });\n",
       "        }\n",
       "        </script>\n",
       "        "
      ]
     },
     "metadata": {},
     "output_type": "display_data"
    }
   ],
   "source": [
    "cf.go_offline()"
   ]
  },
  {
   "cell_type": "code",
   "execution_count": 9,
   "id": "ec0f8ed6",
   "metadata": {},
   "outputs": [],
   "source": [
    "df = pd.DataFrame(np.random.randn(100, 4), columns='A B C D'.split())"
   ]
  },
  {
   "cell_type": "code",
   "execution_count": 10,
   "id": "c4cff7e8",
   "metadata": {},
   "outputs": [
    {
     "data": {
      "text/html": [
       "<div>\n",
       "<style scoped>\n",
       "    .dataframe tbody tr th:only-of-type {\n",
       "        vertical-align: middle;\n",
       "    }\n",
       "\n",
       "    .dataframe tbody tr th {\n",
       "        vertical-align: top;\n",
       "    }\n",
       "\n",
       "    .dataframe thead th {\n",
       "        text-align: right;\n",
       "    }\n",
       "</style>\n",
       "<table border=\"1\" class=\"dataframe\">\n",
       "  <thead>\n",
       "    <tr style=\"text-align: right;\">\n",
       "      <th></th>\n",
       "      <th>A</th>\n",
       "      <th>B</th>\n",
       "      <th>C</th>\n",
       "      <th>D</th>\n",
       "    </tr>\n",
       "  </thead>\n",
       "  <tbody>\n",
       "    <tr>\n",
       "      <th>0</th>\n",
       "      <td>0.963462</td>\n",
       "      <td>-0.091480</td>\n",
       "      <td>-0.184641</td>\n",
       "      <td>-0.085122</td>\n",
       "    </tr>\n",
       "    <tr>\n",
       "      <th>1</th>\n",
       "      <td>-0.120552</td>\n",
       "      <td>-1.738551</td>\n",
       "      <td>-1.837509</td>\n",
       "      <td>1.486407</td>\n",
       "    </tr>\n",
       "    <tr>\n",
       "      <th>2</th>\n",
       "      <td>0.250082</td>\n",
       "      <td>0.922159</td>\n",
       "      <td>-1.428226</td>\n",
       "      <td>0.188724</td>\n",
       "    </tr>\n",
       "    <tr>\n",
       "      <th>3</th>\n",
       "      <td>-0.501314</td>\n",
       "      <td>-1.093163</td>\n",
       "      <td>-0.192692</td>\n",
       "      <td>-0.658737</td>\n",
       "    </tr>\n",
       "    <tr>\n",
       "      <th>4</th>\n",
       "      <td>0.129284</td>\n",
       "      <td>0.331405</td>\n",
       "      <td>-0.098618</td>\n",
       "      <td>0.802164</td>\n",
       "    </tr>\n",
       "  </tbody>\n",
       "</table>\n",
       "</div>"
      ],
      "text/plain": [
       "          A         B         C         D\n",
       "0  0.963462 -0.091480 -0.184641 -0.085122\n",
       "1 -0.120552 -1.738551 -1.837509  1.486407\n",
       "2  0.250082  0.922159 -1.428226  0.188724\n",
       "3 -0.501314 -1.093163 -0.192692 -0.658737\n",
       "4  0.129284  0.331405 -0.098618  0.802164"
      ]
     },
     "execution_count": 10,
     "metadata": {},
     "output_type": "execute_result"
    }
   ],
   "source": [
    "df.head()"
   ]
  },
  {
   "cell_type": "code",
   "execution_count": 11,
   "id": "691f24cf",
   "metadata": {},
   "outputs": [],
   "source": [
    "df2 = pd.DataFrame({'Category':['A','B','C'],'Values':[32, 43, 50]})"
   ]
  },
  {
   "cell_type": "code",
   "execution_count": 12,
   "id": "9b7234a3",
   "metadata": {},
   "outputs": [
    {
     "data": {
      "text/html": [
       "<div>\n",
       "<style scoped>\n",
       "    .dataframe tbody tr th:only-of-type {\n",
       "        vertical-align: middle;\n",
       "    }\n",
       "\n",
       "    .dataframe tbody tr th {\n",
       "        vertical-align: top;\n",
       "    }\n",
       "\n",
       "    .dataframe thead th {\n",
       "        text-align: right;\n",
       "    }\n",
       "</style>\n",
       "<table border=\"1\" class=\"dataframe\">\n",
       "  <thead>\n",
       "    <tr style=\"text-align: right;\">\n",
       "      <th></th>\n",
       "      <th>Category</th>\n",
       "      <th>Values</th>\n",
       "    </tr>\n",
       "  </thead>\n",
       "  <tbody>\n",
       "    <tr>\n",
       "      <th>0</th>\n",
       "      <td>A</td>\n",
       "      <td>32</td>\n",
       "    </tr>\n",
       "    <tr>\n",
       "      <th>1</th>\n",
       "      <td>B</td>\n",
       "      <td>43</td>\n",
       "    </tr>\n",
       "    <tr>\n",
       "      <th>2</th>\n",
       "      <td>C</td>\n",
       "      <td>50</td>\n",
       "    </tr>\n",
       "  </tbody>\n",
       "</table>\n",
       "</div>"
      ],
      "text/plain": [
       "  Category  Values\n",
       "0        A      32\n",
       "1        B      43\n",
       "2        C      50"
      ]
     },
     "execution_count": 12,
     "metadata": {},
     "output_type": "execute_result"
    }
   ],
   "source": [
    "df2"
   ]
  },
  {
   "cell_type": "code",
   "execution_count": 13,
   "id": "0f791e68",
   "metadata": {},
   "outputs": [
    {
     "data": {
      "text/plain": [
       "<Axes: >"
      ]
     },
     "execution_count": 13,
     "metadata": {},
     "output_type": "execute_result"
    },
    {
     "data": {
      "image/png": "[encoded data removed]",
      "text/plain": [
       "<Figure size 640x480 with 1 Axes>"
      ]
     },
     "metadata": {},
     "output_type": "display_data"
    }
   ],
   "source": [
    "df.plot()"
   ]
  },
  {
   "cell_type": "code",
   "execution_count": 14,
   "id": "c84c866c",
   "metadata": {},
   "outputs": [
    {
     "data": {
      "application/vnd.plotly.v1+json": {
       "config": {
        "linkText": "Export to plot.ly",
        "plotlyServerURL": "https://plot.ly",
        "showLink": true
       },
       "data": [
        {
         "line": {
          "color": "rgba(255, 153, 51, 1.0)",
          "dash": "solid",
          "shape": "linear",
          "width": 1.3
         },
         "mode": "lines",
         "name": "A",
         "text": "",
         "type": "scatter",
         "x": [
          0,
          1,
          2,
          3,
          4,
          5,
          6,
          7,
          8,
          9,
          10,
          11,
          12,
          13,
          14,
          15,
          16,
          17,
          18,
          19,
          20,
          21,
          22,
          23,
          24,
          25,
          26,
          27,
          28,
          29,
          30,
          31,
          32,
          33,
          34,
          35,
          36,
          37,
          38,
          39,
          40,
          41,
          42,
          43,
          44,
          45,
          46,
          47,
          48,
          49,
          50,
          51,
          52,
          53,
          54,
          55,
          56,
          57,
          58,
          59,
          60,
          61,
          62,
          63,
          64,
          65,
          66,
          67,
          68,
          69,
          70,
          71,
          72,
          73,
          74,
          75,
          76,
          77,
          78,
          79,
          80,
          81,
          82,
          83,
          84,
          85,
          86,
          87,
          88,
          89,
          90,
          91,
          92,
          93,
          94,
          95,
          96,
          97,
          98,
          99
         ],
         "y": [
          0.9634623893766167,
          -0.12055224845819004,
          0.25008154086228296,
          -0.5013143806434255,
          0.1292844937472286,
          0.4044071864470786,
          -2.0771930414556183,
          -0.020426006358398602,
          0.3849191710124318,
          0.879707817390476,
          -0.9431858876910261,
          -0.7490253238236118,
          0.5924697035901231,
          -1.3940933638268622,
          -0.5719377462453421,
          0.0075937045045873,
          -1.4481325040064896,
          0.21700524462166149,
          -0.1395825213548501,
          -0.24991568489512242,
          0.29452568252983163,
          -0.7905644371689067,
          -0.2997690889834603,
          0.21384176348726486,
          0.08658516570981084,
          0.7454032185178966,
          -0.6281603258099894,
          0.46180435642701845,
          -0.4178004985683218,
          -0.35630133871786407,
          -1.2112066150479495,
          -0.9726056889327593,
          -0.1005023860363253,
          1.0040648633325953,
          -1.0629923769941325,
          2.47531773691314,
          -0.04824382074826237,
          1.7025776795476604,
          -1.236548662174602,
          0.39866376082116467,
          1.333415614245502,
          0.0766655986802566,
          -0.33317061992034,
          -0.07328513704307903,
          0.37972060484157116,
          0.6522436929759483,
          0.8908762959506643,
          -0.41150485447839996,
          -0.3911042477094948,
          -1.7445372379275699,
          0.023978803372944477,
          -0.17442305395410349,
          0.25819460285665935,
          0.4944620618569529,
          -0.5834284135317452,
          -0.3240544301618898,
          -1.5444815784266575,
          -0.4776289313257464,
          0.06945397679857637,
          -0.4278386106429362,
          1.2522658559296482,
          -0.8812452740221121,
          -0.8221355096056416,
          -0.18782134308689513,
          1.8206332470536457,
          -0.6879560063978835,
          1.241741050078539,
          -2.7408858865027486,
          -0.4980842707106779,
          -0.9645117851028521,
          -0.12349607696101607,
          0.14719778655961077,
          -0.3022218597739041,
          0.6471150042134444,
          0.4721020856800413,
          -1.0353926818229156,
          1.3229382115515267,
          -1.2156788535049665,
          0.7614711874891931,
          -0.9013858317983743,
          -1.003047554190563,
          1.1696861418828624,
          0.0390968088724639,
          -0.4260054156967536,
          1.091606297176759,
          1.2036536169313206,
          -0.4427686249514626,
          1.4585873222111359,
          -0.270091310882172,
          0.17838137496146925,
          1.1533524775428632,
          0.5561949849702105,
          0.18208084487524875,
          0.26219091894703034,
          0.7582266638205611,
          0.3703636490699679,
          -0.5948913443755864,
          0.34613627097324257,
          0.07431556715271147,
          -1.2472512715902513
         ]
        },
        {
         "line": {
          "color": "rgba(55, 128, 191, 1.0)",
          "dash": "solid",
          "shape": "linear",
          "width": 1.3
         },
         "mode": "lines",
         "name": "B",
         "text": "",
         "type": "scatter",
         "x": [
          0,
          1,
          2,
          3,
          4,
          5,
          6,
          7,
          8,
          9,
          10,
          11,
          12,
          13,
          14,
          15,
          16,
          17,
          18,
          19,
          20,
          21,
          22,
          23,
          24,
          25,
          26,
          27,
          28,
          29,
          30,
          31,
          32,
          33,
          34,
          35,
          36,
          37,
          38,
          39,
          40,
          41,
          42,
          43,
          44,
          45,
          46,
          47,
          48,
          49,
          50,
          51,
          52,
          53,
          54,
          55,
          56,
          57,
          58,
          59,
          60,
          61,
          62,
          63,
          64,
          65,
          66,
          67,
          68,
          69,
          70,
          71,
          72,
          73,
          74,
          75,
          76,
          77,
          78,
          79,
          80,
          81,
          82,
          83,
          84,
          85,
          86,
          87,
          88,
          89,
          90,
          91,
          92,
          93,
          94,
          95,
          96,
          97,
          98,
          99
         ],
         "y": [
          -0.09147954299523928,
          -1.7385508624690544,
          0.9221586878268342,
          -1.0931631569009221,
          0.3314050081963957,
          -1.6860350043840182,
          0.12957115351750878,
          0.5282594700664602,
          -1.724213141676408,
          -0.5551485134413877,
          0.01099836125675915,
          -1.8479965901671493,
          1.3048716149407638,
          -0.47126362237465713,
          0.30461274408286604,
          -0.3624930124832195,
          -0.12427109577985897,
          1.0458392895428787,
          -1.0772505081410064,
          0.956187500896724,
          -0.5134093195098551,
          1.003191182736705,
          1.0054421492812542,
          0.7444342301762672,
          0.9717048416109594,
          -0.5862903672126797,
          1.1402320163276554,
          -0.07586206865034092,
          -1.3020079599314847,
          -1.5532090620038983,
          0.8063276508119176,
          -1.190267123383816,
          -0.45573398022926986,
          0.2492173650282826,
          0.042545897664883724,
          -0.5394012540380726,
          -0.8710337885007717,
          0.27070058032527144,
          1.502715551599413,
          -0.6133569085524814,
          0.7716091967711711,
          -0.844375266511973,
          1.014272863942356,
          1.283227843583457,
          0.5405202955362597,
          0.26670175488612397,
          0.7101520294582939,
          2.07484318757425,
          0.6160923809193212,
          -0.7621923610184558,
          -0.7409270577875984,
          -0.8944055555394634,
          -0.8504280755637271,
          -1.0335914311595302,
          2.1436511287416486,
          0.2941595400966851,
          -1.2670997292914403,
          1.6747192059627178,
          -0.4549685653946752,
          -1.4261740159930605,
          0.2860098578963224,
          -0.6896865460661573,
          0.058011235562708846,
          -1.408955244083918,
          -0.20902752485155054,
          -0.30808010437819333,
          -0.22554007253720418,
          -0.012289759543897499,
          1.1978357038826355,
          0.8808992432676263,
          -0.1577267481768039,
          -0.7663712262064384,
          -1.47674134732821,
          0.48303599341467285,
          0.7484100962354236,
          0.6199214404930379,
          -0.09192405598441374,
          0.5300093476958286,
          1.2785791208003725,
          0.9358425653510516,
          -0.5925670749165277,
          -0.20166372582262201,
          -1.096850817122355,
          -1.0932450615263414,
          0.424315413305436,
          -0.0926162788765071,
          -0.20069809653638093,
          0.9772930851080682,
          0.26386815140631265,
          1.3874266245301734,
          -0.9248958944644438,
          0.17201496834833183,
          -0.9048757219799238,
          0.4288879111931887,
          -0.36738707307769375,
          0.7472144095556358,
          2.272295759735388,
          0.877225373172687,
          -0.4378174124395575,
          -1.1585312621617012
         ]
        },
        {
         "line": {
          "color": "rgba(50, 171, 96, 1.0)",
          "dash": "solid",
          "shape": "linear",
          "width": 1.3
         },
         "mode": "lines",
         "name": "C",
         "text": "",
         "type": "scatter",
         "x": [
          0,
          1,
          2,
          3,
          4,
          5,
          6,
          7,
          8,
          9,
          10,
          11,
          12,
          13,
          14,
          15,
          16,
          17,
          18,
          19,
          20,
          21,
          22,
          23,
          24,
          25,
          26,
          27,
          28,
          29,
          30,
          31,
          32,
          33,
          34,
          35,
          36,
          37,
          38,
          39,
          40,
          41,
          42,
          43,
          44,
          45,
          46,
          47,
          48,
          49,
          50,
          51,
          52,
          53,
          54,
          55,
          56,
          57,
          58,
          59,
          60,
          61,
          62,
          63,
          64,
          65,
          66,
          67,
          68,
          69,
          70,
          71,
          72,
          73,
          74,
          75,
          76,
          77,
          78,
          79,
          80,
          81,
          82,
          83,
          84,
          85,
          86,
          87,
          88,
          89,
          90,
          91,
          92,
          93,
          94,
          95,
          96,
          97,
          98,
          99
         ],
         "y": [
          -0.18464066753779282,
          -1.837509230436605,
          -1.428226235955854,
          -0.19269172454292138,
          -0.09861805876725806,
          -0.6270474301800498,
          -0.07744172305750369,
          -1.3171709649992867,
          0.3896777388807655,
          -0.43291268819866346,
          -1.4752633555225647,
          0.6205395497448952,
          0.26174678012019625,
          0.01079237860016229,
          -0.2932546818019788,
          -0.48818618846841627,
          0.5617576021169364,
          -0.10709881717918422,
          1.1519827392437467,
          0.9003224007732287,
          -1.5676773430795874,
          0.6894923534228223,
          1.4037403210797081,
          -1.51277369058372,
          -0.1508289354292569,
          -1.4432952379527717,
          0.5570755511116148,
          0.14900020795773572,
          -1.0001189121750071,
          -1.3044512140273399,
          0.3862759814637888,
          -0.4188065597005142,
          0.6122983282252088,
          -0.45022406204096216,
          0.9024150719815782,
          0.32213695888356175,
          -0.15675623893701282,
          0.8809068586130961,
          1.053099326359383,
          -0.318492866646178,
          -0.0076614351279544884,
          0.7126223385047062,
          -0.014602804125976686,
          -1.1595424459621422,
          0.8417691791674425,
          -0.19056738474754467,
          2.0412416781683436,
          1.0076319937541325,
          0.7837616214918188,
          0.18988887593466647,
          -0.8149264277747987,
          0.03359639349157924,
          0.44510793187142755,
          0.8045401623710499,
          1.3954190768525638,
          -0.29477428779041814,
          -1.780670974511907,
          0.8199538360869015,
          0.1501494594895702,
          -1.2428346796666963,
          -0.9933306702583978,
          -0.22839952302186403,
          -0.18970102502483172,
          0.48491976220493826,
          0.9357894463118495,
          -1.0560773276372402,
          0.6605859438226847,
          0.8164952220723438,
          0.24509061408222765,
          -0.047949085699612044,
          -0.4730271905747123,
          1.0818437167773567,
          0.18090244215906,
          0.5167874447229025,
          -0.7461192427167384,
          1.104831725043291,
          2.6374468148273453,
          -0.6262404970069213,
          -0.3409569593914698,
          0.2967846166705076,
          0.6172402964404274,
          1.051005691693931,
          1.2841478727772049,
          1.2101133641665631,
          -0.6929839670049587,
          1.328023523948433,
          -0.08738999598215914,
          -1.2842310481852168,
          -0.277226890455086,
          -2.021620617412835,
          0.36565077821684056,
          -0.9215339827069383,
          3.2246408543883303,
          0.9952976646593267,
          0.011044725316802291,
          1.5643094453430852,
          -1.1147105963937614,
          0.6144647744747028,
          -2.008129911047966,
          1.940990359664634
         ]
        },
        {
         "line": {
          "color": "rgba(128, 0, 128, 1.0)",
          "dash": "solid",
          "shape": "linear",
          "width": 1.3
         },
         "mode": "lines",
         "name": "D",
         "text": "",
         "type": "scatter",
         "x": [
          0,
          1,
          2,
          3,
          4,
          5,
          6,
          7,
          8,
          9,
          10,
          11,
          12,
          13,
          14,
          15,
          16,
          17,
          18,
          19,
          20,
          21,
          22,
          23,
          24,
          25,
          26,
          27,
          28,
          29,
          30,
          31,
          32,
          33,
          34,
          35,
          36,
          37,
          38,
          39,
          40,
          41,
          42,
          43,
          44,
          45,
          46,
          47,
          48,
          49,
          50,
          51,
          52,
          53,
          54,
          55,
          56,
          57,
          58,
          59,
          60,
          61,
          62,
          63,
          64,
          65,
          66,
          67,
          68,
          69,
          70,
          71,
          72,
          73,
          74,
          75,
          76,
          77,
          78,
          79,
          80,
          81,
          82,
          83,
          84,
          85,
          86,
          87,
          88,
          89,
          90,
          91,
          92,
          93,
          94,
          95,
          96,
          97,
          98,
          99
         ],
         "y": [
          -0.08512206312857473,
          1.486407132031537,
          0.1887236175934673,
          -0.6587370788072245,
          0.8021640273677891,
          0.5443892263293457,
          0.20834514920619607,
          -0.07206935499983638,
          -0.26818936472631943,
          0.14810415004951727,
          -0.558910061751106,
          -1.2361499328435568,
          -0.6171150192321198,
          -0.6312618538076438,
          -0.38342528640093754,
          -1.1290014540447832,
          0.23905590971250462,
          -1.2902692411105796,
          1.6632798496327437,
          -0.035330081775259224,
          0.10073442495879993,
          2.0346952555840487,
          -0.6195135593211537,
          1.4765246380232582,
          1.7228897117841506,
          1.5394984261152216,
          0.6476726909051266,
          -0.5015479486651164,
          0.8778301434127571,
          0.1653730231310223,
          0.8597597904792134,
          1.2557685621328203,
          -1.677002311724053,
          -0.27642368508153675,
          -0.3733767434475656,
          -1.0063910776785316,
          0.03496993723532587,
          0.981777137735842,
          -0.4273572629003103,
          0.6760994725892184,
          -0.6277173191994817,
          0.14374538023070144,
          1.1023037704136809,
          0.39365451494717063,
          -0.13524838032017725,
          0.4652095890846506,
          0.10193721841647994,
          0.6314232804944321,
          -0.021969475349004307,
          2.6869789741262293,
          0.7763693310873739,
          1.8959559797534367,
          0.5808260466765565,
          -0.20287578750962781,
          1.6669053047351992,
          1.569415295256676,
          0.6469816481578303,
          0.9091471095088757,
          -0.42699564666425743,
          -1.6585842658061019,
          1.005712753595606,
          1.2298763821171592,
          -0.05502666707050185,
          -0.03903247214908511,
          -1.0556162689302442,
          -0.5463356036243555,
          -1.6557532965774253,
          -0.29611176119413807,
          0.47500785671078954,
          -0.4116662152492864,
          0.6800303562998444,
          1.4451912367366986,
          -1.2242056864119761,
          1.2079089216920498,
          -0.9627138431084818,
          -0.7173767763805619,
          -0.4552075860149596,
          -0.006063658365125847,
          1.6702570707356326,
          -0.1985989829236588,
          0.06420722035318865,
          -0.3979436277761738,
          -0.2517310168970227,
          2.8531515695969056,
          0.699188101188425,
          -0.08285848283918196,
          1.2288750254001923,
          -1.084786027751436,
          -0.27032731793271364,
          0.6757470731006939,
          -1.8120325092008889,
          -1.019320251168823,
          -0.31185859127294063,
          -1.4994503096134124,
          0.3907580059865929,
          1.0616677694035255,
          -1.7278263238982272,
          1.6384475295921113,
          -0.5737770052559245,
          0.7716445727847083
         ]
        }
       ],
       "layout": {
        "legend": {
         "bgcolor": "#F5F6F9",
         "font": {
          "color": "#4D5663"
         }
        },
        "paper_bgcolor": "#F5F6F9",
        "plot_bgcolor": "#F5F6F9",
        "template": {
         "data": {
          "bar": [
           {
            "error_x": {
             "color": "#2a3f5f"
            },
            "error_y": {
             "color": "#2a3f5f"
            },
            "marker": {
             "line": {
              "color": "#E5ECF6",
              "width": 0.5
             },
             "pattern": {
              "fillmode": "overlay",
              "size": 10,
              "solidity": 0.2
             }
            },
            "type": "bar"
           }
          ],
          "barpolar": [
           {
            "marker": {
             "line": {
              "color": "#E5ECF6",
              "width": 0.5
             },
             "pattern": {
              "fillmode": "overlay",
              "size": 10,
              "solidity": 0.2
             }
            },
            "type": "barpolar"
           }
          ],
          "carpet": [
           {
            "aaxis": {
             "endlinecolor": "#2a3f5f",
             "gridcolor": "white",
             "linecolor": "white",
             "minorgridcolor": "white",
             "startlinecolor": "#2a3f5f"
            },
            "baxis": {
             "endlinecolor": "#2a3f5f",
             "gridcolor": "white",
             "linecolor": "white",
             "minorgridcolor": "white",
             "startlinecolor": "#2a3f5f"
            },
            "type": "carpet"
           }
          ],
          "choropleth": [
           {
            "colorbar": {
             "outlinewidth": 0,
             "ticks": ""
            },
            "type": "choropleth"
           }
          ],
          "contour": [
           {
            "colorbar": {
             "outlinewidth": 0,
             "ticks": ""
            },
            "colorscale": [
             [
              0,
              "#0d0887"
             ],
             [
              0.1111111111111111,
              "#46039f"
             ],
             [
              0.2222222222222222,
              "#7201a8"
             ],
             [
              0.3333333333333333,
              "#9c179e"
             ],
             [
              0.4444444444444444,
              "#bd3786"
             ],
             [
              0.5555555555555556,
              "#d8576b"
             ],
             [
              0.6666666666666666,
              "#ed7953"
             ],
             [
              0.7777777777777778,
              "#fb9f3a"
             ],
             [
              0.8888888888888888,
              "#fdca26"
             ],
             [
              1,
              "#f0f921"
             ]
            ],
            "type": "contour"
           }
          ],
          "contourcarpet": [
           {
            "colorbar": {
             "outlinewidth": 0,
             "ticks": ""
            },
            "type": "contourcarpet"
           }
          ],
          "heatmap": [
           {
            "colorbar": {
             "outlinewidth": 0,
             "ticks": ""
            },
            "colorscale": [
             [
              0,
              "#0d0887"
             ],
             [
              0.1111111111111111,
              "#46039f"
             ],
             [
              0.2222222222222222,
              "#7201a8"
             ],
             [
              0.3333333333333333,
              "#9c179e"
             ],
             [
              0.4444444444444444,
              "#bd3786"
             ],
             [
              0.5555555555555556,
              "#d8576b"
             ],
             [
              0.6666666666666666,
              "#ed7953"
             ],
             [
              0.7777777777777778,
              "#fb9f3a"
             ],
             [
              0.8888888888888888,
              "#fdca26"
             ],
             [
              1,
              "#f0f921"
             ]
            ],
            "type": "heatmap"
           }
          ],
          "heatmapgl": [
           {
            "colorbar": {
             "outlinewidth": 0,
             "ticks": ""
            },
            "colorscale": [
             [
              0,
              "#0d0887"
             ],
             [
              0.1111111111111111,
              "#46039f"
             ],
             [
              0.2222222222222222,
              "#7201a8"
             ],
             [
              0.3333333333333333,
              "#9c179e"
             ],
             [
              0.4444444444444444,
              "#bd3786"
             ],
             [
              0.5555555555555556,
              "#d8576b"
             ],
             [
              0.6666666666666666,
              "#ed7953"
             ],
             [
              0.7777777777777778,
              "#fb9f3a"
             ],
             [
              0.8888888888888888,
              "#fdca26"
             ],
             [
              1,
              "#f0f921"
             ]
            ],
            "type": "heatmapgl"
           }
          ],
          "histogram": [
           {
            "marker": {
             "pattern": {
              "fillmode": "overlay",
              "size": 10,
              "solidity": 0.2
             }
            },
            "type": "histogram"
           }
          ],
          "histogram2d": [
           {
            "colorbar": {
             "outlinewidth": 0,
             "ticks": ""
            },
            "colorscale": [
             [
              0,
              "#0d0887"
             ],
             [
              0.1111111111111111,
              "#46039f"
             ],
             [
              0.2222222222222222,
              "#7201a8"
             ],
             [
              0.3333333333333333,
              "#9c179e"
             ],
             [
              0.4444444444444444,
              "#bd3786"
             ],
             [
              0.5555555555555556,
              "#d8576b"
             ],
             [
              0.6666666666666666,
              "#ed7953"
             ],
             [
              0.7777777777777778,
              "#fb9f3a"
             ],
             [
              0.8888888888888888,
              "#fdca26"
             ],
             [
              1,
              "#f0f921"
             ]
            ],
            "type": "histogram2d"
           }
          ],
          "histogram2dcontour": [
           {
            "colorbar": {
             "outlinewidth": 0,
             "ticks": ""
            },
            "colorscale": [
             [
              0,
              "#0d0887"
             ],
             [
              0.1111111111111111,
              "#46039f"
             ],
             [
              0.2222222222222222,
              "#7201a8"
             ],
             [
              0.3333333333333333,
              "#9c179e"
             ],
             [
              0.4444444444444444,
              "#bd3786"
             ],
             [
              0.5555555555555556,
              "#d8576b"
             ],
             [
              0.6666666666666666,
              "#ed7953"
             ],
             [
              0.7777777777777778,
              "#fb9f3a"
             ],
             [
              0.8888888888888888,
              "#fdca26"
             ],
             [
              1,
              "#f0f921"
             ]
            ],
            "type": "histogram2dcontour"
           }
          ],
          "mesh3d": [
           {
            "colorbar": {
             "outlinewidth": 0,
             "ticks": ""
            },
            "type": "mesh3d"
           }
          ],
          "parcoords": [
           {
            "line": {
             "colorbar": {
              "outlinewidth": 0,
              "ticks": ""
             }
            },
            "type": "parcoords"
           }
          ],
          "pie": [
           {
            "automargin": true,
            "type": "pie"
           }
          ],
          "scatter": [
           {
            "fillpattern": {
             "fillmode": "overlay",
             "size": 10,
             "solidity": 0.2
            },
            "type": "scatter"
           }
          ],
          "scatter3d": [
           {
            "line": {
             "colorbar": {
              "outlinewidth": 0,
              "ticks": ""
             }
            },
            "marker": {
             "colorbar": {
              "outlinewidth": 0,
              "ticks": ""
             }
            },
            "type": "scatter3d"
           }
          ],
          "scattercarpet": [
           {
            "marker": {
             "colorbar": {
              "outlinewidth": 0,
              "ticks": ""
             }
            },
            "type": "scattercarpet"
           }
          ],
          "scattergeo": [
           {
            "marker": {
             "colorbar": {
              "outlinewidth": 0,
              "ticks": ""
             }
            },
            "type": "scattergeo"
           }
          ],
          "scattergl": [
           {
            "marker": {
             "colorbar": {
              "outlinewidth": 0,
              "ticks": ""
             }
            },
            "type": "scattergl"
           }
          ],
          "scattermapbox": [
           {
            "marker": {
             "colorbar": {
              "outlinewidth": 0,
              "ticks": ""
             }
            },
            "type": "scattermapbox"
           }
          ],
          "scatterpolar": [
           {
            "marker": {
             "colorbar": {
              "outlinewidth": 0,
              "ticks": ""
             }
            },
            "type": "scatterpolar"
           }
          ],
          "scatterpolargl": [
           {
            "marker": {
             "colorbar": {
              "outlinewidth": 0,
              "ticks": ""
             }
            },
            "type": "scatterpolargl"
           }
          ],
          "scatterternary": [
           {
            "marker": {
             "colorbar": {
              "outlinewidth": 0,
              "ticks": ""
             }
            },
            "type": "scatterternary"
           }
          ],
          "surface": [
           {
            "colorbar": {
             "outlinewidth": 0,
             "ticks": ""
            },
            "colorscale": [
             [
              0,
              "#0d0887"
             ],
             [
              0.1111111111111111,
              "#46039f"
             ],
             [
              0.2222222222222222,
              "#7201a8"
             ],
             [
              0.3333333333333333,
              "#9c179e"
             ],
             [
              0.4444444444444444,
              "#bd3786"
             ],
             [
              0.5555555555555556,
              "#d8576b"
             ],
             [
              0.6666666666666666,
              "#ed7953"
             ],
             [
              0.7777777777777778,
              "#fb9f3a"
             ],
             [
              0.8888888888888888,
              "#fdca26"
             ],
             [
              1,
              "#f0f921"
             ]
            ],
            "type": "surface"
           }
          ],
          "table": [
           {
            "cells": {
             "fill": {
              "color": "#EBF0F8"
             },
             "line": {
              "color": "white"
             }
            },
            "header": {
             "fill": {
              "color": "#C8D4E3"
             },
             "line": {
              "color": "white"
             }
            },
            "type": "table"
           }
          ]
         },
         "layout": {
          "annotationdefaults": {
           "arrowcolor": "#2a3f5f",
           "arrowhead": 0,
           "arrowwidth": 1
          },
          "autotypenumbers": "strict",
          "coloraxis": {
           "colorbar": {
            "outlinewidth": 0,
            "ticks": ""
           }
          },
          "colorscale": {
           "diverging": [
            [
             0,
             "#8e0152"
            ],
            [
             0.1,
             "#c51b7d"
            ],
            [
             0.2,
             "#de77ae"
            ],
            [
             0.3,
             "#f1b6da"
            ],
            [
             0.4,
             "#fde0ef"
            ],
            [
             0.5,
             "#f7f7f7"
            ],
            [
             0.6,
             "#e6f5d0"
            ],
            [
             0.7,
             "#b8e186"
            ],
            [
             0.8,
             "#7fbc41"
            ],
            [
             0.9,
             "#4d9221"
            ],
            [
             1,
             "#276419"
            ]
           ],
           "sequential": [
            [
             0,
             "#0d0887"
            ],
            [
             0.1111111111111111,
             "#46039f"
            ],
            [
             0.2222222222222222,
             "#7201a8"
            ],
            [
             0.3333333333333333,
             "#9c179e"
            ],
            [
             0.4444444444444444,
             "#bd3786"
            ],
            [
             0.5555555555555556,
             "#d8576b"
            ],
            [
             0.6666666666666666,
             "#ed7953"
            ],
            [
             0.7777777777777778,
             "#fb9f3a"
            ],
            [
             0.8888888888888888,
             "#fdca26"
            ],
            [
             1,
             "#f0f921"
            ]
           ],
           "sequentialminus": [
            [
             0,
             "#0d0887"
            ],
            [
             0.1111111111111111,
             "#46039f"
            ],
            [
             0.2222222222222222,
             "#7201a8"
            ],
            [
             0.3333333333333333,
             "#9c179e"
            ],
            [
             0.4444444444444444,
             "#bd3786"
            ],
            [
             0.5555555555555556,
             "#d8576b"
            ],
            [
             0.6666666666666666,
             "#ed7953"
            ],
            [
             0.7777777777777778,
             "#fb9f3a"
            ],
            [
             0.8888888888888888,
             "#fdca26"
            ],
            [
             1,
             "#f0f921"
            ]
           ]
          },
          "colorway": [
           "#636efa",
           "#EF553B",
           "#00cc96",
           "#ab63fa",
           "#FFA15A",
           "#19d3f3",
           "#FF6692",
           "#B6E880",
           "#FF97FF",
           "#FECB52"
          ],
          "font": {
           "color": "#2a3f5f"
          },
          "geo": {
           "bgcolor": "white",
           "lakecolor": "white",
           "landcolor": "#E5ECF6",
           "showlakes": true,
           "showland": true,
           "subunitcolor": "white"
          },
          "hoverlabel": {
           "align": "left"
          },
          "hovermode": "closest",
          "mapbox": {
           "style": "light"
          },
          "paper_bgcolor": "white",
          "plot_bgcolor": "#E5ECF6",
          "polar": {
           "angularaxis": {
            "gridcolor": "white",
            "linecolor": "white",
            "ticks": ""
           },
           "bgcolor": "#E5ECF6",
           "radialaxis": {
            "gridcolor": "white",
            "linecolor": "white",
            "ticks": ""
           }
          },
          "scene": {
           "xaxis": {
            "backgroundcolor": "#E5ECF6",
            "gridcolor": "white",
            "gridwidth": 2,
            "linecolor": "white",
            "showbackground": true,
            "ticks": "",
            "zerolinecolor": "white"
           },
           "yaxis": {
            "backgroundcolor": "#E5ECF6",
            "gridcolor": "white",
            "gridwidth": 2,
            "linecolor": "white",
            "showbackground": true,
            "ticks": "",
            "zerolinecolor": "white"
           },
           "zaxis": {
            "backgroundcolor": "#E5ECF6",
            "gridcolor": "white",
            "gridwidth": 2,
            "linecolor": "white",
            "showbackground": true,
            "ticks": "",
            "zerolinecolor": "white"
           }
          },
          "shapedefaults": {
           "line": {
            "color": "#2a3f5f"
           }
          },
          "ternary": {
           "aaxis": {
            "gridcolor": "white",
            "linecolor": "white",
            "ticks": ""
           },
           "baxis": {
            "gridcolor": "white",
            "linecolor": "white",
            "ticks": ""
           },
           "bgcolor": "#E5ECF6",
           "caxis": {
            "gridcolor": "white",
            "linecolor": "white",
            "ticks": ""
           }
          },
          "title": {
           "x": 0.05
          },
          "xaxis": {
           "automargin": true,
           "gridcolor": "white",
           "linecolor": "white",
           "ticks": "",
           "title": {
            "standoff": 15
           },
           "zerolinecolor": "white",
           "zerolinewidth": 2
          },
          "yaxis": {
           "automargin": true,
           "gridcolor": "white",
           "linecolor": "white",
           "ticks": "",
           "title": {
            "standoff": 15
           },
           "zerolinecolor": "white",
           "zerolinewidth": 2
          }
         }
        },
        "title": {
         "font": {
          "color": "#4D5663"
         }
        },
        "xaxis": {
         "gridcolor": "#E1E5ED",
         "showgrid": true,
         "tickfont": {
          "color": "#4D5663"
         },
         "title": {
          "font": {
           "color": "#4D5663"
          },
          "text": ""
         },
         "zerolinecolor": "#E1E5ED"
        },
        "yaxis": {
         "gridcolor": "#E1E5ED",
         "showgrid": true,
         "tickfont": {
          "color": "#4D5663"
         },
         "title": {
          "font": {
           "color": "#4D5663"
          },
          "text": ""
         },
         "zerolinecolor": "#E1E5ED"
        }
       }
      },
      "text/html": [
       "<div>                            <div id=\"b8956d55-28d6-4d14-8fa6-013c9ae5bf28\" class=\"plotly-graph-div\" style=\"height:525px; width:100%;\"></div>            <script type=\"text/javascript\">                require([\"plotly\"], function(Plotly) {                    window.PLOTLYENV=window.PLOTLYENV || {};\n",
       "                    window.PLOTLYENV.BASE_URL='https://plot.ly';                                    if (document.getElementById(\"b8956d55-28d6-4d14-8fa6-013c9ae5bf28\")) {                    Plotly.newPlot(                        \"b8956d55-28d6-4d14-8fa6-013c9ae5bf28\",                        [{\"line\":{\"color\":\"rgba(255, 153, 51, 1.0)\",\"dash\":\"solid\",\"shape\":\"linear\",\"width\":1.3},\"mode\":\"lines\",\"name\":\"A\",\"text\":\"\",\"x\":[0,1,2,3,4,5,6,7,8,9,10,11,12,13,14,15,16,17,18,19,20,21,22,23,24,25,26,27,28,29,30,31,32,33,34,35,36,37,38,39,40,41,42,43,44,45,46,47,48,49,50,51,52,53,54,55,56,57,58,59,60,61,62,63,64,65,66,67,68,69,70,71,72,73,74,75,76,77,78,79,80,81,82,83,84,85,86,87,88,89,90,91,92,93,94,95,96,97,98,99],\"y\":[0.9634623893766167,-0.12055224845819004,0.25008154086228296,-0.5013143806434255,0.1292844937472286,0.4044071864470786,-2.0771930414556183,-0.020426006358398602,0.3849191710124318,0.879707817390476,-0.9431858876910261,-0.7490253238236118,0.5924697035901231,-1.3940933638268622,-0.5719377462453421,0.0075937045045873,-1.4481325040064896,0.21700524462166149,-0.1395825213548501,-0.24991568489512242,0.29452568252983163,-0.7905644371689067,-0.2997690889834603,0.21384176348726486,0.08658516570981084,0.7454032185178966,-0.6281603258099894,0.46180435642701845,-0.4178004985683218,-0.35630133871786407,-1.2112066150479495,-0.9726056889327593,-0.1005023860363253,1.0040648633325953,-1.0629923769941325,2.47531773691314,-0.04824382074826237,1.7025776795476604,-1.236548662174602,0.39866376082116467,1.333415614245502,0.0766655986802566,-0.33317061992034,-0.07328513704307903,0.37972060484157116,0.6522436929759483,0.8908762959506643,-0.41150485447839996,-0.3911042477094948,-1.7445372379275699,0.023978803372944477,-0.17442305395410349,0.25819460285665935,0.4944620618569529,-0.5834284135317452,-0.3240544301618898,-1.5444815784266575,-0.4776289313257464,0.06945397679857637,-0.4278386106429362,1.2522658559296482,-0.8812452740221121,-0.8221355096056416,-0.18782134308689513,1.8206332470536457,-0.6879560063978835,1.241741050078539,-2.7408858865027486,-0.4980842707106779,-0.9645117851028521,-0.12349607696101607,0.14719778655961077,-0.3022218597739041,0.6471150042134444,0.4721020856800413,-1.0353926818229156,1.3229382115515267,-1.2156788535049665,0.7614711874891931,-0.9013858317983743,-1.003047554190563,1.1696861418828624,0.0390968088724639,-0.4260054156967536,1.091606297176759,1.2036536169313206,-0.4427686249514626,1.4585873222111359,-0.270091310882172,0.17838137496146925,1.1533524775428632,0.5561949849702105,0.18208084487524875,0.26219091894703034,0.7582266638205611,0.3703636490699679,-0.5948913443755864,0.34613627097324257,0.07431556715271147,-1.2472512715902513],\"type\":\"scatter\"},{\"line\":{\"color\":\"rgba(55, 128, 191, 1.0)\",\"dash\":\"solid\",\"shape\":\"linear\",\"width\":1.3},\"mode\":\"lines\",\"name\":\"B\",\"text\":\"\",\"x\":[0,1,2,3,4,5,6,7,8,9,10,11,12,13,14,15,16,17,18,19,20,21,22,23,24,25,26,27,28,29,30,31,32,33,34,35,36,37,38,39,40,41,42,43,44,45,46,47,48,49,50,51,52,53,54,55,56,57,58,59,60,61,62,63,64,65,66,67,68,69,70,71,72,73,74,75,76,77,78,79,80,81,82,83,84,85,86,87,88,89,90,91,92,93,94,95,96,97,98,99],\"y\":[-0.09147954299523928,-1.7385508624690544,0.9221586878268342,-1.0931631569009221,0.3314050081963957,-1.6860350043840182,0.12957115351750878,0.5282594700664602,-1.724213141676408,-0.5551485134413877,0.01099836125675915,-1.8479965901671493,1.3048716149407638,-0.47126362237465713,0.30461274408286604,-0.3624930124832195,-0.12427109577985897,1.0458392895428787,-1.0772505081410064,0.956187500896724,-0.5134093195098551,1.003191182736705,1.0054421492812542,0.7444342301762672,0.9717048416109594,-0.5862903672126797,1.1402320163276554,-0.07586206865034092,-1.3020079599314847,-1.5532090620038983,0.8063276508119176,-1.190267123383816,-0.45573398022926986,0.2492173650282826,0.042545897664883724,-0.5394012540380726,-0.8710337885007717,0.27070058032527144,1.502715551599413,-0.6133569085524814,0.7716091967711711,-0.844375266511973,1.014272863942356,1.283227843583457,0.5405202955362597,0.26670175488612397,0.7101520294582939,2.07484318757425,0.6160923809193212,-0.7621923610184558,-0.7409270577875984,-0.8944055555394634,-0.8504280755637271,-1.0335914311595302,2.1436511287416486,0.2941595400966851,-1.2670997292914403,1.6747192059627178,-0.4549685653946752,-1.4261740159930605,0.2860098578963224,-0.6896865460661573,0.058011235562708846,-1.408955244083918,-0.20902752485155054,-0.30808010437819333,-0.22554007253720418,-0.012289759543897499,1.1978357038826355,0.8808992432676263,-0.1577267481768039,-0.7663712262064384,-1.47674134732821,0.48303599341467285,0.7484100962354236,0.6199214404930379,-0.09192405598441374,0.5300093476958286,1.2785791208003725,0.9358425653510516,-0.5925670749165277,-0.20166372582262201,-1.096850817122355,-1.0932450615263414,0.424315413305436,-0.0926162788765071,-0.20069809653638093,0.9772930851080682,0.26386815140631265,1.3874266245301734,-0.9248958944644438,0.17201496834833183,-0.9048757219799238,0.4288879111931887,-0.36738707307769375,0.7472144095556358,2.272295759735388,0.877225373172687,-0.4378174124395575,-1.1585312621617012],\"type\":\"scatter\"},{\"line\":{\"color\":\"rgba(50, 171, 96, 1.0)\",\"dash\":\"solid\",\"shape\":\"linear\",\"width\":1.3},\"mode\":\"lines\",\"name\":\"C\",\"text\":\"\",\"x\":[0,1,2,3,4,5,6,7,8,9,10,11,12,13,14,15,16,17,18,19,20,21,22,23,24,25,26,27,28,29,30,31,32,33,34,35,36,37,38,39,40,41,42,43,44,45,46,47,48,49,50,51,52,53,54,55,56,57,58,59,60,61,62,63,64,65,66,67,68,69,70,71,72,73,74,75,76,77,78,79,80,81,82,83,84,85,86,87,88,89,90,91,92,93,94,95,96,97,98,99],\"y\":[-0.18464066753779282,-1.837509230436605,-1.428226235955854,-0.19269172454292138,-0.09861805876725806,-0.6270474301800498,-0.07744172305750369,-1.3171709649992867,0.3896777388807655,-0.43291268819866346,-1.4752633555225647,0.6205395497448952,0.26174678012019625,0.01079237860016229,-0.2932546818019788,-0.48818618846841627,0.5617576021169364,-0.10709881717918422,1.1519827392437467,0.9003224007732287,-1.5676773430795874,0.6894923534228223,1.4037403210797081,-1.51277369058372,-0.1508289354292569,-1.4432952379527717,0.5570755511116148,0.14900020795773572,-1.0001189121750071,-1.3044512140273399,0.3862759814637888,-0.4188065597005142,0.6122983282252088,-0.45022406204096216,0.9024150719815782,0.32213695888356175,-0.15675623893701282,0.8809068586130961,1.053099326359383,-0.318492866646178,-0.0076614351279544884,0.7126223385047062,-0.014602804125976686,-1.1595424459621422,0.8417691791674425,-0.19056738474754467,2.0412416781683436,1.0076319937541325,0.7837616214918188,0.18988887593466647,-0.8149264277747987,0.03359639349157924,0.44510793187142755,0.8045401623710499,1.3954190768525638,-0.29477428779041814,-1.780670974511907,0.8199538360869015,0.1501494594895702,-1.2428346796666963,-0.9933306702583978,-0.22839952302186403,-0.18970102502483172,0.48491976220493826,0.9357894463118495,-1.0560773276372402,0.6605859438226847,0.8164952220723438,0.24509061408222765,-0.047949085699612044,-0.4730271905747123,1.0818437167773567,0.18090244215906,0.5167874447229025,-0.7461192427167384,1.104831725043291,2.6374468148273453,-0.6262404970069213,-0.3409569593914698,0.2967846166705076,0.6172402964404274,1.051005691693931,1.2841478727772049,1.2101133641665631,-0.6929839670049587,1.328023523948433,-0.08738999598215914,-1.2842310481852168,-0.277226890455086,-2.021620617412835,0.36565077821684056,-0.9215339827069383,3.2246408543883303,0.9952976646593267,0.011044725316802291,1.5643094453430852,-1.1147105963937614,0.6144647744747028,-2.008129911047966,1.940990359664634],\"type\":\"scatter\"},{\"line\":{\"color\":\"rgba(128, 0, 128, 1.0)\",\"dash\":\"solid\",\"shape\":\"linear\",\"width\":1.3},\"mode\":\"lines\",\"name\":\"D\",\"text\":\"\",\"x\":[0,1,2,3,4,5,6,7,8,9,10,11,12,13,14,15,16,17,18,19,20,21,22,23,24,25,26,27,28,29,30,31,32,33,34,35,36,37,38,39,40,41,42,43,44,45,46,47,48,49,50,51,52,53,54,55,56,57,58,59,60,61,62,63,64,65,66,67,68,69,70,71,72,73,74,75,76,77,78,79,80,81,82,83,84,85,86,87,88,89,90,91,92,93,94,95,96,97,98,99],\"y\":[-0.08512206312857473,1.486407132031537,0.1887236175934673,-0.6587370788072245,0.8021640273677891,0.5443892263293457,0.20834514920619607,-0.07206935499983638,-0.26818936472631943,0.14810415004951727,-0.558910061751106,-1.2361499328435568,-0.6171150192321198,-0.6312618538076438,-0.38342528640093754,-1.1290014540447832,0.23905590971250462,-1.2902692411105796,1.6632798496327437,-0.035330081775259224,0.10073442495879993,2.0346952555840487,-0.6195135593211537,1.4765246380232582,1.7228897117841506,1.5394984261152216,0.6476726909051266,-0.5015479486651164,0.8778301434127571,0.1653730231310223,0.8597597904792134,1.2557685621328203,-1.677002311724053,-0.27642368508153675,-0.3733767434475656,-1.0063910776785316,0.03496993723532587,0.981777137735842,-0.4273572629003103,0.6760994725892184,-0.6277173191994817,0.14374538023070144,1.1023037704136809,0.39365451494717063,-0.13524838032017725,0.4652095890846506,0.10193721841647994,0.6314232804944321,-0.021969475349004307,2.6869789741262293,0.7763693310873739,1.8959559797534367,0.5808260466765565,-0.20287578750962781,1.6669053047351992,1.569415295256676,0.6469816481578303,0.9091471095088757,-0.42699564666425743,-1.6585842658061019,1.005712753595606,1.2298763821171592,-0.05502666707050185,-0.03903247214908511,-1.0556162689302442,-0.5463356036243555,-1.6557532965774253,-0.29611176119413807,0.47500785671078954,-0.4116662152492864,0.6800303562998444,1.4451912367366986,-1.2242056864119761,1.2079089216920498,-0.9627138431084818,-0.7173767763805619,-0.4552075860149596,-0.006063658365125847,1.6702570707356326,-0.1985989829236588,0.06420722035318865,-0.3979436277761738,-0.2517310168970227,2.8531515695969056,0.699188101188425,-0.08285848283918196,1.2288750254001923,-1.084786027751436,-0.27032731793271364,0.6757470731006939,-1.8120325092008889,-1.019320251168823,-0.31185859127294063,-1.4994503096134124,0.3907580059865929,1.0616677694035255,-1.7278263238982272,1.6384475295921113,-0.5737770052559245,0.7716445727847083],\"type\":\"scatter\"}],                        {\"legend\":{\"bgcolor\":\"#F5F6F9\",\"font\":{\"color\":\"#4D5663\"}},\"paper_bgcolor\":\"#F5F6F9\",\"plot_bgcolor\":\"#F5F6F9\",\"template\":{\"data\":{\"barpolar\":[{\"marker\":{\"line\":{\"color\":\"#E5ECF6\",\"width\":0.5},\"pattern\":{\"fillmode\":\"overlay\",\"size\":10,\"solidity\":0.2}},\"type\":\"barpolar\"}],\"bar\":[{\"error_x\":{\"color\":\"#2a3f5f\"},\"error_y\":{\"color\":\"#2a3f5f\"},\"marker\":{\"line\":{\"color\":\"#E5ECF6\",\"width\":0.5},\"pattern\":{\"fillmode\":\"overlay\",\"size\":10,\"solidity\":0.2}},\"type\":\"bar\"}],\"carpet\":[{\"aaxis\":{\"endlinecolor\":\"#2a3f5f\",\"gridcolor\":\"white\",\"linecolor\":\"white\",\"minorgridcolor\":\"white\",\"startlinecolor\":\"#2a3f5f\"},\"baxis\":{\"endlinecolor\":\"#2a3f5f\",\"gridcolor\":\"white\",\"linecolor\":\"white\",\"minorgridcolor\":\"white\",\"startlinecolor\":\"#2a3f5f\"},\"type\":\"carpet\"}],\"choropleth\":[{\"colorbar\":{\"outlinewidth\":0,\"ticks\":\"\"},\"type\":\"choropleth\"}],\"contourcarpet\":[{\"colorbar\":{\"outlinewidth\":0,\"ticks\":\"\"},\"type\":\"contourcarpet\"}],\"contour\":[{\"colorbar\":{\"outlinewidth\":0,\"ticks\":\"\"},\"colorscale\":[[0.0,\"#0d0887\"],[0.1111111111111111,\"#46039f\"],[0.2222222222222222,\"#7201a8\"],[0.3333333333333333,\"#9c179e\"],[0.4444444444444444,\"#bd3786\"],[0.5555555555555556,\"#d8576b\"],[0.6666666666666666,\"#ed7953\"],[0.7777777777777778,\"#fb9f3a\"],[0.8888888888888888,\"#fdca26\"],[1.0,\"#f0f921\"]],\"type\":\"contour\"}],\"heatmapgl\":[{\"colorbar\":{\"outlinewidth\":0,\"ticks\":\"\"},\"colorscale\":[[0.0,\"#0d0887\"],[0.1111111111111111,\"#46039f\"],[0.2222222222222222,\"#7201a8\"],[0.3333333333333333,\"#9c179e\"],[0.4444444444444444,\"#bd3786\"],[0.5555555555555556,\"#d8576b\"],[0.6666666666666666,\"#ed7953\"],[0.7777777777777778,\"#fb9f3a\"],[0.8888888888888888,\"#fdca26\"],[1.0,\"#f0f921\"]],\"type\":\"heatmapgl\"}],\"heatmap\":[{\"colorbar\":{\"outlinewidth\":0,\"ticks\":\"\"},\"colorscale\":[[0.0,\"#0d0887\"],[0.1111111111111111,\"#46039f\"],[0.2222222222222222,\"#7201a8\"],[0.3333333333333333,\"#9c179e\"],[0.4444444444444444,\"#bd3786\"],[0.5555555555555556,\"#d8576b\"],[0.6666666666666666,\"#ed7953\"],[0.7777777777777778,\"#fb9f3a\"],[0.8888888888888888,\"#fdca26\"],[1.0,\"#f0f921\"]],\"type\":\"heatmap\"}],\"histogram2dcontour\":[{\"colorbar\":{\"outlinewidth\":0,\"ticks\":\"\"},\"colorscale\":[[0.0,\"#0d0887\"],[0.1111111111111111,\"#46039f\"],[0.2222222222222222,\"#7201a8\"],[0.3333333333333333,\"#9c179e\"],[0.4444444444444444,\"#bd3786\"],[0.5555555555555556,\"#d8576b\"],[0.6666666666666666,\"#ed7953\"],[0.7777777777777778,\"#fb9f3a\"],[0.8888888888888888,\"#fdca26\"],[1.0,\"#f0f921\"]],\"type\":\"histogram2dcontour\"}],\"histogram2d\":[{\"colorbar\":{\"outlinewidth\":0,\"ticks\":\"\"},\"colorscale\":[[0.0,\"#0d0887\"],[0.1111111111111111,\"#46039f\"],[0.2222222222222222,\"#7201a8\"],[0.3333333333333333,\"#9c179e\"],[0.4444444444444444,\"#bd3786\"],[0.5555555555555556,\"#d8576b\"],[0.6666666666666666,\"#ed7953\"],[0.7777777777777778,\"#fb9f3a\"],[0.8888888888888888,\"#fdca26\"],[1.0,\"#f0f921\"]],\"type\":\"histogram2d\"}],\"histogram\":[{\"marker\":{\"pattern\":{\"fillmode\":\"overlay\",\"size\":10,\"solidity\":0.2}},\"type\":\"histogram\"}],\"mesh3d\":[{\"colorbar\":{\"outlinewidth\":0,\"ticks\":\"\"},\"type\":\"mesh3d\"}],\"parcoords\":[{\"line\":{\"colorbar\":{\"outlinewidth\":0,\"ticks\":\"\"}},\"type\":\"parcoords\"}],\"pie\":[{\"automargin\":true,\"type\":\"pie\"}],\"scatter3d\":[{\"line\":{\"colorbar\":{\"outlinewidth\":0,\"ticks\":\"\"}},\"marker\":{\"colorbar\":{\"outlinewidth\":0,\"ticks\":\"\"}},\"type\":\"scatter3d\"}],\"scattercarpet\":[{\"marker\":{\"colorbar\":{\"outlinewidth\":0,\"ticks\":\"\"}},\"type\":\"scattercarpet\"}],\"scattergeo\":[{\"marker\":{\"colorbar\":{\"outlinewidth\":0,\"ticks\":\"\"}},\"type\":\"scattergeo\"}],\"scattergl\":[{\"marker\":{\"colorbar\":{\"outlinewidth\":0,\"ticks\":\"\"}},\"type\":\"scattergl\"}],\"scattermapbox\":[{\"marker\":{\"colorbar\":{\"outlinewidth\":0,\"ticks\":\"\"}},\"type\":\"scattermapbox\"}],\"scatterpolargl\":[{\"marker\":{\"colorbar\":{\"outlinewidth\":0,\"ticks\":\"\"}},\"type\":\"scatterpolargl\"}],\"scatterpolar\":[{\"marker\":{\"colorbar\":{\"outlinewidth\":0,\"ticks\":\"\"}},\"type\":\"scatterpolar\"}],\"scatter\":[{\"fillpattern\":{\"fillmode\":\"overlay\",\"size\":10,\"solidity\":0.2},\"type\":\"scatter\"}],\"scatterternary\":[{\"marker\":{\"colorbar\":{\"outlinewidth\":0,\"ticks\":\"\"}},\"type\":\"scatterternary\"}],\"surface\":[{\"colorbar\":{\"outlinewidth\":0,\"ticks\":\"\"},\"colorscale\":[[0.0,\"#0d0887\"],[0.1111111111111111,\"#46039f\"],[0.2222222222222222,\"#7201a8\"],[0.3333333333333333,\"#9c179e\"],[0.4444444444444444,\"#bd3786\"],[0.5555555555555556,\"#d8576b\"],[0.6666666666666666,\"#ed7953\"],[0.7777777777777778,\"#fb9f3a\"],[0.8888888888888888,\"#fdca26\"],[1.0,\"#f0f921\"]],\"type\":\"surface\"}],\"table\":[{\"cells\":{\"fill\":{\"color\":\"#EBF0F8\"},\"line\":{\"color\":\"white\"}},\"header\":{\"fill\":{\"color\":\"#C8D4E3\"},\"line\":{\"color\":\"white\"}},\"type\":\"table\"}]},\"layout\":{\"annotationdefaults\":{\"arrowcolor\":\"#2a3f5f\",\"arrowhead\":0,\"arrowwidth\":1},\"autotypenumbers\":\"strict\",\"coloraxis\":{\"colorbar\":{\"outlinewidth\":0,\"ticks\":\"\"}},\"colorscale\":{\"diverging\":[[0,\"#8e0152\"],[0.1,\"#c51b7d\"],[0.2,\"#de77ae\"],[0.3,\"#f1b6da\"],[0.4,\"#fde0ef\"],[0.5,\"#f7f7f7\"],[0.6,\"#e6f5d0\"],[0.7,\"#b8e186\"],[0.8,\"#7fbc41\"],[0.9,\"#4d9221\"],[1,\"#276419\"]],\"sequential\":[[0.0,\"#0d0887\"],[0.1111111111111111,\"#46039f\"],[0.2222222222222222,\"#7201a8\"],[0.3333333333333333,\"#9c179e\"],[0.4444444444444444,\"#bd3786\"],[0.5555555555555556,\"#d8576b\"],[0.6666666666666666,\"#ed7953\"],[0.7777777777777778,\"#fb9f3a\"],[0.8888888888888888,\"#fdca26\"],[1.0,\"#f0f921\"]],\"sequentialminus\":[[0.0,\"#0d0887\"],[0.1111111111111111,\"#46039f\"],[0.2222222222222222,\"#7201a8\"],[0.3333333333333333,\"#9c179e\"],[0.4444444444444444,\"#bd3786\"],[0.5555555555555556,\"#d8576b\"],[0.6666666666666666,\"#ed7953\"],[0.7777777777777778,\"#fb9f3a\"],[0.8888888888888888,\"#fdca26\"],[1.0,\"#f0f921\"]]},\"colorway\":[\"#636efa\",\"#EF553B\",\"#00cc96\",\"#ab63fa\",\"#FFA15A\",\"#19d3f3\",\"#FF6692\",\"#B6E880\",\"#FF97FF\",\"#FECB52\"],\"font\":{\"color\":\"#2a3f5f\"},\"geo\":{\"bgcolor\":\"white\",\"lakecolor\":\"white\",\"landcolor\":\"#E5ECF6\",\"showlakes\":true,\"showland\":true,\"subunitcolor\":\"white\"},\"hoverlabel\":{\"align\":\"left\"},\"hovermode\":\"closest\",\"mapbox\":{\"style\":\"light\"},\"paper_bgcolor\":\"white\",\"plot_bgcolor\":\"#E5ECF6\",\"polar\":{\"angularaxis\":{\"gridcolor\":\"white\",\"linecolor\":\"white\",\"ticks\":\"\"},\"bgcolor\":\"#E5ECF6\",\"radialaxis\":{\"gridcolor\":\"white\",\"linecolor\":\"white\",\"ticks\":\"\"}},\"scene\":{\"xaxis\":{\"backgroundcolor\":\"#E5ECF6\",\"gridcolor\":\"white\",\"gridwidth\":2,\"linecolor\":\"white\",\"showbackground\":true,\"ticks\":\"\",\"zerolinecolor\":\"white\"},\"yaxis\":{\"backgroundcolor\":\"#E5ECF6\",\"gridcolor\":\"white\",\"gridwidth\":2,\"linecolor\":\"white\",\"showbackground\":true,\"ticks\":\"\",\"zerolinecolor\":\"white\"},\"zaxis\":{\"backgroundcolor\":\"#E5ECF6\",\"gridcolor\":\"white\",\"gridwidth\":2,\"linecolor\":\"white\",\"showbackground\":true,\"ticks\":\"\",\"zerolinecolor\":\"white\"}},\"shapedefaults\":{\"line\":{\"color\":\"#2a3f5f\"}},\"ternary\":{\"aaxis\":{\"gridcolor\":\"white\",\"linecolor\":\"white\",\"ticks\":\"\"},\"baxis\":{\"gridcolor\":\"white\",\"linecolor\":\"white\",\"ticks\":\"\"},\"bgcolor\":\"#E5ECF6\",\"caxis\":{\"gridcolor\":\"white\",\"linecolor\":\"white\",\"ticks\":\"\"}},\"title\":{\"x\":0.05},\"xaxis\":{\"automargin\":true,\"gridcolor\":\"white\",\"linecolor\":\"white\",\"ticks\":\"\",\"title\":{\"standoff\":15},\"zerolinecolor\":\"white\",\"zerolinewidth\":2},\"yaxis\":{\"automargin\":true,\"gridcolor\":\"white\",\"linecolor\":\"white\",\"ticks\":\"\",\"title\":{\"standoff\":15},\"zerolinecolor\":\"white\",\"zerolinewidth\":2}}},\"title\":{\"font\":{\"color\":\"#4D5663\"}},\"xaxis\":{\"gridcolor\":\"#E1E5ED\",\"showgrid\":true,\"tickfont\":{\"color\":\"#4D5663\"},\"title\":{\"font\":{\"color\":\"#4D5663\"},\"text\":\"\"},\"zerolinecolor\":\"#E1E5ED\"},\"yaxis\":{\"gridcolor\":\"#E1E5ED\",\"showgrid\":true,\"tickfont\":{\"color\":\"#4D5663\"},\"title\":{\"font\":{\"color\":\"#4D5663\"},\"text\":\"\"},\"zerolinecolor\":\"#E1E5ED\"}},                        {\"showLink\": true, \"linkText\": \"Export to plot.ly\", \"plotlyServerURL\": \"https://plot.ly\", \"responsive\": true}                    ).then(function(){\n",
       "                            \n",
       "var gd = document.getElementById('b8956d55-28d6-4d14-8fa6-013c9ae5bf28');\n",
       "var x = new MutationObserver(function (mutations, observer) {{\n",
       "        var display = window.getComputedStyle(gd).display;\n",
       "        if (!display || display === 'none') {{\n",
       "            console.log([gd, 'removed!']);\n",
       "            Plotly.purge(gd);\n",
       "            observer.disconnect();\n",
       "        }}\n",
       "}});\n",
       "\n",
       "// Listen for the removal of the full notebook cells\n",
       "var notebookContainer = gd.closest('#notebook-container');\n",
       "if (notebookContainer) {{\n",
       "    x.observe(notebookContainer, {childList: true});\n",
       "}}\n",
       "\n",
       "// Listen for the clearing of the current output cell\n",
       "var outputEl = gd.closest('.output');\n",
       "if (outputEl) {{\n",
       "    x.observe(outputEl, {childList: true});\n",
       "}}\n",
       "\n",
       "                        })                };                });            </script>        </div>"
      ]
     },
     "metadata": {},
     "output_type": "display_data"
    }
   ],
   "source": [
    "df.iplot()"
   ]
  },
  {
   "cell_type": "code",
   "execution_count": 15,
   "id": "3f1a48e8",
   "metadata": {},
   "outputs": [
    {
     "data": {
      "application/vnd.plotly.v1+json": {
       "config": {
        "linkText": "Export to plot.ly",
        "plotlyServerURL": "https://plot.ly",
        "showLink": true
       },
       "data": [
        {
         "line": {
          "color": "rgba(255, 153, 51, 1.0)",
          "dash": "solid",
          "shape": "linear",
          "width": 1.3
         },
         "mode": "lines",
         "name": "B",
         "text": "",
         "type": "scatter",
         "x": [
          0.9634623893766167,
          -0.12055224845819004,
          0.25008154086228296,
          -0.5013143806434255,
          0.1292844937472286,
          0.4044071864470786,
          -2.0771930414556183,
          -0.020426006358398602,
          0.3849191710124318,
          0.879707817390476,
          -0.9431858876910261,
          -0.7490253238236118,
          0.5924697035901231,
          -1.3940933638268622,
          -0.5719377462453421,
          0.0075937045045873,
          -1.4481325040064896,
          0.21700524462166149,
          -0.1395825213548501,
          -0.24991568489512242,
          0.29452568252983163,
          -0.7905644371689067,
          -0.2997690889834603,
          0.21384176348726486,
          0.08658516570981084,
          0.7454032185178966,
          -0.6281603258099894,
          0.46180435642701845,
          -0.4178004985683218,
          -0.35630133871786407,
          -1.2112066150479495,
          -0.9726056889327593,
          -0.1005023860363253,
          1.0040648633325953,
          -1.0629923769941325,
          2.47531773691314,
          -0.04824382074826237,
          1.7025776795476604,
          -1.236548662174602,
          0.39866376082116467,
          1.333415614245502,
          0.0766655986802566,
          -0.33317061992034,
          -0.07328513704307903,
          0.37972060484157116,
          0.6522436929759483,
          0.8908762959506643,
          -0.41150485447839996,
          -0.3911042477094948,
          -1.7445372379275699,
          0.023978803372944477,
          -0.17442305395410349,
          0.25819460285665935,
          0.4944620618569529,
          -0.5834284135317452,
          -0.3240544301618898,
          -1.5444815784266575,
          -0.4776289313257464,
          0.06945397679857637,
          -0.4278386106429362,
          1.2522658559296482,
          -0.8812452740221121,
          -0.8221355096056416,
          -0.18782134308689513,
          1.8206332470536457,
          -0.6879560063978835,
          1.241741050078539,
          -2.7408858865027486,
          -0.4980842707106779,
          -0.9645117851028521,
          -0.12349607696101607,
          0.14719778655961077,
          -0.3022218597739041,
          0.6471150042134444,
          0.4721020856800413,
          -1.0353926818229156,
          1.3229382115515267,
          -1.2156788535049665,
          0.7614711874891931,
          -0.9013858317983743,
          -1.003047554190563,
          1.1696861418828624,
          0.0390968088724639,
          -0.4260054156967536,
          1.091606297176759,
          1.2036536169313206,
          -0.4427686249514626,
          1.4585873222111359,
          -0.270091310882172,
          0.17838137496146925,
          1.1533524775428632,
          0.5561949849702105,
          0.18208084487524875,
          0.26219091894703034,
          0.7582266638205611,
          0.3703636490699679,
          -0.5948913443755864,
          0.34613627097324257,
          0.07431556715271147,
          -1.2472512715902513
         ],
         "y": [
          -0.09147954299523928,
          -1.7385508624690544,
          0.9221586878268342,
          -1.0931631569009221,
          0.3314050081963957,
          -1.6860350043840182,
          0.12957115351750878,
          0.5282594700664602,
          -1.724213141676408,
          -0.5551485134413877,
          0.01099836125675915,
          -1.8479965901671493,
          1.3048716149407638,
          -0.47126362237465713,
          0.30461274408286604,
          -0.3624930124832195,
          -0.12427109577985897,
          1.0458392895428787,
          -1.0772505081410064,
          0.956187500896724,
          -0.5134093195098551,
          1.003191182736705,
          1.0054421492812542,
          0.7444342301762672,
          0.9717048416109594,
          -0.5862903672126797,
          1.1402320163276554,
          -0.07586206865034092,
          -1.3020079599314847,
          -1.5532090620038983,
          0.8063276508119176,
          -1.190267123383816,
          -0.45573398022926986,
          0.2492173650282826,
          0.042545897664883724,
          -0.5394012540380726,
          -0.8710337885007717,
          0.27070058032527144,
          1.502715551599413,
          -0.6133569085524814,
          0.7716091967711711,
          -0.844375266511973,
          1.014272863942356,
          1.283227843583457,
          0.5405202955362597,
          0.26670175488612397,
          0.7101520294582939,
          2.07484318757425,
          0.6160923809193212,
          -0.7621923610184558,
          -0.7409270577875984,
          -0.8944055555394634,
          -0.8504280755637271,
          -1.0335914311595302,
          2.1436511287416486,
          0.2941595400966851,
          -1.2670997292914403,
          1.6747192059627178,
          -0.4549685653946752,
          -1.4261740159930605,
          0.2860098578963224,
          -0.6896865460661573,
          0.058011235562708846,
          -1.408955244083918,
          -0.20902752485155054,
          -0.30808010437819333,
          -0.22554007253720418,
          -0.012289759543897499,
          1.1978357038826355,
          0.8808992432676263,
          -0.1577267481768039,
          -0.7663712262064384,
          -1.47674134732821,
          0.48303599341467285,
          0.7484100962354236,
          0.6199214404930379,
          -0.09192405598441374,
          0.5300093476958286,
          1.2785791208003725,
          0.9358425653510516,
          -0.5925670749165277,
          -0.20166372582262201,
          -1.096850817122355,
          -1.0932450615263414,
          0.424315413305436,
          -0.0926162788765071,
          -0.20069809653638093,
          0.9772930851080682,
          0.26386815140631265,
          1.3874266245301734,
          -0.9248958944644438,
          0.17201496834833183,
          -0.9048757219799238,
          0.4288879111931887,
          -0.36738707307769375,
          0.7472144095556358,
          2.272295759735388,
          0.877225373172687,
          -0.4378174124395575,
          -1.1585312621617012
         ]
        }
       ],
       "layout": {
        "legend": {
         "bgcolor": "#F5F6F9",
         "font": {
          "color": "#4D5663"
         }
        },
        "paper_bgcolor": "#F5F6F9",
        "plot_bgcolor": "#F5F6F9",
        "template": {
         "data": {
          "bar": [
           {
            "error_x": {
             "color": "#2a3f5f"
            },
            "error_y": {
             "color": "#2a3f5f"
            },
            "marker": {
             "line": {
              "color": "#E5ECF6",
              "width": 0.5
             },
             "pattern": {
              "fillmode": "overlay",
              "size": 10,
              "solidity": 0.2
             }
            },
            "type": "bar"
           }
          ],
          "barpolar": [
           {
            "marker": {
             "line": {
              "color": "#E5ECF6",
              "width": 0.5
             },
             "pattern": {
              "fillmode": "overlay",
              "size": 10,
              "solidity": 0.2
             }
            },
            "type": "barpolar"
           }
          ],
          "carpet": [
           {
            "aaxis": {
             "endlinecolor": "#2a3f5f",
             "gridcolor": "white",
             "linecolor": "white",
             "minorgridcolor": "white",
             "startlinecolor": "#2a3f5f"
            },
            "baxis": {
             "endlinecolor": "#2a3f5f",
             "gridcolor": "white",
             "linecolor": "white",
             "minorgridcolor": "white",
             "startlinecolor": "#2a3f5f"
            },
            "type": "carpet"
           }
          ],
          "choropleth": [
           {
            "colorbar": {
             "outlinewidth": 0,
             "ticks": ""
            },
            "type": "choropleth"
           }
          ],
          "contour": [
           {
            "colorbar": {
             "outlinewidth": 0,
             "ticks": ""
            },
            "colorscale": [
             [
              0,
              "#0d0887"
             ],
             [
              0.1111111111111111,
              "#46039f"
             ],
             [
              0.2222222222222222,
              "#7201a8"
             ],
             [
              0.3333333333333333,
              "#9c179e"
             ],
             [
              0.4444444444444444,
              "#bd3786"
             ],
             [
              0.5555555555555556,
              "#d8576b"
             ],
             [
              0.6666666666666666,
              "#ed7953"
             ],
             [
              0.7777777777777778,
              "#fb9f3a"
             ],
             [
              0.8888888888888888,
              "#fdca26"
             ],
             [
              1,
              "#f0f921"
             ]
            ],
            "type": "contour"
           }
          ],
          "contourcarpet": [
           {
            "colorbar": {
             "outlinewidth": 0,
             "ticks": ""
            },
            "type": "contourcarpet"
           }
          ],
          "heatmap": [
           {
            "colorbar": {
             "outlinewidth": 0,
             "ticks": ""
            },
            "colorscale": [
             [
              0,
              "#0d0887"
             ],
             [
              0.1111111111111111,
              "#46039f"
             ],
             [
              0.2222222222222222,
              "#7201a8"
             ],
             [
              0.3333333333333333,
              "#9c179e"
             ],
             [
              0.4444444444444444,
              "#bd3786"
             ],
             [
              0.5555555555555556,
              "#d8576b"
             ],
             [
              0.6666666666666666,
              "#ed7953"
             ],
             [
              0.7777777777777778,
              "#fb9f3a"
             ],
             [
              0.8888888888888888,
              "#fdca26"
             ],
             [
              1,
              "#f0f921"
             ]
            ],
            "type": "heatmap"
           }
          ],
          "heatmapgl": [
           {
            "colorbar": {
             "outlinewidth": 0,
             "ticks": ""
            },
            "colorscale": [
             [
              0,
              "#0d0887"
             ],
             [
              0.1111111111111111,
              "#46039f"
             ],
             [
              0.2222222222222222,
              "#7201a8"
             ],
             [
              0.3333333333333333,
              "#9c179e"
             ],
             [
              0.4444444444444444,
              "#bd3786"
             ],
             [
              0.5555555555555556,
              "#d8576b"
             ],
             [
              0.6666666666666666,
              "#ed7953"
             ],
             [
              0.7777777777777778,
              "#fb9f3a"
             ],
             [
              0.8888888888888888,
              "#fdca26"
             ],
             [
              1,
              "#f0f921"
             ]
            ],
            "type": "heatmapgl"
           }
          ],
          "histogram": [
           {
            "marker": {
             "pattern": {
              "fillmode": "overlay",
              "size": 10,
              "solidity": 0.2
             }
            },
            "type": "histogram"
           }
          ],
          "histogram2d": [
           {
            "colorbar": {
             "outlinewidth": 0,
             "ticks": ""
            },
            "colorscale": [
             [
              0,
              "#0d0887"
             ],
             [
              0.1111111111111111,
              "#46039f"
             ],
             [
              0.2222222222222222,
              "#7201a8"
             ],
             [
              0.3333333333333333,
              "#9c179e"
             ],
             [
              0.4444444444444444,
              "#bd3786"
             ],
             [
              0.5555555555555556,
              "#d8576b"
             ],
             [
              0.6666666666666666,
              "#ed7953"
             ],
             [
              0.7777777777777778,
              "#fb9f3a"
             ],
             [
              0.8888888888888888,
              "#fdca26"
             ],
             [
              1,
              "#f0f921"
             ]
            ],
            "type": "histogram2d"
           }
          ],
          "histogram2dcontour": [
           {
            "colorbar": {
             "outlinewidth": 0,
             "ticks": ""
            },
            "colorscale": [
             [
              0,
              "#0d0887"
             ],
             [
              0.1111111111111111,
              "#46039f"
             ],
             [
              0.2222222222222222,
              "#7201a8"
             ],
             [
              0.3333333333333333,
              "#9c179e"
             ],
             [
              0.4444444444444444,
              "#bd3786"
             ],
             [
              0.5555555555555556,
              "#d8576b"
             ],
             [
              0.6666666666666666,
              "#ed7953"
             ],
             [
              0.7777777777777778,
              "#fb9f3a"
             ],
             [
              0.8888888888888888,
              "#fdca26"
             ],
             [
              1,
              "#f0f921"
             ]
            ],
            "type": "histogram2dcontour"
           }
          ],
          "mesh3d": [
           {
            "colorbar": {
             "outlinewidth": 0,
             "ticks": ""
            },
            "type": "mesh3d"
           }
          ],
          "parcoords": [
           {
            "line": {
             "colorbar": {
              "outlinewidth": 0,
              "ticks": ""
             }
            },
            "type": "parcoords"
           }
          ],
          "pie": [
           {
            "automargin": true,
            "type": "pie"
           }
          ],
          "scatter": [
           {
            "fillpattern": {
             "fillmode": "overlay",
             "size": 10,
             "solidity": 0.2
            },
            "type": "scatter"
           }
          ],
          "scatter3d": [
           {
            "line": {
             "colorbar": {
              "outlinewidth": 0,
              "ticks": ""
             }
            },
            "marker": {
             "colorbar": {
              "outlinewidth": 0,
              "ticks": ""
             }
            },
            "type": "scatter3d"
           }
          ],
          "scattercarpet": [
           {
            "marker": {
             "colorbar": {
              "outlinewidth": 0,
              "ticks": ""
             }
            },
            "type": "scattercarpet"
           }
          ],
          "scattergeo": [
           {
            "marker": {
             "colorbar": {
              "outlinewidth": 0,
              "ticks": ""
             }
            },
            "type": "scattergeo"
           }
          ],
          "scattergl": [
           {
            "marker": {
             "colorbar": {
              "outlinewidth": 0,
              "ticks": ""
             }
            },
            "type": "scattergl"
           }
          ],
          "scattermapbox": [
           {
            "marker": {
             "colorbar": {
              "outlinewidth": 0,
              "ticks": ""
             }
            },
            "type": "scattermapbox"
           }
          ],
          "scatterpolar": [
           {
            "marker": {
             "colorbar": {
              "outlinewidth": 0,
              "ticks": ""
             }
            },
            "type": "scatterpolar"
           }
          ],
          "scatterpolargl": [
           {
            "marker": {
             "colorbar": {
              "outlinewidth": 0,
              "ticks": ""
             }
            },
            "type": "scatterpolargl"
           }
          ],
          "scatterternary": [
           {
            "marker": {
             "colorbar": {
              "outlinewidth": 0,
              "ticks": ""
             }
            },
            "type": "scatterternary"
           }
          ],
          "surface": [
           {
            "colorbar": {
             "outlinewidth": 0,
             "ticks": ""
            },
            "colorscale": [
             [
              0,
              "#0d0887"
             ],
             [
              0.1111111111111111,
              "#46039f"
             ],
             [
              0.2222222222222222,
              "#7201a8"
             ],
             [
              0.3333333333333333,
              "#9c179e"
             ],
             [
              0.4444444444444444,
              "#bd3786"
             ],
             [
              0.5555555555555556,
              "#d8576b"
             ],
             [
              0.6666666666666666,
              "#ed7953"
             ],
             [
              0.7777777777777778,
              "#fb9f3a"
             ],
             [
              0.8888888888888888,
              "#fdca26"
             ],
             [
              1,
              "#f0f921"
             ]
            ],
            "type": "surface"
           }
          ],
          "table": [
           {
            "cells": {
             "fill": {
              "color": "#EBF0F8"
             },
             "line": {
              "color": "white"
             }
            },
            "header": {
             "fill": {
              "color": "#C8D4E3"
             },
             "line": {
              "color": "white"
             }
            },
            "type": "table"
           }
          ]
         },
         "layout": {
          "annotationdefaults": {
           "arrowcolor": "#2a3f5f",
           "arrowhead": 0,
           "arrowwidth": 1
          },
          "autotypenumbers": "strict",
          "coloraxis": {
           "colorbar": {
            "outlinewidth": 0,
            "ticks": ""
           }
          },
          "colorscale": {
           "diverging": [
            [
             0,
             "#8e0152"
            ],
            [
             0.1,
             "#c51b7d"
            ],
            [
             0.2,
             "#de77ae"
            ],
            [
             0.3,
             "#f1b6da"
            ],
            [
             0.4,
             "#fde0ef"
            ],
            [
             0.5,
             "#f7f7f7"
            ],
            [
             0.6,
             "#e6f5d0"
            ],
            [
             0.7,
             "#b8e186"
            ],
            [
             0.8,
             "#7fbc41"
            ],
            [
             0.9,
             "#4d9221"
            ],
            [
             1,
             "#276419"
            ]
           ],
           "sequential": [
            [
             0,
             "#0d0887"
            ],
            [
             0.1111111111111111,
             "#46039f"
            ],
            [
             0.2222222222222222,
             "#7201a8"
            ],
            [
             0.3333333333333333,
             "#9c179e"
            ],
            [
             0.4444444444444444,
             "#bd3786"
            ],
            [
             0.5555555555555556,
             "#d8576b"
            ],
            [
             0.6666666666666666,
             "#ed7953"
            ],
            [
             0.7777777777777778,
             "#fb9f3a"
            ],
            [
             0.8888888888888888,
             "#fdca26"
            ],
            [
             1,
             "#f0f921"
            ]
           ],
           "sequentialminus": [
            [
             0,
             "#0d0887"
            ],
            [
             0.1111111111111111,
             "#46039f"
            ],
            [
             0.2222222222222222,
             "#7201a8"
            ],
            [
             0.3333333333333333,
             "#9c179e"
            ],
            [
             0.4444444444444444,
             "#bd3786"
            ],
            [
             0.5555555555555556,
             "#d8576b"
            ],
            [
             0.6666666666666666,
             "#ed7953"
            ],
            [
             0.7777777777777778,
             "#fb9f3a"
            ],
            [
             0.8888888888888888,
             "#fdca26"
            ],
            [
             1,
             "#f0f921"
            ]
           ]
          },
          "colorway": [
           "#636efa",
           "#EF553B",
           "#00cc96",
           "#ab63fa",
           "#FFA15A",
           "#19d3f3",
           "#FF6692",
           "#B6E880",
           "#FF97FF",
           "#FECB52"
          ],
          "font": {
           "color": "#2a3f5f"
          },
          "geo": {
           "bgcolor": "white",
           "lakecolor": "white",
           "landcolor": "#E5ECF6",
           "showlakes": true,
           "showland": true,
           "subunitcolor": "white"
          },
          "hoverlabel": {
           "align": "left"
          },
          "hovermode": "closest",
          "mapbox": {
           "style": "light"
          },
          "paper_bgcolor": "white",
          "plot_bgcolor": "#E5ECF6",
          "polar": {
           "angularaxis": {
            "gridcolor": "white",
            "linecolor": "white",
            "ticks": ""
           },
           "bgcolor": "#E5ECF6",
           "radialaxis": {
            "gridcolor": "white",
            "linecolor": "white",
            "ticks": ""
           }
          },
          "scene": {
           "xaxis": {
            "backgroundcolor": "#E5ECF6",
            "gridcolor": "white",
            "gridwidth": 2,
            "linecolor": "white",
            "showbackground": true,
            "ticks": "",
            "zerolinecolor": "white"
           },
           "yaxis": {
            "backgroundcolor": "#E5ECF6",
            "gridcolor": "white",
            "gridwidth": 2,
            "linecolor": "white",
            "showbackground": true,
            "ticks": "",
            "zerolinecolor": "white"
           },
           "zaxis": {
            "backgroundcolor": "#E5ECF6",
            "gridcolor": "white",
            "gridwidth": 2,
            "linecolor": "white",
            "showbackground": true,
            "ticks": "",
            "zerolinecolor": "white"
           }
          },
          "shapedefaults": {
           "line": {
            "color": "#2a3f5f"
           }
          },
          "ternary": {
           "aaxis": {
            "gridcolor": "white",
            "linecolor": "white",
            "ticks": ""
           },
           "baxis": {
            "gridcolor": "white",
            "linecolor": "white",
            "ticks": ""
           },
           "bgcolor": "#E5ECF6",
           "caxis": {
            "gridcolor": "white",
            "linecolor": "white",
            "ticks": ""
           }
          },
          "title": {
           "x": 0.05
          },
          "xaxis": {
           "automargin": true,
           "gridcolor": "white",
           "linecolor": "white",
           "ticks": "",
           "title": {
            "standoff": 15
           },
           "zerolinecolor": "white",
           "zerolinewidth": 2
          },
          "yaxis": {
           "automargin": true,
           "gridcolor": "white",
           "linecolor": "white",
           "ticks": "",
           "title": {
            "standoff": 15
           },
           "zerolinecolor": "white",
           "zerolinewidth": 2
          }
         }
        },
        "title": {
         "font": {
          "color": "#4D5663"
         }
        },
        "xaxis": {
         "gridcolor": "#E1E5ED",
         "showgrid": true,
         "tickfont": {
          "color": "#4D5663"
         },
         "title": {
          "font": {
           "color": "#4D5663"
          },
          "text": ""
         },
         "zerolinecolor": "#E1E5ED"
        },
        "yaxis": {
         "gridcolor": "#E1E5ED",
         "showgrid": true,
         "tickfont": {
          "color": "#4D5663"
         },
         "title": {
          "font": {
           "color": "#4D5663"
          },
          "text": ""
         },
         "zerolinecolor": "#E1E5ED"
        }
       }
      },
      "text/html": [
       "<div>                            <div id=\"2bfb6506-cf3a-4021-88ca-68e7275010f6\" class=\"plotly-graph-div\" style=\"height:525px; width:100%;\"></div>            <script type=\"text/javascript\">                require([\"plotly\"], function(Plotly) {                    window.PLOTLYENV=window.PLOTLYENV || {};\n",
       "                    window.PLOTLYENV.BASE_URL='https://plot.ly';                                    if (document.getElementById(\"2bfb6506-cf3a-4021-88ca-68e7275010f6\")) {                    Plotly.newPlot(                        \"2bfb6506-cf3a-4021-88ca-68e7275010f6\",                        [{\"line\":{\"color\":\"rgba(255, 153, 51, 1.0)\",\"dash\":\"solid\",\"shape\":\"linear\",\"width\":1.3},\"mode\":\"lines\",\"name\":\"B\",\"text\":\"\",\"x\":[0.9634623893766167,-0.12055224845819004,0.25008154086228296,-0.5013143806434255,0.1292844937472286,0.4044071864470786,-2.0771930414556183,-0.020426006358398602,0.3849191710124318,0.879707817390476,-0.9431858876910261,-0.7490253238236118,0.5924697035901231,-1.3940933638268622,-0.5719377462453421,0.0075937045045873,-1.4481325040064896,0.21700524462166149,-0.1395825213548501,-0.24991568489512242,0.29452568252983163,-0.7905644371689067,-0.2997690889834603,0.21384176348726486,0.08658516570981084,0.7454032185178966,-0.6281603258099894,0.46180435642701845,-0.4178004985683218,-0.35630133871786407,-1.2112066150479495,-0.9726056889327593,-0.1005023860363253,1.0040648633325953,-1.0629923769941325,2.47531773691314,-0.04824382074826237,1.7025776795476604,-1.236548662174602,0.39866376082116467,1.333415614245502,0.0766655986802566,-0.33317061992034,-0.07328513704307903,0.37972060484157116,0.6522436929759483,0.8908762959506643,-0.41150485447839996,-0.3911042477094948,-1.7445372379275699,0.023978803372944477,-0.17442305395410349,0.25819460285665935,0.4944620618569529,-0.5834284135317452,-0.3240544301618898,-1.5444815784266575,-0.4776289313257464,0.06945397679857637,-0.4278386106429362,1.2522658559296482,-0.8812452740221121,-0.8221355096056416,-0.18782134308689513,1.8206332470536457,-0.6879560063978835,1.241741050078539,-2.7408858865027486,-0.4980842707106779,-0.9645117851028521,-0.12349607696101607,0.14719778655961077,-0.3022218597739041,0.6471150042134444,0.4721020856800413,-1.0353926818229156,1.3229382115515267,-1.2156788535049665,0.7614711874891931,-0.9013858317983743,-1.003047554190563,1.1696861418828624,0.0390968088724639,-0.4260054156967536,1.091606297176759,1.2036536169313206,-0.4427686249514626,1.4585873222111359,-0.270091310882172,0.17838137496146925,1.1533524775428632,0.5561949849702105,0.18208084487524875,0.26219091894703034,0.7582266638205611,0.3703636490699679,-0.5948913443755864,0.34613627097324257,0.07431556715271147,-1.2472512715902513],\"y\":[-0.09147954299523928,-1.7385508624690544,0.9221586878268342,-1.0931631569009221,0.3314050081963957,-1.6860350043840182,0.12957115351750878,0.5282594700664602,-1.724213141676408,-0.5551485134413877,0.01099836125675915,-1.8479965901671493,1.3048716149407638,-0.47126362237465713,0.30461274408286604,-0.3624930124832195,-0.12427109577985897,1.0458392895428787,-1.0772505081410064,0.956187500896724,-0.5134093195098551,1.003191182736705,1.0054421492812542,0.7444342301762672,0.9717048416109594,-0.5862903672126797,1.1402320163276554,-0.07586206865034092,-1.3020079599314847,-1.5532090620038983,0.8063276508119176,-1.190267123383816,-0.45573398022926986,0.2492173650282826,0.042545897664883724,-0.5394012540380726,-0.8710337885007717,0.27070058032527144,1.502715551599413,-0.6133569085524814,0.7716091967711711,-0.844375266511973,1.014272863942356,1.283227843583457,0.5405202955362597,0.26670175488612397,0.7101520294582939,2.07484318757425,0.6160923809193212,-0.7621923610184558,-0.7409270577875984,-0.8944055555394634,-0.8504280755637271,-1.0335914311595302,2.1436511287416486,0.2941595400966851,-1.2670997292914403,1.6747192059627178,-0.4549685653946752,-1.4261740159930605,0.2860098578963224,-0.6896865460661573,0.058011235562708846,-1.408955244083918,-0.20902752485155054,-0.30808010437819333,-0.22554007253720418,-0.012289759543897499,1.1978357038826355,0.8808992432676263,-0.1577267481768039,-0.7663712262064384,-1.47674134732821,0.48303599341467285,0.7484100962354236,0.6199214404930379,-0.09192405598441374,0.5300093476958286,1.2785791208003725,0.9358425653510516,-0.5925670749165277,-0.20166372582262201,-1.096850817122355,-1.0932450615263414,0.424315413305436,-0.0926162788765071,-0.20069809653638093,0.9772930851080682,0.26386815140631265,1.3874266245301734,-0.9248958944644438,0.17201496834833183,-0.9048757219799238,0.4288879111931887,-0.36738707307769375,0.7472144095556358,2.272295759735388,0.877225373172687,-0.4378174124395575,-1.1585312621617012],\"type\":\"scatter\"}],                        {\"legend\":{\"bgcolor\":\"#F5F6F9\",\"font\":{\"color\":\"#4D5663\"}},\"paper_bgcolor\":\"#F5F6F9\",\"plot_bgcolor\":\"#F5F6F9\",\"template\":{\"data\":{\"barpolar\":[{\"marker\":{\"line\":{\"color\":\"#E5ECF6\",\"width\":0.5},\"pattern\":{\"fillmode\":\"overlay\",\"size\":10,\"solidity\":0.2}},\"type\":\"barpolar\"}],\"bar\":[{\"error_x\":{\"color\":\"#2a3f5f\"},\"error_y\":{\"color\":\"#2a3f5f\"},\"marker\":{\"line\":{\"color\":\"#E5ECF6\",\"width\":0.5},\"pattern\":{\"fillmode\":\"overlay\",\"size\":10,\"solidity\":0.2}},\"type\":\"bar\"}],\"carpet\":[{\"aaxis\":{\"endlinecolor\":\"#2a3f5f\",\"gridcolor\":\"white\",\"linecolor\":\"white\",\"minorgridcolor\":\"white\",\"startlinecolor\":\"#2a3f5f\"},\"baxis\":{\"endlinecolor\":\"#2a3f5f\",\"gridcolor\":\"white\",\"linecolor\":\"white\",\"minorgridcolor\":\"white\",\"startlinecolor\":\"#2a3f5f\"},\"type\":\"carpet\"}],\"choropleth\":[{\"colorbar\":{\"outlinewidth\":0,\"ticks\":\"\"},\"type\":\"choropleth\"}],\"contourcarpet\":[{\"colorbar\":{\"outlinewidth\":0,\"ticks\":\"\"},\"type\":\"contourcarpet\"}],\"contour\":[{\"colorbar\":{\"outlinewidth\":0,\"ticks\":\"\"},\"colorscale\":[[0.0,\"#0d0887\"],[0.1111111111111111,\"#46039f\"],[0.2222222222222222,\"#7201a8\"],[0.3333333333333333,\"#9c179e\"],[0.4444444444444444,\"#bd3786\"],[0.5555555555555556,\"#d8576b\"],[0.6666666666666666,\"#ed7953\"],[0.7777777777777778,\"#fb9f3a\"],[0.8888888888888888,\"#fdca26\"],[1.0,\"#f0f921\"]],\"type\":\"contour\"}],\"heatmapgl\":[{\"colorbar\":{\"outlinewidth\":0,\"ticks\":\"\"},\"colorscale\":[[0.0,\"#0d0887\"],[0.1111111111111111,\"#46039f\"],[0.2222222222222222,\"#7201a8\"],[0.3333333333333333,\"#9c179e\"],[0.4444444444444444,\"#bd3786\"],[0.5555555555555556,\"#d8576b\"],[0.6666666666666666,\"#ed7953\"],[0.7777777777777778,\"#fb9f3a\"],[0.8888888888888888,\"#fdca26\"],[1.0,\"#f0f921\"]],\"type\":\"heatmapgl\"}],\"heatmap\":[{\"colorbar\":{\"outlinewidth\":0,\"ticks\":\"\"},\"colorscale\":[[0.0,\"#0d0887\"],[0.1111111111111111,\"#46039f\"],[0.2222222222222222,\"#7201a8\"],[0.3333333333333333,\"#9c179e\"],[0.4444444444444444,\"#bd3786\"],[0.5555555555555556,\"#d8576b\"],[0.6666666666666666,\"#ed7953\"],[0.7777777777777778,\"#fb9f3a\"],[0.8888888888888888,\"#fdca26\"],[1.0,\"#f0f921\"]],\"type\":\"heatmap\"}],\"histogram2dcontour\":[{\"colorbar\":{\"outlinewidth\":0,\"ticks\":\"\"},\"colorscale\":[[0.0,\"#0d0887\"],[0.1111111111111111,\"#46039f\"],[0.2222222222222222,\"#7201a8\"],[0.3333333333333333,\"#9c179e\"],[0.4444444444444444,\"#bd3786\"],[0.5555555555555556,\"#d8576b\"],[0.6666666666666666,\"#ed7953\"],[0.7777777777777778,\"#fb9f3a\"],[0.8888888888888888,\"#fdca26\"],[1.0,\"#f0f921\"]],\"type\":\"histogram2dcontour\"}],\"histogram2d\":[{\"colorbar\":{\"outlinewidth\":0,\"ticks\":\"\"},\"colorscale\":[[0.0,\"#0d0887\"],[0.1111111111111111,\"#46039f\"],[0.2222222222222222,\"#7201a8\"],[0.3333333333333333,\"#9c179e\"],[0.4444444444444444,\"#bd3786\"],[0.5555555555555556,\"#d8576b\"],[0.6666666666666666,\"#ed7953\"],[0.7777777777777778,\"#fb9f3a\"],[0.8888888888888888,\"#fdca26\"],[1.0,\"#f0f921\"]],\"type\":\"histogram2d\"}],\"histogram\":[{\"marker\":{\"pattern\":{\"fillmode\":\"overlay\",\"size\":10,\"solidity\":0.2}},\"type\":\"histogram\"}],\"mesh3d\":[{\"colorbar\":{\"outlinewidth\":0,\"ticks\":\"\"},\"type\":\"mesh3d\"}],\"parcoords\":[{\"line\":{\"colorbar\":{\"outlinewidth\":0,\"ticks\":\"\"}},\"type\":\"parcoords\"}],\"pie\":[{\"automargin\":true,\"type\":\"pie\"}],\"scatter3d\":[{\"line\":{\"colorbar\":{\"outlinewidth\":0,\"ticks\":\"\"}},\"marker\":{\"colorbar\":{\"outlinewidth\":0,\"ticks\":\"\"}},\"type\":\"scatter3d\"}],\"scattercarpet\":[{\"marker\":{\"colorbar\":{\"outlinewidth\":0,\"ticks\":\"\"}},\"type\":\"scattercarpet\"}],\"scattergeo\":[{\"marker\":{\"colorbar\":{\"outlinewidth\":0,\"ticks\":\"\"}},\"type\":\"scattergeo\"}],\"scattergl\":[{\"marker\":{\"colorbar\":{\"outlinewidth\":0,\"ticks\":\"\"}},\"type\":\"scattergl\"}],\"scattermapbox\":[{\"marker\":{\"colorbar\":{\"outlinewidth\":0,\"ticks\":\"\"}},\"type\":\"scattermapbox\"}],\"scatterpolargl\":[{\"marker\":{\"colorbar\":{\"outlinewidth\":0,\"ticks\":\"\"}},\"type\":\"scatterpolargl\"}],\"scatterpolar\":[{\"marker\":{\"colorbar\":{\"outlinewidth\":0,\"ticks\":\"\"}},\"type\":\"scatterpolar\"}],\"scatter\":[{\"fillpattern\":{\"fillmode\":\"overlay\",\"size\":10,\"solidity\":0.2},\"type\":\"scatter\"}],\"scatterternary\":[{\"marker\":{\"colorbar\":{\"outlinewidth\":0,\"ticks\":\"\"}},\"type\":\"scatterternary\"}],\"surface\":[{\"colorbar\":{\"outlinewidth\":0,\"ticks\":\"\"},\"colorscale\":[[0.0,\"#0d0887\"],[0.1111111111111111,\"#46039f\"],[0.2222222222222222,\"#7201a8\"],[0.3333333333333333,\"#9c179e\"],[0.4444444444444444,\"#bd3786\"],[0.5555555555555556,\"#d8576b\"],[0.6666666666666666,\"#ed7953\"],[0.7777777777777778,\"#fb9f3a\"],[0.8888888888888888,\"#fdca26\"],[1.0,\"#f0f921\"]],\"type\":\"surface\"}],\"table\":[{\"cells\":{\"fill\":{\"color\":\"#EBF0F8\"},\"line\":{\"color\":\"white\"}},\"header\":{\"fill\":{\"color\":\"#C8D4E3\"},\"line\":{\"color\":\"white\"}},\"type\":\"table\"}]},\"layout\":{\"annotationdefaults\":{\"arrowcolor\":\"#2a3f5f\",\"arrowhead\":0,\"arrowwidth\":1},\"autotypenumbers\":\"strict\",\"coloraxis\":{\"colorbar\":{\"outlinewidth\":0,\"ticks\":\"\"}},\"colorscale\":{\"diverging\":[[0,\"#8e0152\"],[0.1,\"#c51b7d\"],[0.2,\"#de77ae\"],[0.3,\"#f1b6da\"],[0.4,\"#fde0ef\"],[0.5,\"#f7f7f7\"],[0.6,\"#e6f5d0\"],[0.7,\"#b8e186\"],[0.8,\"#7fbc41\"],[0.9,\"#4d9221\"],[1,\"#276419\"]],\"sequential\":[[0.0,\"#0d0887\"],[0.1111111111111111,\"#46039f\"],[0.2222222222222222,\"#7201a8\"],[0.3333333333333333,\"#9c179e\"],[0.4444444444444444,\"#bd3786\"],[0.5555555555555556,\"#d8576b\"],[0.6666666666666666,\"#ed7953\"],[0.7777777777777778,\"#fb9f3a\"],[0.8888888888888888,\"#fdca26\"],[1.0,\"#f0f921\"]],\"sequentialminus\":[[0.0,\"#0d0887\"],[0.1111111111111111,\"#46039f\"],[0.2222222222222222,\"#7201a8\"],[0.3333333333333333,\"#9c179e\"],[0.4444444444444444,\"#bd3786\"],[0.5555555555555556,\"#d8576b\"],[0.6666666666666666,\"#ed7953\"],[0.7777777777777778,\"#fb9f3a\"],[0.8888888888888888,\"#fdca26\"],[1.0,\"#f0f921\"]]},\"colorway\":[\"#636efa\",\"#EF553B\",\"#00cc96\",\"#ab63fa\",\"#FFA15A\",\"#19d3f3\",\"#FF6692\",\"#B6E880\",\"#FF97FF\",\"#FECB52\"],\"font\":{\"color\":\"#2a3f5f\"},\"geo\":{\"bgcolor\":\"white\",\"lakecolor\":\"white\",\"landcolor\":\"#E5ECF6\",\"showlakes\":true,\"showland\":true,\"subunitcolor\":\"white\"},\"hoverlabel\":{\"align\":\"left\"},\"hovermode\":\"closest\",\"mapbox\":{\"style\":\"light\"},\"paper_bgcolor\":\"white\",\"plot_bgcolor\":\"#E5ECF6\",\"polar\":{\"angularaxis\":{\"gridcolor\":\"white\",\"linecolor\":\"white\",\"ticks\":\"\"},\"bgcolor\":\"#E5ECF6\",\"radialaxis\":{\"gridcolor\":\"white\",\"linecolor\":\"white\",\"ticks\":\"\"}},\"scene\":{\"xaxis\":{\"backgroundcolor\":\"#E5ECF6\",\"gridcolor\":\"white\",\"gridwidth\":2,\"linecolor\":\"white\",\"showbackground\":true,\"ticks\":\"\",\"zerolinecolor\":\"white\"},\"yaxis\":{\"backgroundcolor\":\"#E5ECF6\",\"gridcolor\":\"white\",\"gridwidth\":2,\"linecolor\":\"white\",\"showbackground\":true,\"ticks\":\"\",\"zerolinecolor\":\"white\"},\"zaxis\":{\"backgroundcolor\":\"#E5ECF6\",\"gridcolor\":\"white\",\"gridwidth\":2,\"linecolor\":\"white\",\"showbackground\":true,\"ticks\":\"\",\"zerolinecolor\":\"white\"}},\"shapedefaults\":{\"line\":{\"color\":\"#2a3f5f\"}},\"ternary\":{\"aaxis\":{\"gridcolor\":\"white\",\"linecolor\":\"white\",\"ticks\":\"\"},\"baxis\":{\"gridcolor\":\"white\",\"linecolor\":\"white\",\"ticks\":\"\"},\"bgcolor\":\"#E5ECF6\",\"caxis\":{\"gridcolor\":\"white\",\"linecolor\":\"white\",\"ticks\":\"\"}},\"title\":{\"x\":0.05},\"xaxis\":{\"automargin\":true,\"gridcolor\":\"white\",\"linecolor\":\"white\",\"ticks\":\"\",\"title\":{\"standoff\":15},\"zerolinecolor\":\"white\",\"zerolinewidth\":2},\"yaxis\":{\"automargin\":true,\"gridcolor\":\"white\",\"linecolor\":\"white\",\"ticks\":\"\",\"title\":{\"standoff\":15},\"zerolinecolor\":\"white\",\"zerolinewidth\":2}}},\"title\":{\"font\":{\"color\":\"#4D5663\"}},\"xaxis\":{\"gridcolor\":\"#E1E5ED\",\"showgrid\":true,\"tickfont\":{\"color\":\"#4D5663\"},\"title\":{\"font\":{\"color\":\"#4D5663\"},\"text\":\"\"},\"zerolinecolor\":\"#E1E5ED\"},\"yaxis\":{\"gridcolor\":\"#E1E5ED\",\"showgrid\":true,\"tickfont\":{\"color\":\"#4D5663\"},\"title\":{\"font\":{\"color\":\"#4D5663\"},\"text\":\"\"},\"zerolinecolor\":\"#E1E5ED\"}},                        {\"showLink\": true, \"linkText\": \"Export to plot.ly\", \"plotlyServerURL\": \"https://plot.ly\", \"responsive\": true}                    ).then(function(){\n",
       "                            \n",
       "var gd = document.getElementById('2bfb6506-cf3a-4021-88ca-68e7275010f6');\n",
       "var x = new MutationObserver(function (mutations, observer) {{\n",
       "        var display = window.getComputedStyle(gd).display;\n",
       "        if (!display || display === 'none') {{\n",
       "            console.log([gd, 'removed!']);\n",
       "            Plotly.purge(gd);\n",
       "            observer.disconnect();\n",
       "        }}\n",
       "}});\n",
       "\n",
       "// Listen for the removal of the full notebook cells\n",
       "var notebookContainer = gd.closest('#notebook-container');\n",
       "if (notebookContainer) {{\n",
       "    x.observe(notebookContainer, {childList: true});\n",
       "}}\n",
       "\n",
       "// Listen for the clearing of the current output cell\n",
       "var outputEl = gd.closest('.output');\n",
       "if (outputEl) {{\n",
       "    x.observe(outputEl, {childList: true});\n",
       "}}\n",
       "\n",
       "                        })                };                });            </script>        </div>"
      ]
     },
     "metadata": {},
     "output_type": "display_data"
    }
   ],
   "source": [
    "df.iplot(kind='scatter', x='A', y='B')"
   ]
  },
  {
   "cell_type": "code",
   "execution_count": 18,
   "id": "5185d421",
   "metadata": {},
   "outputs": [
    {
     "data": {
      "application/vnd.plotly.v1+json": {
       "config": {
        "linkText": "Export to plot.ly",
        "plotlyServerURL": "https://plot.ly",
        "showLink": true
       },
       "data": [
        {
         "line": {
          "color": "rgba(255, 153, 51, 1.0)",
          "dash": "solid",
          "shape": "linear",
          "width": 1.3
         },
         "marker": {
          "size": 12,
          "symbol": "circle"
         },
         "mode": "markers",
         "name": "B",
         "text": "",
         "type": "scatter",
         "x": [
          0.9634623893766167,
          -0.12055224845819004,
          0.25008154086228296,
          -0.5013143806434255,
          0.1292844937472286,
          0.4044071864470786,
          -2.0771930414556183,
          -0.020426006358398602,
          0.3849191710124318,
          0.879707817390476,
          -0.9431858876910261,
          -0.7490253238236118,
          0.5924697035901231,
          -1.3940933638268622,
          -0.5719377462453421,
          0.0075937045045873,
          -1.4481325040064896,
          0.21700524462166149,
          -0.1395825213548501,
          -0.24991568489512242,
          0.29452568252983163,
          -0.7905644371689067,
          -0.2997690889834603,
          0.21384176348726486,
          0.08658516570981084,
          0.7454032185178966,
          -0.6281603258099894,
          0.46180435642701845,
          -0.4178004985683218,
          -0.35630133871786407,
          -1.2112066150479495,
          -0.9726056889327593,
          -0.1005023860363253,
          1.0040648633325953,
          -1.0629923769941325,
          2.47531773691314,
          -0.04824382074826237,
          1.7025776795476604,
          -1.236548662174602,
          0.39866376082116467,
          1.333415614245502,
          0.0766655986802566,
          -0.33317061992034,
          -0.07328513704307903,
          0.37972060484157116,
          0.6522436929759483,
          0.8908762959506643,
          -0.41150485447839996,
          -0.3911042477094948,
          -1.7445372379275699,
          0.023978803372944477,
          -0.17442305395410349,
          0.25819460285665935,
          0.4944620618569529,
          -0.5834284135317452,
          -0.3240544301618898,
          -1.5444815784266575,
          -0.4776289313257464,
          0.06945397679857637,
          -0.4278386106429362,
          1.2522658559296482,
          -0.8812452740221121,
          -0.8221355096056416,
          -0.18782134308689513,
          1.8206332470536457,
          -0.6879560063978835,
          1.241741050078539,
          -2.7408858865027486,
          -0.4980842707106779,
          -0.9645117851028521,
          -0.12349607696101607,
          0.14719778655961077,
          -0.3022218597739041,
          0.6471150042134444,
          0.4721020856800413,
          -1.0353926818229156,
          1.3229382115515267,
          -1.2156788535049665,
          0.7614711874891931,
          -0.9013858317983743,
          -1.003047554190563,
          1.1696861418828624,
          0.0390968088724639,
          -0.4260054156967536,
          1.091606297176759,
          1.2036536169313206,
          -0.4427686249514626,
          1.4585873222111359,
          -0.270091310882172,
          0.17838137496146925,
          1.1533524775428632,
          0.5561949849702105,
          0.18208084487524875,
          0.26219091894703034,
          0.7582266638205611,
          0.3703636490699679,
          -0.5948913443755864,
          0.34613627097324257,
          0.07431556715271147,
          -1.2472512715902513
         ],
         "y": [
          -0.09147954299523928,
          -1.7385508624690544,
          0.9221586878268342,
          -1.0931631569009221,
          0.3314050081963957,
          -1.6860350043840182,
          0.12957115351750878,
          0.5282594700664602,
          -1.724213141676408,
          -0.5551485134413877,
          0.01099836125675915,
          -1.8479965901671493,
          1.3048716149407638,
          -0.47126362237465713,
          0.30461274408286604,
          -0.3624930124832195,
          -0.12427109577985897,
          1.0458392895428787,
          -1.0772505081410064,
          0.956187500896724,
          -0.5134093195098551,
          1.003191182736705,
          1.0054421492812542,
          0.7444342301762672,
          0.9717048416109594,
          -0.5862903672126797,
          1.1402320163276554,
          -0.07586206865034092,
          -1.3020079599314847,
          -1.5532090620038983,
          0.8063276508119176,
          -1.190267123383816,
          -0.45573398022926986,
          0.2492173650282826,
          0.042545897664883724,
          -0.5394012540380726,
          -0.8710337885007717,
          0.27070058032527144,
          1.502715551599413,
          -0.6133569085524814,
          0.7716091967711711,
          -0.844375266511973,
          1.014272863942356,
          1.283227843583457,
          0.5405202955362597,
          0.26670175488612397,
          0.7101520294582939,
          2.07484318757425,
          0.6160923809193212,
          -0.7621923610184558,
          -0.7409270577875984,
          -0.8944055555394634,
          -0.8504280755637271,
          -1.0335914311595302,
          2.1436511287416486,
          0.2941595400966851,
          -1.2670997292914403,
          1.6747192059627178,
          -0.4549685653946752,
          -1.4261740159930605,
          0.2860098578963224,
          -0.6896865460661573,
          0.058011235562708846,
          -1.408955244083918,
          -0.20902752485155054,
          -0.30808010437819333,
          -0.22554007253720418,
          -0.012289759543897499,
          1.1978357038826355,
          0.8808992432676263,
          -0.1577267481768039,
          -0.7663712262064384,
          -1.47674134732821,
          0.48303599341467285,
          0.7484100962354236,
          0.6199214404930379,
          -0.09192405598441374,
          0.5300093476958286,
          1.2785791208003725,
          0.9358425653510516,
          -0.5925670749165277,
          -0.20166372582262201,
          -1.096850817122355,
          -1.0932450615263414,
          0.424315413305436,
          -0.0926162788765071,
          -0.20069809653638093,
          0.9772930851080682,
          0.26386815140631265,
          1.3874266245301734,
          -0.9248958944644438,
          0.17201496834833183,
          -0.9048757219799238,
          0.4288879111931887,
          -0.36738707307769375,
          0.7472144095556358,
          2.272295759735388,
          0.877225373172687,
          -0.4378174124395575,
          -1.1585312621617012
         ]
        }
       ],
       "layout": {
        "legend": {
         "bgcolor": "#F5F6F9",
         "font": {
          "color": "#4D5663"
         }
        },
        "paper_bgcolor": "#F5F6F9",
        "plot_bgcolor": "#F5F6F9",
        "template": {
         "data": {
          "bar": [
           {
            "error_x": {
             "color": "#2a3f5f"
            },
            "error_y": {
             "color": "#2a3f5f"
            },
            "marker": {
             "line": {
              "color": "#E5ECF6",
              "width": 0.5
             },
             "pattern": {
              "fillmode": "overlay",
              "size": 10,
              "solidity": 0.2
             }
            },
            "type": "bar"
           }
          ],
          "barpolar": [
           {
            "marker": {
             "line": {
              "color": "#E5ECF6",
              "width": 0.5
             },
             "pattern": {
              "fillmode": "overlay",
              "size": 10,
              "solidity": 0.2
             }
            },
            "type": "barpolar"
           }
          ],
          "carpet": [
           {
            "aaxis": {
             "endlinecolor": "#2a3f5f",
             "gridcolor": "white",
             "linecolor": "white",
             "minorgridcolor": "white",
             "startlinecolor": "#2a3f5f"
            },
            "baxis": {
             "endlinecolor": "#2a3f5f",
             "gridcolor": "white",
             "linecolor": "white",
             "minorgridcolor": "white",
             "startlinecolor": "#2a3f5f"
            },
            "type": "carpet"
           }
          ],
          "choropleth": [
           {
            "colorbar": {
             "outlinewidth": 0,
             "ticks": ""
            },
            "type": "choropleth"
           }
          ],
          "contour": [
           {
            "colorbar": {
             "outlinewidth": 0,
             "ticks": ""
            },
            "colorscale": [
             [
              0,
              "#0d0887"
             ],
             [
              0.1111111111111111,
              "#46039f"
             ],
             [
              0.2222222222222222,
              "#7201a8"
             ],
             [
              0.3333333333333333,
              "#9c179e"
             ],
             [
              0.4444444444444444,
              "#bd3786"
             ],
             [
              0.5555555555555556,
              "#d8576b"
             ],
             [
              0.6666666666666666,
              "#ed7953"
             ],
             [
              0.7777777777777778,
              "#fb9f3a"
             ],
             [
              0.8888888888888888,
              "#fdca26"
             ],
             [
              1,
              "#f0f921"
             ]
            ],
            "type": "contour"
           }
          ],
          "contourcarpet": [
           {
            "colorbar": {
             "outlinewidth": 0,
             "ticks": ""
            },
            "type": "contourcarpet"
           }
          ],
          "heatmap": [
           {
            "colorbar": {
             "outlinewidth": 0,
             "ticks": ""
            },
            "colorscale": [
             [
              0,
              "#0d0887"
             ],
             [
              0.1111111111111111,
              "#46039f"
             ],
             [
              0.2222222222222222,
              "#7201a8"
             ],
             [
              0.3333333333333333,
              "#9c179e"
             ],
             [
              0.4444444444444444,
              "#bd3786"
             ],
             [
              0.5555555555555556,
              "#d8576b"
             ],
             [
              0.6666666666666666,
              "#ed7953"
             ],
             [
              0.7777777777777778,
              "#fb9f3a"
             ],
             [
              0.8888888888888888,
              "#fdca26"
             ],
             [
              1,
              "#f0f921"
             ]
            ],
            "type": "heatmap"
           }
          ],
          "heatmapgl": [
           {
            "colorbar": {
             "outlinewidth": 0,
             "ticks": ""
            },
            "colorscale": [
             [
              0,
              "#0d0887"
             ],
             [
              0.1111111111111111,
              "#46039f"
             ],
             [
              0.2222222222222222,
              "#7201a8"
             ],
             [
              0.3333333333333333,
              "#9c179e"
             ],
             [
              0.4444444444444444,
              "#bd3786"
             ],
             [
              0.5555555555555556,
              "#d8576b"
             ],
             [
              0.6666666666666666,
              "#ed7953"
             ],
             [
              0.7777777777777778,
              "#fb9f3a"
             ],
             [
              0.8888888888888888,
              "#fdca26"
             ],
             [
              1,
              "#f0f921"
             ]
            ],
            "type": "heatmapgl"
           }
          ],
          "histogram": [
           {
            "marker": {
             "pattern": {
              "fillmode": "overlay",
              "size": 10,
              "solidity": 0.2
             }
            },
            "type": "histogram"
           }
          ],
          "histogram2d": [
           {
            "colorbar": {
             "outlinewidth": 0,
             "ticks": ""
            },
            "colorscale": [
             [
              0,
              "#0d0887"
             ],
             [
              0.1111111111111111,
              "#46039f"
             ],
             [
              0.2222222222222222,
              "#7201a8"
             ],
             [
              0.3333333333333333,
              "#9c179e"
             ],
             [
              0.4444444444444444,
              "#bd3786"
             ],
             [
              0.5555555555555556,
              "#d8576b"
             ],
             [
              0.6666666666666666,
              "#ed7953"
             ],
             [
              0.7777777777777778,
              "#fb9f3a"
             ],
             [
              0.8888888888888888,
              "#fdca26"
             ],
             [
              1,
              "#f0f921"
             ]
            ],
            "type": "histogram2d"
           }
          ],
          "histogram2dcontour": [
           {
            "colorbar": {
             "outlinewidth": 0,
             "ticks": ""
            },
            "colorscale": [
             [
              0,
              "#0d0887"
             ],
             [
              0.1111111111111111,
              "#46039f"
             ],
             [
              0.2222222222222222,
              "#7201a8"
             ],
             [
              0.3333333333333333,
              "#9c179e"
             ],
             [
              0.4444444444444444,
              "#bd3786"
             ],
             [
              0.5555555555555556,
              "#d8576b"
             ],
             [
              0.6666666666666666,
              "#ed7953"
             ],
             [
              0.7777777777777778,
              "#fb9f3a"
             ],
             [
              0.8888888888888888,
              "#fdca26"
             ],
             [
              1,
              "#f0f921"
             ]
            ],
            "type": "histogram2dcontour"
           }
          ],
          "mesh3d": [
           {
            "colorbar": {
             "outlinewidth": 0,
             "ticks": ""
            },
            "type": "mesh3d"
           }
          ],
          "parcoords": [
           {
            "line": {
             "colorbar": {
              "outlinewidth": 0,
              "ticks": ""
             }
            },
            "type": "parcoords"
           }
          ],
          "pie": [
           {
            "automargin": true,
            "type": "pie"
           }
          ],
          "scatter": [
           {
            "fillpattern": {
             "fillmode": "overlay",
             "size": 10,
             "solidity": 0.2
            },
            "type": "scatter"
           }
          ],
          "scatter3d": [
           {
            "line": {
             "colorbar": {
              "outlinewidth": 0,
              "ticks": ""
             }
            },
            "marker": {
             "colorbar": {
              "outlinewidth": 0,
              "ticks": ""
             }
            },
            "type": "scatter3d"
           }
          ],
          "scattercarpet": [
           {
            "marker": {
             "colorbar": {
              "outlinewidth": 0,
              "ticks": ""
             }
            },
            "type": "scattercarpet"
           }
          ],
          "scattergeo": [
           {
            "marker": {
             "colorbar": {
              "outlinewidth": 0,
              "ticks": ""
             }
            },
            "type": "scattergeo"
           }
          ],
          "scattergl": [
           {
            "marker": {
             "colorbar": {
              "outlinewidth": 0,
              "ticks": ""
             }
            },
            "type": "scattergl"
           }
          ],
          "scattermapbox": [
           {
            "marker": {
             "colorbar": {
              "outlinewidth": 0,
              "ticks": ""
             }
            },
            "type": "scattermapbox"
           }
          ],
          "scatterpolar": [
           {
            "marker": {
             "colorbar": {
              "outlinewidth": 0,
              "ticks": ""
             }
            },
            "type": "scatterpolar"
           }
          ],
          "scatterpolargl": [
           {
            "marker": {
             "colorbar": {
              "outlinewidth": 0,
              "ticks": ""
             }
            },
            "type": "scatterpolargl"
           }
          ],
          "scatterternary": [
           {
            "marker": {
             "colorbar": {
              "outlinewidth": 0,
              "ticks": ""
             }
            },
            "type": "scatterternary"
           }
          ],
          "surface": [
           {
            "colorbar": {
             "outlinewidth": 0,
             "ticks": ""
            },
            "colorscale": [
             [
              0,
              "#0d0887"
             ],
             [
              0.1111111111111111,
              "#46039f"
             ],
             [
              0.2222222222222222,
              "#7201a8"
             ],
             [
              0.3333333333333333,
              "#9c179e"
             ],
             [
              0.4444444444444444,
              "#bd3786"
             ],
             [
              0.5555555555555556,
              "#d8576b"
             ],
             [
              0.6666666666666666,
              "#ed7953"
             ],
             [
              0.7777777777777778,
              "#fb9f3a"
             ],
             [
              0.8888888888888888,
              "#fdca26"
             ],
             [
              1,
              "#f0f921"
             ]
            ],
            "type": "surface"
           }
          ],
          "table": [
           {
            "cells": {
             "fill": {
              "color": "#EBF0F8"
             },
             "line": {
              "color": "white"
             }
            },
            "header": {
             "fill": {
              "color": "#C8D4E3"
             },
             "line": {
              "color": "white"
             }
            },
            "type": "table"
           }
          ]
         },
         "layout": {
          "annotationdefaults": {
           "arrowcolor": "#2a3f5f",
           "arrowhead": 0,
           "arrowwidth": 1
          },
          "autotypenumbers": "strict",
          "coloraxis": {
           "colorbar": {
            "outlinewidth": 0,
            "ticks": ""
           }
          },
          "colorscale": {
           "diverging": [
            [
             0,
             "#8e0152"
            ],
            [
             0.1,
             "#c51b7d"
            ],
            [
             0.2,
             "#de77ae"
            ],
            [
             0.3,
             "#f1b6da"
            ],
            [
             0.4,
             "#fde0ef"
            ],
            [
             0.5,
             "#f7f7f7"
            ],
            [
             0.6,
             "#e6f5d0"
            ],
            [
             0.7,
             "#b8e186"
            ],
            [
             0.8,
             "#7fbc41"
            ],
            [
             0.9,
             "#4d9221"
            ],
            [
             1,
             "#276419"
            ]
           ],
           "sequential": [
            [
             0,
             "#0d0887"
            ],
            [
             0.1111111111111111,
             "#46039f"
            ],
            [
             0.2222222222222222,
             "#7201a8"
            ],
            [
             0.3333333333333333,
             "#9c179e"
            ],
            [
             0.4444444444444444,
             "#bd3786"
            ],
            [
             0.5555555555555556,
             "#d8576b"
            ],
            [
             0.6666666666666666,
             "#ed7953"
            ],
            [
             0.7777777777777778,
             "#fb9f3a"
            ],
            [
             0.8888888888888888,
             "#fdca26"
            ],
            [
             1,
             "#f0f921"
            ]
           ],
           "sequentialminus": [
            [
             0,
             "#0d0887"
            ],
            [
             0.1111111111111111,
             "#46039f"
            ],
            [
             0.2222222222222222,
             "#7201a8"
            ],
            [
             0.3333333333333333,
             "#9c179e"
            ],
            [
             0.4444444444444444,
             "#bd3786"
            ],
            [
             0.5555555555555556,
             "#d8576b"
            ],
            [
             0.6666666666666666,
             "#ed7953"
            ],
            [
             0.7777777777777778,
             "#fb9f3a"
            ],
            [
             0.8888888888888888,
             "#fdca26"
            ],
            [
             1,
             "#f0f921"
            ]
           ]
          },
          "colorway": [
           "#636efa",
           "#EF553B",
           "#00cc96",
           "#ab63fa",
           "#FFA15A",
           "#19d3f3",
           "#FF6692",
           "#B6E880",
           "#FF97FF",
           "#FECB52"
          ],
          "font": {
           "color": "#2a3f5f"
          },
          "geo": {
           "bgcolor": "white",
           "lakecolor": "white",
           "landcolor": "#E5ECF6",
           "showlakes": true,
           "showland": true,
           "subunitcolor": "white"
          },
          "hoverlabel": {
           "align": "left"
          },
          "hovermode": "closest",
          "mapbox": {
           "style": "light"
          },
          "paper_bgcolor": "white",
          "plot_bgcolor": "#E5ECF6",
          "polar": {
           "angularaxis": {
            "gridcolor": "white",
            "linecolor": "white",
            "ticks": ""
           },
           "bgcolor": "#E5ECF6",
           "radialaxis": {
            "gridcolor": "white",
            "linecolor": "white",
            "ticks": ""
           }
          },
          "scene": {
           "xaxis": {
            "backgroundcolor": "#E5ECF6",
            "gridcolor": "white",
            "gridwidth": 2,
            "linecolor": "white",
            "showbackground": true,
            "ticks": "",
            "zerolinecolor": "white"
           },
           "yaxis": {
            "backgroundcolor": "#E5ECF6",
            "gridcolor": "white",
            "gridwidth": 2,
            "linecolor": "white",
            "showbackground": true,
            "ticks": "",
            "zerolinecolor": "white"
           },
           "zaxis": {
            "backgroundcolor": "#E5ECF6",
            "gridcolor": "white",
            "gridwidth": 2,
            "linecolor": "white",
            "showbackground": true,
            "ticks": "",
            "zerolinecolor": "white"
           }
          },
          "shapedefaults": {
           "line": {
            "color": "#2a3f5f"
           }
          },
          "ternary": {
           "aaxis": {
            "gridcolor": "white",
            "linecolor": "white",
            "ticks": ""
           },
           "baxis": {
            "gridcolor": "white",
            "linecolor": "white",
            "ticks": ""
           },
           "bgcolor": "#E5ECF6",
           "caxis": {
            "gridcolor": "white",
            "linecolor": "white",
            "ticks": ""
           }
          },
          "title": {
           "x": 0.05
          },
          "xaxis": {
           "automargin": true,
           "gridcolor": "white",
           "linecolor": "white",
           "ticks": "",
           "title": {
            "standoff": 15
           },
           "zerolinecolor": "white",
           "zerolinewidth": 2
          },
          "yaxis": {
           "automargin": true,
           "gridcolor": "white",
           "linecolor": "white",
           "ticks": "",
           "title": {
            "standoff": 15
           },
           "zerolinecolor": "white",
           "zerolinewidth": 2
          }
         }
        },
        "title": {
         "font": {
          "color": "#4D5663"
         }
        },
        "xaxis": {
         "gridcolor": "#E1E5ED",
         "showgrid": true,
         "tickfont": {
          "color": "#4D5663"
         },
         "title": {
          "font": {
           "color": "#4D5663"
          },
          "text": ""
         },
         "zerolinecolor": "#E1E5ED"
        },
        "yaxis": {
         "gridcolor": "#E1E5ED",
         "showgrid": true,
         "tickfont": {
          "color": "#4D5663"
         },
         "title": {
          "font": {
           "color": "#4D5663"
          },
          "text": ""
         },
         "zerolinecolor": "#E1E5ED"
        }
       }
      },
      "text/html": [
       "<div>                            <div id=\"56765f98-9b50-4e3e-85cc-f1b1761f68e8\" class=\"plotly-graph-div\" style=\"height:525px; width:100%;\"></div>            <script type=\"text/javascript\">                require([\"plotly\"], function(Plotly) {                    window.PLOTLYENV=window.PLOTLYENV || {};\n",
       "                    window.PLOTLYENV.BASE_URL='https://plot.ly';                                    if (document.getElementById(\"56765f98-9b50-4e3e-85cc-f1b1761f68e8\")) {                    Plotly.newPlot(                        \"56765f98-9b50-4e3e-85cc-f1b1761f68e8\",                        [{\"line\":{\"color\":\"rgba(255, 153, 51, 1.0)\",\"dash\":\"solid\",\"shape\":\"linear\",\"width\":1.3},\"marker\":{\"size\":12,\"symbol\":\"circle\"},\"mode\":\"markers\",\"name\":\"B\",\"text\":\"\",\"x\":[0.9634623893766167,-0.12055224845819004,0.25008154086228296,-0.5013143806434255,0.1292844937472286,0.4044071864470786,-2.0771930414556183,-0.020426006358398602,0.3849191710124318,0.879707817390476,-0.9431858876910261,-0.7490253238236118,0.5924697035901231,-1.3940933638268622,-0.5719377462453421,0.0075937045045873,-1.4481325040064896,0.21700524462166149,-0.1395825213548501,-0.24991568489512242,0.29452568252983163,-0.7905644371689067,-0.2997690889834603,0.21384176348726486,0.08658516570981084,0.7454032185178966,-0.6281603258099894,0.46180435642701845,-0.4178004985683218,-0.35630133871786407,-1.2112066150479495,-0.9726056889327593,-0.1005023860363253,1.0040648633325953,-1.0629923769941325,2.47531773691314,-0.04824382074826237,1.7025776795476604,-1.236548662174602,0.39866376082116467,1.333415614245502,0.0766655986802566,-0.33317061992034,-0.07328513704307903,0.37972060484157116,0.6522436929759483,0.8908762959506643,-0.41150485447839996,-0.3911042477094948,-1.7445372379275699,0.023978803372944477,-0.17442305395410349,0.25819460285665935,0.4944620618569529,-0.5834284135317452,-0.3240544301618898,-1.5444815784266575,-0.4776289313257464,0.06945397679857637,-0.4278386106429362,1.2522658559296482,-0.8812452740221121,-0.8221355096056416,-0.18782134308689513,1.8206332470536457,-0.6879560063978835,1.241741050078539,-2.7408858865027486,-0.4980842707106779,-0.9645117851028521,-0.12349607696101607,0.14719778655961077,-0.3022218597739041,0.6471150042134444,0.4721020856800413,-1.0353926818229156,1.3229382115515267,-1.2156788535049665,0.7614711874891931,-0.9013858317983743,-1.003047554190563,1.1696861418828624,0.0390968088724639,-0.4260054156967536,1.091606297176759,1.2036536169313206,-0.4427686249514626,1.4585873222111359,-0.270091310882172,0.17838137496146925,1.1533524775428632,0.5561949849702105,0.18208084487524875,0.26219091894703034,0.7582266638205611,0.3703636490699679,-0.5948913443755864,0.34613627097324257,0.07431556715271147,-1.2472512715902513],\"y\":[-0.09147954299523928,-1.7385508624690544,0.9221586878268342,-1.0931631569009221,0.3314050081963957,-1.6860350043840182,0.12957115351750878,0.5282594700664602,-1.724213141676408,-0.5551485134413877,0.01099836125675915,-1.8479965901671493,1.3048716149407638,-0.47126362237465713,0.30461274408286604,-0.3624930124832195,-0.12427109577985897,1.0458392895428787,-1.0772505081410064,0.956187500896724,-0.5134093195098551,1.003191182736705,1.0054421492812542,0.7444342301762672,0.9717048416109594,-0.5862903672126797,1.1402320163276554,-0.07586206865034092,-1.3020079599314847,-1.5532090620038983,0.8063276508119176,-1.190267123383816,-0.45573398022926986,0.2492173650282826,0.042545897664883724,-0.5394012540380726,-0.8710337885007717,0.27070058032527144,1.502715551599413,-0.6133569085524814,0.7716091967711711,-0.844375266511973,1.014272863942356,1.283227843583457,0.5405202955362597,0.26670175488612397,0.7101520294582939,2.07484318757425,0.6160923809193212,-0.7621923610184558,-0.7409270577875984,-0.8944055555394634,-0.8504280755637271,-1.0335914311595302,2.1436511287416486,0.2941595400966851,-1.2670997292914403,1.6747192059627178,-0.4549685653946752,-1.4261740159930605,0.2860098578963224,-0.6896865460661573,0.058011235562708846,-1.408955244083918,-0.20902752485155054,-0.30808010437819333,-0.22554007253720418,-0.012289759543897499,1.1978357038826355,0.8808992432676263,-0.1577267481768039,-0.7663712262064384,-1.47674134732821,0.48303599341467285,0.7484100962354236,0.6199214404930379,-0.09192405598441374,0.5300093476958286,1.2785791208003725,0.9358425653510516,-0.5925670749165277,-0.20166372582262201,-1.096850817122355,-1.0932450615263414,0.424315413305436,-0.0926162788765071,-0.20069809653638093,0.9772930851080682,0.26386815140631265,1.3874266245301734,-0.9248958944644438,0.17201496834833183,-0.9048757219799238,0.4288879111931887,-0.36738707307769375,0.7472144095556358,2.272295759735388,0.877225373172687,-0.4378174124395575,-1.1585312621617012],\"type\":\"scatter\"}],                        {\"legend\":{\"bgcolor\":\"#F5F6F9\",\"font\":{\"color\":\"#4D5663\"}},\"paper_bgcolor\":\"#F5F6F9\",\"plot_bgcolor\":\"#F5F6F9\",\"template\":{\"data\":{\"barpolar\":[{\"marker\":{\"line\":{\"color\":\"#E5ECF6\",\"width\":0.5},\"pattern\":{\"fillmode\":\"overlay\",\"size\":10,\"solidity\":0.2}},\"type\":\"barpolar\"}],\"bar\":[{\"error_x\":{\"color\":\"#2a3f5f\"},\"error_y\":{\"color\":\"#2a3f5f\"},\"marker\":{\"line\":{\"color\":\"#E5ECF6\",\"width\":0.5},\"pattern\":{\"fillmode\":\"overlay\",\"size\":10,\"solidity\":0.2}},\"type\":\"bar\"}],\"carpet\":[{\"aaxis\":{\"endlinecolor\":\"#2a3f5f\",\"gridcolor\":\"white\",\"linecolor\":\"white\",\"minorgridcolor\":\"white\",\"startlinecolor\":\"#2a3f5f\"},\"baxis\":{\"endlinecolor\":\"#2a3f5f\",\"gridcolor\":\"white\",\"linecolor\":\"white\",\"minorgridcolor\":\"white\",\"startlinecolor\":\"#2a3f5f\"},\"type\":\"carpet\"}],\"choropleth\":[{\"colorbar\":{\"outlinewidth\":0,\"ticks\":\"\"},\"type\":\"choropleth\"}],\"contourcarpet\":[{\"colorbar\":{\"outlinewidth\":0,\"ticks\":\"\"},\"type\":\"contourcarpet\"}],\"contour\":[{\"colorbar\":{\"outlinewidth\":0,\"ticks\":\"\"},\"colorscale\":[[0.0,\"#0d0887\"],[0.1111111111111111,\"#46039f\"],[0.2222222222222222,\"#7201a8\"],[0.3333333333333333,\"#9c179e\"],[0.4444444444444444,\"#bd3786\"],[0.5555555555555556,\"#d8576b\"],[0.6666666666666666,\"#ed7953\"],[0.7777777777777778,\"#fb9f3a\"],[0.8888888888888888,\"#fdca26\"],[1.0,\"#f0f921\"]],\"type\":\"contour\"}],\"heatmapgl\":[{\"colorbar\":{\"outlinewidth\":0,\"ticks\":\"\"},\"colorscale\":[[0.0,\"#0d0887\"],[0.1111111111111111,\"#46039f\"],[0.2222222222222222,\"#7201a8\"],[0.3333333333333333,\"#9c179e\"],[0.4444444444444444,\"#bd3786\"],[0.5555555555555556,\"#d8576b\"],[0.6666666666666666,\"#ed7953\"],[0.7777777777777778,\"#fb9f3a\"],[0.8888888888888888,\"#fdca26\"],[1.0,\"#f0f921\"]],\"type\":\"heatmapgl\"}],\"heatmap\":[{\"colorbar\":{\"outlinewidth\":0,\"ticks\":\"\"},\"colorscale\":[[0.0,\"#0d0887\"],[0.1111111111111111,\"#46039f\"],[0.2222222222222222,\"#7201a8\"],[0.3333333333333333,\"#9c179e\"],[0.4444444444444444,\"#bd3786\"],[0.5555555555555556,\"#d8576b\"],[0.6666666666666666,\"#ed7953\"],[0.7777777777777778,\"#fb9f3a\"],[0.8888888888888888,\"#fdca26\"],[1.0,\"#f0f921\"]],\"type\":\"heatmap\"}],\"histogram2dcontour\":[{\"colorbar\":{\"outlinewidth\":0,\"ticks\":\"\"},\"colorscale\":[[0.0,\"#0d0887\"],[0.1111111111111111,\"#46039f\"],[0.2222222222222222,\"#7201a8\"],[0.3333333333333333,\"#9c179e\"],[0.4444444444444444,\"#bd3786\"],[0.5555555555555556,\"#d8576b\"],[0.6666666666666666,\"#ed7953\"],[0.7777777777777778,\"#fb9f3a\"],[0.8888888888888888,\"#fdca26\"],[1.0,\"#f0f921\"]],\"type\":\"histogram2dcontour\"}],\"histogram2d\":[{\"colorbar\":{\"outlinewidth\":0,\"ticks\":\"\"},\"colorscale\":[[0.0,\"#0d0887\"],[0.1111111111111111,\"#46039f\"],[0.2222222222222222,\"#7201a8\"],[0.3333333333333333,\"#9c179e\"],[0.4444444444444444,\"#bd3786\"],[0.5555555555555556,\"#d8576b\"],[0.6666666666666666,\"#ed7953\"],[0.7777777777777778,\"#fb9f3a\"],[0.8888888888888888,\"#fdca26\"],[1.0,\"#f0f921\"]],\"type\":\"histogram2d\"}],\"histogram\":[{\"marker\":{\"pattern\":{\"fillmode\":\"overlay\",\"size\":10,\"solidity\":0.2}},\"type\":\"histogram\"}],\"mesh3d\":[{\"colorbar\":{\"outlinewidth\":0,\"ticks\":\"\"},\"type\":\"mesh3d\"}],\"parcoords\":[{\"line\":{\"colorbar\":{\"outlinewidth\":0,\"ticks\":\"\"}},\"type\":\"parcoords\"}],\"pie\":[{\"automargin\":true,\"type\":\"pie\"}],\"scatter3d\":[{\"line\":{\"colorbar\":{\"outlinewidth\":0,\"ticks\":\"\"}},\"marker\":{\"colorbar\":{\"outlinewidth\":0,\"ticks\":\"\"}},\"type\":\"scatter3d\"}],\"scattercarpet\":[{\"marker\":{\"colorbar\":{\"outlinewidth\":0,\"ticks\":\"\"}},\"type\":\"scattercarpet\"}],\"scattergeo\":[{\"marker\":{\"colorbar\":{\"outlinewidth\":0,\"ticks\":\"\"}},\"type\":\"scattergeo\"}],\"scattergl\":[{\"marker\":{\"colorbar\":{\"outlinewidth\":0,\"ticks\":\"\"}},\"type\":\"scattergl\"}],\"scattermapbox\":[{\"marker\":{\"colorbar\":{\"outlinewidth\":0,\"ticks\":\"\"}},\"type\":\"scattermapbox\"}],\"scatterpolargl\":[{\"marker\":{\"colorbar\":{\"outlinewidth\":0,\"ticks\":\"\"}},\"type\":\"scatterpolargl\"}],\"scatterpolar\":[{\"marker\":{\"colorbar\":{\"outlinewidth\":0,\"ticks\":\"\"}},\"type\":\"scatterpolar\"}],\"scatter\":[{\"fillpattern\":{\"fillmode\":\"overlay\",\"size\":10,\"solidity\":0.2},\"type\":\"scatter\"}],\"scatterternary\":[{\"marker\":{\"colorbar\":{\"outlinewidth\":0,\"ticks\":\"\"}},\"type\":\"scatterternary\"}],\"surface\":[{\"colorbar\":{\"outlinewidth\":0,\"ticks\":\"\"},\"colorscale\":[[0.0,\"#0d0887\"],[0.1111111111111111,\"#46039f\"],[0.2222222222222222,\"#7201a8\"],[0.3333333333333333,\"#9c179e\"],[0.4444444444444444,\"#bd3786\"],[0.5555555555555556,\"#d8576b\"],[0.6666666666666666,\"#ed7953\"],[0.7777777777777778,\"#fb9f3a\"],[0.8888888888888888,\"#fdca26\"],[1.0,\"#f0f921\"]],\"type\":\"surface\"}],\"table\":[{\"cells\":{\"fill\":{\"color\":\"#EBF0F8\"},\"line\":{\"color\":\"white\"}},\"header\":{\"fill\":{\"color\":\"#C8D4E3\"},\"line\":{\"color\":\"white\"}},\"type\":\"table\"}]},\"layout\":{\"annotationdefaults\":{\"arrowcolor\":\"#2a3f5f\",\"arrowhead\":0,\"arrowwidth\":1},\"autotypenumbers\":\"strict\",\"coloraxis\":{\"colorbar\":{\"outlinewidth\":0,\"ticks\":\"\"}},\"colorscale\":{\"diverging\":[[0,\"#8e0152\"],[0.1,\"#c51b7d\"],[0.2,\"#de77ae\"],[0.3,\"#f1b6da\"],[0.4,\"#fde0ef\"],[0.5,\"#f7f7f7\"],[0.6,\"#e6f5d0\"],[0.7,\"#b8e186\"],[0.8,\"#7fbc41\"],[0.9,\"#4d9221\"],[1,\"#276419\"]],\"sequential\":[[0.0,\"#0d0887\"],[0.1111111111111111,\"#46039f\"],[0.2222222222222222,\"#7201a8\"],[0.3333333333333333,\"#9c179e\"],[0.4444444444444444,\"#bd3786\"],[0.5555555555555556,\"#d8576b\"],[0.6666666666666666,\"#ed7953\"],[0.7777777777777778,\"#fb9f3a\"],[0.8888888888888888,\"#fdca26\"],[1.0,\"#f0f921\"]],\"sequentialminus\":[[0.0,\"#0d0887\"],[0.1111111111111111,\"#46039f\"],[0.2222222222222222,\"#7201a8\"],[0.3333333333333333,\"#9c179e\"],[0.4444444444444444,\"#bd3786\"],[0.5555555555555556,\"#d8576b\"],[0.6666666666666666,\"#ed7953\"],[0.7777777777777778,\"#fb9f3a\"],[0.8888888888888888,\"#fdca26\"],[1.0,\"#f0f921\"]]},\"colorway\":[\"#636efa\",\"#EF553B\",\"#00cc96\",\"#ab63fa\",\"#FFA15A\",\"#19d3f3\",\"#FF6692\",\"#B6E880\",\"#FF97FF\",\"#FECB52\"],\"font\":{\"color\":\"#2a3f5f\"},\"geo\":{\"bgcolor\":\"white\",\"lakecolor\":\"white\",\"landcolor\":\"#E5ECF6\",\"showlakes\":true,\"showland\":true,\"subunitcolor\":\"white\"},\"hoverlabel\":{\"align\":\"left\"},\"hovermode\":\"closest\",\"mapbox\":{\"style\":\"light\"},\"paper_bgcolor\":\"white\",\"plot_bgcolor\":\"#E5ECF6\",\"polar\":{\"angularaxis\":{\"gridcolor\":\"white\",\"linecolor\":\"white\",\"ticks\":\"\"},\"bgcolor\":\"#E5ECF6\",\"radialaxis\":{\"gridcolor\":\"white\",\"linecolor\":\"white\",\"ticks\":\"\"}},\"scene\":{\"xaxis\":{\"backgroundcolor\":\"#E5ECF6\",\"gridcolor\":\"white\",\"gridwidth\":2,\"linecolor\":\"white\",\"showbackground\":true,\"ticks\":\"\",\"zerolinecolor\":\"white\"},\"yaxis\":{\"backgroundcolor\":\"#E5ECF6\",\"gridcolor\":\"white\",\"gridwidth\":2,\"linecolor\":\"white\",\"showbackground\":true,\"ticks\":\"\",\"zerolinecolor\":\"white\"},\"zaxis\":{\"backgroundcolor\":\"#E5ECF6\",\"gridcolor\":\"white\",\"gridwidth\":2,\"linecolor\":\"white\",\"showbackground\":true,\"ticks\":\"\",\"zerolinecolor\":\"white\"}},\"shapedefaults\":{\"line\":{\"color\":\"#2a3f5f\"}},\"ternary\":{\"aaxis\":{\"gridcolor\":\"white\",\"linecolor\":\"white\",\"ticks\":\"\"},\"baxis\":{\"gridcolor\":\"white\",\"linecolor\":\"white\",\"ticks\":\"\"},\"bgcolor\":\"#E5ECF6\",\"caxis\":{\"gridcolor\":\"white\",\"linecolor\":\"white\",\"ticks\":\"\"}},\"title\":{\"x\":0.05},\"xaxis\":{\"automargin\":true,\"gridcolor\":\"white\",\"linecolor\":\"white\",\"ticks\":\"\",\"title\":{\"standoff\":15},\"zerolinecolor\":\"white\",\"zerolinewidth\":2},\"yaxis\":{\"automargin\":true,\"gridcolor\":\"white\",\"linecolor\":\"white\",\"ticks\":\"\",\"title\":{\"standoff\":15},\"zerolinecolor\":\"white\",\"zerolinewidth\":2}}},\"title\":{\"font\":{\"color\":\"#4D5663\"}},\"xaxis\":{\"gridcolor\":\"#E1E5ED\",\"showgrid\":true,\"tickfont\":{\"color\":\"#4D5663\"},\"title\":{\"font\":{\"color\":\"#4D5663\"},\"text\":\"\"},\"zerolinecolor\":\"#E1E5ED\"},\"yaxis\":{\"gridcolor\":\"#E1E5ED\",\"showgrid\":true,\"tickfont\":{\"color\":\"#4D5663\"},\"title\":{\"font\":{\"color\":\"#4D5663\"},\"text\":\"\"},\"zerolinecolor\":\"#E1E5ED\"}},                        {\"showLink\": true, \"linkText\": \"Export to plot.ly\", \"plotlyServerURL\": \"https://plot.ly\", \"responsive\": true}                    ).then(function(){\n",
       "                            \n",
       "var gd = document.getElementById('56765f98-9b50-4e3e-85cc-f1b1761f68e8');\n",
       "var x = new MutationObserver(function (mutations, observer) {{\n",
       "        var display = window.getComputedStyle(gd).display;\n",
       "        if (!display || display === 'none') {{\n",
       "            console.log([gd, 'removed!']);\n",
       "            Plotly.purge(gd);\n",
       "            observer.disconnect();\n",
       "        }}\n",
       "}});\n",
       "\n",
       "// Listen for the removal of the full notebook cells\n",
       "var notebookContainer = gd.closest('#notebook-container');\n",
       "if (notebookContainer) {{\n",
       "    x.observe(notebookContainer, {childList: true});\n",
       "}}\n",
       "\n",
       "// Listen for the clearing of the current output cell\n",
       "var outputEl = gd.closest('.output');\n",
       "if (outputEl) {{\n",
       "    x.observe(outputEl, {childList: true});\n",
       "}}\n",
       "\n",
       "                        })                };                });            </script>        </div>"
      ]
     },
     "metadata": {},
     "output_type": "display_data"
    }
   ],
   "source": [
    "df.iplot(kind='scatter', x='A', y='B', mode='markers')"
   ]
  },
  {
   "cell_type": "code",
   "execution_count": 20,
   "id": "e668a984",
   "metadata": {},
   "outputs": [
    {
     "data": {
      "application/vnd.plotly.v1+json": {
       "config": {
        "linkText": "Export to plot.ly",
        "plotlyServerURL": "https://plot.ly",
        "showLink": true
       },
       "data": [
        {
         "line": {
          "color": "rgba(255, 153, 51, 1.0)",
          "dash": "solid",
          "shape": "linear",
          "width": 1.3
         },
         "marker": {
          "size": 30,
          "symbol": "circle"
         },
         "mode": "markers",
         "name": "B",
         "text": "",
         "type": "scatter",
         "x": [
          0.9634623893766167,
          -0.12055224845819004,
          0.25008154086228296,
          -0.5013143806434255,
          0.1292844937472286,
          0.4044071864470786,
          -2.0771930414556183,
          -0.020426006358398602,
          0.3849191710124318,
          0.879707817390476,
          -0.9431858876910261,
          -0.7490253238236118,
          0.5924697035901231,
          -1.3940933638268622,
          -0.5719377462453421,
          0.0075937045045873,
          -1.4481325040064896,
          0.21700524462166149,
          -0.1395825213548501,
          -0.24991568489512242,
          0.29452568252983163,
          -0.7905644371689067,
          -0.2997690889834603,
          0.21384176348726486,
          0.08658516570981084,
          0.7454032185178966,
          -0.6281603258099894,
          0.46180435642701845,
          -0.4178004985683218,
          -0.35630133871786407,
          -1.2112066150479495,
          -0.9726056889327593,
          -0.1005023860363253,
          1.0040648633325953,
          -1.0629923769941325,
          2.47531773691314,
          -0.04824382074826237,
          1.7025776795476604,
          -1.236548662174602,
          0.39866376082116467,
          1.333415614245502,
          0.0766655986802566,
          -0.33317061992034,
          -0.07328513704307903,
          0.37972060484157116,
          0.6522436929759483,
          0.8908762959506643,
          -0.41150485447839996,
          -0.3911042477094948,
          -1.7445372379275699,
          0.023978803372944477,
          -0.17442305395410349,
          0.25819460285665935,
          0.4944620618569529,
          -0.5834284135317452,
          -0.3240544301618898,
          -1.5444815784266575,
          -0.4776289313257464,
          0.06945397679857637,
          -0.4278386106429362,
          1.2522658559296482,
          -0.8812452740221121,
          -0.8221355096056416,
          -0.18782134308689513,
          1.8206332470536457,
          -0.6879560063978835,
          1.241741050078539,
          -2.7408858865027486,
          -0.4980842707106779,
          -0.9645117851028521,
          -0.12349607696101607,
          0.14719778655961077,
          -0.3022218597739041,
          0.6471150042134444,
          0.4721020856800413,
          -1.0353926818229156,
          1.3229382115515267,
          -1.2156788535049665,
          0.7614711874891931,
          -0.9013858317983743,
          -1.003047554190563,
          1.1696861418828624,
          0.0390968088724639,
          -0.4260054156967536,
          1.091606297176759,
          1.2036536169313206,
          -0.4427686249514626,
          1.4585873222111359,
          -0.270091310882172,
          0.17838137496146925,
          1.1533524775428632,
          0.5561949849702105,
          0.18208084487524875,
          0.26219091894703034,
          0.7582266638205611,
          0.3703636490699679,
          -0.5948913443755864,
          0.34613627097324257,
          0.07431556715271147,
          -1.2472512715902513
         ],
         "y": [
          -0.09147954299523928,
          -1.7385508624690544,
          0.9221586878268342,
          -1.0931631569009221,
          0.3314050081963957,
          -1.6860350043840182,
          0.12957115351750878,
          0.5282594700664602,
          -1.724213141676408,
          -0.5551485134413877,
          0.01099836125675915,
          -1.8479965901671493,
          1.3048716149407638,
          -0.47126362237465713,
          0.30461274408286604,
          -0.3624930124832195,
          -0.12427109577985897,
          1.0458392895428787,
          -1.0772505081410064,
          0.956187500896724,
          -0.5134093195098551,
          1.003191182736705,
          1.0054421492812542,
          0.7444342301762672,
          0.9717048416109594,
          -0.5862903672126797,
          1.1402320163276554,
          -0.07586206865034092,
          -1.3020079599314847,
          -1.5532090620038983,
          0.8063276508119176,
          -1.190267123383816,
          -0.45573398022926986,
          0.2492173650282826,
          0.042545897664883724,
          -0.5394012540380726,
          -0.8710337885007717,
          0.27070058032527144,
          1.502715551599413,
          -0.6133569085524814,
          0.7716091967711711,
          -0.844375266511973,
          1.014272863942356,
          1.283227843583457,
          0.5405202955362597,
          0.26670175488612397,
          0.7101520294582939,
          2.07484318757425,
          0.6160923809193212,
          -0.7621923610184558,
          -0.7409270577875984,
          -0.8944055555394634,
          -0.8504280755637271,
          -1.0335914311595302,
          2.1436511287416486,
          0.2941595400966851,
          -1.2670997292914403,
          1.6747192059627178,
          -0.4549685653946752,
          -1.4261740159930605,
          0.2860098578963224,
          -0.6896865460661573,
          0.058011235562708846,
          -1.408955244083918,
          -0.20902752485155054,
          -0.30808010437819333,
          -0.22554007253720418,
          -0.012289759543897499,
          1.1978357038826355,
          0.8808992432676263,
          -0.1577267481768039,
          -0.7663712262064384,
          -1.47674134732821,
          0.48303599341467285,
          0.7484100962354236,
          0.6199214404930379,
          -0.09192405598441374,
          0.5300093476958286,
          1.2785791208003725,
          0.9358425653510516,
          -0.5925670749165277,
          -0.20166372582262201,
          -1.096850817122355,
          -1.0932450615263414,
          0.424315413305436,
          -0.0926162788765071,
          -0.20069809653638093,
          0.9772930851080682,
          0.26386815140631265,
          1.3874266245301734,
          -0.9248958944644438,
          0.17201496834833183,
          -0.9048757219799238,
          0.4288879111931887,
          -0.36738707307769375,
          0.7472144095556358,
          2.272295759735388,
          0.877225373172687,
          -0.4378174124395575,
          -1.1585312621617012
         ]
        }
       ],
       "layout": {
        "legend": {
         "bgcolor": "#F5F6F9",
         "font": {
          "color": "#4D5663"
         }
        },
        "paper_bgcolor": "#F5F6F9",
        "plot_bgcolor": "#F5F6F9",
        "template": {
         "data": {
          "bar": [
           {
            "error_x": {
             "color": "#2a3f5f"
            },
            "error_y": {
             "color": "#2a3f5f"
            },
            "marker": {
             "line": {
              "color": "#E5ECF6",
              "width": 0.5
             },
             "pattern": {
              "fillmode": "overlay",
              "size": 10,
              "solidity": 0.2
             }
            },
            "type": "bar"
           }
          ],
          "barpolar": [
           {
            "marker": {
             "line": {
              "color": "#E5ECF6",
              "width": 0.5
             },
             "pattern": {
              "fillmode": "overlay",
              "size": 10,
              "solidity": 0.2
             }
            },
            "type": "barpolar"
           }
          ],
          "carpet": [
           {
            "aaxis": {
             "endlinecolor": "#2a3f5f",
             "gridcolor": "white",
             "linecolor": "white",
             "minorgridcolor": "white",
             "startlinecolor": "#2a3f5f"
            },
            "baxis": {
             "endlinecolor": "#2a3f5f",
             "gridcolor": "white",
             "linecolor": "white",
             "minorgridcolor": "white",
             "startlinecolor": "#2a3f5f"
            },
            "type": "carpet"
           }
          ],
          "choropleth": [
           {
            "colorbar": {
             "outlinewidth": 0,
             "ticks": ""
            },
            "type": "choropleth"
           }
          ],
          "contour": [
           {
            "colorbar": {
             "outlinewidth": 0,
             "ticks": ""
            },
            "colorscale": [
             [
              0,
              "#0d0887"
             ],
             [
              0.1111111111111111,
              "#46039f"
             ],
             [
              0.2222222222222222,
              "#7201a8"
             ],
             [
              0.3333333333333333,
              "#9c179e"
             ],
             [
              0.4444444444444444,
              "#bd3786"
             ],
             [
              0.5555555555555556,
              "#d8576b"
             ],
             [
              0.6666666666666666,
              "#ed7953"
             ],
             [
              0.7777777777777778,
              "#fb9f3a"
             ],
             [
              0.8888888888888888,
              "#fdca26"
             ],
             [
              1,
              "#f0f921"
             ]
            ],
            "type": "contour"
           }
          ],
          "contourcarpet": [
           {
            "colorbar": {
             "outlinewidth": 0,
             "ticks": ""
            },
            "type": "contourcarpet"
           }
          ],
          "heatmap": [
           {
            "colorbar": {
             "outlinewidth": 0,
             "ticks": ""
            },
            "colorscale": [
             [
              0,
              "#0d0887"
             ],
             [
              0.1111111111111111,
              "#46039f"
             ],
             [
              0.2222222222222222,
              "#7201a8"
             ],
             [
              0.3333333333333333,
              "#9c179e"
             ],
             [
              0.4444444444444444,
              "#bd3786"
             ],
             [
              0.5555555555555556,
              "#d8576b"
             ],
             [
              0.6666666666666666,
              "#ed7953"
             ],
             [
              0.7777777777777778,
              "#fb9f3a"
             ],
             [
              0.8888888888888888,
              "#fdca26"
             ],
             [
              1,
              "#f0f921"
             ]
            ],
            "type": "heatmap"
           }
          ],
          "heatmapgl": [
           {
            "colorbar": {
             "outlinewidth": 0,
             "ticks": ""
            },
            "colorscale": [
             [
              0,
              "#0d0887"
             ],
             [
              0.1111111111111111,
              "#46039f"
             ],
             [
              0.2222222222222222,
              "#7201a8"
             ],
             [
              0.3333333333333333,
              "#9c179e"
             ],
             [
              0.4444444444444444,
              "#bd3786"
             ],
             [
              0.5555555555555556,
              "#d8576b"
             ],
             [
              0.6666666666666666,
              "#ed7953"
             ],
             [
              0.7777777777777778,
              "#fb9f3a"
             ],
             [
              0.8888888888888888,
              "#fdca26"
             ],
             [
              1,
              "#f0f921"
             ]
            ],
            "type": "heatmapgl"
           }
          ],
          "histogram": [
           {
            "marker": {
             "pattern": {
              "fillmode": "overlay",
              "size": 10,
              "solidity": 0.2
             }
            },
            "type": "histogram"
           }
          ],
          "histogram2d": [
           {
            "colorbar": {
             "outlinewidth": 0,
             "ticks": ""
            },
            "colorscale": [
             [
              0,
              "#0d0887"
             ],
             [
              0.1111111111111111,
              "#46039f"
             ],
             [
              0.2222222222222222,
              "#7201a8"
             ],
             [
              0.3333333333333333,
              "#9c179e"
             ],
             [
              0.4444444444444444,
              "#bd3786"
             ],
             [
              0.5555555555555556,
              "#d8576b"
             ],
             [
              0.6666666666666666,
              "#ed7953"
             ],
             [
              0.7777777777777778,
              "#fb9f3a"
             ],
             [
              0.8888888888888888,
              "#fdca26"
             ],
             [
              1,
              "#f0f921"
             ]
            ],
            "type": "histogram2d"
           }
          ],
          "histogram2dcontour": [
           {
            "colorbar": {
             "outlinewidth": 0,
             "ticks": ""
            },
            "colorscale": [
             [
              0,
              "#0d0887"
             ],
             [
              0.1111111111111111,
              "#46039f"
             ],
             [
              0.2222222222222222,
              "#7201a8"
             ],
             [
              0.3333333333333333,
              "#9c179e"
             ],
             [
              0.4444444444444444,
              "#bd3786"
             ],
             [
              0.5555555555555556,
              "#d8576b"
             ],
             [
              0.6666666666666666,
              "#ed7953"
             ],
             [
              0.7777777777777778,
              "#fb9f3a"
             ],
             [
              0.8888888888888888,
              "#fdca26"
             ],
             [
              1,
              "#f0f921"
             ]
            ],
            "type": "histogram2dcontour"
           }
          ],
          "mesh3d": [
           {
            "colorbar": {
             "outlinewidth": 0,
             "ticks": ""
            },
            "type": "mesh3d"
           }
          ],
          "parcoords": [
           {
            "line": {
             "colorbar": {
              "outlinewidth": 0,
              "ticks": ""
             }
            },
            "type": "parcoords"
           }
          ],
          "pie": [
           {
            "automargin": true,
            "type": "pie"
           }
          ],
          "scatter": [
           {
            "fillpattern": {
             "fillmode": "overlay",
             "size": 10,
             "solidity": 0.2
            },
            "type": "scatter"
           }
          ],
          "scatter3d": [
           {
            "line": {
             "colorbar": {
              "outlinewidth": 0,
              "ticks": ""
             }
            },
            "marker": {
             "colorbar": {
              "outlinewidth": 0,
              "ticks": ""
             }
            },
            "type": "scatter3d"
           }
          ],
          "scattercarpet": [
           {
            "marker": {
             "colorbar": {
              "outlinewidth": 0,
              "ticks": ""
             }
            },
            "type": "scattercarpet"
           }
          ],
          "scattergeo": [
           {
            "marker": {
             "colorbar": {
              "outlinewidth": 0,
              "ticks": ""
             }
            },
            "type": "scattergeo"
           }
          ],
          "scattergl": [
           {
            "marker": {
             "colorbar": {
              "outlinewidth": 0,
              "ticks": ""
             }
            },
            "type": "scattergl"
           }
          ],
          "scattermapbox": [
           {
            "marker": {
             "colorbar": {
              "outlinewidth": 0,
              "ticks": ""
             }
            },
            "type": "scattermapbox"
           }
          ],
          "scatterpolar": [
           {
            "marker": {
             "colorbar": {
              "outlinewidth": 0,
              "ticks": ""
             }
            },
            "type": "scatterpolar"
           }
          ],
          "scatterpolargl": [
           {
            "marker": {
             "colorbar": {
              "outlinewidth": 0,
              "ticks": ""
             }
            },
            "type": "scatterpolargl"
           }
          ],
          "scatterternary": [
           {
            "marker": {
             "colorbar": {
              "outlinewidth": 0,
              "ticks": ""
             }
            },
            "type": "scatterternary"
           }
          ],
          "surface": [
           {
            "colorbar": {
             "outlinewidth": 0,
             "ticks": ""
            },
            "colorscale": [
             [
              0,
              "#0d0887"
             ],
             [
              0.1111111111111111,
              "#46039f"
             ],
             [
              0.2222222222222222,
              "#7201a8"
             ],
             [
              0.3333333333333333,
              "#9c179e"
             ],
             [
              0.4444444444444444,
              "#bd3786"
             ],
             [
              0.5555555555555556,
              "#d8576b"
             ],
             [
              0.6666666666666666,
              "#ed7953"
             ],
             [
              0.7777777777777778,
              "#fb9f3a"
             ],
             [
              0.8888888888888888,
              "#fdca26"
             ],
             [
              1,
              "#f0f921"
             ]
            ],
            "type": "surface"
           }
          ],
          "table": [
           {
            "cells": {
             "fill": {
              "color": "#EBF0F8"
             },
             "line": {
              "color": "white"
             }
            },
            "header": {
             "fill": {
              "color": "#C8D4E3"
             },
             "line": {
              "color": "white"
             }
            },
            "type": "table"
           }
          ]
         },
         "layout": {
          "annotationdefaults": {
           "arrowcolor": "#2a3f5f",
           "arrowhead": 0,
           "arrowwidth": 1
          },
          "autotypenumbers": "strict",
          "coloraxis": {
           "colorbar": {
            "outlinewidth": 0,
            "ticks": ""
           }
          },
          "colorscale": {
           "diverging": [
            [
             0,
             "#8e0152"
            ],
            [
             0.1,
             "#c51b7d"
            ],
            [
             0.2,
             "#de77ae"
            ],
            [
             0.3,
             "#f1b6da"
            ],
            [
             0.4,
             "#fde0ef"
            ],
            [
             0.5,
             "#f7f7f7"
            ],
            [
             0.6,
             "#e6f5d0"
            ],
            [
             0.7,
             "#b8e186"
            ],
            [
             0.8,
             "#7fbc41"
            ],
            [
             0.9,
             "#4d9221"
            ],
            [
             1,
             "#276419"
            ]
           ],
           "sequential": [
            [
             0,
             "#0d0887"
            ],
            [
             0.1111111111111111,
             "#46039f"
            ],
            [
             0.2222222222222222,
             "#7201a8"
            ],
            [
             0.3333333333333333,
             "#9c179e"
            ],
            [
             0.4444444444444444,
             "#bd3786"
            ],
            [
             0.5555555555555556,
             "#d8576b"
            ],
            [
             0.6666666666666666,
             "#ed7953"
            ],
            [
             0.7777777777777778,
             "#fb9f3a"
            ],
            [
             0.8888888888888888,
             "#fdca26"
            ],
            [
             1,
             "#f0f921"
            ]
           ],
           "sequentialminus": [
            [
             0,
             "#0d0887"
            ],
            [
             0.1111111111111111,
             "#46039f"
            ],
            [
             0.2222222222222222,
             "#7201a8"
            ],
            [
             0.3333333333333333,
             "#9c179e"
            ],
            [
             0.4444444444444444,
             "#bd3786"
            ],
            [
             0.5555555555555556,
             "#d8576b"
            ],
            [
             0.6666666666666666,
             "#ed7953"
            ],
            [
             0.7777777777777778,
             "#fb9f3a"
            ],
            [
             0.8888888888888888,
             "#fdca26"
            ],
            [
             1,
             "#f0f921"
            ]
           ]
          },
          "colorway": [
           "#636efa",
           "#EF553B",
           "#00cc96",
           "#ab63fa",
           "#FFA15A",
           "#19d3f3",
           "#FF6692",
           "#B6E880",
           "#FF97FF",
           "#FECB52"
          ],
          "font": {
           "color": "#2a3f5f"
          },
          "geo": {
           "bgcolor": "white",
           "lakecolor": "white",
           "landcolor": "#E5ECF6",
           "showlakes": true,
           "showland": true,
           "subunitcolor": "white"
          },
          "hoverlabel": {
           "align": "left"
          },
          "hovermode": "closest",
          "mapbox": {
           "style": "light"
          },
          "paper_bgcolor": "white",
          "plot_bgcolor": "#E5ECF6",
          "polar": {
           "angularaxis": {
            "gridcolor": "white",
            "linecolor": "white",
            "ticks": ""
           },
           "bgcolor": "#E5ECF6",
           "radialaxis": {
            "gridcolor": "white",
            "linecolor": "white",
            "ticks": ""
           }
          },
          "scene": {
           "xaxis": {
            "backgroundcolor": "#E5ECF6",
            "gridcolor": "white",
            "gridwidth": 2,
            "linecolor": "white",
            "showbackground": true,
            "ticks": "",
            "zerolinecolor": "white"
           },
           "yaxis": {
            "backgroundcolor": "#E5ECF6",
            "gridcolor": "white",
            "gridwidth": 2,
            "linecolor": "white",
            "showbackground": true,
            "ticks": "",
            "zerolinecolor": "white"
           },
           "zaxis": {
            "backgroundcolor": "#E5ECF6",
            "gridcolor": "white",
            "gridwidth": 2,
            "linecolor": "white",
            "showbackground": true,
            "ticks": "",
            "zerolinecolor": "white"
           }
          },
          "shapedefaults": {
           "line": {
            "color": "#2a3f5f"
           }
          },
          "ternary": {
           "aaxis": {
            "gridcolor": "white",
            "linecolor": "white",
            "ticks": ""
           },
           "baxis": {
            "gridcolor": "white",
            "linecolor": "white",
            "ticks": ""
           },
           "bgcolor": "#E5ECF6",
           "caxis": {
            "gridcolor": "white",
            "linecolor": "white",
            "ticks": ""
           }
          },
          "title": {
           "x": 0.05
          },
          "xaxis": {
           "automargin": true,
           "gridcolor": "white",
           "linecolor": "white",
           "ticks": "",
           "title": {
            "standoff": 15
           },
           "zerolinecolor": "white",
           "zerolinewidth": 2
          },
          "yaxis": {
           "automargin": true,
           "gridcolor": "white",
           "linecolor": "white",
           "ticks": "",
           "title": {
            "standoff": 15
           },
           "zerolinecolor": "white",
           "zerolinewidth": 2
          }
         }
        },
        "title": {
         "font": {
          "color": "#4D5663"
         }
        },
        "xaxis": {
         "gridcolor": "#E1E5ED",
         "showgrid": true,
         "tickfont": {
          "color": "#4D5663"
         },
         "title": {
          "font": {
           "color": "#4D5663"
          },
          "text": ""
         },
         "zerolinecolor": "#E1E5ED"
        },
        "yaxis": {
         "gridcolor": "#E1E5ED",
         "showgrid": true,
         "tickfont": {
          "color": "#4D5663"
         },
         "title": {
          "font": {
           "color": "#4D5663"
          },
          "text": ""
         },
         "zerolinecolor": "#E1E5ED"
        }
       }
      },
      "text/html": [
       "<div>                            <div id=\"32a42efa-121c-41cd-aa37-b9c332f56992\" class=\"plotly-graph-div\" style=\"height:525px; width:100%;\"></div>            <script type=\"text/javascript\">                require([\"plotly\"], function(Plotly) {                    window.PLOTLYENV=window.PLOTLYENV || {};\n",
       "                    window.PLOTLYENV.BASE_URL='https://plot.ly';                                    if (document.getElementById(\"32a42efa-121c-41cd-aa37-b9c332f56992\")) {                    Plotly.newPlot(                        \"32a42efa-121c-41cd-aa37-b9c332f56992\",                        [{\"line\":{\"color\":\"rgba(255, 153, 51, 1.0)\",\"dash\":\"solid\",\"shape\":\"linear\",\"width\":1.3},\"marker\":{\"size\":30,\"symbol\":\"circle\"},\"mode\":\"markers\",\"name\":\"B\",\"text\":\"\",\"x\":[0.9634623893766167,-0.12055224845819004,0.25008154086228296,-0.5013143806434255,0.1292844937472286,0.4044071864470786,-2.0771930414556183,-0.020426006358398602,0.3849191710124318,0.879707817390476,-0.9431858876910261,-0.7490253238236118,0.5924697035901231,-1.3940933638268622,-0.5719377462453421,0.0075937045045873,-1.4481325040064896,0.21700524462166149,-0.1395825213548501,-0.24991568489512242,0.29452568252983163,-0.7905644371689067,-0.2997690889834603,0.21384176348726486,0.08658516570981084,0.7454032185178966,-0.6281603258099894,0.46180435642701845,-0.4178004985683218,-0.35630133871786407,-1.2112066150479495,-0.9726056889327593,-0.1005023860363253,1.0040648633325953,-1.0629923769941325,2.47531773691314,-0.04824382074826237,1.7025776795476604,-1.236548662174602,0.39866376082116467,1.333415614245502,0.0766655986802566,-0.33317061992034,-0.07328513704307903,0.37972060484157116,0.6522436929759483,0.8908762959506643,-0.41150485447839996,-0.3911042477094948,-1.7445372379275699,0.023978803372944477,-0.17442305395410349,0.25819460285665935,0.4944620618569529,-0.5834284135317452,-0.3240544301618898,-1.5444815784266575,-0.4776289313257464,0.06945397679857637,-0.4278386106429362,1.2522658559296482,-0.8812452740221121,-0.8221355096056416,-0.18782134308689513,1.8206332470536457,-0.6879560063978835,1.241741050078539,-2.7408858865027486,-0.4980842707106779,-0.9645117851028521,-0.12349607696101607,0.14719778655961077,-0.3022218597739041,0.6471150042134444,0.4721020856800413,-1.0353926818229156,1.3229382115515267,-1.2156788535049665,0.7614711874891931,-0.9013858317983743,-1.003047554190563,1.1696861418828624,0.0390968088724639,-0.4260054156967536,1.091606297176759,1.2036536169313206,-0.4427686249514626,1.4585873222111359,-0.270091310882172,0.17838137496146925,1.1533524775428632,0.5561949849702105,0.18208084487524875,0.26219091894703034,0.7582266638205611,0.3703636490699679,-0.5948913443755864,0.34613627097324257,0.07431556715271147,-1.2472512715902513],\"y\":[-0.09147954299523928,-1.7385508624690544,0.9221586878268342,-1.0931631569009221,0.3314050081963957,-1.6860350043840182,0.12957115351750878,0.5282594700664602,-1.724213141676408,-0.5551485134413877,0.01099836125675915,-1.8479965901671493,1.3048716149407638,-0.47126362237465713,0.30461274408286604,-0.3624930124832195,-0.12427109577985897,1.0458392895428787,-1.0772505081410064,0.956187500896724,-0.5134093195098551,1.003191182736705,1.0054421492812542,0.7444342301762672,0.9717048416109594,-0.5862903672126797,1.1402320163276554,-0.07586206865034092,-1.3020079599314847,-1.5532090620038983,0.8063276508119176,-1.190267123383816,-0.45573398022926986,0.2492173650282826,0.042545897664883724,-0.5394012540380726,-0.8710337885007717,0.27070058032527144,1.502715551599413,-0.6133569085524814,0.7716091967711711,-0.844375266511973,1.014272863942356,1.283227843583457,0.5405202955362597,0.26670175488612397,0.7101520294582939,2.07484318757425,0.6160923809193212,-0.7621923610184558,-0.7409270577875984,-0.8944055555394634,-0.8504280755637271,-1.0335914311595302,2.1436511287416486,0.2941595400966851,-1.2670997292914403,1.6747192059627178,-0.4549685653946752,-1.4261740159930605,0.2860098578963224,-0.6896865460661573,0.058011235562708846,-1.408955244083918,-0.20902752485155054,-0.30808010437819333,-0.22554007253720418,-0.012289759543897499,1.1978357038826355,0.8808992432676263,-0.1577267481768039,-0.7663712262064384,-1.47674134732821,0.48303599341467285,0.7484100962354236,0.6199214404930379,-0.09192405598441374,0.5300093476958286,1.2785791208003725,0.9358425653510516,-0.5925670749165277,-0.20166372582262201,-1.096850817122355,-1.0932450615263414,0.424315413305436,-0.0926162788765071,-0.20069809653638093,0.9772930851080682,0.26386815140631265,1.3874266245301734,-0.9248958944644438,0.17201496834833183,-0.9048757219799238,0.4288879111931887,-0.36738707307769375,0.7472144095556358,2.272295759735388,0.877225373172687,-0.4378174124395575,-1.1585312621617012],\"type\":\"scatter\"}],                        {\"legend\":{\"bgcolor\":\"#F5F6F9\",\"font\":{\"color\":\"#4D5663\"}},\"paper_bgcolor\":\"#F5F6F9\",\"plot_bgcolor\":\"#F5F6F9\",\"template\":{\"data\":{\"barpolar\":[{\"marker\":{\"line\":{\"color\":\"#E5ECF6\",\"width\":0.5},\"pattern\":{\"fillmode\":\"overlay\",\"size\":10,\"solidity\":0.2}},\"type\":\"barpolar\"}],\"bar\":[{\"error_x\":{\"color\":\"#2a3f5f\"},\"error_y\":{\"color\":\"#2a3f5f\"},\"marker\":{\"line\":{\"color\":\"#E5ECF6\",\"width\":0.5},\"pattern\":{\"fillmode\":\"overlay\",\"size\":10,\"solidity\":0.2}},\"type\":\"bar\"}],\"carpet\":[{\"aaxis\":{\"endlinecolor\":\"#2a3f5f\",\"gridcolor\":\"white\",\"linecolor\":\"white\",\"minorgridcolor\":\"white\",\"startlinecolor\":\"#2a3f5f\"},\"baxis\":{\"endlinecolor\":\"#2a3f5f\",\"gridcolor\":\"white\",\"linecolor\":\"white\",\"minorgridcolor\":\"white\",\"startlinecolor\":\"#2a3f5f\"},\"type\":\"carpet\"}],\"choropleth\":[{\"colorbar\":{\"outlinewidth\":0,\"ticks\":\"\"},\"type\":\"choropleth\"}],\"contourcarpet\":[{\"colorbar\":{\"outlinewidth\":0,\"ticks\":\"\"},\"type\":\"contourcarpet\"}],\"contour\":[{\"colorbar\":{\"outlinewidth\":0,\"ticks\":\"\"},\"colorscale\":[[0.0,\"#0d0887\"],[0.1111111111111111,\"#46039f\"],[0.2222222222222222,\"#7201a8\"],[0.3333333333333333,\"#9c179e\"],[0.4444444444444444,\"#bd3786\"],[0.5555555555555556,\"#d8576b\"],[0.6666666666666666,\"#ed7953\"],[0.7777777777777778,\"#fb9f3a\"],[0.8888888888888888,\"#fdca26\"],[1.0,\"#f0f921\"]],\"type\":\"contour\"}],\"heatmapgl\":[{\"colorbar\":{\"outlinewidth\":0,\"ticks\":\"\"},\"colorscale\":[[0.0,\"#0d0887\"],[0.1111111111111111,\"#46039f\"],[0.2222222222222222,\"#7201a8\"],[0.3333333333333333,\"#9c179e\"],[0.4444444444444444,\"#bd3786\"],[0.5555555555555556,\"#d8576b\"],[0.6666666666666666,\"#ed7953\"],[0.7777777777777778,\"#fb9f3a\"],[0.8888888888888888,\"#fdca26\"],[1.0,\"#f0f921\"]],\"type\":\"heatmapgl\"}],\"heatmap\":[{\"colorbar\":{\"outlinewidth\":0,\"ticks\":\"\"},\"colorscale\":[[0.0,\"#0d0887\"],[0.1111111111111111,\"#46039f\"],[0.2222222222222222,\"#7201a8\"],[0.3333333333333333,\"#9c179e\"],[0.4444444444444444,\"#bd3786\"],[0.5555555555555556,\"#d8576b\"],[0.6666666666666666,\"#ed7953\"],[0.7777777777777778,\"#fb9f3a\"],[0.8888888888888888,\"#fdca26\"],[1.0,\"#f0f921\"]],\"type\":\"heatmap\"}],\"histogram2dcontour\":[{\"colorbar\":{\"outlinewidth\":0,\"ticks\":\"\"},\"colorscale\":[[0.0,\"#0d0887\"],[0.1111111111111111,\"#46039f\"],[0.2222222222222222,\"#7201a8\"],[0.3333333333333333,\"#9c179e\"],[0.4444444444444444,\"#bd3786\"],[0.5555555555555556,\"#d8576b\"],[0.6666666666666666,\"#ed7953\"],[0.7777777777777778,\"#fb9f3a\"],[0.8888888888888888,\"#fdca26\"],[1.0,\"#f0f921\"]],\"type\":\"histogram2dcontour\"}],\"histogram2d\":[{\"colorbar\":{\"outlinewidth\":0,\"ticks\":\"\"},\"colorscale\":[[0.0,\"#0d0887\"],[0.1111111111111111,\"#46039f\"],[0.2222222222222222,\"#7201a8\"],[0.3333333333333333,\"#9c179e\"],[0.4444444444444444,\"#bd3786\"],[0.5555555555555556,\"#d8576b\"],[0.6666666666666666,\"#ed7953\"],[0.7777777777777778,\"#fb9f3a\"],[0.8888888888888888,\"#fdca26\"],[1.0,\"#f0f921\"]],\"type\":\"histogram2d\"}],\"histogram\":[{\"marker\":{\"pattern\":{\"fillmode\":\"overlay\",\"size\":10,\"solidity\":0.2}},\"type\":\"histogram\"}],\"mesh3d\":[{\"colorbar\":{\"outlinewidth\":0,\"ticks\":\"\"},\"type\":\"mesh3d\"}],\"parcoords\":[{\"line\":{\"colorbar\":{\"outlinewidth\":0,\"ticks\":\"\"}},\"type\":\"parcoords\"}],\"pie\":[{\"automargin\":true,\"type\":\"pie\"}],\"scatter3d\":[{\"line\":{\"colorbar\":{\"outlinewidth\":0,\"ticks\":\"\"}},\"marker\":{\"colorbar\":{\"outlinewidth\":0,\"ticks\":\"\"}},\"type\":\"scatter3d\"}],\"scattercarpet\":[{\"marker\":{\"colorbar\":{\"outlinewidth\":0,\"ticks\":\"\"}},\"type\":\"scattercarpet\"}],\"scattergeo\":[{\"marker\":{\"colorbar\":{\"outlinewidth\":0,\"ticks\":\"\"}},\"type\":\"scattergeo\"}],\"scattergl\":[{\"marker\":{\"colorbar\":{\"outlinewidth\":0,\"ticks\":\"\"}},\"type\":\"scattergl\"}],\"scattermapbox\":[{\"marker\":{\"colorbar\":{\"outlinewidth\":0,\"ticks\":\"\"}},\"type\":\"scattermapbox\"}],\"scatterpolargl\":[{\"marker\":{\"colorbar\":{\"outlinewidth\":0,\"ticks\":\"\"}},\"type\":\"scatterpolargl\"}],\"scatterpolar\":[{\"marker\":{\"colorbar\":{\"outlinewidth\":0,\"ticks\":\"\"}},\"type\":\"scatterpolar\"}],\"scatter\":[{\"fillpattern\":{\"fillmode\":\"overlay\",\"size\":10,\"solidity\":0.2},\"type\":\"scatter\"}],\"scatterternary\":[{\"marker\":{\"colorbar\":{\"outlinewidth\":0,\"ticks\":\"\"}},\"type\":\"scatterternary\"}],\"surface\":[{\"colorbar\":{\"outlinewidth\":0,\"ticks\":\"\"},\"colorscale\":[[0.0,\"#0d0887\"],[0.1111111111111111,\"#46039f\"],[0.2222222222222222,\"#7201a8\"],[0.3333333333333333,\"#9c179e\"],[0.4444444444444444,\"#bd3786\"],[0.5555555555555556,\"#d8576b\"],[0.6666666666666666,\"#ed7953\"],[0.7777777777777778,\"#fb9f3a\"],[0.8888888888888888,\"#fdca26\"],[1.0,\"#f0f921\"]],\"type\":\"surface\"}],\"table\":[{\"cells\":{\"fill\":{\"color\":\"#EBF0F8\"},\"line\":{\"color\":\"white\"}},\"header\":{\"fill\":{\"color\":\"#C8D4E3\"},\"line\":{\"color\":\"white\"}},\"type\":\"table\"}]},\"layout\":{\"annotationdefaults\":{\"arrowcolor\":\"#2a3f5f\",\"arrowhead\":0,\"arrowwidth\":1},\"autotypenumbers\":\"strict\",\"coloraxis\":{\"colorbar\":{\"outlinewidth\":0,\"ticks\":\"\"}},\"colorscale\":{\"diverging\":[[0,\"#8e0152\"],[0.1,\"#c51b7d\"],[0.2,\"#de77ae\"],[0.3,\"#f1b6da\"],[0.4,\"#fde0ef\"],[0.5,\"#f7f7f7\"],[0.6,\"#e6f5d0\"],[0.7,\"#b8e186\"],[0.8,\"#7fbc41\"],[0.9,\"#4d9221\"],[1,\"#276419\"]],\"sequential\":[[0.0,\"#0d0887\"],[0.1111111111111111,\"#46039f\"],[0.2222222222222222,\"#7201a8\"],[0.3333333333333333,\"#9c179e\"],[0.4444444444444444,\"#bd3786\"],[0.5555555555555556,\"#d8576b\"],[0.6666666666666666,\"#ed7953\"],[0.7777777777777778,\"#fb9f3a\"],[0.8888888888888888,\"#fdca26\"],[1.0,\"#f0f921\"]],\"sequentialminus\":[[0.0,\"#0d0887\"],[0.1111111111111111,\"#46039f\"],[0.2222222222222222,\"#7201a8\"],[0.3333333333333333,\"#9c179e\"],[0.4444444444444444,\"#bd3786\"],[0.5555555555555556,\"#d8576b\"],[0.6666666666666666,\"#ed7953\"],[0.7777777777777778,\"#fb9f3a\"],[0.8888888888888888,\"#fdca26\"],[1.0,\"#f0f921\"]]},\"colorway\":[\"#636efa\",\"#EF553B\",\"#00cc96\",\"#ab63fa\",\"#FFA15A\",\"#19d3f3\",\"#FF6692\",\"#B6E880\",\"#FF97FF\",\"#FECB52\"],\"font\":{\"color\":\"#2a3f5f\"},\"geo\":{\"bgcolor\":\"white\",\"lakecolor\":\"white\",\"landcolor\":\"#E5ECF6\",\"showlakes\":true,\"showland\":true,\"subunitcolor\":\"white\"},\"hoverlabel\":{\"align\":\"left\"},\"hovermode\":\"closest\",\"mapbox\":{\"style\":\"light\"},\"paper_bgcolor\":\"white\",\"plot_bgcolor\":\"#E5ECF6\",\"polar\":{\"angularaxis\":{\"gridcolor\":\"white\",\"linecolor\":\"white\",\"ticks\":\"\"},\"bgcolor\":\"#E5ECF6\",\"radialaxis\":{\"gridcolor\":\"white\",\"linecolor\":\"white\",\"ticks\":\"\"}},\"scene\":{\"xaxis\":{\"backgroundcolor\":\"#E5ECF6\",\"gridcolor\":\"white\",\"gridwidth\":2,\"linecolor\":\"white\",\"showbackground\":true,\"ticks\":\"\",\"zerolinecolor\":\"white\"},\"yaxis\":{\"backgroundcolor\":\"#E5ECF6\",\"gridcolor\":\"white\",\"gridwidth\":2,\"linecolor\":\"white\",\"showbackground\":true,\"ticks\":\"\",\"zerolinecolor\":\"white\"},\"zaxis\":{\"backgroundcolor\":\"#E5ECF6\",\"gridcolor\":\"white\",\"gridwidth\":2,\"linecolor\":\"white\",\"showbackground\":true,\"ticks\":\"\",\"zerolinecolor\":\"white\"}},\"shapedefaults\":{\"line\":{\"color\":\"#2a3f5f\"}},\"ternary\":{\"aaxis\":{\"gridcolor\":\"white\",\"linecolor\":\"white\",\"ticks\":\"\"},\"baxis\":{\"gridcolor\":\"white\",\"linecolor\":\"white\",\"ticks\":\"\"},\"bgcolor\":\"#E5ECF6\",\"caxis\":{\"gridcolor\":\"white\",\"linecolor\":\"white\",\"ticks\":\"\"}},\"title\":{\"x\":0.05},\"xaxis\":{\"automargin\":true,\"gridcolor\":\"white\",\"linecolor\":\"white\",\"ticks\":\"\",\"title\":{\"standoff\":15},\"zerolinecolor\":\"white\",\"zerolinewidth\":2},\"yaxis\":{\"automargin\":true,\"gridcolor\":\"white\",\"linecolor\":\"white\",\"ticks\":\"\",\"title\":{\"standoff\":15},\"zerolinecolor\":\"white\",\"zerolinewidth\":2}}},\"title\":{\"font\":{\"color\":\"#4D5663\"}},\"xaxis\":{\"gridcolor\":\"#E1E5ED\",\"showgrid\":true,\"tickfont\":{\"color\":\"#4D5663\"},\"title\":{\"font\":{\"color\":\"#4D5663\"},\"text\":\"\"},\"zerolinecolor\":\"#E1E5ED\"},\"yaxis\":{\"gridcolor\":\"#E1E5ED\",\"showgrid\":true,\"tickfont\":{\"color\":\"#4D5663\"},\"title\":{\"font\":{\"color\":\"#4D5663\"},\"text\":\"\"},\"zerolinecolor\":\"#E1E5ED\"}},                        {\"showLink\": true, \"linkText\": \"Export to plot.ly\", \"plotlyServerURL\": \"https://plot.ly\", \"responsive\": true}                    ).then(function(){\n",
       "                            \n",
       "var gd = document.getElementById('32a42efa-121c-41cd-aa37-b9c332f56992');\n",
       "var x = new MutationObserver(function (mutations, observer) {{\n",
       "        var display = window.getComputedStyle(gd).display;\n",
       "        if (!display || display === 'none') {{\n",
       "            console.log([gd, 'removed!']);\n",
       "            Plotly.purge(gd);\n",
       "            observer.disconnect();\n",
       "        }}\n",
       "}});\n",
       "\n",
       "// Listen for the removal of the full notebook cells\n",
       "var notebookContainer = gd.closest('#notebook-container');\n",
       "if (notebookContainer) {{\n",
       "    x.observe(notebookContainer, {childList: true});\n",
       "}}\n",
       "\n",
       "// Listen for the clearing of the current output cell\n",
       "var outputEl = gd.closest('.output');\n",
       "if (outputEl) {{\n",
       "    x.observe(outputEl, {childList: true});\n",
       "}}\n",
       "\n",
       "                        })                };                });            </script>        </div>"
      ]
     },
     "metadata": {},
     "output_type": "display_data"
    }
   ],
   "source": [
    "df.iplot(kind='scatter', x='A', y='B', mode='markers', size=30)"
   ]
  },
  {
   "cell_type": "code",
   "execution_count": 22,
   "id": "7dcaacbe",
   "metadata": {},
   "outputs": [
    {
     "data": {
      "application/vnd.plotly.v1+json": {
       "config": {
        "linkText": "Export to plot.ly",
        "plotlyServerURL": "https://plot.ly",
        "showLink": true
       },
       "data": [
        {
         "marker": {
          "color": "rgba(255, 153, 51, 0.6)",
          "line": {
           "color": "rgba(255, 153, 51, 1.0)",
           "width": 1
          }
         },
         "name": "Values",
         "orientation": "v",
         "text": "",
         "type": "bar",
         "x": [
          "A",
          "B",
          "C"
         ],
         "y": [
          32,
          43,
          50
         ]
        }
       ],
       "layout": {
        "legend": {
         "bgcolor": "#F5F6F9",
         "font": {
          "color": "#4D5663"
         }
        },
        "paper_bgcolor": "#F5F6F9",
        "plot_bgcolor": "#F5F6F9",
        "template": {
         "data": {
          "bar": [
           {
            "error_x": {
             "color": "#2a3f5f"
            },
            "error_y": {
             "color": "#2a3f5f"
            },
            "marker": {
             "line": {
              "color": "#E5ECF6",
              "width": 0.5
             },
             "pattern": {
              "fillmode": "overlay",
              "size": 10,
              "solidity": 0.2
             }
            },
            "type": "bar"
           }
          ],
          "barpolar": [
           {
            "marker": {
             "line": {
              "color": "#E5ECF6",
              "width": 0.5
             },
             "pattern": {
              "fillmode": "overlay",
              "size": 10,
              "solidity": 0.2
             }
            },
            "type": "barpolar"
           }
          ],
          "carpet": [
           {
            "aaxis": {
             "endlinecolor": "#2a3f5f",
             "gridcolor": "white",
             "linecolor": "white",
             "minorgridcolor": "white",
             "startlinecolor": "#2a3f5f"
            },
            "baxis": {
             "endlinecolor": "#2a3f5f",
             "gridcolor": "white",
             "linecolor": "white",
             "minorgridcolor": "white",
             "startlinecolor": "#2a3f5f"
            },
            "type": "carpet"
           }
          ],
          "choropleth": [
           {
            "colorbar": {
             "outlinewidth": 0,
             "ticks": ""
            },
            "type": "choropleth"
           }
          ],
          "contour": [
           {
            "colorbar": {
             "outlinewidth": 0,
             "ticks": ""
            },
            "colorscale": [
             [
              0,
              "#0d0887"
             ],
             [
              0.1111111111111111,
              "#46039f"
             ],
             [
              0.2222222222222222,
              "#7201a8"
             ],
             [
              0.3333333333333333,
              "#9c179e"
             ],
             [
              0.4444444444444444,
              "#bd3786"
             ],
             [
              0.5555555555555556,
              "#d8576b"
             ],
             [
              0.6666666666666666,
              "#ed7953"
             ],
             [
              0.7777777777777778,
              "#fb9f3a"
             ],
             [
              0.8888888888888888,
              "#fdca26"
             ],
             [
              1,
              "#f0f921"
             ]
            ],
            "type": "contour"
           }
          ],
          "contourcarpet": [
           {
            "colorbar": {
             "outlinewidth": 0,
             "ticks": ""
            },
            "type": "contourcarpet"
           }
          ],
          "heatmap": [
           {
            "colorbar": {
             "outlinewidth": 0,
             "ticks": ""
            },
            "colorscale": [
             [
              0,
              "#0d0887"
             ],
             [
              0.1111111111111111,
              "#46039f"
             ],
             [
              0.2222222222222222,
              "#7201a8"
             ],
             [
              0.3333333333333333,
              "#9c179e"
             ],
             [
              0.4444444444444444,
              "#bd3786"
             ],
             [
              0.5555555555555556,
              "#d8576b"
             ],
             [
              0.6666666666666666,
              "#ed7953"
             ],
             [
              0.7777777777777778,
              "#fb9f3a"
             ],
             [
              0.8888888888888888,
              "#fdca26"
             ],
             [
              1,
              "#f0f921"
             ]
            ],
            "type": "heatmap"
           }
          ],
          "heatmapgl": [
           {
            "colorbar": {
             "outlinewidth": 0,
             "ticks": ""
            },
            "colorscale": [
             [
              0,
              "#0d0887"
             ],
             [
              0.1111111111111111,
              "#46039f"
             ],
             [
              0.2222222222222222,
              "#7201a8"
             ],
             [
              0.3333333333333333,
              "#9c179e"
             ],
             [
              0.4444444444444444,
              "#bd3786"
             ],
             [
              0.5555555555555556,
              "#d8576b"
             ],
             [
              0.6666666666666666,
              "#ed7953"
             ],
             [
              0.7777777777777778,
              "#fb9f3a"
             ],
             [
              0.8888888888888888,
              "#fdca26"
             ],
             [
              1,
              "#f0f921"
             ]
            ],
            "type": "heatmapgl"
           }
          ],
          "histogram": [
           {
            "marker": {
             "pattern": {
              "fillmode": "overlay",
              "size": 10,
              "solidity": 0.2
             }
            },
            "type": "histogram"
           }
          ],
          "histogram2d": [
           {
            "colorbar": {
             "outlinewidth": 0,
             "ticks": ""
            },
            "colorscale": [
             [
              0,
              "#0d0887"
             ],
             [
              0.1111111111111111,
              "#46039f"
             ],
             [
              0.2222222222222222,
              "#7201a8"
             ],
             [
              0.3333333333333333,
              "#9c179e"
             ],
             [
              0.4444444444444444,
              "#bd3786"
             ],
             [
              0.5555555555555556,
              "#d8576b"
             ],
             [
              0.6666666666666666,
              "#ed7953"
             ],
             [
              0.7777777777777778,
              "#fb9f3a"
             ],
             [
              0.8888888888888888,
              "#fdca26"
             ],
             [
              1,
              "#f0f921"
             ]
            ],
            "type": "histogram2d"
           }
          ],
          "histogram2dcontour": [
           {
            "colorbar": {
             "outlinewidth": 0,
             "ticks": ""
            },
            "colorscale": [
             [
              0,
              "#0d0887"
             ],
             [
              0.1111111111111111,
              "#46039f"
             ],
             [
              0.2222222222222222,
              "#7201a8"
             ],
             [
              0.3333333333333333,
              "#9c179e"
             ],
             [
              0.4444444444444444,
              "#bd3786"
             ],
             [
              0.5555555555555556,
              "#d8576b"
             ],
             [
              0.6666666666666666,
              "#ed7953"
             ],
             [
              0.7777777777777778,
              "#fb9f3a"
             ],
             [
              0.8888888888888888,
              "#fdca26"
             ],
             [
              1,
              "#f0f921"
             ]
            ],
            "type": "histogram2dcontour"
           }
          ],
          "mesh3d": [
           {
            "colorbar": {
             "outlinewidth": 0,
             "ticks": ""
            },
            "type": "mesh3d"
           }
          ],
          "parcoords": [
           {
            "line": {
             "colorbar": {
              "outlinewidth": 0,
              "ticks": ""
             }
            },
            "type": "parcoords"
           }
          ],
          "pie": [
           {
            "automargin": true,
            "type": "pie"
           }
          ],
          "scatter": [
           {
            "fillpattern": {
             "fillmode": "overlay",
             "size": 10,
             "solidity": 0.2
            },
            "type": "scatter"
           }
          ],
          "scatter3d": [
           {
            "line": {
             "colorbar": {
              "outlinewidth": 0,
              "ticks": ""
             }
            },
            "marker": {
             "colorbar": {
              "outlinewidth": 0,
              "ticks": ""
             }
            },
            "type": "scatter3d"
           }
          ],
          "scattercarpet": [
           {
            "marker": {
             "colorbar": {
              "outlinewidth": 0,
              "ticks": ""
             }
            },
            "type": "scattercarpet"
           }
          ],
          "scattergeo": [
           {
            "marker": {
             "colorbar": {
              "outlinewidth": 0,
              "ticks": ""
             }
            },
            "type": "scattergeo"
           }
          ],
          "scattergl": [
           {
            "marker": {
             "colorbar": {
              "outlinewidth": 0,
              "ticks": ""
             }
            },
            "type": "scattergl"
           }
          ],
          "scattermapbox": [
           {
            "marker": {
             "colorbar": {
              "outlinewidth": 0,
              "ticks": ""
             }
            },
            "type": "scattermapbox"
           }
          ],
          "scatterpolar": [
           {
            "marker": {
             "colorbar": {
              "outlinewidth": 0,
              "ticks": ""
             }
            },
            "type": "scatterpolar"
           }
          ],
          "scatterpolargl": [
           {
            "marker": {
             "colorbar": {
              "outlinewidth": 0,
              "ticks": ""
             }
            },
            "type": "scatterpolargl"
           }
          ],
          "scatterternary": [
           {
            "marker": {
             "colorbar": {
              "outlinewidth": 0,
              "ticks": ""
             }
            },
            "type": "scatterternary"
           }
          ],
          "surface": [
           {
            "colorbar": {
             "outlinewidth": 0,
             "ticks": ""
            },
            "colorscale": [
             [
              0,
              "#0d0887"
             ],
             [
              0.1111111111111111,
              "#46039f"
             ],
             [
              0.2222222222222222,
              "#7201a8"
             ],
             [
              0.3333333333333333,
              "#9c179e"
             ],
             [
              0.4444444444444444,
              "#bd3786"
             ],
             [
              0.5555555555555556,
              "#d8576b"
             ],
             [
              0.6666666666666666,
              "#ed7953"
             ],
             [
              0.7777777777777778,
              "#fb9f3a"
             ],
             [
              0.8888888888888888,
              "#fdca26"
             ],
             [
              1,
              "#f0f921"
             ]
            ],
            "type": "surface"
           }
          ],
          "table": [
           {
            "cells": {
             "fill": {
              "color": "#EBF0F8"
             },
             "line": {
              "color": "white"
             }
            },
            "header": {
             "fill": {
              "color": "#C8D4E3"
             },
             "line": {
              "color": "white"
             }
            },
            "type": "table"
           }
          ]
         },
         "layout": {
          "annotationdefaults": {
           "arrowcolor": "#2a3f5f",
           "arrowhead": 0,
           "arrowwidth": 1
          },
          "autotypenumbers": "strict",
          "coloraxis": {
           "colorbar": {
            "outlinewidth": 0,
            "ticks": ""
           }
          },
          "colorscale": {
           "diverging": [
            [
             0,
             "#8e0152"
            ],
            [
             0.1,
             "#c51b7d"
            ],
            [
             0.2,
             "#de77ae"
            ],
            [
             0.3,
             "#f1b6da"
            ],
            [
             0.4,
             "#fde0ef"
            ],
            [
             0.5,
             "#f7f7f7"
            ],
            [
             0.6,
             "#e6f5d0"
            ],
            [
             0.7,
             "#b8e186"
            ],
            [
             0.8,
             "#7fbc41"
            ],
            [
             0.9,
             "#4d9221"
            ],
            [
             1,
             "#276419"
            ]
           ],
           "sequential": [
            [
             0,
             "#0d0887"
            ],
            [
             0.1111111111111111,
             "#46039f"
            ],
            [
             0.2222222222222222,
             "#7201a8"
            ],
            [
             0.3333333333333333,
             "#9c179e"
            ],
            [
             0.4444444444444444,
             "#bd3786"
            ],
            [
             0.5555555555555556,
             "#d8576b"
            ],
            [
             0.6666666666666666,
             "#ed7953"
            ],
            [
             0.7777777777777778,
             "#fb9f3a"
            ],
            [
             0.8888888888888888,
             "#fdca26"
            ],
            [
             1,
             "#f0f921"
            ]
           ],
           "sequentialminus": [
            [
             0,
             "#0d0887"
            ],
            [
             0.1111111111111111,
             "#46039f"
            ],
            [
             0.2222222222222222,
             "#7201a8"
            ],
            [
             0.3333333333333333,
             "#9c179e"
            ],
            [
             0.4444444444444444,
             "#bd3786"
            ],
            [
             0.5555555555555556,
             "#d8576b"
            ],
            [
             0.6666666666666666,
             "#ed7953"
            ],
            [
             0.7777777777777778,
             "#fb9f3a"
            ],
            [
             0.8888888888888888,
             "#fdca26"
            ],
            [
             1,
             "#f0f921"
            ]
           ]
          },
          "colorway": [
           "#636efa",
           "#EF553B",
           "#00cc96",
           "#ab63fa",
           "#FFA15A",
           "#19d3f3",
           "#FF6692",
           "#B6E880",
           "#FF97FF",
           "#FECB52"
          ],
          "font": {
           "color": "#2a3f5f"
          },
          "geo": {
           "bgcolor": "white",
           "lakecolor": "white",
           "landcolor": "#E5ECF6",
           "showlakes": true,
           "showland": true,
           "subunitcolor": "white"
          },
          "hoverlabel": {
           "align": "left"
          },
          "hovermode": "closest",
          "mapbox": {
           "style": "light"
          },
          "paper_bgcolor": "white",
          "plot_bgcolor": "#E5ECF6",
          "polar": {
           "angularaxis": {
            "gridcolor": "white",
            "linecolor": "white",
            "ticks": ""
           },
           "bgcolor": "#E5ECF6",
           "radialaxis": {
            "gridcolor": "white",
            "linecolor": "white",
            "ticks": ""
           }
          },
          "scene": {
           "xaxis": {
            "backgroundcolor": "#E5ECF6",
            "gridcolor": "white",
            "gridwidth": 2,
            "linecolor": "white",
            "showbackground": true,
            "ticks": "",
            "zerolinecolor": "white"
           },
           "yaxis": {
            "backgroundcolor": "#E5ECF6",
            "gridcolor": "white",
            "gridwidth": 2,
            "linecolor": "white",
            "showbackground": true,
            "ticks": "",
            "zerolinecolor": "white"
           },
           "zaxis": {
            "backgroundcolor": "#E5ECF6",
            "gridcolor": "white",
            "gridwidth": 2,
            "linecolor": "white",
            "showbackground": true,
            "ticks": "",
            "zerolinecolor": "white"
           }
          },
          "shapedefaults": {
           "line": {
            "color": "#2a3f5f"
           }
          },
          "ternary": {
           "aaxis": {
            "gridcolor": "white",
            "linecolor": "white",
            "ticks": ""
           },
           "baxis": {
            "gridcolor": "white",
            "linecolor": "white",
            "ticks": ""
           },
           "bgcolor": "#E5ECF6",
           "caxis": {
            "gridcolor": "white",
            "linecolor": "white",
            "ticks": ""
           }
          },
          "title": {
           "x": 0.05
          },
          "xaxis": {
           "automargin": true,
           "gridcolor": "white",
           "linecolor": "white",
           "ticks": "",
           "title": {
            "standoff": 15
           },
           "zerolinecolor": "white",
           "zerolinewidth": 2
          },
          "yaxis": {
           "automargin": true,
           "gridcolor": "white",
           "linecolor": "white",
           "ticks": "",
           "title": {
            "standoff": 15
           },
           "zerolinecolor": "white",
           "zerolinewidth": 2
          }
         }
        },
        "title": {
         "font": {
          "color": "#4D5663"
         }
        },
        "xaxis": {
         "gridcolor": "#E1E5ED",
         "showgrid": true,
         "tickfont": {
          "color": "#4D5663"
         },
         "title": {
          "font": {
           "color": "#4D5663"
          },
          "text": ""
         },
         "zerolinecolor": "#E1E5ED"
        },
        "yaxis": {
         "gridcolor": "#E1E5ED",
         "showgrid": true,
         "tickfont": {
          "color": "#4D5663"
         },
         "title": {
          "font": {
           "color": "#4D5663"
          },
          "text": ""
         },
         "zerolinecolor": "#E1E5ED"
        }
       }
      },
      "text/html": [
       "<div>                            <div id=\"ae4dbd99-3432-4133-bd76-79ae4705013c\" class=\"plotly-graph-div\" style=\"height:525px; width:100%;\"></div>            <script type=\"text/javascript\">                require([\"plotly\"], function(Plotly) {                    window.PLOTLYENV=window.PLOTLYENV || {};\n",
       "                    window.PLOTLYENV.BASE_URL='https://plot.ly';                                    if (document.getElementById(\"ae4dbd99-3432-4133-bd76-79ae4705013c\")) {                    Plotly.newPlot(                        \"ae4dbd99-3432-4133-bd76-79ae4705013c\",                        [{\"marker\":{\"color\":\"rgba(255, 153, 51, 0.6)\",\"line\":{\"color\":\"rgba(255, 153, 51, 1.0)\",\"width\":1}},\"name\":\"Values\",\"orientation\":\"v\",\"text\":\"\",\"x\":[\"A\",\"B\",\"C\"],\"y\":[32,43,50],\"type\":\"bar\"}],                        {\"legend\":{\"bgcolor\":\"#F5F6F9\",\"font\":{\"color\":\"#4D5663\"}},\"paper_bgcolor\":\"#F5F6F9\",\"plot_bgcolor\":\"#F5F6F9\",\"template\":{\"data\":{\"barpolar\":[{\"marker\":{\"line\":{\"color\":\"#E5ECF6\",\"width\":0.5},\"pattern\":{\"fillmode\":\"overlay\",\"size\":10,\"solidity\":0.2}},\"type\":\"barpolar\"}],\"bar\":[{\"error_x\":{\"color\":\"#2a3f5f\"},\"error_y\":{\"color\":\"#2a3f5f\"},\"marker\":{\"line\":{\"color\":\"#E5ECF6\",\"width\":0.5},\"pattern\":{\"fillmode\":\"overlay\",\"size\":10,\"solidity\":0.2}},\"type\":\"bar\"}],\"carpet\":[{\"aaxis\":{\"endlinecolor\":\"#2a3f5f\",\"gridcolor\":\"white\",\"linecolor\":\"white\",\"minorgridcolor\":\"white\",\"startlinecolor\":\"#2a3f5f\"},\"baxis\":{\"endlinecolor\":\"#2a3f5f\",\"gridcolor\":\"white\",\"linecolor\":\"white\",\"minorgridcolor\":\"white\",\"startlinecolor\":\"#2a3f5f\"},\"type\":\"carpet\"}],\"choropleth\":[{\"colorbar\":{\"outlinewidth\":0,\"ticks\":\"\"},\"type\":\"choropleth\"}],\"contourcarpet\":[{\"colorbar\":{\"outlinewidth\":0,\"ticks\":\"\"},\"type\":\"contourcarpet\"}],\"contour\":[{\"colorbar\":{\"outlinewidth\":0,\"ticks\":\"\"},\"colorscale\":[[0.0,\"#0d0887\"],[0.1111111111111111,\"#46039f\"],[0.2222222222222222,\"#7201a8\"],[0.3333333333333333,\"#9c179e\"],[0.4444444444444444,\"#bd3786\"],[0.5555555555555556,\"#d8576b\"],[0.6666666666666666,\"#ed7953\"],[0.7777777777777778,\"#fb9f3a\"],[0.8888888888888888,\"#fdca26\"],[1.0,\"#f0f921\"]],\"type\":\"contour\"}],\"heatmapgl\":[{\"colorbar\":{\"outlinewidth\":0,\"ticks\":\"\"},\"colorscale\":[[0.0,\"#0d0887\"],[0.1111111111111111,\"#46039f\"],[0.2222222222222222,\"#7201a8\"],[0.3333333333333333,\"#9c179e\"],[0.4444444444444444,\"#bd3786\"],[0.5555555555555556,\"#d8576b\"],[0.6666666666666666,\"#ed7953\"],[0.7777777777777778,\"#fb9f3a\"],[0.8888888888888888,\"#fdca26\"],[1.0,\"#f0f921\"]],\"type\":\"heatmapgl\"}],\"heatmap\":[{\"colorbar\":{\"outlinewidth\":0,\"ticks\":\"\"},\"colorscale\":[[0.0,\"#0d0887\"],[0.1111111111111111,\"#46039f\"],[0.2222222222222222,\"#7201a8\"],[0.3333333333333333,\"#9c179e\"],[0.4444444444444444,\"#bd3786\"],[0.5555555555555556,\"#d8576b\"],[0.6666666666666666,\"#ed7953\"],[0.7777777777777778,\"#fb9f3a\"],[0.8888888888888888,\"#fdca26\"],[1.0,\"#f0f921\"]],\"type\":\"heatmap\"}],\"histogram2dcontour\":[{\"colorbar\":{\"outlinewidth\":0,\"ticks\":\"\"},\"colorscale\":[[0.0,\"#0d0887\"],[0.1111111111111111,\"#46039f\"],[0.2222222222222222,\"#7201a8\"],[0.3333333333333333,\"#9c179e\"],[0.4444444444444444,\"#bd3786\"],[0.5555555555555556,\"#d8576b\"],[0.6666666666666666,\"#ed7953\"],[0.7777777777777778,\"#fb9f3a\"],[0.8888888888888888,\"#fdca26\"],[1.0,\"#f0f921\"]],\"type\":\"histogram2dcontour\"}],\"histogram2d\":[{\"colorbar\":{\"outlinewidth\":0,\"ticks\":\"\"},\"colorscale\":[[0.0,\"#0d0887\"],[0.1111111111111111,\"#46039f\"],[0.2222222222222222,\"#7201a8\"],[0.3333333333333333,\"#9c179e\"],[0.4444444444444444,\"#bd3786\"],[0.5555555555555556,\"#d8576b\"],[0.6666666666666666,\"#ed7953\"],[0.7777777777777778,\"#fb9f3a\"],[0.8888888888888888,\"#fdca26\"],[1.0,\"#f0f921\"]],\"type\":\"histogram2d\"}],\"histogram\":[{\"marker\":{\"pattern\":{\"fillmode\":\"overlay\",\"size\":10,\"solidity\":0.2}},\"type\":\"histogram\"}],\"mesh3d\":[{\"colorbar\":{\"outlinewidth\":0,\"ticks\":\"\"},\"type\":\"mesh3d\"}],\"parcoords\":[{\"line\":{\"colorbar\":{\"outlinewidth\":0,\"ticks\":\"\"}},\"type\":\"parcoords\"}],\"pie\":[{\"automargin\":true,\"type\":\"pie\"}],\"scatter3d\":[{\"line\":{\"colorbar\":{\"outlinewidth\":0,\"ticks\":\"\"}},\"marker\":{\"colorbar\":{\"outlinewidth\":0,\"ticks\":\"\"}},\"type\":\"scatter3d\"}],\"scattercarpet\":[{\"marker\":{\"colorbar\":{\"outlinewidth\":0,\"ticks\":\"\"}},\"type\":\"scattercarpet\"}],\"scattergeo\":[{\"marker\":{\"colorbar\":{\"outlinewidth\":0,\"ticks\":\"\"}},\"type\":\"scattergeo\"}],\"scattergl\":[{\"marker\":{\"colorbar\":{\"outlinewidth\":0,\"ticks\":\"\"}},\"type\":\"scattergl\"}],\"scattermapbox\":[{\"marker\":{\"colorbar\":{\"outlinewidth\":0,\"ticks\":\"\"}},\"type\":\"scattermapbox\"}],\"scatterpolargl\":[{\"marker\":{\"colorbar\":{\"outlinewidth\":0,\"ticks\":\"\"}},\"type\":\"scatterpolargl\"}],\"scatterpolar\":[{\"marker\":{\"colorbar\":{\"outlinewidth\":0,\"ticks\":\"\"}},\"type\":\"scatterpolar\"}],\"scatter\":[{\"fillpattern\":{\"fillmode\":\"overlay\",\"size\":10,\"solidity\":0.2},\"type\":\"scatter\"}],\"scatterternary\":[{\"marker\":{\"colorbar\":{\"outlinewidth\":0,\"ticks\":\"\"}},\"type\":\"scatterternary\"}],\"surface\":[{\"colorbar\":{\"outlinewidth\":0,\"ticks\":\"\"},\"colorscale\":[[0.0,\"#0d0887\"],[0.1111111111111111,\"#46039f\"],[0.2222222222222222,\"#7201a8\"],[0.3333333333333333,\"#9c179e\"],[0.4444444444444444,\"#bd3786\"],[0.5555555555555556,\"#d8576b\"],[0.6666666666666666,\"#ed7953\"],[0.7777777777777778,\"#fb9f3a\"],[0.8888888888888888,\"#fdca26\"],[1.0,\"#f0f921\"]],\"type\":\"surface\"}],\"table\":[{\"cells\":{\"fill\":{\"color\":\"#EBF0F8\"},\"line\":{\"color\":\"white\"}},\"header\":{\"fill\":{\"color\":\"#C8D4E3\"},\"line\":{\"color\":\"white\"}},\"type\":\"table\"}]},\"layout\":{\"annotationdefaults\":{\"arrowcolor\":\"#2a3f5f\",\"arrowhead\":0,\"arrowwidth\":1},\"autotypenumbers\":\"strict\",\"coloraxis\":{\"colorbar\":{\"outlinewidth\":0,\"ticks\":\"\"}},\"colorscale\":{\"diverging\":[[0,\"#8e0152\"],[0.1,\"#c51b7d\"],[0.2,\"#de77ae\"],[0.3,\"#f1b6da\"],[0.4,\"#fde0ef\"],[0.5,\"#f7f7f7\"],[0.6,\"#e6f5d0\"],[0.7,\"#b8e186\"],[0.8,\"#7fbc41\"],[0.9,\"#4d9221\"],[1,\"#276419\"]],\"sequential\":[[0.0,\"#0d0887\"],[0.1111111111111111,\"#46039f\"],[0.2222222222222222,\"#7201a8\"],[0.3333333333333333,\"#9c179e\"],[0.4444444444444444,\"#bd3786\"],[0.5555555555555556,\"#d8576b\"],[0.6666666666666666,\"#ed7953\"],[0.7777777777777778,\"#fb9f3a\"],[0.8888888888888888,\"#fdca26\"],[1.0,\"#f0f921\"]],\"sequentialminus\":[[0.0,\"#0d0887\"],[0.1111111111111111,\"#46039f\"],[0.2222222222222222,\"#7201a8\"],[0.3333333333333333,\"#9c179e\"],[0.4444444444444444,\"#bd3786\"],[0.5555555555555556,\"#d8576b\"],[0.6666666666666666,\"#ed7953\"],[0.7777777777777778,\"#fb9f3a\"],[0.8888888888888888,\"#fdca26\"],[1.0,\"#f0f921\"]]},\"colorway\":[\"#636efa\",\"#EF553B\",\"#00cc96\",\"#ab63fa\",\"#FFA15A\",\"#19d3f3\",\"#FF6692\",\"#B6E880\",\"#FF97FF\",\"#FECB52\"],\"font\":{\"color\":\"#2a3f5f\"},\"geo\":{\"bgcolor\":\"white\",\"lakecolor\":\"white\",\"landcolor\":\"#E5ECF6\",\"showlakes\":true,\"showland\":true,\"subunitcolor\":\"white\"},\"hoverlabel\":{\"align\":\"left\"},\"hovermode\":\"closest\",\"mapbox\":{\"style\":\"light\"},\"paper_bgcolor\":\"white\",\"plot_bgcolor\":\"#E5ECF6\",\"polar\":{\"angularaxis\":{\"gridcolor\":\"white\",\"linecolor\":\"white\",\"ticks\":\"\"},\"bgcolor\":\"#E5ECF6\",\"radialaxis\":{\"gridcolor\":\"white\",\"linecolor\":\"white\",\"ticks\":\"\"}},\"scene\":{\"xaxis\":{\"backgroundcolor\":\"#E5ECF6\",\"gridcolor\":\"white\",\"gridwidth\":2,\"linecolor\":\"white\",\"showbackground\":true,\"ticks\":\"\",\"zerolinecolor\":\"white\"},\"yaxis\":{\"backgroundcolor\":\"#E5ECF6\",\"gridcolor\":\"white\",\"gridwidth\":2,\"linecolor\":\"white\",\"showbackground\":true,\"ticks\":\"\",\"zerolinecolor\":\"white\"},\"zaxis\":{\"backgroundcolor\":\"#E5ECF6\",\"gridcolor\":\"white\",\"gridwidth\":2,\"linecolor\":\"white\",\"showbackground\":true,\"ticks\":\"\",\"zerolinecolor\":\"white\"}},\"shapedefaults\":{\"line\":{\"color\":\"#2a3f5f\"}},\"ternary\":{\"aaxis\":{\"gridcolor\":\"white\",\"linecolor\":\"white\",\"ticks\":\"\"},\"baxis\":{\"gridcolor\":\"white\",\"linecolor\":\"white\",\"ticks\":\"\"},\"bgcolor\":\"#E5ECF6\",\"caxis\":{\"gridcolor\":\"white\",\"linecolor\":\"white\",\"ticks\":\"\"}},\"title\":{\"x\":0.05},\"xaxis\":{\"automargin\":true,\"gridcolor\":\"white\",\"linecolor\":\"white\",\"ticks\":\"\",\"title\":{\"standoff\":15},\"zerolinecolor\":\"white\",\"zerolinewidth\":2},\"yaxis\":{\"automargin\":true,\"gridcolor\":\"white\",\"linecolor\":\"white\",\"ticks\":\"\",\"title\":{\"standoff\":15},\"zerolinecolor\":\"white\",\"zerolinewidth\":2}}},\"title\":{\"font\":{\"color\":\"#4D5663\"}},\"xaxis\":{\"gridcolor\":\"#E1E5ED\",\"showgrid\":true,\"tickfont\":{\"color\":\"#4D5663\"},\"title\":{\"font\":{\"color\":\"#4D5663\"},\"text\":\"\"},\"zerolinecolor\":\"#E1E5ED\"},\"yaxis\":{\"gridcolor\":\"#E1E5ED\",\"showgrid\":true,\"tickfont\":{\"color\":\"#4D5663\"},\"title\":{\"font\":{\"color\":\"#4D5663\"},\"text\":\"\"},\"zerolinecolor\":\"#E1E5ED\"}},                        {\"showLink\": true, \"linkText\": \"Export to plot.ly\", \"plotlyServerURL\": \"https://plot.ly\", \"responsive\": true}                    ).then(function(){\n",
       "                            \n",
       "var gd = document.getElementById('ae4dbd99-3432-4133-bd76-79ae4705013c');\n",
       "var x = new MutationObserver(function (mutations, observer) {{\n",
       "        var display = window.getComputedStyle(gd).display;\n",
       "        if (!display || display === 'none') {{\n",
       "            console.log([gd, 'removed!']);\n",
       "            Plotly.purge(gd);\n",
       "            observer.disconnect();\n",
       "        }}\n",
       "}});\n",
       "\n",
       "// Listen for the removal of the full notebook cells\n",
       "var notebookContainer = gd.closest('#notebook-container');\n",
       "if (notebookContainer) {{\n",
       "    x.observe(notebookContainer, {childList: true});\n",
       "}}\n",
       "\n",
       "// Listen for the clearing of the current output cell\n",
       "var outputEl = gd.closest('.output');\n",
       "if (outputEl) {{\n",
       "    x.observe(outputEl, {childList: true});\n",
       "}}\n",
       "\n",
       "                        })                };                });            </script>        </div>"
      ]
     },
     "metadata": {},
     "output_type": "display_data"
    }
   ],
   "source": [
    "df2.iplot(kind='bar', x='Category', y='Values')"
   ]
  },
  {
   "cell_type": "code",
   "execution_count": 23,
   "id": "df6a9f04",
   "metadata": {},
   "outputs": [
    {
     "data": {
      "text/html": [
       "<div>\n",
       "<style scoped>\n",
       "    .dataframe tbody tr th:only-of-type {\n",
       "        vertical-align: middle;\n",
       "    }\n",
       "\n",
       "    .dataframe tbody tr th {\n",
       "        vertical-align: top;\n",
       "    }\n",
       "\n",
       "    .dataframe thead th {\n",
       "        text-align: right;\n",
       "    }\n",
       "</style>\n",
       "<table border=\"1\" class=\"dataframe\">\n",
       "  <thead>\n",
       "    <tr style=\"text-align: right;\">\n",
       "      <th></th>\n",
       "      <th>A</th>\n",
       "      <th>B</th>\n",
       "      <th>C</th>\n",
       "      <th>D</th>\n",
       "    </tr>\n",
       "  </thead>\n",
       "  <tbody>\n",
       "    <tr>\n",
       "      <th>0</th>\n",
       "      <td>0.963462</td>\n",
       "      <td>-0.091480</td>\n",
       "      <td>-0.184641</td>\n",
       "      <td>-0.085122</td>\n",
       "    </tr>\n",
       "    <tr>\n",
       "      <th>1</th>\n",
       "      <td>-0.120552</td>\n",
       "      <td>-1.738551</td>\n",
       "      <td>-1.837509</td>\n",
       "      <td>1.486407</td>\n",
       "    </tr>\n",
       "    <tr>\n",
       "      <th>2</th>\n",
       "      <td>0.250082</td>\n",
       "      <td>0.922159</td>\n",
       "      <td>-1.428226</td>\n",
       "      <td>0.188724</td>\n",
       "    </tr>\n",
       "    <tr>\n",
       "      <th>3</th>\n",
       "      <td>-0.501314</td>\n",
       "      <td>-1.093163</td>\n",
       "      <td>-0.192692</td>\n",
       "      <td>-0.658737</td>\n",
       "    </tr>\n",
       "    <tr>\n",
       "      <th>4</th>\n",
       "      <td>0.129284</td>\n",
       "      <td>0.331405</td>\n",
       "      <td>-0.098618</td>\n",
       "      <td>0.802164</td>\n",
       "    </tr>\n",
       "    <tr>\n",
       "      <th>...</th>\n",
       "      <td>...</td>\n",
       "      <td>...</td>\n",
       "      <td>...</td>\n",
       "      <td>...</td>\n",
       "    </tr>\n",
       "    <tr>\n",
       "      <th>95</th>\n",
       "      <td>0.370364</td>\n",
       "      <td>0.747214</td>\n",
       "      <td>1.564309</td>\n",
       "      <td>1.061668</td>\n",
       "    </tr>\n",
       "    <tr>\n",
       "      <th>96</th>\n",
       "      <td>-0.594891</td>\n",
       "      <td>2.272296</td>\n",
       "      <td>-1.114711</td>\n",
       "      <td>-1.727826</td>\n",
       "    </tr>\n",
       "    <tr>\n",
       "      <th>97</th>\n",
       "      <td>0.346136</td>\n",
       "      <td>0.877225</td>\n",
       "      <td>0.614465</td>\n",
       "      <td>1.638448</td>\n",
       "    </tr>\n",
       "    <tr>\n",
       "      <th>98</th>\n",
       "      <td>0.074316</td>\n",
       "      <td>-0.437817</td>\n",
       "      <td>-2.008130</td>\n",
       "      <td>-0.573777</td>\n",
       "    </tr>\n",
       "    <tr>\n",
       "      <th>99</th>\n",
       "      <td>-1.247251</td>\n",
       "      <td>-1.158531</td>\n",
       "      <td>1.940990</td>\n",
       "      <td>0.771645</td>\n",
       "    </tr>\n",
       "  </tbody>\n",
       "</table>\n",
       "<p>100 rows × 4 columns</p>\n",
       "</div>"
      ],
      "text/plain": [
       "           A         B         C         D\n",
       "0   0.963462 -0.091480 -0.184641 -0.085122\n",
       "1  -0.120552 -1.738551 -1.837509  1.486407\n",
       "2   0.250082  0.922159 -1.428226  0.188724\n",
       "3  -0.501314 -1.093163 -0.192692 -0.658737\n",
       "4   0.129284  0.331405 -0.098618  0.802164\n",
       "..       ...       ...       ...       ...\n",
       "95  0.370364  0.747214  1.564309  1.061668\n",
       "96 -0.594891  2.272296 -1.114711 -1.727826\n",
       "97  0.346136  0.877225  0.614465  1.638448\n",
       "98  0.074316 -0.437817 -2.008130 -0.573777\n",
       "99 -1.247251 -1.158531  1.940990  0.771645\n",
       "\n",
       "[100 rows x 4 columns]"
      ]
     },
     "execution_count": 23,
     "metadata": {},
     "output_type": "execute_result"
    }
   ],
   "source": [
    "df"
   ]
  },
  {
   "cell_type": "code",
   "execution_count": 25,
   "id": "81d5cdf9",
   "metadata": {},
   "outputs": [
    {
     "data": {
      "application/vnd.plotly.v1+json": {
       "config": {
        "linkText": "Export to plot.ly",
        "plotlyServerURL": "https://plot.ly",
        "showLink": true
       },
       "data": [
        {
         "marker": {
          "color": "rgba(255, 153, 51, 0.6)",
          "line": {
           "color": "rgba(255, 153, 51, 1.0)",
           "width": 1
          }
         },
         "name": "None",
         "orientation": "v",
         "text": "",
         "type": "bar",
         "x": [
          "A",
          "B",
          "C",
          "D"
         ],
         "y": [
          100,
          100,
          100,
          100
         ]
        }
       ],
       "layout": {
        "legend": {
         "bgcolor": "#F5F6F9",
         "font": {
          "color": "#4D5663"
         }
        },
        "paper_bgcolor": "#F5F6F9",
        "plot_bgcolor": "#F5F6F9",
        "template": {
         "data": {
          "bar": [
           {
            "error_x": {
             "color": "#2a3f5f"
            },
            "error_y": {
             "color": "#2a3f5f"
            },
            "marker": {
             "line": {
              "color": "#E5ECF6",
              "width": 0.5
             },
             "pattern": {
              "fillmode": "overlay",
              "size": 10,
              "solidity": 0.2
             }
            },
            "type": "bar"
           }
          ],
          "barpolar": [
           {
            "marker": {
             "line": {
              "color": "#E5ECF6",
              "width": 0.5
             },
             "pattern": {
              "fillmode": "overlay",
              "size": 10,
              "solidity": 0.2
             }
            },
            "type": "barpolar"
           }
          ],
          "carpet": [
           {
            "aaxis": {
             "endlinecolor": "#2a3f5f",
             "gridcolor": "white",
             "linecolor": "white",
             "minorgridcolor": "white",
             "startlinecolor": "#2a3f5f"
            },
            "baxis": {
             "endlinecolor": "#2a3f5f",
             "gridcolor": "white",
             "linecolor": "white",
             "minorgridcolor": "white",
             "startlinecolor": "#2a3f5f"
            },
            "type": "carpet"
           }
          ],
          "choropleth": [
           {
            "colorbar": {
             "outlinewidth": 0,
             "ticks": ""
            },
            "type": "choropleth"
           }
          ],
          "contour": [
           {
            "colorbar": {
             "outlinewidth": 0,
             "ticks": ""
            },
            "colorscale": [
             [
              0,
              "#0d0887"
             ],
             [
              0.1111111111111111,
              "#46039f"
             ],
             [
              0.2222222222222222,
              "#7201a8"
             ],
             [
              0.3333333333333333,
              "#9c179e"
             ],
             [
              0.4444444444444444,
              "#bd3786"
             ],
             [
              0.5555555555555556,
              "#d8576b"
             ],
             [
              0.6666666666666666,
              "#ed7953"
             ],
             [
              0.7777777777777778,
              "#fb9f3a"
             ],
             [
              0.8888888888888888,
              "#fdca26"
             ],
             [
              1,
              "#f0f921"
             ]
            ],
            "type": "contour"
           }
          ],
          "contourcarpet": [
           {
            "colorbar": {
             "outlinewidth": 0,
             "ticks": ""
            },
            "type": "contourcarpet"
           }
          ],
          "heatmap": [
           {
            "colorbar": {
             "outlinewidth": 0,
             "ticks": ""
            },
            "colorscale": [
             [
              0,
              "#0d0887"
             ],
             [
              0.1111111111111111,
              "#46039f"
             ],
             [
              0.2222222222222222,
              "#7201a8"
             ],
             [
              0.3333333333333333,
              "#9c179e"
             ],
             [
              0.4444444444444444,
              "#bd3786"
             ],
             [
              0.5555555555555556,
              "#d8576b"
             ],
             [
              0.6666666666666666,
              "#ed7953"
             ],
             [
              0.7777777777777778,
              "#fb9f3a"
             ],
             [
              0.8888888888888888,
              "#fdca26"
             ],
             [
              1,
              "#f0f921"
             ]
            ],
            "type": "heatmap"
           }
          ],
          "heatmapgl": [
           {
            "colorbar": {
             "outlinewidth": 0,
             "ticks": ""
            },
            "colorscale": [
             [
              0,
              "#0d0887"
             ],
             [
              0.1111111111111111,
              "#46039f"
             ],
             [
              0.2222222222222222,
              "#7201a8"
             ],
             [
              0.3333333333333333,
              "#9c179e"
             ],
             [
              0.4444444444444444,
              "#bd3786"
             ],
             [
              0.5555555555555556,
              "#d8576b"
             ],
             [
              0.6666666666666666,
              "#ed7953"
             ],
             [
              0.7777777777777778,
              "#fb9f3a"
             ],
             [
              0.8888888888888888,
              "#fdca26"
             ],
             [
              1,
              "#f0f921"
             ]
            ],
            "type": "heatmapgl"
           }
          ],
          "histogram": [
           {
            "marker": {
             "pattern": {
              "fillmode": "overlay",
              "size": 10,
              "solidity": 0.2
             }
            },
            "type": "histogram"
           }
          ],
          "histogram2d": [
           {
            "colorbar": {
             "outlinewidth": 0,
             "ticks": ""
            },
            "colorscale": [
             [
              0,
              "#0d0887"
             ],
             [
              0.1111111111111111,
              "#46039f"
             ],
             [
              0.2222222222222222,
              "#7201a8"
             ],
             [
              0.3333333333333333,
              "#9c179e"
             ],
             [
              0.4444444444444444,
              "#bd3786"
             ],
             [
              0.5555555555555556,
              "#d8576b"
             ],
             [
              0.6666666666666666,
              "#ed7953"
             ],
             [
              0.7777777777777778,
              "#fb9f3a"
             ],
             [
              0.8888888888888888,
              "#fdca26"
             ],
             [
              1,
              "#f0f921"
             ]
            ],
            "type": "histogram2d"
           }
          ],
          "histogram2dcontour": [
           {
            "colorbar": {
             "outlinewidth": 0,
             "ticks": ""
            },
            "colorscale": [
             [
              0,
              "#0d0887"
             ],
             [
              0.1111111111111111,
              "#46039f"
             ],
             [
              0.2222222222222222,
              "#7201a8"
             ],
             [
              0.3333333333333333,
              "#9c179e"
             ],
             [
              0.4444444444444444,
              "#bd3786"
             ],
             [
              0.5555555555555556,
              "#d8576b"
             ],
             [
              0.6666666666666666,
              "#ed7953"
             ],
             [
              0.7777777777777778,
              "#fb9f3a"
             ],
             [
              0.8888888888888888,
              "#fdca26"
             ],
             [
              1,
              "#f0f921"
             ]
            ],
            "type": "histogram2dcontour"
           }
          ],
          "mesh3d": [
           {
            "colorbar": {
             "outlinewidth": 0,
             "ticks": ""
            },
            "type": "mesh3d"
           }
          ],
          "parcoords": [
           {
            "line": {
             "colorbar": {
              "outlinewidth": 0,
              "ticks": ""
             }
            },
            "type": "parcoords"
           }
          ],
          "pie": [
           {
            "automargin": true,
            "type": "pie"
           }
          ],
          "scatter": [
           {
            "fillpattern": {
             "fillmode": "overlay",
             "size": 10,
             "solidity": 0.2
            },
            "type": "scatter"
           }
          ],
          "scatter3d": [
           {
            "line": {
             "colorbar": {
              "outlinewidth": 0,
              "ticks": ""
             }
            },
            "marker": {
             "colorbar": {
              "outlinewidth": 0,
              "ticks": ""
             }
            },
            "type": "scatter3d"
           }
          ],
          "scattercarpet": [
           {
            "marker": {
             "colorbar": {
              "outlinewidth": 0,
              "ticks": ""
             }
            },
            "type": "scattercarpet"
           }
          ],
          "scattergeo": [
           {
            "marker": {
             "colorbar": {
              "outlinewidth": 0,
              "ticks": ""
             }
            },
            "type": "scattergeo"
           }
          ],
          "scattergl": [
           {
            "marker": {
             "colorbar": {
              "outlinewidth": 0,
              "ticks": ""
             }
            },
            "type": "scattergl"
           }
          ],
          "scattermapbox": [
           {
            "marker": {
             "colorbar": {
              "outlinewidth": 0,
              "ticks": ""
             }
            },
            "type": "scattermapbox"
           }
          ],
          "scatterpolar": [
           {
            "marker": {
             "colorbar": {
              "outlinewidth": 0,
              "ticks": ""
             }
            },
            "type": "scatterpolar"
           }
          ],
          "scatterpolargl": [
           {
            "marker": {
             "colorbar": {
              "outlinewidth": 0,
              "ticks": ""
             }
            },
            "type": "scatterpolargl"
           }
          ],
          "scatterternary": [
           {
            "marker": {
             "colorbar": {
              "outlinewidth": 0,
              "ticks": ""
             }
            },
            "type": "scatterternary"
           }
          ],
          "surface": [
           {
            "colorbar": {
             "outlinewidth": 0,
             "ticks": ""
            },
            "colorscale": [
             [
              0,
              "#0d0887"
             ],
             [
              0.1111111111111111,
              "#46039f"
             ],
             [
              0.2222222222222222,
              "#7201a8"
             ],
             [
              0.3333333333333333,
              "#9c179e"
             ],
             [
              0.4444444444444444,
              "#bd3786"
             ],
             [
              0.5555555555555556,
              "#d8576b"
             ],
             [
              0.6666666666666666,
              "#ed7953"
             ],
             [
              0.7777777777777778,
              "#fb9f3a"
             ],
             [
              0.8888888888888888,
              "#fdca26"
             ],
             [
              1,
              "#f0f921"
             ]
            ],
            "type": "surface"
           }
          ],
          "table": [
           {
            "cells": {
             "fill": {
              "color": "#EBF0F8"
             },
             "line": {
              "color": "white"
             }
            },
            "header": {
             "fill": {
              "color": "#C8D4E3"
             },
             "line": {
              "color": "white"
             }
            },
            "type": "table"
           }
          ]
         },
         "layout": {
          "annotationdefaults": {
           "arrowcolor": "#2a3f5f",
           "arrowhead": 0,
           "arrowwidth": 1
          },
          "autotypenumbers": "strict",
          "coloraxis": {
           "colorbar": {
            "outlinewidth": 0,
            "ticks": ""
           }
          },
          "colorscale": {
           "diverging": [
            [
             0,
             "#8e0152"
            ],
            [
             0.1,
             "#c51b7d"
            ],
            [
             0.2,
             "#de77ae"
            ],
            [
             0.3,
             "#f1b6da"
            ],
            [
             0.4,
             "#fde0ef"
            ],
            [
             0.5,
             "#f7f7f7"
            ],
            [
             0.6,
             "#e6f5d0"
            ],
            [
             0.7,
             "#b8e186"
            ],
            [
             0.8,
             "#7fbc41"
            ],
            [
             0.9,
             "#4d9221"
            ],
            [
             1,
             "#276419"
            ]
           ],
           "sequential": [
            [
             0,
             "#0d0887"
            ],
            [
             0.1111111111111111,
             "#46039f"
            ],
            [
             0.2222222222222222,
             "#7201a8"
            ],
            [
             0.3333333333333333,
             "#9c179e"
            ],
            [
             0.4444444444444444,
             "#bd3786"
            ],
            [
             0.5555555555555556,
             "#d8576b"
            ],
            [
             0.6666666666666666,
             "#ed7953"
            ],
            [
             0.7777777777777778,
             "#fb9f3a"
            ],
            [
             0.8888888888888888,
             "#fdca26"
            ],
            [
             1,
             "#f0f921"
            ]
           ],
           "sequentialminus": [
            [
             0,
             "#0d0887"
            ],
            [
             0.1111111111111111,
             "#46039f"
            ],
            [
             0.2222222222222222,
             "#7201a8"
            ],
            [
             0.3333333333333333,
             "#9c179e"
            ],
            [
             0.4444444444444444,
             "#bd3786"
            ],
            [
             0.5555555555555556,
             "#d8576b"
            ],
            [
             0.6666666666666666,
             "#ed7953"
            ],
            [
             0.7777777777777778,
             "#fb9f3a"
            ],
            [
             0.8888888888888888,
             "#fdca26"
            ],
            [
             1,
             "#f0f921"
            ]
           ]
          },
          "colorway": [
           "#636efa",
           "#EF553B",
           "#00cc96",
           "#ab63fa",
           "#FFA15A",
           "#19d3f3",
           "#FF6692",
           "#B6E880",
           "#FF97FF",
           "#FECB52"
          ],
          "font": {
           "color": "#2a3f5f"
          },
          "geo": {
           "bgcolor": "white",
           "lakecolor": "white",
           "landcolor": "#E5ECF6",
           "showlakes": true,
           "showland": true,
           "subunitcolor": "white"
          },
          "hoverlabel": {
           "align": "left"
          },
          "hovermode": "closest",
          "mapbox": {
           "style": "light"
          },
          "paper_bgcolor": "white",
          "plot_bgcolor": "#E5ECF6",
          "polar": {
           "angularaxis": {
            "gridcolor": "white",
            "linecolor": "white",
            "ticks": ""
           },
           "bgcolor": "#E5ECF6",
           "radialaxis": {
            "gridcolor": "white",
            "linecolor": "white",
            "ticks": ""
           }
          },
          "scene": {
           "xaxis": {
            "backgroundcolor": "#E5ECF6",
            "gridcolor": "white",
            "gridwidth": 2,
            "linecolor": "white",
            "showbackground": true,
            "ticks": "",
            "zerolinecolor": "white"
           },
           "yaxis": {
            "backgroundcolor": "#E5ECF6",
            "gridcolor": "white",
            "gridwidth": 2,
            "linecolor": "white",
            "showbackground": true,
            "ticks": "",
            "zerolinecolor": "white"
           },
           "zaxis": {
            "backgroundcolor": "#E5ECF6",
            "gridcolor": "white",
            "gridwidth": 2,
            "linecolor": "white",
            "showbackground": true,
            "ticks": "",
            "zerolinecolor": "white"
           }
          },
          "shapedefaults": {
           "line": {
            "color": "#2a3f5f"
           }
          },
          "ternary": {
           "aaxis": {
            "gridcolor": "white",
            "linecolor": "white",
            "ticks": ""
           },
           "baxis": {
            "gridcolor": "white",
            "linecolor": "white",
            "ticks": ""
           },
           "bgcolor": "#E5ECF6",
           "caxis": {
            "gridcolor": "white",
            "linecolor": "white",
            "ticks": ""
           }
          },
          "title": {
           "x": 0.05
          },
          "xaxis": {
           "automargin": true,
           "gridcolor": "white",
           "linecolor": "white",
           "ticks": "",
           "title": {
            "standoff": 15
           },
           "zerolinecolor": "white",
           "zerolinewidth": 2
          },
          "yaxis": {
           "automargin": true,
           "gridcolor": "white",
           "linecolor": "white",
           "ticks": "",
           "title": {
            "standoff": 15
           },
           "zerolinecolor": "white",
           "zerolinewidth": 2
          }
         }
        },
        "title": {
         "font": {
          "color": "#4D5663"
         }
        },
        "xaxis": {
         "gridcolor": "#E1E5ED",
         "showgrid": true,
         "tickfont": {
          "color": "#4D5663"
         },
         "title": {
          "font": {
           "color": "#4D5663"
          },
          "text": ""
         },
         "zerolinecolor": "#E1E5ED"
        },
        "yaxis": {
         "gridcolor": "#E1E5ED",
         "showgrid": true,
         "tickfont": {
          "color": "#4D5663"
         },
         "title": {
          "font": {
           "color": "#4D5663"
          },
          "text": ""
         },
         "zerolinecolor": "#E1E5ED"
        }
       }
      },
      "text/html": [
       "<div>                            <div id=\"735c9134-f3f1-4607-810f-e27431047d7f\" class=\"plotly-graph-div\" style=\"height:525px; width:100%;\"></div>            <script type=\"text/javascript\">                require([\"plotly\"], function(Plotly) {                    window.PLOTLYENV=window.PLOTLYENV || {};\n",
       "                    window.PLOTLYENV.BASE_URL='https://plot.ly';                                    if (document.getElementById(\"735c9134-f3f1-4607-810f-e27431047d7f\")) {                    Plotly.newPlot(                        \"735c9134-f3f1-4607-810f-e27431047d7f\",                        [{\"marker\":{\"color\":\"rgba(255, 153, 51, 0.6)\",\"line\":{\"color\":\"rgba(255, 153, 51, 1.0)\",\"width\":1}},\"name\":\"None\",\"orientation\":\"v\",\"text\":\"\",\"x\":[\"A\",\"B\",\"C\",\"D\"],\"y\":[100,100,100,100],\"type\":\"bar\"}],                        {\"legend\":{\"bgcolor\":\"#F5F6F9\",\"font\":{\"color\":\"#4D5663\"}},\"paper_bgcolor\":\"#F5F6F9\",\"plot_bgcolor\":\"#F5F6F9\",\"template\":{\"data\":{\"barpolar\":[{\"marker\":{\"line\":{\"color\":\"#E5ECF6\",\"width\":0.5},\"pattern\":{\"fillmode\":\"overlay\",\"size\":10,\"solidity\":0.2}},\"type\":\"barpolar\"}],\"bar\":[{\"error_x\":{\"color\":\"#2a3f5f\"},\"error_y\":{\"color\":\"#2a3f5f\"},\"marker\":{\"line\":{\"color\":\"#E5ECF6\",\"width\":0.5},\"pattern\":{\"fillmode\":\"overlay\",\"size\":10,\"solidity\":0.2}},\"type\":\"bar\"}],\"carpet\":[{\"aaxis\":{\"endlinecolor\":\"#2a3f5f\",\"gridcolor\":\"white\",\"linecolor\":\"white\",\"minorgridcolor\":\"white\",\"startlinecolor\":\"#2a3f5f\"},\"baxis\":{\"endlinecolor\":\"#2a3f5f\",\"gridcolor\":\"white\",\"linecolor\":\"white\",\"minorgridcolor\":\"white\",\"startlinecolor\":\"#2a3f5f\"},\"type\":\"carpet\"}],\"choropleth\":[{\"colorbar\":{\"outlinewidth\":0,\"ticks\":\"\"},\"type\":\"choropleth\"}],\"contourcarpet\":[{\"colorbar\":{\"outlinewidth\":0,\"ticks\":\"\"},\"type\":\"contourcarpet\"}],\"contour\":[{\"colorbar\":{\"outlinewidth\":0,\"ticks\":\"\"},\"colorscale\":[[0.0,\"#0d0887\"],[0.1111111111111111,\"#46039f\"],[0.2222222222222222,\"#7201a8\"],[0.3333333333333333,\"#9c179e\"],[0.4444444444444444,\"#bd3786\"],[0.5555555555555556,\"#d8576b\"],[0.6666666666666666,\"#ed7953\"],[0.7777777777777778,\"#fb9f3a\"],[0.8888888888888888,\"#fdca26\"],[1.0,\"#f0f921\"]],\"type\":\"contour\"}],\"heatmapgl\":[{\"colorbar\":{\"outlinewidth\":0,\"ticks\":\"\"},\"colorscale\":[[0.0,\"#0d0887\"],[0.1111111111111111,\"#46039f\"],[0.2222222222222222,\"#7201a8\"],[0.3333333333333333,\"#9c179e\"],[0.4444444444444444,\"#bd3786\"],[0.5555555555555556,\"#d8576b\"],[0.6666666666666666,\"#ed7953\"],[0.7777777777777778,\"#fb9f3a\"],[0.8888888888888888,\"#fdca26\"],[1.0,\"#f0f921\"]],\"type\":\"heatmapgl\"}],\"heatmap\":[{\"colorbar\":{\"outlinewidth\":0,\"ticks\":\"\"},\"colorscale\":[[0.0,\"#0d0887\"],[0.1111111111111111,\"#46039f\"],[0.2222222222222222,\"#7201a8\"],[0.3333333333333333,\"#9c179e\"],[0.4444444444444444,\"#bd3786\"],[0.5555555555555556,\"#d8576b\"],[0.6666666666666666,\"#ed7953\"],[0.7777777777777778,\"#fb9f3a\"],[0.8888888888888888,\"#fdca26\"],[1.0,\"#f0f921\"]],\"type\":\"heatmap\"}],\"histogram2dcontour\":[{\"colorbar\":{\"outlinewidth\":0,\"ticks\":\"\"},\"colorscale\":[[0.0,\"#0d0887\"],[0.1111111111111111,\"#46039f\"],[0.2222222222222222,\"#7201a8\"],[0.3333333333333333,\"#9c179e\"],[0.4444444444444444,\"#bd3786\"],[0.5555555555555556,\"#d8576b\"],[0.6666666666666666,\"#ed7953\"],[0.7777777777777778,\"#fb9f3a\"],[0.8888888888888888,\"#fdca26\"],[1.0,\"#f0f921\"]],\"type\":\"histogram2dcontour\"}],\"histogram2d\":[{\"colorbar\":{\"outlinewidth\":0,\"ticks\":\"\"},\"colorscale\":[[0.0,\"#0d0887\"],[0.1111111111111111,\"#46039f\"],[0.2222222222222222,\"#7201a8\"],[0.3333333333333333,\"#9c179e\"],[0.4444444444444444,\"#bd3786\"],[0.5555555555555556,\"#d8576b\"],[0.6666666666666666,\"#ed7953\"],[0.7777777777777778,\"#fb9f3a\"],[0.8888888888888888,\"#fdca26\"],[1.0,\"#f0f921\"]],\"type\":\"histogram2d\"}],\"histogram\":[{\"marker\":{\"pattern\":{\"fillmode\":\"overlay\",\"size\":10,\"solidity\":0.2}},\"type\":\"histogram\"}],\"mesh3d\":[{\"colorbar\":{\"outlinewidth\":0,\"ticks\":\"\"},\"type\":\"mesh3d\"}],\"parcoords\":[{\"line\":{\"colorbar\":{\"outlinewidth\":0,\"ticks\":\"\"}},\"type\":\"parcoords\"}],\"pie\":[{\"automargin\":true,\"type\":\"pie\"}],\"scatter3d\":[{\"line\":{\"colorbar\":{\"outlinewidth\":0,\"ticks\":\"\"}},\"marker\":{\"colorbar\":{\"outlinewidth\":0,\"ticks\":\"\"}},\"type\":\"scatter3d\"}],\"scattercarpet\":[{\"marker\":{\"colorbar\":{\"outlinewidth\":0,\"ticks\":\"\"}},\"type\":\"scattercarpet\"}],\"scattergeo\":[{\"marker\":{\"colorbar\":{\"outlinewidth\":0,\"ticks\":\"\"}},\"type\":\"scattergeo\"}],\"scattergl\":[{\"marker\":{\"colorbar\":{\"outlinewidth\":0,\"ticks\":\"\"}},\"type\":\"scattergl\"}],\"scattermapbox\":[{\"marker\":{\"colorbar\":{\"outlinewidth\":0,\"ticks\":\"\"}},\"type\":\"scattermapbox\"}],\"scatterpolargl\":[{\"marker\":{\"colorbar\":{\"outlinewidth\":0,\"ticks\":\"\"}},\"type\":\"scatterpolargl\"}],\"scatterpolar\":[{\"marker\":{\"colorbar\":{\"outlinewidth\":0,\"ticks\":\"\"}},\"type\":\"scatterpolar\"}],\"scatter\":[{\"fillpattern\":{\"fillmode\":\"overlay\",\"size\":10,\"solidity\":0.2},\"type\":\"scatter\"}],\"scatterternary\":[{\"marker\":{\"colorbar\":{\"outlinewidth\":0,\"ticks\":\"\"}},\"type\":\"scatterternary\"}],\"surface\":[{\"colorbar\":{\"outlinewidth\":0,\"ticks\":\"\"},\"colorscale\":[[0.0,\"#0d0887\"],[0.1111111111111111,\"#46039f\"],[0.2222222222222222,\"#7201a8\"],[0.3333333333333333,\"#9c179e\"],[0.4444444444444444,\"#bd3786\"],[0.5555555555555556,\"#d8576b\"],[0.6666666666666666,\"#ed7953\"],[0.7777777777777778,\"#fb9f3a\"],[0.8888888888888888,\"#fdca26\"],[1.0,\"#f0f921\"]],\"type\":\"surface\"}],\"table\":[{\"cells\":{\"fill\":{\"color\":\"#EBF0F8\"},\"line\":{\"color\":\"white\"}},\"header\":{\"fill\":{\"color\":\"#C8D4E3\"},\"line\":{\"color\":\"white\"}},\"type\":\"table\"}]},\"layout\":{\"annotationdefaults\":{\"arrowcolor\":\"#2a3f5f\",\"arrowhead\":0,\"arrowwidth\":1},\"autotypenumbers\":\"strict\",\"coloraxis\":{\"colorbar\":{\"outlinewidth\":0,\"ticks\":\"\"}},\"colorscale\":{\"diverging\":[[0,\"#8e0152\"],[0.1,\"#c51b7d\"],[0.2,\"#de77ae\"],[0.3,\"#f1b6da\"],[0.4,\"#fde0ef\"],[0.5,\"#f7f7f7\"],[0.6,\"#e6f5d0\"],[0.7,\"#b8e186\"],[0.8,\"#7fbc41\"],[0.9,\"#4d9221\"],[1,\"#276419\"]],\"sequential\":[[0.0,\"#0d0887\"],[0.1111111111111111,\"#46039f\"],[0.2222222222222222,\"#7201a8\"],[0.3333333333333333,\"#9c179e\"],[0.4444444444444444,\"#bd3786\"],[0.5555555555555556,\"#d8576b\"],[0.6666666666666666,\"#ed7953\"],[0.7777777777777778,\"#fb9f3a\"],[0.8888888888888888,\"#fdca26\"],[1.0,\"#f0f921\"]],\"sequentialminus\":[[0.0,\"#0d0887\"],[0.1111111111111111,\"#46039f\"],[0.2222222222222222,\"#7201a8\"],[0.3333333333333333,\"#9c179e\"],[0.4444444444444444,\"#bd3786\"],[0.5555555555555556,\"#d8576b\"],[0.6666666666666666,\"#ed7953\"],[0.7777777777777778,\"#fb9f3a\"],[0.8888888888888888,\"#fdca26\"],[1.0,\"#f0f921\"]]},\"colorway\":[\"#636efa\",\"#EF553B\",\"#00cc96\",\"#ab63fa\",\"#FFA15A\",\"#19d3f3\",\"#FF6692\",\"#B6E880\",\"#FF97FF\",\"#FECB52\"],\"font\":{\"color\":\"#2a3f5f\"},\"geo\":{\"bgcolor\":\"white\",\"lakecolor\":\"white\",\"landcolor\":\"#E5ECF6\",\"showlakes\":true,\"showland\":true,\"subunitcolor\":\"white\"},\"hoverlabel\":{\"align\":\"left\"},\"hovermode\":\"closest\",\"mapbox\":{\"style\":\"light\"},\"paper_bgcolor\":\"white\",\"plot_bgcolor\":\"#E5ECF6\",\"polar\":{\"angularaxis\":{\"gridcolor\":\"white\",\"linecolor\":\"white\",\"ticks\":\"\"},\"bgcolor\":\"#E5ECF6\",\"radialaxis\":{\"gridcolor\":\"white\",\"linecolor\":\"white\",\"ticks\":\"\"}},\"scene\":{\"xaxis\":{\"backgroundcolor\":\"#E5ECF6\",\"gridcolor\":\"white\",\"gridwidth\":2,\"linecolor\":\"white\",\"showbackground\":true,\"ticks\":\"\",\"zerolinecolor\":\"white\"},\"yaxis\":{\"backgroundcolor\":\"#E5ECF6\",\"gridcolor\":\"white\",\"gridwidth\":2,\"linecolor\":\"white\",\"showbackground\":true,\"ticks\":\"\",\"zerolinecolor\":\"white\"},\"zaxis\":{\"backgroundcolor\":\"#E5ECF6\",\"gridcolor\":\"white\",\"gridwidth\":2,\"linecolor\":\"white\",\"showbackground\":true,\"ticks\":\"\",\"zerolinecolor\":\"white\"}},\"shapedefaults\":{\"line\":{\"color\":\"#2a3f5f\"}},\"ternary\":{\"aaxis\":{\"gridcolor\":\"white\",\"linecolor\":\"white\",\"ticks\":\"\"},\"baxis\":{\"gridcolor\":\"white\",\"linecolor\":\"white\",\"ticks\":\"\"},\"bgcolor\":\"#E5ECF6\",\"caxis\":{\"gridcolor\":\"white\",\"linecolor\":\"white\",\"ticks\":\"\"}},\"title\":{\"x\":0.05},\"xaxis\":{\"automargin\":true,\"gridcolor\":\"white\",\"linecolor\":\"white\",\"ticks\":\"\",\"title\":{\"standoff\":15},\"zerolinecolor\":\"white\",\"zerolinewidth\":2},\"yaxis\":{\"automargin\":true,\"gridcolor\":\"white\",\"linecolor\":\"white\",\"ticks\":\"\",\"title\":{\"standoff\":15},\"zerolinecolor\":\"white\",\"zerolinewidth\":2}}},\"title\":{\"font\":{\"color\":\"#4D5663\"}},\"xaxis\":{\"gridcolor\":\"#E1E5ED\",\"showgrid\":true,\"tickfont\":{\"color\":\"#4D5663\"},\"title\":{\"font\":{\"color\":\"#4D5663\"},\"text\":\"\"},\"zerolinecolor\":\"#E1E5ED\"},\"yaxis\":{\"gridcolor\":\"#E1E5ED\",\"showgrid\":true,\"tickfont\":{\"color\":\"#4D5663\"},\"title\":{\"font\":{\"color\":\"#4D5663\"},\"text\":\"\"},\"zerolinecolor\":\"#E1E5ED\"}},                        {\"showLink\": true, \"linkText\": \"Export to plot.ly\", \"plotlyServerURL\": \"https://plot.ly\", \"responsive\": true}                    ).then(function(){\n",
       "                            \n",
       "var gd = document.getElementById('735c9134-f3f1-4607-810f-e27431047d7f');\n",
       "var x = new MutationObserver(function (mutations, observer) {{\n",
       "        var display = window.getComputedStyle(gd).display;\n",
       "        if (!display || display === 'none') {{\n",
       "            console.log([gd, 'removed!']);\n",
       "            Plotly.purge(gd);\n",
       "            observer.disconnect();\n",
       "        }}\n",
       "}});\n",
       "\n",
       "// Listen for the removal of the full notebook cells\n",
       "var notebookContainer = gd.closest('#notebook-container');\n",
       "if (notebookContainer) {{\n",
       "    x.observe(notebookContainer, {childList: true});\n",
       "}}\n",
       "\n",
       "// Listen for the clearing of the current output cell\n",
       "var outputEl = gd.closest('.output');\n",
       "if (outputEl) {{\n",
       "    x.observe(outputEl, {childList: true});\n",
       "}}\n",
       "\n",
       "                        })                };                });            </script>        </div>"
      ]
     },
     "metadata": {},
     "output_type": "display_data"
    }
   ],
   "source": [
    "df.count().iplot(kind='bar')"
   ]
  },
  {
   "cell_type": "code",
   "execution_count": 26,
   "id": "837003d0",
   "metadata": {},
   "outputs": [
    {
     "data": {
      "application/vnd.plotly.v1+json": {
       "config": {
        "linkText": "Export to plot.ly",
        "plotlyServerURL": "https://plot.ly",
        "showLink": true
       },
       "data": [
        {
         "marker": {
          "color": "rgba(255, 153, 51, 0.6)",
          "line": {
           "color": "rgba(255, 153, 51, 1.0)",
           "width": 1
          }
         },
         "name": "None",
         "orientation": "v",
         "text": "",
         "type": "bar",
         "x": [
          "A",
          "B",
          "C",
          "D"
         ],
         "y": [
          -4.270317865678811,
          0.06537103515063025,
          7.7486539980988445,
          16.746382626291915
         ]
        }
       ],
       "layout": {
        "legend": {
         "bgcolor": "#F5F6F9",
         "font": {
          "color": "#4D5663"
         }
        },
        "paper_bgcolor": "#F5F6F9",
        "plot_bgcolor": "#F5F6F9",
        "template": {
         "data": {
          "bar": [
           {
            "error_x": {
             "color": "#2a3f5f"
            },
            "error_y": {
             "color": "#2a3f5f"
            },
            "marker": {
             "line": {
              "color": "#E5ECF6",
              "width": 0.5
             },
             "pattern": {
              "fillmode": "overlay",
              "size": 10,
              "solidity": 0.2
             }
            },
            "type": "bar"
           }
          ],
          "barpolar": [
           {
            "marker": {
             "line": {
              "color": "#E5ECF6",
              "width": 0.5
             },
             "pattern": {
              "fillmode": "overlay",
              "size": 10,
              "solidity": 0.2
             }
            },
            "type": "barpolar"
           }
          ],
          "carpet": [
           {
            "aaxis": {
             "endlinecolor": "#2a3f5f",
             "gridcolor": "white",
             "linecolor": "white",
             "minorgridcolor": "white",
             "startlinecolor": "#2a3f5f"
            },
            "baxis": {
             "endlinecolor": "#2a3f5f",
             "gridcolor": "white",
             "linecolor": "white",
             "minorgridcolor": "white",
             "startlinecolor": "#2a3f5f"
            },
            "type": "carpet"
           }
          ],
          "choropleth": [
           {
            "colorbar": {
             "outlinewidth": 0,
             "ticks": ""
            },
            "type": "choropleth"
           }
          ],
          "contour": [
           {
            "colorbar": {
             "outlinewidth": 0,
             "ticks": ""
            },
            "colorscale": [
             [
              0,
              "#0d0887"
             ],
             [
              0.1111111111111111,
              "#46039f"
             ],
             [
              0.2222222222222222,
              "#7201a8"
             ],
             [
              0.3333333333333333,
              "#9c179e"
             ],
             [
              0.4444444444444444,
              "#bd3786"
             ],
             [
              0.5555555555555556,
              "#d8576b"
             ],
             [
              0.6666666666666666,
              "#ed7953"
             ],
             [
              0.7777777777777778,
              "#fb9f3a"
             ],
             [
              0.8888888888888888,
              "#fdca26"
             ],
             [
              1,
              "#f0f921"
             ]
            ],
            "type": "contour"
           }
          ],
          "contourcarpet": [
           {
            "colorbar": {
             "outlinewidth": 0,
             "ticks": ""
            },
            "type": "contourcarpet"
           }
          ],
          "heatmap": [
           {
            "colorbar": {
             "outlinewidth": 0,
             "ticks": ""
            },
            "colorscale": [
             [
              0,
              "#0d0887"
             ],
             [
              0.1111111111111111,
              "#46039f"
             ],
             [
              0.2222222222222222,
              "#7201a8"
             ],
             [
              0.3333333333333333,
              "#9c179e"
             ],
             [
              0.4444444444444444,
              "#bd3786"
             ],
             [
              0.5555555555555556,
              "#d8576b"
             ],
             [
              0.6666666666666666,
              "#ed7953"
             ],
             [
              0.7777777777777778,
              "#fb9f3a"
             ],
             [
              0.8888888888888888,
              "#fdca26"
             ],
             [
              1,
              "#f0f921"
             ]
            ],
            "type": "heatmap"
           }
          ],
          "heatmapgl": [
           {
            "colorbar": {
             "outlinewidth": 0,
             "ticks": ""
            },
            "colorscale": [
             [
              0,
              "#0d0887"
             ],
             [
              0.1111111111111111,
              "#46039f"
             ],
             [
              0.2222222222222222,
              "#7201a8"
             ],
             [
              0.3333333333333333,
              "#9c179e"
             ],
             [
              0.4444444444444444,
              "#bd3786"
             ],
             [
              0.5555555555555556,
              "#d8576b"
             ],
             [
              0.6666666666666666,
              "#ed7953"
             ],
             [
              0.7777777777777778,
              "#fb9f3a"
             ],
             [
              0.8888888888888888,
              "#fdca26"
             ],
             [
              1,
              "#f0f921"
             ]
            ],
            "type": "heatmapgl"
           }
          ],
          "histogram": [
           {
            "marker": {
             "pattern": {
              "fillmode": "overlay",
              "size": 10,
              "solidity": 0.2
             }
            },
            "type": "histogram"
           }
          ],
          "histogram2d": [
           {
            "colorbar": {
             "outlinewidth": 0,
             "ticks": ""
            },
            "colorscale": [
             [
              0,
              "#0d0887"
             ],
             [
              0.1111111111111111,
              "#46039f"
             ],
             [
              0.2222222222222222,
              "#7201a8"
             ],
             [
              0.3333333333333333,
              "#9c179e"
             ],
             [
              0.4444444444444444,
              "#bd3786"
             ],
             [
              0.5555555555555556,
              "#d8576b"
             ],
             [
              0.6666666666666666,
              "#ed7953"
             ],
             [
              0.7777777777777778,
              "#fb9f3a"
             ],
             [
              0.8888888888888888,
              "#fdca26"
             ],
             [
              1,
              "#f0f921"
             ]
            ],
            "type": "histogram2d"
           }
          ],
          "histogram2dcontour": [
           {
            "colorbar": {
             "outlinewidth": 0,
             "ticks": ""
            },
            "colorscale": [
             [
              0,
              "#0d0887"
             ],
             [
              0.1111111111111111,
              "#46039f"
             ],
             [
              0.2222222222222222,
              "#7201a8"
             ],
             [
              0.3333333333333333,
              "#9c179e"
             ],
             [
              0.4444444444444444,
              "#bd3786"
             ],
             [
              0.5555555555555556,
              "#d8576b"
             ],
             [
              0.6666666666666666,
              "#ed7953"
             ],
             [
              0.7777777777777778,
              "#fb9f3a"
             ],
             [
              0.8888888888888888,
              "#fdca26"
             ],
             [
              1,
              "#f0f921"
             ]
            ],
            "type": "histogram2dcontour"
           }
          ],
          "mesh3d": [
           {
            "colorbar": {
             "outlinewidth": 0,
             "ticks": ""
            },
            "type": "mesh3d"
           }
          ],
          "parcoords": [
           {
            "line": {
             "colorbar": {
              "outlinewidth": 0,
              "ticks": ""
             }
            },
            "type": "parcoords"
           }
          ],
          "pie": [
           {
            "automargin": true,
            "type": "pie"
           }
          ],
          "scatter": [
           {
            "fillpattern": {
             "fillmode": "overlay",
             "size": 10,
             "solidity": 0.2
            },
            "type": "scatter"
           }
          ],
          "scatter3d": [
           {
            "line": {
             "colorbar": {
              "outlinewidth": 0,
              "ticks": ""
             }
            },
            "marker": {
             "colorbar": {
              "outlinewidth": 0,
              "ticks": ""
             }
            },
            "type": "scatter3d"
           }
          ],
          "scattercarpet": [
           {
            "marker": {
             "colorbar": {
              "outlinewidth": 0,
              "ticks": ""
             }
            },
            "type": "scattercarpet"
           }
          ],
          "scattergeo": [
           {
            "marker": {
             "colorbar": {
              "outlinewidth": 0,
              "ticks": ""
             }
            },
            "type": "scattergeo"
           }
          ],
          "scattergl": [
           {
            "marker": {
             "colorbar": {
              "outlinewidth": 0,
              "ticks": ""
             }
            },
            "type": "scattergl"
           }
          ],
          "scattermapbox": [
           {
            "marker": {
             "colorbar": {
              "outlinewidth": 0,
              "ticks": ""
             }
            },
            "type": "scattermapbox"
           }
          ],
          "scatterpolar": [
           {
            "marker": {
             "colorbar": {
              "outlinewidth": 0,
              "ticks": ""
             }
            },
            "type": "scatterpolar"
           }
          ],
          "scatterpolargl": [
           {
            "marker": {
             "colorbar": {
              "outlinewidth": 0,
              "ticks": ""
             }
            },
            "type": "scatterpolargl"
           }
          ],
          "scatterternary": [
           {
            "marker": {
             "colorbar": {
              "outlinewidth": 0,
              "ticks": ""
             }
            },
            "type": "scatterternary"
           }
          ],
          "surface": [
           {
            "colorbar": {
             "outlinewidth": 0,
             "ticks": ""
            },
            "colorscale": [
             [
              0,
              "#0d0887"
             ],
             [
              0.1111111111111111,
              "#46039f"
             ],
             [
              0.2222222222222222,
              "#7201a8"
             ],
             [
              0.3333333333333333,
              "#9c179e"
             ],
             [
              0.4444444444444444,
              "#bd3786"
             ],
             [
              0.5555555555555556,
              "#d8576b"
             ],
             [
              0.6666666666666666,
              "#ed7953"
             ],
             [
              0.7777777777777778,
              "#fb9f3a"
             ],
             [
              0.8888888888888888,
              "#fdca26"
             ],
             [
              1,
              "#f0f921"
             ]
            ],
            "type": "surface"
           }
          ],
          "table": [
           {
            "cells": {
             "fill": {
              "color": "#EBF0F8"
             },
             "line": {
              "color": "white"
             }
            },
            "header": {
             "fill": {
              "color": "#C8D4E3"
             },
             "line": {
              "color": "white"
             }
            },
            "type": "table"
           }
          ]
         },
         "layout": {
          "annotationdefaults": {
           "arrowcolor": "#2a3f5f",
           "arrowhead": 0,
           "arrowwidth": 1
          },
          "autotypenumbers": "strict",
          "coloraxis": {
           "colorbar": {
            "outlinewidth": 0,
            "ticks": ""
           }
          },
          "colorscale": {
           "diverging": [
            [
             0,
             "#8e0152"
            ],
            [
             0.1,
             "#c51b7d"
            ],
            [
             0.2,
             "#de77ae"
            ],
            [
             0.3,
             "#f1b6da"
            ],
            [
             0.4,
             "#fde0ef"
            ],
            [
             0.5,
             "#f7f7f7"
            ],
            [
             0.6,
             "#e6f5d0"
            ],
            [
             0.7,
             "#b8e186"
            ],
            [
             0.8,
             "#7fbc41"
            ],
            [
             0.9,
             "#4d9221"
            ],
            [
             1,
             "#276419"
            ]
           ],
           "sequential": [
            [
             0,
             "#0d0887"
            ],
            [
             0.1111111111111111,
             "#46039f"
            ],
            [
             0.2222222222222222,
             "#7201a8"
            ],
            [
             0.3333333333333333,
             "#9c179e"
            ],
            [
             0.4444444444444444,
             "#bd3786"
            ],
            [
             0.5555555555555556,
             "#d8576b"
            ],
            [
             0.6666666666666666,
             "#ed7953"
            ],
            [
             0.7777777777777778,
             "#fb9f3a"
            ],
            [
             0.8888888888888888,
             "#fdca26"
            ],
            [
             1,
             "#f0f921"
            ]
           ],
           "sequentialminus": [
            [
             0,
             "#0d0887"
            ],
            [
             0.1111111111111111,
             "#46039f"
            ],
            [
             0.2222222222222222,
             "#7201a8"
            ],
            [
             0.3333333333333333,
             "#9c179e"
            ],
            [
             0.4444444444444444,
             "#bd3786"
            ],
            [
             0.5555555555555556,
             "#d8576b"
            ],
            [
             0.6666666666666666,
             "#ed7953"
            ],
            [
             0.7777777777777778,
             "#fb9f3a"
            ],
            [
             0.8888888888888888,
             "#fdca26"
            ],
            [
             1,
             "#f0f921"
            ]
           ]
          },
          "colorway": [
           "#636efa",
           "#EF553B",
           "#00cc96",
           "#ab63fa",
           "#FFA15A",
           "#19d3f3",
           "#FF6692",
           "#B6E880",
           "#FF97FF",
           "#FECB52"
          ],
          "font": {
           "color": "#2a3f5f"
          },
          "geo": {
           "bgcolor": "white",
           "lakecolor": "white",
           "landcolor": "#E5ECF6",
           "showlakes": true,
           "showland": true,
           "subunitcolor": "white"
          },
          "hoverlabel": {
           "align": "left"
          },
          "hovermode": "closest",
          "mapbox": {
           "style": "light"
          },
          "paper_bgcolor": "white",
          "plot_bgcolor": "#E5ECF6",
          "polar": {
           "angularaxis": {
            "gridcolor": "white",
            "linecolor": "white",
            "ticks": ""
           },
           "bgcolor": "#E5ECF6",
           "radialaxis": {
            "gridcolor": "white",
            "linecolor": "white",
            "ticks": ""
           }
          },
          "scene": {
           "xaxis": {
            "backgroundcolor": "#E5ECF6",
            "gridcolor": "white",
            "gridwidth": 2,
            "linecolor": "white",
            "showbackground": true,
            "ticks": "",
            "zerolinecolor": "white"
           },
           "yaxis": {
            "backgroundcolor": "#E5ECF6",
            "gridcolor": "white",
            "gridwidth": 2,
            "linecolor": "white",
            "showbackground": true,
            "ticks": "",
            "zerolinecolor": "white"
           },
           "zaxis": {
            "backgroundcolor": "#E5ECF6",
            "gridcolor": "white",
            "gridwidth": 2,
            "linecolor": "white",
            "showbackground": true,
            "ticks": "",
            "zerolinecolor": "white"
           }
          },
          "shapedefaults": {
           "line": {
            "color": "#2a3f5f"
           }
          },
          "ternary": {
           "aaxis": {
            "gridcolor": "white",
            "linecolor": "white",
            "ticks": ""
           },
           "baxis": {
            "gridcolor": "white",
            "linecolor": "white",
            "ticks": ""
           },
           "bgcolor": "#E5ECF6",
           "caxis": {
            "gridcolor": "white",
            "linecolor": "white",
            "ticks": ""
           }
          },
          "title": {
           "x": 0.05
          },
          "xaxis": {
           "automargin": true,
           "gridcolor": "white",
           "linecolor": "white",
           "ticks": "",
           "title": {
            "standoff": 15
           },
           "zerolinecolor": "white",
           "zerolinewidth": 2
          },
          "yaxis": {
           "automargin": true,
           "gridcolor": "white",
           "linecolor": "white",
           "ticks": "",
           "title": {
            "standoff": 15
           },
           "zerolinecolor": "white",
           "zerolinewidth": 2
          }
         }
        },
        "title": {
         "font": {
          "color": "#4D5663"
         }
        },
        "xaxis": {
         "gridcolor": "#E1E5ED",
         "showgrid": true,
         "tickfont": {
          "color": "#4D5663"
         },
         "title": {
          "font": {
           "color": "#4D5663"
          },
          "text": ""
         },
         "zerolinecolor": "#E1E5ED"
        },
        "yaxis": {
         "gridcolor": "#E1E5ED",
         "showgrid": true,
         "tickfont": {
          "color": "#4D5663"
         },
         "title": {
          "font": {
           "color": "#4D5663"
          },
          "text": ""
         },
         "zerolinecolor": "#E1E5ED"
        }
       }
      },
      "text/html": [
       "<div>                            <div id=\"2cd31fcb-e8c7-4537-a4ca-a05c338688b1\" class=\"plotly-graph-div\" style=\"height:525px; width:100%;\"></div>            <script type=\"text/javascript\">                require([\"plotly\"], function(Plotly) {                    window.PLOTLYENV=window.PLOTLYENV || {};\n",
       "                    window.PLOTLYENV.BASE_URL='https://plot.ly';                                    if (document.getElementById(\"2cd31fcb-e8c7-4537-a4ca-a05c338688b1\")) {                    Plotly.newPlot(                        \"2cd31fcb-e8c7-4537-a4ca-a05c338688b1\",                        [{\"marker\":{\"color\":\"rgba(255, 153, 51, 0.6)\",\"line\":{\"color\":\"rgba(255, 153, 51, 1.0)\",\"width\":1}},\"name\":\"None\",\"orientation\":\"v\",\"text\":\"\",\"x\":[\"A\",\"B\",\"C\",\"D\"],\"y\":[-4.270317865678811,0.06537103515063025,7.7486539980988445,16.746382626291915],\"type\":\"bar\"}],                        {\"legend\":{\"bgcolor\":\"#F5F6F9\",\"font\":{\"color\":\"#4D5663\"}},\"paper_bgcolor\":\"#F5F6F9\",\"plot_bgcolor\":\"#F5F6F9\",\"template\":{\"data\":{\"barpolar\":[{\"marker\":{\"line\":{\"color\":\"#E5ECF6\",\"width\":0.5},\"pattern\":{\"fillmode\":\"overlay\",\"size\":10,\"solidity\":0.2}},\"type\":\"barpolar\"}],\"bar\":[{\"error_x\":{\"color\":\"#2a3f5f\"},\"error_y\":{\"color\":\"#2a3f5f\"},\"marker\":{\"line\":{\"color\":\"#E5ECF6\",\"width\":0.5},\"pattern\":{\"fillmode\":\"overlay\",\"size\":10,\"solidity\":0.2}},\"type\":\"bar\"}],\"carpet\":[{\"aaxis\":{\"endlinecolor\":\"#2a3f5f\",\"gridcolor\":\"white\",\"linecolor\":\"white\",\"minorgridcolor\":\"white\",\"startlinecolor\":\"#2a3f5f\"},\"baxis\":{\"endlinecolor\":\"#2a3f5f\",\"gridcolor\":\"white\",\"linecolor\":\"white\",\"minorgridcolor\":\"white\",\"startlinecolor\":\"#2a3f5f\"},\"type\":\"carpet\"}],\"choropleth\":[{\"colorbar\":{\"outlinewidth\":0,\"ticks\":\"\"},\"type\":\"choropleth\"}],\"contourcarpet\":[{\"colorbar\":{\"outlinewidth\":0,\"ticks\":\"\"},\"type\":\"contourcarpet\"}],\"contour\":[{\"colorbar\":{\"outlinewidth\":0,\"ticks\":\"\"},\"colorscale\":[[0.0,\"#0d0887\"],[0.1111111111111111,\"#46039f\"],[0.2222222222222222,\"#7201a8\"],[0.3333333333333333,\"#9c179e\"],[0.4444444444444444,\"#bd3786\"],[0.5555555555555556,\"#d8576b\"],[0.6666666666666666,\"#ed7953\"],[0.7777777777777778,\"#fb9f3a\"],[0.8888888888888888,\"#fdca26\"],[1.0,\"#f0f921\"]],\"type\":\"contour\"}],\"heatmapgl\":[{\"colorbar\":{\"outlinewidth\":0,\"ticks\":\"\"},\"colorscale\":[[0.0,\"#0d0887\"],[0.1111111111111111,\"#46039f\"],[0.2222222222222222,\"#7201a8\"],[0.3333333333333333,\"#9c179e\"],[0.4444444444444444,\"#bd3786\"],[0.5555555555555556,\"#d8576b\"],[0.6666666666666666,\"#ed7953\"],[0.7777777777777778,\"#fb9f3a\"],[0.8888888888888888,\"#fdca26\"],[1.0,\"#f0f921\"]],\"type\":\"heatmapgl\"}],\"heatmap\":[{\"colorbar\":{\"outlinewidth\":0,\"ticks\":\"\"},\"colorscale\":[[0.0,\"#0d0887\"],[0.1111111111111111,\"#46039f\"],[0.2222222222222222,\"#7201a8\"],[0.3333333333333333,\"#9c179e\"],[0.4444444444444444,\"#bd3786\"],[0.5555555555555556,\"#d8576b\"],[0.6666666666666666,\"#ed7953\"],[0.7777777777777778,\"#fb9f3a\"],[0.8888888888888888,\"#fdca26\"],[1.0,\"#f0f921\"]],\"type\":\"heatmap\"}],\"histogram2dcontour\":[{\"colorbar\":{\"outlinewidth\":0,\"ticks\":\"\"},\"colorscale\":[[0.0,\"#0d0887\"],[0.1111111111111111,\"#46039f\"],[0.2222222222222222,\"#7201a8\"],[0.3333333333333333,\"#9c179e\"],[0.4444444444444444,\"#bd3786\"],[0.5555555555555556,\"#d8576b\"],[0.6666666666666666,\"#ed7953\"],[0.7777777777777778,\"#fb9f3a\"],[0.8888888888888888,\"#fdca26\"],[1.0,\"#f0f921\"]],\"type\":\"histogram2dcontour\"}],\"histogram2d\":[{\"colorbar\":{\"outlinewidth\":0,\"ticks\":\"\"},\"colorscale\":[[0.0,\"#0d0887\"],[0.1111111111111111,\"#46039f\"],[0.2222222222222222,\"#7201a8\"],[0.3333333333333333,\"#9c179e\"],[0.4444444444444444,\"#bd3786\"],[0.5555555555555556,\"#d8576b\"],[0.6666666666666666,\"#ed7953\"],[0.7777777777777778,\"#fb9f3a\"],[0.8888888888888888,\"#fdca26\"],[1.0,\"#f0f921\"]],\"type\":\"histogram2d\"}],\"histogram\":[{\"marker\":{\"pattern\":{\"fillmode\":\"overlay\",\"size\":10,\"solidity\":0.2}},\"type\":\"histogram\"}],\"mesh3d\":[{\"colorbar\":{\"outlinewidth\":0,\"ticks\":\"\"},\"type\":\"mesh3d\"}],\"parcoords\":[{\"line\":{\"colorbar\":{\"outlinewidth\":0,\"ticks\":\"\"}},\"type\":\"parcoords\"}],\"pie\":[{\"automargin\":true,\"type\":\"pie\"}],\"scatter3d\":[{\"line\":{\"colorbar\":{\"outlinewidth\":0,\"ticks\":\"\"}},\"marker\":{\"colorbar\":{\"outlinewidth\":0,\"ticks\":\"\"}},\"type\":\"scatter3d\"}],\"scattercarpet\":[{\"marker\":{\"colorbar\":{\"outlinewidth\":0,\"ticks\":\"\"}},\"type\":\"scattercarpet\"}],\"scattergeo\":[{\"marker\":{\"colorbar\":{\"outlinewidth\":0,\"ticks\":\"\"}},\"type\":\"scattergeo\"}],\"scattergl\":[{\"marker\":{\"colorbar\":{\"outlinewidth\":0,\"ticks\":\"\"}},\"type\":\"scattergl\"}],\"scattermapbox\":[{\"marker\":{\"colorbar\":{\"outlinewidth\":0,\"ticks\":\"\"}},\"type\":\"scattermapbox\"}],\"scatterpolargl\":[{\"marker\":{\"colorbar\":{\"outlinewidth\":0,\"ticks\":\"\"}},\"type\":\"scatterpolargl\"}],\"scatterpolar\":[{\"marker\":{\"colorbar\":{\"outlinewidth\":0,\"ticks\":\"\"}},\"type\":\"scatterpolar\"}],\"scatter\":[{\"fillpattern\":{\"fillmode\":\"overlay\",\"size\":10,\"solidity\":0.2},\"type\":\"scatter\"}],\"scatterternary\":[{\"marker\":{\"colorbar\":{\"outlinewidth\":0,\"ticks\":\"\"}},\"type\":\"scatterternary\"}],\"surface\":[{\"colorbar\":{\"outlinewidth\":0,\"ticks\":\"\"},\"colorscale\":[[0.0,\"#0d0887\"],[0.1111111111111111,\"#46039f\"],[0.2222222222222222,\"#7201a8\"],[0.3333333333333333,\"#9c179e\"],[0.4444444444444444,\"#bd3786\"],[0.5555555555555556,\"#d8576b\"],[0.6666666666666666,\"#ed7953\"],[0.7777777777777778,\"#fb9f3a\"],[0.8888888888888888,\"#fdca26\"],[1.0,\"#f0f921\"]],\"type\":\"surface\"}],\"table\":[{\"cells\":{\"fill\":{\"color\":\"#EBF0F8\"},\"line\":{\"color\":\"white\"}},\"header\":{\"fill\":{\"color\":\"#C8D4E3\"},\"line\":{\"color\":\"white\"}},\"type\":\"table\"}]},\"layout\":{\"annotationdefaults\":{\"arrowcolor\":\"#2a3f5f\",\"arrowhead\":0,\"arrowwidth\":1},\"autotypenumbers\":\"strict\",\"coloraxis\":{\"colorbar\":{\"outlinewidth\":0,\"ticks\":\"\"}},\"colorscale\":{\"diverging\":[[0,\"#8e0152\"],[0.1,\"#c51b7d\"],[0.2,\"#de77ae\"],[0.3,\"#f1b6da\"],[0.4,\"#fde0ef\"],[0.5,\"#f7f7f7\"],[0.6,\"#e6f5d0\"],[0.7,\"#b8e186\"],[0.8,\"#7fbc41\"],[0.9,\"#4d9221\"],[1,\"#276419\"]],\"sequential\":[[0.0,\"#0d0887\"],[0.1111111111111111,\"#46039f\"],[0.2222222222222222,\"#7201a8\"],[0.3333333333333333,\"#9c179e\"],[0.4444444444444444,\"#bd3786\"],[0.5555555555555556,\"#d8576b\"],[0.6666666666666666,\"#ed7953\"],[0.7777777777777778,\"#fb9f3a\"],[0.8888888888888888,\"#fdca26\"],[1.0,\"#f0f921\"]],\"sequentialminus\":[[0.0,\"#0d0887\"],[0.1111111111111111,\"#46039f\"],[0.2222222222222222,\"#7201a8\"],[0.3333333333333333,\"#9c179e\"],[0.4444444444444444,\"#bd3786\"],[0.5555555555555556,\"#d8576b\"],[0.6666666666666666,\"#ed7953\"],[0.7777777777777778,\"#fb9f3a\"],[0.8888888888888888,\"#fdca26\"],[1.0,\"#f0f921\"]]},\"colorway\":[\"#636efa\",\"#EF553B\",\"#00cc96\",\"#ab63fa\",\"#FFA15A\",\"#19d3f3\",\"#FF6692\",\"#B6E880\",\"#FF97FF\",\"#FECB52\"],\"font\":{\"color\":\"#2a3f5f\"},\"geo\":{\"bgcolor\":\"white\",\"lakecolor\":\"white\",\"landcolor\":\"#E5ECF6\",\"showlakes\":true,\"showland\":true,\"subunitcolor\":\"white\"},\"hoverlabel\":{\"align\":\"left\"},\"hovermode\":\"closest\",\"mapbox\":{\"style\":\"light\"},\"paper_bgcolor\":\"white\",\"plot_bgcolor\":\"#E5ECF6\",\"polar\":{\"angularaxis\":{\"gridcolor\":\"white\",\"linecolor\":\"white\",\"ticks\":\"\"},\"bgcolor\":\"#E5ECF6\",\"radialaxis\":{\"gridcolor\":\"white\",\"linecolor\":\"white\",\"ticks\":\"\"}},\"scene\":{\"xaxis\":{\"backgroundcolor\":\"#E5ECF6\",\"gridcolor\":\"white\",\"gridwidth\":2,\"linecolor\":\"white\",\"showbackground\":true,\"ticks\":\"\",\"zerolinecolor\":\"white\"},\"yaxis\":{\"backgroundcolor\":\"#E5ECF6\",\"gridcolor\":\"white\",\"gridwidth\":2,\"linecolor\":\"white\",\"showbackground\":true,\"ticks\":\"\",\"zerolinecolor\":\"white\"},\"zaxis\":{\"backgroundcolor\":\"#E5ECF6\",\"gridcolor\":\"white\",\"gridwidth\":2,\"linecolor\":\"white\",\"showbackground\":true,\"ticks\":\"\",\"zerolinecolor\":\"white\"}},\"shapedefaults\":{\"line\":{\"color\":\"#2a3f5f\"}},\"ternary\":{\"aaxis\":{\"gridcolor\":\"white\",\"linecolor\":\"white\",\"ticks\":\"\"},\"baxis\":{\"gridcolor\":\"white\",\"linecolor\":\"white\",\"ticks\":\"\"},\"bgcolor\":\"#E5ECF6\",\"caxis\":{\"gridcolor\":\"white\",\"linecolor\":\"white\",\"ticks\":\"\"}},\"title\":{\"x\":0.05},\"xaxis\":{\"automargin\":true,\"gridcolor\":\"white\",\"linecolor\":\"white\",\"ticks\":\"\",\"title\":{\"standoff\":15},\"zerolinecolor\":\"white\",\"zerolinewidth\":2},\"yaxis\":{\"automargin\":true,\"gridcolor\":\"white\",\"linecolor\":\"white\",\"ticks\":\"\",\"title\":{\"standoff\":15},\"zerolinecolor\":\"white\",\"zerolinewidth\":2}}},\"title\":{\"font\":{\"color\":\"#4D5663\"}},\"xaxis\":{\"gridcolor\":\"#E1E5ED\",\"showgrid\":true,\"tickfont\":{\"color\":\"#4D5663\"},\"title\":{\"font\":{\"color\":\"#4D5663\"},\"text\":\"\"},\"zerolinecolor\":\"#E1E5ED\"},\"yaxis\":{\"gridcolor\":\"#E1E5ED\",\"showgrid\":true,\"tickfont\":{\"color\":\"#4D5663\"},\"title\":{\"font\":{\"color\":\"#4D5663\"},\"text\":\"\"},\"zerolinecolor\":\"#E1E5ED\"}},                        {\"showLink\": true, \"linkText\": \"Export to plot.ly\", \"plotlyServerURL\": \"https://plot.ly\", \"responsive\": true}                    ).then(function(){\n",
       "                            \n",
       "var gd = document.getElementById('2cd31fcb-e8c7-4537-a4ca-a05c338688b1');\n",
       "var x = new MutationObserver(function (mutations, observer) {{\n",
       "        var display = window.getComputedStyle(gd).display;\n",
       "        if (!display || display === 'none') {{\n",
       "            console.log([gd, 'removed!']);\n",
       "            Plotly.purge(gd);\n",
       "            observer.disconnect();\n",
       "        }}\n",
       "}});\n",
       "\n",
       "// Listen for the removal of the full notebook cells\n",
       "var notebookContainer = gd.closest('#notebook-container');\n",
       "if (notebookContainer) {{\n",
       "    x.observe(notebookContainer, {childList: true});\n",
       "}}\n",
       "\n",
       "// Listen for the clearing of the current output cell\n",
       "var outputEl = gd.closest('.output');\n",
       "if (outputEl) {{\n",
       "    x.observe(outputEl, {childList: true});\n",
       "}}\n",
       "\n",
       "                        })                };                });            </script>        </div>"
      ]
     },
     "metadata": {},
     "output_type": "display_data"
    }
   ],
   "source": [
    "df.sum().iplot(kind='bar')"
   ]
  },
  {
   "cell_type": "code",
   "execution_count": 27,
   "id": "56e2f108",
   "metadata": {},
   "outputs": [
    {
     "data": {
      "application/vnd.plotly.v1+json": {
       "config": {
        "linkText": "Export to plot.ly",
        "plotlyServerURL": "https://plot.ly",
        "showLink": true
       },
       "data": [
        {
         "marker": {
          "color": "rgba(255, 153, 51, 0.6)",
          "line": {
           "color": "rgba(255, 153, 51, 1.0)",
           "width": 1
          }
         },
         "name": "None",
         "orientation": "v",
         "text": "",
         "type": "bar",
         "x": [
          "A",
          "B",
          "C",
          "D"
         ],
         "y": [
          -0.042703178656788104,
          0.0006537103515063025,
          0.07748653998098845,
          0.16746382626291914
         ]
        }
       ],
       "layout": {
        "legend": {
         "bgcolor": "#F5F6F9",
         "font": {
          "color": "#4D5663"
         }
        },
        "paper_bgcolor": "#F5F6F9",
        "plot_bgcolor": "#F5F6F9",
        "template": {
         "data": {
          "bar": [
           {
            "error_x": {
             "color": "#2a3f5f"
            },
            "error_y": {
             "color": "#2a3f5f"
            },
            "marker": {
             "line": {
              "color": "#E5ECF6",
              "width": 0.5
             },
             "pattern": {
              "fillmode": "overlay",
              "size": 10,
              "solidity": 0.2
             }
            },
            "type": "bar"
           }
          ],
          "barpolar": [
           {
            "marker": {
             "line": {
              "color": "#E5ECF6",
              "width": 0.5
             },
             "pattern": {
              "fillmode": "overlay",
              "size": 10,
              "solidity": 0.2
             }
            },
            "type": "barpolar"
           }
          ],
          "carpet": [
           {
            "aaxis": {
             "endlinecolor": "#2a3f5f",
             "gridcolor": "white",
             "linecolor": "white",
             "minorgridcolor": "white",
             "startlinecolor": "#2a3f5f"
            },
            "baxis": {
             "endlinecolor": "#2a3f5f",
             "gridcolor": "white",
             "linecolor": "white",
             "minorgridcolor": "white",
             "startlinecolor": "#2a3f5f"
            },
            "type": "carpet"
           }
          ],
          "choropleth": [
           {
            "colorbar": {
             "outlinewidth": 0,
             "ticks": ""
            },
            "type": "choropleth"
           }
          ],
          "contour": [
           {
            "colorbar": {
             "outlinewidth": 0,
             "ticks": ""
            },
            "colorscale": [
             [
              0,
              "#0d0887"
             ],
             [
              0.1111111111111111,
              "#46039f"
             ],
             [
              0.2222222222222222,
              "#7201a8"
             ],
             [
              0.3333333333333333,
              "#9c179e"
             ],
             [
              0.4444444444444444,
              "#bd3786"
             ],
             [
              0.5555555555555556,
              "#d8576b"
             ],
             [
              0.6666666666666666,
              "#ed7953"
             ],
             [
              0.7777777777777778,
              "#fb9f3a"
             ],
             [
              0.8888888888888888,
              "#fdca26"
             ],
             [
              1,
              "#f0f921"
             ]
            ],
            "type": "contour"
           }
          ],
          "contourcarpet": [
           {
            "colorbar": {
             "outlinewidth": 0,
             "ticks": ""
            },
            "type": "contourcarpet"
           }
          ],
          "heatmap": [
           {
            "colorbar": {
             "outlinewidth": 0,
             "ticks": ""
            },
            "colorscale": [
             [
              0,
              "#0d0887"
             ],
             [
              0.1111111111111111,
              "#46039f"
             ],
             [
              0.2222222222222222,
              "#7201a8"
             ],
             [
              0.3333333333333333,
              "#9c179e"
             ],
             [
              0.4444444444444444,
              "#bd3786"
             ],
             [
              0.5555555555555556,
              "#d8576b"
             ],
             [
              0.6666666666666666,
              "#ed7953"
             ],
             [
              0.7777777777777778,
              "#fb9f3a"
             ],
             [
              0.8888888888888888,
              "#fdca26"
             ],
             [
              1,
              "#f0f921"
             ]
            ],
            "type": "heatmap"
           }
          ],
          "heatmapgl": [
           {
            "colorbar": {
             "outlinewidth": 0,
             "ticks": ""
            },
            "colorscale": [
             [
              0,
              "#0d0887"
             ],
             [
              0.1111111111111111,
              "#46039f"
             ],
             [
              0.2222222222222222,
              "#7201a8"
             ],
             [
              0.3333333333333333,
              "#9c179e"
             ],
             [
              0.4444444444444444,
              "#bd3786"
             ],
             [
              0.5555555555555556,
              "#d8576b"
             ],
             [
              0.6666666666666666,
              "#ed7953"
             ],
             [
              0.7777777777777778,
              "#fb9f3a"
             ],
             [
              0.8888888888888888,
              "#fdca26"
             ],
             [
              1,
              "#f0f921"
             ]
            ],
            "type": "heatmapgl"
           }
          ],
          "histogram": [
           {
            "marker": {
             "pattern": {
              "fillmode": "overlay",
              "size": 10,
              "solidity": 0.2
             }
            },
            "type": "histogram"
           }
          ],
          "histogram2d": [
           {
            "colorbar": {
             "outlinewidth": 0,
             "ticks": ""
            },
            "colorscale": [
             [
              0,
              "#0d0887"
             ],
             [
              0.1111111111111111,
              "#46039f"
             ],
             [
              0.2222222222222222,
              "#7201a8"
             ],
             [
              0.3333333333333333,
              "#9c179e"
             ],
             [
              0.4444444444444444,
              "#bd3786"
             ],
             [
              0.5555555555555556,
              "#d8576b"
             ],
             [
              0.6666666666666666,
              "#ed7953"
             ],
             [
              0.7777777777777778,
              "#fb9f3a"
             ],
             [
              0.8888888888888888,
              "#fdca26"
             ],
             [
              1,
              "#f0f921"
             ]
            ],
            "type": "histogram2d"
           }
          ],
          "histogram2dcontour": [
           {
            "colorbar": {
             "outlinewidth": 0,
             "ticks": ""
            },
            "colorscale": [
             [
              0,
              "#0d0887"
             ],
             [
              0.1111111111111111,
              "#46039f"
             ],
             [
              0.2222222222222222,
              "#7201a8"
             ],
             [
              0.3333333333333333,
              "#9c179e"
             ],
             [
              0.4444444444444444,
              "#bd3786"
             ],
             [
              0.5555555555555556,
              "#d8576b"
             ],
             [
              0.6666666666666666,
              "#ed7953"
             ],
             [
              0.7777777777777778,
              "#fb9f3a"
             ],
             [
              0.8888888888888888,
              "#fdca26"
             ],
             [
              1,
              "#f0f921"
             ]
            ],
            "type": "histogram2dcontour"
           }
          ],
          "mesh3d": [
           {
            "colorbar": {
             "outlinewidth": 0,
             "ticks": ""
            },
            "type": "mesh3d"
           }
          ],
          "parcoords": [
           {
            "line": {
             "colorbar": {
              "outlinewidth": 0,
              "ticks": ""
             }
            },
            "type": "parcoords"
           }
          ],
          "pie": [
           {
            "automargin": true,
            "type": "pie"
           }
          ],
          "scatter": [
           {
            "fillpattern": {
             "fillmode": "overlay",
             "size": 10,
             "solidity": 0.2
            },
            "type": "scatter"
           }
          ],
          "scatter3d": [
           {
            "line": {
             "colorbar": {
              "outlinewidth": 0,
              "ticks": ""
             }
            },
            "marker": {
             "colorbar": {
              "outlinewidth": 0,
              "ticks": ""
             }
            },
            "type": "scatter3d"
           }
          ],
          "scattercarpet": [
           {
            "marker": {
             "colorbar": {
              "outlinewidth": 0,
              "ticks": ""
             }
            },
            "type": "scattercarpet"
           }
          ],
          "scattergeo": [
           {
            "marker": {
             "colorbar": {
              "outlinewidth": 0,
              "ticks": ""
             }
            },
            "type": "scattergeo"
           }
          ],
          "scattergl": [
           {
            "marker": {
             "colorbar": {
              "outlinewidth": 0,
              "ticks": ""
             }
            },
            "type": "scattergl"
           }
          ],
          "scattermapbox": [
           {
            "marker": {
             "colorbar": {
              "outlinewidth": 0,
              "ticks": ""
             }
            },
            "type": "scattermapbox"
           }
          ],
          "scatterpolar": [
           {
            "marker": {
             "colorbar": {
              "outlinewidth": 0,
              "ticks": ""
             }
            },
            "type": "scatterpolar"
           }
          ],
          "scatterpolargl": [
           {
            "marker": {
             "colorbar": {
              "outlinewidth": 0,
              "ticks": ""
             }
            },
            "type": "scatterpolargl"
           }
          ],
          "scatterternary": [
           {
            "marker": {
             "colorbar": {
              "outlinewidth": 0,
              "ticks": ""
             }
            },
            "type": "scatterternary"
           }
          ],
          "surface": [
           {
            "colorbar": {
             "outlinewidth": 0,
             "ticks": ""
            },
            "colorscale": [
             [
              0,
              "#0d0887"
             ],
             [
              0.1111111111111111,
              "#46039f"
             ],
             [
              0.2222222222222222,
              "#7201a8"
             ],
             [
              0.3333333333333333,
              "#9c179e"
             ],
             [
              0.4444444444444444,
              "#bd3786"
             ],
             [
              0.5555555555555556,
              "#d8576b"
             ],
             [
              0.6666666666666666,
              "#ed7953"
             ],
             [
              0.7777777777777778,
              "#fb9f3a"
             ],
             [
              0.8888888888888888,
              "#fdca26"
             ],
             [
              1,
              "#f0f921"
             ]
            ],
            "type": "surface"
           }
          ],
          "table": [
           {
            "cells": {
             "fill": {
              "color": "#EBF0F8"
             },
             "line": {
              "color": "white"
             }
            },
            "header": {
             "fill": {
              "color": "#C8D4E3"
             },
             "line": {
              "color": "white"
             }
            },
            "type": "table"
           }
          ]
         },
         "layout": {
          "annotationdefaults": {
           "arrowcolor": "#2a3f5f",
           "arrowhead": 0,
           "arrowwidth": 1
          },
          "autotypenumbers": "strict",
          "coloraxis": {
           "colorbar": {
            "outlinewidth": 0,
            "ticks": ""
           }
          },
          "colorscale": {
           "diverging": [
            [
             0,
             "#8e0152"
            ],
            [
             0.1,
             "#c51b7d"
            ],
            [
             0.2,
             "#de77ae"
            ],
            [
             0.3,
             "#f1b6da"
            ],
            [
             0.4,
             "#fde0ef"
            ],
            [
             0.5,
             "#f7f7f7"
            ],
            [
             0.6,
             "#e6f5d0"
            ],
            [
             0.7,
             "#b8e186"
            ],
            [
             0.8,
             "#7fbc41"
            ],
            [
             0.9,
             "#4d9221"
            ],
            [
             1,
             "#276419"
            ]
           ],
           "sequential": [
            [
             0,
             "#0d0887"
            ],
            [
             0.1111111111111111,
             "#46039f"
            ],
            [
             0.2222222222222222,
             "#7201a8"
            ],
            [
             0.3333333333333333,
             "#9c179e"
            ],
            [
             0.4444444444444444,
             "#bd3786"
            ],
            [
             0.5555555555555556,
             "#d8576b"
            ],
            [
             0.6666666666666666,
             "#ed7953"
            ],
            [
             0.7777777777777778,
             "#fb9f3a"
            ],
            [
             0.8888888888888888,
             "#fdca26"
            ],
            [
             1,
             "#f0f921"
            ]
           ],
           "sequentialminus": [
            [
             0,
             "#0d0887"
            ],
            [
             0.1111111111111111,
             "#46039f"
            ],
            [
             0.2222222222222222,
             "#7201a8"
            ],
            [
             0.3333333333333333,
             "#9c179e"
            ],
            [
             0.4444444444444444,
             "#bd3786"
            ],
            [
             0.5555555555555556,
             "#d8576b"
            ],
            [
             0.6666666666666666,
             "#ed7953"
            ],
            [
             0.7777777777777778,
             "#fb9f3a"
            ],
            [
             0.8888888888888888,
             "#fdca26"
            ],
            [
             1,
             "#f0f921"
            ]
           ]
          },
          "colorway": [
           "#636efa",
           "#EF553B",
           "#00cc96",
           "#ab63fa",
           "#FFA15A",
           "#19d3f3",
           "#FF6692",
           "#B6E880",
           "#FF97FF",
           "#FECB52"
          ],
          "font": {
           "color": "#2a3f5f"
          },
          "geo": {
           "bgcolor": "white",
           "lakecolor": "white",
           "landcolor": "#E5ECF6",
           "showlakes": true,
           "showland": true,
           "subunitcolor": "white"
          },
          "hoverlabel": {
           "align": "left"
          },
          "hovermode": "closest",
          "mapbox": {
           "style": "light"
          },
          "paper_bgcolor": "white",
          "plot_bgcolor": "#E5ECF6",
          "polar": {
           "angularaxis": {
            "gridcolor": "white",
            "linecolor": "white",
            "ticks": ""
           },
           "bgcolor": "#E5ECF6",
           "radialaxis": {
            "gridcolor": "white",
            "linecolor": "white",
            "ticks": ""
           }
          },
          "scene": {
           "xaxis": {
            "backgroundcolor": "#E5ECF6",
            "gridcolor": "white",
            "gridwidth": 2,
            "linecolor": "white",
            "showbackground": true,
            "ticks": "",
            "zerolinecolor": "white"
           },
           "yaxis": {
            "backgroundcolor": "#E5ECF6",
            "gridcolor": "white",
            "gridwidth": 2,
            "linecolor": "white",
            "showbackground": true,
            "ticks": "",
            "zerolinecolor": "white"
           },
           "zaxis": {
            "backgroundcolor": "#E5ECF6",
            "gridcolor": "white",
            "gridwidth": 2,
            "linecolor": "white",
            "showbackground": true,
            "ticks": "",
            "zerolinecolor": "white"
           }
          },
          "shapedefaults": {
           "line": {
            "color": "#2a3f5f"
           }
          },
          "ternary": {
           "aaxis": {
            "gridcolor": "white",
            "linecolor": "white",
            "ticks": ""
           },
           "baxis": {
            "gridcolor": "white",
            "linecolor": "white",
            "ticks": ""
           },
           "bgcolor": "#E5ECF6",
           "caxis": {
            "gridcolor": "white",
            "linecolor": "white",
            "ticks": ""
           }
          },
          "title": {
           "x": 0.05
          },
          "xaxis": {
           "automargin": true,
           "gridcolor": "white",
           "linecolor": "white",
           "ticks": "",
           "title": {
            "standoff": 15
           },
           "zerolinecolor": "white",
           "zerolinewidth": 2
          },
          "yaxis": {
           "automargin": true,
           "gridcolor": "white",
           "linecolor": "white",
           "ticks": "",
           "title": {
            "standoff": 15
           },
           "zerolinecolor": "white",
           "zerolinewidth": 2
          }
         }
        },
        "title": {
         "font": {
          "color": "#4D5663"
         }
        },
        "xaxis": {
         "gridcolor": "#E1E5ED",
         "showgrid": true,
         "tickfont": {
          "color": "#4D5663"
         },
         "title": {
          "font": {
           "color": "#4D5663"
          },
          "text": ""
         },
         "zerolinecolor": "#E1E5ED"
        },
        "yaxis": {
         "gridcolor": "#E1E5ED",
         "showgrid": true,
         "tickfont": {
          "color": "#4D5663"
         },
         "title": {
          "font": {
           "color": "#4D5663"
          },
          "text": ""
         },
         "zerolinecolor": "#E1E5ED"
        }
       }
      },
      "text/html": [
       "<div>                            <div id=\"892c8b2c-71a0-4e41-96ed-9838ef7cf632\" class=\"plotly-graph-div\" style=\"height:525px; width:100%;\"></div>            <script type=\"text/javascript\">                require([\"plotly\"], function(Plotly) {                    window.PLOTLYENV=window.PLOTLYENV || {};\n",
       "                    window.PLOTLYENV.BASE_URL='https://plot.ly';                                    if (document.getElementById(\"892c8b2c-71a0-4e41-96ed-9838ef7cf632\")) {                    Plotly.newPlot(                        \"892c8b2c-71a0-4e41-96ed-9838ef7cf632\",                        [{\"marker\":{\"color\":\"rgba(255, 153, 51, 0.6)\",\"line\":{\"color\":\"rgba(255, 153, 51, 1.0)\",\"width\":1}},\"name\":\"None\",\"orientation\":\"v\",\"text\":\"\",\"x\":[\"A\",\"B\",\"C\",\"D\"],\"y\":[-0.042703178656788104,0.0006537103515063025,0.07748653998098845,0.16746382626291914],\"type\":\"bar\"}],                        {\"legend\":{\"bgcolor\":\"#F5F6F9\",\"font\":{\"color\":\"#4D5663\"}},\"paper_bgcolor\":\"#F5F6F9\",\"plot_bgcolor\":\"#F5F6F9\",\"template\":{\"data\":{\"barpolar\":[{\"marker\":{\"line\":{\"color\":\"#E5ECF6\",\"width\":0.5},\"pattern\":{\"fillmode\":\"overlay\",\"size\":10,\"solidity\":0.2}},\"type\":\"barpolar\"}],\"bar\":[{\"error_x\":{\"color\":\"#2a3f5f\"},\"error_y\":{\"color\":\"#2a3f5f\"},\"marker\":{\"line\":{\"color\":\"#E5ECF6\",\"width\":0.5},\"pattern\":{\"fillmode\":\"overlay\",\"size\":10,\"solidity\":0.2}},\"type\":\"bar\"}],\"carpet\":[{\"aaxis\":{\"endlinecolor\":\"#2a3f5f\",\"gridcolor\":\"white\",\"linecolor\":\"white\",\"minorgridcolor\":\"white\",\"startlinecolor\":\"#2a3f5f\"},\"baxis\":{\"endlinecolor\":\"#2a3f5f\",\"gridcolor\":\"white\",\"linecolor\":\"white\",\"minorgridcolor\":\"white\",\"startlinecolor\":\"#2a3f5f\"},\"type\":\"carpet\"}],\"choropleth\":[{\"colorbar\":{\"outlinewidth\":0,\"ticks\":\"\"},\"type\":\"choropleth\"}],\"contourcarpet\":[{\"colorbar\":{\"outlinewidth\":0,\"ticks\":\"\"},\"type\":\"contourcarpet\"}],\"contour\":[{\"colorbar\":{\"outlinewidth\":0,\"ticks\":\"\"},\"colorscale\":[[0.0,\"#0d0887\"],[0.1111111111111111,\"#46039f\"],[0.2222222222222222,\"#7201a8\"],[0.3333333333333333,\"#9c179e\"],[0.4444444444444444,\"#bd3786\"],[0.5555555555555556,\"#d8576b\"],[0.6666666666666666,\"#ed7953\"],[0.7777777777777778,\"#fb9f3a\"],[0.8888888888888888,\"#fdca26\"],[1.0,\"#f0f921\"]],\"type\":\"contour\"}],\"heatmapgl\":[{\"colorbar\":{\"outlinewidth\":0,\"ticks\":\"\"},\"colorscale\":[[0.0,\"#0d0887\"],[0.1111111111111111,\"#46039f\"],[0.2222222222222222,\"#7201a8\"],[0.3333333333333333,\"#9c179e\"],[0.4444444444444444,\"#bd3786\"],[0.5555555555555556,\"#d8576b\"],[0.6666666666666666,\"#ed7953\"],[0.7777777777777778,\"#fb9f3a\"],[0.8888888888888888,\"#fdca26\"],[1.0,\"#f0f921\"]],\"type\":\"heatmapgl\"}],\"heatmap\":[{\"colorbar\":{\"outlinewidth\":0,\"ticks\":\"\"},\"colorscale\":[[0.0,\"#0d0887\"],[0.1111111111111111,\"#46039f\"],[0.2222222222222222,\"#7201a8\"],[0.3333333333333333,\"#9c179e\"],[0.4444444444444444,\"#bd3786\"],[0.5555555555555556,\"#d8576b\"],[0.6666666666666666,\"#ed7953\"],[0.7777777777777778,\"#fb9f3a\"],[0.8888888888888888,\"#fdca26\"],[1.0,\"#f0f921\"]],\"type\":\"heatmap\"}],\"histogram2dcontour\":[{\"colorbar\":{\"outlinewidth\":0,\"ticks\":\"\"},\"colorscale\":[[0.0,\"#0d0887\"],[0.1111111111111111,\"#46039f\"],[0.2222222222222222,\"#7201a8\"],[0.3333333333333333,\"#9c179e\"],[0.4444444444444444,\"#bd3786\"],[0.5555555555555556,\"#d8576b\"],[0.6666666666666666,\"#ed7953\"],[0.7777777777777778,\"#fb9f3a\"],[0.8888888888888888,\"#fdca26\"],[1.0,\"#f0f921\"]],\"type\":\"histogram2dcontour\"}],\"histogram2d\":[{\"colorbar\":{\"outlinewidth\":0,\"ticks\":\"\"},\"colorscale\":[[0.0,\"#0d0887\"],[0.1111111111111111,\"#46039f\"],[0.2222222222222222,\"#7201a8\"],[0.3333333333333333,\"#9c179e\"],[0.4444444444444444,\"#bd3786\"],[0.5555555555555556,\"#d8576b\"],[0.6666666666666666,\"#ed7953\"],[0.7777777777777778,\"#fb9f3a\"],[0.8888888888888888,\"#fdca26\"],[1.0,\"#f0f921\"]],\"type\":\"histogram2d\"}],\"histogram\":[{\"marker\":{\"pattern\":{\"fillmode\":\"overlay\",\"size\":10,\"solidity\":0.2}},\"type\":\"histogram\"}],\"mesh3d\":[{\"colorbar\":{\"outlinewidth\":0,\"ticks\":\"\"},\"type\":\"mesh3d\"}],\"parcoords\":[{\"line\":{\"colorbar\":{\"outlinewidth\":0,\"ticks\":\"\"}},\"type\":\"parcoords\"}],\"pie\":[{\"automargin\":true,\"type\":\"pie\"}],\"scatter3d\":[{\"line\":{\"colorbar\":{\"outlinewidth\":0,\"ticks\":\"\"}},\"marker\":{\"colorbar\":{\"outlinewidth\":0,\"ticks\":\"\"}},\"type\":\"scatter3d\"}],\"scattercarpet\":[{\"marker\":{\"colorbar\":{\"outlinewidth\":0,\"ticks\":\"\"}},\"type\":\"scattercarpet\"}],\"scattergeo\":[{\"marker\":{\"colorbar\":{\"outlinewidth\":0,\"ticks\":\"\"}},\"type\":\"scattergeo\"}],\"scattergl\":[{\"marker\":{\"colorbar\":{\"outlinewidth\":0,\"ticks\":\"\"}},\"type\":\"scattergl\"}],\"scattermapbox\":[{\"marker\":{\"colorbar\":{\"outlinewidth\":0,\"ticks\":\"\"}},\"type\":\"scattermapbox\"}],\"scatterpolargl\":[{\"marker\":{\"colorbar\":{\"outlinewidth\":0,\"ticks\":\"\"}},\"type\":\"scatterpolargl\"}],\"scatterpolar\":[{\"marker\":{\"colorbar\":{\"outlinewidth\":0,\"ticks\":\"\"}},\"type\":\"scatterpolar\"}],\"scatter\":[{\"fillpattern\":{\"fillmode\":\"overlay\",\"size\":10,\"solidity\":0.2},\"type\":\"scatter\"}],\"scatterternary\":[{\"marker\":{\"colorbar\":{\"outlinewidth\":0,\"ticks\":\"\"}},\"type\":\"scatterternary\"}],\"surface\":[{\"colorbar\":{\"outlinewidth\":0,\"ticks\":\"\"},\"colorscale\":[[0.0,\"#0d0887\"],[0.1111111111111111,\"#46039f\"],[0.2222222222222222,\"#7201a8\"],[0.3333333333333333,\"#9c179e\"],[0.4444444444444444,\"#bd3786\"],[0.5555555555555556,\"#d8576b\"],[0.6666666666666666,\"#ed7953\"],[0.7777777777777778,\"#fb9f3a\"],[0.8888888888888888,\"#fdca26\"],[1.0,\"#f0f921\"]],\"type\":\"surface\"}],\"table\":[{\"cells\":{\"fill\":{\"color\":\"#EBF0F8\"},\"line\":{\"color\":\"white\"}},\"header\":{\"fill\":{\"color\":\"#C8D4E3\"},\"line\":{\"color\":\"white\"}},\"type\":\"table\"}]},\"layout\":{\"annotationdefaults\":{\"arrowcolor\":\"#2a3f5f\",\"arrowhead\":0,\"arrowwidth\":1},\"autotypenumbers\":\"strict\",\"coloraxis\":{\"colorbar\":{\"outlinewidth\":0,\"ticks\":\"\"}},\"colorscale\":{\"diverging\":[[0,\"#8e0152\"],[0.1,\"#c51b7d\"],[0.2,\"#de77ae\"],[0.3,\"#f1b6da\"],[0.4,\"#fde0ef\"],[0.5,\"#f7f7f7\"],[0.6,\"#e6f5d0\"],[0.7,\"#b8e186\"],[0.8,\"#7fbc41\"],[0.9,\"#4d9221\"],[1,\"#276419\"]],\"sequential\":[[0.0,\"#0d0887\"],[0.1111111111111111,\"#46039f\"],[0.2222222222222222,\"#7201a8\"],[0.3333333333333333,\"#9c179e\"],[0.4444444444444444,\"#bd3786\"],[0.5555555555555556,\"#d8576b\"],[0.6666666666666666,\"#ed7953\"],[0.7777777777777778,\"#fb9f3a\"],[0.8888888888888888,\"#fdca26\"],[1.0,\"#f0f921\"]],\"sequentialminus\":[[0.0,\"#0d0887\"],[0.1111111111111111,\"#46039f\"],[0.2222222222222222,\"#7201a8\"],[0.3333333333333333,\"#9c179e\"],[0.4444444444444444,\"#bd3786\"],[0.5555555555555556,\"#d8576b\"],[0.6666666666666666,\"#ed7953\"],[0.7777777777777778,\"#fb9f3a\"],[0.8888888888888888,\"#fdca26\"],[1.0,\"#f0f921\"]]},\"colorway\":[\"#636efa\",\"#EF553B\",\"#00cc96\",\"#ab63fa\",\"#FFA15A\",\"#19d3f3\",\"#FF6692\",\"#B6E880\",\"#FF97FF\",\"#FECB52\"],\"font\":{\"color\":\"#2a3f5f\"},\"geo\":{\"bgcolor\":\"white\",\"lakecolor\":\"white\",\"landcolor\":\"#E5ECF6\",\"showlakes\":true,\"showland\":true,\"subunitcolor\":\"white\"},\"hoverlabel\":{\"align\":\"left\"},\"hovermode\":\"closest\",\"mapbox\":{\"style\":\"light\"},\"paper_bgcolor\":\"white\",\"plot_bgcolor\":\"#E5ECF6\",\"polar\":{\"angularaxis\":{\"gridcolor\":\"white\",\"linecolor\":\"white\",\"ticks\":\"\"},\"bgcolor\":\"#E5ECF6\",\"radialaxis\":{\"gridcolor\":\"white\",\"linecolor\":\"white\",\"ticks\":\"\"}},\"scene\":{\"xaxis\":{\"backgroundcolor\":\"#E5ECF6\",\"gridcolor\":\"white\",\"gridwidth\":2,\"linecolor\":\"white\",\"showbackground\":true,\"ticks\":\"\",\"zerolinecolor\":\"white\"},\"yaxis\":{\"backgroundcolor\":\"#E5ECF6\",\"gridcolor\":\"white\",\"gridwidth\":2,\"linecolor\":\"white\",\"showbackground\":true,\"ticks\":\"\",\"zerolinecolor\":\"white\"},\"zaxis\":{\"backgroundcolor\":\"#E5ECF6\",\"gridcolor\":\"white\",\"gridwidth\":2,\"linecolor\":\"white\",\"showbackground\":true,\"ticks\":\"\",\"zerolinecolor\":\"white\"}},\"shapedefaults\":{\"line\":{\"color\":\"#2a3f5f\"}},\"ternary\":{\"aaxis\":{\"gridcolor\":\"white\",\"linecolor\":\"white\",\"ticks\":\"\"},\"baxis\":{\"gridcolor\":\"white\",\"linecolor\":\"white\",\"ticks\":\"\"},\"bgcolor\":\"#E5ECF6\",\"caxis\":{\"gridcolor\":\"white\",\"linecolor\":\"white\",\"ticks\":\"\"}},\"title\":{\"x\":0.05},\"xaxis\":{\"automargin\":true,\"gridcolor\":\"white\",\"linecolor\":\"white\",\"ticks\":\"\",\"title\":{\"standoff\":15},\"zerolinecolor\":\"white\",\"zerolinewidth\":2},\"yaxis\":{\"automargin\":true,\"gridcolor\":\"white\",\"linecolor\":\"white\",\"ticks\":\"\",\"title\":{\"standoff\":15},\"zerolinecolor\":\"white\",\"zerolinewidth\":2}}},\"title\":{\"font\":{\"color\":\"#4D5663\"}},\"xaxis\":{\"gridcolor\":\"#E1E5ED\",\"showgrid\":true,\"tickfont\":{\"color\":\"#4D5663\"},\"title\":{\"font\":{\"color\":\"#4D5663\"},\"text\":\"\"},\"zerolinecolor\":\"#E1E5ED\"},\"yaxis\":{\"gridcolor\":\"#E1E5ED\",\"showgrid\":true,\"tickfont\":{\"color\":\"#4D5663\"},\"title\":{\"font\":{\"color\":\"#4D5663\"},\"text\":\"\"},\"zerolinecolor\":\"#E1E5ED\"}},                        {\"showLink\": true, \"linkText\": \"Export to plot.ly\", \"plotlyServerURL\": \"https://plot.ly\", \"responsive\": true}                    ).then(function(){\n",
       "                            \n",
       "var gd = document.getElementById('892c8b2c-71a0-4e41-96ed-9838ef7cf632');\n",
       "var x = new MutationObserver(function (mutations, observer) {{\n",
       "        var display = window.getComputedStyle(gd).display;\n",
       "        if (!display || display === 'none') {{\n",
       "            console.log([gd, 'removed!']);\n",
       "            Plotly.purge(gd);\n",
       "            observer.disconnect();\n",
       "        }}\n",
       "}});\n",
       "\n",
       "// Listen for the removal of the full notebook cells\n",
       "var notebookContainer = gd.closest('#notebook-container');\n",
       "if (notebookContainer) {{\n",
       "    x.observe(notebookContainer, {childList: true});\n",
       "}}\n",
       "\n",
       "// Listen for the clearing of the current output cell\n",
       "var outputEl = gd.closest('.output');\n",
       "if (outputEl) {{\n",
       "    x.observe(outputEl, {childList: true});\n",
       "}}\n",
       "\n",
       "                        })                };                });            </script>        </div>"
      ]
     },
     "metadata": {},
     "output_type": "display_data"
    }
   ],
   "source": [
    "df.mean().iplot(kind='bar')"
   ]
  },
  {
   "cell_type": "code",
   "execution_count": 29,
   "id": "6f3017df",
   "metadata": {},
   "outputs": [
    {
     "data": {
      "application/vnd.plotly.v1+json": {
       "config": {
        "linkText": "Export to plot.ly",
        "plotlyServerURL": "https://plot.ly",
        "showLink": true
       },
       "data": [
        {
         "boxpoints": false,
         "line": {
          "width": 1.3
         },
         "marker": {
          "color": "rgba(255, 153, 51, 1.0)"
         },
         "name": "A",
         "orientation": "v",
         "type": "box",
         "y": [
          0.9634623893766167,
          -0.12055224845819004,
          0.25008154086228296,
          -0.5013143806434255,
          0.1292844937472286,
          0.4044071864470786,
          -2.0771930414556183,
          -0.020426006358398602,
          0.3849191710124318,
          0.879707817390476,
          -0.9431858876910261,
          -0.7490253238236118,
          0.5924697035901231,
          -1.3940933638268622,
          -0.5719377462453421,
          0.0075937045045873,
          -1.4481325040064896,
          0.21700524462166149,
          -0.1395825213548501,
          -0.24991568489512242,
          0.29452568252983163,
          -0.7905644371689067,
          -0.2997690889834603,
          0.21384176348726486,
          0.08658516570981084,
          0.7454032185178966,
          -0.6281603258099894,
          0.46180435642701845,
          -0.4178004985683218,
          -0.35630133871786407,
          -1.2112066150479495,
          -0.9726056889327593,
          -0.1005023860363253,
          1.0040648633325953,
          -1.0629923769941325,
          2.47531773691314,
          -0.04824382074826237,
          1.7025776795476604,
          -1.236548662174602,
          0.39866376082116467,
          1.333415614245502,
          0.0766655986802566,
          -0.33317061992034,
          -0.07328513704307903,
          0.37972060484157116,
          0.6522436929759483,
          0.8908762959506643,
          -0.41150485447839996,
          -0.3911042477094948,
          -1.7445372379275699,
          0.023978803372944477,
          -0.17442305395410349,
          0.25819460285665935,
          0.4944620618569529,
          -0.5834284135317452,
          -0.3240544301618898,
          -1.5444815784266575,
          -0.4776289313257464,
          0.06945397679857637,
          -0.4278386106429362,
          1.2522658559296482,
          -0.8812452740221121,
          -0.8221355096056416,
          -0.18782134308689513,
          1.8206332470536457,
          -0.6879560063978835,
          1.241741050078539,
          -2.7408858865027486,
          -0.4980842707106779,
          -0.9645117851028521,
          -0.12349607696101607,
          0.14719778655961077,
          -0.3022218597739041,
          0.6471150042134444,
          0.4721020856800413,
          -1.0353926818229156,
          1.3229382115515267,
          -1.2156788535049665,
          0.7614711874891931,
          -0.9013858317983743,
          -1.003047554190563,
          1.1696861418828624,
          0.0390968088724639,
          -0.4260054156967536,
          1.091606297176759,
          1.2036536169313206,
          -0.4427686249514626,
          1.4585873222111359,
          -0.270091310882172,
          0.17838137496146925,
          1.1533524775428632,
          0.5561949849702105,
          0.18208084487524875,
          0.26219091894703034,
          0.7582266638205611,
          0.3703636490699679,
          -0.5948913443755864,
          0.34613627097324257,
          0.07431556715271147,
          -1.2472512715902513
         ]
        },
        {
         "boxpoints": false,
         "line": {
          "width": 1.3
         },
         "marker": {
          "color": "rgba(55, 128, 191, 1.0)"
         },
         "name": "B",
         "orientation": "v",
         "type": "box",
         "y": [
          -0.09147954299523928,
          -1.7385508624690544,
          0.9221586878268342,
          -1.0931631569009221,
          0.3314050081963957,
          -1.6860350043840182,
          0.12957115351750878,
          0.5282594700664602,
          -1.724213141676408,
          -0.5551485134413877,
          0.01099836125675915,
          -1.8479965901671493,
          1.3048716149407638,
          -0.47126362237465713,
          0.30461274408286604,
          -0.3624930124832195,
          -0.12427109577985897,
          1.0458392895428787,
          -1.0772505081410064,
          0.956187500896724,
          -0.5134093195098551,
          1.003191182736705,
          1.0054421492812542,
          0.7444342301762672,
          0.9717048416109594,
          -0.5862903672126797,
          1.1402320163276554,
          -0.07586206865034092,
          -1.3020079599314847,
          -1.5532090620038983,
          0.8063276508119176,
          -1.190267123383816,
          -0.45573398022926986,
          0.2492173650282826,
          0.042545897664883724,
          -0.5394012540380726,
          -0.8710337885007717,
          0.27070058032527144,
          1.502715551599413,
          -0.6133569085524814,
          0.7716091967711711,
          -0.844375266511973,
          1.014272863942356,
          1.283227843583457,
          0.5405202955362597,
          0.26670175488612397,
          0.7101520294582939,
          2.07484318757425,
          0.6160923809193212,
          -0.7621923610184558,
          -0.7409270577875984,
          -0.8944055555394634,
          -0.8504280755637271,
          -1.0335914311595302,
          2.1436511287416486,
          0.2941595400966851,
          -1.2670997292914403,
          1.6747192059627178,
          -0.4549685653946752,
          -1.4261740159930605,
          0.2860098578963224,
          -0.6896865460661573,
          0.058011235562708846,
          -1.408955244083918,
          -0.20902752485155054,
          -0.30808010437819333,
          -0.22554007253720418,
          -0.012289759543897499,
          1.1978357038826355,
          0.8808992432676263,
          -0.1577267481768039,
          -0.7663712262064384,
          -1.47674134732821,
          0.48303599341467285,
          0.7484100962354236,
          0.6199214404930379,
          -0.09192405598441374,
          0.5300093476958286,
          1.2785791208003725,
          0.9358425653510516,
          -0.5925670749165277,
          -0.20166372582262201,
          -1.096850817122355,
          -1.0932450615263414,
          0.424315413305436,
          -0.0926162788765071,
          -0.20069809653638093,
          0.9772930851080682,
          0.26386815140631265,
          1.3874266245301734,
          -0.9248958944644438,
          0.17201496834833183,
          -0.9048757219799238,
          0.4288879111931887,
          -0.36738707307769375,
          0.7472144095556358,
          2.272295759735388,
          0.877225373172687,
          -0.4378174124395575,
          -1.1585312621617012
         ]
        },
        {
         "boxpoints": false,
         "line": {
          "width": 1.3
         },
         "marker": {
          "color": "rgba(50, 171, 96, 1.0)"
         },
         "name": "C",
         "orientation": "v",
         "type": "box",
         "y": [
          -0.18464066753779282,
          -1.837509230436605,
          -1.428226235955854,
          -0.19269172454292138,
          -0.09861805876725806,
          -0.6270474301800498,
          -0.07744172305750369,
          -1.3171709649992867,
          0.3896777388807655,
          -0.43291268819866346,
          -1.4752633555225647,
          0.6205395497448952,
          0.26174678012019625,
          0.01079237860016229,
          -0.2932546818019788,
          -0.48818618846841627,
          0.5617576021169364,
          -0.10709881717918422,
          1.1519827392437467,
          0.9003224007732287,
          -1.5676773430795874,
          0.6894923534228223,
          1.4037403210797081,
          -1.51277369058372,
          -0.1508289354292569,
          -1.4432952379527717,
          0.5570755511116148,
          0.14900020795773572,
          -1.0001189121750071,
          -1.3044512140273399,
          0.3862759814637888,
          -0.4188065597005142,
          0.6122983282252088,
          -0.45022406204096216,
          0.9024150719815782,
          0.32213695888356175,
          -0.15675623893701282,
          0.8809068586130961,
          1.053099326359383,
          -0.318492866646178,
          -0.0076614351279544884,
          0.7126223385047062,
          -0.014602804125976686,
          -1.1595424459621422,
          0.8417691791674425,
          -0.19056738474754467,
          2.0412416781683436,
          1.0076319937541325,
          0.7837616214918188,
          0.18988887593466647,
          -0.8149264277747987,
          0.03359639349157924,
          0.44510793187142755,
          0.8045401623710499,
          1.3954190768525638,
          -0.29477428779041814,
          -1.780670974511907,
          0.8199538360869015,
          0.1501494594895702,
          -1.2428346796666963,
          -0.9933306702583978,
          -0.22839952302186403,
          -0.18970102502483172,
          0.48491976220493826,
          0.9357894463118495,
          -1.0560773276372402,
          0.6605859438226847,
          0.8164952220723438,
          0.24509061408222765,
          -0.047949085699612044,
          -0.4730271905747123,
          1.0818437167773567,
          0.18090244215906,
          0.5167874447229025,
          -0.7461192427167384,
          1.104831725043291,
          2.6374468148273453,
          -0.6262404970069213,
          -0.3409569593914698,
          0.2967846166705076,
          0.6172402964404274,
          1.051005691693931,
          1.2841478727772049,
          1.2101133641665631,
          -0.6929839670049587,
          1.328023523948433,
          -0.08738999598215914,
          -1.2842310481852168,
          -0.277226890455086,
          -2.021620617412835,
          0.36565077821684056,
          -0.9215339827069383,
          3.2246408543883303,
          0.9952976646593267,
          0.011044725316802291,
          1.5643094453430852,
          -1.1147105963937614,
          0.6144647744747028,
          -2.008129911047966,
          1.940990359664634
         ]
        },
        {
         "boxpoints": false,
         "line": {
          "width": 1.3
         },
         "marker": {
          "color": "rgba(128, 0, 128, 1.0)"
         },
         "name": "D",
         "orientation": "v",
         "type": "box",
         "y": [
          -0.08512206312857473,
          1.486407132031537,
          0.1887236175934673,
          -0.6587370788072245,
          0.8021640273677891,
          0.5443892263293457,
          0.20834514920619607,
          -0.07206935499983638,
          -0.26818936472631943,
          0.14810415004951727,
          -0.558910061751106,
          -1.2361499328435568,
          -0.6171150192321198,
          -0.6312618538076438,
          -0.38342528640093754,
          -1.1290014540447832,
          0.23905590971250462,
          -1.2902692411105796,
          1.6632798496327437,
          -0.035330081775259224,
          0.10073442495879993,
          2.0346952555840487,
          -0.6195135593211537,
          1.4765246380232582,
          1.7228897117841506,
          1.5394984261152216,
          0.6476726909051266,
          -0.5015479486651164,
          0.8778301434127571,
          0.1653730231310223,
          0.8597597904792134,
          1.2557685621328203,
          -1.677002311724053,
          -0.27642368508153675,
          -0.3733767434475656,
          -1.0063910776785316,
          0.03496993723532587,
          0.981777137735842,
          -0.4273572629003103,
          0.6760994725892184,
          -0.6277173191994817,
          0.14374538023070144,
          1.1023037704136809,
          0.39365451494717063,
          -0.13524838032017725,
          0.4652095890846506,
          0.10193721841647994,
          0.6314232804944321,
          -0.021969475349004307,
          2.6869789741262293,
          0.7763693310873739,
          1.8959559797534367,
          0.5808260466765565,
          -0.20287578750962781,
          1.6669053047351992,
          1.569415295256676,
          0.6469816481578303,
          0.9091471095088757,
          -0.42699564666425743,
          -1.6585842658061019,
          1.005712753595606,
          1.2298763821171592,
          -0.05502666707050185,
          -0.03903247214908511,
          -1.0556162689302442,
          -0.5463356036243555,
          -1.6557532965774253,
          -0.29611176119413807,
          0.47500785671078954,
          -0.4116662152492864,
          0.6800303562998444,
          1.4451912367366986,
          -1.2242056864119761,
          1.2079089216920498,
          -0.9627138431084818,
          -0.7173767763805619,
          -0.4552075860149596,
          -0.006063658365125847,
          1.6702570707356326,
          -0.1985989829236588,
          0.06420722035318865,
          -0.3979436277761738,
          -0.2517310168970227,
          2.8531515695969056,
          0.699188101188425,
          -0.08285848283918196,
          1.2288750254001923,
          -1.084786027751436,
          -0.27032731793271364,
          0.6757470731006939,
          -1.8120325092008889,
          -1.019320251168823,
          -0.31185859127294063,
          -1.4994503096134124,
          0.3907580059865929,
          1.0616677694035255,
          -1.7278263238982272,
          1.6384475295921113,
          -0.5737770052559245,
          0.7716445727847083
         ]
        }
       ],
       "layout": {
        "legend": {
         "bgcolor": "#F5F6F9",
         "font": {
          "color": "#4D5663"
         }
        },
        "paper_bgcolor": "#F5F6F9",
        "plot_bgcolor": "#F5F6F9",
        "template": {
         "data": {
          "bar": [
           {
            "error_x": {
             "color": "#2a3f5f"
            },
            "error_y": {
             "color": "#2a3f5f"
            },
            "marker": {
             "line": {
              "color": "#E5ECF6",
              "width": 0.5
             },
             "pattern": {
              "fillmode": "overlay",
              "size": 10,
              "solidity": 0.2
             }
            },
            "type": "bar"
           }
          ],
          "barpolar": [
           {
            "marker": {
             "line": {
              "color": "#E5ECF6",
              "width": 0.5
             },
             "pattern": {
              "fillmode": "overlay",
              "size": 10,
              "solidity": 0.2
             }
            },
            "type": "barpolar"
           }
          ],
          "carpet": [
           {
            "aaxis": {
             "endlinecolor": "#2a3f5f",
             "gridcolor": "white",
             "linecolor": "white",
             "minorgridcolor": "white",
             "startlinecolor": "#2a3f5f"
            },
            "baxis": {
             "endlinecolor": "#2a3f5f",
             "gridcolor": "white",
             "linecolor": "white",
             "minorgridcolor": "white",
             "startlinecolor": "#2a3f5f"
            },
            "type": "carpet"
           }
          ],
          "choropleth": [
           {
            "colorbar": {
             "outlinewidth": 0,
             "ticks": ""
            },
            "type": "choropleth"
           }
          ],
          "contour": [
           {
            "colorbar": {
             "outlinewidth": 0,
             "ticks": ""
            },
            "colorscale": [
             [
              0,
              "#0d0887"
             ],
             [
              0.1111111111111111,
              "#46039f"
             ],
             [
              0.2222222222222222,
              "#7201a8"
             ],
             [
              0.3333333333333333,
              "#9c179e"
             ],
             [
              0.4444444444444444,
              "#bd3786"
             ],
             [
              0.5555555555555556,
              "#d8576b"
             ],
             [
              0.6666666666666666,
              "#ed7953"
             ],
             [
              0.7777777777777778,
              "#fb9f3a"
             ],
             [
              0.8888888888888888,
              "#fdca26"
             ],
             [
              1,
              "#f0f921"
             ]
            ],
            "type": "contour"
           }
          ],
          "contourcarpet": [
           {
            "colorbar": {
             "outlinewidth": 0,
             "ticks": ""
            },
            "type": "contourcarpet"
           }
          ],
          "heatmap": [
           {
            "colorbar": {
             "outlinewidth": 0,
             "ticks": ""
            },
            "colorscale": [
             [
              0,
              "#0d0887"
             ],
             [
              0.1111111111111111,
              "#46039f"
             ],
             [
              0.2222222222222222,
              "#7201a8"
             ],
             [
              0.3333333333333333,
              "#9c179e"
             ],
             [
              0.4444444444444444,
              "#bd3786"
             ],
             [
              0.5555555555555556,
              "#d8576b"
             ],
             [
              0.6666666666666666,
              "#ed7953"
             ],
             [
              0.7777777777777778,
              "#fb9f3a"
             ],
             [
              0.8888888888888888,
              "#fdca26"
             ],
             [
              1,
              "#f0f921"
             ]
            ],
            "type": "heatmap"
           }
          ],
          "heatmapgl": [
           {
            "colorbar": {
             "outlinewidth": 0,
             "ticks": ""
            },
            "colorscale": [
             [
              0,
              "#0d0887"
             ],
             [
              0.1111111111111111,
              "#46039f"
             ],
             [
              0.2222222222222222,
              "#7201a8"
             ],
             [
              0.3333333333333333,
              "#9c179e"
             ],
             [
              0.4444444444444444,
              "#bd3786"
             ],
             [
              0.5555555555555556,
              "#d8576b"
             ],
             [
              0.6666666666666666,
              "#ed7953"
             ],
             [
              0.7777777777777778,
              "#fb9f3a"
             ],
             [
              0.8888888888888888,
              "#fdca26"
             ],
             [
              1,
              "#f0f921"
             ]
            ],
            "type": "heatmapgl"
           }
          ],
          "histogram": [
           {
            "marker": {
             "pattern": {
              "fillmode": "overlay",
              "size": 10,
              "solidity": 0.2
             }
            },
            "type": "histogram"
           }
          ],
          "histogram2d": [
           {
            "colorbar": {
             "outlinewidth": 0,
             "ticks": ""
            },
            "colorscale": [
             [
              0,
              "#0d0887"
             ],
             [
              0.1111111111111111,
              "#46039f"
             ],
             [
              0.2222222222222222,
              "#7201a8"
             ],
             [
              0.3333333333333333,
              "#9c179e"
             ],
             [
              0.4444444444444444,
              "#bd3786"
             ],
             [
              0.5555555555555556,
              "#d8576b"
             ],
             [
              0.6666666666666666,
              "#ed7953"
             ],
             [
              0.7777777777777778,
              "#fb9f3a"
             ],
             [
              0.8888888888888888,
              "#fdca26"
             ],
             [
              1,
              "#f0f921"
             ]
            ],
            "type": "histogram2d"
           }
          ],
          "histogram2dcontour": [
           {
            "colorbar": {
             "outlinewidth": 0,
             "ticks": ""
            },
            "colorscale": [
             [
              0,
              "#0d0887"
             ],
             [
              0.1111111111111111,
              "#46039f"
             ],
             [
              0.2222222222222222,
              "#7201a8"
             ],
             [
              0.3333333333333333,
              "#9c179e"
             ],
             [
              0.4444444444444444,
              "#bd3786"
             ],
             [
              0.5555555555555556,
              "#d8576b"
             ],
             [
              0.6666666666666666,
              "#ed7953"
             ],
             [
              0.7777777777777778,
              "#fb9f3a"
             ],
             [
              0.8888888888888888,
              "#fdca26"
             ],
             [
              1,
              "#f0f921"
             ]
            ],
            "type": "histogram2dcontour"
           }
          ],
          "mesh3d": [
           {
            "colorbar": {
             "outlinewidth": 0,
             "ticks": ""
            },
            "type": "mesh3d"
           }
          ],
          "parcoords": [
           {
            "line": {
             "colorbar": {
              "outlinewidth": 0,
              "ticks": ""
             }
            },
            "type": "parcoords"
           }
          ],
          "pie": [
           {
            "automargin": true,
            "type": "pie"
           }
          ],
          "scatter": [
           {
            "fillpattern": {
             "fillmode": "overlay",
             "size": 10,
             "solidity": 0.2
            },
            "type": "scatter"
           }
          ],
          "scatter3d": [
           {
            "line": {
             "colorbar": {
              "outlinewidth": 0,
              "ticks": ""
             }
            },
            "marker": {
             "colorbar": {
              "outlinewidth": 0,
              "ticks": ""
             }
            },
            "type": "scatter3d"
           }
          ],
          "scattercarpet": [
           {
            "marker": {
             "colorbar": {
              "outlinewidth": 0,
              "ticks": ""
             }
            },
            "type": "scattercarpet"
           }
          ],
          "scattergeo": [
           {
            "marker": {
             "colorbar": {
              "outlinewidth": 0,
              "ticks": ""
             }
            },
            "type": "scattergeo"
           }
          ],
          "scattergl": [
           {
            "marker": {
             "colorbar": {
              "outlinewidth": 0,
              "ticks": ""
             }
            },
            "type": "scattergl"
           }
          ],
          "scattermapbox": [
           {
            "marker": {
             "colorbar": {
              "outlinewidth": 0,
              "ticks": ""
             }
            },
            "type": "scattermapbox"
           }
          ],
          "scatterpolar": [
           {
            "marker": {
             "colorbar": {
              "outlinewidth": 0,
              "ticks": ""
             }
            },
            "type": "scatterpolar"
           }
          ],
          "scatterpolargl": [
           {
            "marker": {
             "colorbar": {
              "outlinewidth": 0,
              "ticks": ""
             }
            },
            "type": "scatterpolargl"
           }
          ],
          "scatterternary": [
           {
            "marker": {
             "colorbar": {
              "outlinewidth": 0,
              "ticks": ""
             }
            },
            "type": "scatterternary"
           }
          ],
          "surface": [
           {
            "colorbar": {
             "outlinewidth": 0,
             "ticks": ""
            },
            "colorscale": [
             [
              0,
              "#0d0887"
             ],
             [
              0.1111111111111111,
              "#46039f"
             ],
             [
              0.2222222222222222,
              "#7201a8"
             ],
             [
              0.3333333333333333,
              "#9c179e"
             ],
             [
              0.4444444444444444,
              "#bd3786"
             ],
             [
              0.5555555555555556,
              "#d8576b"
             ],
             [
              0.6666666666666666,
              "#ed7953"
             ],
             [
              0.7777777777777778,
              "#fb9f3a"
             ],
             [
              0.8888888888888888,
              "#fdca26"
             ],
             [
              1,
              "#f0f921"
             ]
            ],
            "type": "surface"
           }
          ],
          "table": [
           {
            "cells": {
             "fill": {
              "color": "#EBF0F8"
             },
             "line": {
              "color": "white"
             }
            },
            "header": {
             "fill": {
              "color": "#C8D4E3"
             },
             "line": {
              "color": "white"
             }
            },
            "type": "table"
           }
          ]
         },
         "layout": {
          "annotationdefaults": {
           "arrowcolor": "#2a3f5f",
           "arrowhead": 0,
           "arrowwidth": 1
          },
          "autotypenumbers": "strict",
          "coloraxis": {
           "colorbar": {
            "outlinewidth": 0,
            "ticks": ""
           }
          },
          "colorscale": {
           "diverging": [
            [
             0,
             "#8e0152"
            ],
            [
             0.1,
             "#c51b7d"
            ],
            [
             0.2,
             "#de77ae"
            ],
            [
             0.3,
             "#f1b6da"
            ],
            [
             0.4,
             "#fde0ef"
            ],
            [
             0.5,
             "#f7f7f7"
            ],
            [
             0.6,
             "#e6f5d0"
            ],
            [
             0.7,
             "#b8e186"
            ],
            [
             0.8,
             "#7fbc41"
            ],
            [
             0.9,
             "#4d9221"
            ],
            [
             1,
             "#276419"
            ]
           ],
           "sequential": [
            [
             0,
             "#0d0887"
            ],
            [
             0.1111111111111111,
             "#46039f"
            ],
            [
             0.2222222222222222,
             "#7201a8"
            ],
            [
             0.3333333333333333,
             "#9c179e"
            ],
            [
             0.4444444444444444,
             "#bd3786"
            ],
            [
             0.5555555555555556,
             "#d8576b"
            ],
            [
             0.6666666666666666,
             "#ed7953"
            ],
            [
             0.7777777777777778,
             "#fb9f3a"
            ],
            [
             0.8888888888888888,
             "#fdca26"
            ],
            [
             1,
             "#f0f921"
            ]
           ],
           "sequentialminus": [
            [
             0,
             "#0d0887"
            ],
            [
             0.1111111111111111,
             "#46039f"
            ],
            [
             0.2222222222222222,
             "#7201a8"
            ],
            [
             0.3333333333333333,
             "#9c179e"
            ],
            [
             0.4444444444444444,
             "#bd3786"
            ],
            [
             0.5555555555555556,
             "#d8576b"
            ],
            [
             0.6666666666666666,
             "#ed7953"
            ],
            [
             0.7777777777777778,
             "#fb9f3a"
            ],
            [
             0.8888888888888888,
             "#fdca26"
            ],
            [
             1,
             "#f0f921"
            ]
           ]
          },
          "colorway": [
           "#636efa",
           "#EF553B",
           "#00cc96",
           "#ab63fa",
           "#FFA15A",
           "#19d3f3",
           "#FF6692",
           "#B6E880",
           "#FF97FF",
           "#FECB52"
          ],
          "font": {
           "color": "#2a3f5f"
          },
          "geo": {
           "bgcolor": "white",
           "lakecolor": "white",
           "landcolor": "#E5ECF6",
           "showlakes": true,
           "showland": true,
           "subunitcolor": "white"
          },
          "hoverlabel": {
           "align": "left"
          },
          "hovermode": "closest",
          "mapbox": {
           "style": "light"
          },
          "paper_bgcolor": "white",
          "plot_bgcolor": "#E5ECF6",
          "polar": {
           "angularaxis": {
            "gridcolor": "white",
            "linecolor": "white",
            "ticks": ""
           },
           "bgcolor": "#E5ECF6",
           "radialaxis": {
            "gridcolor": "white",
            "linecolor": "white",
            "ticks": ""
           }
          },
          "scene": {
           "xaxis": {
            "backgroundcolor": "#E5ECF6",
            "gridcolor": "white",
            "gridwidth": 2,
            "linecolor": "white",
            "showbackground": true,
            "ticks": "",
            "zerolinecolor": "white"
           },
           "yaxis": {
            "backgroundcolor": "#E5ECF6",
            "gridcolor": "white",
            "gridwidth": 2,
            "linecolor": "white",
            "showbackground": true,
            "ticks": "",
            "zerolinecolor": "white"
           },
           "zaxis": {
            "backgroundcolor": "#E5ECF6",
            "gridcolor": "white",
            "gridwidth": 2,
            "linecolor": "white",
            "showbackground": true,
            "ticks": "",
            "zerolinecolor": "white"
           }
          },
          "shapedefaults": {
           "line": {
            "color": "#2a3f5f"
           }
          },
          "ternary": {
           "aaxis": {
            "gridcolor": "white",
            "linecolor": "white",
            "ticks": ""
           },
           "baxis": {
            "gridcolor": "white",
            "linecolor": "white",
            "ticks": ""
           },
           "bgcolor": "#E5ECF6",
           "caxis": {
            "gridcolor": "white",
            "linecolor": "white",
            "ticks": ""
           }
          },
          "title": {
           "x": 0.05
          },
          "xaxis": {
           "automargin": true,
           "gridcolor": "white",
           "linecolor": "white",
           "ticks": "",
           "title": {
            "standoff": 15
           },
           "zerolinecolor": "white",
           "zerolinewidth": 2
          },
          "yaxis": {
           "automargin": true,
           "gridcolor": "white",
           "linecolor": "white",
           "ticks": "",
           "title": {
            "standoff": 15
           },
           "zerolinecolor": "white",
           "zerolinewidth": 2
          }
         }
        },
        "title": {
         "font": {
          "color": "#4D5663"
         }
        },
        "xaxis": {
         "gridcolor": "#E1E5ED",
         "showgrid": true,
         "tickfont": {
          "color": "#4D5663"
         },
         "title": {
          "font": {
           "color": "#4D5663"
          },
          "text": ""
         },
         "zerolinecolor": "#E1E5ED"
        },
        "yaxis": {
         "gridcolor": "#E1E5ED",
         "showgrid": true,
         "tickfont": {
          "color": "#4D5663"
         },
         "title": {
          "font": {
           "color": "#4D5663"
          },
          "text": ""
         },
         "zerolinecolor": "#E1E5ED"
        }
       }
      },
      "text/html": [
       "<div>                            <div id=\"b0c6bb09-3c1d-4169-bfce-f7651375c142\" class=\"plotly-graph-div\" style=\"height:525px; width:100%;\"></div>            <script type=\"text/javascript\">                require([\"plotly\"], function(Plotly) {                    window.PLOTLYENV=window.PLOTLYENV || {};\n",
       "                    window.PLOTLYENV.BASE_URL='https://plot.ly';                                    if (document.getElementById(\"b0c6bb09-3c1d-4169-bfce-f7651375c142\")) {                    Plotly.newPlot(                        \"b0c6bb09-3c1d-4169-bfce-f7651375c142\",                        [{\"boxpoints\":false,\"line\":{\"width\":1.3},\"marker\":{\"color\":\"rgba(255, 153, 51, 1.0)\"},\"name\":\"A\",\"orientation\":\"v\",\"y\":[0.9634623893766167,-0.12055224845819004,0.25008154086228296,-0.5013143806434255,0.1292844937472286,0.4044071864470786,-2.0771930414556183,-0.020426006358398602,0.3849191710124318,0.879707817390476,-0.9431858876910261,-0.7490253238236118,0.5924697035901231,-1.3940933638268622,-0.5719377462453421,0.0075937045045873,-1.4481325040064896,0.21700524462166149,-0.1395825213548501,-0.24991568489512242,0.29452568252983163,-0.7905644371689067,-0.2997690889834603,0.21384176348726486,0.08658516570981084,0.7454032185178966,-0.6281603258099894,0.46180435642701845,-0.4178004985683218,-0.35630133871786407,-1.2112066150479495,-0.9726056889327593,-0.1005023860363253,1.0040648633325953,-1.0629923769941325,2.47531773691314,-0.04824382074826237,1.7025776795476604,-1.236548662174602,0.39866376082116467,1.333415614245502,0.0766655986802566,-0.33317061992034,-0.07328513704307903,0.37972060484157116,0.6522436929759483,0.8908762959506643,-0.41150485447839996,-0.3911042477094948,-1.7445372379275699,0.023978803372944477,-0.17442305395410349,0.25819460285665935,0.4944620618569529,-0.5834284135317452,-0.3240544301618898,-1.5444815784266575,-0.4776289313257464,0.06945397679857637,-0.4278386106429362,1.2522658559296482,-0.8812452740221121,-0.8221355096056416,-0.18782134308689513,1.8206332470536457,-0.6879560063978835,1.241741050078539,-2.7408858865027486,-0.4980842707106779,-0.9645117851028521,-0.12349607696101607,0.14719778655961077,-0.3022218597739041,0.6471150042134444,0.4721020856800413,-1.0353926818229156,1.3229382115515267,-1.2156788535049665,0.7614711874891931,-0.9013858317983743,-1.003047554190563,1.1696861418828624,0.0390968088724639,-0.4260054156967536,1.091606297176759,1.2036536169313206,-0.4427686249514626,1.4585873222111359,-0.270091310882172,0.17838137496146925,1.1533524775428632,0.5561949849702105,0.18208084487524875,0.26219091894703034,0.7582266638205611,0.3703636490699679,-0.5948913443755864,0.34613627097324257,0.07431556715271147,-1.2472512715902513],\"type\":\"box\"},{\"boxpoints\":false,\"line\":{\"width\":1.3},\"marker\":{\"color\":\"rgba(55, 128, 191, 1.0)\"},\"name\":\"B\",\"orientation\":\"v\",\"y\":[-0.09147954299523928,-1.7385508624690544,0.9221586878268342,-1.0931631569009221,0.3314050081963957,-1.6860350043840182,0.12957115351750878,0.5282594700664602,-1.724213141676408,-0.5551485134413877,0.01099836125675915,-1.8479965901671493,1.3048716149407638,-0.47126362237465713,0.30461274408286604,-0.3624930124832195,-0.12427109577985897,1.0458392895428787,-1.0772505081410064,0.956187500896724,-0.5134093195098551,1.003191182736705,1.0054421492812542,0.7444342301762672,0.9717048416109594,-0.5862903672126797,1.1402320163276554,-0.07586206865034092,-1.3020079599314847,-1.5532090620038983,0.8063276508119176,-1.190267123383816,-0.45573398022926986,0.2492173650282826,0.042545897664883724,-0.5394012540380726,-0.8710337885007717,0.27070058032527144,1.502715551599413,-0.6133569085524814,0.7716091967711711,-0.844375266511973,1.014272863942356,1.283227843583457,0.5405202955362597,0.26670175488612397,0.7101520294582939,2.07484318757425,0.6160923809193212,-0.7621923610184558,-0.7409270577875984,-0.8944055555394634,-0.8504280755637271,-1.0335914311595302,2.1436511287416486,0.2941595400966851,-1.2670997292914403,1.6747192059627178,-0.4549685653946752,-1.4261740159930605,0.2860098578963224,-0.6896865460661573,0.058011235562708846,-1.408955244083918,-0.20902752485155054,-0.30808010437819333,-0.22554007253720418,-0.012289759543897499,1.1978357038826355,0.8808992432676263,-0.1577267481768039,-0.7663712262064384,-1.47674134732821,0.48303599341467285,0.7484100962354236,0.6199214404930379,-0.09192405598441374,0.5300093476958286,1.2785791208003725,0.9358425653510516,-0.5925670749165277,-0.20166372582262201,-1.096850817122355,-1.0932450615263414,0.424315413305436,-0.0926162788765071,-0.20069809653638093,0.9772930851080682,0.26386815140631265,1.3874266245301734,-0.9248958944644438,0.17201496834833183,-0.9048757219799238,0.4288879111931887,-0.36738707307769375,0.7472144095556358,2.272295759735388,0.877225373172687,-0.4378174124395575,-1.1585312621617012],\"type\":\"box\"},{\"boxpoints\":false,\"line\":{\"width\":1.3},\"marker\":{\"color\":\"rgba(50, 171, 96, 1.0)\"},\"name\":\"C\",\"orientation\":\"v\",\"y\":[-0.18464066753779282,-1.837509230436605,-1.428226235955854,-0.19269172454292138,-0.09861805876725806,-0.6270474301800498,-0.07744172305750369,-1.3171709649992867,0.3896777388807655,-0.43291268819866346,-1.4752633555225647,0.6205395497448952,0.26174678012019625,0.01079237860016229,-0.2932546818019788,-0.48818618846841627,0.5617576021169364,-0.10709881717918422,1.1519827392437467,0.9003224007732287,-1.5676773430795874,0.6894923534228223,1.4037403210797081,-1.51277369058372,-0.1508289354292569,-1.4432952379527717,0.5570755511116148,0.14900020795773572,-1.0001189121750071,-1.3044512140273399,0.3862759814637888,-0.4188065597005142,0.6122983282252088,-0.45022406204096216,0.9024150719815782,0.32213695888356175,-0.15675623893701282,0.8809068586130961,1.053099326359383,-0.318492866646178,-0.0076614351279544884,0.7126223385047062,-0.014602804125976686,-1.1595424459621422,0.8417691791674425,-0.19056738474754467,2.0412416781683436,1.0076319937541325,0.7837616214918188,0.18988887593466647,-0.8149264277747987,0.03359639349157924,0.44510793187142755,0.8045401623710499,1.3954190768525638,-0.29477428779041814,-1.780670974511907,0.8199538360869015,0.1501494594895702,-1.2428346796666963,-0.9933306702583978,-0.22839952302186403,-0.18970102502483172,0.48491976220493826,0.9357894463118495,-1.0560773276372402,0.6605859438226847,0.8164952220723438,0.24509061408222765,-0.047949085699612044,-0.4730271905747123,1.0818437167773567,0.18090244215906,0.5167874447229025,-0.7461192427167384,1.104831725043291,2.6374468148273453,-0.6262404970069213,-0.3409569593914698,0.2967846166705076,0.6172402964404274,1.051005691693931,1.2841478727772049,1.2101133641665631,-0.6929839670049587,1.328023523948433,-0.08738999598215914,-1.2842310481852168,-0.277226890455086,-2.021620617412835,0.36565077821684056,-0.9215339827069383,3.2246408543883303,0.9952976646593267,0.011044725316802291,1.5643094453430852,-1.1147105963937614,0.6144647744747028,-2.008129911047966,1.940990359664634],\"type\":\"box\"},{\"boxpoints\":false,\"line\":{\"width\":1.3},\"marker\":{\"color\":\"rgba(128, 0, 128, 1.0)\"},\"name\":\"D\",\"orientation\":\"v\",\"y\":[-0.08512206312857473,1.486407132031537,0.1887236175934673,-0.6587370788072245,0.8021640273677891,0.5443892263293457,0.20834514920619607,-0.07206935499983638,-0.26818936472631943,0.14810415004951727,-0.558910061751106,-1.2361499328435568,-0.6171150192321198,-0.6312618538076438,-0.38342528640093754,-1.1290014540447832,0.23905590971250462,-1.2902692411105796,1.6632798496327437,-0.035330081775259224,0.10073442495879993,2.0346952555840487,-0.6195135593211537,1.4765246380232582,1.7228897117841506,1.5394984261152216,0.6476726909051266,-0.5015479486651164,0.8778301434127571,0.1653730231310223,0.8597597904792134,1.2557685621328203,-1.677002311724053,-0.27642368508153675,-0.3733767434475656,-1.0063910776785316,0.03496993723532587,0.981777137735842,-0.4273572629003103,0.6760994725892184,-0.6277173191994817,0.14374538023070144,1.1023037704136809,0.39365451494717063,-0.13524838032017725,0.4652095890846506,0.10193721841647994,0.6314232804944321,-0.021969475349004307,2.6869789741262293,0.7763693310873739,1.8959559797534367,0.5808260466765565,-0.20287578750962781,1.6669053047351992,1.569415295256676,0.6469816481578303,0.9091471095088757,-0.42699564666425743,-1.6585842658061019,1.005712753595606,1.2298763821171592,-0.05502666707050185,-0.03903247214908511,-1.0556162689302442,-0.5463356036243555,-1.6557532965774253,-0.29611176119413807,0.47500785671078954,-0.4116662152492864,0.6800303562998444,1.4451912367366986,-1.2242056864119761,1.2079089216920498,-0.9627138431084818,-0.7173767763805619,-0.4552075860149596,-0.006063658365125847,1.6702570707356326,-0.1985989829236588,0.06420722035318865,-0.3979436277761738,-0.2517310168970227,2.8531515695969056,0.699188101188425,-0.08285848283918196,1.2288750254001923,-1.084786027751436,-0.27032731793271364,0.6757470731006939,-1.8120325092008889,-1.019320251168823,-0.31185859127294063,-1.4994503096134124,0.3907580059865929,1.0616677694035255,-1.7278263238982272,1.6384475295921113,-0.5737770052559245,0.7716445727847083],\"type\":\"box\"}],                        {\"legend\":{\"bgcolor\":\"#F5F6F9\",\"font\":{\"color\":\"#4D5663\"}},\"paper_bgcolor\":\"#F5F6F9\",\"plot_bgcolor\":\"#F5F6F9\",\"template\":{\"data\":{\"barpolar\":[{\"marker\":{\"line\":{\"color\":\"#E5ECF6\",\"width\":0.5},\"pattern\":{\"fillmode\":\"overlay\",\"size\":10,\"solidity\":0.2}},\"type\":\"barpolar\"}],\"bar\":[{\"error_x\":{\"color\":\"#2a3f5f\"},\"error_y\":{\"color\":\"#2a3f5f\"},\"marker\":{\"line\":{\"color\":\"#E5ECF6\",\"width\":0.5},\"pattern\":{\"fillmode\":\"overlay\",\"size\":10,\"solidity\":0.2}},\"type\":\"bar\"}],\"carpet\":[{\"aaxis\":{\"endlinecolor\":\"#2a3f5f\",\"gridcolor\":\"white\",\"linecolor\":\"white\",\"minorgridcolor\":\"white\",\"startlinecolor\":\"#2a3f5f\"},\"baxis\":{\"endlinecolor\":\"#2a3f5f\",\"gridcolor\":\"white\",\"linecolor\":\"white\",\"minorgridcolor\":\"white\",\"startlinecolor\":\"#2a3f5f\"},\"type\":\"carpet\"}],\"choropleth\":[{\"colorbar\":{\"outlinewidth\":0,\"ticks\":\"\"},\"type\":\"choropleth\"}],\"contourcarpet\":[{\"colorbar\":{\"outlinewidth\":0,\"ticks\":\"\"},\"type\":\"contourcarpet\"}],\"contour\":[{\"colorbar\":{\"outlinewidth\":0,\"ticks\":\"\"},\"colorscale\":[[0.0,\"#0d0887\"],[0.1111111111111111,\"#46039f\"],[0.2222222222222222,\"#7201a8\"],[0.3333333333333333,\"#9c179e\"],[0.4444444444444444,\"#bd3786\"],[0.5555555555555556,\"#d8576b\"],[0.6666666666666666,\"#ed7953\"],[0.7777777777777778,\"#fb9f3a\"],[0.8888888888888888,\"#fdca26\"],[1.0,\"#f0f921\"]],\"type\":\"contour\"}],\"heatmapgl\":[{\"colorbar\":{\"outlinewidth\":0,\"ticks\":\"\"},\"colorscale\":[[0.0,\"#0d0887\"],[0.1111111111111111,\"#46039f\"],[0.2222222222222222,\"#7201a8\"],[0.3333333333333333,\"#9c179e\"],[0.4444444444444444,\"#bd3786\"],[0.5555555555555556,\"#d8576b\"],[0.6666666666666666,\"#ed7953\"],[0.7777777777777778,\"#fb9f3a\"],[0.8888888888888888,\"#fdca26\"],[1.0,\"#f0f921\"]],\"type\":\"heatmapgl\"}],\"heatmap\":[{\"colorbar\":{\"outlinewidth\":0,\"ticks\":\"\"},\"colorscale\":[[0.0,\"#0d0887\"],[0.1111111111111111,\"#46039f\"],[0.2222222222222222,\"#7201a8\"],[0.3333333333333333,\"#9c179e\"],[0.4444444444444444,\"#bd3786\"],[0.5555555555555556,\"#d8576b\"],[0.6666666666666666,\"#ed7953\"],[0.7777777777777778,\"#fb9f3a\"],[0.8888888888888888,\"#fdca26\"],[1.0,\"#f0f921\"]],\"type\":\"heatmap\"}],\"histogram2dcontour\":[{\"colorbar\":{\"outlinewidth\":0,\"ticks\":\"\"},\"colorscale\":[[0.0,\"#0d0887\"],[0.1111111111111111,\"#46039f\"],[0.2222222222222222,\"#7201a8\"],[0.3333333333333333,\"#9c179e\"],[0.4444444444444444,\"#bd3786\"],[0.5555555555555556,\"#d8576b\"],[0.6666666666666666,\"#ed7953\"],[0.7777777777777778,\"#fb9f3a\"],[0.8888888888888888,\"#fdca26\"],[1.0,\"#f0f921\"]],\"type\":\"histogram2dcontour\"}],\"histogram2d\":[{\"colorbar\":{\"outlinewidth\":0,\"ticks\":\"\"},\"colorscale\":[[0.0,\"#0d0887\"],[0.1111111111111111,\"#46039f\"],[0.2222222222222222,\"#7201a8\"],[0.3333333333333333,\"#9c179e\"],[0.4444444444444444,\"#bd3786\"],[0.5555555555555556,\"#d8576b\"],[0.6666666666666666,\"#ed7953\"],[0.7777777777777778,\"#fb9f3a\"],[0.8888888888888888,\"#fdca26\"],[1.0,\"#f0f921\"]],\"type\":\"histogram2d\"}],\"histogram\":[{\"marker\":{\"pattern\":{\"fillmode\":\"overlay\",\"size\":10,\"solidity\":0.2}},\"type\":\"histogram\"}],\"mesh3d\":[{\"colorbar\":{\"outlinewidth\":0,\"ticks\":\"\"},\"type\":\"mesh3d\"}],\"parcoords\":[{\"line\":{\"colorbar\":{\"outlinewidth\":0,\"ticks\":\"\"}},\"type\":\"parcoords\"}],\"pie\":[{\"automargin\":true,\"type\":\"pie\"}],\"scatter3d\":[{\"line\":{\"colorbar\":{\"outlinewidth\":0,\"ticks\":\"\"}},\"marker\":{\"colorbar\":{\"outlinewidth\":0,\"ticks\":\"\"}},\"type\":\"scatter3d\"}],\"scattercarpet\":[{\"marker\":{\"colorbar\":{\"outlinewidth\":0,\"ticks\":\"\"}},\"type\":\"scattercarpet\"}],\"scattergeo\":[{\"marker\":{\"colorbar\":{\"outlinewidth\":0,\"ticks\":\"\"}},\"type\":\"scattergeo\"}],\"scattergl\":[{\"marker\":{\"colorbar\":{\"outlinewidth\":0,\"ticks\":\"\"}},\"type\":\"scattergl\"}],\"scattermapbox\":[{\"marker\":{\"colorbar\":{\"outlinewidth\":0,\"ticks\":\"\"}},\"type\":\"scattermapbox\"}],\"scatterpolargl\":[{\"marker\":{\"colorbar\":{\"outlinewidth\":0,\"ticks\":\"\"}},\"type\":\"scatterpolargl\"}],\"scatterpolar\":[{\"marker\":{\"colorbar\":{\"outlinewidth\":0,\"ticks\":\"\"}},\"type\":\"scatterpolar\"}],\"scatter\":[{\"fillpattern\":{\"fillmode\":\"overlay\",\"size\":10,\"solidity\":0.2},\"type\":\"scatter\"}],\"scatterternary\":[{\"marker\":{\"colorbar\":{\"outlinewidth\":0,\"ticks\":\"\"}},\"type\":\"scatterternary\"}],\"surface\":[{\"colorbar\":{\"outlinewidth\":0,\"ticks\":\"\"},\"colorscale\":[[0.0,\"#0d0887\"],[0.1111111111111111,\"#46039f\"],[0.2222222222222222,\"#7201a8\"],[0.3333333333333333,\"#9c179e\"],[0.4444444444444444,\"#bd3786\"],[0.5555555555555556,\"#d8576b\"],[0.6666666666666666,\"#ed7953\"],[0.7777777777777778,\"#fb9f3a\"],[0.8888888888888888,\"#fdca26\"],[1.0,\"#f0f921\"]],\"type\":\"surface\"}],\"table\":[{\"cells\":{\"fill\":{\"color\":\"#EBF0F8\"},\"line\":{\"color\":\"white\"}},\"header\":{\"fill\":{\"color\":\"#C8D4E3\"},\"line\":{\"color\":\"white\"}},\"type\":\"table\"}]},\"layout\":{\"annotationdefaults\":{\"arrowcolor\":\"#2a3f5f\",\"arrowhead\":0,\"arrowwidth\":1},\"autotypenumbers\":\"strict\",\"coloraxis\":{\"colorbar\":{\"outlinewidth\":0,\"ticks\":\"\"}},\"colorscale\":{\"diverging\":[[0,\"#8e0152\"],[0.1,\"#c51b7d\"],[0.2,\"#de77ae\"],[0.3,\"#f1b6da\"],[0.4,\"#fde0ef\"],[0.5,\"#f7f7f7\"],[0.6,\"#e6f5d0\"],[0.7,\"#b8e186\"],[0.8,\"#7fbc41\"],[0.9,\"#4d9221\"],[1,\"#276419\"]],\"sequential\":[[0.0,\"#0d0887\"],[0.1111111111111111,\"#46039f\"],[0.2222222222222222,\"#7201a8\"],[0.3333333333333333,\"#9c179e\"],[0.4444444444444444,\"#bd3786\"],[0.5555555555555556,\"#d8576b\"],[0.6666666666666666,\"#ed7953\"],[0.7777777777777778,\"#fb9f3a\"],[0.8888888888888888,\"#fdca26\"],[1.0,\"#f0f921\"]],\"sequentialminus\":[[0.0,\"#0d0887\"],[0.1111111111111111,\"#46039f\"],[0.2222222222222222,\"#7201a8\"],[0.3333333333333333,\"#9c179e\"],[0.4444444444444444,\"#bd3786\"],[0.5555555555555556,\"#d8576b\"],[0.6666666666666666,\"#ed7953\"],[0.7777777777777778,\"#fb9f3a\"],[0.8888888888888888,\"#fdca26\"],[1.0,\"#f0f921\"]]},\"colorway\":[\"#636efa\",\"#EF553B\",\"#00cc96\",\"#ab63fa\",\"#FFA15A\",\"#19d3f3\",\"#FF6692\",\"#B6E880\",\"#FF97FF\",\"#FECB52\"],\"font\":{\"color\":\"#2a3f5f\"},\"geo\":{\"bgcolor\":\"white\",\"lakecolor\":\"white\",\"landcolor\":\"#E5ECF6\",\"showlakes\":true,\"showland\":true,\"subunitcolor\":\"white\"},\"hoverlabel\":{\"align\":\"left\"},\"hovermode\":\"closest\",\"mapbox\":{\"style\":\"light\"},\"paper_bgcolor\":\"white\",\"plot_bgcolor\":\"#E5ECF6\",\"polar\":{\"angularaxis\":{\"gridcolor\":\"white\",\"linecolor\":\"white\",\"ticks\":\"\"},\"bgcolor\":\"#E5ECF6\",\"radialaxis\":{\"gridcolor\":\"white\",\"linecolor\":\"white\",\"ticks\":\"\"}},\"scene\":{\"xaxis\":{\"backgroundcolor\":\"#E5ECF6\",\"gridcolor\":\"white\",\"gridwidth\":2,\"linecolor\":\"white\",\"showbackground\":true,\"ticks\":\"\",\"zerolinecolor\":\"white\"},\"yaxis\":{\"backgroundcolor\":\"#E5ECF6\",\"gridcolor\":\"white\",\"gridwidth\":2,\"linecolor\":\"white\",\"showbackground\":true,\"ticks\":\"\",\"zerolinecolor\":\"white\"},\"zaxis\":{\"backgroundcolor\":\"#E5ECF6\",\"gridcolor\":\"white\",\"gridwidth\":2,\"linecolor\":\"white\",\"showbackground\":true,\"ticks\":\"\",\"zerolinecolor\":\"white\"}},\"shapedefaults\":{\"line\":{\"color\":\"#2a3f5f\"}},\"ternary\":{\"aaxis\":{\"gridcolor\":\"white\",\"linecolor\":\"white\",\"ticks\":\"\"},\"baxis\":{\"gridcolor\":\"white\",\"linecolor\":\"white\",\"ticks\":\"\"},\"bgcolor\":\"#E5ECF6\",\"caxis\":{\"gridcolor\":\"white\",\"linecolor\":\"white\",\"ticks\":\"\"}},\"title\":{\"x\":0.05},\"xaxis\":{\"automargin\":true,\"gridcolor\":\"white\",\"linecolor\":\"white\",\"ticks\":\"\",\"title\":{\"standoff\":15},\"zerolinecolor\":\"white\",\"zerolinewidth\":2},\"yaxis\":{\"automargin\":true,\"gridcolor\":\"white\",\"linecolor\":\"white\",\"ticks\":\"\",\"title\":{\"standoff\":15},\"zerolinecolor\":\"white\",\"zerolinewidth\":2}}},\"title\":{\"font\":{\"color\":\"#4D5663\"}},\"xaxis\":{\"gridcolor\":\"#E1E5ED\",\"showgrid\":true,\"tickfont\":{\"color\":\"#4D5663\"},\"title\":{\"font\":{\"color\":\"#4D5663\"},\"text\":\"\"},\"zerolinecolor\":\"#E1E5ED\"},\"yaxis\":{\"gridcolor\":\"#E1E5ED\",\"showgrid\":true,\"tickfont\":{\"color\":\"#4D5663\"},\"title\":{\"font\":{\"color\":\"#4D5663\"},\"text\":\"\"},\"zerolinecolor\":\"#E1E5ED\"}},                        {\"showLink\": true, \"linkText\": \"Export to plot.ly\", \"plotlyServerURL\": \"https://plot.ly\", \"responsive\": true}                    ).then(function(){\n",
       "                            \n",
       "var gd = document.getElementById('b0c6bb09-3c1d-4169-bfce-f7651375c142');\n",
       "var x = new MutationObserver(function (mutations, observer) {{\n",
       "        var display = window.getComputedStyle(gd).display;\n",
       "        if (!display || display === 'none') {{\n",
       "            console.log([gd, 'removed!']);\n",
       "            Plotly.purge(gd);\n",
       "            observer.disconnect();\n",
       "        }}\n",
       "}});\n",
       "\n",
       "// Listen for the removal of the full notebook cells\n",
       "var notebookContainer = gd.closest('#notebook-container');\n",
       "if (notebookContainer) {{\n",
       "    x.observe(notebookContainer, {childList: true});\n",
       "}}\n",
       "\n",
       "// Listen for the clearing of the current output cell\n",
       "var outputEl = gd.closest('.output');\n",
       "if (outputEl) {{\n",
       "    x.observe(outputEl, {childList: true});\n",
       "}}\n",
       "\n",
       "                        })                };                });            </script>        </div>"
      ]
     },
     "metadata": {},
     "output_type": "display_data"
    }
   ],
   "source": [
    "df.iplot(kind='box')"
   ]
  },
  {
   "cell_type": "code",
   "execution_count": 32,
   "id": "1244f3ef",
   "metadata": {},
   "outputs": [
    {
     "data": {
      "text/html": [
       "<div>\n",
       "<style scoped>\n",
       "    .dataframe tbody tr th:only-of-type {\n",
       "        vertical-align: middle;\n",
       "    }\n",
       "\n",
       "    .dataframe tbody tr th {\n",
       "        vertical-align: top;\n",
       "    }\n",
       "\n",
       "    .dataframe thead th {\n",
       "        text-align: right;\n",
       "    }\n",
       "</style>\n",
       "<table border=\"1\" class=\"dataframe\">\n",
       "  <thead>\n",
       "    <tr style=\"text-align: right;\">\n",
       "      <th></th>\n",
       "      <th>x</th>\n",
       "      <th>y</th>\n",
       "      <th>z</th>\n",
       "    </tr>\n",
       "  </thead>\n",
       "  <tbody>\n",
       "    <tr>\n",
       "      <th>0</th>\n",
       "      <td>1</td>\n",
       "      <td>10</td>\n",
       "      <td>5</td>\n",
       "    </tr>\n",
       "    <tr>\n",
       "      <th>1</th>\n",
       "      <td>2</td>\n",
       "      <td>20</td>\n",
       "      <td>4</td>\n",
       "    </tr>\n",
       "    <tr>\n",
       "      <th>2</th>\n",
       "      <td>3</td>\n",
       "      <td>30</td>\n",
       "      <td>3</td>\n",
       "    </tr>\n",
       "    <tr>\n",
       "      <th>3</th>\n",
       "      <td>4</td>\n",
       "      <td>20</td>\n",
       "      <td>2</td>\n",
       "    </tr>\n",
       "    <tr>\n",
       "      <th>4</th>\n",
       "      <td>5</td>\n",
       "      <td>10</td>\n",
       "      <td>1</td>\n",
       "    </tr>\n",
       "  </tbody>\n",
       "</table>\n",
       "</div>"
      ],
      "text/plain": [
       "   x   y  z\n",
       "0  1  10  5\n",
       "1  2  20  4\n",
       "2  3  30  3\n",
       "3  4  20  2\n",
       "4  5  10  1"
      ]
     },
     "execution_count": 32,
     "metadata": {},
     "output_type": "execute_result"
    }
   ],
   "source": [
    "df3 = pd.DataFrame({'x':[1,2,3,4,5],'y':[10,20,30,20,10],'z':[5,4,3,2,1]})\n",
    "df3"
   ]
  },
  {
   "cell_type": "code",
   "execution_count": 33,
   "id": "1f12d74a",
   "metadata": {},
   "outputs": [
    {
     "data": {
      "application/vnd.plotly.v1+json": {
       "config": {
        "linkText": "Export to plot.ly",
        "plotlyServerURL": "https://plot.ly",
        "showLink": true
       },
       "data": [
        {
         "colorscale": [
          [
           0,
           "rgb(165,0,38)"
          ],
          [
           0.1,
           "rgb(215,48,39)"
          ],
          [
           0.2,
           "rgb(244,109,67)"
          ],
          [
           0.3,
           "rgb(253,174,97)"
          ],
          [
           0.4,
           "rgb(254,224,144)"
          ],
          [
           0.5,
           "rgb(255,255,191)"
          ],
          [
           0.6,
           "rgb(224,243,248)"
          ],
          [
           0.7,
           "rgb(171,217,233)"
          ],
          [
           0.8,
           "rgb(116,173,209)"
          ],
          [
           0.9,
           "rgb(69,117,180)"
          ],
          [
           1,
           "rgb(49,54,149)"
          ]
         ],
         "type": "surface",
         "x": [
          0,
          1,
          2,
          3,
          4
         ],
         "y": [
          "x",
          "y",
          "z"
         ],
         "z": [
          [
           1,
           2,
           3,
           4,
           5
          ],
          [
           10,
           20,
           30,
           20,
           10
          ],
          [
           5,
           4,
           3,
           2,
           1
          ]
         ]
        }
       ],
       "layout": {
        "legend": {
         "bgcolor": "#F5F6F9",
         "font": {
          "color": "#4D5663"
         }
        },
        "paper_bgcolor": "#F5F6F9",
        "plot_bgcolor": "#F5F6F9",
        "template": {
         "data": {
          "bar": [
           {
            "error_x": {
             "color": "#2a3f5f"
            },
            "error_y": {
             "color": "#2a3f5f"
            },
            "marker": {
             "line": {
              "color": "#E5ECF6",
              "width": 0.5
             },
             "pattern": {
              "fillmode": "overlay",
              "size": 10,
              "solidity": 0.2
             }
            },
            "type": "bar"
           }
          ],
          "barpolar": [
           {
            "marker": {
             "line": {
              "color": "#E5ECF6",
              "width": 0.5
             },
             "pattern": {
              "fillmode": "overlay",
              "size": 10,
              "solidity": 0.2
             }
            },
            "type": "barpolar"
           }
          ],
          "carpet": [
           {
            "aaxis": {
             "endlinecolor": "#2a3f5f",
             "gridcolor": "white",
             "linecolor": "white",
             "minorgridcolor": "white",
             "startlinecolor": "#2a3f5f"
            },
            "baxis": {
             "endlinecolor": "#2a3f5f",
             "gridcolor": "white",
             "linecolor": "white",
             "minorgridcolor": "white",
             "startlinecolor": "#2a3f5f"
            },
            "type": "carpet"
           }
          ],
          "choropleth": [
           {
            "colorbar": {
             "outlinewidth": 0,
             "ticks": ""
            },
            "type": "choropleth"
           }
          ],
          "contour": [
           {
            "colorbar": {
             "outlinewidth": 0,
             "ticks": ""
            },
            "colorscale": [
             [
              0,
              "#0d0887"
             ],
             [
              0.1111111111111111,
              "#46039f"
             ],
             [
              0.2222222222222222,
              "#7201a8"
             ],
             [
              0.3333333333333333,
              "#9c179e"
             ],
             [
              0.4444444444444444,
              "#bd3786"
             ],
             [
              0.5555555555555556,
              "#d8576b"
             ],
             [
              0.6666666666666666,
              "#ed7953"
             ],
             [
              0.7777777777777778,
              "#fb9f3a"
             ],
             [
              0.8888888888888888,
              "#fdca26"
             ],
             [
              1,
              "#f0f921"
             ]
            ],
            "type": "contour"
           }
          ],
          "contourcarpet": [
           {
            "colorbar": {
             "outlinewidth": 0,
             "ticks": ""
            },
            "type": "contourcarpet"
           }
          ],
          "heatmap": [
           {
            "colorbar": {
             "outlinewidth": 0,
             "ticks": ""
            },
            "colorscale": [
             [
              0,
              "#0d0887"
             ],
             [
              0.1111111111111111,
              "#46039f"
             ],
             [
              0.2222222222222222,
              "#7201a8"
             ],
             [
              0.3333333333333333,
              "#9c179e"
             ],
             [
              0.4444444444444444,
              "#bd3786"
             ],
             [
              0.5555555555555556,
              "#d8576b"
             ],
             [
              0.6666666666666666,
              "#ed7953"
             ],
             [
              0.7777777777777778,
              "#fb9f3a"
             ],
             [
              0.8888888888888888,
              "#fdca26"
             ],
             [
              1,
              "#f0f921"
             ]
            ],
            "type": "heatmap"
           }
          ],
          "heatmapgl": [
           {
            "colorbar": {
             "outlinewidth": 0,
             "ticks": ""
            },
            "colorscale": [
             [
              0,
              "#0d0887"
             ],
             [
              0.1111111111111111,
              "#46039f"
             ],
             [
              0.2222222222222222,
              "#7201a8"
             ],
             [
              0.3333333333333333,
              "#9c179e"
             ],
             [
              0.4444444444444444,
              "#bd3786"
             ],
             [
              0.5555555555555556,
              "#d8576b"
             ],
             [
              0.6666666666666666,
              "#ed7953"
             ],
             [
              0.7777777777777778,
              "#fb9f3a"
             ],
             [
              0.8888888888888888,
              "#fdca26"
             ],
             [
              1,
              "#f0f921"
             ]
            ],
            "type": "heatmapgl"
           }
          ],
          "histogram": [
           {
            "marker": {
             "pattern": {
              "fillmode": "overlay",
              "size": 10,
              "solidity": 0.2
             }
            },
            "type": "histogram"
           }
          ],
          "histogram2d": [
           {
            "colorbar": {
             "outlinewidth": 0,
             "ticks": ""
            },
            "colorscale": [
             [
              0,
              "#0d0887"
             ],
             [
              0.1111111111111111,
              "#46039f"
             ],
             [
              0.2222222222222222,
              "#7201a8"
             ],
             [
              0.3333333333333333,
              "#9c179e"
             ],
             [
              0.4444444444444444,
              "#bd3786"
             ],
             [
              0.5555555555555556,
              "#d8576b"
             ],
             [
              0.6666666666666666,
              "#ed7953"
             ],
             [
              0.7777777777777778,
              "#fb9f3a"
             ],
             [
              0.8888888888888888,
              "#fdca26"
             ],
             [
              1,
              "#f0f921"
             ]
            ],
            "type": "histogram2d"
           }
          ],
          "histogram2dcontour": [
           {
            "colorbar": {
             "outlinewidth": 0,
             "ticks": ""
            },
            "colorscale": [
             [
              0,
              "#0d0887"
             ],
             [
              0.1111111111111111,
              "#46039f"
             ],
             [
              0.2222222222222222,
              "#7201a8"
             ],
             [
              0.3333333333333333,
              "#9c179e"
             ],
             [
              0.4444444444444444,
              "#bd3786"
             ],
             [
              0.5555555555555556,
              "#d8576b"
             ],
             [
              0.6666666666666666,
              "#ed7953"
             ],
             [
              0.7777777777777778,
              "#fb9f3a"
             ],
             [
              0.8888888888888888,
              "#fdca26"
             ],
             [
              1,
              "#f0f921"
             ]
            ],
            "type": "histogram2dcontour"
           }
          ],
          "mesh3d": [
           {
            "colorbar": {
             "outlinewidth": 0,
             "ticks": ""
            },
            "type": "mesh3d"
           }
          ],
          "parcoords": [
           {
            "line": {
             "colorbar": {
              "outlinewidth": 0,
              "ticks": ""
             }
            },
            "type": "parcoords"
           }
          ],
          "pie": [
           {
            "automargin": true,
            "type": "pie"
           }
          ],
          "scatter": [
           {
            "fillpattern": {
             "fillmode": "overlay",
             "size": 10,
             "solidity": 0.2
            },
            "type": "scatter"
           }
          ],
          "scatter3d": [
           {
            "line": {
             "colorbar": {
              "outlinewidth": 0,
              "ticks": ""
             }
            },
            "marker": {
             "colorbar": {
              "outlinewidth": 0,
              "ticks": ""
             }
            },
            "type": "scatter3d"
           }
          ],
          "scattercarpet": [
           {
            "marker": {
             "colorbar": {
              "outlinewidth": 0,
              "ticks": ""
             }
            },
            "type": "scattercarpet"
           }
          ],
          "scattergeo": [
           {
            "marker": {
             "colorbar": {
              "outlinewidth": 0,
              "ticks": ""
             }
            },
            "type": "scattergeo"
           }
          ],
          "scattergl": [
           {
            "marker": {
             "colorbar": {
              "outlinewidth": 0,
              "ticks": ""
             }
            },
            "type": "scattergl"
           }
          ],
          "scattermapbox": [
           {
            "marker": {
             "colorbar": {
              "outlinewidth": 0,
              "ticks": ""
             }
            },
            "type": "scattermapbox"
           }
          ],
          "scatterpolar": [
           {
            "marker": {
             "colorbar": {
              "outlinewidth": 0,
              "ticks": ""
             }
            },
            "type": "scatterpolar"
           }
          ],
          "scatterpolargl": [
           {
            "marker": {
             "colorbar": {
              "outlinewidth": 0,
              "ticks": ""
             }
            },
            "type": "scatterpolargl"
           }
          ],
          "scatterternary": [
           {
            "marker": {
             "colorbar": {
              "outlinewidth": 0,
              "ticks": ""
             }
            },
            "type": "scatterternary"
           }
          ],
          "surface": [
           {
            "colorbar": {
             "outlinewidth": 0,
             "ticks": ""
            },
            "colorscale": [
             [
              0,
              "#0d0887"
             ],
             [
              0.1111111111111111,
              "#46039f"
             ],
             [
              0.2222222222222222,
              "#7201a8"
             ],
             [
              0.3333333333333333,
              "#9c179e"
             ],
             [
              0.4444444444444444,
              "#bd3786"
             ],
             [
              0.5555555555555556,
              "#d8576b"
             ],
             [
              0.6666666666666666,
              "#ed7953"
             ],
             [
              0.7777777777777778,
              "#fb9f3a"
             ],
             [
              0.8888888888888888,
              "#fdca26"
             ],
             [
              1,
              "#f0f921"
             ]
            ],
            "type": "surface"
           }
          ],
          "table": [
           {
            "cells": {
             "fill": {
              "color": "#EBF0F8"
             },
             "line": {
              "color": "white"
             }
            },
            "header": {
             "fill": {
              "color": "#C8D4E3"
             },
             "line": {
              "color": "white"
             }
            },
            "type": "table"
           }
          ]
         },
         "layout": {
          "annotationdefaults": {
           "arrowcolor": "#2a3f5f",
           "arrowhead": 0,
           "arrowwidth": 1
          },
          "autotypenumbers": "strict",
          "coloraxis": {
           "colorbar": {
            "outlinewidth": 0,
            "ticks": ""
           }
          },
          "colorscale": {
           "diverging": [
            [
             0,
             "#8e0152"
            ],
            [
             0.1,
             "#c51b7d"
            ],
            [
             0.2,
             "#de77ae"
            ],
            [
             0.3,
             "#f1b6da"
            ],
            [
             0.4,
             "#fde0ef"
            ],
            [
             0.5,
             "#f7f7f7"
            ],
            [
             0.6,
             "#e6f5d0"
            ],
            [
             0.7,
             "#b8e186"
            ],
            [
             0.8,
             "#7fbc41"
            ],
            [
             0.9,
             "#4d9221"
            ],
            [
             1,
             "#276419"
            ]
           ],
           "sequential": [
            [
             0,
             "#0d0887"
            ],
            [
             0.1111111111111111,
             "#46039f"
            ],
            [
             0.2222222222222222,
             "#7201a8"
            ],
            [
             0.3333333333333333,
             "#9c179e"
            ],
            [
             0.4444444444444444,
             "#bd3786"
            ],
            [
             0.5555555555555556,
             "#d8576b"
            ],
            [
             0.6666666666666666,
             "#ed7953"
            ],
            [
             0.7777777777777778,
             "#fb9f3a"
            ],
            [
             0.8888888888888888,
             "#fdca26"
            ],
            [
             1,
             "#f0f921"
            ]
           ],
           "sequentialminus": [
            [
             0,
             "#0d0887"
            ],
            [
             0.1111111111111111,
             "#46039f"
            ],
            [
             0.2222222222222222,
             "#7201a8"
            ],
            [
             0.3333333333333333,
             "#9c179e"
            ],
            [
             0.4444444444444444,
             "#bd3786"
            ],
            [
             0.5555555555555556,
             "#d8576b"
            ],
            [
             0.6666666666666666,
             "#ed7953"
            ],
            [
             0.7777777777777778,
             "#fb9f3a"
            ],
            [
             0.8888888888888888,
             "#fdca26"
            ],
            [
             1,
             "#f0f921"
            ]
           ]
          },
          "colorway": [
           "#636efa",
           "#EF553B",
           "#00cc96",
           "#ab63fa",
           "#FFA15A",
           "#19d3f3",
           "#FF6692",
           "#B6E880",
           "#FF97FF",
           "#FECB52"
          ],
          "font": {
           "color": "#2a3f5f"
          },
          "geo": {
           "bgcolor": "white",
           "lakecolor": "white",
           "landcolor": "#E5ECF6",
           "showlakes": true,
           "showland": true,
           "subunitcolor": "white"
          },
          "hoverlabel": {
           "align": "left"
          },
          "hovermode": "closest",
          "mapbox": {
           "style": "light"
          },
          "paper_bgcolor": "white",
          "plot_bgcolor": "#E5ECF6",
          "polar": {
           "angularaxis": {
            "gridcolor": "white",
            "linecolor": "white",
            "ticks": ""
           },
           "bgcolor": "#E5ECF6",
           "radialaxis": {
            "gridcolor": "white",
            "linecolor": "white",
            "ticks": ""
           }
          },
          "scene": {
           "xaxis": {
            "backgroundcolor": "#E5ECF6",
            "gridcolor": "white",
            "gridwidth": 2,
            "linecolor": "white",
            "showbackground": true,
            "ticks": "",
            "zerolinecolor": "white"
           },
           "yaxis": {
            "backgroundcolor": "#E5ECF6",
            "gridcolor": "white",
            "gridwidth": 2,
            "linecolor": "white",
            "showbackground": true,
            "ticks": "",
            "zerolinecolor": "white"
           },
           "zaxis": {
            "backgroundcolor": "#E5ECF6",
            "gridcolor": "white",
            "gridwidth": 2,
            "linecolor": "white",
            "showbackground": true,
            "ticks": "",
            "zerolinecolor": "white"
           }
          },
          "shapedefaults": {
           "line": {
            "color": "#2a3f5f"
           }
          },
          "ternary": {
           "aaxis": {
            "gridcolor": "white",
            "linecolor": "white",
            "ticks": ""
           },
           "baxis": {
            "gridcolor": "white",
            "linecolor": "white",
            "ticks": ""
           },
           "bgcolor": "#E5ECF6",
           "caxis": {
            "gridcolor": "white",
            "linecolor": "white",
            "ticks": ""
           }
          },
          "title": {
           "x": 0.05
          },
          "xaxis": {
           "automargin": true,
           "gridcolor": "white",
           "linecolor": "white",
           "ticks": "",
           "title": {
            "standoff": 15
           },
           "zerolinecolor": "white",
           "zerolinewidth": 2
          },
          "yaxis": {
           "automargin": true,
           "gridcolor": "white",
           "linecolor": "white",
           "ticks": "",
           "title": {
            "standoff": 15
           },
           "zerolinecolor": "white",
           "zerolinewidth": 2
          }
         }
        },
        "title": {
         "font": {
          "color": "#4D5663"
         }
        },
        "xaxis": {
         "gridcolor": "#E1E5ED",
         "showgrid": true,
         "tickfont": {
          "color": "#4D5663"
         },
         "title": {
          "font": {
           "color": "#4D5663"
          },
          "text": ""
         },
         "zerolinecolor": "#E1E5ED"
        },
        "yaxis": {
         "gridcolor": "#E1E5ED",
         "showgrid": true,
         "tickfont": {
          "color": "#4D5663"
         },
         "title": {
          "font": {
           "color": "#4D5663"
          },
          "text": ""
         },
         "zerolinecolor": "#E1E5ED"
        }
       }
      },
      "text/html": [
       "<div>                            <div id=\"ff765353-7103-43e0-beaa-03290179fff8\" class=\"plotly-graph-div\" style=\"height:525px; width:100%;\"></div>            <script type=\"text/javascript\">                require([\"plotly\"], function(Plotly) {                    window.PLOTLYENV=window.PLOTLYENV || {};\n",
       "                    window.PLOTLYENV.BASE_URL='https://plot.ly';                                    if (document.getElementById(\"ff765353-7103-43e0-beaa-03290179fff8\")) {                    Plotly.newPlot(                        \"ff765353-7103-43e0-beaa-03290179fff8\",                        [{\"colorscale\":[[0.0,\"rgb(165,0,38)\"],[0.1,\"rgb(215,48,39)\"],[0.2,\"rgb(244,109,67)\"],[0.3,\"rgb(253,174,97)\"],[0.4,\"rgb(254,224,144)\"],[0.5,\"rgb(255,255,191)\"],[0.6,\"rgb(224,243,248)\"],[0.7,\"rgb(171,217,233)\"],[0.8,\"rgb(116,173,209)\"],[0.9,\"rgb(69,117,180)\"],[1.0,\"rgb(49,54,149)\"]],\"x\":[0,1,2,3,4],\"y\":[\"x\",\"y\",\"z\"],\"z\":[[1,2,3,4,5],[10,20,30,20,10],[5,4,3,2,1]],\"type\":\"surface\"}],                        {\"legend\":{\"bgcolor\":\"#F5F6F9\",\"font\":{\"color\":\"#4D5663\"}},\"paper_bgcolor\":\"#F5F6F9\",\"plot_bgcolor\":\"#F5F6F9\",\"template\":{\"data\":{\"barpolar\":[{\"marker\":{\"line\":{\"color\":\"#E5ECF6\",\"width\":0.5},\"pattern\":{\"fillmode\":\"overlay\",\"size\":10,\"solidity\":0.2}},\"type\":\"barpolar\"}],\"bar\":[{\"error_x\":{\"color\":\"#2a3f5f\"},\"error_y\":{\"color\":\"#2a3f5f\"},\"marker\":{\"line\":{\"color\":\"#E5ECF6\",\"width\":0.5},\"pattern\":{\"fillmode\":\"overlay\",\"size\":10,\"solidity\":0.2}},\"type\":\"bar\"}],\"carpet\":[{\"aaxis\":{\"endlinecolor\":\"#2a3f5f\",\"gridcolor\":\"white\",\"linecolor\":\"white\",\"minorgridcolor\":\"white\",\"startlinecolor\":\"#2a3f5f\"},\"baxis\":{\"endlinecolor\":\"#2a3f5f\",\"gridcolor\":\"white\",\"linecolor\":\"white\",\"minorgridcolor\":\"white\",\"startlinecolor\":\"#2a3f5f\"},\"type\":\"carpet\"}],\"choropleth\":[{\"colorbar\":{\"outlinewidth\":0,\"ticks\":\"\"},\"type\":\"choropleth\"}],\"contourcarpet\":[{\"colorbar\":{\"outlinewidth\":0,\"ticks\":\"\"},\"type\":\"contourcarpet\"}],\"contour\":[{\"colorbar\":{\"outlinewidth\":0,\"ticks\":\"\"},\"colorscale\":[[0.0,\"#0d0887\"],[0.1111111111111111,\"#46039f\"],[0.2222222222222222,\"#7201a8\"],[0.3333333333333333,\"#9c179e\"],[0.4444444444444444,\"#bd3786\"],[0.5555555555555556,\"#d8576b\"],[0.6666666666666666,\"#ed7953\"],[0.7777777777777778,\"#fb9f3a\"],[0.8888888888888888,\"#fdca26\"],[1.0,\"#f0f921\"]],\"type\":\"contour\"}],\"heatmapgl\":[{\"colorbar\":{\"outlinewidth\":0,\"ticks\":\"\"},\"colorscale\":[[0.0,\"#0d0887\"],[0.1111111111111111,\"#46039f\"],[0.2222222222222222,\"#7201a8\"],[0.3333333333333333,\"#9c179e\"],[0.4444444444444444,\"#bd3786\"],[0.5555555555555556,\"#d8576b\"],[0.6666666666666666,\"#ed7953\"],[0.7777777777777778,\"#fb9f3a\"],[0.8888888888888888,\"#fdca26\"],[1.0,\"#f0f921\"]],\"type\":\"heatmapgl\"}],\"heatmap\":[{\"colorbar\":{\"outlinewidth\":0,\"ticks\":\"\"},\"colorscale\":[[0.0,\"#0d0887\"],[0.1111111111111111,\"#46039f\"],[0.2222222222222222,\"#7201a8\"],[0.3333333333333333,\"#9c179e\"],[0.4444444444444444,\"#bd3786\"],[0.5555555555555556,\"#d8576b\"],[0.6666666666666666,\"#ed7953\"],[0.7777777777777778,\"#fb9f3a\"],[0.8888888888888888,\"#fdca26\"],[1.0,\"#f0f921\"]],\"type\":\"heatmap\"}],\"histogram2dcontour\":[{\"colorbar\":{\"outlinewidth\":0,\"ticks\":\"\"},\"colorscale\":[[0.0,\"#0d0887\"],[0.1111111111111111,\"#46039f\"],[0.2222222222222222,\"#7201a8\"],[0.3333333333333333,\"#9c179e\"],[0.4444444444444444,\"#bd3786\"],[0.5555555555555556,\"#d8576b\"],[0.6666666666666666,\"#ed7953\"],[0.7777777777777778,\"#fb9f3a\"],[0.8888888888888888,\"#fdca26\"],[1.0,\"#f0f921\"]],\"type\":\"histogram2dcontour\"}],\"histogram2d\":[{\"colorbar\":{\"outlinewidth\":0,\"ticks\":\"\"},\"colorscale\":[[0.0,\"#0d0887\"],[0.1111111111111111,\"#46039f\"],[0.2222222222222222,\"#7201a8\"],[0.3333333333333333,\"#9c179e\"],[0.4444444444444444,\"#bd3786\"],[0.5555555555555556,\"#d8576b\"],[0.6666666666666666,\"#ed7953\"],[0.7777777777777778,\"#fb9f3a\"],[0.8888888888888888,\"#fdca26\"],[1.0,\"#f0f921\"]],\"type\":\"histogram2d\"}],\"histogram\":[{\"marker\":{\"pattern\":{\"fillmode\":\"overlay\",\"size\":10,\"solidity\":0.2}},\"type\":\"histogram\"}],\"mesh3d\":[{\"colorbar\":{\"outlinewidth\":0,\"ticks\":\"\"},\"type\":\"mesh3d\"}],\"parcoords\":[{\"line\":{\"colorbar\":{\"outlinewidth\":0,\"ticks\":\"\"}},\"type\":\"parcoords\"}],\"pie\":[{\"automargin\":true,\"type\":\"pie\"}],\"scatter3d\":[{\"line\":{\"colorbar\":{\"outlinewidth\":0,\"ticks\":\"\"}},\"marker\":{\"colorbar\":{\"outlinewidth\":0,\"ticks\":\"\"}},\"type\":\"scatter3d\"}],\"scattercarpet\":[{\"marker\":{\"colorbar\":{\"outlinewidth\":0,\"ticks\":\"\"}},\"type\":\"scattercarpet\"}],\"scattergeo\":[{\"marker\":{\"colorbar\":{\"outlinewidth\":0,\"ticks\":\"\"}},\"type\":\"scattergeo\"}],\"scattergl\":[{\"marker\":{\"colorbar\":{\"outlinewidth\":0,\"ticks\":\"\"}},\"type\":\"scattergl\"}],\"scattermapbox\":[{\"marker\":{\"colorbar\":{\"outlinewidth\":0,\"ticks\":\"\"}},\"type\":\"scattermapbox\"}],\"scatterpolargl\":[{\"marker\":{\"colorbar\":{\"outlinewidth\":0,\"ticks\":\"\"}},\"type\":\"scatterpolargl\"}],\"scatterpolar\":[{\"marker\":{\"colorbar\":{\"outlinewidth\":0,\"ticks\":\"\"}},\"type\":\"scatterpolar\"}],\"scatter\":[{\"fillpattern\":{\"fillmode\":\"overlay\",\"size\":10,\"solidity\":0.2},\"type\":\"scatter\"}],\"scatterternary\":[{\"marker\":{\"colorbar\":{\"outlinewidth\":0,\"ticks\":\"\"}},\"type\":\"scatterternary\"}],\"surface\":[{\"colorbar\":{\"outlinewidth\":0,\"ticks\":\"\"},\"colorscale\":[[0.0,\"#0d0887\"],[0.1111111111111111,\"#46039f\"],[0.2222222222222222,\"#7201a8\"],[0.3333333333333333,\"#9c179e\"],[0.4444444444444444,\"#bd3786\"],[0.5555555555555556,\"#d8576b\"],[0.6666666666666666,\"#ed7953\"],[0.7777777777777778,\"#fb9f3a\"],[0.8888888888888888,\"#fdca26\"],[1.0,\"#f0f921\"]],\"type\":\"surface\"}],\"table\":[{\"cells\":{\"fill\":{\"color\":\"#EBF0F8\"},\"line\":{\"color\":\"white\"}},\"header\":{\"fill\":{\"color\":\"#C8D4E3\"},\"line\":{\"color\":\"white\"}},\"type\":\"table\"}]},\"layout\":{\"annotationdefaults\":{\"arrowcolor\":\"#2a3f5f\",\"arrowhead\":0,\"arrowwidth\":1},\"autotypenumbers\":\"strict\",\"coloraxis\":{\"colorbar\":{\"outlinewidth\":0,\"ticks\":\"\"}},\"colorscale\":{\"diverging\":[[0,\"#8e0152\"],[0.1,\"#c51b7d\"],[0.2,\"#de77ae\"],[0.3,\"#f1b6da\"],[0.4,\"#fde0ef\"],[0.5,\"#f7f7f7\"],[0.6,\"#e6f5d0\"],[0.7,\"#b8e186\"],[0.8,\"#7fbc41\"],[0.9,\"#4d9221\"],[1,\"#276419\"]],\"sequential\":[[0.0,\"#0d0887\"],[0.1111111111111111,\"#46039f\"],[0.2222222222222222,\"#7201a8\"],[0.3333333333333333,\"#9c179e\"],[0.4444444444444444,\"#bd3786\"],[0.5555555555555556,\"#d8576b\"],[0.6666666666666666,\"#ed7953\"],[0.7777777777777778,\"#fb9f3a\"],[0.8888888888888888,\"#fdca26\"],[1.0,\"#f0f921\"]],\"sequentialminus\":[[0.0,\"#0d0887\"],[0.1111111111111111,\"#46039f\"],[0.2222222222222222,\"#7201a8\"],[0.3333333333333333,\"#9c179e\"],[0.4444444444444444,\"#bd3786\"],[0.5555555555555556,\"#d8576b\"],[0.6666666666666666,\"#ed7953\"],[0.7777777777777778,\"#fb9f3a\"],[0.8888888888888888,\"#fdca26\"],[1.0,\"#f0f921\"]]},\"colorway\":[\"#636efa\",\"#EF553B\",\"#00cc96\",\"#ab63fa\",\"#FFA15A\",\"#19d3f3\",\"#FF6692\",\"#B6E880\",\"#FF97FF\",\"#FECB52\"],\"font\":{\"color\":\"#2a3f5f\"},\"geo\":{\"bgcolor\":\"white\",\"lakecolor\":\"white\",\"landcolor\":\"#E5ECF6\",\"showlakes\":true,\"showland\":true,\"subunitcolor\":\"white\"},\"hoverlabel\":{\"align\":\"left\"},\"hovermode\":\"closest\",\"mapbox\":{\"style\":\"light\"},\"paper_bgcolor\":\"white\",\"plot_bgcolor\":\"#E5ECF6\",\"polar\":{\"angularaxis\":{\"gridcolor\":\"white\",\"linecolor\":\"white\",\"ticks\":\"\"},\"bgcolor\":\"#E5ECF6\",\"radialaxis\":{\"gridcolor\":\"white\",\"linecolor\":\"white\",\"ticks\":\"\"}},\"scene\":{\"xaxis\":{\"backgroundcolor\":\"#E5ECF6\",\"gridcolor\":\"white\",\"gridwidth\":2,\"linecolor\":\"white\",\"showbackground\":true,\"ticks\":\"\",\"zerolinecolor\":\"white\"},\"yaxis\":{\"backgroundcolor\":\"#E5ECF6\",\"gridcolor\":\"white\",\"gridwidth\":2,\"linecolor\":\"white\",\"showbackground\":true,\"ticks\":\"\",\"zerolinecolor\":\"white\"},\"zaxis\":{\"backgroundcolor\":\"#E5ECF6\",\"gridcolor\":\"white\",\"gridwidth\":2,\"linecolor\":\"white\",\"showbackground\":true,\"ticks\":\"\",\"zerolinecolor\":\"white\"}},\"shapedefaults\":{\"line\":{\"color\":\"#2a3f5f\"}},\"ternary\":{\"aaxis\":{\"gridcolor\":\"white\",\"linecolor\":\"white\",\"ticks\":\"\"},\"baxis\":{\"gridcolor\":\"white\",\"linecolor\":\"white\",\"ticks\":\"\"},\"bgcolor\":\"#E5ECF6\",\"caxis\":{\"gridcolor\":\"white\",\"linecolor\":\"white\",\"ticks\":\"\"}},\"title\":{\"x\":0.05},\"xaxis\":{\"automargin\":true,\"gridcolor\":\"white\",\"linecolor\":\"white\",\"ticks\":\"\",\"title\":{\"standoff\":15},\"zerolinecolor\":\"white\",\"zerolinewidth\":2},\"yaxis\":{\"automargin\":true,\"gridcolor\":\"white\",\"linecolor\":\"white\",\"ticks\":\"\",\"title\":{\"standoff\":15},\"zerolinecolor\":\"white\",\"zerolinewidth\":2}}},\"title\":{\"font\":{\"color\":\"#4D5663\"}},\"xaxis\":{\"gridcolor\":\"#E1E5ED\",\"showgrid\":true,\"tickfont\":{\"color\":\"#4D5663\"},\"title\":{\"font\":{\"color\":\"#4D5663\"},\"text\":\"\"},\"zerolinecolor\":\"#E1E5ED\"},\"yaxis\":{\"gridcolor\":\"#E1E5ED\",\"showgrid\":true,\"tickfont\":{\"color\":\"#4D5663\"},\"title\":{\"font\":{\"color\":\"#4D5663\"},\"text\":\"\"},\"zerolinecolor\":\"#E1E5ED\"}},                        {\"showLink\": true, \"linkText\": \"Export to plot.ly\", \"plotlyServerURL\": \"https://plot.ly\", \"responsive\": true}                    ).then(function(){\n",
       "                            \n",
       "var gd = document.getElementById('ff765353-7103-43e0-beaa-03290179fff8');\n",
       "var x = new MutationObserver(function (mutations, observer) {{\n",
       "        var display = window.getComputedStyle(gd).display;\n",
       "        if (!display || display === 'none') {{\n",
       "            console.log([gd, 'removed!']);\n",
       "            Plotly.purge(gd);\n",
       "            observer.disconnect();\n",
       "        }}\n",
       "}});\n",
       "\n",
       "// Listen for the removal of the full notebook cells\n",
       "var notebookContainer = gd.closest('#notebook-container');\n",
       "if (notebookContainer) {{\n",
       "    x.observe(notebookContainer, {childList: true});\n",
       "}}\n",
       "\n",
       "// Listen for the clearing of the current output cell\n",
       "var outputEl = gd.closest('.output');\n",
       "if (outputEl) {{\n",
       "    x.observe(outputEl, {childList: true});\n",
       "}}\n",
       "\n",
       "                        })                };                });            </script>        </div>"
      ]
     },
     "metadata": {},
     "output_type": "display_data"
    }
   ],
   "source": [
    "df3.iplot(kind='surface',colorscale='rdylbu')"
   ]
  },
  {
   "cell_type": "code",
   "execution_count": 35,
   "id": "d1226cbc",
   "metadata": {},
   "outputs": [
    {
     "data": {
      "application/vnd.plotly.v1+json": {
       "config": {
        "linkText": "Export to plot.ly",
        "plotlyServerURL": "https://plot.ly",
        "showLink": true
       },
       "data": [
        {
         "histfunc": "count",
         "histnorm": "",
         "marker": {
          "color": "rgba(255, 153, 51, 1.0)",
          "line": {
           "color": "#4D5663",
           "width": 1.3
          }
         },
         "name": "A",
         "nbinsx": 50,
         "opacity": 0.8,
         "orientation": "v",
         "type": "histogram",
         "x": [
          0.9634623893766167,
          -0.12055224845819004,
          0.25008154086228296,
          -0.5013143806434255,
          0.1292844937472286,
          0.4044071864470786,
          -2.0771930414556183,
          -0.020426006358398602,
          0.3849191710124318,
          0.879707817390476,
          -0.9431858876910261,
          -0.7490253238236118,
          0.5924697035901231,
          -1.3940933638268622,
          -0.5719377462453421,
          0.0075937045045873,
          -1.4481325040064896,
          0.21700524462166149,
          -0.1395825213548501,
          -0.24991568489512242,
          0.29452568252983163,
          -0.7905644371689067,
          -0.2997690889834603,
          0.21384176348726486,
          0.08658516570981084,
          0.7454032185178966,
          -0.6281603258099894,
          0.46180435642701845,
          -0.4178004985683218,
          -0.35630133871786407,
          -1.2112066150479495,
          -0.9726056889327593,
          -0.1005023860363253,
          1.0040648633325953,
          -1.0629923769941325,
          2.47531773691314,
          -0.04824382074826237,
          1.7025776795476604,
          -1.236548662174602,
          0.39866376082116467,
          1.333415614245502,
          0.0766655986802566,
          -0.33317061992034,
          -0.07328513704307903,
          0.37972060484157116,
          0.6522436929759483,
          0.8908762959506643,
          -0.41150485447839996,
          -0.3911042477094948,
          -1.7445372379275699,
          0.023978803372944477,
          -0.17442305395410349,
          0.25819460285665935,
          0.4944620618569529,
          -0.5834284135317452,
          -0.3240544301618898,
          -1.5444815784266575,
          -0.4776289313257464,
          0.06945397679857637,
          -0.4278386106429362,
          1.2522658559296482,
          -0.8812452740221121,
          -0.8221355096056416,
          -0.18782134308689513,
          1.8206332470536457,
          -0.6879560063978835,
          1.241741050078539,
          -2.7408858865027486,
          -0.4980842707106779,
          -0.9645117851028521,
          -0.12349607696101607,
          0.14719778655961077,
          -0.3022218597739041,
          0.6471150042134444,
          0.4721020856800413,
          -1.0353926818229156,
          1.3229382115515267,
          -1.2156788535049665,
          0.7614711874891931,
          -0.9013858317983743,
          -1.003047554190563,
          1.1696861418828624,
          0.0390968088724639,
          -0.4260054156967536,
          1.091606297176759,
          1.2036536169313206,
          -0.4427686249514626,
          1.4585873222111359,
          -0.270091310882172,
          0.17838137496146925,
          1.1533524775428632,
          0.5561949849702105,
          0.18208084487524875,
          0.26219091894703034,
          0.7582266638205611,
          0.3703636490699679,
          -0.5948913443755864,
          0.34613627097324257,
          0.07431556715271147,
          -1.2472512715902513
         ]
        }
       ],
       "layout": {
        "barmode": "overlay",
        "legend": {
         "bgcolor": "#F5F6F9",
         "font": {
          "color": "#4D5663"
         }
        },
        "paper_bgcolor": "#F5F6F9",
        "plot_bgcolor": "#F5F6F9",
        "template": {
         "data": {
          "bar": [
           {
            "error_x": {
             "color": "#2a3f5f"
            },
            "error_y": {
             "color": "#2a3f5f"
            },
            "marker": {
             "line": {
              "color": "#E5ECF6",
              "width": 0.5
             },
             "pattern": {
              "fillmode": "overlay",
              "size": 10,
              "solidity": 0.2
             }
            },
            "type": "bar"
           }
          ],
          "barpolar": [
           {
            "marker": {
             "line": {
              "color": "#E5ECF6",
              "width": 0.5
             },
             "pattern": {
              "fillmode": "overlay",
              "size": 10,
              "solidity": 0.2
             }
            },
            "type": "barpolar"
           }
          ],
          "carpet": [
           {
            "aaxis": {
             "endlinecolor": "#2a3f5f",
             "gridcolor": "white",
             "linecolor": "white",
             "minorgridcolor": "white",
             "startlinecolor": "#2a3f5f"
            },
            "baxis": {
             "endlinecolor": "#2a3f5f",
             "gridcolor": "white",
             "linecolor": "white",
             "minorgridcolor": "white",
             "startlinecolor": "#2a3f5f"
            },
            "type": "carpet"
           }
          ],
          "choropleth": [
           {
            "colorbar": {
             "outlinewidth": 0,
             "ticks": ""
            },
            "type": "choropleth"
           }
          ],
          "contour": [
           {
            "colorbar": {
             "outlinewidth": 0,
             "ticks": ""
            },
            "colorscale": [
             [
              0,
              "#0d0887"
             ],
             [
              0.1111111111111111,
              "#46039f"
             ],
             [
              0.2222222222222222,
              "#7201a8"
             ],
             [
              0.3333333333333333,
              "#9c179e"
             ],
             [
              0.4444444444444444,
              "#bd3786"
             ],
             [
              0.5555555555555556,
              "#d8576b"
             ],
             [
              0.6666666666666666,
              "#ed7953"
             ],
             [
              0.7777777777777778,
              "#fb9f3a"
             ],
             [
              0.8888888888888888,
              "#fdca26"
             ],
             [
              1,
              "#f0f921"
             ]
            ],
            "type": "contour"
           }
          ],
          "contourcarpet": [
           {
            "colorbar": {
             "outlinewidth": 0,
             "ticks": ""
            },
            "type": "contourcarpet"
           }
          ],
          "heatmap": [
           {
            "colorbar": {
             "outlinewidth": 0,
             "ticks": ""
            },
            "colorscale": [
             [
              0,
              "#0d0887"
             ],
             [
              0.1111111111111111,
              "#46039f"
             ],
             [
              0.2222222222222222,
              "#7201a8"
             ],
             [
              0.3333333333333333,
              "#9c179e"
             ],
             [
              0.4444444444444444,
              "#bd3786"
             ],
             [
              0.5555555555555556,
              "#d8576b"
             ],
             [
              0.6666666666666666,
              "#ed7953"
             ],
             [
              0.7777777777777778,
              "#fb9f3a"
             ],
             [
              0.8888888888888888,
              "#fdca26"
             ],
             [
              1,
              "#f0f921"
             ]
            ],
            "type": "heatmap"
           }
          ],
          "heatmapgl": [
           {
            "colorbar": {
             "outlinewidth": 0,
             "ticks": ""
            },
            "colorscale": [
             [
              0,
              "#0d0887"
             ],
             [
              0.1111111111111111,
              "#46039f"
             ],
             [
              0.2222222222222222,
              "#7201a8"
             ],
             [
              0.3333333333333333,
              "#9c179e"
             ],
             [
              0.4444444444444444,
              "#bd3786"
             ],
             [
              0.5555555555555556,
              "#d8576b"
             ],
             [
              0.6666666666666666,
              "#ed7953"
             ],
             [
              0.7777777777777778,
              "#fb9f3a"
             ],
             [
              0.8888888888888888,
              "#fdca26"
             ],
             [
              1,
              "#f0f921"
             ]
            ],
            "type": "heatmapgl"
           }
          ],
          "histogram": [
           {
            "marker": {
             "pattern": {
              "fillmode": "overlay",
              "size": 10,
              "solidity": 0.2
             }
            },
            "type": "histogram"
           }
          ],
          "histogram2d": [
           {
            "colorbar": {
             "outlinewidth": 0,
             "ticks": ""
            },
            "colorscale": [
             [
              0,
              "#0d0887"
             ],
             [
              0.1111111111111111,
              "#46039f"
             ],
             [
              0.2222222222222222,
              "#7201a8"
             ],
             [
              0.3333333333333333,
              "#9c179e"
             ],
             [
              0.4444444444444444,
              "#bd3786"
             ],
             [
              0.5555555555555556,
              "#d8576b"
             ],
             [
              0.6666666666666666,
              "#ed7953"
             ],
             [
              0.7777777777777778,
              "#fb9f3a"
             ],
             [
              0.8888888888888888,
              "#fdca26"
             ],
             [
              1,
              "#f0f921"
             ]
            ],
            "type": "histogram2d"
           }
          ],
          "histogram2dcontour": [
           {
            "colorbar": {
             "outlinewidth": 0,
             "ticks": ""
            },
            "colorscale": [
             [
              0,
              "#0d0887"
             ],
             [
              0.1111111111111111,
              "#46039f"
             ],
             [
              0.2222222222222222,
              "#7201a8"
             ],
             [
              0.3333333333333333,
              "#9c179e"
             ],
             [
              0.4444444444444444,
              "#bd3786"
             ],
             [
              0.5555555555555556,
              "#d8576b"
             ],
             [
              0.6666666666666666,
              "#ed7953"
             ],
             [
              0.7777777777777778,
              "#fb9f3a"
             ],
             [
              0.8888888888888888,
              "#fdca26"
             ],
             [
              1,
              "#f0f921"
             ]
            ],
            "type": "histogram2dcontour"
           }
          ],
          "mesh3d": [
           {
            "colorbar": {
             "outlinewidth": 0,
             "ticks": ""
            },
            "type": "mesh3d"
           }
          ],
          "parcoords": [
           {
            "line": {
             "colorbar": {
              "outlinewidth": 0,
              "ticks": ""
             }
            },
            "type": "parcoords"
           }
          ],
          "pie": [
           {
            "automargin": true,
            "type": "pie"
           }
          ],
          "scatter": [
           {
            "fillpattern": {
             "fillmode": "overlay",
             "size": 10,
             "solidity": 0.2
            },
            "type": "scatter"
           }
          ],
          "scatter3d": [
           {
            "line": {
             "colorbar": {
              "outlinewidth": 0,
              "ticks": ""
             }
            },
            "marker": {
             "colorbar": {
              "outlinewidth": 0,
              "ticks": ""
             }
            },
            "type": "scatter3d"
           }
          ],
          "scattercarpet": [
           {
            "marker": {
             "colorbar": {
              "outlinewidth": 0,
              "ticks": ""
             }
            },
            "type": "scattercarpet"
           }
          ],
          "scattergeo": [
           {
            "marker": {
             "colorbar": {
              "outlinewidth": 0,
              "ticks": ""
             }
            },
            "type": "scattergeo"
           }
          ],
          "scattergl": [
           {
            "marker": {
             "colorbar": {
              "outlinewidth": 0,
              "ticks": ""
             }
            },
            "type": "scattergl"
           }
          ],
          "scattermapbox": [
           {
            "marker": {
             "colorbar": {
              "outlinewidth": 0,
              "ticks": ""
             }
            },
            "type": "scattermapbox"
           }
          ],
          "scatterpolar": [
           {
            "marker": {
             "colorbar": {
              "outlinewidth": 0,
              "ticks": ""
             }
            },
            "type": "scatterpolar"
           }
          ],
          "scatterpolargl": [
           {
            "marker": {
             "colorbar": {
              "outlinewidth": 0,
              "ticks": ""
             }
            },
            "type": "scatterpolargl"
           }
          ],
          "scatterternary": [
           {
            "marker": {
             "colorbar": {
              "outlinewidth": 0,
              "ticks": ""
             }
            },
            "type": "scatterternary"
           }
          ],
          "surface": [
           {
            "colorbar": {
             "outlinewidth": 0,
             "ticks": ""
            },
            "colorscale": [
             [
              0,
              "#0d0887"
             ],
             [
              0.1111111111111111,
              "#46039f"
             ],
             [
              0.2222222222222222,
              "#7201a8"
             ],
             [
              0.3333333333333333,
              "#9c179e"
             ],
             [
              0.4444444444444444,
              "#bd3786"
             ],
             [
              0.5555555555555556,
              "#d8576b"
             ],
             [
              0.6666666666666666,
              "#ed7953"
             ],
             [
              0.7777777777777778,
              "#fb9f3a"
             ],
             [
              0.8888888888888888,
              "#fdca26"
             ],
             [
              1,
              "#f0f921"
             ]
            ],
            "type": "surface"
           }
          ],
          "table": [
           {
            "cells": {
             "fill": {
              "color": "#EBF0F8"
             },
             "line": {
              "color": "white"
             }
            },
            "header": {
             "fill": {
              "color": "#C8D4E3"
             },
             "line": {
              "color": "white"
             }
            },
            "type": "table"
           }
          ]
         },
         "layout": {
          "annotationdefaults": {
           "arrowcolor": "#2a3f5f",
           "arrowhead": 0,
           "arrowwidth": 1
          },
          "autotypenumbers": "strict",
          "coloraxis": {
           "colorbar": {
            "outlinewidth": 0,
            "ticks": ""
           }
          },
          "colorscale": {
           "diverging": [
            [
             0,
             "#8e0152"
            ],
            [
             0.1,
             "#c51b7d"
            ],
            [
             0.2,
             "#de77ae"
            ],
            [
             0.3,
             "#f1b6da"
            ],
            [
             0.4,
             "#fde0ef"
            ],
            [
             0.5,
             "#f7f7f7"
            ],
            [
             0.6,
             "#e6f5d0"
            ],
            [
             0.7,
             "#b8e186"
            ],
            [
             0.8,
             "#7fbc41"
            ],
            [
             0.9,
             "#4d9221"
            ],
            [
             1,
             "#276419"
            ]
           ],
           "sequential": [
            [
             0,
             "#0d0887"
            ],
            [
             0.1111111111111111,
             "#46039f"
            ],
            [
             0.2222222222222222,
             "#7201a8"
            ],
            [
             0.3333333333333333,
             "#9c179e"
            ],
            [
             0.4444444444444444,
             "#bd3786"
            ],
            [
             0.5555555555555556,
             "#d8576b"
            ],
            [
             0.6666666666666666,
             "#ed7953"
            ],
            [
             0.7777777777777778,
             "#fb9f3a"
            ],
            [
             0.8888888888888888,
             "#fdca26"
            ],
            [
             1,
             "#f0f921"
            ]
           ],
           "sequentialminus": [
            [
             0,
             "#0d0887"
            ],
            [
             0.1111111111111111,
             "#46039f"
            ],
            [
             0.2222222222222222,
             "#7201a8"
            ],
            [
             0.3333333333333333,
             "#9c179e"
            ],
            [
             0.4444444444444444,
             "#bd3786"
            ],
            [
             0.5555555555555556,
             "#d8576b"
            ],
            [
             0.6666666666666666,
             "#ed7953"
            ],
            [
             0.7777777777777778,
             "#fb9f3a"
            ],
            [
             0.8888888888888888,
             "#fdca26"
            ],
            [
             1,
             "#f0f921"
            ]
           ]
          },
          "colorway": [
           "#636efa",
           "#EF553B",
           "#00cc96",
           "#ab63fa",
           "#FFA15A",
           "#19d3f3",
           "#FF6692",
           "#B6E880",
           "#FF97FF",
           "#FECB52"
          ],
          "font": {
           "color": "#2a3f5f"
          },
          "geo": {
           "bgcolor": "white",
           "lakecolor": "white",
           "landcolor": "#E5ECF6",
           "showlakes": true,
           "showland": true,
           "subunitcolor": "white"
          },
          "hoverlabel": {
           "align": "left"
          },
          "hovermode": "closest",
          "mapbox": {
           "style": "light"
          },
          "paper_bgcolor": "white",
          "plot_bgcolor": "#E5ECF6",
          "polar": {
           "angularaxis": {
            "gridcolor": "white",
            "linecolor": "white",
            "ticks": ""
           },
           "bgcolor": "#E5ECF6",
           "radialaxis": {
            "gridcolor": "white",
            "linecolor": "white",
            "ticks": ""
           }
          },
          "scene": {
           "xaxis": {
            "backgroundcolor": "#E5ECF6",
            "gridcolor": "white",
            "gridwidth": 2,
            "linecolor": "white",
            "showbackground": true,
            "ticks": "",
            "zerolinecolor": "white"
           },
           "yaxis": {
            "backgroundcolor": "#E5ECF6",
            "gridcolor": "white",
            "gridwidth": 2,
            "linecolor": "white",
            "showbackground": true,
            "ticks": "",
            "zerolinecolor": "white"
           },
           "zaxis": {
            "backgroundcolor": "#E5ECF6",
            "gridcolor": "white",
            "gridwidth": 2,
            "linecolor": "white",
            "showbackground": true,
            "ticks": "",
            "zerolinecolor": "white"
           }
          },
          "shapedefaults": {
           "line": {
            "color": "#2a3f5f"
           }
          },
          "ternary": {
           "aaxis": {
            "gridcolor": "white",
            "linecolor": "white",
            "ticks": ""
           },
           "baxis": {
            "gridcolor": "white",
            "linecolor": "white",
            "ticks": ""
           },
           "bgcolor": "#E5ECF6",
           "caxis": {
            "gridcolor": "white",
            "linecolor": "white",
            "ticks": ""
           }
          },
          "title": {
           "x": 0.05
          },
          "xaxis": {
           "automargin": true,
           "gridcolor": "white",
           "linecolor": "white",
           "ticks": "",
           "title": {
            "standoff": 15
           },
           "zerolinecolor": "white",
           "zerolinewidth": 2
          },
          "yaxis": {
           "automargin": true,
           "gridcolor": "white",
           "linecolor": "white",
           "ticks": "",
           "title": {
            "standoff": 15
           },
           "zerolinecolor": "white",
           "zerolinewidth": 2
          }
         }
        },
        "title": {
         "font": {
          "color": "#4D5663"
         }
        },
        "xaxis": {
         "gridcolor": "#E1E5ED",
         "showgrid": true,
         "tickfont": {
          "color": "#4D5663"
         },
         "title": {
          "font": {
           "color": "#4D5663"
          },
          "text": ""
         },
         "zerolinecolor": "#E1E5ED"
        },
        "yaxis": {
         "gridcolor": "#E1E5ED",
         "showgrid": true,
         "tickfont": {
          "color": "#4D5663"
         },
         "title": {
          "font": {
           "color": "#4D5663"
          },
          "text": ""
         },
         "zerolinecolor": "#E1E5ED"
        }
       }
      },
      "text/html": [
       "<div>                            <div id=\"31bb9ec5-54fc-4a71-b15f-e49f5f1d5f37\" class=\"plotly-graph-div\" style=\"height:525px; width:100%;\"></div>            <script type=\"text/javascript\">                require([\"plotly\"], function(Plotly) {                    window.PLOTLYENV=window.PLOTLYENV || {};\n",
       "                    window.PLOTLYENV.BASE_URL='https://plot.ly';                                    if (document.getElementById(\"31bb9ec5-54fc-4a71-b15f-e49f5f1d5f37\")) {                    Plotly.newPlot(                        \"31bb9ec5-54fc-4a71-b15f-e49f5f1d5f37\",                        [{\"histfunc\":\"count\",\"histnorm\":\"\",\"marker\":{\"color\":\"rgba(255, 153, 51, 1.0)\",\"line\":{\"color\":\"#4D5663\",\"width\":1.3}},\"name\":\"A\",\"nbinsx\":50,\"opacity\":0.8,\"orientation\":\"v\",\"x\":[0.9634623893766167,-0.12055224845819004,0.25008154086228296,-0.5013143806434255,0.1292844937472286,0.4044071864470786,-2.0771930414556183,-0.020426006358398602,0.3849191710124318,0.879707817390476,-0.9431858876910261,-0.7490253238236118,0.5924697035901231,-1.3940933638268622,-0.5719377462453421,0.0075937045045873,-1.4481325040064896,0.21700524462166149,-0.1395825213548501,-0.24991568489512242,0.29452568252983163,-0.7905644371689067,-0.2997690889834603,0.21384176348726486,0.08658516570981084,0.7454032185178966,-0.6281603258099894,0.46180435642701845,-0.4178004985683218,-0.35630133871786407,-1.2112066150479495,-0.9726056889327593,-0.1005023860363253,1.0040648633325953,-1.0629923769941325,2.47531773691314,-0.04824382074826237,1.7025776795476604,-1.236548662174602,0.39866376082116467,1.333415614245502,0.0766655986802566,-0.33317061992034,-0.07328513704307903,0.37972060484157116,0.6522436929759483,0.8908762959506643,-0.41150485447839996,-0.3911042477094948,-1.7445372379275699,0.023978803372944477,-0.17442305395410349,0.25819460285665935,0.4944620618569529,-0.5834284135317452,-0.3240544301618898,-1.5444815784266575,-0.4776289313257464,0.06945397679857637,-0.4278386106429362,1.2522658559296482,-0.8812452740221121,-0.8221355096056416,-0.18782134308689513,1.8206332470536457,-0.6879560063978835,1.241741050078539,-2.7408858865027486,-0.4980842707106779,-0.9645117851028521,-0.12349607696101607,0.14719778655961077,-0.3022218597739041,0.6471150042134444,0.4721020856800413,-1.0353926818229156,1.3229382115515267,-1.2156788535049665,0.7614711874891931,-0.9013858317983743,-1.003047554190563,1.1696861418828624,0.0390968088724639,-0.4260054156967536,1.091606297176759,1.2036536169313206,-0.4427686249514626,1.4585873222111359,-0.270091310882172,0.17838137496146925,1.1533524775428632,0.5561949849702105,0.18208084487524875,0.26219091894703034,0.7582266638205611,0.3703636490699679,-0.5948913443755864,0.34613627097324257,0.07431556715271147,-1.2472512715902513],\"type\":\"histogram\"}],                        {\"barmode\":\"overlay\",\"legend\":{\"bgcolor\":\"#F5F6F9\",\"font\":{\"color\":\"#4D5663\"}},\"paper_bgcolor\":\"#F5F6F9\",\"plot_bgcolor\":\"#F5F6F9\",\"template\":{\"data\":{\"barpolar\":[{\"marker\":{\"line\":{\"color\":\"#E5ECF6\",\"width\":0.5},\"pattern\":{\"fillmode\":\"overlay\",\"size\":10,\"solidity\":0.2}},\"type\":\"barpolar\"}],\"bar\":[{\"error_x\":{\"color\":\"#2a3f5f\"},\"error_y\":{\"color\":\"#2a3f5f\"},\"marker\":{\"line\":{\"color\":\"#E5ECF6\",\"width\":0.5},\"pattern\":{\"fillmode\":\"overlay\",\"size\":10,\"solidity\":0.2}},\"type\":\"bar\"}],\"carpet\":[{\"aaxis\":{\"endlinecolor\":\"#2a3f5f\",\"gridcolor\":\"white\",\"linecolor\":\"white\",\"minorgridcolor\":\"white\",\"startlinecolor\":\"#2a3f5f\"},\"baxis\":{\"endlinecolor\":\"#2a3f5f\",\"gridcolor\":\"white\",\"linecolor\":\"white\",\"minorgridcolor\":\"white\",\"startlinecolor\":\"#2a3f5f\"},\"type\":\"carpet\"}],\"choropleth\":[{\"colorbar\":{\"outlinewidth\":0,\"ticks\":\"\"},\"type\":\"choropleth\"}],\"contourcarpet\":[{\"colorbar\":{\"outlinewidth\":0,\"ticks\":\"\"},\"type\":\"contourcarpet\"}],\"contour\":[{\"colorbar\":{\"outlinewidth\":0,\"ticks\":\"\"},\"colorscale\":[[0.0,\"#0d0887\"],[0.1111111111111111,\"#46039f\"],[0.2222222222222222,\"#7201a8\"],[0.3333333333333333,\"#9c179e\"],[0.4444444444444444,\"#bd3786\"],[0.5555555555555556,\"#d8576b\"],[0.6666666666666666,\"#ed7953\"],[0.7777777777777778,\"#fb9f3a\"],[0.8888888888888888,\"#fdca26\"],[1.0,\"#f0f921\"]],\"type\":\"contour\"}],\"heatmapgl\":[{\"colorbar\":{\"outlinewidth\":0,\"ticks\":\"\"},\"colorscale\":[[0.0,\"#0d0887\"],[0.1111111111111111,\"#46039f\"],[0.2222222222222222,\"#7201a8\"],[0.3333333333333333,\"#9c179e\"],[0.4444444444444444,\"#bd3786\"],[0.5555555555555556,\"#d8576b\"],[0.6666666666666666,\"#ed7953\"],[0.7777777777777778,\"#fb9f3a\"],[0.8888888888888888,\"#fdca26\"],[1.0,\"#f0f921\"]],\"type\":\"heatmapgl\"}],\"heatmap\":[{\"colorbar\":{\"outlinewidth\":0,\"ticks\":\"\"},\"colorscale\":[[0.0,\"#0d0887\"],[0.1111111111111111,\"#46039f\"],[0.2222222222222222,\"#7201a8\"],[0.3333333333333333,\"#9c179e\"],[0.4444444444444444,\"#bd3786\"],[0.5555555555555556,\"#d8576b\"],[0.6666666666666666,\"#ed7953\"],[0.7777777777777778,\"#fb9f3a\"],[0.8888888888888888,\"#fdca26\"],[1.0,\"#f0f921\"]],\"type\":\"heatmap\"}],\"histogram2dcontour\":[{\"colorbar\":{\"outlinewidth\":0,\"ticks\":\"\"},\"colorscale\":[[0.0,\"#0d0887\"],[0.1111111111111111,\"#46039f\"],[0.2222222222222222,\"#7201a8\"],[0.3333333333333333,\"#9c179e\"],[0.4444444444444444,\"#bd3786\"],[0.5555555555555556,\"#d8576b\"],[0.6666666666666666,\"#ed7953\"],[0.7777777777777778,\"#fb9f3a\"],[0.8888888888888888,\"#fdca26\"],[1.0,\"#f0f921\"]],\"type\":\"histogram2dcontour\"}],\"histogram2d\":[{\"colorbar\":{\"outlinewidth\":0,\"ticks\":\"\"},\"colorscale\":[[0.0,\"#0d0887\"],[0.1111111111111111,\"#46039f\"],[0.2222222222222222,\"#7201a8\"],[0.3333333333333333,\"#9c179e\"],[0.4444444444444444,\"#bd3786\"],[0.5555555555555556,\"#d8576b\"],[0.6666666666666666,\"#ed7953\"],[0.7777777777777778,\"#fb9f3a\"],[0.8888888888888888,\"#fdca26\"],[1.0,\"#f0f921\"]],\"type\":\"histogram2d\"}],\"histogram\":[{\"marker\":{\"pattern\":{\"fillmode\":\"overlay\",\"size\":10,\"solidity\":0.2}},\"type\":\"histogram\"}],\"mesh3d\":[{\"colorbar\":{\"outlinewidth\":0,\"ticks\":\"\"},\"type\":\"mesh3d\"}],\"parcoords\":[{\"line\":{\"colorbar\":{\"outlinewidth\":0,\"ticks\":\"\"}},\"type\":\"parcoords\"}],\"pie\":[{\"automargin\":true,\"type\":\"pie\"}],\"scatter3d\":[{\"line\":{\"colorbar\":{\"outlinewidth\":0,\"ticks\":\"\"}},\"marker\":{\"colorbar\":{\"outlinewidth\":0,\"ticks\":\"\"}},\"type\":\"scatter3d\"}],\"scattercarpet\":[{\"marker\":{\"colorbar\":{\"outlinewidth\":0,\"ticks\":\"\"}},\"type\":\"scattercarpet\"}],\"scattergeo\":[{\"marker\":{\"colorbar\":{\"outlinewidth\":0,\"ticks\":\"\"}},\"type\":\"scattergeo\"}],\"scattergl\":[{\"marker\":{\"colorbar\":{\"outlinewidth\":0,\"ticks\":\"\"}},\"type\":\"scattergl\"}],\"scattermapbox\":[{\"marker\":{\"colorbar\":{\"outlinewidth\":0,\"ticks\":\"\"}},\"type\":\"scattermapbox\"}],\"scatterpolargl\":[{\"marker\":{\"colorbar\":{\"outlinewidth\":0,\"ticks\":\"\"}},\"type\":\"scatterpolargl\"}],\"scatterpolar\":[{\"marker\":{\"colorbar\":{\"outlinewidth\":0,\"ticks\":\"\"}},\"type\":\"scatterpolar\"}],\"scatter\":[{\"fillpattern\":{\"fillmode\":\"overlay\",\"size\":10,\"solidity\":0.2},\"type\":\"scatter\"}],\"scatterternary\":[{\"marker\":{\"colorbar\":{\"outlinewidth\":0,\"ticks\":\"\"}},\"type\":\"scatterternary\"}],\"surface\":[{\"colorbar\":{\"outlinewidth\":0,\"ticks\":\"\"},\"colorscale\":[[0.0,\"#0d0887\"],[0.1111111111111111,\"#46039f\"],[0.2222222222222222,\"#7201a8\"],[0.3333333333333333,\"#9c179e\"],[0.4444444444444444,\"#bd3786\"],[0.5555555555555556,\"#d8576b\"],[0.6666666666666666,\"#ed7953\"],[0.7777777777777778,\"#fb9f3a\"],[0.8888888888888888,\"#fdca26\"],[1.0,\"#f0f921\"]],\"type\":\"surface\"}],\"table\":[{\"cells\":{\"fill\":{\"color\":\"#EBF0F8\"},\"line\":{\"color\":\"white\"}},\"header\":{\"fill\":{\"color\":\"#C8D4E3\"},\"line\":{\"color\":\"white\"}},\"type\":\"table\"}]},\"layout\":{\"annotationdefaults\":{\"arrowcolor\":\"#2a3f5f\",\"arrowhead\":0,\"arrowwidth\":1},\"autotypenumbers\":\"strict\",\"coloraxis\":{\"colorbar\":{\"outlinewidth\":0,\"ticks\":\"\"}},\"colorscale\":{\"diverging\":[[0,\"#8e0152\"],[0.1,\"#c51b7d\"],[0.2,\"#de77ae\"],[0.3,\"#f1b6da\"],[0.4,\"#fde0ef\"],[0.5,\"#f7f7f7\"],[0.6,\"#e6f5d0\"],[0.7,\"#b8e186\"],[0.8,\"#7fbc41\"],[0.9,\"#4d9221\"],[1,\"#276419\"]],\"sequential\":[[0.0,\"#0d0887\"],[0.1111111111111111,\"#46039f\"],[0.2222222222222222,\"#7201a8\"],[0.3333333333333333,\"#9c179e\"],[0.4444444444444444,\"#bd3786\"],[0.5555555555555556,\"#d8576b\"],[0.6666666666666666,\"#ed7953\"],[0.7777777777777778,\"#fb9f3a\"],[0.8888888888888888,\"#fdca26\"],[1.0,\"#f0f921\"]],\"sequentialminus\":[[0.0,\"#0d0887\"],[0.1111111111111111,\"#46039f\"],[0.2222222222222222,\"#7201a8\"],[0.3333333333333333,\"#9c179e\"],[0.4444444444444444,\"#bd3786\"],[0.5555555555555556,\"#d8576b\"],[0.6666666666666666,\"#ed7953\"],[0.7777777777777778,\"#fb9f3a\"],[0.8888888888888888,\"#fdca26\"],[1.0,\"#f0f921\"]]},\"colorway\":[\"#636efa\",\"#EF553B\",\"#00cc96\",\"#ab63fa\",\"#FFA15A\",\"#19d3f3\",\"#FF6692\",\"#B6E880\",\"#FF97FF\",\"#FECB52\"],\"font\":{\"color\":\"#2a3f5f\"},\"geo\":{\"bgcolor\":\"white\",\"lakecolor\":\"white\",\"landcolor\":\"#E5ECF6\",\"showlakes\":true,\"showland\":true,\"subunitcolor\":\"white\"},\"hoverlabel\":{\"align\":\"left\"},\"hovermode\":\"closest\",\"mapbox\":{\"style\":\"light\"},\"paper_bgcolor\":\"white\",\"plot_bgcolor\":\"#E5ECF6\",\"polar\":{\"angularaxis\":{\"gridcolor\":\"white\",\"linecolor\":\"white\",\"ticks\":\"\"},\"bgcolor\":\"#E5ECF6\",\"radialaxis\":{\"gridcolor\":\"white\",\"linecolor\":\"white\",\"ticks\":\"\"}},\"scene\":{\"xaxis\":{\"backgroundcolor\":\"#E5ECF6\",\"gridcolor\":\"white\",\"gridwidth\":2,\"linecolor\":\"white\",\"showbackground\":true,\"ticks\":\"\",\"zerolinecolor\":\"white\"},\"yaxis\":{\"backgroundcolor\":\"#E5ECF6\",\"gridcolor\":\"white\",\"gridwidth\":2,\"linecolor\":\"white\",\"showbackground\":true,\"ticks\":\"\",\"zerolinecolor\":\"white\"},\"zaxis\":{\"backgroundcolor\":\"#E5ECF6\",\"gridcolor\":\"white\",\"gridwidth\":2,\"linecolor\":\"white\",\"showbackground\":true,\"ticks\":\"\",\"zerolinecolor\":\"white\"}},\"shapedefaults\":{\"line\":{\"color\":\"#2a3f5f\"}},\"ternary\":{\"aaxis\":{\"gridcolor\":\"white\",\"linecolor\":\"white\",\"ticks\":\"\"},\"baxis\":{\"gridcolor\":\"white\",\"linecolor\":\"white\",\"ticks\":\"\"},\"bgcolor\":\"#E5ECF6\",\"caxis\":{\"gridcolor\":\"white\",\"linecolor\":\"white\",\"ticks\":\"\"}},\"title\":{\"x\":0.05},\"xaxis\":{\"automargin\":true,\"gridcolor\":\"white\",\"linecolor\":\"white\",\"ticks\":\"\",\"title\":{\"standoff\":15},\"zerolinecolor\":\"white\",\"zerolinewidth\":2},\"yaxis\":{\"automargin\":true,\"gridcolor\":\"white\",\"linecolor\":\"white\",\"ticks\":\"\",\"title\":{\"standoff\":15},\"zerolinecolor\":\"white\",\"zerolinewidth\":2}}},\"title\":{\"font\":{\"color\":\"#4D5663\"}},\"xaxis\":{\"gridcolor\":\"#E1E5ED\",\"showgrid\":true,\"tickfont\":{\"color\":\"#4D5663\"},\"title\":{\"font\":{\"color\":\"#4D5663\"},\"text\":\"\"},\"zerolinecolor\":\"#E1E5ED\"},\"yaxis\":{\"gridcolor\":\"#E1E5ED\",\"showgrid\":true,\"tickfont\":{\"color\":\"#4D5663\"},\"title\":{\"font\":{\"color\":\"#4D5663\"},\"text\":\"\"},\"zerolinecolor\":\"#E1E5ED\"}},                        {\"showLink\": true, \"linkText\": \"Export to plot.ly\", \"plotlyServerURL\": \"https://plot.ly\", \"responsive\": true}                    ).then(function(){\n",
       "                            \n",
       "var gd = document.getElementById('31bb9ec5-54fc-4a71-b15f-e49f5f1d5f37');\n",
       "var x = new MutationObserver(function (mutations, observer) {{\n",
       "        var display = window.getComputedStyle(gd).display;\n",
       "        if (!display || display === 'none') {{\n",
       "            console.log([gd, 'removed!']);\n",
       "            Plotly.purge(gd);\n",
       "            observer.disconnect();\n",
       "        }}\n",
       "}});\n",
       "\n",
       "// Listen for the removal of the full notebook cells\n",
       "var notebookContainer = gd.closest('#notebook-container');\n",
       "if (notebookContainer) {{\n",
       "    x.observe(notebookContainer, {childList: true});\n",
       "}}\n",
       "\n",
       "// Listen for the clearing of the current output cell\n",
       "var outputEl = gd.closest('.output');\n",
       "if (outputEl) {{\n",
       "    x.observe(outputEl, {childList: true});\n",
       "}}\n",
       "\n",
       "                        })                };                });            </script>        </div>"
      ]
     },
     "metadata": {},
     "output_type": "display_data"
    }
   ],
   "source": [
    "df['A'].iplot(kind='hist', bins=50)"
   ]
  },
  {
   "cell_type": "code",
   "execution_count": 36,
   "id": "883fe9c0",
   "metadata": {},
   "outputs": [
    {
     "data": {
      "application/vnd.plotly.v1+json": {
       "config": {
        "linkText": "Export to plot.ly",
        "plotlyServerURL": "https://plot.ly",
        "showLink": true
       },
       "data": [
        {
         "histfunc": "count",
         "histnorm": "",
         "marker": {
          "color": "rgba(255, 153, 51, 1.0)",
          "line": {
           "color": "#4D5663",
           "width": 1.3
          }
         },
         "name": "A",
         "nbinsx": 50,
         "opacity": 0.8,
         "orientation": "v",
         "type": "histogram",
         "x": [
          0.9634623893766167,
          -0.12055224845819004,
          0.25008154086228296,
          -0.5013143806434255,
          0.1292844937472286,
          0.4044071864470786,
          -2.0771930414556183,
          -0.020426006358398602,
          0.3849191710124318,
          0.879707817390476,
          -0.9431858876910261,
          -0.7490253238236118,
          0.5924697035901231,
          -1.3940933638268622,
          -0.5719377462453421,
          0.0075937045045873,
          -1.4481325040064896,
          0.21700524462166149,
          -0.1395825213548501,
          -0.24991568489512242,
          0.29452568252983163,
          -0.7905644371689067,
          -0.2997690889834603,
          0.21384176348726486,
          0.08658516570981084,
          0.7454032185178966,
          -0.6281603258099894,
          0.46180435642701845,
          -0.4178004985683218,
          -0.35630133871786407,
          -1.2112066150479495,
          -0.9726056889327593,
          -0.1005023860363253,
          1.0040648633325953,
          -1.0629923769941325,
          2.47531773691314,
          -0.04824382074826237,
          1.7025776795476604,
          -1.236548662174602,
          0.39866376082116467,
          1.333415614245502,
          0.0766655986802566,
          -0.33317061992034,
          -0.07328513704307903,
          0.37972060484157116,
          0.6522436929759483,
          0.8908762959506643,
          -0.41150485447839996,
          -0.3911042477094948,
          -1.7445372379275699,
          0.023978803372944477,
          -0.17442305395410349,
          0.25819460285665935,
          0.4944620618569529,
          -0.5834284135317452,
          -0.3240544301618898,
          -1.5444815784266575,
          -0.4776289313257464,
          0.06945397679857637,
          -0.4278386106429362,
          1.2522658559296482,
          -0.8812452740221121,
          -0.8221355096056416,
          -0.18782134308689513,
          1.8206332470536457,
          -0.6879560063978835,
          1.241741050078539,
          -2.7408858865027486,
          -0.4980842707106779,
          -0.9645117851028521,
          -0.12349607696101607,
          0.14719778655961077,
          -0.3022218597739041,
          0.6471150042134444,
          0.4721020856800413,
          -1.0353926818229156,
          1.3229382115515267,
          -1.2156788535049665,
          0.7614711874891931,
          -0.9013858317983743,
          -1.003047554190563,
          1.1696861418828624,
          0.0390968088724639,
          -0.4260054156967536,
          1.091606297176759,
          1.2036536169313206,
          -0.4427686249514626,
          1.4585873222111359,
          -0.270091310882172,
          0.17838137496146925,
          1.1533524775428632,
          0.5561949849702105,
          0.18208084487524875,
          0.26219091894703034,
          0.7582266638205611,
          0.3703636490699679,
          -0.5948913443755864,
          0.34613627097324257,
          0.07431556715271147,
          -1.2472512715902513
         ]
        },
        {
         "histfunc": "count",
         "histnorm": "",
         "marker": {
          "color": "rgba(55, 128, 191, 1.0)",
          "line": {
           "color": "#4D5663",
           "width": 1.3
          }
         },
         "name": "B",
         "nbinsx": 50,
         "opacity": 0.8,
         "orientation": "v",
         "type": "histogram",
         "x": [
          -0.09147954299523928,
          -1.7385508624690544,
          0.9221586878268342,
          -1.0931631569009221,
          0.3314050081963957,
          -1.6860350043840182,
          0.12957115351750878,
          0.5282594700664602,
          -1.724213141676408,
          -0.5551485134413877,
          0.01099836125675915,
          -1.8479965901671493,
          1.3048716149407638,
          -0.47126362237465713,
          0.30461274408286604,
          -0.3624930124832195,
          -0.12427109577985897,
          1.0458392895428787,
          -1.0772505081410064,
          0.956187500896724,
          -0.5134093195098551,
          1.003191182736705,
          1.0054421492812542,
          0.7444342301762672,
          0.9717048416109594,
          -0.5862903672126797,
          1.1402320163276554,
          -0.07586206865034092,
          -1.3020079599314847,
          -1.5532090620038983,
          0.8063276508119176,
          -1.190267123383816,
          -0.45573398022926986,
          0.2492173650282826,
          0.042545897664883724,
          -0.5394012540380726,
          -0.8710337885007717,
          0.27070058032527144,
          1.502715551599413,
          -0.6133569085524814,
          0.7716091967711711,
          -0.844375266511973,
          1.014272863942356,
          1.283227843583457,
          0.5405202955362597,
          0.26670175488612397,
          0.7101520294582939,
          2.07484318757425,
          0.6160923809193212,
          -0.7621923610184558,
          -0.7409270577875984,
          -0.8944055555394634,
          -0.8504280755637271,
          -1.0335914311595302,
          2.1436511287416486,
          0.2941595400966851,
          -1.2670997292914403,
          1.6747192059627178,
          -0.4549685653946752,
          -1.4261740159930605,
          0.2860098578963224,
          -0.6896865460661573,
          0.058011235562708846,
          -1.408955244083918,
          -0.20902752485155054,
          -0.30808010437819333,
          -0.22554007253720418,
          -0.012289759543897499,
          1.1978357038826355,
          0.8808992432676263,
          -0.1577267481768039,
          -0.7663712262064384,
          -1.47674134732821,
          0.48303599341467285,
          0.7484100962354236,
          0.6199214404930379,
          -0.09192405598441374,
          0.5300093476958286,
          1.2785791208003725,
          0.9358425653510516,
          -0.5925670749165277,
          -0.20166372582262201,
          -1.096850817122355,
          -1.0932450615263414,
          0.424315413305436,
          -0.0926162788765071,
          -0.20069809653638093,
          0.9772930851080682,
          0.26386815140631265,
          1.3874266245301734,
          -0.9248958944644438,
          0.17201496834833183,
          -0.9048757219799238,
          0.4288879111931887,
          -0.36738707307769375,
          0.7472144095556358,
          2.272295759735388,
          0.877225373172687,
          -0.4378174124395575,
          -1.1585312621617012
         ]
        },
        {
         "histfunc": "count",
         "histnorm": "",
         "marker": {
          "color": "rgba(50, 171, 96, 1.0)",
          "line": {
           "color": "#4D5663",
           "width": 1.3
          }
         },
         "name": "C",
         "nbinsx": 50,
         "opacity": 0.8,
         "orientation": "v",
         "type": "histogram",
         "x": [
          -0.18464066753779282,
          -1.837509230436605,
          -1.428226235955854,
          -0.19269172454292138,
          -0.09861805876725806,
          -0.6270474301800498,
          -0.07744172305750369,
          -1.3171709649992867,
          0.3896777388807655,
          -0.43291268819866346,
          -1.4752633555225647,
          0.6205395497448952,
          0.26174678012019625,
          0.01079237860016229,
          -0.2932546818019788,
          -0.48818618846841627,
          0.5617576021169364,
          -0.10709881717918422,
          1.1519827392437467,
          0.9003224007732287,
          -1.5676773430795874,
          0.6894923534228223,
          1.4037403210797081,
          -1.51277369058372,
          -0.1508289354292569,
          -1.4432952379527717,
          0.5570755511116148,
          0.14900020795773572,
          -1.0001189121750071,
          -1.3044512140273399,
          0.3862759814637888,
          -0.4188065597005142,
          0.6122983282252088,
          -0.45022406204096216,
          0.9024150719815782,
          0.32213695888356175,
          -0.15675623893701282,
          0.8809068586130961,
          1.053099326359383,
          -0.318492866646178,
          -0.0076614351279544884,
          0.7126223385047062,
          -0.014602804125976686,
          -1.1595424459621422,
          0.8417691791674425,
          -0.19056738474754467,
          2.0412416781683436,
          1.0076319937541325,
          0.7837616214918188,
          0.18988887593466647,
          -0.8149264277747987,
          0.03359639349157924,
          0.44510793187142755,
          0.8045401623710499,
          1.3954190768525638,
          -0.29477428779041814,
          -1.780670974511907,
          0.8199538360869015,
          0.1501494594895702,
          -1.2428346796666963,
          -0.9933306702583978,
          -0.22839952302186403,
          -0.18970102502483172,
          0.48491976220493826,
          0.9357894463118495,
          -1.0560773276372402,
          0.6605859438226847,
          0.8164952220723438,
          0.24509061408222765,
          -0.047949085699612044,
          -0.4730271905747123,
          1.0818437167773567,
          0.18090244215906,
          0.5167874447229025,
          -0.7461192427167384,
          1.104831725043291,
          2.6374468148273453,
          -0.6262404970069213,
          -0.3409569593914698,
          0.2967846166705076,
          0.6172402964404274,
          1.051005691693931,
          1.2841478727772049,
          1.2101133641665631,
          -0.6929839670049587,
          1.328023523948433,
          -0.08738999598215914,
          -1.2842310481852168,
          -0.277226890455086,
          -2.021620617412835,
          0.36565077821684056,
          -0.9215339827069383,
          3.2246408543883303,
          0.9952976646593267,
          0.011044725316802291,
          1.5643094453430852,
          -1.1147105963937614,
          0.6144647744747028,
          -2.008129911047966,
          1.940990359664634
         ]
        },
        {
         "histfunc": "count",
         "histnorm": "",
         "marker": {
          "color": "rgba(128, 0, 128, 1.0)",
          "line": {
           "color": "#4D5663",
           "width": 1.3
          }
         },
         "name": "D",
         "nbinsx": 50,
         "opacity": 0.8,
         "orientation": "v",
         "type": "histogram",
         "x": [
          -0.08512206312857473,
          1.486407132031537,
          0.1887236175934673,
          -0.6587370788072245,
          0.8021640273677891,
          0.5443892263293457,
          0.20834514920619607,
          -0.07206935499983638,
          -0.26818936472631943,
          0.14810415004951727,
          -0.558910061751106,
          -1.2361499328435568,
          -0.6171150192321198,
          -0.6312618538076438,
          -0.38342528640093754,
          -1.1290014540447832,
          0.23905590971250462,
          -1.2902692411105796,
          1.6632798496327437,
          -0.035330081775259224,
          0.10073442495879993,
          2.0346952555840487,
          -0.6195135593211537,
          1.4765246380232582,
          1.7228897117841506,
          1.5394984261152216,
          0.6476726909051266,
          -0.5015479486651164,
          0.8778301434127571,
          0.1653730231310223,
          0.8597597904792134,
          1.2557685621328203,
          -1.677002311724053,
          -0.27642368508153675,
          -0.3733767434475656,
          -1.0063910776785316,
          0.03496993723532587,
          0.981777137735842,
          -0.4273572629003103,
          0.6760994725892184,
          -0.6277173191994817,
          0.14374538023070144,
          1.1023037704136809,
          0.39365451494717063,
          -0.13524838032017725,
          0.4652095890846506,
          0.10193721841647994,
          0.6314232804944321,
          -0.021969475349004307,
          2.6869789741262293,
          0.7763693310873739,
          1.8959559797534367,
          0.5808260466765565,
          -0.20287578750962781,
          1.6669053047351992,
          1.569415295256676,
          0.6469816481578303,
          0.9091471095088757,
          -0.42699564666425743,
          -1.6585842658061019,
          1.005712753595606,
          1.2298763821171592,
          -0.05502666707050185,
          -0.03903247214908511,
          -1.0556162689302442,
          -0.5463356036243555,
          -1.6557532965774253,
          -0.29611176119413807,
          0.47500785671078954,
          -0.4116662152492864,
          0.6800303562998444,
          1.4451912367366986,
          -1.2242056864119761,
          1.2079089216920498,
          -0.9627138431084818,
          -0.7173767763805619,
          -0.4552075860149596,
          -0.006063658365125847,
          1.6702570707356326,
          -0.1985989829236588,
          0.06420722035318865,
          -0.3979436277761738,
          -0.2517310168970227,
          2.8531515695969056,
          0.699188101188425,
          -0.08285848283918196,
          1.2288750254001923,
          -1.084786027751436,
          -0.27032731793271364,
          0.6757470731006939,
          -1.8120325092008889,
          -1.019320251168823,
          -0.31185859127294063,
          -1.4994503096134124,
          0.3907580059865929,
          1.0616677694035255,
          -1.7278263238982272,
          1.6384475295921113,
          -0.5737770052559245,
          0.7716445727847083
         ]
        }
       ],
       "layout": {
        "barmode": "overlay",
        "legend": {
         "bgcolor": "#F5F6F9",
         "font": {
          "color": "#4D5663"
         }
        },
        "paper_bgcolor": "#F5F6F9",
        "plot_bgcolor": "#F5F6F9",
        "template": {
         "data": {
          "bar": [
           {
            "error_x": {
             "color": "#2a3f5f"
            },
            "error_y": {
             "color": "#2a3f5f"
            },
            "marker": {
             "line": {
              "color": "#E5ECF6",
              "width": 0.5
             },
             "pattern": {
              "fillmode": "overlay",
              "size": 10,
              "solidity": 0.2
             }
            },
            "type": "bar"
           }
          ],
          "barpolar": [
           {
            "marker": {
             "line": {
              "color": "#E5ECF6",
              "width": 0.5
             },
             "pattern": {
              "fillmode": "overlay",
              "size": 10,
              "solidity": 0.2
             }
            },
            "type": "barpolar"
           }
          ],
          "carpet": [
           {
            "aaxis": {
             "endlinecolor": "#2a3f5f",
             "gridcolor": "white",
             "linecolor": "white",
             "minorgridcolor": "white",
             "startlinecolor": "#2a3f5f"
            },
            "baxis": {
             "endlinecolor": "#2a3f5f",
             "gridcolor": "white",
             "linecolor": "white",
             "minorgridcolor": "white",
             "startlinecolor": "#2a3f5f"
            },
            "type": "carpet"
           }
          ],
          "choropleth": [
           {
            "colorbar": {
             "outlinewidth": 0,
             "ticks": ""
            },
            "type": "choropleth"
           }
          ],
          "contour": [
           {
            "colorbar": {
             "outlinewidth": 0,
             "ticks": ""
            },
            "colorscale": [
             [
              0,
              "#0d0887"
             ],
             [
              0.1111111111111111,
              "#46039f"
             ],
             [
              0.2222222222222222,
              "#7201a8"
             ],
             [
              0.3333333333333333,
              "#9c179e"
             ],
             [
              0.4444444444444444,
              "#bd3786"
             ],
             [
              0.5555555555555556,
              "#d8576b"
             ],
             [
              0.6666666666666666,
              "#ed7953"
             ],
             [
              0.7777777777777778,
              "#fb9f3a"
             ],
             [
              0.8888888888888888,
              "#fdca26"
             ],
             [
              1,
              "#f0f921"
             ]
            ],
            "type": "contour"
           }
          ],
          "contourcarpet": [
           {
            "colorbar": {
             "outlinewidth": 0,
             "ticks": ""
            },
            "type": "contourcarpet"
           }
          ],
          "heatmap": [
           {
            "colorbar": {
             "outlinewidth": 0,
             "ticks": ""
            },
            "colorscale": [
             [
              0,
              "#0d0887"
             ],
             [
              0.1111111111111111,
              "#46039f"
             ],
             [
              0.2222222222222222,
              "#7201a8"
             ],
             [
              0.3333333333333333,
              "#9c179e"
             ],
             [
              0.4444444444444444,
              "#bd3786"
             ],
             [
              0.5555555555555556,
              "#d8576b"
             ],
             [
              0.6666666666666666,
              "#ed7953"
             ],
             [
              0.7777777777777778,
              "#fb9f3a"
             ],
             [
              0.8888888888888888,
              "#fdca26"
             ],
             [
              1,
              "#f0f921"
             ]
            ],
            "type": "heatmap"
           }
          ],
          "heatmapgl": [
           {
            "colorbar": {
             "outlinewidth": 0,
             "ticks": ""
            },
            "colorscale": [
             [
              0,
              "#0d0887"
             ],
             [
              0.1111111111111111,
              "#46039f"
             ],
             [
              0.2222222222222222,
              "#7201a8"
             ],
             [
              0.3333333333333333,
              "#9c179e"
             ],
             [
              0.4444444444444444,
              "#bd3786"
             ],
             [
              0.5555555555555556,
              "#d8576b"
             ],
             [
              0.6666666666666666,
              "#ed7953"
             ],
             [
              0.7777777777777778,
              "#fb9f3a"
             ],
             [
              0.8888888888888888,
              "#fdca26"
             ],
             [
              1,
              "#f0f921"
             ]
            ],
            "type": "heatmapgl"
           }
          ],
          "histogram": [
           {
            "marker": {
             "pattern": {
              "fillmode": "overlay",
              "size": 10,
              "solidity": 0.2
             }
            },
            "type": "histogram"
           }
          ],
          "histogram2d": [
           {
            "colorbar": {
             "outlinewidth": 0,
             "ticks": ""
            },
            "colorscale": [
             [
              0,
              "#0d0887"
             ],
             [
              0.1111111111111111,
              "#46039f"
             ],
             [
              0.2222222222222222,
              "#7201a8"
             ],
             [
              0.3333333333333333,
              "#9c179e"
             ],
             [
              0.4444444444444444,
              "#bd3786"
             ],
             [
              0.5555555555555556,
              "#d8576b"
             ],
             [
              0.6666666666666666,
              "#ed7953"
             ],
             [
              0.7777777777777778,
              "#fb9f3a"
             ],
             [
              0.8888888888888888,
              "#fdca26"
             ],
             [
              1,
              "#f0f921"
             ]
            ],
            "type": "histogram2d"
           }
          ],
          "histogram2dcontour": [
           {
            "colorbar": {
             "outlinewidth": 0,
             "ticks": ""
            },
            "colorscale": [
             [
              0,
              "#0d0887"
             ],
             [
              0.1111111111111111,
              "#46039f"
             ],
             [
              0.2222222222222222,
              "#7201a8"
             ],
             [
              0.3333333333333333,
              "#9c179e"
             ],
             [
              0.4444444444444444,
              "#bd3786"
             ],
             [
              0.5555555555555556,
              "#d8576b"
             ],
             [
              0.6666666666666666,
              "#ed7953"
             ],
             [
              0.7777777777777778,
              "#fb9f3a"
             ],
             [
              0.8888888888888888,
              "#fdca26"
             ],
             [
              1,
              "#f0f921"
             ]
            ],
            "type": "histogram2dcontour"
           }
          ],
          "mesh3d": [
           {
            "colorbar": {
             "outlinewidth": 0,
             "ticks": ""
            },
            "type": "mesh3d"
           }
          ],
          "parcoords": [
           {
            "line": {
             "colorbar": {
              "outlinewidth": 0,
              "ticks": ""
             }
            },
            "type": "parcoords"
           }
          ],
          "pie": [
           {
            "automargin": true,
            "type": "pie"
           }
          ],
          "scatter": [
           {
            "fillpattern": {
             "fillmode": "overlay",
             "size": 10,
             "solidity": 0.2
            },
            "type": "scatter"
           }
          ],
          "scatter3d": [
           {
            "line": {
             "colorbar": {
              "outlinewidth": 0,
              "ticks": ""
             }
            },
            "marker": {
             "colorbar": {
              "outlinewidth": 0,
              "ticks": ""
             }
            },
            "type": "scatter3d"
           }
          ],
          "scattercarpet": [
           {
            "marker": {
             "colorbar": {
              "outlinewidth": 0,
              "ticks": ""
             }
            },
            "type": "scattercarpet"
           }
          ],
          "scattergeo": [
           {
            "marker": {
             "colorbar": {
              "outlinewidth": 0,
              "ticks": ""
             }
            },
            "type": "scattergeo"
           }
          ],
          "scattergl": [
           {
            "marker": {
             "colorbar": {
              "outlinewidth": 0,
              "ticks": ""
             }
            },
            "type": "scattergl"
           }
          ],
          "scattermapbox": [
           {
            "marker": {
             "colorbar": {
              "outlinewidth": 0,
              "ticks": ""
             }
            },
            "type": "scattermapbox"
           }
          ],
          "scatterpolar": [
           {
            "marker": {
             "colorbar": {
              "outlinewidth": 0,
              "ticks": ""
             }
            },
            "type": "scatterpolar"
           }
          ],
          "scatterpolargl": [
           {
            "marker": {
             "colorbar": {
              "outlinewidth": 0,
              "ticks": ""
             }
            },
            "type": "scatterpolargl"
           }
          ],
          "scatterternary": [
           {
            "marker": {
             "colorbar": {
              "outlinewidth": 0,
              "ticks": ""
             }
            },
            "type": "scatterternary"
           }
          ],
          "surface": [
           {
            "colorbar": {
             "outlinewidth": 0,
             "ticks": ""
            },
            "colorscale": [
             [
              0,
              "#0d0887"
             ],
             [
              0.1111111111111111,
              "#46039f"
             ],
             [
              0.2222222222222222,
              "#7201a8"
             ],
             [
              0.3333333333333333,
              "#9c179e"
             ],
             [
              0.4444444444444444,
              "#bd3786"
             ],
             [
              0.5555555555555556,
              "#d8576b"
             ],
             [
              0.6666666666666666,
              "#ed7953"
             ],
             [
              0.7777777777777778,
              "#fb9f3a"
             ],
             [
              0.8888888888888888,
              "#fdca26"
             ],
             [
              1,
              "#f0f921"
             ]
            ],
            "type": "surface"
           }
          ],
          "table": [
           {
            "cells": {
             "fill": {
              "color": "#EBF0F8"
             },
             "line": {
              "color": "white"
             }
            },
            "header": {
             "fill": {
              "color": "#C8D4E3"
             },
             "line": {
              "color": "white"
             }
            },
            "type": "table"
           }
          ]
         },
         "layout": {
          "annotationdefaults": {
           "arrowcolor": "#2a3f5f",
           "arrowhead": 0,
           "arrowwidth": 1
          },
          "autotypenumbers": "strict",
          "coloraxis": {
           "colorbar": {
            "outlinewidth": 0,
            "ticks": ""
           }
          },
          "colorscale": {
           "diverging": [
            [
             0,
             "#8e0152"
            ],
            [
             0.1,
             "#c51b7d"
            ],
            [
             0.2,
             "#de77ae"
            ],
            [
             0.3,
             "#f1b6da"
            ],
            [
             0.4,
             "#fde0ef"
            ],
            [
             0.5,
             "#f7f7f7"
            ],
            [
             0.6,
             "#e6f5d0"
            ],
            [
             0.7,
             "#b8e186"
            ],
            [
             0.8,
             "#7fbc41"
            ],
            [
             0.9,
             "#4d9221"
            ],
            [
             1,
             "#276419"
            ]
           ],
           "sequential": [
            [
             0,
             "#0d0887"
            ],
            [
             0.1111111111111111,
             "#46039f"
            ],
            [
             0.2222222222222222,
             "#7201a8"
            ],
            [
             0.3333333333333333,
             "#9c179e"
            ],
            [
             0.4444444444444444,
             "#bd3786"
            ],
            [
             0.5555555555555556,
             "#d8576b"
            ],
            [
             0.6666666666666666,
             "#ed7953"
            ],
            [
             0.7777777777777778,
             "#fb9f3a"
            ],
            [
             0.8888888888888888,
             "#fdca26"
            ],
            [
             1,
             "#f0f921"
            ]
           ],
           "sequentialminus": [
            [
             0,
             "#0d0887"
            ],
            [
             0.1111111111111111,
             "#46039f"
            ],
            [
             0.2222222222222222,
             "#7201a8"
            ],
            [
             0.3333333333333333,
             "#9c179e"
            ],
            [
             0.4444444444444444,
             "#bd3786"
            ],
            [
             0.5555555555555556,
             "#d8576b"
            ],
            [
             0.6666666666666666,
             "#ed7953"
            ],
            [
             0.7777777777777778,
             "#fb9f3a"
            ],
            [
             0.8888888888888888,
             "#fdca26"
            ],
            [
             1,
             "#f0f921"
            ]
           ]
          },
          "colorway": [
           "#636efa",
           "#EF553B",
           "#00cc96",
           "#ab63fa",
           "#FFA15A",
           "#19d3f3",
           "#FF6692",
           "#B6E880",
           "#FF97FF",
           "#FECB52"
          ],
          "font": {
           "color": "#2a3f5f"
          },
          "geo": {
           "bgcolor": "white",
           "lakecolor": "white",
           "landcolor": "#E5ECF6",
           "showlakes": true,
           "showland": true,
           "subunitcolor": "white"
          },
          "hoverlabel": {
           "align": "left"
          },
          "hovermode": "closest",
          "mapbox": {
           "style": "light"
          },
          "paper_bgcolor": "white",
          "plot_bgcolor": "#E5ECF6",
          "polar": {
           "angularaxis": {
            "gridcolor": "white",
            "linecolor": "white",
            "ticks": ""
           },
           "bgcolor": "#E5ECF6",
           "radialaxis": {
            "gridcolor": "white",
            "linecolor": "white",
            "ticks": ""
           }
          },
          "scene": {
           "xaxis": {
            "backgroundcolor": "#E5ECF6",
            "gridcolor": "white",
            "gridwidth": 2,
            "linecolor": "white",
            "showbackground": true,
            "ticks": "",
            "zerolinecolor": "white"
           },
           "yaxis": {
            "backgroundcolor": "#E5ECF6",
            "gridcolor": "white",
            "gridwidth": 2,
            "linecolor": "white",
            "showbackground": true,
            "ticks": "",
            "zerolinecolor": "white"
           },
           "zaxis": {
            "backgroundcolor": "#E5ECF6",
            "gridcolor": "white",
            "gridwidth": 2,
            "linecolor": "white",
            "showbackground": true,
            "ticks": "",
            "zerolinecolor": "white"
           }
          },
          "shapedefaults": {
           "line": {
            "color": "#2a3f5f"
           }
          },
          "ternary": {
           "aaxis": {
            "gridcolor": "white",
            "linecolor": "white",
            "ticks": ""
           },
           "baxis": {
            "gridcolor": "white",
            "linecolor": "white",
            "ticks": ""
           },
           "bgcolor": "#E5ECF6",
           "caxis": {
            "gridcolor": "white",
            "linecolor": "white",
            "ticks": ""
           }
          },
          "title": {
           "x": 0.05
          },
          "xaxis": {
           "automargin": true,
           "gridcolor": "white",
           "linecolor": "white",
           "ticks": "",
           "title": {
            "standoff": 15
           },
           "zerolinecolor": "white",
           "zerolinewidth": 2
          },
          "yaxis": {
           "automargin": true,
           "gridcolor": "white",
           "linecolor": "white",
           "ticks": "",
           "title": {
            "standoff": 15
           },
           "zerolinecolor": "white",
           "zerolinewidth": 2
          }
         }
        },
        "title": {
         "font": {
          "color": "#4D5663"
         }
        },
        "xaxis": {
         "gridcolor": "#E1E5ED",
         "showgrid": true,
         "tickfont": {
          "color": "#4D5663"
         },
         "title": {
          "font": {
           "color": "#4D5663"
          },
          "text": ""
         },
         "zerolinecolor": "#E1E5ED"
        },
        "yaxis": {
         "gridcolor": "#E1E5ED",
         "showgrid": true,
         "tickfont": {
          "color": "#4D5663"
         },
         "title": {
          "font": {
           "color": "#4D5663"
          },
          "text": ""
         },
         "zerolinecolor": "#E1E5ED"
        }
       }
      },
      "text/html": [
       "<div>                            <div id=\"2d8a26dd-39eb-4f02-9b3f-2ba4f0a3ddb1\" class=\"plotly-graph-div\" style=\"height:525px; width:100%;\"></div>            <script type=\"text/javascript\">                require([\"plotly\"], function(Plotly) {                    window.PLOTLYENV=window.PLOTLYENV || {};\n",
       "                    window.PLOTLYENV.BASE_URL='https://plot.ly';                                    if (document.getElementById(\"2d8a26dd-39eb-4f02-9b3f-2ba4f0a3ddb1\")) {                    Plotly.newPlot(                        \"2d8a26dd-39eb-4f02-9b3f-2ba4f0a3ddb1\",                        [{\"histfunc\":\"count\",\"histnorm\":\"\",\"marker\":{\"color\":\"rgba(255, 153, 51, 1.0)\",\"line\":{\"color\":\"#4D5663\",\"width\":1.3}},\"name\":\"A\",\"nbinsx\":50,\"opacity\":0.8,\"orientation\":\"v\",\"x\":[0.9634623893766167,-0.12055224845819004,0.25008154086228296,-0.5013143806434255,0.1292844937472286,0.4044071864470786,-2.0771930414556183,-0.020426006358398602,0.3849191710124318,0.879707817390476,-0.9431858876910261,-0.7490253238236118,0.5924697035901231,-1.3940933638268622,-0.5719377462453421,0.0075937045045873,-1.4481325040064896,0.21700524462166149,-0.1395825213548501,-0.24991568489512242,0.29452568252983163,-0.7905644371689067,-0.2997690889834603,0.21384176348726486,0.08658516570981084,0.7454032185178966,-0.6281603258099894,0.46180435642701845,-0.4178004985683218,-0.35630133871786407,-1.2112066150479495,-0.9726056889327593,-0.1005023860363253,1.0040648633325953,-1.0629923769941325,2.47531773691314,-0.04824382074826237,1.7025776795476604,-1.236548662174602,0.39866376082116467,1.333415614245502,0.0766655986802566,-0.33317061992034,-0.07328513704307903,0.37972060484157116,0.6522436929759483,0.8908762959506643,-0.41150485447839996,-0.3911042477094948,-1.7445372379275699,0.023978803372944477,-0.17442305395410349,0.25819460285665935,0.4944620618569529,-0.5834284135317452,-0.3240544301618898,-1.5444815784266575,-0.4776289313257464,0.06945397679857637,-0.4278386106429362,1.2522658559296482,-0.8812452740221121,-0.8221355096056416,-0.18782134308689513,1.8206332470536457,-0.6879560063978835,1.241741050078539,-2.7408858865027486,-0.4980842707106779,-0.9645117851028521,-0.12349607696101607,0.14719778655961077,-0.3022218597739041,0.6471150042134444,0.4721020856800413,-1.0353926818229156,1.3229382115515267,-1.2156788535049665,0.7614711874891931,-0.9013858317983743,-1.003047554190563,1.1696861418828624,0.0390968088724639,-0.4260054156967536,1.091606297176759,1.2036536169313206,-0.4427686249514626,1.4585873222111359,-0.270091310882172,0.17838137496146925,1.1533524775428632,0.5561949849702105,0.18208084487524875,0.26219091894703034,0.7582266638205611,0.3703636490699679,-0.5948913443755864,0.34613627097324257,0.07431556715271147,-1.2472512715902513],\"type\":\"histogram\"},{\"histfunc\":\"count\",\"histnorm\":\"\",\"marker\":{\"color\":\"rgba(55, 128, 191, 1.0)\",\"line\":{\"color\":\"#4D5663\",\"width\":1.3}},\"name\":\"B\",\"nbinsx\":50,\"opacity\":0.8,\"orientation\":\"v\",\"x\":[-0.09147954299523928,-1.7385508624690544,0.9221586878268342,-1.0931631569009221,0.3314050081963957,-1.6860350043840182,0.12957115351750878,0.5282594700664602,-1.724213141676408,-0.5551485134413877,0.01099836125675915,-1.8479965901671493,1.3048716149407638,-0.47126362237465713,0.30461274408286604,-0.3624930124832195,-0.12427109577985897,1.0458392895428787,-1.0772505081410064,0.956187500896724,-0.5134093195098551,1.003191182736705,1.0054421492812542,0.7444342301762672,0.9717048416109594,-0.5862903672126797,1.1402320163276554,-0.07586206865034092,-1.3020079599314847,-1.5532090620038983,0.8063276508119176,-1.190267123383816,-0.45573398022926986,0.2492173650282826,0.042545897664883724,-0.5394012540380726,-0.8710337885007717,0.27070058032527144,1.502715551599413,-0.6133569085524814,0.7716091967711711,-0.844375266511973,1.014272863942356,1.283227843583457,0.5405202955362597,0.26670175488612397,0.7101520294582939,2.07484318757425,0.6160923809193212,-0.7621923610184558,-0.7409270577875984,-0.8944055555394634,-0.8504280755637271,-1.0335914311595302,2.1436511287416486,0.2941595400966851,-1.2670997292914403,1.6747192059627178,-0.4549685653946752,-1.4261740159930605,0.2860098578963224,-0.6896865460661573,0.058011235562708846,-1.408955244083918,-0.20902752485155054,-0.30808010437819333,-0.22554007253720418,-0.012289759543897499,1.1978357038826355,0.8808992432676263,-0.1577267481768039,-0.7663712262064384,-1.47674134732821,0.48303599341467285,0.7484100962354236,0.6199214404930379,-0.09192405598441374,0.5300093476958286,1.2785791208003725,0.9358425653510516,-0.5925670749165277,-0.20166372582262201,-1.096850817122355,-1.0932450615263414,0.424315413305436,-0.0926162788765071,-0.20069809653638093,0.9772930851080682,0.26386815140631265,1.3874266245301734,-0.9248958944644438,0.17201496834833183,-0.9048757219799238,0.4288879111931887,-0.36738707307769375,0.7472144095556358,2.272295759735388,0.877225373172687,-0.4378174124395575,-1.1585312621617012],\"type\":\"histogram\"},{\"histfunc\":\"count\",\"histnorm\":\"\",\"marker\":{\"color\":\"rgba(50, 171, 96, 1.0)\",\"line\":{\"color\":\"#4D5663\",\"width\":1.3}},\"name\":\"C\",\"nbinsx\":50,\"opacity\":0.8,\"orientation\":\"v\",\"x\":[-0.18464066753779282,-1.837509230436605,-1.428226235955854,-0.19269172454292138,-0.09861805876725806,-0.6270474301800498,-0.07744172305750369,-1.3171709649992867,0.3896777388807655,-0.43291268819866346,-1.4752633555225647,0.6205395497448952,0.26174678012019625,0.01079237860016229,-0.2932546818019788,-0.48818618846841627,0.5617576021169364,-0.10709881717918422,1.1519827392437467,0.9003224007732287,-1.5676773430795874,0.6894923534228223,1.4037403210797081,-1.51277369058372,-0.1508289354292569,-1.4432952379527717,0.5570755511116148,0.14900020795773572,-1.0001189121750071,-1.3044512140273399,0.3862759814637888,-0.4188065597005142,0.6122983282252088,-0.45022406204096216,0.9024150719815782,0.32213695888356175,-0.15675623893701282,0.8809068586130961,1.053099326359383,-0.318492866646178,-0.0076614351279544884,0.7126223385047062,-0.014602804125976686,-1.1595424459621422,0.8417691791674425,-0.19056738474754467,2.0412416781683436,1.0076319937541325,0.7837616214918188,0.18988887593466647,-0.8149264277747987,0.03359639349157924,0.44510793187142755,0.8045401623710499,1.3954190768525638,-0.29477428779041814,-1.780670974511907,0.8199538360869015,0.1501494594895702,-1.2428346796666963,-0.9933306702583978,-0.22839952302186403,-0.18970102502483172,0.48491976220493826,0.9357894463118495,-1.0560773276372402,0.6605859438226847,0.8164952220723438,0.24509061408222765,-0.047949085699612044,-0.4730271905747123,1.0818437167773567,0.18090244215906,0.5167874447229025,-0.7461192427167384,1.104831725043291,2.6374468148273453,-0.6262404970069213,-0.3409569593914698,0.2967846166705076,0.6172402964404274,1.051005691693931,1.2841478727772049,1.2101133641665631,-0.6929839670049587,1.328023523948433,-0.08738999598215914,-1.2842310481852168,-0.277226890455086,-2.021620617412835,0.36565077821684056,-0.9215339827069383,3.2246408543883303,0.9952976646593267,0.011044725316802291,1.5643094453430852,-1.1147105963937614,0.6144647744747028,-2.008129911047966,1.940990359664634],\"type\":\"histogram\"},{\"histfunc\":\"count\",\"histnorm\":\"\",\"marker\":{\"color\":\"rgba(128, 0, 128, 1.0)\",\"line\":{\"color\":\"#4D5663\",\"width\":1.3}},\"name\":\"D\",\"nbinsx\":50,\"opacity\":0.8,\"orientation\":\"v\",\"x\":[-0.08512206312857473,1.486407132031537,0.1887236175934673,-0.6587370788072245,0.8021640273677891,0.5443892263293457,0.20834514920619607,-0.07206935499983638,-0.26818936472631943,0.14810415004951727,-0.558910061751106,-1.2361499328435568,-0.6171150192321198,-0.6312618538076438,-0.38342528640093754,-1.1290014540447832,0.23905590971250462,-1.2902692411105796,1.6632798496327437,-0.035330081775259224,0.10073442495879993,2.0346952555840487,-0.6195135593211537,1.4765246380232582,1.7228897117841506,1.5394984261152216,0.6476726909051266,-0.5015479486651164,0.8778301434127571,0.1653730231310223,0.8597597904792134,1.2557685621328203,-1.677002311724053,-0.27642368508153675,-0.3733767434475656,-1.0063910776785316,0.03496993723532587,0.981777137735842,-0.4273572629003103,0.6760994725892184,-0.6277173191994817,0.14374538023070144,1.1023037704136809,0.39365451494717063,-0.13524838032017725,0.4652095890846506,0.10193721841647994,0.6314232804944321,-0.021969475349004307,2.6869789741262293,0.7763693310873739,1.8959559797534367,0.5808260466765565,-0.20287578750962781,1.6669053047351992,1.569415295256676,0.6469816481578303,0.9091471095088757,-0.42699564666425743,-1.6585842658061019,1.005712753595606,1.2298763821171592,-0.05502666707050185,-0.03903247214908511,-1.0556162689302442,-0.5463356036243555,-1.6557532965774253,-0.29611176119413807,0.47500785671078954,-0.4116662152492864,0.6800303562998444,1.4451912367366986,-1.2242056864119761,1.2079089216920498,-0.9627138431084818,-0.7173767763805619,-0.4552075860149596,-0.006063658365125847,1.6702570707356326,-0.1985989829236588,0.06420722035318865,-0.3979436277761738,-0.2517310168970227,2.8531515695969056,0.699188101188425,-0.08285848283918196,1.2288750254001923,-1.084786027751436,-0.27032731793271364,0.6757470731006939,-1.8120325092008889,-1.019320251168823,-0.31185859127294063,-1.4994503096134124,0.3907580059865929,1.0616677694035255,-1.7278263238982272,1.6384475295921113,-0.5737770052559245,0.7716445727847083],\"type\":\"histogram\"}],                        {\"barmode\":\"overlay\",\"legend\":{\"bgcolor\":\"#F5F6F9\",\"font\":{\"color\":\"#4D5663\"}},\"paper_bgcolor\":\"#F5F6F9\",\"plot_bgcolor\":\"#F5F6F9\",\"template\":{\"data\":{\"barpolar\":[{\"marker\":{\"line\":{\"color\":\"#E5ECF6\",\"width\":0.5},\"pattern\":{\"fillmode\":\"overlay\",\"size\":10,\"solidity\":0.2}},\"type\":\"barpolar\"}],\"bar\":[{\"error_x\":{\"color\":\"#2a3f5f\"},\"error_y\":{\"color\":\"#2a3f5f\"},\"marker\":{\"line\":{\"color\":\"#E5ECF6\",\"width\":0.5},\"pattern\":{\"fillmode\":\"overlay\",\"size\":10,\"solidity\":0.2}},\"type\":\"bar\"}],\"carpet\":[{\"aaxis\":{\"endlinecolor\":\"#2a3f5f\",\"gridcolor\":\"white\",\"linecolor\":\"white\",\"minorgridcolor\":\"white\",\"startlinecolor\":\"#2a3f5f\"},\"baxis\":{\"endlinecolor\":\"#2a3f5f\",\"gridcolor\":\"white\",\"linecolor\":\"white\",\"minorgridcolor\":\"white\",\"startlinecolor\":\"#2a3f5f\"},\"type\":\"carpet\"}],\"choropleth\":[{\"colorbar\":{\"outlinewidth\":0,\"ticks\":\"\"},\"type\":\"choropleth\"}],\"contourcarpet\":[{\"colorbar\":{\"outlinewidth\":0,\"ticks\":\"\"},\"type\":\"contourcarpet\"}],\"contour\":[{\"colorbar\":{\"outlinewidth\":0,\"ticks\":\"\"},\"colorscale\":[[0.0,\"#0d0887\"],[0.1111111111111111,\"#46039f\"],[0.2222222222222222,\"#7201a8\"],[0.3333333333333333,\"#9c179e\"],[0.4444444444444444,\"#bd3786\"],[0.5555555555555556,\"#d8576b\"],[0.6666666666666666,\"#ed7953\"],[0.7777777777777778,\"#fb9f3a\"],[0.8888888888888888,\"#fdca26\"],[1.0,\"#f0f921\"]],\"type\":\"contour\"}],\"heatmapgl\":[{\"colorbar\":{\"outlinewidth\":0,\"ticks\":\"\"},\"colorscale\":[[0.0,\"#0d0887\"],[0.1111111111111111,\"#46039f\"],[0.2222222222222222,\"#7201a8\"],[0.3333333333333333,\"#9c179e\"],[0.4444444444444444,\"#bd3786\"],[0.5555555555555556,\"#d8576b\"],[0.6666666666666666,\"#ed7953\"],[0.7777777777777778,\"#fb9f3a\"],[0.8888888888888888,\"#fdca26\"],[1.0,\"#f0f921\"]],\"type\":\"heatmapgl\"}],\"heatmap\":[{\"colorbar\":{\"outlinewidth\":0,\"ticks\":\"\"},\"colorscale\":[[0.0,\"#0d0887\"],[0.1111111111111111,\"#46039f\"],[0.2222222222222222,\"#7201a8\"],[0.3333333333333333,\"#9c179e\"],[0.4444444444444444,\"#bd3786\"],[0.5555555555555556,\"#d8576b\"],[0.6666666666666666,\"#ed7953\"],[0.7777777777777778,\"#fb9f3a\"],[0.8888888888888888,\"#fdca26\"],[1.0,\"#f0f921\"]],\"type\":\"heatmap\"}],\"histogram2dcontour\":[{\"colorbar\":{\"outlinewidth\":0,\"ticks\":\"\"},\"colorscale\":[[0.0,\"#0d0887\"],[0.1111111111111111,\"#46039f\"],[0.2222222222222222,\"#7201a8\"],[0.3333333333333333,\"#9c179e\"],[0.4444444444444444,\"#bd3786\"],[0.5555555555555556,\"#d8576b\"],[0.6666666666666666,\"#ed7953\"],[0.7777777777777778,\"#fb9f3a\"],[0.8888888888888888,\"#fdca26\"],[1.0,\"#f0f921\"]],\"type\":\"histogram2dcontour\"}],\"histogram2d\":[{\"colorbar\":{\"outlinewidth\":0,\"ticks\":\"\"},\"colorscale\":[[0.0,\"#0d0887\"],[0.1111111111111111,\"#46039f\"],[0.2222222222222222,\"#7201a8\"],[0.3333333333333333,\"#9c179e\"],[0.4444444444444444,\"#bd3786\"],[0.5555555555555556,\"#d8576b\"],[0.6666666666666666,\"#ed7953\"],[0.7777777777777778,\"#fb9f3a\"],[0.8888888888888888,\"#fdca26\"],[1.0,\"#f0f921\"]],\"type\":\"histogram2d\"}],\"histogram\":[{\"marker\":{\"pattern\":{\"fillmode\":\"overlay\",\"size\":10,\"solidity\":0.2}},\"type\":\"histogram\"}],\"mesh3d\":[{\"colorbar\":{\"outlinewidth\":0,\"ticks\":\"\"},\"type\":\"mesh3d\"}],\"parcoords\":[{\"line\":{\"colorbar\":{\"outlinewidth\":0,\"ticks\":\"\"}},\"type\":\"parcoords\"}],\"pie\":[{\"automargin\":true,\"type\":\"pie\"}],\"scatter3d\":[{\"line\":{\"colorbar\":{\"outlinewidth\":0,\"ticks\":\"\"}},\"marker\":{\"colorbar\":{\"outlinewidth\":0,\"ticks\":\"\"}},\"type\":\"scatter3d\"}],\"scattercarpet\":[{\"marker\":{\"colorbar\":{\"outlinewidth\":0,\"ticks\":\"\"}},\"type\":\"scattercarpet\"}],\"scattergeo\":[{\"marker\":{\"colorbar\":{\"outlinewidth\":0,\"ticks\":\"\"}},\"type\":\"scattergeo\"}],\"scattergl\":[{\"marker\":{\"colorbar\":{\"outlinewidth\":0,\"ticks\":\"\"}},\"type\":\"scattergl\"}],\"scattermapbox\":[{\"marker\":{\"colorbar\":{\"outlinewidth\":0,\"ticks\":\"\"}},\"type\":\"scattermapbox\"}],\"scatterpolargl\":[{\"marker\":{\"colorbar\":{\"outlinewidth\":0,\"ticks\":\"\"}},\"type\":\"scatterpolargl\"}],\"scatterpolar\":[{\"marker\":{\"colorbar\":{\"outlinewidth\":0,\"ticks\":\"\"}},\"type\":\"scatterpolar\"}],\"scatter\":[{\"fillpattern\":{\"fillmode\":\"overlay\",\"size\":10,\"solidity\":0.2},\"type\":\"scatter\"}],\"scatterternary\":[{\"marker\":{\"colorbar\":{\"outlinewidth\":0,\"ticks\":\"\"}},\"type\":\"scatterternary\"}],\"surface\":[{\"colorbar\":{\"outlinewidth\":0,\"ticks\":\"\"},\"colorscale\":[[0.0,\"#0d0887\"],[0.1111111111111111,\"#46039f\"],[0.2222222222222222,\"#7201a8\"],[0.3333333333333333,\"#9c179e\"],[0.4444444444444444,\"#bd3786\"],[0.5555555555555556,\"#d8576b\"],[0.6666666666666666,\"#ed7953\"],[0.7777777777777778,\"#fb9f3a\"],[0.8888888888888888,\"#fdca26\"],[1.0,\"#f0f921\"]],\"type\":\"surface\"}],\"table\":[{\"cells\":{\"fill\":{\"color\":\"#EBF0F8\"},\"line\":{\"color\":\"white\"}},\"header\":{\"fill\":{\"color\":\"#C8D4E3\"},\"line\":{\"color\":\"white\"}},\"type\":\"table\"}]},\"layout\":{\"annotationdefaults\":{\"arrowcolor\":\"#2a3f5f\",\"arrowhead\":0,\"arrowwidth\":1},\"autotypenumbers\":\"strict\",\"coloraxis\":{\"colorbar\":{\"outlinewidth\":0,\"ticks\":\"\"}},\"colorscale\":{\"diverging\":[[0,\"#8e0152\"],[0.1,\"#c51b7d\"],[0.2,\"#de77ae\"],[0.3,\"#f1b6da\"],[0.4,\"#fde0ef\"],[0.5,\"#f7f7f7\"],[0.6,\"#e6f5d0\"],[0.7,\"#b8e186\"],[0.8,\"#7fbc41\"],[0.9,\"#4d9221\"],[1,\"#276419\"]],\"sequential\":[[0.0,\"#0d0887\"],[0.1111111111111111,\"#46039f\"],[0.2222222222222222,\"#7201a8\"],[0.3333333333333333,\"#9c179e\"],[0.4444444444444444,\"#bd3786\"],[0.5555555555555556,\"#d8576b\"],[0.6666666666666666,\"#ed7953\"],[0.7777777777777778,\"#fb9f3a\"],[0.8888888888888888,\"#fdca26\"],[1.0,\"#f0f921\"]],\"sequentialminus\":[[0.0,\"#0d0887\"],[0.1111111111111111,\"#46039f\"],[0.2222222222222222,\"#7201a8\"],[0.3333333333333333,\"#9c179e\"],[0.4444444444444444,\"#bd3786\"],[0.5555555555555556,\"#d8576b\"],[0.6666666666666666,\"#ed7953\"],[0.7777777777777778,\"#fb9f3a\"],[0.8888888888888888,\"#fdca26\"],[1.0,\"#f0f921\"]]},\"colorway\":[\"#636efa\",\"#EF553B\",\"#00cc96\",\"#ab63fa\",\"#FFA15A\",\"#19d3f3\",\"#FF6692\",\"#B6E880\",\"#FF97FF\",\"#FECB52\"],\"font\":{\"color\":\"#2a3f5f\"},\"geo\":{\"bgcolor\":\"white\",\"lakecolor\":\"white\",\"landcolor\":\"#E5ECF6\",\"showlakes\":true,\"showland\":true,\"subunitcolor\":\"white\"},\"hoverlabel\":{\"align\":\"left\"},\"hovermode\":\"closest\",\"mapbox\":{\"style\":\"light\"},\"paper_bgcolor\":\"white\",\"plot_bgcolor\":\"#E5ECF6\",\"polar\":{\"angularaxis\":{\"gridcolor\":\"white\",\"linecolor\":\"white\",\"ticks\":\"\"},\"bgcolor\":\"#E5ECF6\",\"radialaxis\":{\"gridcolor\":\"white\",\"linecolor\":\"white\",\"ticks\":\"\"}},\"scene\":{\"xaxis\":{\"backgroundcolor\":\"#E5ECF6\",\"gridcolor\":\"white\",\"gridwidth\":2,\"linecolor\":\"white\",\"showbackground\":true,\"ticks\":\"\",\"zerolinecolor\":\"white\"},\"yaxis\":{\"backgroundcolor\":\"#E5ECF6\",\"gridcolor\":\"white\",\"gridwidth\":2,\"linecolor\":\"white\",\"showbackground\":true,\"ticks\":\"\",\"zerolinecolor\":\"white\"},\"zaxis\":{\"backgroundcolor\":\"#E5ECF6\",\"gridcolor\":\"white\",\"gridwidth\":2,\"linecolor\":\"white\",\"showbackground\":true,\"ticks\":\"\",\"zerolinecolor\":\"white\"}},\"shapedefaults\":{\"line\":{\"color\":\"#2a3f5f\"}},\"ternary\":{\"aaxis\":{\"gridcolor\":\"white\",\"linecolor\":\"white\",\"ticks\":\"\"},\"baxis\":{\"gridcolor\":\"white\",\"linecolor\":\"white\",\"ticks\":\"\"},\"bgcolor\":\"#E5ECF6\",\"caxis\":{\"gridcolor\":\"white\",\"linecolor\":\"white\",\"ticks\":\"\"}},\"title\":{\"x\":0.05},\"xaxis\":{\"automargin\":true,\"gridcolor\":\"white\",\"linecolor\":\"white\",\"ticks\":\"\",\"title\":{\"standoff\":15},\"zerolinecolor\":\"white\",\"zerolinewidth\":2},\"yaxis\":{\"automargin\":true,\"gridcolor\":\"white\",\"linecolor\":\"white\",\"ticks\":\"\",\"title\":{\"standoff\":15},\"zerolinecolor\":\"white\",\"zerolinewidth\":2}}},\"title\":{\"font\":{\"color\":\"#4D5663\"}},\"xaxis\":{\"gridcolor\":\"#E1E5ED\",\"showgrid\":true,\"tickfont\":{\"color\":\"#4D5663\"},\"title\":{\"font\":{\"color\":\"#4D5663\"},\"text\":\"\"},\"zerolinecolor\":\"#E1E5ED\"},\"yaxis\":{\"gridcolor\":\"#E1E5ED\",\"showgrid\":true,\"tickfont\":{\"color\":\"#4D5663\"},\"title\":{\"font\":{\"color\":\"#4D5663\"},\"text\":\"\"},\"zerolinecolor\":\"#E1E5ED\"}},                        {\"showLink\": true, \"linkText\": \"Export to plot.ly\", \"plotlyServerURL\": \"https://plot.ly\", \"responsive\": true}                    ).then(function(){\n",
       "                            \n",
       "var gd = document.getElementById('2d8a26dd-39eb-4f02-9b3f-2ba4f0a3ddb1');\n",
       "var x = new MutationObserver(function (mutations, observer) {{\n",
       "        var display = window.getComputedStyle(gd).display;\n",
       "        if (!display || display === 'none') {{\n",
       "            console.log([gd, 'removed!']);\n",
       "            Plotly.purge(gd);\n",
       "            observer.disconnect();\n",
       "        }}\n",
       "}});\n",
       "\n",
       "// Listen for the removal of the full notebook cells\n",
       "var notebookContainer = gd.closest('#notebook-container');\n",
       "if (notebookContainer) {{\n",
       "    x.observe(notebookContainer, {childList: true});\n",
       "}}\n",
       "\n",
       "// Listen for the clearing of the current output cell\n",
       "var outputEl = gd.closest('.output');\n",
       "if (outputEl) {{\n",
       "    x.observe(outputEl, {childList: true});\n",
       "}}\n",
       "\n",
       "                        })                };                });            </script>        </div>"
      ]
     },
     "metadata": {},
     "output_type": "display_data"
    }
   ],
   "source": [
    "df.iplot(kind='hist', bins=50)"
   ]
  },
  {
   "cell_type": "code",
   "execution_count": 43,
   "id": "38bd6e3d",
   "metadata": {},
   "outputs": [
    {
     "data": {
      "application/vnd.plotly.v1+json": {
       "config": {
        "linkText": "Export to plot.ly",
        "plotlyServerURL": "https://plot.ly",
        "showLink": true
       },
       "data": [
        {
         "histfunc": "count",
         "histnorm": "",
         "marker": {
          "color": "rgba(255, 153, 51, 1.0)",
          "line": {
           "color": "#4D5663",
           "width": 1.3
          }
         },
         "name": "A",
         "nbinsx": 25,
         "opacity": 0.8,
         "orientation": "v",
         "type": "histogram",
         "x": [
          0.9634623893766167,
          -0.12055224845819004,
          0.25008154086228296,
          -0.5013143806434255,
          0.1292844937472286,
          0.4044071864470786,
          -2.0771930414556183,
          -0.020426006358398602,
          0.3849191710124318,
          0.879707817390476,
          -0.9431858876910261,
          -0.7490253238236118,
          0.5924697035901231,
          -1.3940933638268622,
          -0.5719377462453421,
          0.0075937045045873,
          -1.4481325040064896,
          0.21700524462166149,
          -0.1395825213548501,
          -0.24991568489512242,
          0.29452568252983163,
          -0.7905644371689067,
          -0.2997690889834603,
          0.21384176348726486,
          0.08658516570981084,
          0.7454032185178966,
          -0.6281603258099894,
          0.46180435642701845,
          -0.4178004985683218,
          -0.35630133871786407,
          -1.2112066150479495,
          -0.9726056889327593,
          -0.1005023860363253,
          1.0040648633325953,
          -1.0629923769941325,
          2.47531773691314,
          -0.04824382074826237,
          1.7025776795476604,
          -1.236548662174602,
          0.39866376082116467,
          1.333415614245502,
          0.0766655986802566,
          -0.33317061992034,
          -0.07328513704307903,
          0.37972060484157116,
          0.6522436929759483,
          0.8908762959506643,
          -0.41150485447839996,
          -0.3911042477094948,
          -1.7445372379275699,
          0.023978803372944477,
          -0.17442305395410349,
          0.25819460285665935,
          0.4944620618569529,
          -0.5834284135317452,
          -0.3240544301618898,
          -1.5444815784266575,
          -0.4776289313257464,
          0.06945397679857637,
          -0.4278386106429362,
          1.2522658559296482,
          -0.8812452740221121,
          -0.8221355096056416,
          -0.18782134308689513,
          1.8206332470536457,
          -0.6879560063978835,
          1.241741050078539,
          -2.7408858865027486,
          -0.4980842707106779,
          -0.9645117851028521,
          -0.12349607696101607,
          0.14719778655961077,
          -0.3022218597739041,
          0.6471150042134444,
          0.4721020856800413,
          -1.0353926818229156,
          1.3229382115515267,
          -1.2156788535049665,
          0.7614711874891931,
          -0.9013858317983743,
          -1.003047554190563,
          1.1696861418828624,
          0.0390968088724639,
          -0.4260054156967536,
          1.091606297176759,
          1.2036536169313206,
          -0.4427686249514626,
          1.4585873222111359,
          -0.270091310882172,
          0.17838137496146925,
          1.1533524775428632,
          0.5561949849702105,
          0.18208084487524875,
          0.26219091894703034,
          0.7582266638205611,
          0.3703636490699679,
          -0.5948913443755864,
          0.34613627097324257,
          0.07431556715271147,
          -1.2472512715902513
         ]
        }
       ],
       "layout": {
        "barmode": "overlay",
        "legend": {
         "bgcolor": "#F5F6F9",
         "font": {
          "color": "#4D5663"
         }
        },
        "paper_bgcolor": "#F5F6F9",
        "plot_bgcolor": "#F5F6F9",
        "template": {
         "data": {
          "bar": [
           {
            "error_x": {
             "color": "#2a3f5f"
            },
            "error_y": {
             "color": "#2a3f5f"
            },
            "marker": {
             "line": {
              "color": "#E5ECF6",
              "width": 0.5
             },
             "pattern": {
              "fillmode": "overlay",
              "size": 10,
              "solidity": 0.2
             }
            },
            "type": "bar"
           }
          ],
          "barpolar": [
           {
            "marker": {
             "line": {
              "color": "#E5ECF6",
              "width": 0.5
             },
             "pattern": {
              "fillmode": "overlay",
              "size": 10,
              "solidity": 0.2
             }
            },
            "type": "barpolar"
           }
          ],
          "carpet": [
           {
            "aaxis": {
             "endlinecolor": "#2a3f5f",
             "gridcolor": "white",
             "linecolor": "white",
             "minorgridcolor": "white",
             "startlinecolor": "#2a3f5f"
            },
            "baxis": {
             "endlinecolor": "#2a3f5f",
             "gridcolor": "white",
             "linecolor": "white",
             "minorgridcolor": "white",
             "startlinecolor": "#2a3f5f"
            },
            "type": "carpet"
           }
          ],
          "choropleth": [
           {
            "colorbar": {
             "outlinewidth": 0,
             "ticks": ""
            },
            "type": "choropleth"
           }
          ],
          "contour": [
           {
            "colorbar": {
             "outlinewidth": 0,
             "ticks": ""
            },
            "colorscale": [
             [
              0,
              "#0d0887"
             ],
             [
              0.1111111111111111,
              "#46039f"
             ],
             [
              0.2222222222222222,
              "#7201a8"
             ],
             [
              0.3333333333333333,
              "#9c179e"
             ],
             [
              0.4444444444444444,
              "#bd3786"
             ],
             [
              0.5555555555555556,
              "#d8576b"
             ],
             [
              0.6666666666666666,
              "#ed7953"
             ],
             [
              0.7777777777777778,
              "#fb9f3a"
             ],
             [
              0.8888888888888888,
              "#fdca26"
             ],
             [
              1,
              "#f0f921"
             ]
            ],
            "type": "contour"
           }
          ],
          "contourcarpet": [
           {
            "colorbar": {
             "outlinewidth": 0,
             "ticks": ""
            },
            "type": "contourcarpet"
           }
          ],
          "heatmap": [
           {
            "colorbar": {
             "outlinewidth": 0,
             "ticks": ""
            },
            "colorscale": [
             [
              0,
              "#0d0887"
             ],
             [
              0.1111111111111111,
              "#46039f"
             ],
             [
              0.2222222222222222,
              "#7201a8"
             ],
             [
              0.3333333333333333,
              "#9c179e"
             ],
             [
              0.4444444444444444,
              "#bd3786"
             ],
             [
              0.5555555555555556,
              "#d8576b"
             ],
             [
              0.6666666666666666,
              "#ed7953"
             ],
             [
              0.7777777777777778,
              "#fb9f3a"
             ],
             [
              0.8888888888888888,
              "#fdca26"
             ],
             [
              1,
              "#f0f921"
             ]
            ],
            "type": "heatmap"
           }
          ],
          "heatmapgl": [
           {
            "colorbar": {
             "outlinewidth": 0,
             "ticks": ""
            },
            "colorscale": [
             [
              0,
              "#0d0887"
             ],
             [
              0.1111111111111111,
              "#46039f"
             ],
             [
              0.2222222222222222,
              "#7201a8"
             ],
             [
              0.3333333333333333,
              "#9c179e"
             ],
             [
              0.4444444444444444,
              "#bd3786"
             ],
             [
              0.5555555555555556,
              "#d8576b"
             ],
             [
              0.6666666666666666,
              "#ed7953"
             ],
             [
              0.7777777777777778,
              "#fb9f3a"
             ],
             [
              0.8888888888888888,
              "#fdca26"
             ],
             [
              1,
              "#f0f921"
             ]
            ],
            "type": "heatmapgl"
           }
          ],
          "histogram": [
           {
            "marker": {
             "pattern": {
              "fillmode": "overlay",
              "size": 10,
              "solidity": 0.2
             }
            },
            "type": "histogram"
           }
          ],
          "histogram2d": [
           {
            "colorbar": {
             "outlinewidth": 0,
             "ticks": ""
            },
            "colorscale": [
             [
              0,
              "#0d0887"
             ],
             [
              0.1111111111111111,
              "#46039f"
             ],
             [
              0.2222222222222222,
              "#7201a8"
             ],
             [
              0.3333333333333333,
              "#9c179e"
             ],
             [
              0.4444444444444444,
              "#bd3786"
             ],
             [
              0.5555555555555556,
              "#d8576b"
             ],
             [
              0.6666666666666666,
              "#ed7953"
             ],
             [
              0.7777777777777778,
              "#fb9f3a"
             ],
             [
              0.8888888888888888,
              "#fdca26"
             ],
             [
              1,
              "#f0f921"
             ]
            ],
            "type": "histogram2d"
           }
          ],
          "histogram2dcontour": [
           {
            "colorbar": {
             "outlinewidth": 0,
             "ticks": ""
            },
            "colorscale": [
             [
              0,
              "#0d0887"
             ],
             [
              0.1111111111111111,
              "#46039f"
             ],
             [
              0.2222222222222222,
              "#7201a8"
             ],
             [
              0.3333333333333333,
              "#9c179e"
             ],
             [
              0.4444444444444444,
              "#bd3786"
             ],
             [
              0.5555555555555556,
              "#d8576b"
             ],
             [
              0.6666666666666666,
              "#ed7953"
             ],
             [
              0.7777777777777778,
              "#fb9f3a"
             ],
             [
              0.8888888888888888,
              "#fdca26"
             ],
             [
              1,
              "#f0f921"
             ]
            ],
            "type": "histogram2dcontour"
           }
          ],
          "mesh3d": [
           {
            "colorbar": {
             "outlinewidth": 0,
             "ticks": ""
            },
            "type": "mesh3d"
           }
          ],
          "parcoords": [
           {
            "line": {
             "colorbar": {
              "outlinewidth": 0,
              "ticks": ""
             }
            },
            "type": "parcoords"
           }
          ],
          "pie": [
           {
            "automargin": true,
            "type": "pie"
           }
          ],
          "scatter": [
           {
            "fillpattern": {
             "fillmode": "overlay",
             "size": 10,
             "solidity": 0.2
            },
            "type": "scatter"
           }
          ],
          "scatter3d": [
           {
            "line": {
             "colorbar": {
              "outlinewidth": 0,
              "ticks": ""
             }
            },
            "marker": {
             "colorbar": {
              "outlinewidth": 0,
              "ticks": ""
             }
            },
            "type": "scatter3d"
           }
          ],
          "scattercarpet": [
           {
            "marker": {
             "colorbar": {
              "outlinewidth": 0,
              "ticks": ""
             }
            },
            "type": "scattercarpet"
           }
          ],
          "scattergeo": [
           {
            "marker": {
             "colorbar": {
              "outlinewidth": 0,
              "ticks": ""
             }
            },
            "type": "scattergeo"
           }
          ],
          "scattergl": [
           {
            "marker": {
             "colorbar": {
              "outlinewidth": 0,
              "ticks": ""
             }
            },
            "type": "scattergl"
           }
          ],
          "scattermapbox": [
           {
            "marker": {
             "colorbar": {
              "outlinewidth": 0,
              "ticks": ""
             }
            },
            "type": "scattermapbox"
           }
          ],
          "scatterpolar": [
           {
            "marker": {
             "colorbar": {
              "outlinewidth": 0,
              "ticks": ""
             }
            },
            "type": "scatterpolar"
           }
          ],
          "scatterpolargl": [
           {
            "marker": {
             "colorbar": {
              "outlinewidth": 0,
              "ticks": ""
             }
            },
            "type": "scatterpolargl"
           }
          ],
          "scatterternary": [
           {
            "marker": {
             "colorbar": {
              "outlinewidth": 0,
              "ticks": ""
             }
            },
            "type": "scatterternary"
           }
          ],
          "surface": [
           {
            "colorbar": {
             "outlinewidth": 0,
             "ticks": ""
            },
            "colorscale": [
             [
              0,
              "#0d0887"
             ],
             [
              0.1111111111111111,
              "#46039f"
             ],
             [
              0.2222222222222222,
              "#7201a8"
             ],
             [
              0.3333333333333333,
              "#9c179e"
             ],
             [
              0.4444444444444444,
              "#bd3786"
             ],
             [
              0.5555555555555556,
              "#d8576b"
             ],
             [
              0.6666666666666666,
              "#ed7953"
             ],
             [
              0.7777777777777778,
              "#fb9f3a"
             ],
             [
              0.8888888888888888,
              "#fdca26"
             ],
             [
              1,
              "#f0f921"
             ]
            ],
            "type": "surface"
           }
          ],
          "table": [
           {
            "cells": {
             "fill": {
              "color": "#EBF0F8"
             },
             "line": {
              "color": "white"
             }
            },
            "header": {
             "fill": {
              "color": "#C8D4E3"
             },
             "line": {
              "color": "white"
             }
            },
            "type": "table"
           }
          ]
         },
         "layout": {
          "annotationdefaults": {
           "arrowcolor": "#2a3f5f",
           "arrowhead": 0,
           "arrowwidth": 1
          },
          "autotypenumbers": "strict",
          "coloraxis": {
           "colorbar": {
            "outlinewidth": 0,
            "ticks": ""
           }
          },
          "colorscale": {
           "diverging": [
            [
             0,
             "#8e0152"
            ],
            [
             0.1,
             "#c51b7d"
            ],
            [
             0.2,
             "#de77ae"
            ],
            [
             0.3,
             "#f1b6da"
            ],
            [
             0.4,
             "#fde0ef"
            ],
            [
             0.5,
             "#f7f7f7"
            ],
            [
             0.6,
             "#e6f5d0"
            ],
            [
             0.7,
             "#b8e186"
            ],
            [
             0.8,
             "#7fbc41"
            ],
            [
             0.9,
             "#4d9221"
            ],
            [
             1,
             "#276419"
            ]
           ],
           "sequential": [
            [
             0,
             "#0d0887"
            ],
            [
             0.1111111111111111,
             "#46039f"
            ],
            [
             0.2222222222222222,
             "#7201a8"
            ],
            [
             0.3333333333333333,
             "#9c179e"
            ],
            [
             0.4444444444444444,
             "#bd3786"
            ],
            [
             0.5555555555555556,
             "#d8576b"
            ],
            [
             0.6666666666666666,
             "#ed7953"
            ],
            [
             0.7777777777777778,
             "#fb9f3a"
            ],
            [
             0.8888888888888888,
             "#fdca26"
            ],
            [
             1,
             "#f0f921"
            ]
           ],
           "sequentialminus": [
            [
             0,
             "#0d0887"
            ],
            [
             0.1111111111111111,
             "#46039f"
            ],
            [
             0.2222222222222222,
             "#7201a8"
            ],
            [
             0.3333333333333333,
             "#9c179e"
            ],
            [
             0.4444444444444444,
             "#bd3786"
            ],
            [
             0.5555555555555556,
             "#d8576b"
            ],
            [
             0.6666666666666666,
             "#ed7953"
            ],
            [
             0.7777777777777778,
             "#fb9f3a"
            ],
            [
             0.8888888888888888,
             "#fdca26"
            ],
            [
             1,
             "#f0f921"
            ]
           ]
          },
          "colorway": [
           "#636efa",
           "#EF553B",
           "#00cc96",
           "#ab63fa",
           "#FFA15A",
           "#19d3f3",
           "#FF6692",
           "#B6E880",
           "#FF97FF",
           "#FECB52"
          ],
          "font": {
           "color": "#2a3f5f"
          },
          "geo": {
           "bgcolor": "white",
           "lakecolor": "white",
           "landcolor": "#E5ECF6",
           "showlakes": true,
           "showland": true,
           "subunitcolor": "white"
          },
          "hoverlabel": {
           "align": "left"
          },
          "hovermode": "closest",
          "mapbox": {
           "style": "light"
          },
          "paper_bgcolor": "white",
          "plot_bgcolor": "#E5ECF6",
          "polar": {
           "angularaxis": {
            "gridcolor": "white",
            "linecolor": "white",
            "ticks": ""
           },
           "bgcolor": "#E5ECF6",
           "radialaxis": {
            "gridcolor": "white",
            "linecolor": "white",
            "ticks": ""
           }
          },
          "scene": {
           "xaxis": {
            "backgroundcolor": "#E5ECF6",
            "gridcolor": "white",
            "gridwidth": 2,
            "linecolor": "white",
            "showbackground": true,
            "ticks": "",
            "zerolinecolor": "white"
           },
           "yaxis": {
            "backgroundcolor": "#E5ECF6",
            "gridcolor": "white",
            "gridwidth": 2,
            "linecolor": "white",
            "showbackground": true,
            "ticks": "",
            "zerolinecolor": "white"
           },
           "zaxis": {
            "backgroundcolor": "#E5ECF6",
            "gridcolor": "white",
            "gridwidth": 2,
            "linecolor": "white",
            "showbackground": true,
            "ticks": "",
            "zerolinecolor": "white"
           }
          },
          "shapedefaults": {
           "line": {
            "color": "#2a3f5f"
           }
          },
          "ternary": {
           "aaxis": {
            "gridcolor": "white",
            "linecolor": "white",
            "ticks": ""
           },
           "baxis": {
            "gridcolor": "white",
            "linecolor": "white",
            "ticks": ""
           },
           "bgcolor": "#E5ECF6",
           "caxis": {
            "gridcolor": "white",
            "linecolor": "white",
            "ticks": ""
           }
          },
          "title": {
           "x": 0.05
          },
          "xaxis": {
           "automargin": true,
           "gridcolor": "white",
           "linecolor": "white",
           "ticks": "",
           "title": {
            "standoff": 15
           },
           "zerolinecolor": "white",
           "zerolinewidth": 2
          },
          "yaxis": {
           "automargin": true,
           "gridcolor": "white",
           "linecolor": "white",
           "ticks": "",
           "title": {
            "standoff": 15
           },
           "zerolinecolor": "white",
           "zerolinewidth": 2
          }
         }
        },
        "title": {
         "font": {
          "color": "#4D5663"
         }
        },
        "xaxis": {
         "gridcolor": "#E1E5ED",
         "showgrid": true,
         "tickfont": {
          "color": "#4D5663"
         },
         "title": {
          "font": {
           "color": "#4D5663"
          },
          "text": ""
         },
         "zerolinecolor": "#E1E5ED"
        },
        "yaxis": {
         "gridcolor": "#E1E5ED",
         "showgrid": true,
         "tickfont": {
          "color": "#4D5663"
         },
         "title": {
          "font": {
           "color": "#4D5663"
          },
          "text": ""
         },
         "zerolinecolor": "#E1E5ED"
        }
       }
      },
      "text/html": [
       "<div>                            <div id=\"e10b25db-3e2d-418f-a67b-12314cc3f7e4\" class=\"plotly-graph-div\" style=\"height:525px; width:100%;\"></div>            <script type=\"text/javascript\">                require([\"plotly\"], function(Plotly) {                    window.PLOTLYENV=window.PLOTLYENV || {};\n",
       "                    window.PLOTLYENV.BASE_URL='https://plot.ly';                                    if (document.getElementById(\"e10b25db-3e2d-418f-a67b-12314cc3f7e4\")) {                    Plotly.newPlot(                        \"e10b25db-3e2d-418f-a67b-12314cc3f7e4\",                        [{\"histfunc\":\"count\",\"histnorm\":\"\",\"marker\":{\"color\":\"rgba(255, 153, 51, 1.0)\",\"line\":{\"color\":\"#4D5663\",\"width\":1.3}},\"name\":\"A\",\"nbinsx\":25,\"opacity\":0.8,\"orientation\":\"v\",\"x\":[0.9634623893766167,-0.12055224845819004,0.25008154086228296,-0.5013143806434255,0.1292844937472286,0.4044071864470786,-2.0771930414556183,-0.020426006358398602,0.3849191710124318,0.879707817390476,-0.9431858876910261,-0.7490253238236118,0.5924697035901231,-1.3940933638268622,-0.5719377462453421,0.0075937045045873,-1.4481325040064896,0.21700524462166149,-0.1395825213548501,-0.24991568489512242,0.29452568252983163,-0.7905644371689067,-0.2997690889834603,0.21384176348726486,0.08658516570981084,0.7454032185178966,-0.6281603258099894,0.46180435642701845,-0.4178004985683218,-0.35630133871786407,-1.2112066150479495,-0.9726056889327593,-0.1005023860363253,1.0040648633325953,-1.0629923769941325,2.47531773691314,-0.04824382074826237,1.7025776795476604,-1.236548662174602,0.39866376082116467,1.333415614245502,0.0766655986802566,-0.33317061992034,-0.07328513704307903,0.37972060484157116,0.6522436929759483,0.8908762959506643,-0.41150485447839996,-0.3911042477094948,-1.7445372379275699,0.023978803372944477,-0.17442305395410349,0.25819460285665935,0.4944620618569529,-0.5834284135317452,-0.3240544301618898,-1.5444815784266575,-0.4776289313257464,0.06945397679857637,-0.4278386106429362,1.2522658559296482,-0.8812452740221121,-0.8221355096056416,-0.18782134308689513,1.8206332470536457,-0.6879560063978835,1.241741050078539,-2.7408858865027486,-0.4980842707106779,-0.9645117851028521,-0.12349607696101607,0.14719778655961077,-0.3022218597739041,0.6471150042134444,0.4721020856800413,-1.0353926818229156,1.3229382115515267,-1.2156788535049665,0.7614711874891931,-0.9013858317983743,-1.003047554190563,1.1696861418828624,0.0390968088724639,-0.4260054156967536,1.091606297176759,1.2036536169313206,-0.4427686249514626,1.4585873222111359,-0.270091310882172,0.17838137496146925,1.1533524775428632,0.5561949849702105,0.18208084487524875,0.26219091894703034,0.7582266638205611,0.3703636490699679,-0.5948913443755864,0.34613627097324257,0.07431556715271147,-1.2472512715902513],\"type\":\"histogram\"}],                        {\"barmode\":\"overlay\",\"legend\":{\"bgcolor\":\"#F5F6F9\",\"font\":{\"color\":\"#4D5663\"}},\"paper_bgcolor\":\"#F5F6F9\",\"plot_bgcolor\":\"#F5F6F9\",\"template\":{\"data\":{\"barpolar\":[{\"marker\":{\"line\":{\"color\":\"#E5ECF6\",\"width\":0.5},\"pattern\":{\"fillmode\":\"overlay\",\"size\":10,\"solidity\":0.2}},\"type\":\"barpolar\"}],\"bar\":[{\"error_x\":{\"color\":\"#2a3f5f\"},\"error_y\":{\"color\":\"#2a3f5f\"},\"marker\":{\"line\":{\"color\":\"#E5ECF6\",\"width\":0.5},\"pattern\":{\"fillmode\":\"overlay\",\"size\":10,\"solidity\":0.2}},\"type\":\"bar\"}],\"carpet\":[{\"aaxis\":{\"endlinecolor\":\"#2a3f5f\",\"gridcolor\":\"white\",\"linecolor\":\"white\",\"minorgridcolor\":\"white\",\"startlinecolor\":\"#2a3f5f\"},\"baxis\":{\"endlinecolor\":\"#2a3f5f\",\"gridcolor\":\"white\",\"linecolor\":\"white\",\"minorgridcolor\":\"white\",\"startlinecolor\":\"#2a3f5f\"},\"type\":\"carpet\"}],\"choropleth\":[{\"colorbar\":{\"outlinewidth\":0,\"ticks\":\"\"},\"type\":\"choropleth\"}],\"contourcarpet\":[{\"colorbar\":{\"outlinewidth\":0,\"ticks\":\"\"},\"type\":\"contourcarpet\"}],\"contour\":[{\"colorbar\":{\"outlinewidth\":0,\"ticks\":\"\"},\"colorscale\":[[0.0,\"#0d0887\"],[0.1111111111111111,\"#46039f\"],[0.2222222222222222,\"#7201a8\"],[0.3333333333333333,\"#9c179e\"],[0.4444444444444444,\"#bd3786\"],[0.5555555555555556,\"#d8576b\"],[0.6666666666666666,\"#ed7953\"],[0.7777777777777778,\"#fb9f3a\"],[0.8888888888888888,\"#fdca26\"],[1.0,\"#f0f921\"]],\"type\":\"contour\"}],\"heatmapgl\":[{\"colorbar\":{\"outlinewidth\":0,\"ticks\":\"\"},\"colorscale\":[[0.0,\"#0d0887\"],[0.1111111111111111,\"#46039f\"],[0.2222222222222222,\"#7201a8\"],[0.3333333333333333,\"#9c179e\"],[0.4444444444444444,\"#bd3786\"],[0.5555555555555556,\"#d8576b\"],[0.6666666666666666,\"#ed7953\"],[0.7777777777777778,\"#fb9f3a\"],[0.8888888888888888,\"#fdca26\"],[1.0,\"#f0f921\"]],\"type\":\"heatmapgl\"}],\"heatmap\":[{\"colorbar\":{\"outlinewidth\":0,\"ticks\":\"\"},\"colorscale\":[[0.0,\"#0d0887\"],[0.1111111111111111,\"#46039f\"],[0.2222222222222222,\"#7201a8\"],[0.3333333333333333,\"#9c179e\"],[0.4444444444444444,\"#bd3786\"],[0.5555555555555556,\"#d8576b\"],[0.6666666666666666,\"#ed7953\"],[0.7777777777777778,\"#fb9f3a\"],[0.8888888888888888,\"#fdca26\"],[1.0,\"#f0f921\"]],\"type\":\"heatmap\"}],\"histogram2dcontour\":[{\"colorbar\":{\"outlinewidth\":0,\"ticks\":\"\"},\"colorscale\":[[0.0,\"#0d0887\"],[0.1111111111111111,\"#46039f\"],[0.2222222222222222,\"#7201a8\"],[0.3333333333333333,\"#9c179e\"],[0.4444444444444444,\"#bd3786\"],[0.5555555555555556,\"#d8576b\"],[0.6666666666666666,\"#ed7953\"],[0.7777777777777778,\"#fb9f3a\"],[0.8888888888888888,\"#fdca26\"],[1.0,\"#f0f921\"]],\"type\":\"histogram2dcontour\"}],\"histogram2d\":[{\"colorbar\":{\"outlinewidth\":0,\"ticks\":\"\"},\"colorscale\":[[0.0,\"#0d0887\"],[0.1111111111111111,\"#46039f\"],[0.2222222222222222,\"#7201a8\"],[0.3333333333333333,\"#9c179e\"],[0.4444444444444444,\"#bd3786\"],[0.5555555555555556,\"#d8576b\"],[0.6666666666666666,\"#ed7953\"],[0.7777777777777778,\"#fb9f3a\"],[0.8888888888888888,\"#fdca26\"],[1.0,\"#f0f921\"]],\"type\":\"histogram2d\"}],\"histogram\":[{\"marker\":{\"pattern\":{\"fillmode\":\"overlay\",\"size\":10,\"solidity\":0.2}},\"type\":\"histogram\"}],\"mesh3d\":[{\"colorbar\":{\"outlinewidth\":0,\"ticks\":\"\"},\"type\":\"mesh3d\"}],\"parcoords\":[{\"line\":{\"colorbar\":{\"outlinewidth\":0,\"ticks\":\"\"}},\"type\":\"parcoords\"}],\"pie\":[{\"automargin\":true,\"type\":\"pie\"}],\"scatter3d\":[{\"line\":{\"colorbar\":{\"outlinewidth\":0,\"ticks\":\"\"}},\"marker\":{\"colorbar\":{\"outlinewidth\":0,\"ticks\":\"\"}},\"type\":\"scatter3d\"}],\"scattercarpet\":[{\"marker\":{\"colorbar\":{\"outlinewidth\":0,\"ticks\":\"\"}},\"type\":\"scattercarpet\"}],\"scattergeo\":[{\"marker\":{\"colorbar\":{\"outlinewidth\":0,\"ticks\":\"\"}},\"type\":\"scattergeo\"}],\"scattergl\":[{\"marker\":{\"colorbar\":{\"outlinewidth\":0,\"ticks\":\"\"}},\"type\":\"scattergl\"}],\"scattermapbox\":[{\"marker\":{\"colorbar\":{\"outlinewidth\":0,\"ticks\":\"\"}},\"type\":\"scattermapbox\"}],\"scatterpolargl\":[{\"marker\":{\"colorbar\":{\"outlinewidth\":0,\"ticks\":\"\"}},\"type\":\"scatterpolargl\"}],\"scatterpolar\":[{\"marker\":{\"colorbar\":{\"outlinewidth\":0,\"ticks\":\"\"}},\"type\":\"scatterpolar\"}],\"scatter\":[{\"fillpattern\":{\"fillmode\":\"overlay\",\"size\":10,\"solidity\":0.2},\"type\":\"scatter\"}],\"scatterternary\":[{\"marker\":{\"colorbar\":{\"outlinewidth\":0,\"ticks\":\"\"}},\"type\":\"scatterternary\"}],\"surface\":[{\"colorbar\":{\"outlinewidth\":0,\"ticks\":\"\"},\"colorscale\":[[0.0,\"#0d0887\"],[0.1111111111111111,\"#46039f\"],[0.2222222222222222,\"#7201a8\"],[0.3333333333333333,\"#9c179e\"],[0.4444444444444444,\"#bd3786\"],[0.5555555555555556,\"#d8576b\"],[0.6666666666666666,\"#ed7953\"],[0.7777777777777778,\"#fb9f3a\"],[0.8888888888888888,\"#fdca26\"],[1.0,\"#f0f921\"]],\"type\":\"surface\"}],\"table\":[{\"cells\":{\"fill\":{\"color\":\"#EBF0F8\"},\"line\":{\"color\":\"white\"}},\"header\":{\"fill\":{\"color\":\"#C8D4E3\"},\"line\":{\"color\":\"white\"}},\"type\":\"table\"}]},\"layout\":{\"annotationdefaults\":{\"arrowcolor\":\"#2a3f5f\",\"arrowhead\":0,\"arrowwidth\":1},\"autotypenumbers\":\"strict\",\"coloraxis\":{\"colorbar\":{\"outlinewidth\":0,\"ticks\":\"\"}},\"colorscale\":{\"diverging\":[[0,\"#8e0152\"],[0.1,\"#c51b7d\"],[0.2,\"#de77ae\"],[0.3,\"#f1b6da\"],[0.4,\"#fde0ef\"],[0.5,\"#f7f7f7\"],[0.6,\"#e6f5d0\"],[0.7,\"#b8e186\"],[0.8,\"#7fbc41\"],[0.9,\"#4d9221\"],[1,\"#276419\"]],\"sequential\":[[0.0,\"#0d0887\"],[0.1111111111111111,\"#46039f\"],[0.2222222222222222,\"#7201a8\"],[0.3333333333333333,\"#9c179e\"],[0.4444444444444444,\"#bd3786\"],[0.5555555555555556,\"#d8576b\"],[0.6666666666666666,\"#ed7953\"],[0.7777777777777778,\"#fb9f3a\"],[0.8888888888888888,\"#fdca26\"],[1.0,\"#f0f921\"]],\"sequentialminus\":[[0.0,\"#0d0887\"],[0.1111111111111111,\"#46039f\"],[0.2222222222222222,\"#7201a8\"],[0.3333333333333333,\"#9c179e\"],[0.4444444444444444,\"#bd3786\"],[0.5555555555555556,\"#d8576b\"],[0.6666666666666666,\"#ed7953\"],[0.7777777777777778,\"#fb9f3a\"],[0.8888888888888888,\"#fdca26\"],[1.0,\"#f0f921\"]]},\"colorway\":[\"#636efa\",\"#EF553B\",\"#00cc96\",\"#ab63fa\",\"#FFA15A\",\"#19d3f3\",\"#FF6692\",\"#B6E880\",\"#FF97FF\",\"#FECB52\"],\"font\":{\"color\":\"#2a3f5f\"},\"geo\":{\"bgcolor\":\"white\",\"lakecolor\":\"white\",\"landcolor\":\"#E5ECF6\",\"showlakes\":true,\"showland\":true,\"subunitcolor\":\"white\"},\"hoverlabel\":{\"align\":\"left\"},\"hovermode\":\"closest\",\"mapbox\":{\"style\":\"light\"},\"paper_bgcolor\":\"white\",\"plot_bgcolor\":\"#E5ECF6\",\"polar\":{\"angularaxis\":{\"gridcolor\":\"white\",\"linecolor\":\"white\",\"ticks\":\"\"},\"bgcolor\":\"#E5ECF6\",\"radialaxis\":{\"gridcolor\":\"white\",\"linecolor\":\"white\",\"ticks\":\"\"}},\"scene\":{\"xaxis\":{\"backgroundcolor\":\"#E5ECF6\",\"gridcolor\":\"white\",\"gridwidth\":2,\"linecolor\":\"white\",\"showbackground\":true,\"ticks\":\"\",\"zerolinecolor\":\"white\"},\"yaxis\":{\"backgroundcolor\":\"#E5ECF6\",\"gridcolor\":\"white\",\"gridwidth\":2,\"linecolor\":\"white\",\"showbackground\":true,\"ticks\":\"\",\"zerolinecolor\":\"white\"},\"zaxis\":{\"backgroundcolor\":\"#E5ECF6\",\"gridcolor\":\"white\",\"gridwidth\":2,\"linecolor\":\"white\",\"showbackground\":true,\"ticks\":\"\",\"zerolinecolor\":\"white\"}},\"shapedefaults\":{\"line\":{\"color\":\"#2a3f5f\"}},\"ternary\":{\"aaxis\":{\"gridcolor\":\"white\",\"linecolor\":\"white\",\"ticks\":\"\"},\"baxis\":{\"gridcolor\":\"white\",\"linecolor\":\"white\",\"ticks\":\"\"},\"bgcolor\":\"#E5ECF6\",\"caxis\":{\"gridcolor\":\"white\",\"linecolor\":\"white\",\"ticks\":\"\"}},\"title\":{\"x\":0.05},\"xaxis\":{\"automargin\":true,\"gridcolor\":\"white\",\"linecolor\":\"white\",\"ticks\":\"\",\"title\":{\"standoff\":15},\"zerolinecolor\":\"white\",\"zerolinewidth\":2},\"yaxis\":{\"automargin\":true,\"gridcolor\":\"white\",\"linecolor\":\"white\",\"ticks\":\"\",\"title\":{\"standoff\":15},\"zerolinecolor\":\"white\",\"zerolinewidth\":2}}},\"title\":{\"font\":{\"color\":\"#4D5663\"}},\"xaxis\":{\"gridcolor\":\"#E1E5ED\",\"showgrid\":true,\"tickfont\":{\"color\":\"#4D5663\"},\"title\":{\"font\":{\"color\":\"#4D5663\"},\"text\":\"\"},\"zerolinecolor\":\"#E1E5ED\"},\"yaxis\":{\"gridcolor\":\"#E1E5ED\",\"showgrid\":true,\"tickfont\":{\"color\":\"#4D5663\"},\"title\":{\"font\":{\"color\":\"#4D5663\"},\"text\":\"\"},\"zerolinecolor\":\"#E1E5ED\"}},                        {\"showLink\": true, \"linkText\": \"Export to plot.ly\", \"plotlyServerURL\": \"https://plot.ly\", \"responsive\": true}                    ).then(function(){\n",
       "                            \n",
       "var gd = document.getElementById('e10b25db-3e2d-418f-a67b-12314cc3f7e4');\n",
       "var x = new MutationObserver(function (mutations, observer) {{\n",
       "        var display = window.getComputedStyle(gd).display;\n",
       "        if (!display || display === 'none') {{\n",
       "            console.log([gd, 'removed!']);\n",
       "            Plotly.purge(gd);\n",
       "            observer.disconnect();\n",
       "        }}\n",
       "}});\n",
       "\n",
       "// Listen for the removal of the full notebook cells\n",
       "var notebookContainer = gd.closest('#notebook-container');\n",
       "if (notebookContainer) {{\n",
       "    x.observe(notebookContainer, {childList: true});\n",
       "}}\n",
       "\n",
       "// Listen for the clearing of the current output cell\n",
       "var outputEl = gd.closest('.output');\n",
       "if (outputEl) {{\n",
       "    x.observe(outputEl, {childList: true});\n",
       "}}\n",
       "\n",
       "                        })                };                });            </script>        </div>"
      ]
     },
     "metadata": {},
     "output_type": "display_data"
    }
   ],
   "source": [
    "df['A'].iplot(kind='hist',bins=25)"
   ]
  },
  {
   "cell_type": "code",
   "execution_count": 44,
   "id": "c532c36f",
   "metadata": {},
   "outputs": [
    {
     "data": {
      "application/vnd.plotly.v1+json": {
       "config": {
        "linkText": "Export to plot.ly",
        "plotlyServerURL": "https://plot.ly",
        "showLink": true
       },
       "data": [
        {
         "marker": {
          "color": [
           "rgb(255, 153, 51)",
           "rgb(55, 128, 191)",
           "rgb(50, 171, 96)",
           "rgb(128, 0, 128)",
           "rgb(219, 64, 82)",
           "rgb(0, 128, 128)",
           "rgb(255, 255, 51)",
           "rgb(128, 128, 0)",
           "rgb(251, 128, 114)",
           "rgb(128, 177, 211)"
          ],
          "line": {
           "width": 1.3
          },
          "size": [
           47,
           15,
           23,
           46,
           48,
           38,
           49,
           25,
           57,
           42,
           22,
           62,
           55,
           50,
           44,
           41,
           61,
           48,
           72,
           67,
           20,
           63,
           77,
           21,
           47,
           23,
           61,
           53,
           31,
           25,
           57,
           42,
           62,
           41,
           67,
           56,
           47,
           67,
           70,
           44,
           50,
           64,
           50,
           28,
           66,
           46,
           89,
           69,
           65,
           54,
           35,
           51,
           59,
           65,
           77,
           44,
           16,
           66,
           53,
           26,
           31,
           46,
           46,
           59,
           68,
           30,
           63,
           66,
           55,
           49,
           41,
           71,
           53,
           60,
           36,
           71,
           100,
           38,
           44,
           56,
           62,
           70,
           75,
           73,
           37,
           75,
           48,
           26,
           45,
           12,
           57,
           32,
           112,
           69,
           50,
           80,
           29,
           62,
           12,
           87
          ],
          "symbol": "circle"
         },
         "mode": "markers",
         "text": "",
         "type": "scatter",
         "x": [
          0.9634623893766167,
          -0.12055224845819004,
          0.25008154086228296,
          -0.5013143806434255,
          0.1292844937472286,
          0.4044071864470786,
          -2.0771930414556183,
          -0.020426006358398602,
          0.3849191710124318,
          0.879707817390476,
          -0.9431858876910261,
          -0.7490253238236118,
          0.5924697035901231,
          -1.3940933638268622,
          -0.5719377462453421,
          0.0075937045045873,
          -1.4481325040064896,
          0.21700524462166149,
          -0.1395825213548501,
          -0.24991568489512242,
          0.29452568252983163,
          -0.7905644371689067,
          -0.2997690889834603,
          0.21384176348726486,
          0.08658516570981084,
          0.7454032185178966,
          -0.6281603258099894,
          0.46180435642701845,
          -0.4178004985683218,
          -0.35630133871786407,
          -1.2112066150479495,
          -0.9726056889327593,
          -0.1005023860363253,
          1.0040648633325953,
          -1.0629923769941325,
          2.47531773691314,
          -0.04824382074826237,
          1.7025776795476604,
          -1.236548662174602,
          0.39866376082116467,
          1.333415614245502,
          0.0766655986802566,
          -0.33317061992034,
          -0.07328513704307903,
          0.37972060484157116,
          0.6522436929759483,
          0.8908762959506643,
          -0.41150485447839996,
          -0.3911042477094948,
          -1.7445372379275699,
          0.023978803372944477,
          -0.17442305395410349,
          0.25819460285665935,
          0.4944620618569529,
          -0.5834284135317452,
          -0.3240544301618898,
          -1.5444815784266575,
          -0.4776289313257464,
          0.06945397679857637,
          -0.4278386106429362,
          1.2522658559296482,
          -0.8812452740221121,
          -0.8221355096056416,
          -0.18782134308689513,
          1.8206332470536457,
          -0.6879560063978835,
          1.241741050078539,
          -2.7408858865027486,
          -0.4980842707106779,
          -0.9645117851028521,
          -0.12349607696101607,
          0.14719778655961077,
          -0.3022218597739041,
          0.6471150042134444,
          0.4721020856800413,
          -1.0353926818229156,
          1.3229382115515267,
          -1.2156788535049665,
          0.7614711874891931,
          -0.9013858317983743,
          -1.003047554190563,
          1.1696861418828624,
          0.0390968088724639,
          -0.4260054156967536,
          1.091606297176759,
          1.2036536169313206,
          -0.4427686249514626,
          1.4585873222111359,
          -0.270091310882172,
          0.17838137496146925,
          1.1533524775428632,
          0.5561949849702105,
          0.18208084487524875,
          0.26219091894703034,
          0.7582266638205611,
          0.3703636490699679,
          -0.5948913443755864,
          0.34613627097324257,
          0.07431556715271147,
          -1.2472512715902513
         ],
         "y": [
          -0.09147954299523928,
          -1.7385508624690544,
          0.9221586878268342,
          -1.0931631569009221,
          0.3314050081963957,
          -1.6860350043840182,
          0.12957115351750878,
          0.5282594700664602,
          -1.724213141676408,
          -0.5551485134413877,
          0.01099836125675915,
          -1.8479965901671493,
          1.3048716149407638,
          -0.47126362237465713,
          0.30461274408286604,
          -0.3624930124832195,
          -0.12427109577985897,
          1.0458392895428787,
          -1.0772505081410064,
          0.956187500896724,
          -0.5134093195098551,
          1.003191182736705,
          1.0054421492812542,
          0.7444342301762672,
          0.9717048416109594,
          -0.5862903672126797,
          1.1402320163276554,
          -0.07586206865034092,
          -1.3020079599314847,
          -1.5532090620038983,
          0.8063276508119176,
          -1.190267123383816,
          -0.45573398022926986,
          0.2492173650282826,
          0.042545897664883724,
          -0.5394012540380726,
          -0.8710337885007717,
          0.27070058032527144,
          1.502715551599413,
          -0.6133569085524814,
          0.7716091967711711,
          -0.844375266511973,
          1.014272863942356,
          1.283227843583457,
          0.5405202955362597,
          0.26670175488612397,
          0.7101520294582939,
          2.07484318757425,
          0.6160923809193212,
          -0.7621923610184558,
          -0.7409270577875984,
          -0.8944055555394634,
          -0.8504280755637271,
          -1.0335914311595302,
          2.1436511287416486,
          0.2941595400966851,
          -1.2670997292914403,
          1.6747192059627178,
          -0.4549685653946752,
          -1.4261740159930605,
          0.2860098578963224,
          -0.6896865460661573,
          0.058011235562708846,
          -1.408955244083918,
          -0.20902752485155054,
          -0.30808010437819333,
          -0.22554007253720418,
          -0.012289759543897499,
          1.1978357038826355,
          0.8808992432676263,
          -0.1577267481768039,
          -0.7663712262064384,
          -1.47674134732821,
          0.48303599341467285,
          0.7484100962354236,
          0.6199214404930379,
          -0.09192405598441374,
          0.5300093476958286,
          1.2785791208003725,
          0.9358425653510516,
          -0.5925670749165277,
          -0.20166372582262201,
          -1.096850817122355,
          -1.0932450615263414,
          0.424315413305436,
          -0.0926162788765071,
          -0.20069809653638093,
          0.9772930851080682,
          0.26386815140631265,
          1.3874266245301734,
          -0.9248958944644438,
          0.17201496834833183,
          -0.9048757219799238,
          0.4288879111931887,
          -0.36738707307769375,
          0.7472144095556358,
          2.272295759735388,
          0.877225373172687,
          -0.4378174124395575,
          -1.1585312621617012
         ]
        }
       ],
       "layout": {
        "legend": {
         "bgcolor": "#F5F6F9",
         "font": {
          "color": "#4D5663"
         }
        },
        "paper_bgcolor": "#F5F6F9",
        "plot_bgcolor": "#F5F6F9",
        "template": {
         "data": {
          "bar": [
           {
            "error_x": {
             "color": "#2a3f5f"
            },
            "error_y": {
             "color": "#2a3f5f"
            },
            "marker": {
             "line": {
              "color": "#E5ECF6",
              "width": 0.5
             },
             "pattern": {
              "fillmode": "overlay",
              "size": 10,
              "solidity": 0.2
             }
            },
            "type": "bar"
           }
          ],
          "barpolar": [
           {
            "marker": {
             "line": {
              "color": "#E5ECF6",
              "width": 0.5
             },
             "pattern": {
              "fillmode": "overlay",
              "size": 10,
              "solidity": 0.2
             }
            },
            "type": "barpolar"
           }
          ],
          "carpet": [
           {
            "aaxis": {
             "endlinecolor": "#2a3f5f",
             "gridcolor": "white",
             "linecolor": "white",
             "minorgridcolor": "white",
             "startlinecolor": "#2a3f5f"
            },
            "baxis": {
             "endlinecolor": "#2a3f5f",
             "gridcolor": "white",
             "linecolor": "white",
             "minorgridcolor": "white",
             "startlinecolor": "#2a3f5f"
            },
            "type": "carpet"
           }
          ],
          "choropleth": [
           {
            "colorbar": {
             "outlinewidth": 0,
             "ticks": ""
            },
            "type": "choropleth"
           }
          ],
          "contour": [
           {
            "colorbar": {
             "outlinewidth": 0,
             "ticks": ""
            },
            "colorscale": [
             [
              0,
              "#0d0887"
             ],
             [
              0.1111111111111111,
              "#46039f"
             ],
             [
              0.2222222222222222,
              "#7201a8"
             ],
             [
              0.3333333333333333,
              "#9c179e"
             ],
             [
              0.4444444444444444,
              "#bd3786"
             ],
             [
              0.5555555555555556,
              "#d8576b"
             ],
             [
              0.6666666666666666,
              "#ed7953"
             ],
             [
              0.7777777777777778,
              "#fb9f3a"
             ],
             [
              0.8888888888888888,
              "#fdca26"
             ],
             [
              1,
              "#f0f921"
             ]
            ],
            "type": "contour"
           }
          ],
          "contourcarpet": [
           {
            "colorbar": {
             "outlinewidth": 0,
             "ticks": ""
            },
            "type": "contourcarpet"
           }
          ],
          "heatmap": [
           {
            "colorbar": {
             "outlinewidth": 0,
             "ticks": ""
            },
            "colorscale": [
             [
              0,
              "#0d0887"
             ],
             [
              0.1111111111111111,
              "#46039f"
             ],
             [
              0.2222222222222222,
              "#7201a8"
             ],
             [
              0.3333333333333333,
              "#9c179e"
             ],
             [
              0.4444444444444444,
              "#bd3786"
             ],
             [
              0.5555555555555556,
              "#d8576b"
             ],
             [
              0.6666666666666666,
              "#ed7953"
             ],
             [
              0.7777777777777778,
              "#fb9f3a"
             ],
             [
              0.8888888888888888,
              "#fdca26"
             ],
             [
              1,
              "#f0f921"
             ]
            ],
            "type": "heatmap"
           }
          ],
          "heatmapgl": [
           {
            "colorbar": {
             "outlinewidth": 0,
             "ticks": ""
            },
            "colorscale": [
             [
              0,
              "#0d0887"
             ],
             [
              0.1111111111111111,
              "#46039f"
             ],
             [
              0.2222222222222222,
              "#7201a8"
             ],
             [
              0.3333333333333333,
              "#9c179e"
             ],
             [
              0.4444444444444444,
              "#bd3786"
             ],
             [
              0.5555555555555556,
              "#d8576b"
             ],
             [
              0.6666666666666666,
              "#ed7953"
             ],
             [
              0.7777777777777778,
              "#fb9f3a"
             ],
             [
              0.8888888888888888,
              "#fdca26"
             ],
             [
              1,
              "#f0f921"
             ]
            ],
            "type": "heatmapgl"
           }
          ],
          "histogram": [
           {
            "marker": {
             "pattern": {
              "fillmode": "overlay",
              "size": 10,
              "solidity": 0.2
             }
            },
            "type": "histogram"
           }
          ],
          "histogram2d": [
           {
            "colorbar": {
             "outlinewidth": 0,
             "ticks": ""
            },
            "colorscale": [
             [
              0,
              "#0d0887"
             ],
             [
              0.1111111111111111,
              "#46039f"
             ],
             [
              0.2222222222222222,
              "#7201a8"
             ],
             [
              0.3333333333333333,
              "#9c179e"
             ],
             [
              0.4444444444444444,
              "#bd3786"
             ],
             [
              0.5555555555555556,
              "#d8576b"
             ],
             [
              0.6666666666666666,
              "#ed7953"
             ],
             [
              0.7777777777777778,
              "#fb9f3a"
             ],
             [
              0.8888888888888888,
              "#fdca26"
             ],
             [
              1,
              "#f0f921"
             ]
            ],
            "type": "histogram2d"
           }
          ],
          "histogram2dcontour": [
           {
            "colorbar": {
             "outlinewidth": 0,
             "ticks": ""
            },
            "colorscale": [
             [
              0,
              "#0d0887"
             ],
             [
              0.1111111111111111,
              "#46039f"
             ],
             [
              0.2222222222222222,
              "#7201a8"
             ],
             [
              0.3333333333333333,
              "#9c179e"
             ],
             [
              0.4444444444444444,
              "#bd3786"
             ],
             [
              0.5555555555555556,
              "#d8576b"
             ],
             [
              0.6666666666666666,
              "#ed7953"
             ],
             [
              0.7777777777777778,
              "#fb9f3a"
             ],
             [
              0.8888888888888888,
              "#fdca26"
             ],
             [
              1,
              "#f0f921"
             ]
            ],
            "type": "histogram2dcontour"
           }
          ],
          "mesh3d": [
           {
            "colorbar": {
             "outlinewidth": 0,
             "ticks": ""
            },
            "type": "mesh3d"
           }
          ],
          "parcoords": [
           {
            "line": {
             "colorbar": {
              "outlinewidth": 0,
              "ticks": ""
             }
            },
            "type": "parcoords"
           }
          ],
          "pie": [
           {
            "automargin": true,
            "type": "pie"
           }
          ],
          "scatter": [
           {
            "fillpattern": {
             "fillmode": "overlay",
             "size": 10,
             "solidity": 0.2
            },
            "type": "scatter"
           }
          ],
          "scatter3d": [
           {
            "line": {
             "colorbar": {
              "outlinewidth": 0,
              "ticks": ""
             }
            },
            "marker": {
             "colorbar": {
              "outlinewidth": 0,
              "ticks": ""
             }
            },
            "type": "scatter3d"
           }
          ],
          "scattercarpet": [
           {
            "marker": {
             "colorbar": {
              "outlinewidth": 0,
              "ticks": ""
             }
            },
            "type": "scattercarpet"
           }
          ],
          "scattergeo": [
           {
            "marker": {
             "colorbar": {
              "outlinewidth": 0,
              "ticks": ""
             }
            },
            "type": "scattergeo"
           }
          ],
          "scattergl": [
           {
            "marker": {
             "colorbar": {
              "outlinewidth": 0,
              "ticks": ""
             }
            },
            "type": "scattergl"
           }
          ],
          "scattermapbox": [
           {
            "marker": {
             "colorbar": {
              "outlinewidth": 0,
              "ticks": ""
             }
            },
            "type": "scattermapbox"
           }
          ],
          "scatterpolar": [
           {
            "marker": {
             "colorbar": {
              "outlinewidth": 0,
              "ticks": ""
             }
            },
            "type": "scatterpolar"
           }
          ],
          "scatterpolargl": [
           {
            "marker": {
             "colorbar": {
              "outlinewidth": 0,
              "ticks": ""
             }
            },
            "type": "scatterpolargl"
           }
          ],
          "scatterternary": [
           {
            "marker": {
             "colorbar": {
              "outlinewidth": 0,
              "ticks": ""
             }
            },
            "type": "scatterternary"
           }
          ],
          "surface": [
           {
            "colorbar": {
             "outlinewidth": 0,
             "ticks": ""
            },
            "colorscale": [
             [
              0,
              "#0d0887"
             ],
             [
              0.1111111111111111,
              "#46039f"
             ],
             [
              0.2222222222222222,
              "#7201a8"
             ],
             [
              0.3333333333333333,
              "#9c179e"
             ],
             [
              0.4444444444444444,
              "#bd3786"
             ],
             [
              0.5555555555555556,
              "#d8576b"
             ],
             [
              0.6666666666666666,
              "#ed7953"
             ],
             [
              0.7777777777777778,
              "#fb9f3a"
             ],
             [
              0.8888888888888888,
              "#fdca26"
             ],
             [
              1,
              "#f0f921"
             ]
            ],
            "type": "surface"
           }
          ],
          "table": [
           {
            "cells": {
             "fill": {
              "color": "#EBF0F8"
             },
             "line": {
              "color": "white"
             }
            },
            "header": {
             "fill": {
              "color": "#C8D4E3"
             },
             "line": {
              "color": "white"
             }
            },
            "type": "table"
           }
          ]
         },
         "layout": {
          "annotationdefaults": {
           "arrowcolor": "#2a3f5f",
           "arrowhead": 0,
           "arrowwidth": 1
          },
          "autotypenumbers": "strict",
          "coloraxis": {
           "colorbar": {
            "outlinewidth": 0,
            "ticks": ""
           }
          },
          "colorscale": {
           "diverging": [
            [
             0,
             "#8e0152"
            ],
            [
             0.1,
             "#c51b7d"
            ],
            [
             0.2,
             "#de77ae"
            ],
            [
             0.3,
             "#f1b6da"
            ],
            [
             0.4,
             "#fde0ef"
            ],
            [
             0.5,
             "#f7f7f7"
            ],
            [
             0.6,
             "#e6f5d0"
            ],
            [
             0.7,
             "#b8e186"
            ],
            [
             0.8,
             "#7fbc41"
            ],
            [
             0.9,
             "#4d9221"
            ],
            [
             1,
             "#276419"
            ]
           ],
           "sequential": [
            [
             0,
             "#0d0887"
            ],
            [
             0.1111111111111111,
             "#46039f"
            ],
            [
             0.2222222222222222,
             "#7201a8"
            ],
            [
             0.3333333333333333,
             "#9c179e"
            ],
            [
             0.4444444444444444,
             "#bd3786"
            ],
            [
             0.5555555555555556,
             "#d8576b"
            ],
            [
             0.6666666666666666,
             "#ed7953"
            ],
            [
             0.7777777777777778,
             "#fb9f3a"
            ],
            [
             0.8888888888888888,
             "#fdca26"
            ],
            [
             1,
             "#f0f921"
            ]
           ],
           "sequentialminus": [
            [
             0,
             "#0d0887"
            ],
            [
             0.1111111111111111,
             "#46039f"
            ],
            [
             0.2222222222222222,
             "#7201a8"
            ],
            [
             0.3333333333333333,
             "#9c179e"
            ],
            [
             0.4444444444444444,
             "#bd3786"
            ],
            [
             0.5555555555555556,
             "#d8576b"
            ],
            [
             0.6666666666666666,
             "#ed7953"
            ],
            [
             0.7777777777777778,
             "#fb9f3a"
            ],
            [
             0.8888888888888888,
             "#fdca26"
            ],
            [
             1,
             "#f0f921"
            ]
           ]
          },
          "colorway": [
           "#636efa",
           "#EF553B",
           "#00cc96",
           "#ab63fa",
           "#FFA15A",
           "#19d3f3",
           "#FF6692",
           "#B6E880",
           "#FF97FF",
           "#FECB52"
          ],
          "font": {
           "color": "#2a3f5f"
          },
          "geo": {
           "bgcolor": "white",
           "lakecolor": "white",
           "landcolor": "#E5ECF6",
           "showlakes": true,
           "showland": true,
           "subunitcolor": "white"
          },
          "hoverlabel": {
           "align": "left"
          },
          "hovermode": "closest",
          "mapbox": {
           "style": "light"
          },
          "paper_bgcolor": "white",
          "plot_bgcolor": "#E5ECF6",
          "polar": {
           "angularaxis": {
            "gridcolor": "white",
            "linecolor": "white",
            "ticks": ""
           },
           "bgcolor": "#E5ECF6",
           "radialaxis": {
            "gridcolor": "white",
            "linecolor": "white",
            "ticks": ""
           }
          },
          "scene": {
           "xaxis": {
            "backgroundcolor": "#E5ECF6",
            "gridcolor": "white",
            "gridwidth": 2,
            "linecolor": "white",
            "showbackground": true,
            "ticks": "",
            "zerolinecolor": "white"
           },
           "yaxis": {
            "backgroundcolor": "#E5ECF6",
            "gridcolor": "white",
            "gridwidth": 2,
            "linecolor": "white",
            "showbackground": true,
            "ticks": "",
            "zerolinecolor": "white"
           },
           "zaxis": {
            "backgroundcolor": "#E5ECF6",
            "gridcolor": "white",
            "gridwidth": 2,
            "linecolor": "white",
            "showbackground": true,
            "ticks": "",
            "zerolinecolor": "white"
           }
          },
          "shapedefaults": {
           "line": {
            "color": "#2a3f5f"
           }
          },
          "ternary": {
           "aaxis": {
            "gridcolor": "white",
            "linecolor": "white",
            "ticks": ""
           },
           "baxis": {
            "gridcolor": "white",
            "linecolor": "white",
            "ticks": ""
           },
           "bgcolor": "#E5ECF6",
           "caxis": {
            "gridcolor": "white",
            "linecolor": "white",
            "ticks": ""
           }
          },
          "title": {
           "x": 0.05
          },
          "xaxis": {
           "automargin": true,
           "gridcolor": "white",
           "linecolor": "white",
           "ticks": "",
           "title": {
            "standoff": 15
           },
           "zerolinecolor": "white",
           "zerolinewidth": 2
          },
          "yaxis": {
           "automargin": true,
           "gridcolor": "white",
           "linecolor": "white",
           "ticks": "",
           "title": {
            "standoff": 15
           },
           "zerolinecolor": "white",
           "zerolinewidth": 2
          }
         }
        },
        "title": {
         "font": {
          "color": "#4D5663"
         }
        },
        "xaxis": {
         "gridcolor": "#E1E5ED",
         "showgrid": true,
         "tickfont": {
          "color": "#4D5663"
         },
         "title": {
          "font": {
           "color": "#4D5663"
          },
          "text": ""
         },
         "zerolinecolor": "#E1E5ED"
        },
        "yaxis": {
         "gridcolor": "#E1E5ED",
         "showgrid": true,
         "tickfont": {
          "color": "#4D5663"
         },
         "title": {
          "font": {
           "color": "#4D5663"
          },
          "text": ""
         },
         "zerolinecolor": "#E1E5ED"
        }
       }
      },
      "text/html": [
       "<div>                            <div id=\"ba38a5e9-08eb-45a5-b02b-1604fb90b30b\" class=\"plotly-graph-div\" style=\"height:525px; width:100%;\"></div>            <script type=\"text/javascript\">                require([\"plotly\"], function(Plotly) {                    window.PLOTLYENV=window.PLOTLYENV || {};\n",
       "                    window.PLOTLYENV.BASE_URL='https://plot.ly';                                    if (document.getElementById(\"ba38a5e9-08eb-45a5-b02b-1604fb90b30b\")) {                    Plotly.newPlot(                        \"ba38a5e9-08eb-45a5-b02b-1604fb90b30b\",                        [{\"marker\":{\"color\":[\"rgb(255, 153, 51)\",\"rgb(55, 128, 191)\",\"rgb(50, 171, 96)\",\"rgb(128, 0, 128)\",\"rgb(219, 64, 82)\",\"rgb(0, 128, 128)\",\"rgb(255, 255, 51)\",\"rgb(128, 128, 0)\",\"rgb(251, 128, 114)\",\"rgb(128, 177, 211)\"],\"line\":{\"width\":1.3},\"size\":[47,15,23,46,48,38,49,25,57,42,22,62,55,50,44,41,61,48,72,67,20,63,77,21,47,23,61,53,31,25,57,42,62,41,67,56,47,67,70,44,50,64,50,28,66,46,89,69,65,54,35,51,59,65,77,44,16,66,53,26,31,46,46,59,68,30,63,66,55,49,41,71,53,60,36,71,100,38,44,56,62,70,75,73,37,75,48,26,45,12,57,32,112,69,50,80,29,62,12,87],\"symbol\":\"circle\"},\"mode\":\"markers\",\"text\":\"\",\"x\":[0.9634623893766167,-0.12055224845819004,0.25008154086228296,-0.5013143806434255,0.1292844937472286,0.4044071864470786,-2.0771930414556183,-0.020426006358398602,0.3849191710124318,0.879707817390476,-0.9431858876910261,-0.7490253238236118,0.5924697035901231,-1.3940933638268622,-0.5719377462453421,0.0075937045045873,-1.4481325040064896,0.21700524462166149,-0.1395825213548501,-0.24991568489512242,0.29452568252983163,-0.7905644371689067,-0.2997690889834603,0.21384176348726486,0.08658516570981084,0.7454032185178966,-0.6281603258099894,0.46180435642701845,-0.4178004985683218,-0.35630133871786407,-1.2112066150479495,-0.9726056889327593,-0.1005023860363253,1.0040648633325953,-1.0629923769941325,2.47531773691314,-0.04824382074826237,1.7025776795476604,-1.236548662174602,0.39866376082116467,1.333415614245502,0.0766655986802566,-0.33317061992034,-0.07328513704307903,0.37972060484157116,0.6522436929759483,0.8908762959506643,-0.41150485447839996,-0.3911042477094948,-1.7445372379275699,0.023978803372944477,-0.17442305395410349,0.25819460285665935,0.4944620618569529,-0.5834284135317452,-0.3240544301618898,-1.5444815784266575,-0.4776289313257464,0.06945397679857637,-0.4278386106429362,1.2522658559296482,-0.8812452740221121,-0.8221355096056416,-0.18782134308689513,1.8206332470536457,-0.6879560063978835,1.241741050078539,-2.7408858865027486,-0.4980842707106779,-0.9645117851028521,-0.12349607696101607,0.14719778655961077,-0.3022218597739041,0.6471150042134444,0.4721020856800413,-1.0353926818229156,1.3229382115515267,-1.2156788535049665,0.7614711874891931,-0.9013858317983743,-1.003047554190563,1.1696861418828624,0.0390968088724639,-0.4260054156967536,1.091606297176759,1.2036536169313206,-0.4427686249514626,1.4585873222111359,-0.270091310882172,0.17838137496146925,1.1533524775428632,0.5561949849702105,0.18208084487524875,0.26219091894703034,0.7582266638205611,0.3703636490699679,-0.5948913443755864,0.34613627097324257,0.07431556715271147,-1.2472512715902513],\"y\":[-0.09147954299523928,-1.7385508624690544,0.9221586878268342,-1.0931631569009221,0.3314050081963957,-1.6860350043840182,0.12957115351750878,0.5282594700664602,-1.724213141676408,-0.5551485134413877,0.01099836125675915,-1.8479965901671493,1.3048716149407638,-0.47126362237465713,0.30461274408286604,-0.3624930124832195,-0.12427109577985897,1.0458392895428787,-1.0772505081410064,0.956187500896724,-0.5134093195098551,1.003191182736705,1.0054421492812542,0.7444342301762672,0.9717048416109594,-0.5862903672126797,1.1402320163276554,-0.07586206865034092,-1.3020079599314847,-1.5532090620038983,0.8063276508119176,-1.190267123383816,-0.45573398022926986,0.2492173650282826,0.042545897664883724,-0.5394012540380726,-0.8710337885007717,0.27070058032527144,1.502715551599413,-0.6133569085524814,0.7716091967711711,-0.844375266511973,1.014272863942356,1.283227843583457,0.5405202955362597,0.26670175488612397,0.7101520294582939,2.07484318757425,0.6160923809193212,-0.7621923610184558,-0.7409270577875984,-0.8944055555394634,-0.8504280755637271,-1.0335914311595302,2.1436511287416486,0.2941595400966851,-1.2670997292914403,1.6747192059627178,-0.4549685653946752,-1.4261740159930605,0.2860098578963224,-0.6896865460661573,0.058011235562708846,-1.408955244083918,-0.20902752485155054,-0.30808010437819333,-0.22554007253720418,-0.012289759543897499,1.1978357038826355,0.8808992432676263,-0.1577267481768039,-0.7663712262064384,-1.47674134732821,0.48303599341467285,0.7484100962354236,0.6199214404930379,-0.09192405598441374,0.5300093476958286,1.2785791208003725,0.9358425653510516,-0.5925670749165277,-0.20166372582262201,-1.096850817122355,-1.0932450615263414,0.424315413305436,-0.0926162788765071,-0.20069809653638093,0.9772930851080682,0.26386815140631265,1.3874266245301734,-0.9248958944644438,0.17201496834833183,-0.9048757219799238,0.4288879111931887,-0.36738707307769375,0.7472144095556358,2.272295759735388,0.877225373172687,-0.4378174124395575,-1.1585312621617012],\"type\":\"scatter\"}],                        {\"legend\":{\"bgcolor\":\"#F5F6F9\",\"font\":{\"color\":\"#4D5663\"}},\"paper_bgcolor\":\"#F5F6F9\",\"plot_bgcolor\":\"#F5F6F9\",\"template\":{\"data\":{\"barpolar\":[{\"marker\":{\"line\":{\"color\":\"#E5ECF6\",\"width\":0.5},\"pattern\":{\"fillmode\":\"overlay\",\"size\":10,\"solidity\":0.2}},\"type\":\"barpolar\"}],\"bar\":[{\"error_x\":{\"color\":\"#2a3f5f\"},\"error_y\":{\"color\":\"#2a3f5f\"},\"marker\":{\"line\":{\"color\":\"#E5ECF6\",\"width\":0.5},\"pattern\":{\"fillmode\":\"overlay\",\"size\":10,\"solidity\":0.2}},\"type\":\"bar\"}],\"carpet\":[{\"aaxis\":{\"endlinecolor\":\"#2a3f5f\",\"gridcolor\":\"white\",\"linecolor\":\"white\",\"minorgridcolor\":\"white\",\"startlinecolor\":\"#2a3f5f\"},\"baxis\":{\"endlinecolor\":\"#2a3f5f\",\"gridcolor\":\"white\",\"linecolor\":\"white\",\"minorgridcolor\":\"white\",\"startlinecolor\":\"#2a3f5f\"},\"type\":\"carpet\"}],\"choropleth\":[{\"colorbar\":{\"outlinewidth\":0,\"ticks\":\"\"},\"type\":\"choropleth\"}],\"contourcarpet\":[{\"colorbar\":{\"outlinewidth\":0,\"ticks\":\"\"},\"type\":\"contourcarpet\"}],\"contour\":[{\"colorbar\":{\"outlinewidth\":0,\"ticks\":\"\"},\"colorscale\":[[0.0,\"#0d0887\"],[0.1111111111111111,\"#46039f\"],[0.2222222222222222,\"#7201a8\"],[0.3333333333333333,\"#9c179e\"],[0.4444444444444444,\"#bd3786\"],[0.5555555555555556,\"#d8576b\"],[0.6666666666666666,\"#ed7953\"],[0.7777777777777778,\"#fb9f3a\"],[0.8888888888888888,\"#fdca26\"],[1.0,\"#f0f921\"]],\"type\":\"contour\"}],\"heatmapgl\":[{\"colorbar\":{\"outlinewidth\":0,\"ticks\":\"\"},\"colorscale\":[[0.0,\"#0d0887\"],[0.1111111111111111,\"#46039f\"],[0.2222222222222222,\"#7201a8\"],[0.3333333333333333,\"#9c179e\"],[0.4444444444444444,\"#bd3786\"],[0.5555555555555556,\"#d8576b\"],[0.6666666666666666,\"#ed7953\"],[0.7777777777777778,\"#fb9f3a\"],[0.8888888888888888,\"#fdca26\"],[1.0,\"#f0f921\"]],\"type\":\"heatmapgl\"}],\"heatmap\":[{\"colorbar\":{\"outlinewidth\":0,\"ticks\":\"\"},\"colorscale\":[[0.0,\"#0d0887\"],[0.1111111111111111,\"#46039f\"],[0.2222222222222222,\"#7201a8\"],[0.3333333333333333,\"#9c179e\"],[0.4444444444444444,\"#bd3786\"],[0.5555555555555556,\"#d8576b\"],[0.6666666666666666,\"#ed7953\"],[0.7777777777777778,\"#fb9f3a\"],[0.8888888888888888,\"#fdca26\"],[1.0,\"#f0f921\"]],\"type\":\"heatmap\"}],\"histogram2dcontour\":[{\"colorbar\":{\"outlinewidth\":0,\"ticks\":\"\"},\"colorscale\":[[0.0,\"#0d0887\"],[0.1111111111111111,\"#46039f\"],[0.2222222222222222,\"#7201a8\"],[0.3333333333333333,\"#9c179e\"],[0.4444444444444444,\"#bd3786\"],[0.5555555555555556,\"#d8576b\"],[0.6666666666666666,\"#ed7953\"],[0.7777777777777778,\"#fb9f3a\"],[0.8888888888888888,\"#fdca26\"],[1.0,\"#f0f921\"]],\"type\":\"histogram2dcontour\"}],\"histogram2d\":[{\"colorbar\":{\"outlinewidth\":0,\"ticks\":\"\"},\"colorscale\":[[0.0,\"#0d0887\"],[0.1111111111111111,\"#46039f\"],[0.2222222222222222,\"#7201a8\"],[0.3333333333333333,\"#9c179e\"],[0.4444444444444444,\"#bd3786\"],[0.5555555555555556,\"#d8576b\"],[0.6666666666666666,\"#ed7953\"],[0.7777777777777778,\"#fb9f3a\"],[0.8888888888888888,\"#fdca26\"],[1.0,\"#f0f921\"]],\"type\":\"histogram2d\"}],\"histogram\":[{\"marker\":{\"pattern\":{\"fillmode\":\"overlay\",\"size\":10,\"solidity\":0.2}},\"type\":\"histogram\"}],\"mesh3d\":[{\"colorbar\":{\"outlinewidth\":0,\"ticks\":\"\"},\"type\":\"mesh3d\"}],\"parcoords\":[{\"line\":{\"colorbar\":{\"outlinewidth\":0,\"ticks\":\"\"}},\"type\":\"parcoords\"}],\"pie\":[{\"automargin\":true,\"type\":\"pie\"}],\"scatter3d\":[{\"line\":{\"colorbar\":{\"outlinewidth\":0,\"ticks\":\"\"}},\"marker\":{\"colorbar\":{\"outlinewidth\":0,\"ticks\":\"\"}},\"type\":\"scatter3d\"}],\"scattercarpet\":[{\"marker\":{\"colorbar\":{\"outlinewidth\":0,\"ticks\":\"\"}},\"type\":\"scattercarpet\"}],\"scattergeo\":[{\"marker\":{\"colorbar\":{\"outlinewidth\":0,\"ticks\":\"\"}},\"type\":\"scattergeo\"}],\"scattergl\":[{\"marker\":{\"colorbar\":{\"outlinewidth\":0,\"ticks\":\"\"}},\"type\":\"scattergl\"}],\"scattermapbox\":[{\"marker\":{\"colorbar\":{\"outlinewidth\":0,\"ticks\":\"\"}},\"type\":\"scattermapbox\"}],\"scatterpolargl\":[{\"marker\":{\"colorbar\":{\"outlinewidth\":0,\"ticks\":\"\"}},\"type\":\"scatterpolargl\"}],\"scatterpolar\":[{\"marker\":{\"colorbar\":{\"outlinewidth\":0,\"ticks\":\"\"}},\"type\":\"scatterpolar\"}],\"scatter\":[{\"fillpattern\":{\"fillmode\":\"overlay\",\"size\":10,\"solidity\":0.2},\"type\":\"scatter\"}],\"scatterternary\":[{\"marker\":{\"colorbar\":{\"outlinewidth\":0,\"ticks\":\"\"}},\"type\":\"scatterternary\"}],\"surface\":[{\"colorbar\":{\"outlinewidth\":0,\"ticks\":\"\"},\"colorscale\":[[0.0,\"#0d0887\"],[0.1111111111111111,\"#46039f\"],[0.2222222222222222,\"#7201a8\"],[0.3333333333333333,\"#9c179e\"],[0.4444444444444444,\"#bd3786\"],[0.5555555555555556,\"#d8576b\"],[0.6666666666666666,\"#ed7953\"],[0.7777777777777778,\"#fb9f3a\"],[0.8888888888888888,\"#fdca26\"],[1.0,\"#f0f921\"]],\"type\":\"surface\"}],\"table\":[{\"cells\":{\"fill\":{\"color\":\"#EBF0F8\"},\"line\":{\"color\":\"white\"}},\"header\":{\"fill\":{\"color\":\"#C8D4E3\"},\"line\":{\"color\":\"white\"}},\"type\":\"table\"}]},\"layout\":{\"annotationdefaults\":{\"arrowcolor\":\"#2a3f5f\",\"arrowhead\":0,\"arrowwidth\":1},\"autotypenumbers\":\"strict\",\"coloraxis\":{\"colorbar\":{\"outlinewidth\":0,\"ticks\":\"\"}},\"colorscale\":{\"diverging\":[[0,\"#8e0152\"],[0.1,\"#c51b7d\"],[0.2,\"#de77ae\"],[0.3,\"#f1b6da\"],[0.4,\"#fde0ef\"],[0.5,\"#f7f7f7\"],[0.6,\"#e6f5d0\"],[0.7,\"#b8e186\"],[0.8,\"#7fbc41\"],[0.9,\"#4d9221\"],[1,\"#276419\"]],\"sequential\":[[0.0,\"#0d0887\"],[0.1111111111111111,\"#46039f\"],[0.2222222222222222,\"#7201a8\"],[0.3333333333333333,\"#9c179e\"],[0.4444444444444444,\"#bd3786\"],[0.5555555555555556,\"#d8576b\"],[0.6666666666666666,\"#ed7953\"],[0.7777777777777778,\"#fb9f3a\"],[0.8888888888888888,\"#fdca26\"],[1.0,\"#f0f921\"]],\"sequentialminus\":[[0.0,\"#0d0887\"],[0.1111111111111111,\"#46039f\"],[0.2222222222222222,\"#7201a8\"],[0.3333333333333333,\"#9c179e\"],[0.4444444444444444,\"#bd3786\"],[0.5555555555555556,\"#d8576b\"],[0.6666666666666666,\"#ed7953\"],[0.7777777777777778,\"#fb9f3a\"],[0.8888888888888888,\"#fdca26\"],[1.0,\"#f0f921\"]]},\"colorway\":[\"#636efa\",\"#EF553B\",\"#00cc96\",\"#ab63fa\",\"#FFA15A\",\"#19d3f3\",\"#FF6692\",\"#B6E880\",\"#FF97FF\",\"#FECB52\"],\"font\":{\"color\":\"#2a3f5f\"},\"geo\":{\"bgcolor\":\"white\",\"lakecolor\":\"white\",\"landcolor\":\"#E5ECF6\",\"showlakes\":true,\"showland\":true,\"subunitcolor\":\"white\"},\"hoverlabel\":{\"align\":\"left\"},\"hovermode\":\"closest\",\"mapbox\":{\"style\":\"light\"},\"paper_bgcolor\":\"white\",\"plot_bgcolor\":\"#E5ECF6\",\"polar\":{\"angularaxis\":{\"gridcolor\":\"white\",\"linecolor\":\"white\",\"ticks\":\"\"},\"bgcolor\":\"#E5ECF6\",\"radialaxis\":{\"gridcolor\":\"white\",\"linecolor\":\"white\",\"ticks\":\"\"}},\"scene\":{\"xaxis\":{\"backgroundcolor\":\"#E5ECF6\",\"gridcolor\":\"white\",\"gridwidth\":2,\"linecolor\":\"white\",\"showbackground\":true,\"ticks\":\"\",\"zerolinecolor\":\"white\"},\"yaxis\":{\"backgroundcolor\":\"#E5ECF6\",\"gridcolor\":\"white\",\"gridwidth\":2,\"linecolor\":\"white\",\"showbackground\":true,\"ticks\":\"\",\"zerolinecolor\":\"white\"},\"zaxis\":{\"backgroundcolor\":\"#E5ECF6\",\"gridcolor\":\"white\",\"gridwidth\":2,\"linecolor\":\"white\",\"showbackground\":true,\"ticks\":\"\",\"zerolinecolor\":\"white\"}},\"shapedefaults\":{\"line\":{\"color\":\"#2a3f5f\"}},\"ternary\":{\"aaxis\":{\"gridcolor\":\"white\",\"linecolor\":\"white\",\"ticks\":\"\"},\"baxis\":{\"gridcolor\":\"white\",\"linecolor\":\"white\",\"ticks\":\"\"},\"bgcolor\":\"#E5ECF6\",\"caxis\":{\"gridcolor\":\"white\",\"linecolor\":\"white\",\"ticks\":\"\"}},\"title\":{\"x\":0.05},\"xaxis\":{\"automargin\":true,\"gridcolor\":\"white\",\"linecolor\":\"white\",\"ticks\":\"\",\"title\":{\"standoff\":15},\"zerolinecolor\":\"white\",\"zerolinewidth\":2},\"yaxis\":{\"automargin\":true,\"gridcolor\":\"white\",\"linecolor\":\"white\",\"ticks\":\"\",\"title\":{\"standoff\":15},\"zerolinecolor\":\"white\",\"zerolinewidth\":2}}},\"title\":{\"font\":{\"color\":\"#4D5663\"}},\"xaxis\":{\"gridcolor\":\"#E1E5ED\",\"showgrid\":true,\"tickfont\":{\"color\":\"#4D5663\"},\"title\":{\"font\":{\"color\":\"#4D5663\"},\"text\":\"\"},\"zerolinecolor\":\"#E1E5ED\"},\"yaxis\":{\"gridcolor\":\"#E1E5ED\",\"showgrid\":true,\"tickfont\":{\"color\":\"#4D5663\"},\"title\":{\"font\":{\"color\":\"#4D5663\"},\"text\":\"\"},\"zerolinecolor\":\"#E1E5ED\"}},                        {\"showLink\": true, \"linkText\": \"Export to plot.ly\", \"plotlyServerURL\": \"https://plot.ly\", \"responsive\": true}                    ).then(function(){\n",
       "                            \n",
       "var gd = document.getElementById('ba38a5e9-08eb-45a5-b02b-1604fb90b30b');\n",
       "var x = new MutationObserver(function (mutations, observer) {{\n",
       "        var display = window.getComputedStyle(gd).display;\n",
       "        if (!display || display === 'none') {{\n",
       "            console.log([gd, 'removed!']);\n",
       "            Plotly.purge(gd);\n",
       "            observer.disconnect();\n",
       "        }}\n",
       "}});\n",
       "\n",
       "// Listen for the removal of the full notebook cells\n",
       "var notebookContainer = gd.closest('#notebook-container');\n",
       "if (notebookContainer) {{\n",
       "    x.observe(notebookContainer, {childList: true});\n",
       "}}\n",
       "\n",
       "// Listen for the clearing of the current output cell\n",
       "var outputEl = gd.closest('.output');\n",
       "if (outputEl) {{\n",
       "    x.observe(outputEl, {childList: true});\n",
       "}}\n",
       "\n",
       "                        })                };                });            </script>        </div>"
      ]
     },
     "metadata": {},
     "output_type": "display_data"
    }
   ],
   "source": [
    "df.iplot(kind='bubble',x='A',y='B',size='C')"
   ]
  },
  {
   "cell_type": "code",
   "execution_count": 45,
   "id": "53a3d031",
   "metadata": {},
   "outputs": [
    {
     "data": {
      "application/vnd.plotly.v1+json": {
       "config": {
        "linkText": "Export to plot.ly",
        "plotlyServerURL": "https://plot.ly",
        "showLink": true
       },
       "data": [
        {
         "histfunc": "count",
         "histnorm": "",
         "marker": {
          "color": "rgba(255, 153, 51, 1.0)",
          "line": {
           "color": "#4D5663",
           "width": 1.3
          }
         },
         "name": "A",
         "nbinsx": 10,
         "opacity": 0.8,
         "orientation": "v",
         "type": "histogram",
         "x": [
          0.9634623893766167,
          -0.12055224845819004,
          0.25008154086228296,
          -0.5013143806434255,
          0.1292844937472286,
          0.4044071864470786,
          -2.0771930414556183,
          -0.020426006358398602,
          0.3849191710124318,
          0.879707817390476,
          -0.9431858876910261,
          -0.7490253238236118,
          0.5924697035901231,
          -1.3940933638268622,
          -0.5719377462453421,
          0.0075937045045873,
          -1.4481325040064896,
          0.21700524462166149,
          -0.1395825213548501,
          -0.24991568489512242,
          0.29452568252983163,
          -0.7905644371689067,
          -0.2997690889834603,
          0.21384176348726486,
          0.08658516570981084,
          0.7454032185178966,
          -0.6281603258099894,
          0.46180435642701845,
          -0.4178004985683218,
          -0.35630133871786407,
          -1.2112066150479495,
          -0.9726056889327593,
          -0.1005023860363253,
          1.0040648633325953,
          -1.0629923769941325,
          2.47531773691314,
          -0.04824382074826237,
          1.7025776795476604,
          -1.236548662174602,
          0.39866376082116467,
          1.333415614245502,
          0.0766655986802566,
          -0.33317061992034,
          -0.07328513704307903,
          0.37972060484157116,
          0.6522436929759483,
          0.8908762959506643,
          -0.41150485447839996,
          -0.3911042477094948,
          -1.7445372379275699,
          0.023978803372944477,
          -0.17442305395410349,
          0.25819460285665935,
          0.4944620618569529,
          -0.5834284135317452,
          -0.3240544301618898,
          -1.5444815784266575,
          -0.4776289313257464,
          0.06945397679857637,
          -0.4278386106429362,
          1.2522658559296482,
          -0.8812452740221121,
          -0.8221355096056416,
          -0.18782134308689513,
          1.8206332470536457,
          -0.6879560063978835,
          1.241741050078539,
          -2.7408858865027486,
          -0.4980842707106779,
          -0.9645117851028521,
          -0.12349607696101607,
          0.14719778655961077,
          -0.3022218597739041,
          0.6471150042134444,
          0.4721020856800413,
          -1.0353926818229156,
          1.3229382115515267,
          -1.2156788535049665,
          0.7614711874891931,
          -0.9013858317983743,
          -1.003047554190563,
          1.1696861418828624,
          0.0390968088724639,
          -0.4260054156967536,
          1.091606297176759,
          1.2036536169313206,
          -0.4427686249514626,
          1.4585873222111359,
          -0.270091310882172,
          0.17838137496146925,
          1.1533524775428632,
          0.5561949849702105,
          0.18208084487524875,
          0.26219091894703034,
          0.7582266638205611,
          0.3703636490699679,
          -0.5948913443755864,
          0.34613627097324257,
          0.07431556715271147,
          -1.2472512715902513
         ],
         "xaxis": "x",
         "yaxis": "y"
        },
        {
         "line": {
          "color": "rgba(128, 128, 128, 1.0)",
          "dash": "solid",
          "shape": "linear",
          "width": 1.3
         },
         "marker": {
          "size": 2,
          "symbol": "circle"
         },
         "mode": "markers",
         "name": "A",
         "text": "",
         "type": "scatter",
         "x": [
          -0.09147954299523928,
          -1.7385508624690544,
          0.9221586878268342,
          -1.0931631569009221,
          0.3314050081963957,
          -1.6860350043840182,
          0.12957115351750878,
          0.5282594700664602,
          -1.724213141676408,
          -0.5551485134413877,
          0.01099836125675915,
          -1.8479965901671493,
          1.3048716149407638,
          -0.47126362237465713,
          0.30461274408286604,
          -0.3624930124832195,
          -0.12427109577985897,
          1.0458392895428787,
          -1.0772505081410064,
          0.956187500896724,
          -0.5134093195098551,
          1.003191182736705,
          1.0054421492812542,
          0.7444342301762672,
          0.9717048416109594,
          -0.5862903672126797,
          1.1402320163276554,
          -0.07586206865034092,
          -1.3020079599314847,
          -1.5532090620038983,
          0.8063276508119176,
          -1.190267123383816,
          -0.45573398022926986,
          0.2492173650282826,
          0.042545897664883724,
          -0.5394012540380726,
          -0.8710337885007717,
          0.27070058032527144,
          1.502715551599413,
          -0.6133569085524814,
          0.7716091967711711,
          -0.844375266511973,
          1.014272863942356,
          1.283227843583457,
          0.5405202955362597,
          0.26670175488612397,
          0.7101520294582939,
          2.07484318757425,
          0.6160923809193212,
          -0.7621923610184558,
          -0.7409270577875984,
          -0.8944055555394634,
          -0.8504280755637271,
          -1.0335914311595302,
          2.1436511287416486,
          0.2941595400966851,
          -1.2670997292914403,
          1.6747192059627178,
          -0.4549685653946752,
          -1.4261740159930605,
          0.2860098578963224,
          -0.6896865460661573,
          0.058011235562708846,
          -1.408955244083918,
          -0.20902752485155054,
          -0.30808010437819333,
          -0.22554007253720418,
          -0.012289759543897499,
          1.1978357038826355,
          0.8808992432676263,
          -0.1577267481768039,
          -0.7663712262064384,
          -1.47674134732821,
          0.48303599341467285,
          0.7484100962354236,
          0.6199214404930379,
          -0.09192405598441374,
          0.5300093476958286,
          1.2785791208003725,
          0.9358425653510516,
          -0.5925670749165277,
          -0.20166372582262201,
          -1.096850817122355,
          -1.0932450615263414,
          0.424315413305436,
          -0.0926162788765071,
          -0.20069809653638093,
          0.9772930851080682,
          0.26386815140631265,
          1.3874266245301734,
          -0.9248958944644438,
          0.17201496834833183,
          -0.9048757219799238,
          0.4288879111931887,
          -0.36738707307769375,
          0.7472144095556358,
          2.272295759735388,
          0.877225373172687,
          -0.4378174124395575,
          -1.1585312621617012
         ],
         "xaxis": "x2",
         "y": [
          0.9634623893766167,
          -0.12055224845819004,
          0.25008154086228296,
          -0.5013143806434255,
          0.1292844937472286,
          0.4044071864470786,
          -2.0771930414556183,
          -0.020426006358398602,
          0.3849191710124318,
          0.879707817390476,
          -0.9431858876910261,
          -0.7490253238236118,
          0.5924697035901231,
          -1.3940933638268622,
          -0.5719377462453421,
          0.0075937045045873,
          -1.4481325040064896,
          0.21700524462166149,
          -0.1395825213548501,
          -0.24991568489512242,
          0.29452568252983163,
          -0.7905644371689067,
          -0.2997690889834603,
          0.21384176348726486,
          0.08658516570981084,
          0.7454032185178966,
          -0.6281603258099894,
          0.46180435642701845,
          -0.4178004985683218,
          -0.35630133871786407,
          -1.2112066150479495,
          -0.9726056889327593,
          -0.1005023860363253,
          1.0040648633325953,
          -1.0629923769941325,
          2.47531773691314,
          -0.04824382074826237,
          1.7025776795476604,
          -1.236548662174602,
          0.39866376082116467,
          1.333415614245502,
          0.0766655986802566,
          -0.33317061992034,
          -0.07328513704307903,
          0.37972060484157116,
          0.6522436929759483,
          0.8908762959506643,
          -0.41150485447839996,
          -0.3911042477094948,
          -1.7445372379275699,
          0.023978803372944477,
          -0.17442305395410349,
          0.25819460285665935,
          0.4944620618569529,
          -0.5834284135317452,
          -0.3240544301618898,
          -1.5444815784266575,
          -0.4776289313257464,
          0.06945397679857637,
          -0.4278386106429362,
          1.2522658559296482,
          -0.8812452740221121,
          -0.8221355096056416,
          -0.18782134308689513,
          1.8206332470536457,
          -0.6879560063978835,
          1.241741050078539,
          -2.7408858865027486,
          -0.4980842707106779,
          -0.9645117851028521,
          -0.12349607696101607,
          0.14719778655961077,
          -0.3022218597739041,
          0.6471150042134444,
          0.4721020856800413,
          -1.0353926818229156,
          1.3229382115515267,
          -1.2156788535049665,
          0.7614711874891931,
          -0.9013858317983743,
          -1.003047554190563,
          1.1696861418828624,
          0.0390968088724639,
          -0.4260054156967536,
          1.091606297176759,
          1.2036536169313206,
          -0.4427686249514626,
          1.4585873222111359,
          -0.270091310882172,
          0.17838137496146925,
          1.1533524775428632,
          0.5561949849702105,
          0.18208084487524875,
          0.26219091894703034,
          0.7582266638205611,
          0.3703636490699679,
          -0.5948913443755864,
          0.34613627097324257,
          0.07431556715271147,
          -1.2472512715902513
         ],
         "yaxis": "y2"
        },
        {
         "line": {
          "color": "rgba(128, 128, 128, 1.0)",
          "dash": "solid",
          "shape": "linear",
          "width": 1.3
         },
         "marker": {
          "size": 2,
          "symbol": "circle"
         },
         "mode": "markers",
         "name": "A",
         "text": "",
         "type": "scatter",
         "x": [
          -0.18464066753779282,
          -1.837509230436605,
          -1.428226235955854,
          -0.19269172454292138,
          -0.09861805876725806,
          -0.6270474301800498,
          -0.07744172305750369,
          -1.3171709649992867,
          0.3896777388807655,
          -0.43291268819866346,
          -1.4752633555225647,
          0.6205395497448952,
          0.26174678012019625,
          0.01079237860016229,
          -0.2932546818019788,
          -0.48818618846841627,
          0.5617576021169364,
          -0.10709881717918422,
          1.1519827392437467,
          0.9003224007732287,
          -1.5676773430795874,
          0.6894923534228223,
          1.4037403210797081,
          -1.51277369058372,
          -0.1508289354292569,
          -1.4432952379527717,
          0.5570755511116148,
          0.14900020795773572,
          -1.0001189121750071,
          -1.3044512140273399,
          0.3862759814637888,
          -0.4188065597005142,
          0.6122983282252088,
          -0.45022406204096216,
          0.9024150719815782,
          0.32213695888356175,
          -0.15675623893701282,
          0.8809068586130961,
          1.053099326359383,
          -0.318492866646178,
          -0.0076614351279544884,
          0.7126223385047062,
          -0.014602804125976686,
          -1.1595424459621422,
          0.8417691791674425,
          -0.19056738474754467,
          2.0412416781683436,
          1.0076319937541325,
          0.7837616214918188,
          0.18988887593466647,
          -0.8149264277747987,
          0.03359639349157924,
          0.44510793187142755,
          0.8045401623710499,
          1.3954190768525638,
          -0.29477428779041814,
          -1.780670974511907,
          0.8199538360869015,
          0.1501494594895702,
          -1.2428346796666963,
          -0.9933306702583978,
          -0.22839952302186403,
          -0.18970102502483172,
          0.48491976220493826,
          0.9357894463118495,
          -1.0560773276372402,
          0.6605859438226847,
          0.8164952220723438,
          0.24509061408222765,
          -0.047949085699612044,
          -0.4730271905747123,
          1.0818437167773567,
          0.18090244215906,
          0.5167874447229025,
          -0.7461192427167384,
          1.104831725043291,
          2.6374468148273453,
          -0.6262404970069213,
          -0.3409569593914698,
          0.2967846166705076,
          0.6172402964404274,
          1.051005691693931,
          1.2841478727772049,
          1.2101133641665631,
          -0.6929839670049587,
          1.328023523948433,
          -0.08738999598215914,
          -1.2842310481852168,
          -0.277226890455086,
          -2.021620617412835,
          0.36565077821684056,
          -0.9215339827069383,
          3.2246408543883303,
          0.9952976646593267,
          0.011044725316802291,
          1.5643094453430852,
          -1.1147105963937614,
          0.6144647744747028,
          -2.008129911047966,
          1.940990359664634
         ],
         "xaxis": "x3",
         "y": [
          0.9634623893766167,
          -0.12055224845819004,
          0.25008154086228296,
          -0.5013143806434255,
          0.1292844937472286,
          0.4044071864470786,
          -2.0771930414556183,
          -0.020426006358398602,
          0.3849191710124318,
          0.879707817390476,
          -0.9431858876910261,
          -0.7490253238236118,
          0.5924697035901231,
          -1.3940933638268622,
          -0.5719377462453421,
          0.0075937045045873,
          -1.4481325040064896,
          0.21700524462166149,
          -0.1395825213548501,
          -0.24991568489512242,
          0.29452568252983163,
          -0.7905644371689067,
          -0.2997690889834603,
          0.21384176348726486,
          0.08658516570981084,
          0.7454032185178966,
          -0.6281603258099894,
          0.46180435642701845,
          -0.4178004985683218,
          -0.35630133871786407,
          -1.2112066150479495,
          -0.9726056889327593,
          -0.1005023860363253,
          1.0040648633325953,
          -1.0629923769941325,
          2.47531773691314,
          -0.04824382074826237,
          1.7025776795476604,
          -1.236548662174602,
          0.39866376082116467,
          1.333415614245502,
          0.0766655986802566,
          -0.33317061992034,
          -0.07328513704307903,
          0.37972060484157116,
          0.6522436929759483,
          0.8908762959506643,
          -0.41150485447839996,
          -0.3911042477094948,
          -1.7445372379275699,
          0.023978803372944477,
          -0.17442305395410349,
          0.25819460285665935,
          0.4944620618569529,
          -0.5834284135317452,
          -0.3240544301618898,
          -1.5444815784266575,
          -0.4776289313257464,
          0.06945397679857637,
          -0.4278386106429362,
          1.2522658559296482,
          -0.8812452740221121,
          -0.8221355096056416,
          -0.18782134308689513,
          1.8206332470536457,
          -0.6879560063978835,
          1.241741050078539,
          -2.7408858865027486,
          -0.4980842707106779,
          -0.9645117851028521,
          -0.12349607696101607,
          0.14719778655961077,
          -0.3022218597739041,
          0.6471150042134444,
          0.4721020856800413,
          -1.0353926818229156,
          1.3229382115515267,
          -1.2156788535049665,
          0.7614711874891931,
          -0.9013858317983743,
          -1.003047554190563,
          1.1696861418828624,
          0.0390968088724639,
          -0.4260054156967536,
          1.091606297176759,
          1.2036536169313206,
          -0.4427686249514626,
          1.4585873222111359,
          -0.270091310882172,
          0.17838137496146925,
          1.1533524775428632,
          0.5561949849702105,
          0.18208084487524875,
          0.26219091894703034,
          0.7582266638205611,
          0.3703636490699679,
          -0.5948913443755864,
          0.34613627097324257,
          0.07431556715271147,
          -1.2472512715902513
         ],
         "yaxis": "y3"
        },
        {
         "line": {
          "color": "rgba(128, 128, 128, 1.0)",
          "dash": "solid",
          "shape": "linear",
          "width": 1.3
         },
         "marker": {
          "size": 2,
          "symbol": "circle"
         },
         "mode": "markers",
         "name": "A",
         "text": "",
         "type": "scatter",
         "x": [
          -0.08512206312857473,
          1.486407132031537,
          0.1887236175934673,
          -0.6587370788072245,
          0.8021640273677891,
          0.5443892263293457,
          0.20834514920619607,
          -0.07206935499983638,
          -0.26818936472631943,
          0.14810415004951727,
          -0.558910061751106,
          -1.2361499328435568,
          -0.6171150192321198,
          -0.6312618538076438,
          -0.38342528640093754,
          -1.1290014540447832,
          0.23905590971250462,
          -1.2902692411105796,
          1.6632798496327437,
          -0.035330081775259224,
          0.10073442495879993,
          2.0346952555840487,
          -0.6195135593211537,
          1.4765246380232582,
          1.7228897117841506,
          1.5394984261152216,
          0.6476726909051266,
          -0.5015479486651164,
          0.8778301434127571,
          0.1653730231310223,
          0.8597597904792134,
          1.2557685621328203,
          -1.677002311724053,
          -0.27642368508153675,
          -0.3733767434475656,
          -1.0063910776785316,
          0.03496993723532587,
          0.981777137735842,
          -0.4273572629003103,
          0.6760994725892184,
          -0.6277173191994817,
          0.14374538023070144,
          1.1023037704136809,
          0.39365451494717063,
          -0.13524838032017725,
          0.4652095890846506,
          0.10193721841647994,
          0.6314232804944321,
          -0.021969475349004307,
          2.6869789741262293,
          0.7763693310873739,
          1.8959559797534367,
          0.5808260466765565,
          -0.20287578750962781,
          1.6669053047351992,
          1.569415295256676,
          0.6469816481578303,
          0.9091471095088757,
          -0.42699564666425743,
          -1.6585842658061019,
          1.005712753595606,
          1.2298763821171592,
          -0.05502666707050185,
          -0.03903247214908511,
          -1.0556162689302442,
          -0.5463356036243555,
          -1.6557532965774253,
          -0.29611176119413807,
          0.47500785671078954,
          -0.4116662152492864,
          0.6800303562998444,
          1.4451912367366986,
          -1.2242056864119761,
          1.2079089216920498,
          -0.9627138431084818,
          -0.7173767763805619,
          -0.4552075860149596,
          -0.006063658365125847,
          1.6702570707356326,
          -0.1985989829236588,
          0.06420722035318865,
          -0.3979436277761738,
          -0.2517310168970227,
          2.8531515695969056,
          0.699188101188425,
          -0.08285848283918196,
          1.2288750254001923,
          -1.084786027751436,
          -0.27032731793271364,
          0.6757470731006939,
          -1.8120325092008889,
          -1.019320251168823,
          -0.31185859127294063,
          -1.4994503096134124,
          0.3907580059865929,
          1.0616677694035255,
          -1.7278263238982272,
          1.6384475295921113,
          -0.5737770052559245,
          0.7716445727847083
         ],
         "xaxis": "x4",
         "y": [
          0.9634623893766167,
          -0.12055224845819004,
          0.25008154086228296,
          -0.5013143806434255,
          0.1292844937472286,
          0.4044071864470786,
          -2.0771930414556183,
          -0.020426006358398602,
          0.3849191710124318,
          0.879707817390476,
          -0.9431858876910261,
          -0.7490253238236118,
          0.5924697035901231,
          -1.3940933638268622,
          -0.5719377462453421,
          0.0075937045045873,
          -1.4481325040064896,
          0.21700524462166149,
          -0.1395825213548501,
          -0.24991568489512242,
          0.29452568252983163,
          -0.7905644371689067,
          -0.2997690889834603,
          0.21384176348726486,
          0.08658516570981084,
          0.7454032185178966,
          -0.6281603258099894,
          0.46180435642701845,
          -0.4178004985683218,
          -0.35630133871786407,
          -1.2112066150479495,
          -0.9726056889327593,
          -0.1005023860363253,
          1.0040648633325953,
          -1.0629923769941325,
          2.47531773691314,
          -0.04824382074826237,
          1.7025776795476604,
          -1.236548662174602,
          0.39866376082116467,
          1.333415614245502,
          0.0766655986802566,
          -0.33317061992034,
          -0.07328513704307903,
          0.37972060484157116,
          0.6522436929759483,
          0.8908762959506643,
          -0.41150485447839996,
          -0.3911042477094948,
          -1.7445372379275699,
          0.023978803372944477,
          -0.17442305395410349,
          0.25819460285665935,
          0.4944620618569529,
          -0.5834284135317452,
          -0.3240544301618898,
          -1.5444815784266575,
          -0.4776289313257464,
          0.06945397679857637,
          -0.4278386106429362,
          1.2522658559296482,
          -0.8812452740221121,
          -0.8221355096056416,
          -0.18782134308689513,
          1.8206332470536457,
          -0.6879560063978835,
          1.241741050078539,
          -2.7408858865027486,
          -0.4980842707106779,
          -0.9645117851028521,
          -0.12349607696101607,
          0.14719778655961077,
          -0.3022218597739041,
          0.6471150042134444,
          0.4721020856800413,
          -1.0353926818229156,
          1.3229382115515267,
          -1.2156788535049665,
          0.7614711874891931,
          -0.9013858317983743,
          -1.003047554190563,
          1.1696861418828624,
          0.0390968088724639,
          -0.4260054156967536,
          1.091606297176759,
          1.2036536169313206,
          -0.4427686249514626,
          1.4585873222111359,
          -0.270091310882172,
          0.17838137496146925,
          1.1533524775428632,
          0.5561949849702105,
          0.18208084487524875,
          0.26219091894703034,
          0.7582266638205611,
          0.3703636490699679,
          -0.5948913443755864,
          0.34613627097324257,
          0.07431556715271147,
          -1.2472512715902513
         ],
         "yaxis": "y4"
        },
        {
         "line": {
          "color": "rgba(128, 128, 128, 1.0)",
          "dash": "solid",
          "shape": "linear",
          "width": 1.3
         },
         "marker": {
          "size": 2,
          "symbol": "circle"
         },
         "mode": "markers",
         "name": "B",
         "text": "",
         "type": "scatter",
         "x": [
          0.9634623893766167,
          -0.12055224845819004,
          0.25008154086228296,
          -0.5013143806434255,
          0.1292844937472286,
          0.4044071864470786,
          -2.0771930414556183,
          -0.020426006358398602,
          0.3849191710124318,
          0.879707817390476,
          -0.9431858876910261,
          -0.7490253238236118,
          0.5924697035901231,
          -1.3940933638268622,
          -0.5719377462453421,
          0.0075937045045873,
          -1.4481325040064896,
          0.21700524462166149,
          -0.1395825213548501,
          -0.24991568489512242,
          0.29452568252983163,
          -0.7905644371689067,
          -0.2997690889834603,
          0.21384176348726486,
          0.08658516570981084,
          0.7454032185178966,
          -0.6281603258099894,
          0.46180435642701845,
          -0.4178004985683218,
          -0.35630133871786407,
          -1.2112066150479495,
          -0.9726056889327593,
          -0.1005023860363253,
          1.0040648633325953,
          -1.0629923769941325,
          2.47531773691314,
          -0.04824382074826237,
          1.7025776795476604,
          -1.236548662174602,
          0.39866376082116467,
          1.333415614245502,
          0.0766655986802566,
          -0.33317061992034,
          -0.07328513704307903,
          0.37972060484157116,
          0.6522436929759483,
          0.8908762959506643,
          -0.41150485447839996,
          -0.3911042477094948,
          -1.7445372379275699,
          0.023978803372944477,
          -0.17442305395410349,
          0.25819460285665935,
          0.4944620618569529,
          -0.5834284135317452,
          -0.3240544301618898,
          -1.5444815784266575,
          -0.4776289313257464,
          0.06945397679857637,
          -0.4278386106429362,
          1.2522658559296482,
          -0.8812452740221121,
          -0.8221355096056416,
          -0.18782134308689513,
          1.8206332470536457,
          -0.6879560063978835,
          1.241741050078539,
          -2.7408858865027486,
          -0.4980842707106779,
          -0.9645117851028521,
          -0.12349607696101607,
          0.14719778655961077,
          -0.3022218597739041,
          0.6471150042134444,
          0.4721020856800413,
          -1.0353926818229156,
          1.3229382115515267,
          -1.2156788535049665,
          0.7614711874891931,
          -0.9013858317983743,
          -1.003047554190563,
          1.1696861418828624,
          0.0390968088724639,
          -0.4260054156967536,
          1.091606297176759,
          1.2036536169313206,
          -0.4427686249514626,
          1.4585873222111359,
          -0.270091310882172,
          0.17838137496146925,
          1.1533524775428632,
          0.5561949849702105,
          0.18208084487524875,
          0.26219091894703034,
          0.7582266638205611,
          0.3703636490699679,
          -0.5948913443755864,
          0.34613627097324257,
          0.07431556715271147,
          -1.2472512715902513
         ],
         "xaxis": "x5",
         "y": [
          -0.09147954299523928,
          -1.7385508624690544,
          0.9221586878268342,
          -1.0931631569009221,
          0.3314050081963957,
          -1.6860350043840182,
          0.12957115351750878,
          0.5282594700664602,
          -1.724213141676408,
          -0.5551485134413877,
          0.01099836125675915,
          -1.8479965901671493,
          1.3048716149407638,
          -0.47126362237465713,
          0.30461274408286604,
          -0.3624930124832195,
          -0.12427109577985897,
          1.0458392895428787,
          -1.0772505081410064,
          0.956187500896724,
          -0.5134093195098551,
          1.003191182736705,
          1.0054421492812542,
          0.7444342301762672,
          0.9717048416109594,
          -0.5862903672126797,
          1.1402320163276554,
          -0.07586206865034092,
          -1.3020079599314847,
          -1.5532090620038983,
          0.8063276508119176,
          -1.190267123383816,
          -0.45573398022926986,
          0.2492173650282826,
          0.042545897664883724,
          -0.5394012540380726,
          -0.8710337885007717,
          0.27070058032527144,
          1.502715551599413,
          -0.6133569085524814,
          0.7716091967711711,
          -0.844375266511973,
          1.014272863942356,
          1.283227843583457,
          0.5405202955362597,
          0.26670175488612397,
          0.7101520294582939,
          2.07484318757425,
          0.6160923809193212,
          -0.7621923610184558,
          -0.7409270577875984,
          -0.8944055555394634,
          -0.8504280755637271,
          -1.0335914311595302,
          2.1436511287416486,
          0.2941595400966851,
          -1.2670997292914403,
          1.6747192059627178,
          -0.4549685653946752,
          -1.4261740159930605,
          0.2860098578963224,
          -0.6896865460661573,
          0.058011235562708846,
          -1.408955244083918,
          -0.20902752485155054,
          -0.30808010437819333,
          -0.22554007253720418,
          -0.012289759543897499,
          1.1978357038826355,
          0.8808992432676263,
          -0.1577267481768039,
          -0.7663712262064384,
          -1.47674134732821,
          0.48303599341467285,
          0.7484100962354236,
          0.6199214404930379,
          -0.09192405598441374,
          0.5300093476958286,
          1.2785791208003725,
          0.9358425653510516,
          -0.5925670749165277,
          -0.20166372582262201,
          -1.096850817122355,
          -1.0932450615263414,
          0.424315413305436,
          -0.0926162788765071,
          -0.20069809653638093,
          0.9772930851080682,
          0.26386815140631265,
          1.3874266245301734,
          -0.9248958944644438,
          0.17201496834833183,
          -0.9048757219799238,
          0.4288879111931887,
          -0.36738707307769375,
          0.7472144095556358,
          2.272295759735388,
          0.877225373172687,
          -0.4378174124395575,
          -1.1585312621617012
         ],
         "yaxis": "y5"
        },
        {
         "histfunc": "count",
         "histnorm": "",
         "marker": {
          "color": "rgba(55, 128, 191, 1.0)",
          "line": {
           "color": "#4D5663",
           "width": 1.3
          }
         },
         "name": "B",
         "nbinsx": 10,
         "opacity": 0.8,
         "orientation": "v",
         "type": "histogram",
         "x": [
          -0.09147954299523928,
          -1.7385508624690544,
          0.9221586878268342,
          -1.0931631569009221,
          0.3314050081963957,
          -1.6860350043840182,
          0.12957115351750878,
          0.5282594700664602,
          -1.724213141676408,
          -0.5551485134413877,
          0.01099836125675915,
          -1.8479965901671493,
          1.3048716149407638,
          -0.47126362237465713,
          0.30461274408286604,
          -0.3624930124832195,
          -0.12427109577985897,
          1.0458392895428787,
          -1.0772505081410064,
          0.956187500896724,
          -0.5134093195098551,
          1.003191182736705,
          1.0054421492812542,
          0.7444342301762672,
          0.9717048416109594,
          -0.5862903672126797,
          1.1402320163276554,
          -0.07586206865034092,
          -1.3020079599314847,
          -1.5532090620038983,
          0.8063276508119176,
          -1.190267123383816,
          -0.45573398022926986,
          0.2492173650282826,
          0.042545897664883724,
          -0.5394012540380726,
          -0.8710337885007717,
          0.27070058032527144,
          1.502715551599413,
          -0.6133569085524814,
          0.7716091967711711,
          -0.844375266511973,
          1.014272863942356,
          1.283227843583457,
          0.5405202955362597,
          0.26670175488612397,
          0.7101520294582939,
          2.07484318757425,
          0.6160923809193212,
          -0.7621923610184558,
          -0.7409270577875984,
          -0.8944055555394634,
          -0.8504280755637271,
          -1.0335914311595302,
          2.1436511287416486,
          0.2941595400966851,
          -1.2670997292914403,
          1.6747192059627178,
          -0.4549685653946752,
          -1.4261740159930605,
          0.2860098578963224,
          -0.6896865460661573,
          0.058011235562708846,
          -1.408955244083918,
          -0.20902752485155054,
          -0.30808010437819333,
          -0.22554007253720418,
          -0.012289759543897499,
          1.1978357038826355,
          0.8808992432676263,
          -0.1577267481768039,
          -0.7663712262064384,
          -1.47674134732821,
          0.48303599341467285,
          0.7484100962354236,
          0.6199214404930379,
          -0.09192405598441374,
          0.5300093476958286,
          1.2785791208003725,
          0.9358425653510516,
          -0.5925670749165277,
          -0.20166372582262201,
          -1.096850817122355,
          -1.0932450615263414,
          0.424315413305436,
          -0.0926162788765071,
          -0.20069809653638093,
          0.9772930851080682,
          0.26386815140631265,
          1.3874266245301734,
          -0.9248958944644438,
          0.17201496834833183,
          -0.9048757219799238,
          0.4288879111931887,
          -0.36738707307769375,
          0.7472144095556358,
          2.272295759735388,
          0.877225373172687,
          -0.4378174124395575,
          -1.1585312621617012
         ],
         "xaxis": "x6",
         "yaxis": "y6"
        },
        {
         "line": {
          "color": "rgba(128, 128, 128, 1.0)",
          "dash": "solid",
          "shape": "linear",
          "width": 1.3
         },
         "marker": {
          "size": 2,
          "symbol": "circle"
         },
         "mode": "markers",
         "name": "B",
         "text": "",
         "type": "scatter",
         "x": [
          -0.18464066753779282,
          -1.837509230436605,
          -1.428226235955854,
          -0.19269172454292138,
          -0.09861805876725806,
          -0.6270474301800498,
          -0.07744172305750369,
          -1.3171709649992867,
          0.3896777388807655,
          -0.43291268819866346,
          -1.4752633555225647,
          0.6205395497448952,
          0.26174678012019625,
          0.01079237860016229,
          -0.2932546818019788,
          -0.48818618846841627,
          0.5617576021169364,
          -0.10709881717918422,
          1.1519827392437467,
          0.9003224007732287,
          -1.5676773430795874,
          0.6894923534228223,
          1.4037403210797081,
          -1.51277369058372,
          -0.1508289354292569,
          -1.4432952379527717,
          0.5570755511116148,
          0.14900020795773572,
          -1.0001189121750071,
          -1.3044512140273399,
          0.3862759814637888,
          -0.4188065597005142,
          0.6122983282252088,
          -0.45022406204096216,
          0.9024150719815782,
          0.32213695888356175,
          -0.15675623893701282,
          0.8809068586130961,
          1.053099326359383,
          -0.318492866646178,
          -0.0076614351279544884,
          0.7126223385047062,
          -0.014602804125976686,
          -1.1595424459621422,
          0.8417691791674425,
          -0.19056738474754467,
          2.0412416781683436,
          1.0076319937541325,
          0.7837616214918188,
          0.18988887593466647,
          -0.8149264277747987,
          0.03359639349157924,
          0.44510793187142755,
          0.8045401623710499,
          1.3954190768525638,
          -0.29477428779041814,
          -1.780670974511907,
          0.8199538360869015,
          0.1501494594895702,
          -1.2428346796666963,
          -0.9933306702583978,
          -0.22839952302186403,
          -0.18970102502483172,
          0.48491976220493826,
          0.9357894463118495,
          -1.0560773276372402,
          0.6605859438226847,
          0.8164952220723438,
          0.24509061408222765,
          -0.047949085699612044,
          -0.4730271905747123,
          1.0818437167773567,
          0.18090244215906,
          0.5167874447229025,
          -0.7461192427167384,
          1.104831725043291,
          2.6374468148273453,
          -0.6262404970069213,
          -0.3409569593914698,
          0.2967846166705076,
          0.6172402964404274,
          1.051005691693931,
          1.2841478727772049,
          1.2101133641665631,
          -0.6929839670049587,
          1.328023523948433,
          -0.08738999598215914,
          -1.2842310481852168,
          -0.277226890455086,
          -2.021620617412835,
          0.36565077821684056,
          -0.9215339827069383,
          3.2246408543883303,
          0.9952976646593267,
          0.011044725316802291,
          1.5643094453430852,
          -1.1147105963937614,
          0.6144647744747028,
          -2.008129911047966,
          1.940990359664634
         ],
         "xaxis": "x7",
         "y": [
          -0.09147954299523928,
          -1.7385508624690544,
          0.9221586878268342,
          -1.0931631569009221,
          0.3314050081963957,
          -1.6860350043840182,
          0.12957115351750878,
          0.5282594700664602,
          -1.724213141676408,
          -0.5551485134413877,
          0.01099836125675915,
          -1.8479965901671493,
          1.3048716149407638,
          -0.47126362237465713,
          0.30461274408286604,
          -0.3624930124832195,
          -0.12427109577985897,
          1.0458392895428787,
          -1.0772505081410064,
          0.956187500896724,
          -0.5134093195098551,
          1.003191182736705,
          1.0054421492812542,
          0.7444342301762672,
          0.9717048416109594,
          -0.5862903672126797,
          1.1402320163276554,
          -0.07586206865034092,
          -1.3020079599314847,
          -1.5532090620038983,
          0.8063276508119176,
          -1.190267123383816,
          -0.45573398022926986,
          0.2492173650282826,
          0.042545897664883724,
          -0.5394012540380726,
          -0.8710337885007717,
          0.27070058032527144,
          1.502715551599413,
          -0.6133569085524814,
          0.7716091967711711,
          -0.844375266511973,
          1.014272863942356,
          1.283227843583457,
          0.5405202955362597,
          0.26670175488612397,
          0.7101520294582939,
          2.07484318757425,
          0.6160923809193212,
          -0.7621923610184558,
          -0.7409270577875984,
          -0.8944055555394634,
          -0.8504280755637271,
          -1.0335914311595302,
          2.1436511287416486,
          0.2941595400966851,
          -1.2670997292914403,
          1.6747192059627178,
          -0.4549685653946752,
          -1.4261740159930605,
          0.2860098578963224,
          -0.6896865460661573,
          0.058011235562708846,
          -1.408955244083918,
          -0.20902752485155054,
          -0.30808010437819333,
          -0.22554007253720418,
          -0.012289759543897499,
          1.1978357038826355,
          0.8808992432676263,
          -0.1577267481768039,
          -0.7663712262064384,
          -1.47674134732821,
          0.48303599341467285,
          0.7484100962354236,
          0.6199214404930379,
          -0.09192405598441374,
          0.5300093476958286,
          1.2785791208003725,
          0.9358425653510516,
          -0.5925670749165277,
          -0.20166372582262201,
          -1.096850817122355,
          -1.0932450615263414,
          0.424315413305436,
          -0.0926162788765071,
          -0.20069809653638093,
          0.9772930851080682,
          0.26386815140631265,
          1.3874266245301734,
          -0.9248958944644438,
          0.17201496834833183,
          -0.9048757219799238,
          0.4288879111931887,
          -0.36738707307769375,
          0.7472144095556358,
          2.272295759735388,
          0.877225373172687,
          -0.4378174124395575,
          -1.1585312621617012
         ],
         "yaxis": "y7"
        },
        {
         "line": {
          "color": "rgba(128, 128, 128, 1.0)",
          "dash": "solid",
          "shape": "linear",
          "width": 1.3
         },
         "marker": {
          "size": 2,
          "symbol": "circle"
         },
         "mode": "markers",
         "name": "B",
         "text": "",
         "type": "scatter",
         "x": [
          -0.08512206312857473,
          1.486407132031537,
          0.1887236175934673,
          -0.6587370788072245,
          0.8021640273677891,
          0.5443892263293457,
          0.20834514920619607,
          -0.07206935499983638,
          -0.26818936472631943,
          0.14810415004951727,
          -0.558910061751106,
          -1.2361499328435568,
          -0.6171150192321198,
          -0.6312618538076438,
          -0.38342528640093754,
          -1.1290014540447832,
          0.23905590971250462,
          -1.2902692411105796,
          1.6632798496327437,
          -0.035330081775259224,
          0.10073442495879993,
          2.0346952555840487,
          -0.6195135593211537,
          1.4765246380232582,
          1.7228897117841506,
          1.5394984261152216,
          0.6476726909051266,
          -0.5015479486651164,
          0.8778301434127571,
          0.1653730231310223,
          0.8597597904792134,
          1.2557685621328203,
          -1.677002311724053,
          -0.27642368508153675,
          -0.3733767434475656,
          -1.0063910776785316,
          0.03496993723532587,
          0.981777137735842,
          -0.4273572629003103,
          0.6760994725892184,
          -0.6277173191994817,
          0.14374538023070144,
          1.1023037704136809,
          0.39365451494717063,
          -0.13524838032017725,
          0.4652095890846506,
          0.10193721841647994,
          0.6314232804944321,
          -0.021969475349004307,
          2.6869789741262293,
          0.7763693310873739,
          1.8959559797534367,
          0.5808260466765565,
          -0.20287578750962781,
          1.6669053047351992,
          1.569415295256676,
          0.6469816481578303,
          0.9091471095088757,
          -0.42699564666425743,
          -1.6585842658061019,
          1.005712753595606,
          1.2298763821171592,
          -0.05502666707050185,
          -0.03903247214908511,
          -1.0556162689302442,
          -0.5463356036243555,
          -1.6557532965774253,
          -0.29611176119413807,
          0.47500785671078954,
          -0.4116662152492864,
          0.6800303562998444,
          1.4451912367366986,
          -1.2242056864119761,
          1.2079089216920498,
          -0.9627138431084818,
          -0.7173767763805619,
          -0.4552075860149596,
          -0.006063658365125847,
          1.6702570707356326,
          -0.1985989829236588,
          0.06420722035318865,
          -0.3979436277761738,
          -0.2517310168970227,
          2.8531515695969056,
          0.699188101188425,
          -0.08285848283918196,
          1.2288750254001923,
          -1.084786027751436,
          -0.27032731793271364,
          0.6757470731006939,
          -1.8120325092008889,
          -1.019320251168823,
          -0.31185859127294063,
          -1.4994503096134124,
          0.3907580059865929,
          1.0616677694035255,
          -1.7278263238982272,
          1.6384475295921113,
          -0.5737770052559245,
          0.7716445727847083
         ],
         "xaxis": "x8",
         "y": [
          -0.09147954299523928,
          -1.7385508624690544,
          0.9221586878268342,
          -1.0931631569009221,
          0.3314050081963957,
          -1.6860350043840182,
          0.12957115351750878,
          0.5282594700664602,
          -1.724213141676408,
          -0.5551485134413877,
          0.01099836125675915,
          -1.8479965901671493,
          1.3048716149407638,
          -0.47126362237465713,
          0.30461274408286604,
          -0.3624930124832195,
          -0.12427109577985897,
          1.0458392895428787,
          -1.0772505081410064,
          0.956187500896724,
          -0.5134093195098551,
          1.003191182736705,
          1.0054421492812542,
          0.7444342301762672,
          0.9717048416109594,
          -0.5862903672126797,
          1.1402320163276554,
          -0.07586206865034092,
          -1.3020079599314847,
          -1.5532090620038983,
          0.8063276508119176,
          -1.190267123383816,
          -0.45573398022926986,
          0.2492173650282826,
          0.042545897664883724,
          -0.5394012540380726,
          -0.8710337885007717,
          0.27070058032527144,
          1.502715551599413,
          -0.6133569085524814,
          0.7716091967711711,
          -0.844375266511973,
          1.014272863942356,
          1.283227843583457,
          0.5405202955362597,
          0.26670175488612397,
          0.7101520294582939,
          2.07484318757425,
          0.6160923809193212,
          -0.7621923610184558,
          -0.7409270577875984,
          -0.8944055555394634,
          -0.8504280755637271,
          -1.0335914311595302,
          2.1436511287416486,
          0.2941595400966851,
          -1.2670997292914403,
          1.6747192059627178,
          -0.4549685653946752,
          -1.4261740159930605,
          0.2860098578963224,
          -0.6896865460661573,
          0.058011235562708846,
          -1.408955244083918,
          -0.20902752485155054,
          -0.30808010437819333,
          -0.22554007253720418,
          -0.012289759543897499,
          1.1978357038826355,
          0.8808992432676263,
          -0.1577267481768039,
          -0.7663712262064384,
          -1.47674134732821,
          0.48303599341467285,
          0.7484100962354236,
          0.6199214404930379,
          -0.09192405598441374,
          0.5300093476958286,
          1.2785791208003725,
          0.9358425653510516,
          -0.5925670749165277,
          -0.20166372582262201,
          -1.096850817122355,
          -1.0932450615263414,
          0.424315413305436,
          -0.0926162788765071,
          -0.20069809653638093,
          0.9772930851080682,
          0.26386815140631265,
          1.3874266245301734,
          -0.9248958944644438,
          0.17201496834833183,
          -0.9048757219799238,
          0.4288879111931887,
          -0.36738707307769375,
          0.7472144095556358,
          2.272295759735388,
          0.877225373172687,
          -0.4378174124395575,
          -1.1585312621617012
         ],
         "yaxis": "y8"
        },
        {
         "line": {
          "color": "rgba(128, 128, 128, 1.0)",
          "dash": "solid",
          "shape": "linear",
          "width": 1.3
         },
         "marker": {
          "size": 2,
          "symbol": "circle"
         },
         "mode": "markers",
         "name": "C",
         "text": "",
         "type": "scatter",
         "x": [
          0.9634623893766167,
          -0.12055224845819004,
          0.25008154086228296,
          -0.5013143806434255,
          0.1292844937472286,
          0.4044071864470786,
          -2.0771930414556183,
          -0.020426006358398602,
          0.3849191710124318,
          0.879707817390476,
          -0.9431858876910261,
          -0.7490253238236118,
          0.5924697035901231,
          -1.3940933638268622,
          -0.5719377462453421,
          0.0075937045045873,
          -1.4481325040064896,
          0.21700524462166149,
          -0.1395825213548501,
          -0.24991568489512242,
          0.29452568252983163,
          -0.7905644371689067,
          -0.2997690889834603,
          0.21384176348726486,
          0.08658516570981084,
          0.7454032185178966,
          -0.6281603258099894,
          0.46180435642701845,
          -0.4178004985683218,
          -0.35630133871786407,
          -1.2112066150479495,
          -0.9726056889327593,
          -0.1005023860363253,
          1.0040648633325953,
          -1.0629923769941325,
          2.47531773691314,
          -0.04824382074826237,
          1.7025776795476604,
          -1.236548662174602,
          0.39866376082116467,
          1.333415614245502,
          0.0766655986802566,
          -0.33317061992034,
          -0.07328513704307903,
          0.37972060484157116,
          0.6522436929759483,
          0.8908762959506643,
          -0.41150485447839996,
          -0.3911042477094948,
          -1.7445372379275699,
          0.023978803372944477,
          -0.17442305395410349,
          0.25819460285665935,
          0.4944620618569529,
          -0.5834284135317452,
          -0.3240544301618898,
          -1.5444815784266575,
          -0.4776289313257464,
          0.06945397679857637,
          -0.4278386106429362,
          1.2522658559296482,
          -0.8812452740221121,
          -0.8221355096056416,
          -0.18782134308689513,
          1.8206332470536457,
          -0.6879560063978835,
          1.241741050078539,
          -2.7408858865027486,
          -0.4980842707106779,
          -0.9645117851028521,
          -0.12349607696101607,
          0.14719778655961077,
          -0.3022218597739041,
          0.6471150042134444,
          0.4721020856800413,
          -1.0353926818229156,
          1.3229382115515267,
          -1.2156788535049665,
          0.7614711874891931,
          -0.9013858317983743,
          -1.003047554190563,
          1.1696861418828624,
          0.0390968088724639,
          -0.4260054156967536,
          1.091606297176759,
          1.2036536169313206,
          -0.4427686249514626,
          1.4585873222111359,
          -0.270091310882172,
          0.17838137496146925,
          1.1533524775428632,
          0.5561949849702105,
          0.18208084487524875,
          0.26219091894703034,
          0.7582266638205611,
          0.3703636490699679,
          -0.5948913443755864,
          0.34613627097324257,
          0.07431556715271147,
          -1.2472512715902513
         ],
         "xaxis": "x9",
         "y": [
          -0.18464066753779282,
          -1.837509230436605,
          -1.428226235955854,
          -0.19269172454292138,
          -0.09861805876725806,
          -0.6270474301800498,
          -0.07744172305750369,
          -1.3171709649992867,
          0.3896777388807655,
          -0.43291268819866346,
          -1.4752633555225647,
          0.6205395497448952,
          0.26174678012019625,
          0.01079237860016229,
          -0.2932546818019788,
          -0.48818618846841627,
          0.5617576021169364,
          -0.10709881717918422,
          1.1519827392437467,
          0.9003224007732287,
          -1.5676773430795874,
          0.6894923534228223,
          1.4037403210797081,
          -1.51277369058372,
          -0.1508289354292569,
          -1.4432952379527717,
          0.5570755511116148,
          0.14900020795773572,
          -1.0001189121750071,
          -1.3044512140273399,
          0.3862759814637888,
          -0.4188065597005142,
          0.6122983282252088,
          -0.45022406204096216,
          0.9024150719815782,
          0.32213695888356175,
          -0.15675623893701282,
          0.8809068586130961,
          1.053099326359383,
          -0.318492866646178,
          -0.0076614351279544884,
          0.7126223385047062,
          -0.014602804125976686,
          -1.1595424459621422,
          0.8417691791674425,
          -0.19056738474754467,
          2.0412416781683436,
          1.0076319937541325,
          0.7837616214918188,
          0.18988887593466647,
          -0.8149264277747987,
          0.03359639349157924,
          0.44510793187142755,
          0.8045401623710499,
          1.3954190768525638,
          -0.29477428779041814,
          -1.780670974511907,
          0.8199538360869015,
          0.1501494594895702,
          -1.2428346796666963,
          -0.9933306702583978,
          -0.22839952302186403,
          -0.18970102502483172,
          0.48491976220493826,
          0.9357894463118495,
          -1.0560773276372402,
          0.6605859438226847,
          0.8164952220723438,
          0.24509061408222765,
          -0.047949085699612044,
          -0.4730271905747123,
          1.0818437167773567,
          0.18090244215906,
          0.5167874447229025,
          -0.7461192427167384,
          1.104831725043291,
          2.6374468148273453,
          -0.6262404970069213,
          -0.3409569593914698,
          0.2967846166705076,
          0.6172402964404274,
          1.051005691693931,
          1.2841478727772049,
          1.2101133641665631,
          -0.6929839670049587,
          1.328023523948433,
          -0.08738999598215914,
          -1.2842310481852168,
          -0.277226890455086,
          -2.021620617412835,
          0.36565077821684056,
          -0.9215339827069383,
          3.2246408543883303,
          0.9952976646593267,
          0.011044725316802291,
          1.5643094453430852,
          -1.1147105963937614,
          0.6144647744747028,
          -2.008129911047966,
          1.940990359664634
         ],
         "yaxis": "y9"
        },
        {
         "line": {
          "color": "rgba(128, 128, 128, 1.0)",
          "dash": "solid",
          "shape": "linear",
          "width": 1.3
         },
         "marker": {
          "size": 2,
          "symbol": "circle"
         },
         "mode": "markers",
         "name": "C",
         "text": "",
         "type": "scatter",
         "x": [
          -0.09147954299523928,
          -1.7385508624690544,
          0.9221586878268342,
          -1.0931631569009221,
          0.3314050081963957,
          -1.6860350043840182,
          0.12957115351750878,
          0.5282594700664602,
          -1.724213141676408,
          -0.5551485134413877,
          0.01099836125675915,
          -1.8479965901671493,
          1.3048716149407638,
          -0.47126362237465713,
          0.30461274408286604,
          -0.3624930124832195,
          -0.12427109577985897,
          1.0458392895428787,
          -1.0772505081410064,
          0.956187500896724,
          -0.5134093195098551,
          1.003191182736705,
          1.0054421492812542,
          0.7444342301762672,
          0.9717048416109594,
          -0.5862903672126797,
          1.1402320163276554,
          -0.07586206865034092,
          -1.3020079599314847,
          -1.5532090620038983,
          0.8063276508119176,
          -1.190267123383816,
          -0.45573398022926986,
          0.2492173650282826,
          0.042545897664883724,
          -0.5394012540380726,
          -0.8710337885007717,
          0.27070058032527144,
          1.502715551599413,
          -0.6133569085524814,
          0.7716091967711711,
          -0.844375266511973,
          1.014272863942356,
          1.283227843583457,
          0.5405202955362597,
          0.26670175488612397,
          0.7101520294582939,
          2.07484318757425,
          0.6160923809193212,
          -0.7621923610184558,
          -0.7409270577875984,
          -0.8944055555394634,
          -0.8504280755637271,
          -1.0335914311595302,
          2.1436511287416486,
          0.2941595400966851,
          -1.2670997292914403,
          1.6747192059627178,
          -0.4549685653946752,
          -1.4261740159930605,
          0.2860098578963224,
          -0.6896865460661573,
          0.058011235562708846,
          -1.408955244083918,
          -0.20902752485155054,
          -0.30808010437819333,
          -0.22554007253720418,
          -0.012289759543897499,
          1.1978357038826355,
          0.8808992432676263,
          -0.1577267481768039,
          -0.7663712262064384,
          -1.47674134732821,
          0.48303599341467285,
          0.7484100962354236,
          0.6199214404930379,
          -0.09192405598441374,
          0.5300093476958286,
          1.2785791208003725,
          0.9358425653510516,
          -0.5925670749165277,
          -0.20166372582262201,
          -1.096850817122355,
          -1.0932450615263414,
          0.424315413305436,
          -0.0926162788765071,
          -0.20069809653638093,
          0.9772930851080682,
          0.26386815140631265,
          1.3874266245301734,
          -0.9248958944644438,
          0.17201496834833183,
          -0.9048757219799238,
          0.4288879111931887,
          -0.36738707307769375,
          0.7472144095556358,
          2.272295759735388,
          0.877225373172687,
          -0.4378174124395575,
          -1.1585312621617012
         ],
         "xaxis": "x10",
         "y": [
          -0.18464066753779282,
          -1.837509230436605,
          -1.428226235955854,
          -0.19269172454292138,
          -0.09861805876725806,
          -0.6270474301800498,
          -0.07744172305750369,
          -1.3171709649992867,
          0.3896777388807655,
          -0.43291268819866346,
          -1.4752633555225647,
          0.6205395497448952,
          0.26174678012019625,
          0.01079237860016229,
          -0.2932546818019788,
          -0.48818618846841627,
          0.5617576021169364,
          -0.10709881717918422,
          1.1519827392437467,
          0.9003224007732287,
          -1.5676773430795874,
          0.6894923534228223,
          1.4037403210797081,
          -1.51277369058372,
          -0.1508289354292569,
          -1.4432952379527717,
          0.5570755511116148,
          0.14900020795773572,
          -1.0001189121750071,
          -1.3044512140273399,
          0.3862759814637888,
          -0.4188065597005142,
          0.6122983282252088,
          -0.45022406204096216,
          0.9024150719815782,
          0.32213695888356175,
          -0.15675623893701282,
          0.8809068586130961,
          1.053099326359383,
          -0.318492866646178,
          -0.0076614351279544884,
          0.7126223385047062,
          -0.014602804125976686,
          -1.1595424459621422,
          0.8417691791674425,
          -0.19056738474754467,
          2.0412416781683436,
          1.0076319937541325,
          0.7837616214918188,
          0.18988887593466647,
          -0.8149264277747987,
          0.03359639349157924,
          0.44510793187142755,
          0.8045401623710499,
          1.3954190768525638,
          -0.29477428779041814,
          -1.780670974511907,
          0.8199538360869015,
          0.1501494594895702,
          -1.2428346796666963,
          -0.9933306702583978,
          -0.22839952302186403,
          -0.18970102502483172,
          0.48491976220493826,
          0.9357894463118495,
          -1.0560773276372402,
          0.6605859438226847,
          0.8164952220723438,
          0.24509061408222765,
          -0.047949085699612044,
          -0.4730271905747123,
          1.0818437167773567,
          0.18090244215906,
          0.5167874447229025,
          -0.7461192427167384,
          1.104831725043291,
          2.6374468148273453,
          -0.6262404970069213,
          -0.3409569593914698,
          0.2967846166705076,
          0.6172402964404274,
          1.051005691693931,
          1.2841478727772049,
          1.2101133641665631,
          -0.6929839670049587,
          1.328023523948433,
          -0.08738999598215914,
          -1.2842310481852168,
          -0.277226890455086,
          -2.021620617412835,
          0.36565077821684056,
          -0.9215339827069383,
          3.2246408543883303,
          0.9952976646593267,
          0.011044725316802291,
          1.5643094453430852,
          -1.1147105963937614,
          0.6144647744747028,
          -2.008129911047966,
          1.940990359664634
         ],
         "yaxis": "y10"
        },
        {
         "histfunc": "count",
         "histnorm": "",
         "marker": {
          "color": "rgba(50, 171, 96, 1.0)",
          "line": {
           "color": "#4D5663",
           "width": 1.3
          }
         },
         "name": "C",
         "nbinsx": 10,
         "opacity": 0.8,
         "orientation": "v",
         "type": "histogram",
         "x": [
          -0.18464066753779282,
          -1.837509230436605,
          -1.428226235955854,
          -0.19269172454292138,
          -0.09861805876725806,
          -0.6270474301800498,
          -0.07744172305750369,
          -1.3171709649992867,
          0.3896777388807655,
          -0.43291268819866346,
          -1.4752633555225647,
          0.6205395497448952,
          0.26174678012019625,
          0.01079237860016229,
          -0.2932546818019788,
          -0.48818618846841627,
          0.5617576021169364,
          -0.10709881717918422,
          1.1519827392437467,
          0.9003224007732287,
          -1.5676773430795874,
          0.6894923534228223,
          1.4037403210797081,
          -1.51277369058372,
          -0.1508289354292569,
          -1.4432952379527717,
          0.5570755511116148,
          0.14900020795773572,
          -1.0001189121750071,
          -1.3044512140273399,
          0.3862759814637888,
          -0.4188065597005142,
          0.6122983282252088,
          -0.45022406204096216,
          0.9024150719815782,
          0.32213695888356175,
          -0.15675623893701282,
          0.8809068586130961,
          1.053099326359383,
          -0.318492866646178,
          -0.0076614351279544884,
          0.7126223385047062,
          -0.014602804125976686,
          -1.1595424459621422,
          0.8417691791674425,
          -0.19056738474754467,
          2.0412416781683436,
          1.0076319937541325,
          0.7837616214918188,
          0.18988887593466647,
          -0.8149264277747987,
          0.03359639349157924,
          0.44510793187142755,
          0.8045401623710499,
          1.3954190768525638,
          -0.29477428779041814,
          -1.780670974511907,
          0.8199538360869015,
          0.1501494594895702,
          -1.2428346796666963,
          -0.9933306702583978,
          -0.22839952302186403,
          -0.18970102502483172,
          0.48491976220493826,
          0.9357894463118495,
          -1.0560773276372402,
          0.6605859438226847,
          0.8164952220723438,
          0.24509061408222765,
          -0.047949085699612044,
          -0.4730271905747123,
          1.0818437167773567,
          0.18090244215906,
          0.5167874447229025,
          -0.7461192427167384,
          1.104831725043291,
          2.6374468148273453,
          -0.6262404970069213,
          -0.3409569593914698,
          0.2967846166705076,
          0.6172402964404274,
          1.051005691693931,
          1.2841478727772049,
          1.2101133641665631,
          -0.6929839670049587,
          1.328023523948433,
          -0.08738999598215914,
          -1.2842310481852168,
          -0.277226890455086,
          -2.021620617412835,
          0.36565077821684056,
          -0.9215339827069383,
          3.2246408543883303,
          0.9952976646593267,
          0.011044725316802291,
          1.5643094453430852,
          -1.1147105963937614,
          0.6144647744747028,
          -2.008129911047966,
          1.940990359664634
         ],
         "xaxis": "x11",
         "yaxis": "y11"
        },
        {
         "line": {
          "color": "rgba(128, 128, 128, 1.0)",
          "dash": "solid",
          "shape": "linear",
          "width": 1.3
         },
         "marker": {
          "size": 2,
          "symbol": "circle"
         },
         "mode": "markers",
         "name": "C",
         "text": "",
         "type": "scatter",
         "x": [
          -0.08512206312857473,
          1.486407132031537,
          0.1887236175934673,
          -0.6587370788072245,
          0.8021640273677891,
          0.5443892263293457,
          0.20834514920619607,
          -0.07206935499983638,
          -0.26818936472631943,
          0.14810415004951727,
          -0.558910061751106,
          -1.2361499328435568,
          -0.6171150192321198,
          -0.6312618538076438,
          -0.38342528640093754,
          -1.1290014540447832,
          0.23905590971250462,
          -1.2902692411105796,
          1.6632798496327437,
          -0.035330081775259224,
          0.10073442495879993,
          2.0346952555840487,
          -0.6195135593211537,
          1.4765246380232582,
          1.7228897117841506,
          1.5394984261152216,
          0.6476726909051266,
          -0.5015479486651164,
          0.8778301434127571,
          0.1653730231310223,
          0.8597597904792134,
          1.2557685621328203,
          -1.677002311724053,
          -0.27642368508153675,
          -0.3733767434475656,
          -1.0063910776785316,
          0.03496993723532587,
          0.981777137735842,
          -0.4273572629003103,
          0.6760994725892184,
          -0.6277173191994817,
          0.14374538023070144,
          1.1023037704136809,
          0.39365451494717063,
          -0.13524838032017725,
          0.4652095890846506,
          0.10193721841647994,
          0.6314232804944321,
          -0.021969475349004307,
          2.6869789741262293,
          0.7763693310873739,
          1.8959559797534367,
          0.5808260466765565,
          -0.20287578750962781,
          1.6669053047351992,
          1.569415295256676,
          0.6469816481578303,
          0.9091471095088757,
          -0.42699564666425743,
          -1.6585842658061019,
          1.005712753595606,
          1.2298763821171592,
          -0.05502666707050185,
          -0.03903247214908511,
          -1.0556162689302442,
          -0.5463356036243555,
          -1.6557532965774253,
          -0.29611176119413807,
          0.47500785671078954,
          -0.4116662152492864,
          0.6800303562998444,
          1.4451912367366986,
          -1.2242056864119761,
          1.2079089216920498,
          -0.9627138431084818,
          -0.7173767763805619,
          -0.4552075860149596,
          -0.006063658365125847,
          1.6702570707356326,
          -0.1985989829236588,
          0.06420722035318865,
          -0.3979436277761738,
          -0.2517310168970227,
          2.8531515695969056,
          0.699188101188425,
          -0.08285848283918196,
          1.2288750254001923,
          -1.084786027751436,
          -0.27032731793271364,
          0.6757470731006939,
          -1.8120325092008889,
          -1.019320251168823,
          -0.31185859127294063,
          -1.4994503096134124,
          0.3907580059865929,
          1.0616677694035255,
          -1.7278263238982272,
          1.6384475295921113,
          -0.5737770052559245,
          0.7716445727847083
         ],
         "xaxis": "x12",
         "y": [
          -0.18464066753779282,
          -1.837509230436605,
          -1.428226235955854,
          -0.19269172454292138,
          -0.09861805876725806,
          -0.6270474301800498,
          -0.07744172305750369,
          -1.3171709649992867,
          0.3896777388807655,
          -0.43291268819866346,
          -1.4752633555225647,
          0.6205395497448952,
          0.26174678012019625,
          0.01079237860016229,
          -0.2932546818019788,
          -0.48818618846841627,
          0.5617576021169364,
          -0.10709881717918422,
          1.1519827392437467,
          0.9003224007732287,
          -1.5676773430795874,
          0.6894923534228223,
          1.4037403210797081,
          -1.51277369058372,
          -0.1508289354292569,
          -1.4432952379527717,
          0.5570755511116148,
          0.14900020795773572,
          -1.0001189121750071,
          -1.3044512140273399,
          0.3862759814637888,
          -0.4188065597005142,
          0.6122983282252088,
          -0.45022406204096216,
          0.9024150719815782,
          0.32213695888356175,
          -0.15675623893701282,
          0.8809068586130961,
          1.053099326359383,
          -0.318492866646178,
          -0.0076614351279544884,
          0.7126223385047062,
          -0.014602804125976686,
          -1.1595424459621422,
          0.8417691791674425,
          -0.19056738474754467,
          2.0412416781683436,
          1.0076319937541325,
          0.7837616214918188,
          0.18988887593466647,
          -0.8149264277747987,
          0.03359639349157924,
          0.44510793187142755,
          0.8045401623710499,
          1.3954190768525638,
          -0.29477428779041814,
          -1.780670974511907,
          0.8199538360869015,
          0.1501494594895702,
          -1.2428346796666963,
          -0.9933306702583978,
          -0.22839952302186403,
          -0.18970102502483172,
          0.48491976220493826,
          0.9357894463118495,
          -1.0560773276372402,
          0.6605859438226847,
          0.8164952220723438,
          0.24509061408222765,
          -0.047949085699612044,
          -0.4730271905747123,
          1.0818437167773567,
          0.18090244215906,
          0.5167874447229025,
          -0.7461192427167384,
          1.104831725043291,
          2.6374468148273453,
          -0.6262404970069213,
          -0.3409569593914698,
          0.2967846166705076,
          0.6172402964404274,
          1.051005691693931,
          1.2841478727772049,
          1.2101133641665631,
          -0.6929839670049587,
          1.328023523948433,
          -0.08738999598215914,
          -1.2842310481852168,
          -0.277226890455086,
          -2.021620617412835,
          0.36565077821684056,
          -0.9215339827069383,
          3.2246408543883303,
          0.9952976646593267,
          0.011044725316802291,
          1.5643094453430852,
          -1.1147105963937614,
          0.6144647744747028,
          -2.008129911047966,
          1.940990359664634
         ],
         "yaxis": "y12"
        },
        {
         "line": {
          "color": "rgba(128, 128, 128, 1.0)",
          "dash": "solid",
          "shape": "linear",
          "width": 1.3
         },
         "marker": {
          "size": 2,
          "symbol": "circle"
         },
         "mode": "markers",
         "name": "D",
         "text": "",
         "type": "scatter",
         "x": [
          0.9634623893766167,
          -0.12055224845819004,
          0.25008154086228296,
          -0.5013143806434255,
          0.1292844937472286,
          0.4044071864470786,
          -2.0771930414556183,
          -0.020426006358398602,
          0.3849191710124318,
          0.879707817390476,
          -0.9431858876910261,
          -0.7490253238236118,
          0.5924697035901231,
          -1.3940933638268622,
          -0.5719377462453421,
          0.0075937045045873,
          -1.4481325040064896,
          0.21700524462166149,
          -0.1395825213548501,
          -0.24991568489512242,
          0.29452568252983163,
          -0.7905644371689067,
          -0.2997690889834603,
          0.21384176348726486,
          0.08658516570981084,
          0.7454032185178966,
          -0.6281603258099894,
          0.46180435642701845,
          -0.4178004985683218,
          -0.35630133871786407,
          -1.2112066150479495,
          -0.9726056889327593,
          -0.1005023860363253,
          1.0040648633325953,
          -1.0629923769941325,
          2.47531773691314,
          -0.04824382074826237,
          1.7025776795476604,
          -1.236548662174602,
          0.39866376082116467,
          1.333415614245502,
          0.0766655986802566,
          -0.33317061992034,
          -0.07328513704307903,
          0.37972060484157116,
          0.6522436929759483,
          0.8908762959506643,
          -0.41150485447839996,
          -0.3911042477094948,
          -1.7445372379275699,
          0.023978803372944477,
          -0.17442305395410349,
          0.25819460285665935,
          0.4944620618569529,
          -0.5834284135317452,
          -0.3240544301618898,
          -1.5444815784266575,
          -0.4776289313257464,
          0.06945397679857637,
          -0.4278386106429362,
          1.2522658559296482,
          -0.8812452740221121,
          -0.8221355096056416,
          -0.18782134308689513,
          1.8206332470536457,
          -0.6879560063978835,
          1.241741050078539,
          -2.7408858865027486,
          -0.4980842707106779,
          -0.9645117851028521,
          -0.12349607696101607,
          0.14719778655961077,
          -0.3022218597739041,
          0.6471150042134444,
          0.4721020856800413,
          -1.0353926818229156,
          1.3229382115515267,
          -1.2156788535049665,
          0.7614711874891931,
          -0.9013858317983743,
          -1.003047554190563,
          1.1696861418828624,
          0.0390968088724639,
          -0.4260054156967536,
          1.091606297176759,
          1.2036536169313206,
          -0.4427686249514626,
          1.4585873222111359,
          -0.270091310882172,
          0.17838137496146925,
          1.1533524775428632,
          0.5561949849702105,
          0.18208084487524875,
          0.26219091894703034,
          0.7582266638205611,
          0.3703636490699679,
          -0.5948913443755864,
          0.34613627097324257,
          0.07431556715271147,
          -1.2472512715902513
         ],
         "xaxis": "x13",
         "y": [
          -0.08512206312857473,
          1.486407132031537,
          0.1887236175934673,
          -0.6587370788072245,
          0.8021640273677891,
          0.5443892263293457,
          0.20834514920619607,
          -0.07206935499983638,
          -0.26818936472631943,
          0.14810415004951727,
          -0.558910061751106,
          -1.2361499328435568,
          -0.6171150192321198,
          -0.6312618538076438,
          -0.38342528640093754,
          -1.1290014540447832,
          0.23905590971250462,
          -1.2902692411105796,
          1.6632798496327437,
          -0.035330081775259224,
          0.10073442495879993,
          2.0346952555840487,
          -0.6195135593211537,
          1.4765246380232582,
          1.7228897117841506,
          1.5394984261152216,
          0.6476726909051266,
          -0.5015479486651164,
          0.8778301434127571,
          0.1653730231310223,
          0.8597597904792134,
          1.2557685621328203,
          -1.677002311724053,
          -0.27642368508153675,
          -0.3733767434475656,
          -1.0063910776785316,
          0.03496993723532587,
          0.981777137735842,
          -0.4273572629003103,
          0.6760994725892184,
          -0.6277173191994817,
          0.14374538023070144,
          1.1023037704136809,
          0.39365451494717063,
          -0.13524838032017725,
          0.4652095890846506,
          0.10193721841647994,
          0.6314232804944321,
          -0.021969475349004307,
          2.6869789741262293,
          0.7763693310873739,
          1.8959559797534367,
          0.5808260466765565,
          -0.20287578750962781,
          1.6669053047351992,
          1.569415295256676,
          0.6469816481578303,
          0.9091471095088757,
          -0.42699564666425743,
          -1.6585842658061019,
          1.005712753595606,
          1.2298763821171592,
          -0.05502666707050185,
          -0.03903247214908511,
          -1.0556162689302442,
          -0.5463356036243555,
          -1.6557532965774253,
          -0.29611176119413807,
          0.47500785671078954,
          -0.4116662152492864,
          0.6800303562998444,
          1.4451912367366986,
          -1.2242056864119761,
          1.2079089216920498,
          -0.9627138431084818,
          -0.7173767763805619,
          -0.4552075860149596,
          -0.006063658365125847,
          1.6702570707356326,
          -0.1985989829236588,
          0.06420722035318865,
          -0.3979436277761738,
          -0.2517310168970227,
          2.8531515695969056,
          0.699188101188425,
          -0.08285848283918196,
          1.2288750254001923,
          -1.084786027751436,
          -0.27032731793271364,
          0.6757470731006939,
          -1.8120325092008889,
          -1.019320251168823,
          -0.31185859127294063,
          -1.4994503096134124,
          0.3907580059865929,
          1.0616677694035255,
          -1.7278263238982272,
          1.6384475295921113,
          -0.5737770052559245,
          0.7716445727847083
         ],
         "yaxis": "y13"
        },
        {
         "line": {
          "color": "rgba(128, 128, 128, 1.0)",
          "dash": "solid",
          "shape": "linear",
          "width": 1.3
         },
         "marker": {
          "size": 2,
          "symbol": "circle"
         },
         "mode": "markers",
         "name": "D",
         "text": "",
         "type": "scatter",
         "x": [
          -0.09147954299523928,
          -1.7385508624690544,
          0.9221586878268342,
          -1.0931631569009221,
          0.3314050081963957,
          -1.6860350043840182,
          0.12957115351750878,
          0.5282594700664602,
          -1.724213141676408,
          -0.5551485134413877,
          0.01099836125675915,
          -1.8479965901671493,
          1.3048716149407638,
          -0.47126362237465713,
          0.30461274408286604,
          -0.3624930124832195,
          -0.12427109577985897,
          1.0458392895428787,
          -1.0772505081410064,
          0.956187500896724,
          -0.5134093195098551,
          1.003191182736705,
          1.0054421492812542,
          0.7444342301762672,
          0.9717048416109594,
          -0.5862903672126797,
          1.1402320163276554,
          -0.07586206865034092,
          -1.3020079599314847,
          -1.5532090620038983,
          0.8063276508119176,
          -1.190267123383816,
          -0.45573398022926986,
          0.2492173650282826,
          0.042545897664883724,
          -0.5394012540380726,
          -0.8710337885007717,
          0.27070058032527144,
          1.502715551599413,
          -0.6133569085524814,
          0.7716091967711711,
          -0.844375266511973,
          1.014272863942356,
          1.283227843583457,
          0.5405202955362597,
          0.26670175488612397,
          0.7101520294582939,
          2.07484318757425,
          0.6160923809193212,
          -0.7621923610184558,
          -0.7409270577875984,
          -0.8944055555394634,
          -0.8504280755637271,
          -1.0335914311595302,
          2.1436511287416486,
          0.2941595400966851,
          -1.2670997292914403,
          1.6747192059627178,
          -0.4549685653946752,
          -1.4261740159930605,
          0.2860098578963224,
          -0.6896865460661573,
          0.058011235562708846,
          -1.408955244083918,
          -0.20902752485155054,
          -0.30808010437819333,
          -0.22554007253720418,
          -0.012289759543897499,
          1.1978357038826355,
          0.8808992432676263,
          -0.1577267481768039,
          -0.7663712262064384,
          -1.47674134732821,
          0.48303599341467285,
          0.7484100962354236,
          0.6199214404930379,
          -0.09192405598441374,
          0.5300093476958286,
          1.2785791208003725,
          0.9358425653510516,
          -0.5925670749165277,
          -0.20166372582262201,
          -1.096850817122355,
          -1.0932450615263414,
          0.424315413305436,
          -0.0926162788765071,
          -0.20069809653638093,
          0.9772930851080682,
          0.26386815140631265,
          1.3874266245301734,
          -0.9248958944644438,
          0.17201496834833183,
          -0.9048757219799238,
          0.4288879111931887,
          -0.36738707307769375,
          0.7472144095556358,
          2.272295759735388,
          0.877225373172687,
          -0.4378174124395575,
          -1.1585312621617012
         ],
         "xaxis": "x14",
         "y": [
          -0.08512206312857473,
          1.486407132031537,
          0.1887236175934673,
          -0.6587370788072245,
          0.8021640273677891,
          0.5443892263293457,
          0.20834514920619607,
          -0.07206935499983638,
          -0.26818936472631943,
          0.14810415004951727,
          -0.558910061751106,
          -1.2361499328435568,
          -0.6171150192321198,
          -0.6312618538076438,
          -0.38342528640093754,
          -1.1290014540447832,
          0.23905590971250462,
          -1.2902692411105796,
          1.6632798496327437,
          -0.035330081775259224,
          0.10073442495879993,
          2.0346952555840487,
          -0.6195135593211537,
          1.4765246380232582,
          1.7228897117841506,
          1.5394984261152216,
          0.6476726909051266,
          -0.5015479486651164,
          0.8778301434127571,
          0.1653730231310223,
          0.8597597904792134,
          1.2557685621328203,
          -1.677002311724053,
          -0.27642368508153675,
          -0.3733767434475656,
          -1.0063910776785316,
          0.03496993723532587,
          0.981777137735842,
          -0.4273572629003103,
          0.6760994725892184,
          -0.6277173191994817,
          0.14374538023070144,
          1.1023037704136809,
          0.39365451494717063,
          -0.13524838032017725,
          0.4652095890846506,
          0.10193721841647994,
          0.6314232804944321,
          -0.021969475349004307,
          2.6869789741262293,
          0.7763693310873739,
          1.8959559797534367,
          0.5808260466765565,
          -0.20287578750962781,
          1.6669053047351992,
          1.569415295256676,
          0.6469816481578303,
          0.9091471095088757,
          -0.42699564666425743,
          -1.6585842658061019,
          1.005712753595606,
          1.2298763821171592,
          -0.05502666707050185,
          -0.03903247214908511,
          -1.0556162689302442,
          -0.5463356036243555,
          -1.6557532965774253,
          -0.29611176119413807,
          0.47500785671078954,
          -0.4116662152492864,
          0.6800303562998444,
          1.4451912367366986,
          -1.2242056864119761,
          1.2079089216920498,
          -0.9627138431084818,
          -0.7173767763805619,
          -0.4552075860149596,
          -0.006063658365125847,
          1.6702570707356326,
          -0.1985989829236588,
          0.06420722035318865,
          -0.3979436277761738,
          -0.2517310168970227,
          2.8531515695969056,
          0.699188101188425,
          -0.08285848283918196,
          1.2288750254001923,
          -1.084786027751436,
          -0.27032731793271364,
          0.6757470731006939,
          -1.8120325092008889,
          -1.019320251168823,
          -0.31185859127294063,
          -1.4994503096134124,
          0.3907580059865929,
          1.0616677694035255,
          -1.7278263238982272,
          1.6384475295921113,
          -0.5737770052559245,
          0.7716445727847083
         ],
         "yaxis": "y14"
        },
        {
         "line": {
          "color": "rgba(128, 128, 128, 1.0)",
          "dash": "solid",
          "shape": "linear",
          "width": 1.3
         },
         "marker": {
          "size": 2,
          "symbol": "circle"
         },
         "mode": "markers",
         "name": "D",
         "text": "",
         "type": "scatter",
         "x": [
          -0.18464066753779282,
          -1.837509230436605,
          -1.428226235955854,
          -0.19269172454292138,
          -0.09861805876725806,
          -0.6270474301800498,
          -0.07744172305750369,
          -1.3171709649992867,
          0.3896777388807655,
          -0.43291268819866346,
          -1.4752633555225647,
          0.6205395497448952,
          0.26174678012019625,
          0.01079237860016229,
          -0.2932546818019788,
          -0.48818618846841627,
          0.5617576021169364,
          -0.10709881717918422,
          1.1519827392437467,
          0.9003224007732287,
          -1.5676773430795874,
          0.6894923534228223,
          1.4037403210797081,
          -1.51277369058372,
          -0.1508289354292569,
          -1.4432952379527717,
          0.5570755511116148,
          0.14900020795773572,
          -1.0001189121750071,
          -1.3044512140273399,
          0.3862759814637888,
          -0.4188065597005142,
          0.6122983282252088,
          -0.45022406204096216,
          0.9024150719815782,
          0.32213695888356175,
          -0.15675623893701282,
          0.8809068586130961,
          1.053099326359383,
          -0.318492866646178,
          -0.0076614351279544884,
          0.7126223385047062,
          -0.014602804125976686,
          -1.1595424459621422,
          0.8417691791674425,
          -0.19056738474754467,
          2.0412416781683436,
          1.0076319937541325,
          0.7837616214918188,
          0.18988887593466647,
          -0.8149264277747987,
          0.03359639349157924,
          0.44510793187142755,
          0.8045401623710499,
          1.3954190768525638,
          -0.29477428779041814,
          -1.780670974511907,
          0.8199538360869015,
          0.1501494594895702,
          -1.2428346796666963,
          -0.9933306702583978,
          -0.22839952302186403,
          -0.18970102502483172,
          0.48491976220493826,
          0.9357894463118495,
          -1.0560773276372402,
          0.6605859438226847,
          0.8164952220723438,
          0.24509061408222765,
          -0.047949085699612044,
          -0.4730271905747123,
          1.0818437167773567,
          0.18090244215906,
          0.5167874447229025,
          -0.7461192427167384,
          1.104831725043291,
          2.6374468148273453,
          -0.6262404970069213,
          -0.3409569593914698,
          0.2967846166705076,
          0.6172402964404274,
          1.051005691693931,
          1.2841478727772049,
          1.2101133641665631,
          -0.6929839670049587,
          1.328023523948433,
          -0.08738999598215914,
          -1.2842310481852168,
          -0.277226890455086,
          -2.021620617412835,
          0.36565077821684056,
          -0.9215339827069383,
          3.2246408543883303,
          0.9952976646593267,
          0.011044725316802291,
          1.5643094453430852,
          -1.1147105963937614,
          0.6144647744747028,
          -2.008129911047966,
          1.940990359664634
         ],
         "xaxis": "x15",
         "y": [
          -0.08512206312857473,
          1.486407132031537,
          0.1887236175934673,
          -0.6587370788072245,
          0.8021640273677891,
          0.5443892263293457,
          0.20834514920619607,
          -0.07206935499983638,
          -0.26818936472631943,
          0.14810415004951727,
          -0.558910061751106,
          -1.2361499328435568,
          -0.6171150192321198,
          -0.6312618538076438,
          -0.38342528640093754,
          -1.1290014540447832,
          0.23905590971250462,
          -1.2902692411105796,
          1.6632798496327437,
          -0.035330081775259224,
          0.10073442495879993,
          2.0346952555840487,
          -0.6195135593211537,
          1.4765246380232582,
          1.7228897117841506,
          1.5394984261152216,
          0.6476726909051266,
          -0.5015479486651164,
          0.8778301434127571,
          0.1653730231310223,
          0.8597597904792134,
          1.2557685621328203,
          -1.677002311724053,
          -0.27642368508153675,
          -0.3733767434475656,
          -1.0063910776785316,
          0.03496993723532587,
          0.981777137735842,
          -0.4273572629003103,
          0.6760994725892184,
          -0.6277173191994817,
          0.14374538023070144,
          1.1023037704136809,
          0.39365451494717063,
          -0.13524838032017725,
          0.4652095890846506,
          0.10193721841647994,
          0.6314232804944321,
          -0.021969475349004307,
          2.6869789741262293,
          0.7763693310873739,
          1.8959559797534367,
          0.5808260466765565,
          -0.20287578750962781,
          1.6669053047351992,
          1.569415295256676,
          0.6469816481578303,
          0.9091471095088757,
          -0.42699564666425743,
          -1.6585842658061019,
          1.005712753595606,
          1.2298763821171592,
          -0.05502666707050185,
          -0.03903247214908511,
          -1.0556162689302442,
          -0.5463356036243555,
          -1.6557532965774253,
          -0.29611176119413807,
          0.47500785671078954,
          -0.4116662152492864,
          0.6800303562998444,
          1.4451912367366986,
          -1.2242056864119761,
          1.2079089216920498,
          -0.9627138431084818,
          -0.7173767763805619,
          -0.4552075860149596,
          -0.006063658365125847,
          1.6702570707356326,
          -0.1985989829236588,
          0.06420722035318865,
          -0.3979436277761738,
          -0.2517310168970227,
          2.8531515695969056,
          0.699188101188425,
          -0.08285848283918196,
          1.2288750254001923,
          -1.084786027751436,
          -0.27032731793271364,
          0.6757470731006939,
          -1.8120325092008889,
          -1.019320251168823,
          -0.31185859127294063,
          -1.4994503096134124,
          0.3907580059865929,
          1.0616677694035255,
          -1.7278263238982272,
          1.6384475295921113,
          -0.5737770052559245,
          0.7716445727847083
         ],
         "yaxis": "y15"
        },
        {
         "histfunc": "count",
         "histnorm": "",
         "marker": {
          "color": "rgba(128, 0, 128, 1.0)",
          "line": {
           "color": "#4D5663",
           "width": 1.3
          }
         },
         "name": "D",
         "nbinsx": 10,
         "opacity": 0.8,
         "orientation": "v",
         "type": "histogram",
         "x": [
          -0.08512206312857473,
          1.486407132031537,
          0.1887236175934673,
          -0.6587370788072245,
          0.8021640273677891,
          0.5443892263293457,
          0.20834514920619607,
          -0.07206935499983638,
          -0.26818936472631943,
          0.14810415004951727,
          -0.558910061751106,
          -1.2361499328435568,
          -0.6171150192321198,
          -0.6312618538076438,
          -0.38342528640093754,
          -1.1290014540447832,
          0.23905590971250462,
          -1.2902692411105796,
          1.6632798496327437,
          -0.035330081775259224,
          0.10073442495879993,
          2.0346952555840487,
          -0.6195135593211537,
          1.4765246380232582,
          1.7228897117841506,
          1.5394984261152216,
          0.6476726909051266,
          -0.5015479486651164,
          0.8778301434127571,
          0.1653730231310223,
          0.8597597904792134,
          1.2557685621328203,
          -1.677002311724053,
          -0.27642368508153675,
          -0.3733767434475656,
          -1.0063910776785316,
          0.03496993723532587,
          0.981777137735842,
          -0.4273572629003103,
          0.6760994725892184,
          -0.6277173191994817,
          0.14374538023070144,
          1.1023037704136809,
          0.39365451494717063,
          -0.13524838032017725,
          0.4652095890846506,
          0.10193721841647994,
          0.6314232804944321,
          -0.021969475349004307,
          2.6869789741262293,
          0.7763693310873739,
          1.8959559797534367,
          0.5808260466765565,
          -0.20287578750962781,
          1.6669053047351992,
          1.569415295256676,
          0.6469816481578303,
          0.9091471095088757,
          -0.42699564666425743,
          -1.6585842658061019,
          1.005712753595606,
          1.2298763821171592,
          -0.05502666707050185,
          -0.03903247214908511,
          -1.0556162689302442,
          -0.5463356036243555,
          -1.6557532965774253,
          -0.29611176119413807,
          0.47500785671078954,
          -0.4116662152492864,
          0.6800303562998444,
          1.4451912367366986,
          -1.2242056864119761,
          1.2079089216920498,
          -0.9627138431084818,
          -0.7173767763805619,
          -0.4552075860149596,
          -0.006063658365125847,
          1.6702570707356326,
          -0.1985989829236588,
          0.06420722035318865,
          -0.3979436277761738,
          -0.2517310168970227,
          2.8531515695969056,
          0.699188101188425,
          -0.08285848283918196,
          1.2288750254001923,
          -1.084786027751436,
          -0.27032731793271364,
          0.6757470731006939,
          -1.8120325092008889,
          -1.019320251168823,
          -0.31185859127294063,
          -1.4994503096134124,
          0.3907580059865929,
          1.0616677694035255,
          -1.7278263238982272,
          1.6384475295921113,
          -0.5737770052559245,
          0.7716445727847083
         ],
         "xaxis": "x16",
         "yaxis": "y16"
        }
       ],
       "layout": {
        "bargap": 0.02,
        "legend": {
         "bgcolor": "#F5F6F9",
         "font": {
          "color": "#4D5663"
         }
        },
        "paper_bgcolor": "#F5F6F9",
        "plot_bgcolor": "#F5F6F9",
        "showlegend": false,
        "template": {
         "data": {
          "bar": [
           {
            "error_x": {
             "color": "#2a3f5f"
            },
            "error_y": {
             "color": "#2a3f5f"
            },
            "marker": {
             "line": {
              "color": "#E5ECF6",
              "width": 0.5
             },
             "pattern": {
              "fillmode": "overlay",
              "size": 10,
              "solidity": 0.2
             }
            },
            "type": "bar"
           }
          ],
          "barpolar": [
           {
            "marker": {
             "line": {
              "color": "#E5ECF6",
              "width": 0.5
             },
             "pattern": {
              "fillmode": "overlay",
              "size": 10,
              "solidity": 0.2
             }
            },
            "type": "barpolar"
           }
          ],
          "carpet": [
           {
            "aaxis": {
             "endlinecolor": "#2a3f5f",
             "gridcolor": "white",
             "linecolor": "white",
             "minorgridcolor": "white",
             "startlinecolor": "#2a3f5f"
            },
            "baxis": {
             "endlinecolor": "#2a3f5f",
             "gridcolor": "white",
             "linecolor": "white",
             "minorgridcolor": "white",
             "startlinecolor": "#2a3f5f"
            },
            "type": "carpet"
           }
          ],
          "choropleth": [
           {
            "colorbar": {
             "outlinewidth": 0,
             "ticks": ""
            },
            "type": "choropleth"
           }
          ],
          "contour": [
           {
            "colorbar": {
             "outlinewidth": 0,
             "ticks": ""
            },
            "colorscale": [
             [
              0,
              "#0d0887"
             ],
             [
              0.1111111111111111,
              "#46039f"
             ],
             [
              0.2222222222222222,
              "#7201a8"
             ],
             [
              0.3333333333333333,
              "#9c179e"
             ],
             [
              0.4444444444444444,
              "#bd3786"
             ],
             [
              0.5555555555555556,
              "#d8576b"
             ],
             [
              0.6666666666666666,
              "#ed7953"
             ],
             [
              0.7777777777777778,
              "#fb9f3a"
             ],
             [
              0.8888888888888888,
              "#fdca26"
             ],
             [
              1,
              "#f0f921"
             ]
            ],
            "type": "contour"
           }
          ],
          "contourcarpet": [
           {
            "colorbar": {
             "outlinewidth": 0,
             "ticks": ""
            },
            "type": "contourcarpet"
           }
          ],
          "heatmap": [
           {
            "colorbar": {
             "outlinewidth": 0,
             "ticks": ""
            },
            "colorscale": [
             [
              0,
              "#0d0887"
             ],
             [
              0.1111111111111111,
              "#46039f"
             ],
             [
              0.2222222222222222,
              "#7201a8"
             ],
             [
              0.3333333333333333,
              "#9c179e"
             ],
             [
              0.4444444444444444,
              "#bd3786"
             ],
             [
              0.5555555555555556,
              "#d8576b"
             ],
             [
              0.6666666666666666,
              "#ed7953"
             ],
             [
              0.7777777777777778,
              "#fb9f3a"
             ],
             [
              0.8888888888888888,
              "#fdca26"
             ],
             [
              1,
              "#f0f921"
             ]
            ],
            "type": "heatmap"
           }
          ],
          "heatmapgl": [
           {
            "colorbar": {
             "outlinewidth": 0,
             "ticks": ""
            },
            "colorscale": [
             [
              0,
              "#0d0887"
             ],
             [
              0.1111111111111111,
              "#46039f"
             ],
             [
              0.2222222222222222,
              "#7201a8"
             ],
             [
              0.3333333333333333,
              "#9c179e"
             ],
             [
              0.4444444444444444,
              "#bd3786"
             ],
             [
              0.5555555555555556,
              "#d8576b"
             ],
             [
              0.6666666666666666,
              "#ed7953"
             ],
             [
              0.7777777777777778,
              "#fb9f3a"
             ],
             [
              0.8888888888888888,
              "#fdca26"
             ],
             [
              1,
              "#f0f921"
             ]
            ],
            "type": "heatmapgl"
           }
          ],
          "histogram": [
           {
            "marker": {
             "pattern": {
              "fillmode": "overlay",
              "size": 10,
              "solidity": 0.2
             }
            },
            "type": "histogram"
           }
          ],
          "histogram2d": [
           {
            "colorbar": {
             "outlinewidth": 0,
             "ticks": ""
            },
            "colorscale": [
             [
              0,
              "#0d0887"
             ],
             [
              0.1111111111111111,
              "#46039f"
             ],
             [
              0.2222222222222222,
              "#7201a8"
             ],
             [
              0.3333333333333333,
              "#9c179e"
             ],
             [
              0.4444444444444444,
              "#bd3786"
             ],
             [
              0.5555555555555556,
              "#d8576b"
             ],
             [
              0.6666666666666666,
              "#ed7953"
             ],
             [
              0.7777777777777778,
              "#fb9f3a"
             ],
             [
              0.8888888888888888,
              "#fdca26"
             ],
             [
              1,
              "#f0f921"
             ]
            ],
            "type": "histogram2d"
           }
          ],
          "histogram2dcontour": [
           {
            "colorbar": {
             "outlinewidth": 0,
             "ticks": ""
            },
            "colorscale": [
             [
              0,
              "#0d0887"
             ],
             [
              0.1111111111111111,
              "#46039f"
             ],
             [
              0.2222222222222222,
              "#7201a8"
             ],
             [
              0.3333333333333333,
              "#9c179e"
             ],
             [
              0.4444444444444444,
              "#bd3786"
             ],
             [
              0.5555555555555556,
              "#d8576b"
             ],
             [
              0.6666666666666666,
              "#ed7953"
             ],
             [
              0.7777777777777778,
              "#fb9f3a"
             ],
             [
              0.8888888888888888,
              "#fdca26"
             ],
             [
              1,
              "#f0f921"
             ]
            ],
            "type": "histogram2dcontour"
           }
          ],
          "mesh3d": [
           {
            "colorbar": {
             "outlinewidth": 0,
             "ticks": ""
            },
            "type": "mesh3d"
           }
          ],
          "parcoords": [
           {
            "line": {
             "colorbar": {
              "outlinewidth": 0,
              "ticks": ""
             }
            },
            "type": "parcoords"
           }
          ],
          "pie": [
           {
            "automargin": true,
            "type": "pie"
           }
          ],
          "scatter": [
           {
            "fillpattern": {
             "fillmode": "overlay",
             "size": 10,
             "solidity": 0.2
            },
            "type": "scatter"
           }
          ],
          "scatter3d": [
           {
            "line": {
             "colorbar": {
              "outlinewidth": 0,
              "ticks": ""
             }
            },
            "marker": {
             "colorbar": {
              "outlinewidth": 0,
              "ticks": ""
             }
            },
            "type": "scatter3d"
           }
          ],
          "scattercarpet": [
           {
            "marker": {
             "colorbar": {
              "outlinewidth": 0,
              "ticks": ""
             }
            },
            "type": "scattercarpet"
           }
          ],
          "scattergeo": [
           {
            "marker": {
             "colorbar": {
              "outlinewidth": 0,
              "ticks": ""
             }
            },
            "type": "scattergeo"
           }
          ],
          "scattergl": [
           {
            "marker": {
             "colorbar": {
              "outlinewidth": 0,
              "ticks": ""
             }
            },
            "type": "scattergl"
           }
          ],
          "scattermapbox": [
           {
            "marker": {
             "colorbar": {
              "outlinewidth": 0,
              "ticks": ""
             }
            },
            "type": "scattermapbox"
           }
          ],
          "scatterpolar": [
           {
            "marker": {
             "colorbar": {
              "outlinewidth": 0,
              "ticks": ""
             }
            },
            "type": "scatterpolar"
           }
          ],
          "scatterpolargl": [
           {
            "marker": {
             "colorbar": {
              "outlinewidth": 0,
              "ticks": ""
             }
            },
            "type": "scatterpolargl"
           }
          ],
          "scatterternary": [
           {
            "marker": {
             "colorbar": {
              "outlinewidth": 0,
              "ticks": ""
             }
            },
            "type": "scatterternary"
           }
          ],
          "surface": [
           {
            "colorbar": {
             "outlinewidth": 0,
             "ticks": ""
            },
            "colorscale": [
             [
              0,
              "#0d0887"
             ],
             [
              0.1111111111111111,
              "#46039f"
             ],
             [
              0.2222222222222222,
              "#7201a8"
             ],
             [
              0.3333333333333333,
              "#9c179e"
             ],
             [
              0.4444444444444444,
              "#bd3786"
             ],
             [
              0.5555555555555556,
              "#d8576b"
             ],
             [
              0.6666666666666666,
              "#ed7953"
             ],
             [
              0.7777777777777778,
              "#fb9f3a"
             ],
             [
              0.8888888888888888,
              "#fdca26"
             ],
             [
              1,
              "#f0f921"
             ]
            ],
            "type": "surface"
           }
          ],
          "table": [
           {
            "cells": {
             "fill": {
              "color": "#EBF0F8"
             },
             "line": {
              "color": "white"
             }
            },
            "header": {
             "fill": {
              "color": "#C8D4E3"
             },
             "line": {
              "color": "white"
             }
            },
            "type": "table"
           }
          ]
         },
         "layout": {
          "annotationdefaults": {
           "arrowcolor": "#2a3f5f",
           "arrowhead": 0,
           "arrowwidth": 1
          },
          "autotypenumbers": "strict",
          "coloraxis": {
           "colorbar": {
            "outlinewidth": 0,
            "ticks": ""
           }
          },
          "colorscale": {
           "diverging": [
            [
             0,
             "#8e0152"
            ],
            [
             0.1,
             "#c51b7d"
            ],
            [
             0.2,
             "#de77ae"
            ],
            [
             0.3,
             "#f1b6da"
            ],
            [
             0.4,
             "#fde0ef"
            ],
            [
             0.5,
             "#f7f7f7"
            ],
            [
             0.6,
             "#e6f5d0"
            ],
            [
             0.7,
             "#b8e186"
            ],
            [
             0.8,
             "#7fbc41"
            ],
            [
             0.9,
             "#4d9221"
            ],
            [
             1,
             "#276419"
            ]
           ],
           "sequential": [
            [
             0,
             "#0d0887"
            ],
            [
             0.1111111111111111,
             "#46039f"
            ],
            [
             0.2222222222222222,
             "#7201a8"
            ],
            [
             0.3333333333333333,
             "#9c179e"
            ],
            [
             0.4444444444444444,
             "#bd3786"
            ],
            [
             0.5555555555555556,
             "#d8576b"
            ],
            [
             0.6666666666666666,
             "#ed7953"
            ],
            [
             0.7777777777777778,
             "#fb9f3a"
            ],
            [
             0.8888888888888888,
             "#fdca26"
            ],
            [
             1,
             "#f0f921"
            ]
           ],
           "sequentialminus": [
            [
             0,
             "#0d0887"
            ],
            [
             0.1111111111111111,
             "#46039f"
            ],
            [
             0.2222222222222222,
             "#7201a8"
            ],
            [
             0.3333333333333333,
             "#9c179e"
            ],
            [
             0.4444444444444444,
             "#bd3786"
            ],
            [
             0.5555555555555556,
             "#d8576b"
            ],
            [
             0.6666666666666666,
             "#ed7953"
            ],
            [
             0.7777777777777778,
             "#fb9f3a"
            ],
            [
             0.8888888888888888,
             "#fdca26"
            ],
            [
             1,
             "#f0f921"
            ]
           ]
          },
          "colorway": [
           "#636efa",
           "#EF553B",
           "#00cc96",
           "#ab63fa",
           "#FFA15A",
           "#19d3f3",
           "#FF6692",
           "#B6E880",
           "#FF97FF",
           "#FECB52"
          ],
          "font": {
           "color": "#2a3f5f"
          },
          "geo": {
           "bgcolor": "white",
           "lakecolor": "white",
           "landcolor": "#E5ECF6",
           "showlakes": true,
           "showland": true,
           "subunitcolor": "white"
          },
          "hoverlabel": {
           "align": "left"
          },
          "hovermode": "closest",
          "mapbox": {
           "style": "light"
          },
          "paper_bgcolor": "white",
          "plot_bgcolor": "#E5ECF6",
          "polar": {
           "angularaxis": {
            "gridcolor": "white",
            "linecolor": "white",
            "ticks": ""
           },
           "bgcolor": "#E5ECF6",
           "radialaxis": {
            "gridcolor": "white",
            "linecolor": "white",
            "ticks": ""
           }
          },
          "scene": {
           "xaxis": {
            "backgroundcolor": "#E5ECF6",
            "gridcolor": "white",
            "gridwidth": 2,
            "linecolor": "white",
            "showbackground": true,
            "ticks": "",
            "zerolinecolor": "white"
           },
           "yaxis": {
            "backgroundcolor": "#E5ECF6",
            "gridcolor": "white",
            "gridwidth": 2,
            "linecolor": "white",
            "showbackground": true,
            "ticks": "",
            "zerolinecolor": "white"
           },
           "zaxis": {
            "backgroundcolor": "#E5ECF6",
            "gridcolor": "white",
            "gridwidth": 2,
            "linecolor": "white",
            "showbackground": true,
            "ticks": "",
            "zerolinecolor": "white"
           }
          },
          "shapedefaults": {
           "line": {
            "color": "#2a3f5f"
           }
          },
          "ternary": {
           "aaxis": {
            "gridcolor": "white",
            "linecolor": "white",
            "ticks": ""
           },
           "baxis": {
            "gridcolor": "white",
            "linecolor": "white",
            "ticks": ""
           },
           "bgcolor": "#E5ECF6",
           "caxis": {
            "gridcolor": "white",
            "linecolor": "white",
            "ticks": ""
           }
          },
          "title": {
           "x": 0.05
          },
          "xaxis": {
           "automargin": true,
           "gridcolor": "white",
           "linecolor": "white",
           "ticks": "",
           "title": {
            "standoff": 15
           },
           "zerolinecolor": "white",
           "zerolinewidth": 2
          },
          "yaxis": {
           "automargin": true,
           "gridcolor": "white",
           "linecolor": "white",
           "ticks": "",
           "title": {
            "standoff": 15
           },
           "zerolinecolor": "white",
           "zerolinewidth": 2
          }
         }
        },
        "title": {
         "font": {
          "color": "#4D5663"
         }
        },
        "xaxis": {
         "anchor": "y",
         "domain": [
          0,
          0.2125
         ],
         "gridcolor": "#E1E5ED",
         "showgrid": false,
         "tickfont": {
          "color": "#4D5663"
         },
         "title": {
          "font": {
           "color": "#4D5663"
          },
          "text": ""
         },
         "zerolinecolor": "#E1E5ED"
        },
        "xaxis10": {
         "anchor": "y10",
         "domain": [
          0.2625,
          0.475
         ],
         "gridcolor": "#E1E5ED",
         "showgrid": false,
         "tickfont": {
          "color": "#4D5663"
         },
         "title": {
          "font": {
           "color": "#4D5663"
          },
          "text": ""
         },
         "zerolinecolor": "#E1E5ED"
        },
        "xaxis11": {
         "anchor": "y11",
         "domain": [
          0.525,
          0.7375
         ],
         "gridcolor": "#E1E5ED",
         "showgrid": false,
         "tickfont": {
          "color": "#4D5663"
         },
         "title": {
          "font": {
           "color": "#4D5663"
          },
          "text": ""
         },
         "zerolinecolor": "#E1E5ED"
        },
        "xaxis12": {
         "anchor": "y12",
         "domain": [
          0.7875,
          1
         ],
         "gridcolor": "#E1E5ED",
         "showgrid": false,
         "tickfont": {
          "color": "#4D5663"
         },
         "title": {
          "font": {
           "color": "#4D5663"
          },
          "text": ""
         },
         "zerolinecolor": "#E1E5ED"
        },
        "xaxis13": {
         "anchor": "y13",
         "domain": [
          0,
          0.2125
         ],
         "gridcolor": "#E1E5ED",
         "showgrid": false,
         "tickfont": {
          "color": "#4D5663"
         },
         "title": {
          "font": {
           "color": "#4D5663"
          },
          "text": ""
         },
         "zerolinecolor": "#E1E5ED"
        },
        "xaxis14": {
         "anchor": "y14",
         "domain": [
          0.2625,
          0.475
         ],
         "gridcolor": "#E1E5ED",
         "showgrid": false,
         "tickfont": {
          "color": "#4D5663"
         },
         "title": {
          "font": {
           "color": "#4D5663"
          },
          "text": ""
         },
         "zerolinecolor": "#E1E5ED"
        },
        "xaxis15": {
         "anchor": "y15",
         "domain": [
          0.525,
          0.7375
         ],
         "gridcolor": "#E1E5ED",
         "showgrid": false,
         "tickfont": {
          "color": "#4D5663"
         },
         "title": {
          "font": {
           "color": "#4D5663"
          },
          "text": ""
         },
         "zerolinecolor": "#E1E5ED"
        },
        "xaxis16": {
         "anchor": "y16",
         "domain": [
          0.7875,
          1
         ],
         "gridcolor": "#E1E5ED",
         "showgrid": false,
         "tickfont": {
          "color": "#4D5663"
         },
         "title": {
          "font": {
           "color": "#4D5663"
          },
          "text": ""
         },
         "zerolinecolor": "#E1E5ED"
        },
        "xaxis2": {
         "anchor": "y2",
         "domain": [
          0.2625,
          0.475
         ],
         "gridcolor": "#E1E5ED",
         "showgrid": false,
         "tickfont": {
          "color": "#4D5663"
         },
         "title": {
          "font": {
           "color": "#4D5663"
          },
          "text": ""
         },
         "zerolinecolor": "#E1E5ED"
        },
        "xaxis3": {
         "anchor": "y3",
         "domain": [
          0.525,
          0.7375
         ],
         "gridcolor": "#E1E5ED",
         "showgrid": false,
         "tickfont": {
          "color": "#4D5663"
         },
         "title": {
          "font": {
           "color": "#4D5663"
          },
          "text": ""
         },
         "zerolinecolor": "#E1E5ED"
        },
        "xaxis4": {
         "anchor": "y4",
         "domain": [
          0.7875,
          1
         ],
         "gridcolor": "#E1E5ED",
         "showgrid": false,
         "tickfont": {
          "color": "#4D5663"
         },
         "title": {
          "font": {
           "color": "#4D5663"
          },
          "text": ""
         },
         "zerolinecolor": "#E1E5ED"
        },
        "xaxis5": {
         "anchor": "y5",
         "domain": [
          0,
          0.2125
         ],
         "gridcolor": "#E1E5ED",
         "showgrid": false,
         "tickfont": {
          "color": "#4D5663"
         },
         "title": {
          "font": {
           "color": "#4D5663"
          },
          "text": ""
         },
         "zerolinecolor": "#E1E5ED"
        },
        "xaxis6": {
         "anchor": "y6",
         "domain": [
          0.2625,
          0.475
         ],
         "gridcolor": "#E1E5ED",
         "showgrid": false,
         "tickfont": {
          "color": "#4D5663"
         },
         "title": {
          "font": {
           "color": "#4D5663"
          },
          "text": ""
         },
         "zerolinecolor": "#E1E5ED"
        },
        "xaxis7": {
         "anchor": "y7",
         "domain": [
          0.525,
          0.7375
         ],
         "gridcolor": "#E1E5ED",
         "showgrid": false,
         "tickfont": {
          "color": "#4D5663"
         },
         "title": {
          "font": {
           "color": "#4D5663"
          },
          "text": ""
         },
         "zerolinecolor": "#E1E5ED"
        },
        "xaxis8": {
         "anchor": "y8",
         "domain": [
          0.7875,
          1
         ],
         "gridcolor": "#E1E5ED",
         "showgrid": false,
         "tickfont": {
          "color": "#4D5663"
         },
         "title": {
          "font": {
           "color": "#4D5663"
          },
          "text": ""
         },
         "zerolinecolor": "#E1E5ED"
        },
        "xaxis9": {
         "anchor": "y9",
         "domain": [
          0,
          0.2125
         ],
         "gridcolor": "#E1E5ED",
         "showgrid": false,
         "tickfont": {
          "color": "#4D5663"
         },
         "title": {
          "font": {
           "color": "#4D5663"
          },
          "text": ""
         },
         "zerolinecolor": "#E1E5ED"
        },
        "yaxis": {
         "anchor": "x",
         "domain": [
          0.8025,
          1
         ],
         "gridcolor": "#E1E5ED",
         "showgrid": false,
         "tickfont": {
          "color": "#4D5663"
         },
         "title": {
          "font": {
           "color": "#4D5663"
          },
          "text": ""
         },
         "zerolinecolor": "#E1E5ED"
        },
        "yaxis10": {
         "anchor": "x10",
         "domain": [
          0.2675,
          0.465
         ],
         "gridcolor": "#E1E5ED",
         "showgrid": false,
         "tickfont": {
          "color": "#4D5663"
         },
         "title": {
          "font": {
           "color": "#4D5663"
          },
          "text": ""
         },
         "zerolinecolor": "#E1E5ED"
        },
        "yaxis11": {
         "anchor": "x11",
         "domain": [
          0.2675,
          0.465
         ],
         "gridcolor": "#E1E5ED",
         "showgrid": false,
         "tickfont": {
          "color": "#4D5663"
         },
         "title": {
          "font": {
           "color": "#4D5663"
          },
          "text": ""
         },
         "zerolinecolor": "#E1E5ED"
        },
        "yaxis12": {
         "anchor": "x12",
         "domain": [
          0.2675,
          0.465
         ],
         "gridcolor": "#E1E5ED",
         "showgrid": false,
         "tickfont": {
          "color": "#4D5663"
         },
         "title": {
          "font": {
           "color": "#4D5663"
          },
          "text": ""
         },
         "zerolinecolor": "#E1E5ED"
        },
        "yaxis13": {
         "anchor": "x13",
         "domain": [
          0,
          0.1975
         ],
         "gridcolor": "#E1E5ED",
         "showgrid": false,
         "tickfont": {
          "color": "#4D5663"
         },
         "title": {
          "font": {
           "color": "#4D5663"
          },
          "text": ""
         },
         "zerolinecolor": "#E1E5ED"
        },
        "yaxis14": {
         "anchor": "x14",
         "domain": [
          0,
          0.1975
         ],
         "gridcolor": "#E1E5ED",
         "showgrid": false,
         "tickfont": {
          "color": "#4D5663"
         },
         "title": {
          "font": {
           "color": "#4D5663"
          },
          "text": ""
         },
         "zerolinecolor": "#E1E5ED"
        },
        "yaxis15": {
         "anchor": "x15",
         "domain": [
          0,
          0.1975
         ],
         "gridcolor": "#E1E5ED",
         "showgrid": false,
         "tickfont": {
          "color": "#4D5663"
         },
         "title": {
          "font": {
           "color": "#4D5663"
          },
          "text": ""
         },
         "zerolinecolor": "#E1E5ED"
        },
        "yaxis16": {
         "anchor": "x16",
         "domain": [
          0,
          0.1975
         ],
         "gridcolor": "#E1E5ED",
         "showgrid": false,
         "tickfont": {
          "color": "#4D5663"
         },
         "title": {
          "font": {
           "color": "#4D5663"
          },
          "text": ""
         },
         "zerolinecolor": "#E1E5ED"
        },
        "yaxis2": {
         "anchor": "x2",
         "domain": [
          0.8025,
          1
         ],
         "gridcolor": "#E1E5ED",
         "showgrid": false,
         "tickfont": {
          "color": "#4D5663"
         },
         "title": {
          "font": {
           "color": "#4D5663"
          },
          "text": ""
         },
         "zerolinecolor": "#E1E5ED"
        },
        "yaxis3": {
         "anchor": "x3",
         "domain": [
          0.8025,
          1
         ],
         "gridcolor": "#E1E5ED",
         "showgrid": false,
         "tickfont": {
          "color": "#4D5663"
         },
         "title": {
          "font": {
           "color": "#4D5663"
          },
          "text": ""
         },
         "zerolinecolor": "#E1E5ED"
        },
        "yaxis4": {
         "anchor": "x4",
         "domain": [
          0.8025,
          1
         ],
         "gridcolor": "#E1E5ED",
         "showgrid": false,
         "tickfont": {
          "color": "#4D5663"
         },
         "title": {
          "font": {
           "color": "#4D5663"
          },
          "text": ""
         },
         "zerolinecolor": "#E1E5ED"
        },
        "yaxis5": {
         "anchor": "x5",
         "domain": [
          0.535,
          0.7325
         ],
         "gridcolor": "#E1E5ED",
         "showgrid": false,
         "tickfont": {
          "color": "#4D5663"
         },
         "title": {
          "font": {
           "color": "#4D5663"
          },
          "text": ""
         },
         "zerolinecolor": "#E1E5ED"
        },
        "yaxis6": {
         "anchor": "x6",
         "domain": [
          0.535,
          0.7325
         ],
         "gridcolor": "#E1E5ED",
         "showgrid": false,
         "tickfont": {
          "color": "#4D5663"
         },
         "title": {
          "font": {
           "color": "#4D5663"
          },
          "text": ""
         },
         "zerolinecolor": "#E1E5ED"
        },
        "yaxis7": {
         "anchor": "x7",
         "domain": [
          0.535,
          0.7325
         ],
         "gridcolor": "#E1E5ED",
         "showgrid": false,
         "tickfont": {
          "color": "#4D5663"
         },
         "title": {
          "font": {
           "color": "#4D5663"
          },
          "text": ""
         },
         "zerolinecolor": "#E1E5ED"
        },
        "yaxis8": {
         "anchor": "x8",
         "domain": [
          0.535,
          0.7325
         ],
         "gridcolor": "#E1E5ED",
         "showgrid": false,
         "tickfont": {
          "color": "#4D5663"
         },
         "title": {
          "font": {
           "color": "#4D5663"
          },
          "text": ""
         },
         "zerolinecolor": "#E1E5ED"
        },
        "yaxis9": {
         "anchor": "x9",
         "domain": [
          0.2675,
          0.465
         ],
         "gridcolor": "#E1E5ED",
         "showgrid": false,
         "tickfont": {
          "color": "#4D5663"
         },
         "title": {
          "font": {
           "color": "#4D5663"
          },
          "text": ""
         },
         "zerolinecolor": "#E1E5ED"
        }
       }
      },
      "text/html": [
       "<div>                            <div id=\"c743de51-1245-4014-ad9c-f77b23ef5cea\" class=\"plotly-graph-div\" style=\"height:525px; width:100%;\"></div>            <script type=\"text/javascript\">                require([\"plotly\"], function(Plotly) {                    window.PLOTLYENV=window.PLOTLYENV || {};\n",
       "                    window.PLOTLYENV.BASE_URL='https://plot.ly';                                    if (document.getElementById(\"c743de51-1245-4014-ad9c-f77b23ef5cea\")) {                    Plotly.newPlot(                        \"c743de51-1245-4014-ad9c-f77b23ef5cea\",                        [{\"histfunc\":\"count\",\"histnorm\":\"\",\"marker\":{\"color\":\"rgba(255, 153, 51, 1.0)\",\"line\":{\"color\":\"#4D5663\",\"width\":1.3}},\"name\":\"A\",\"nbinsx\":10,\"opacity\":0.8,\"orientation\":\"v\",\"x\":[0.9634623893766167,-0.12055224845819004,0.25008154086228296,-0.5013143806434255,0.1292844937472286,0.4044071864470786,-2.0771930414556183,-0.020426006358398602,0.3849191710124318,0.879707817390476,-0.9431858876910261,-0.7490253238236118,0.5924697035901231,-1.3940933638268622,-0.5719377462453421,0.0075937045045873,-1.4481325040064896,0.21700524462166149,-0.1395825213548501,-0.24991568489512242,0.29452568252983163,-0.7905644371689067,-0.2997690889834603,0.21384176348726486,0.08658516570981084,0.7454032185178966,-0.6281603258099894,0.46180435642701845,-0.4178004985683218,-0.35630133871786407,-1.2112066150479495,-0.9726056889327593,-0.1005023860363253,1.0040648633325953,-1.0629923769941325,2.47531773691314,-0.04824382074826237,1.7025776795476604,-1.236548662174602,0.39866376082116467,1.333415614245502,0.0766655986802566,-0.33317061992034,-0.07328513704307903,0.37972060484157116,0.6522436929759483,0.8908762959506643,-0.41150485447839996,-0.3911042477094948,-1.7445372379275699,0.023978803372944477,-0.17442305395410349,0.25819460285665935,0.4944620618569529,-0.5834284135317452,-0.3240544301618898,-1.5444815784266575,-0.4776289313257464,0.06945397679857637,-0.4278386106429362,1.2522658559296482,-0.8812452740221121,-0.8221355096056416,-0.18782134308689513,1.8206332470536457,-0.6879560063978835,1.241741050078539,-2.7408858865027486,-0.4980842707106779,-0.9645117851028521,-0.12349607696101607,0.14719778655961077,-0.3022218597739041,0.6471150042134444,0.4721020856800413,-1.0353926818229156,1.3229382115515267,-1.2156788535049665,0.7614711874891931,-0.9013858317983743,-1.003047554190563,1.1696861418828624,0.0390968088724639,-0.4260054156967536,1.091606297176759,1.2036536169313206,-0.4427686249514626,1.4585873222111359,-0.270091310882172,0.17838137496146925,1.1533524775428632,0.5561949849702105,0.18208084487524875,0.26219091894703034,0.7582266638205611,0.3703636490699679,-0.5948913443755864,0.34613627097324257,0.07431556715271147,-1.2472512715902513],\"xaxis\":\"x\",\"yaxis\":\"y\",\"type\":\"histogram\"},{\"line\":{\"color\":\"rgba(128, 128, 128, 1.0)\",\"dash\":\"solid\",\"shape\":\"linear\",\"width\":1.3},\"marker\":{\"size\":2,\"symbol\":\"circle\"},\"mode\":\"markers\",\"name\":\"A\",\"text\":\"\",\"x\":[-0.09147954299523928,-1.7385508624690544,0.9221586878268342,-1.0931631569009221,0.3314050081963957,-1.6860350043840182,0.12957115351750878,0.5282594700664602,-1.724213141676408,-0.5551485134413877,0.01099836125675915,-1.8479965901671493,1.3048716149407638,-0.47126362237465713,0.30461274408286604,-0.3624930124832195,-0.12427109577985897,1.0458392895428787,-1.0772505081410064,0.956187500896724,-0.5134093195098551,1.003191182736705,1.0054421492812542,0.7444342301762672,0.9717048416109594,-0.5862903672126797,1.1402320163276554,-0.07586206865034092,-1.3020079599314847,-1.5532090620038983,0.8063276508119176,-1.190267123383816,-0.45573398022926986,0.2492173650282826,0.042545897664883724,-0.5394012540380726,-0.8710337885007717,0.27070058032527144,1.502715551599413,-0.6133569085524814,0.7716091967711711,-0.844375266511973,1.014272863942356,1.283227843583457,0.5405202955362597,0.26670175488612397,0.7101520294582939,2.07484318757425,0.6160923809193212,-0.7621923610184558,-0.7409270577875984,-0.8944055555394634,-0.8504280755637271,-1.0335914311595302,2.1436511287416486,0.2941595400966851,-1.2670997292914403,1.6747192059627178,-0.4549685653946752,-1.4261740159930605,0.2860098578963224,-0.6896865460661573,0.058011235562708846,-1.408955244083918,-0.20902752485155054,-0.30808010437819333,-0.22554007253720418,-0.012289759543897499,1.1978357038826355,0.8808992432676263,-0.1577267481768039,-0.7663712262064384,-1.47674134732821,0.48303599341467285,0.7484100962354236,0.6199214404930379,-0.09192405598441374,0.5300093476958286,1.2785791208003725,0.9358425653510516,-0.5925670749165277,-0.20166372582262201,-1.096850817122355,-1.0932450615263414,0.424315413305436,-0.0926162788765071,-0.20069809653638093,0.9772930851080682,0.26386815140631265,1.3874266245301734,-0.9248958944644438,0.17201496834833183,-0.9048757219799238,0.4288879111931887,-0.36738707307769375,0.7472144095556358,2.272295759735388,0.877225373172687,-0.4378174124395575,-1.1585312621617012],\"xaxis\":\"x2\",\"y\":[0.9634623893766167,-0.12055224845819004,0.25008154086228296,-0.5013143806434255,0.1292844937472286,0.4044071864470786,-2.0771930414556183,-0.020426006358398602,0.3849191710124318,0.879707817390476,-0.9431858876910261,-0.7490253238236118,0.5924697035901231,-1.3940933638268622,-0.5719377462453421,0.0075937045045873,-1.4481325040064896,0.21700524462166149,-0.1395825213548501,-0.24991568489512242,0.29452568252983163,-0.7905644371689067,-0.2997690889834603,0.21384176348726486,0.08658516570981084,0.7454032185178966,-0.6281603258099894,0.46180435642701845,-0.4178004985683218,-0.35630133871786407,-1.2112066150479495,-0.9726056889327593,-0.1005023860363253,1.0040648633325953,-1.0629923769941325,2.47531773691314,-0.04824382074826237,1.7025776795476604,-1.236548662174602,0.39866376082116467,1.333415614245502,0.0766655986802566,-0.33317061992034,-0.07328513704307903,0.37972060484157116,0.6522436929759483,0.8908762959506643,-0.41150485447839996,-0.3911042477094948,-1.7445372379275699,0.023978803372944477,-0.17442305395410349,0.25819460285665935,0.4944620618569529,-0.5834284135317452,-0.3240544301618898,-1.5444815784266575,-0.4776289313257464,0.06945397679857637,-0.4278386106429362,1.2522658559296482,-0.8812452740221121,-0.8221355096056416,-0.18782134308689513,1.8206332470536457,-0.6879560063978835,1.241741050078539,-2.7408858865027486,-0.4980842707106779,-0.9645117851028521,-0.12349607696101607,0.14719778655961077,-0.3022218597739041,0.6471150042134444,0.4721020856800413,-1.0353926818229156,1.3229382115515267,-1.2156788535049665,0.7614711874891931,-0.9013858317983743,-1.003047554190563,1.1696861418828624,0.0390968088724639,-0.4260054156967536,1.091606297176759,1.2036536169313206,-0.4427686249514626,1.4585873222111359,-0.270091310882172,0.17838137496146925,1.1533524775428632,0.5561949849702105,0.18208084487524875,0.26219091894703034,0.7582266638205611,0.3703636490699679,-0.5948913443755864,0.34613627097324257,0.07431556715271147,-1.2472512715902513],\"yaxis\":\"y2\",\"type\":\"scatter\"},{\"line\":{\"color\":\"rgba(128, 128, 128, 1.0)\",\"dash\":\"solid\",\"shape\":\"linear\",\"width\":1.3},\"marker\":{\"size\":2,\"symbol\":\"circle\"},\"mode\":\"markers\",\"name\":\"A\",\"text\":\"\",\"x\":[-0.18464066753779282,-1.837509230436605,-1.428226235955854,-0.19269172454292138,-0.09861805876725806,-0.6270474301800498,-0.07744172305750369,-1.3171709649992867,0.3896777388807655,-0.43291268819866346,-1.4752633555225647,0.6205395497448952,0.26174678012019625,0.01079237860016229,-0.2932546818019788,-0.48818618846841627,0.5617576021169364,-0.10709881717918422,1.1519827392437467,0.9003224007732287,-1.5676773430795874,0.6894923534228223,1.4037403210797081,-1.51277369058372,-0.1508289354292569,-1.4432952379527717,0.5570755511116148,0.14900020795773572,-1.0001189121750071,-1.3044512140273399,0.3862759814637888,-0.4188065597005142,0.6122983282252088,-0.45022406204096216,0.9024150719815782,0.32213695888356175,-0.15675623893701282,0.8809068586130961,1.053099326359383,-0.318492866646178,-0.0076614351279544884,0.7126223385047062,-0.014602804125976686,-1.1595424459621422,0.8417691791674425,-0.19056738474754467,2.0412416781683436,1.0076319937541325,0.7837616214918188,0.18988887593466647,-0.8149264277747987,0.03359639349157924,0.44510793187142755,0.8045401623710499,1.3954190768525638,-0.29477428779041814,-1.780670974511907,0.8199538360869015,0.1501494594895702,-1.2428346796666963,-0.9933306702583978,-0.22839952302186403,-0.18970102502483172,0.48491976220493826,0.9357894463118495,-1.0560773276372402,0.6605859438226847,0.8164952220723438,0.24509061408222765,-0.047949085699612044,-0.4730271905747123,1.0818437167773567,0.18090244215906,0.5167874447229025,-0.7461192427167384,1.104831725043291,2.6374468148273453,-0.6262404970069213,-0.3409569593914698,0.2967846166705076,0.6172402964404274,1.051005691693931,1.2841478727772049,1.2101133641665631,-0.6929839670049587,1.328023523948433,-0.08738999598215914,-1.2842310481852168,-0.277226890455086,-2.021620617412835,0.36565077821684056,-0.9215339827069383,3.2246408543883303,0.9952976646593267,0.011044725316802291,1.5643094453430852,-1.1147105963937614,0.6144647744747028,-2.008129911047966,1.940990359664634],\"xaxis\":\"x3\",\"y\":[0.9634623893766167,-0.12055224845819004,0.25008154086228296,-0.5013143806434255,0.1292844937472286,0.4044071864470786,-2.0771930414556183,-0.020426006358398602,0.3849191710124318,0.879707817390476,-0.9431858876910261,-0.7490253238236118,0.5924697035901231,-1.3940933638268622,-0.5719377462453421,0.0075937045045873,-1.4481325040064896,0.21700524462166149,-0.1395825213548501,-0.24991568489512242,0.29452568252983163,-0.7905644371689067,-0.2997690889834603,0.21384176348726486,0.08658516570981084,0.7454032185178966,-0.6281603258099894,0.46180435642701845,-0.4178004985683218,-0.35630133871786407,-1.2112066150479495,-0.9726056889327593,-0.1005023860363253,1.0040648633325953,-1.0629923769941325,2.47531773691314,-0.04824382074826237,1.7025776795476604,-1.236548662174602,0.39866376082116467,1.333415614245502,0.0766655986802566,-0.33317061992034,-0.07328513704307903,0.37972060484157116,0.6522436929759483,0.8908762959506643,-0.41150485447839996,-0.3911042477094948,-1.7445372379275699,0.023978803372944477,-0.17442305395410349,0.25819460285665935,0.4944620618569529,-0.5834284135317452,-0.3240544301618898,-1.5444815784266575,-0.4776289313257464,0.06945397679857637,-0.4278386106429362,1.2522658559296482,-0.8812452740221121,-0.8221355096056416,-0.18782134308689513,1.8206332470536457,-0.6879560063978835,1.241741050078539,-2.7408858865027486,-0.4980842707106779,-0.9645117851028521,-0.12349607696101607,0.14719778655961077,-0.3022218597739041,0.6471150042134444,0.4721020856800413,-1.0353926818229156,1.3229382115515267,-1.2156788535049665,0.7614711874891931,-0.9013858317983743,-1.003047554190563,1.1696861418828624,0.0390968088724639,-0.4260054156967536,1.091606297176759,1.2036536169313206,-0.4427686249514626,1.4585873222111359,-0.270091310882172,0.17838137496146925,1.1533524775428632,0.5561949849702105,0.18208084487524875,0.26219091894703034,0.7582266638205611,0.3703636490699679,-0.5948913443755864,0.34613627097324257,0.07431556715271147,-1.2472512715902513],\"yaxis\":\"y3\",\"type\":\"scatter\"},{\"line\":{\"color\":\"rgba(128, 128, 128, 1.0)\",\"dash\":\"solid\",\"shape\":\"linear\",\"width\":1.3},\"marker\":{\"size\":2,\"symbol\":\"circle\"},\"mode\":\"markers\",\"name\":\"A\",\"text\":\"\",\"x\":[-0.08512206312857473,1.486407132031537,0.1887236175934673,-0.6587370788072245,0.8021640273677891,0.5443892263293457,0.20834514920619607,-0.07206935499983638,-0.26818936472631943,0.14810415004951727,-0.558910061751106,-1.2361499328435568,-0.6171150192321198,-0.6312618538076438,-0.38342528640093754,-1.1290014540447832,0.23905590971250462,-1.2902692411105796,1.6632798496327437,-0.035330081775259224,0.10073442495879993,2.0346952555840487,-0.6195135593211537,1.4765246380232582,1.7228897117841506,1.5394984261152216,0.6476726909051266,-0.5015479486651164,0.8778301434127571,0.1653730231310223,0.8597597904792134,1.2557685621328203,-1.677002311724053,-0.27642368508153675,-0.3733767434475656,-1.0063910776785316,0.03496993723532587,0.981777137735842,-0.4273572629003103,0.6760994725892184,-0.6277173191994817,0.14374538023070144,1.1023037704136809,0.39365451494717063,-0.13524838032017725,0.4652095890846506,0.10193721841647994,0.6314232804944321,-0.021969475349004307,2.6869789741262293,0.7763693310873739,1.8959559797534367,0.5808260466765565,-0.20287578750962781,1.6669053047351992,1.569415295256676,0.6469816481578303,0.9091471095088757,-0.42699564666425743,-1.6585842658061019,1.005712753595606,1.2298763821171592,-0.05502666707050185,-0.03903247214908511,-1.0556162689302442,-0.5463356036243555,-1.6557532965774253,-0.29611176119413807,0.47500785671078954,-0.4116662152492864,0.6800303562998444,1.4451912367366986,-1.2242056864119761,1.2079089216920498,-0.9627138431084818,-0.7173767763805619,-0.4552075860149596,-0.006063658365125847,1.6702570707356326,-0.1985989829236588,0.06420722035318865,-0.3979436277761738,-0.2517310168970227,2.8531515695969056,0.699188101188425,-0.08285848283918196,1.2288750254001923,-1.084786027751436,-0.27032731793271364,0.6757470731006939,-1.8120325092008889,-1.019320251168823,-0.31185859127294063,-1.4994503096134124,0.3907580059865929,1.0616677694035255,-1.7278263238982272,1.6384475295921113,-0.5737770052559245,0.7716445727847083],\"xaxis\":\"x4\",\"y\":[0.9634623893766167,-0.12055224845819004,0.25008154086228296,-0.5013143806434255,0.1292844937472286,0.4044071864470786,-2.0771930414556183,-0.020426006358398602,0.3849191710124318,0.879707817390476,-0.9431858876910261,-0.7490253238236118,0.5924697035901231,-1.3940933638268622,-0.5719377462453421,0.0075937045045873,-1.4481325040064896,0.21700524462166149,-0.1395825213548501,-0.24991568489512242,0.29452568252983163,-0.7905644371689067,-0.2997690889834603,0.21384176348726486,0.08658516570981084,0.7454032185178966,-0.6281603258099894,0.46180435642701845,-0.4178004985683218,-0.35630133871786407,-1.2112066150479495,-0.9726056889327593,-0.1005023860363253,1.0040648633325953,-1.0629923769941325,2.47531773691314,-0.04824382074826237,1.7025776795476604,-1.236548662174602,0.39866376082116467,1.333415614245502,0.0766655986802566,-0.33317061992034,-0.07328513704307903,0.37972060484157116,0.6522436929759483,0.8908762959506643,-0.41150485447839996,-0.3911042477094948,-1.7445372379275699,0.023978803372944477,-0.17442305395410349,0.25819460285665935,0.4944620618569529,-0.5834284135317452,-0.3240544301618898,-1.5444815784266575,-0.4776289313257464,0.06945397679857637,-0.4278386106429362,1.2522658559296482,-0.8812452740221121,-0.8221355096056416,-0.18782134308689513,1.8206332470536457,-0.6879560063978835,1.241741050078539,-2.7408858865027486,-0.4980842707106779,-0.9645117851028521,-0.12349607696101607,0.14719778655961077,-0.3022218597739041,0.6471150042134444,0.4721020856800413,-1.0353926818229156,1.3229382115515267,-1.2156788535049665,0.7614711874891931,-0.9013858317983743,-1.003047554190563,1.1696861418828624,0.0390968088724639,-0.4260054156967536,1.091606297176759,1.2036536169313206,-0.4427686249514626,1.4585873222111359,-0.270091310882172,0.17838137496146925,1.1533524775428632,0.5561949849702105,0.18208084487524875,0.26219091894703034,0.7582266638205611,0.3703636490699679,-0.5948913443755864,0.34613627097324257,0.07431556715271147,-1.2472512715902513],\"yaxis\":\"y4\",\"type\":\"scatter\"},{\"line\":{\"color\":\"rgba(128, 128, 128, 1.0)\",\"dash\":\"solid\",\"shape\":\"linear\",\"width\":1.3},\"marker\":{\"size\":2,\"symbol\":\"circle\"},\"mode\":\"markers\",\"name\":\"B\",\"text\":\"\",\"x\":[0.9634623893766167,-0.12055224845819004,0.25008154086228296,-0.5013143806434255,0.1292844937472286,0.4044071864470786,-2.0771930414556183,-0.020426006358398602,0.3849191710124318,0.879707817390476,-0.9431858876910261,-0.7490253238236118,0.5924697035901231,-1.3940933638268622,-0.5719377462453421,0.0075937045045873,-1.4481325040064896,0.21700524462166149,-0.1395825213548501,-0.24991568489512242,0.29452568252983163,-0.7905644371689067,-0.2997690889834603,0.21384176348726486,0.08658516570981084,0.7454032185178966,-0.6281603258099894,0.46180435642701845,-0.4178004985683218,-0.35630133871786407,-1.2112066150479495,-0.9726056889327593,-0.1005023860363253,1.0040648633325953,-1.0629923769941325,2.47531773691314,-0.04824382074826237,1.7025776795476604,-1.236548662174602,0.39866376082116467,1.333415614245502,0.0766655986802566,-0.33317061992034,-0.07328513704307903,0.37972060484157116,0.6522436929759483,0.8908762959506643,-0.41150485447839996,-0.3911042477094948,-1.7445372379275699,0.023978803372944477,-0.17442305395410349,0.25819460285665935,0.4944620618569529,-0.5834284135317452,-0.3240544301618898,-1.5444815784266575,-0.4776289313257464,0.06945397679857637,-0.4278386106429362,1.2522658559296482,-0.8812452740221121,-0.8221355096056416,-0.18782134308689513,1.8206332470536457,-0.6879560063978835,1.241741050078539,-2.7408858865027486,-0.4980842707106779,-0.9645117851028521,-0.12349607696101607,0.14719778655961077,-0.3022218597739041,0.6471150042134444,0.4721020856800413,-1.0353926818229156,1.3229382115515267,-1.2156788535049665,0.7614711874891931,-0.9013858317983743,-1.003047554190563,1.1696861418828624,0.0390968088724639,-0.4260054156967536,1.091606297176759,1.2036536169313206,-0.4427686249514626,1.4585873222111359,-0.270091310882172,0.17838137496146925,1.1533524775428632,0.5561949849702105,0.18208084487524875,0.26219091894703034,0.7582266638205611,0.3703636490699679,-0.5948913443755864,0.34613627097324257,0.07431556715271147,-1.2472512715902513],\"xaxis\":\"x5\",\"y\":[-0.09147954299523928,-1.7385508624690544,0.9221586878268342,-1.0931631569009221,0.3314050081963957,-1.6860350043840182,0.12957115351750878,0.5282594700664602,-1.724213141676408,-0.5551485134413877,0.01099836125675915,-1.8479965901671493,1.3048716149407638,-0.47126362237465713,0.30461274408286604,-0.3624930124832195,-0.12427109577985897,1.0458392895428787,-1.0772505081410064,0.956187500896724,-0.5134093195098551,1.003191182736705,1.0054421492812542,0.7444342301762672,0.9717048416109594,-0.5862903672126797,1.1402320163276554,-0.07586206865034092,-1.3020079599314847,-1.5532090620038983,0.8063276508119176,-1.190267123383816,-0.45573398022926986,0.2492173650282826,0.042545897664883724,-0.5394012540380726,-0.8710337885007717,0.27070058032527144,1.502715551599413,-0.6133569085524814,0.7716091967711711,-0.844375266511973,1.014272863942356,1.283227843583457,0.5405202955362597,0.26670175488612397,0.7101520294582939,2.07484318757425,0.6160923809193212,-0.7621923610184558,-0.7409270577875984,-0.8944055555394634,-0.8504280755637271,-1.0335914311595302,2.1436511287416486,0.2941595400966851,-1.2670997292914403,1.6747192059627178,-0.4549685653946752,-1.4261740159930605,0.2860098578963224,-0.6896865460661573,0.058011235562708846,-1.408955244083918,-0.20902752485155054,-0.30808010437819333,-0.22554007253720418,-0.012289759543897499,1.1978357038826355,0.8808992432676263,-0.1577267481768039,-0.7663712262064384,-1.47674134732821,0.48303599341467285,0.7484100962354236,0.6199214404930379,-0.09192405598441374,0.5300093476958286,1.2785791208003725,0.9358425653510516,-0.5925670749165277,-0.20166372582262201,-1.096850817122355,-1.0932450615263414,0.424315413305436,-0.0926162788765071,-0.20069809653638093,0.9772930851080682,0.26386815140631265,1.3874266245301734,-0.9248958944644438,0.17201496834833183,-0.9048757219799238,0.4288879111931887,-0.36738707307769375,0.7472144095556358,2.272295759735388,0.877225373172687,-0.4378174124395575,-1.1585312621617012],\"yaxis\":\"y5\",\"type\":\"scatter\"},{\"histfunc\":\"count\",\"histnorm\":\"\",\"marker\":{\"color\":\"rgba(55, 128, 191, 1.0)\",\"line\":{\"color\":\"#4D5663\",\"width\":1.3}},\"name\":\"B\",\"nbinsx\":10,\"opacity\":0.8,\"orientation\":\"v\",\"x\":[-0.09147954299523928,-1.7385508624690544,0.9221586878268342,-1.0931631569009221,0.3314050081963957,-1.6860350043840182,0.12957115351750878,0.5282594700664602,-1.724213141676408,-0.5551485134413877,0.01099836125675915,-1.8479965901671493,1.3048716149407638,-0.47126362237465713,0.30461274408286604,-0.3624930124832195,-0.12427109577985897,1.0458392895428787,-1.0772505081410064,0.956187500896724,-0.5134093195098551,1.003191182736705,1.0054421492812542,0.7444342301762672,0.9717048416109594,-0.5862903672126797,1.1402320163276554,-0.07586206865034092,-1.3020079599314847,-1.5532090620038983,0.8063276508119176,-1.190267123383816,-0.45573398022926986,0.2492173650282826,0.042545897664883724,-0.5394012540380726,-0.8710337885007717,0.27070058032527144,1.502715551599413,-0.6133569085524814,0.7716091967711711,-0.844375266511973,1.014272863942356,1.283227843583457,0.5405202955362597,0.26670175488612397,0.7101520294582939,2.07484318757425,0.6160923809193212,-0.7621923610184558,-0.7409270577875984,-0.8944055555394634,-0.8504280755637271,-1.0335914311595302,2.1436511287416486,0.2941595400966851,-1.2670997292914403,1.6747192059627178,-0.4549685653946752,-1.4261740159930605,0.2860098578963224,-0.6896865460661573,0.058011235562708846,-1.408955244083918,-0.20902752485155054,-0.30808010437819333,-0.22554007253720418,-0.012289759543897499,1.1978357038826355,0.8808992432676263,-0.1577267481768039,-0.7663712262064384,-1.47674134732821,0.48303599341467285,0.7484100962354236,0.6199214404930379,-0.09192405598441374,0.5300093476958286,1.2785791208003725,0.9358425653510516,-0.5925670749165277,-0.20166372582262201,-1.096850817122355,-1.0932450615263414,0.424315413305436,-0.0926162788765071,-0.20069809653638093,0.9772930851080682,0.26386815140631265,1.3874266245301734,-0.9248958944644438,0.17201496834833183,-0.9048757219799238,0.4288879111931887,-0.36738707307769375,0.7472144095556358,2.272295759735388,0.877225373172687,-0.4378174124395575,-1.1585312621617012],\"xaxis\":\"x6\",\"yaxis\":\"y6\",\"type\":\"histogram\"},{\"line\":{\"color\":\"rgba(128, 128, 128, 1.0)\",\"dash\":\"solid\",\"shape\":\"linear\",\"width\":1.3},\"marker\":{\"size\":2,\"symbol\":\"circle\"},\"mode\":\"markers\",\"name\":\"B\",\"text\":\"\",\"x\":[-0.18464066753779282,-1.837509230436605,-1.428226235955854,-0.19269172454292138,-0.09861805876725806,-0.6270474301800498,-0.07744172305750369,-1.3171709649992867,0.3896777388807655,-0.43291268819866346,-1.4752633555225647,0.6205395497448952,0.26174678012019625,0.01079237860016229,-0.2932546818019788,-0.48818618846841627,0.5617576021169364,-0.10709881717918422,1.1519827392437467,0.9003224007732287,-1.5676773430795874,0.6894923534228223,1.4037403210797081,-1.51277369058372,-0.1508289354292569,-1.4432952379527717,0.5570755511116148,0.14900020795773572,-1.0001189121750071,-1.3044512140273399,0.3862759814637888,-0.4188065597005142,0.6122983282252088,-0.45022406204096216,0.9024150719815782,0.32213695888356175,-0.15675623893701282,0.8809068586130961,1.053099326359383,-0.318492866646178,-0.0076614351279544884,0.7126223385047062,-0.014602804125976686,-1.1595424459621422,0.8417691791674425,-0.19056738474754467,2.0412416781683436,1.0076319937541325,0.7837616214918188,0.18988887593466647,-0.8149264277747987,0.03359639349157924,0.44510793187142755,0.8045401623710499,1.3954190768525638,-0.29477428779041814,-1.780670974511907,0.8199538360869015,0.1501494594895702,-1.2428346796666963,-0.9933306702583978,-0.22839952302186403,-0.18970102502483172,0.48491976220493826,0.9357894463118495,-1.0560773276372402,0.6605859438226847,0.8164952220723438,0.24509061408222765,-0.047949085699612044,-0.4730271905747123,1.0818437167773567,0.18090244215906,0.5167874447229025,-0.7461192427167384,1.104831725043291,2.6374468148273453,-0.6262404970069213,-0.3409569593914698,0.2967846166705076,0.6172402964404274,1.051005691693931,1.2841478727772049,1.2101133641665631,-0.6929839670049587,1.328023523948433,-0.08738999598215914,-1.2842310481852168,-0.277226890455086,-2.021620617412835,0.36565077821684056,-0.9215339827069383,3.2246408543883303,0.9952976646593267,0.011044725316802291,1.5643094453430852,-1.1147105963937614,0.6144647744747028,-2.008129911047966,1.940990359664634],\"xaxis\":\"x7\",\"y\":[-0.09147954299523928,-1.7385508624690544,0.9221586878268342,-1.0931631569009221,0.3314050081963957,-1.6860350043840182,0.12957115351750878,0.5282594700664602,-1.724213141676408,-0.5551485134413877,0.01099836125675915,-1.8479965901671493,1.3048716149407638,-0.47126362237465713,0.30461274408286604,-0.3624930124832195,-0.12427109577985897,1.0458392895428787,-1.0772505081410064,0.956187500896724,-0.5134093195098551,1.003191182736705,1.0054421492812542,0.7444342301762672,0.9717048416109594,-0.5862903672126797,1.1402320163276554,-0.07586206865034092,-1.3020079599314847,-1.5532090620038983,0.8063276508119176,-1.190267123383816,-0.45573398022926986,0.2492173650282826,0.042545897664883724,-0.5394012540380726,-0.8710337885007717,0.27070058032527144,1.502715551599413,-0.6133569085524814,0.7716091967711711,-0.844375266511973,1.014272863942356,1.283227843583457,0.5405202955362597,0.26670175488612397,0.7101520294582939,2.07484318757425,0.6160923809193212,-0.7621923610184558,-0.7409270577875984,-0.8944055555394634,-0.8504280755637271,-1.0335914311595302,2.1436511287416486,0.2941595400966851,-1.2670997292914403,1.6747192059627178,-0.4549685653946752,-1.4261740159930605,0.2860098578963224,-0.6896865460661573,0.058011235562708846,-1.408955244083918,-0.20902752485155054,-0.30808010437819333,-0.22554007253720418,-0.012289759543897499,1.1978357038826355,0.8808992432676263,-0.1577267481768039,-0.7663712262064384,-1.47674134732821,0.48303599341467285,0.7484100962354236,0.6199214404930379,-0.09192405598441374,0.5300093476958286,1.2785791208003725,0.9358425653510516,-0.5925670749165277,-0.20166372582262201,-1.096850817122355,-1.0932450615263414,0.424315413305436,-0.0926162788765071,-0.20069809653638093,0.9772930851080682,0.26386815140631265,1.3874266245301734,-0.9248958944644438,0.17201496834833183,-0.9048757219799238,0.4288879111931887,-0.36738707307769375,0.7472144095556358,2.272295759735388,0.877225373172687,-0.4378174124395575,-1.1585312621617012],\"yaxis\":\"y7\",\"type\":\"scatter\"},{\"line\":{\"color\":\"rgba(128, 128, 128, 1.0)\",\"dash\":\"solid\",\"shape\":\"linear\",\"width\":1.3},\"marker\":{\"size\":2,\"symbol\":\"circle\"},\"mode\":\"markers\",\"name\":\"B\",\"text\":\"\",\"x\":[-0.08512206312857473,1.486407132031537,0.1887236175934673,-0.6587370788072245,0.8021640273677891,0.5443892263293457,0.20834514920619607,-0.07206935499983638,-0.26818936472631943,0.14810415004951727,-0.558910061751106,-1.2361499328435568,-0.6171150192321198,-0.6312618538076438,-0.38342528640093754,-1.1290014540447832,0.23905590971250462,-1.2902692411105796,1.6632798496327437,-0.035330081775259224,0.10073442495879993,2.0346952555840487,-0.6195135593211537,1.4765246380232582,1.7228897117841506,1.5394984261152216,0.6476726909051266,-0.5015479486651164,0.8778301434127571,0.1653730231310223,0.8597597904792134,1.2557685621328203,-1.677002311724053,-0.27642368508153675,-0.3733767434475656,-1.0063910776785316,0.03496993723532587,0.981777137735842,-0.4273572629003103,0.6760994725892184,-0.6277173191994817,0.14374538023070144,1.1023037704136809,0.39365451494717063,-0.13524838032017725,0.4652095890846506,0.10193721841647994,0.6314232804944321,-0.021969475349004307,2.6869789741262293,0.7763693310873739,1.8959559797534367,0.5808260466765565,-0.20287578750962781,1.6669053047351992,1.569415295256676,0.6469816481578303,0.9091471095088757,-0.42699564666425743,-1.6585842658061019,1.005712753595606,1.2298763821171592,-0.05502666707050185,-0.03903247214908511,-1.0556162689302442,-0.5463356036243555,-1.6557532965774253,-0.29611176119413807,0.47500785671078954,-0.4116662152492864,0.6800303562998444,1.4451912367366986,-1.2242056864119761,1.2079089216920498,-0.9627138431084818,-0.7173767763805619,-0.4552075860149596,-0.006063658365125847,1.6702570707356326,-0.1985989829236588,0.06420722035318865,-0.3979436277761738,-0.2517310168970227,2.8531515695969056,0.699188101188425,-0.08285848283918196,1.2288750254001923,-1.084786027751436,-0.27032731793271364,0.6757470731006939,-1.8120325092008889,-1.019320251168823,-0.31185859127294063,-1.4994503096134124,0.3907580059865929,1.0616677694035255,-1.7278263238982272,1.6384475295921113,-0.5737770052559245,0.7716445727847083],\"xaxis\":\"x8\",\"y\":[-0.09147954299523928,-1.7385508624690544,0.9221586878268342,-1.0931631569009221,0.3314050081963957,-1.6860350043840182,0.12957115351750878,0.5282594700664602,-1.724213141676408,-0.5551485134413877,0.01099836125675915,-1.8479965901671493,1.3048716149407638,-0.47126362237465713,0.30461274408286604,-0.3624930124832195,-0.12427109577985897,1.0458392895428787,-1.0772505081410064,0.956187500896724,-0.5134093195098551,1.003191182736705,1.0054421492812542,0.7444342301762672,0.9717048416109594,-0.5862903672126797,1.1402320163276554,-0.07586206865034092,-1.3020079599314847,-1.5532090620038983,0.8063276508119176,-1.190267123383816,-0.45573398022926986,0.2492173650282826,0.042545897664883724,-0.5394012540380726,-0.8710337885007717,0.27070058032527144,1.502715551599413,-0.6133569085524814,0.7716091967711711,-0.844375266511973,1.014272863942356,1.283227843583457,0.5405202955362597,0.26670175488612397,0.7101520294582939,2.07484318757425,0.6160923809193212,-0.7621923610184558,-0.7409270577875984,-0.8944055555394634,-0.8504280755637271,-1.0335914311595302,2.1436511287416486,0.2941595400966851,-1.2670997292914403,1.6747192059627178,-0.4549685653946752,-1.4261740159930605,0.2860098578963224,-0.6896865460661573,0.058011235562708846,-1.408955244083918,-0.20902752485155054,-0.30808010437819333,-0.22554007253720418,-0.012289759543897499,1.1978357038826355,0.8808992432676263,-0.1577267481768039,-0.7663712262064384,-1.47674134732821,0.48303599341467285,0.7484100962354236,0.6199214404930379,-0.09192405598441374,0.5300093476958286,1.2785791208003725,0.9358425653510516,-0.5925670749165277,-0.20166372582262201,-1.096850817122355,-1.0932450615263414,0.424315413305436,-0.0926162788765071,-0.20069809653638093,0.9772930851080682,0.26386815140631265,1.3874266245301734,-0.9248958944644438,0.17201496834833183,-0.9048757219799238,0.4288879111931887,-0.36738707307769375,0.7472144095556358,2.272295759735388,0.877225373172687,-0.4378174124395575,-1.1585312621617012],\"yaxis\":\"y8\",\"type\":\"scatter\"},{\"line\":{\"color\":\"rgba(128, 128, 128, 1.0)\",\"dash\":\"solid\",\"shape\":\"linear\",\"width\":1.3},\"marker\":{\"size\":2,\"symbol\":\"circle\"},\"mode\":\"markers\",\"name\":\"C\",\"text\":\"\",\"x\":[0.9634623893766167,-0.12055224845819004,0.25008154086228296,-0.5013143806434255,0.1292844937472286,0.4044071864470786,-2.0771930414556183,-0.020426006358398602,0.3849191710124318,0.879707817390476,-0.9431858876910261,-0.7490253238236118,0.5924697035901231,-1.3940933638268622,-0.5719377462453421,0.0075937045045873,-1.4481325040064896,0.21700524462166149,-0.1395825213548501,-0.24991568489512242,0.29452568252983163,-0.7905644371689067,-0.2997690889834603,0.21384176348726486,0.08658516570981084,0.7454032185178966,-0.6281603258099894,0.46180435642701845,-0.4178004985683218,-0.35630133871786407,-1.2112066150479495,-0.9726056889327593,-0.1005023860363253,1.0040648633325953,-1.0629923769941325,2.47531773691314,-0.04824382074826237,1.7025776795476604,-1.236548662174602,0.39866376082116467,1.333415614245502,0.0766655986802566,-0.33317061992034,-0.07328513704307903,0.37972060484157116,0.6522436929759483,0.8908762959506643,-0.41150485447839996,-0.3911042477094948,-1.7445372379275699,0.023978803372944477,-0.17442305395410349,0.25819460285665935,0.4944620618569529,-0.5834284135317452,-0.3240544301618898,-1.5444815784266575,-0.4776289313257464,0.06945397679857637,-0.4278386106429362,1.2522658559296482,-0.8812452740221121,-0.8221355096056416,-0.18782134308689513,1.8206332470536457,-0.6879560063978835,1.241741050078539,-2.7408858865027486,-0.4980842707106779,-0.9645117851028521,-0.12349607696101607,0.14719778655961077,-0.3022218597739041,0.6471150042134444,0.4721020856800413,-1.0353926818229156,1.3229382115515267,-1.2156788535049665,0.7614711874891931,-0.9013858317983743,-1.003047554190563,1.1696861418828624,0.0390968088724639,-0.4260054156967536,1.091606297176759,1.2036536169313206,-0.4427686249514626,1.4585873222111359,-0.270091310882172,0.17838137496146925,1.1533524775428632,0.5561949849702105,0.18208084487524875,0.26219091894703034,0.7582266638205611,0.3703636490699679,-0.5948913443755864,0.34613627097324257,0.07431556715271147,-1.2472512715902513],\"xaxis\":\"x9\",\"y\":[-0.18464066753779282,-1.837509230436605,-1.428226235955854,-0.19269172454292138,-0.09861805876725806,-0.6270474301800498,-0.07744172305750369,-1.3171709649992867,0.3896777388807655,-0.43291268819866346,-1.4752633555225647,0.6205395497448952,0.26174678012019625,0.01079237860016229,-0.2932546818019788,-0.48818618846841627,0.5617576021169364,-0.10709881717918422,1.1519827392437467,0.9003224007732287,-1.5676773430795874,0.6894923534228223,1.4037403210797081,-1.51277369058372,-0.1508289354292569,-1.4432952379527717,0.5570755511116148,0.14900020795773572,-1.0001189121750071,-1.3044512140273399,0.3862759814637888,-0.4188065597005142,0.6122983282252088,-0.45022406204096216,0.9024150719815782,0.32213695888356175,-0.15675623893701282,0.8809068586130961,1.053099326359383,-0.318492866646178,-0.0076614351279544884,0.7126223385047062,-0.014602804125976686,-1.1595424459621422,0.8417691791674425,-0.19056738474754467,2.0412416781683436,1.0076319937541325,0.7837616214918188,0.18988887593466647,-0.8149264277747987,0.03359639349157924,0.44510793187142755,0.8045401623710499,1.3954190768525638,-0.29477428779041814,-1.780670974511907,0.8199538360869015,0.1501494594895702,-1.2428346796666963,-0.9933306702583978,-0.22839952302186403,-0.18970102502483172,0.48491976220493826,0.9357894463118495,-1.0560773276372402,0.6605859438226847,0.8164952220723438,0.24509061408222765,-0.047949085699612044,-0.4730271905747123,1.0818437167773567,0.18090244215906,0.5167874447229025,-0.7461192427167384,1.104831725043291,2.6374468148273453,-0.6262404970069213,-0.3409569593914698,0.2967846166705076,0.6172402964404274,1.051005691693931,1.2841478727772049,1.2101133641665631,-0.6929839670049587,1.328023523948433,-0.08738999598215914,-1.2842310481852168,-0.277226890455086,-2.021620617412835,0.36565077821684056,-0.9215339827069383,3.2246408543883303,0.9952976646593267,0.011044725316802291,1.5643094453430852,-1.1147105963937614,0.6144647744747028,-2.008129911047966,1.940990359664634],\"yaxis\":\"y9\",\"type\":\"scatter\"},{\"line\":{\"color\":\"rgba(128, 128, 128, 1.0)\",\"dash\":\"solid\",\"shape\":\"linear\",\"width\":1.3},\"marker\":{\"size\":2,\"symbol\":\"circle\"},\"mode\":\"markers\",\"name\":\"C\",\"text\":\"\",\"x\":[-0.09147954299523928,-1.7385508624690544,0.9221586878268342,-1.0931631569009221,0.3314050081963957,-1.6860350043840182,0.12957115351750878,0.5282594700664602,-1.724213141676408,-0.5551485134413877,0.01099836125675915,-1.8479965901671493,1.3048716149407638,-0.47126362237465713,0.30461274408286604,-0.3624930124832195,-0.12427109577985897,1.0458392895428787,-1.0772505081410064,0.956187500896724,-0.5134093195098551,1.003191182736705,1.0054421492812542,0.7444342301762672,0.9717048416109594,-0.5862903672126797,1.1402320163276554,-0.07586206865034092,-1.3020079599314847,-1.5532090620038983,0.8063276508119176,-1.190267123383816,-0.45573398022926986,0.2492173650282826,0.042545897664883724,-0.5394012540380726,-0.8710337885007717,0.27070058032527144,1.502715551599413,-0.6133569085524814,0.7716091967711711,-0.844375266511973,1.014272863942356,1.283227843583457,0.5405202955362597,0.26670175488612397,0.7101520294582939,2.07484318757425,0.6160923809193212,-0.7621923610184558,-0.7409270577875984,-0.8944055555394634,-0.8504280755637271,-1.0335914311595302,2.1436511287416486,0.2941595400966851,-1.2670997292914403,1.6747192059627178,-0.4549685653946752,-1.4261740159930605,0.2860098578963224,-0.6896865460661573,0.058011235562708846,-1.408955244083918,-0.20902752485155054,-0.30808010437819333,-0.22554007253720418,-0.012289759543897499,1.1978357038826355,0.8808992432676263,-0.1577267481768039,-0.7663712262064384,-1.47674134732821,0.48303599341467285,0.7484100962354236,0.6199214404930379,-0.09192405598441374,0.5300093476958286,1.2785791208003725,0.9358425653510516,-0.5925670749165277,-0.20166372582262201,-1.096850817122355,-1.0932450615263414,0.424315413305436,-0.0926162788765071,-0.20069809653638093,0.9772930851080682,0.26386815140631265,1.3874266245301734,-0.9248958944644438,0.17201496834833183,-0.9048757219799238,0.4288879111931887,-0.36738707307769375,0.7472144095556358,2.272295759735388,0.877225373172687,-0.4378174124395575,-1.1585312621617012],\"xaxis\":\"x10\",\"y\":[-0.18464066753779282,-1.837509230436605,-1.428226235955854,-0.19269172454292138,-0.09861805876725806,-0.6270474301800498,-0.07744172305750369,-1.3171709649992867,0.3896777388807655,-0.43291268819866346,-1.4752633555225647,0.6205395497448952,0.26174678012019625,0.01079237860016229,-0.2932546818019788,-0.48818618846841627,0.5617576021169364,-0.10709881717918422,1.1519827392437467,0.9003224007732287,-1.5676773430795874,0.6894923534228223,1.4037403210797081,-1.51277369058372,-0.1508289354292569,-1.4432952379527717,0.5570755511116148,0.14900020795773572,-1.0001189121750071,-1.3044512140273399,0.3862759814637888,-0.4188065597005142,0.6122983282252088,-0.45022406204096216,0.9024150719815782,0.32213695888356175,-0.15675623893701282,0.8809068586130961,1.053099326359383,-0.318492866646178,-0.0076614351279544884,0.7126223385047062,-0.014602804125976686,-1.1595424459621422,0.8417691791674425,-0.19056738474754467,2.0412416781683436,1.0076319937541325,0.7837616214918188,0.18988887593466647,-0.8149264277747987,0.03359639349157924,0.44510793187142755,0.8045401623710499,1.3954190768525638,-0.29477428779041814,-1.780670974511907,0.8199538360869015,0.1501494594895702,-1.2428346796666963,-0.9933306702583978,-0.22839952302186403,-0.18970102502483172,0.48491976220493826,0.9357894463118495,-1.0560773276372402,0.6605859438226847,0.8164952220723438,0.24509061408222765,-0.047949085699612044,-0.4730271905747123,1.0818437167773567,0.18090244215906,0.5167874447229025,-0.7461192427167384,1.104831725043291,2.6374468148273453,-0.6262404970069213,-0.3409569593914698,0.2967846166705076,0.6172402964404274,1.051005691693931,1.2841478727772049,1.2101133641665631,-0.6929839670049587,1.328023523948433,-0.08738999598215914,-1.2842310481852168,-0.277226890455086,-2.021620617412835,0.36565077821684056,-0.9215339827069383,3.2246408543883303,0.9952976646593267,0.011044725316802291,1.5643094453430852,-1.1147105963937614,0.6144647744747028,-2.008129911047966,1.940990359664634],\"yaxis\":\"y10\",\"type\":\"scatter\"},{\"histfunc\":\"count\",\"histnorm\":\"\",\"marker\":{\"color\":\"rgba(50, 171, 96, 1.0)\",\"line\":{\"color\":\"#4D5663\",\"width\":1.3}},\"name\":\"C\",\"nbinsx\":10,\"opacity\":0.8,\"orientation\":\"v\",\"x\":[-0.18464066753779282,-1.837509230436605,-1.428226235955854,-0.19269172454292138,-0.09861805876725806,-0.6270474301800498,-0.07744172305750369,-1.3171709649992867,0.3896777388807655,-0.43291268819866346,-1.4752633555225647,0.6205395497448952,0.26174678012019625,0.01079237860016229,-0.2932546818019788,-0.48818618846841627,0.5617576021169364,-0.10709881717918422,1.1519827392437467,0.9003224007732287,-1.5676773430795874,0.6894923534228223,1.4037403210797081,-1.51277369058372,-0.1508289354292569,-1.4432952379527717,0.5570755511116148,0.14900020795773572,-1.0001189121750071,-1.3044512140273399,0.3862759814637888,-0.4188065597005142,0.6122983282252088,-0.45022406204096216,0.9024150719815782,0.32213695888356175,-0.15675623893701282,0.8809068586130961,1.053099326359383,-0.318492866646178,-0.0076614351279544884,0.7126223385047062,-0.014602804125976686,-1.1595424459621422,0.8417691791674425,-0.19056738474754467,2.0412416781683436,1.0076319937541325,0.7837616214918188,0.18988887593466647,-0.8149264277747987,0.03359639349157924,0.44510793187142755,0.8045401623710499,1.3954190768525638,-0.29477428779041814,-1.780670974511907,0.8199538360869015,0.1501494594895702,-1.2428346796666963,-0.9933306702583978,-0.22839952302186403,-0.18970102502483172,0.48491976220493826,0.9357894463118495,-1.0560773276372402,0.6605859438226847,0.8164952220723438,0.24509061408222765,-0.047949085699612044,-0.4730271905747123,1.0818437167773567,0.18090244215906,0.5167874447229025,-0.7461192427167384,1.104831725043291,2.6374468148273453,-0.6262404970069213,-0.3409569593914698,0.2967846166705076,0.6172402964404274,1.051005691693931,1.2841478727772049,1.2101133641665631,-0.6929839670049587,1.328023523948433,-0.08738999598215914,-1.2842310481852168,-0.277226890455086,-2.021620617412835,0.36565077821684056,-0.9215339827069383,3.2246408543883303,0.9952976646593267,0.011044725316802291,1.5643094453430852,-1.1147105963937614,0.6144647744747028,-2.008129911047966,1.940990359664634],\"xaxis\":\"x11\",\"yaxis\":\"y11\",\"type\":\"histogram\"},{\"line\":{\"color\":\"rgba(128, 128, 128, 1.0)\",\"dash\":\"solid\",\"shape\":\"linear\",\"width\":1.3},\"marker\":{\"size\":2,\"symbol\":\"circle\"},\"mode\":\"markers\",\"name\":\"C\",\"text\":\"\",\"x\":[-0.08512206312857473,1.486407132031537,0.1887236175934673,-0.6587370788072245,0.8021640273677891,0.5443892263293457,0.20834514920619607,-0.07206935499983638,-0.26818936472631943,0.14810415004951727,-0.558910061751106,-1.2361499328435568,-0.6171150192321198,-0.6312618538076438,-0.38342528640093754,-1.1290014540447832,0.23905590971250462,-1.2902692411105796,1.6632798496327437,-0.035330081775259224,0.10073442495879993,2.0346952555840487,-0.6195135593211537,1.4765246380232582,1.7228897117841506,1.5394984261152216,0.6476726909051266,-0.5015479486651164,0.8778301434127571,0.1653730231310223,0.8597597904792134,1.2557685621328203,-1.677002311724053,-0.27642368508153675,-0.3733767434475656,-1.0063910776785316,0.03496993723532587,0.981777137735842,-0.4273572629003103,0.6760994725892184,-0.6277173191994817,0.14374538023070144,1.1023037704136809,0.39365451494717063,-0.13524838032017725,0.4652095890846506,0.10193721841647994,0.6314232804944321,-0.021969475349004307,2.6869789741262293,0.7763693310873739,1.8959559797534367,0.5808260466765565,-0.20287578750962781,1.6669053047351992,1.569415295256676,0.6469816481578303,0.9091471095088757,-0.42699564666425743,-1.6585842658061019,1.005712753595606,1.2298763821171592,-0.05502666707050185,-0.03903247214908511,-1.0556162689302442,-0.5463356036243555,-1.6557532965774253,-0.29611176119413807,0.47500785671078954,-0.4116662152492864,0.6800303562998444,1.4451912367366986,-1.2242056864119761,1.2079089216920498,-0.9627138431084818,-0.7173767763805619,-0.4552075860149596,-0.006063658365125847,1.6702570707356326,-0.1985989829236588,0.06420722035318865,-0.3979436277761738,-0.2517310168970227,2.8531515695969056,0.699188101188425,-0.08285848283918196,1.2288750254001923,-1.084786027751436,-0.27032731793271364,0.6757470731006939,-1.8120325092008889,-1.019320251168823,-0.31185859127294063,-1.4994503096134124,0.3907580059865929,1.0616677694035255,-1.7278263238982272,1.6384475295921113,-0.5737770052559245,0.7716445727847083],\"xaxis\":\"x12\",\"y\":[-0.18464066753779282,-1.837509230436605,-1.428226235955854,-0.19269172454292138,-0.09861805876725806,-0.6270474301800498,-0.07744172305750369,-1.3171709649992867,0.3896777388807655,-0.43291268819866346,-1.4752633555225647,0.6205395497448952,0.26174678012019625,0.01079237860016229,-0.2932546818019788,-0.48818618846841627,0.5617576021169364,-0.10709881717918422,1.1519827392437467,0.9003224007732287,-1.5676773430795874,0.6894923534228223,1.4037403210797081,-1.51277369058372,-0.1508289354292569,-1.4432952379527717,0.5570755511116148,0.14900020795773572,-1.0001189121750071,-1.3044512140273399,0.3862759814637888,-0.4188065597005142,0.6122983282252088,-0.45022406204096216,0.9024150719815782,0.32213695888356175,-0.15675623893701282,0.8809068586130961,1.053099326359383,-0.318492866646178,-0.0076614351279544884,0.7126223385047062,-0.014602804125976686,-1.1595424459621422,0.8417691791674425,-0.19056738474754467,2.0412416781683436,1.0076319937541325,0.7837616214918188,0.18988887593466647,-0.8149264277747987,0.03359639349157924,0.44510793187142755,0.8045401623710499,1.3954190768525638,-0.29477428779041814,-1.780670974511907,0.8199538360869015,0.1501494594895702,-1.2428346796666963,-0.9933306702583978,-0.22839952302186403,-0.18970102502483172,0.48491976220493826,0.9357894463118495,-1.0560773276372402,0.6605859438226847,0.8164952220723438,0.24509061408222765,-0.047949085699612044,-0.4730271905747123,1.0818437167773567,0.18090244215906,0.5167874447229025,-0.7461192427167384,1.104831725043291,2.6374468148273453,-0.6262404970069213,-0.3409569593914698,0.2967846166705076,0.6172402964404274,1.051005691693931,1.2841478727772049,1.2101133641665631,-0.6929839670049587,1.328023523948433,-0.08738999598215914,-1.2842310481852168,-0.277226890455086,-2.021620617412835,0.36565077821684056,-0.9215339827069383,3.2246408543883303,0.9952976646593267,0.011044725316802291,1.5643094453430852,-1.1147105963937614,0.6144647744747028,-2.008129911047966,1.940990359664634],\"yaxis\":\"y12\",\"type\":\"scatter\"},{\"line\":{\"color\":\"rgba(128, 128, 128, 1.0)\",\"dash\":\"solid\",\"shape\":\"linear\",\"width\":1.3},\"marker\":{\"size\":2,\"symbol\":\"circle\"},\"mode\":\"markers\",\"name\":\"D\",\"text\":\"\",\"x\":[0.9634623893766167,-0.12055224845819004,0.25008154086228296,-0.5013143806434255,0.1292844937472286,0.4044071864470786,-2.0771930414556183,-0.020426006358398602,0.3849191710124318,0.879707817390476,-0.9431858876910261,-0.7490253238236118,0.5924697035901231,-1.3940933638268622,-0.5719377462453421,0.0075937045045873,-1.4481325040064896,0.21700524462166149,-0.1395825213548501,-0.24991568489512242,0.29452568252983163,-0.7905644371689067,-0.2997690889834603,0.21384176348726486,0.08658516570981084,0.7454032185178966,-0.6281603258099894,0.46180435642701845,-0.4178004985683218,-0.35630133871786407,-1.2112066150479495,-0.9726056889327593,-0.1005023860363253,1.0040648633325953,-1.0629923769941325,2.47531773691314,-0.04824382074826237,1.7025776795476604,-1.236548662174602,0.39866376082116467,1.333415614245502,0.0766655986802566,-0.33317061992034,-0.07328513704307903,0.37972060484157116,0.6522436929759483,0.8908762959506643,-0.41150485447839996,-0.3911042477094948,-1.7445372379275699,0.023978803372944477,-0.17442305395410349,0.25819460285665935,0.4944620618569529,-0.5834284135317452,-0.3240544301618898,-1.5444815784266575,-0.4776289313257464,0.06945397679857637,-0.4278386106429362,1.2522658559296482,-0.8812452740221121,-0.8221355096056416,-0.18782134308689513,1.8206332470536457,-0.6879560063978835,1.241741050078539,-2.7408858865027486,-0.4980842707106779,-0.9645117851028521,-0.12349607696101607,0.14719778655961077,-0.3022218597739041,0.6471150042134444,0.4721020856800413,-1.0353926818229156,1.3229382115515267,-1.2156788535049665,0.7614711874891931,-0.9013858317983743,-1.003047554190563,1.1696861418828624,0.0390968088724639,-0.4260054156967536,1.091606297176759,1.2036536169313206,-0.4427686249514626,1.4585873222111359,-0.270091310882172,0.17838137496146925,1.1533524775428632,0.5561949849702105,0.18208084487524875,0.26219091894703034,0.7582266638205611,0.3703636490699679,-0.5948913443755864,0.34613627097324257,0.07431556715271147,-1.2472512715902513],\"xaxis\":\"x13\",\"y\":[-0.08512206312857473,1.486407132031537,0.1887236175934673,-0.6587370788072245,0.8021640273677891,0.5443892263293457,0.20834514920619607,-0.07206935499983638,-0.26818936472631943,0.14810415004951727,-0.558910061751106,-1.2361499328435568,-0.6171150192321198,-0.6312618538076438,-0.38342528640093754,-1.1290014540447832,0.23905590971250462,-1.2902692411105796,1.6632798496327437,-0.035330081775259224,0.10073442495879993,2.0346952555840487,-0.6195135593211537,1.4765246380232582,1.7228897117841506,1.5394984261152216,0.6476726909051266,-0.5015479486651164,0.8778301434127571,0.1653730231310223,0.8597597904792134,1.2557685621328203,-1.677002311724053,-0.27642368508153675,-0.3733767434475656,-1.0063910776785316,0.03496993723532587,0.981777137735842,-0.4273572629003103,0.6760994725892184,-0.6277173191994817,0.14374538023070144,1.1023037704136809,0.39365451494717063,-0.13524838032017725,0.4652095890846506,0.10193721841647994,0.6314232804944321,-0.021969475349004307,2.6869789741262293,0.7763693310873739,1.8959559797534367,0.5808260466765565,-0.20287578750962781,1.6669053047351992,1.569415295256676,0.6469816481578303,0.9091471095088757,-0.42699564666425743,-1.6585842658061019,1.005712753595606,1.2298763821171592,-0.05502666707050185,-0.03903247214908511,-1.0556162689302442,-0.5463356036243555,-1.6557532965774253,-0.29611176119413807,0.47500785671078954,-0.4116662152492864,0.6800303562998444,1.4451912367366986,-1.2242056864119761,1.2079089216920498,-0.9627138431084818,-0.7173767763805619,-0.4552075860149596,-0.006063658365125847,1.6702570707356326,-0.1985989829236588,0.06420722035318865,-0.3979436277761738,-0.2517310168970227,2.8531515695969056,0.699188101188425,-0.08285848283918196,1.2288750254001923,-1.084786027751436,-0.27032731793271364,0.6757470731006939,-1.8120325092008889,-1.019320251168823,-0.31185859127294063,-1.4994503096134124,0.3907580059865929,1.0616677694035255,-1.7278263238982272,1.6384475295921113,-0.5737770052559245,0.7716445727847083],\"yaxis\":\"y13\",\"type\":\"scatter\"},{\"line\":{\"color\":\"rgba(128, 128, 128, 1.0)\",\"dash\":\"solid\",\"shape\":\"linear\",\"width\":1.3},\"marker\":{\"size\":2,\"symbol\":\"circle\"},\"mode\":\"markers\",\"name\":\"D\",\"text\":\"\",\"x\":[-0.09147954299523928,-1.7385508624690544,0.9221586878268342,-1.0931631569009221,0.3314050081963957,-1.6860350043840182,0.12957115351750878,0.5282594700664602,-1.724213141676408,-0.5551485134413877,0.01099836125675915,-1.8479965901671493,1.3048716149407638,-0.47126362237465713,0.30461274408286604,-0.3624930124832195,-0.12427109577985897,1.0458392895428787,-1.0772505081410064,0.956187500896724,-0.5134093195098551,1.003191182736705,1.0054421492812542,0.7444342301762672,0.9717048416109594,-0.5862903672126797,1.1402320163276554,-0.07586206865034092,-1.3020079599314847,-1.5532090620038983,0.8063276508119176,-1.190267123383816,-0.45573398022926986,0.2492173650282826,0.042545897664883724,-0.5394012540380726,-0.8710337885007717,0.27070058032527144,1.502715551599413,-0.6133569085524814,0.7716091967711711,-0.844375266511973,1.014272863942356,1.283227843583457,0.5405202955362597,0.26670175488612397,0.7101520294582939,2.07484318757425,0.6160923809193212,-0.7621923610184558,-0.7409270577875984,-0.8944055555394634,-0.8504280755637271,-1.0335914311595302,2.1436511287416486,0.2941595400966851,-1.2670997292914403,1.6747192059627178,-0.4549685653946752,-1.4261740159930605,0.2860098578963224,-0.6896865460661573,0.058011235562708846,-1.408955244083918,-0.20902752485155054,-0.30808010437819333,-0.22554007253720418,-0.012289759543897499,1.1978357038826355,0.8808992432676263,-0.1577267481768039,-0.7663712262064384,-1.47674134732821,0.48303599341467285,0.7484100962354236,0.6199214404930379,-0.09192405598441374,0.5300093476958286,1.2785791208003725,0.9358425653510516,-0.5925670749165277,-0.20166372582262201,-1.096850817122355,-1.0932450615263414,0.424315413305436,-0.0926162788765071,-0.20069809653638093,0.9772930851080682,0.26386815140631265,1.3874266245301734,-0.9248958944644438,0.17201496834833183,-0.9048757219799238,0.4288879111931887,-0.36738707307769375,0.7472144095556358,2.272295759735388,0.877225373172687,-0.4378174124395575,-1.1585312621617012],\"xaxis\":\"x14\",\"y\":[-0.08512206312857473,1.486407132031537,0.1887236175934673,-0.6587370788072245,0.8021640273677891,0.5443892263293457,0.20834514920619607,-0.07206935499983638,-0.26818936472631943,0.14810415004951727,-0.558910061751106,-1.2361499328435568,-0.6171150192321198,-0.6312618538076438,-0.38342528640093754,-1.1290014540447832,0.23905590971250462,-1.2902692411105796,1.6632798496327437,-0.035330081775259224,0.10073442495879993,2.0346952555840487,-0.6195135593211537,1.4765246380232582,1.7228897117841506,1.5394984261152216,0.6476726909051266,-0.5015479486651164,0.8778301434127571,0.1653730231310223,0.8597597904792134,1.2557685621328203,-1.677002311724053,-0.27642368508153675,-0.3733767434475656,-1.0063910776785316,0.03496993723532587,0.981777137735842,-0.4273572629003103,0.6760994725892184,-0.6277173191994817,0.14374538023070144,1.1023037704136809,0.39365451494717063,-0.13524838032017725,0.4652095890846506,0.10193721841647994,0.6314232804944321,-0.021969475349004307,2.6869789741262293,0.7763693310873739,1.8959559797534367,0.5808260466765565,-0.20287578750962781,1.6669053047351992,1.569415295256676,0.6469816481578303,0.9091471095088757,-0.42699564666425743,-1.6585842658061019,1.005712753595606,1.2298763821171592,-0.05502666707050185,-0.03903247214908511,-1.0556162689302442,-0.5463356036243555,-1.6557532965774253,-0.29611176119413807,0.47500785671078954,-0.4116662152492864,0.6800303562998444,1.4451912367366986,-1.2242056864119761,1.2079089216920498,-0.9627138431084818,-0.7173767763805619,-0.4552075860149596,-0.006063658365125847,1.6702570707356326,-0.1985989829236588,0.06420722035318865,-0.3979436277761738,-0.2517310168970227,2.8531515695969056,0.699188101188425,-0.08285848283918196,1.2288750254001923,-1.084786027751436,-0.27032731793271364,0.6757470731006939,-1.8120325092008889,-1.019320251168823,-0.31185859127294063,-1.4994503096134124,0.3907580059865929,1.0616677694035255,-1.7278263238982272,1.6384475295921113,-0.5737770052559245,0.7716445727847083],\"yaxis\":\"y14\",\"type\":\"scatter\"},{\"line\":{\"color\":\"rgba(128, 128, 128, 1.0)\",\"dash\":\"solid\",\"shape\":\"linear\",\"width\":1.3},\"marker\":{\"size\":2,\"symbol\":\"circle\"},\"mode\":\"markers\",\"name\":\"D\",\"text\":\"\",\"x\":[-0.18464066753779282,-1.837509230436605,-1.428226235955854,-0.19269172454292138,-0.09861805876725806,-0.6270474301800498,-0.07744172305750369,-1.3171709649992867,0.3896777388807655,-0.43291268819866346,-1.4752633555225647,0.6205395497448952,0.26174678012019625,0.01079237860016229,-0.2932546818019788,-0.48818618846841627,0.5617576021169364,-0.10709881717918422,1.1519827392437467,0.9003224007732287,-1.5676773430795874,0.6894923534228223,1.4037403210797081,-1.51277369058372,-0.1508289354292569,-1.4432952379527717,0.5570755511116148,0.14900020795773572,-1.0001189121750071,-1.3044512140273399,0.3862759814637888,-0.4188065597005142,0.6122983282252088,-0.45022406204096216,0.9024150719815782,0.32213695888356175,-0.15675623893701282,0.8809068586130961,1.053099326359383,-0.318492866646178,-0.0076614351279544884,0.7126223385047062,-0.014602804125976686,-1.1595424459621422,0.8417691791674425,-0.19056738474754467,2.0412416781683436,1.0076319937541325,0.7837616214918188,0.18988887593466647,-0.8149264277747987,0.03359639349157924,0.44510793187142755,0.8045401623710499,1.3954190768525638,-0.29477428779041814,-1.780670974511907,0.8199538360869015,0.1501494594895702,-1.2428346796666963,-0.9933306702583978,-0.22839952302186403,-0.18970102502483172,0.48491976220493826,0.9357894463118495,-1.0560773276372402,0.6605859438226847,0.8164952220723438,0.24509061408222765,-0.047949085699612044,-0.4730271905747123,1.0818437167773567,0.18090244215906,0.5167874447229025,-0.7461192427167384,1.104831725043291,2.6374468148273453,-0.6262404970069213,-0.3409569593914698,0.2967846166705076,0.6172402964404274,1.051005691693931,1.2841478727772049,1.2101133641665631,-0.6929839670049587,1.328023523948433,-0.08738999598215914,-1.2842310481852168,-0.277226890455086,-2.021620617412835,0.36565077821684056,-0.9215339827069383,3.2246408543883303,0.9952976646593267,0.011044725316802291,1.5643094453430852,-1.1147105963937614,0.6144647744747028,-2.008129911047966,1.940990359664634],\"xaxis\":\"x15\",\"y\":[-0.08512206312857473,1.486407132031537,0.1887236175934673,-0.6587370788072245,0.8021640273677891,0.5443892263293457,0.20834514920619607,-0.07206935499983638,-0.26818936472631943,0.14810415004951727,-0.558910061751106,-1.2361499328435568,-0.6171150192321198,-0.6312618538076438,-0.38342528640093754,-1.1290014540447832,0.23905590971250462,-1.2902692411105796,1.6632798496327437,-0.035330081775259224,0.10073442495879993,2.0346952555840487,-0.6195135593211537,1.4765246380232582,1.7228897117841506,1.5394984261152216,0.6476726909051266,-0.5015479486651164,0.8778301434127571,0.1653730231310223,0.8597597904792134,1.2557685621328203,-1.677002311724053,-0.27642368508153675,-0.3733767434475656,-1.0063910776785316,0.03496993723532587,0.981777137735842,-0.4273572629003103,0.6760994725892184,-0.6277173191994817,0.14374538023070144,1.1023037704136809,0.39365451494717063,-0.13524838032017725,0.4652095890846506,0.10193721841647994,0.6314232804944321,-0.021969475349004307,2.6869789741262293,0.7763693310873739,1.8959559797534367,0.5808260466765565,-0.20287578750962781,1.6669053047351992,1.569415295256676,0.6469816481578303,0.9091471095088757,-0.42699564666425743,-1.6585842658061019,1.005712753595606,1.2298763821171592,-0.05502666707050185,-0.03903247214908511,-1.0556162689302442,-0.5463356036243555,-1.6557532965774253,-0.29611176119413807,0.47500785671078954,-0.4116662152492864,0.6800303562998444,1.4451912367366986,-1.2242056864119761,1.2079089216920498,-0.9627138431084818,-0.7173767763805619,-0.4552075860149596,-0.006063658365125847,1.6702570707356326,-0.1985989829236588,0.06420722035318865,-0.3979436277761738,-0.2517310168970227,2.8531515695969056,0.699188101188425,-0.08285848283918196,1.2288750254001923,-1.084786027751436,-0.27032731793271364,0.6757470731006939,-1.8120325092008889,-1.019320251168823,-0.31185859127294063,-1.4994503096134124,0.3907580059865929,1.0616677694035255,-1.7278263238982272,1.6384475295921113,-0.5737770052559245,0.7716445727847083],\"yaxis\":\"y15\",\"type\":\"scatter\"},{\"histfunc\":\"count\",\"histnorm\":\"\",\"marker\":{\"color\":\"rgba(128, 0, 128, 1.0)\",\"line\":{\"color\":\"#4D5663\",\"width\":1.3}},\"name\":\"D\",\"nbinsx\":10,\"opacity\":0.8,\"orientation\":\"v\",\"x\":[-0.08512206312857473,1.486407132031537,0.1887236175934673,-0.6587370788072245,0.8021640273677891,0.5443892263293457,0.20834514920619607,-0.07206935499983638,-0.26818936472631943,0.14810415004951727,-0.558910061751106,-1.2361499328435568,-0.6171150192321198,-0.6312618538076438,-0.38342528640093754,-1.1290014540447832,0.23905590971250462,-1.2902692411105796,1.6632798496327437,-0.035330081775259224,0.10073442495879993,2.0346952555840487,-0.6195135593211537,1.4765246380232582,1.7228897117841506,1.5394984261152216,0.6476726909051266,-0.5015479486651164,0.8778301434127571,0.1653730231310223,0.8597597904792134,1.2557685621328203,-1.677002311724053,-0.27642368508153675,-0.3733767434475656,-1.0063910776785316,0.03496993723532587,0.981777137735842,-0.4273572629003103,0.6760994725892184,-0.6277173191994817,0.14374538023070144,1.1023037704136809,0.39365451494717063,-0.13524838032017725,0.4652095890846506,0.10193721841647994,0.6314232804944321,-0.021969475349004307,2.6869789741262293,0.7763693310873739,1.8959559797534367,0.5808260466765565,-0.20287578750962781,1.6669053047351992,1.569415295256676,0.6469816481578303,0.9091471095088757,-0.42699564666425743,-1.6585842658061019,1.005712753595606,1.2298763821171592,-0.05502666707050185,-0.03903247214908511,-1.0556162689302442,-0.5463356036243555,-1.6557532965774253,-0.29611176119413807,0.47500785671078954,-0.4116662152492864,0.6800303562998444,1.4451912367366986,-1.2242056864119761,1.2079089216920498,-0.9627138431084818,-0.7173767763805619,-0.4552075860149596,-0.006063658365125847,1.6702570707356326,-0.1985989829236588,0.06420722035318865,-0.3979436277761738,-0.2517310168970227,2.8531515695969056,0.699188101188425,-0.08285848283918196,1.2288750254001923,-1.084786027751436,-0.27032731793271364,0.6757470731006939,-1.8120325092008889,-1.019320251168823,-0.31185859127294063,-1.4994503096134124,0.3907580059865929,1.0616677694035255,-1.7278263238982272,1.6384475295921113,-0.5737770052559245,0.7716445727847083],\"xaxis\":\"x16\",\"yaxis\":\"y16\",\"type\":\"histogram\"}],                        {\"bargap\":0.02,\"legend\":{\"bgcolor\":\"#F5F6F9\",\"font\":{\"color\":\"#4D5663\"}},\"paper_bgcolor\":\"#F5F6F9\",\"plot_bgcolor\":\"#F5F6F9\",\"showlegend\":false,\"template\":{\"data\":{\"barpolar\":[{\"marker\":{\"line\":{\"color\":\"#E5ECF6\",\"width\":0.5},\"pattern\":{\"fillmode\":\"overlay\",\"size\":10,\"solidity\":0.2}},\"type\":\"barpolar\"}],\"bar\":[{\"error_x\":{\"color\":\"#2a3f5f\"},\"error_y\":{\"color\":\"#2a3f5f\"},\"marker\":{\"line\":{\"color\":\"#E5ECF6\",\"width\":0.5},\"pattern\":{\"fillmode\":\"overlay\",\"size\":10,\"solidity\":0.2}},\"type\":\"bar\"}],\"carpet\":[{\"aaxis\":{\"endlinecolor\":\"#2a3f5f\",\"gridcolor\":\"white\",\"linecolor\":\"white\",\"minorgridcolor\":\"white\",\"startlinecolor\":\"#2a3f5f\"},\"baxis\":{\"endlinecolor\":\"#2a3f5f\",\"gridcolor\":\"white\",\"linecolor\":\"white\",\"minorgridcolor\":\"white\",\"startlinecolor\":\"#2a3f5f\"},\"type\":\"carpet\"}],\"choropleth\":[{\"colorbar\":{\"outlinewidth\":0,\"ticks\":\"\"},\"type\":\"choropleth\"}],\"contourcarpet\":[{\"colorbar\":{\"outlinewidth\":0,\"ticks\":\"\"},\"type\":\"contourcarpet\"}],\"contour\":[{\"colorbar\":{\"outlinewidth\":0,\"ticks\":\"\"},\"colorscale\":[[0.0,\"#0d0887\"],[0.1111111111111111,\"#46039f\"],[0.2222222222222222,\"#7201a8\"],[0.3333333333333333,\"#9c179e\"],[0.4444444444444444,\"#bd3786\"],[0.5555555555555556,\"#d8576b\"],[0.6666666666666666,\"#ed7953\"],[0.7777777777777778,\"#fb9f3a\"],[0.8888888888888888,\"#fdca26\"],[1.0,\"#f0f921\"]],\"type\":\"contour\"}],\"heatmapgl\":[{\"colorbar\":{\"outlinewidth\":0,\"ticks\":\"\"},\"colorscale\":[[0.0,\"#0d0887\"],[0.1111111111111111,\"#46039f\"],[0.2222222222222222,\"#7201a8\"],[0.3333333333333333,\"#9c179e\"],[0.4444444444444444,\"#bd3786\"],[0.5555555555555556,\"#d8576b\"],[0.6666666666666666,\"#ed7953\"],[0.7777777777777778,\"#fb9f3a\"],[0.8888888888888888,\"#fdca26\"],[1.0,\"#f0f921\"]],\"type\":\"heatmapgl\"}],\"heatmap\":[{\"colorbar\":{\"outlinewidth\":0,\"ticks\":\"\"},\"colorscale\":[[0.0,\"#0d0887\"],[0.1111111111111111,\"#46039f\"],[0.2222222222222222,\"#7201a8\"],[0.3333333333333333,\"#9c179e\"],[0.4444444444444444,\"#bd3786\"],[0.5555555555555556,\"#d8576b\"],[0.6666666666666666,\"#ed7953\"],[0.7777777777777778,\"#fb9f3a\"],[0.8888888888888888,\"#fdca26\"],[1.0,\"#f0f921\"]],\"type\":\"heatmap\"}],\"histogram2dcontour\":[{\"colorbar\":{\"outlinewidth\":0,\"ticks\":\"\"},\"colorscale\":[[0.0,\"#0d0887\"],[0.1111111111111111,\"#46039f\"],[0.2222222222222222,\"#7201a8\"],[0.3333333333333333,\"#9c179e\"],[0.4444444444444444,\"#bd3786\"],[0.5555555555555556,\"#d8576b\"],[0.6666666666666666,\"#ed7953\"],[0.7777777777777778,\"#fb9f3a\"],[0.8888888888888888,\"#fdca26\"],[1.0,\"#f0f921\"]],\"type\":\"histogram2dcontour\"}],\"histogram2d\":[{\"colorbar\":{\"outlinewidth\":0,\"ticks\":\"\"},\"colorscale\":[[0.0,\"#0d0887\"],[0.1111111111111111,\"#46039f\"],[0.2222222222222222,\"#7201a8\"],[0.3333333333333333,\"#9c179e\"],[0.4444444444444444,\"#bd3786\"],[0.5555555555555556,\"#d8576b\"],[0.6666666666666666,\"#ed7953\"],[0.7777777777777778,\"#fb9f3a\"],[0.8888888888888888,\"#fdca26\"],[1.0,\"#f0f921\"]],\"type\":\"histogram2d\"}],\"histogram\":[{\"marker\":{\"pattern\":{\"fillmode\":\"overlay\",\"size\":10,\"solidity\":0.2}},\"type\":\"histogram\"}],\"mesh3d\":[{\"colorbar\":{\"outlinewidth\":0,\"ticks\":\"\"},\"type\":\"mesh3d\"}],\"parcoords\":[{\"line\":{\"colorbar\":{\"outlinewidth\":0,\"ticks\":\"\"}},\"type\":\"parcoords\"}],\"pie\":[{\"automargin\":true,\"type\":\"pie\"}],\"scatter3d\":[{\"line\":{\"colorbar\":{\"outlinewidth\":0,\"ticks\":\"\"}},\"marker\":{\"colorbar\":{\"outlinewidth\":0,\"ticks\":\"\"}},\"type\":\"scatter3d\"}],\"scattercarpet\":[{\"marker\":{\"colorbar\":{\"outlinewidth\":0,\"ticks\":\"\"}},\"type\":\"scattercarpet\"}],\"scattergeo\":[{\"marker\":{\"colorbar\":{\"outlinewidth\":0,\"ticks\":\"\"}},\"type\":\"scattergeo\"}],\"scattergl\":[{\"marker\":{\"colorbar\":{\"outlinewidth\":0,\"ticks\":\"\"}},\"type\":\"scattergl\"}],\"scattermapbox\":[{\"marker\":{\"colorbar\":{\"outlinewidth\":0,\"ticks\":\"\"}},\"type\":\"scattermapbox\"}],\"scatterpolargl\":[{\"marker\":{\"colorbar\":{\"outlinewidth\":0,\"ticks\":\"\"}},\"type\":\"scatterpolargl\"}],\"scatterpolar\":[{\"marker\":{\"colorbar\":{\"outlinewidth\":0,\"ticks\":\"\"}},\"type\":\"scatterpolar\"}],\"scatter\":[{\"fillpattern\":{\"fillmode\":\"overlay\",\"size\":10,\"solidity\":0.2},\"type\":\"scatter\"}],\"scatterternary\":[{\"marker\":{\"colorbar\":{\"outlinewidth\":0,\"ticks\":\"\"}},\"type\":\"scatterternary\"}],\"surface\":[{\"colorbar\":{\"outlinewidth\":0,\"ticks\":\"\"},\"colorscale\":[[0.0,\"#0d0887\"],[0.1111111111111111,\"#46039f\"],[0.2222222222222222,\"#7201a8\"],[0.3333333333333333,\"#9c179e\"],[0.4444444444444444,\"#bd3786\"],[0.5555555555555556,\"#d8576b\"],[0.6666666666666666,\"#ed7953\"],[0.7777777777777778,\"#fb9f3a\"],[0.8888888888888888,\"#fdca26\"],[1.0,\"#f0f921\"]],\"type\":\"surface\"}],\"table\":[{\"cells\":{\"fill\":{\"color\":\"#EBF0F8\"},\"line\":{\"color\":\"white\"}},\"header\":{\"fill\":{\"color\":\"#C8D4E3\"},\"line\":{\"color\":\"white\"}},\"type\":\"table\"}]},\"layout\":{\"annotationdefaults\":{\"arrowcolor\":\"#2a3f5f\",\"arrowhead\":0,\"arrowwidth\":1},\"autotypenumbers\":\"strict\",\"coloraxis\":{\"colorbar\":{\"outlinewidth\":0,\"ticks\":\"\"}},\"colorscale\":{\"diverging\":[[0,\"#8e0152\"],[0.1,\"#c51b7d\"],[0.2,\"#de77ae\"],[0.3,\"#f1b6da\"],[0.4,\"#fde0ef\"],[0.5,\"#f7f7f7\"],[0.6,\"#e6f5d0\"],[0.7,\"#b8e186\"],[0.8,\"#7fbc41\"],[0.9,\"#4d9221\"],[1,\"#276419\"]],\"sequential\":[[0.0,\"#0d0887\"],[0.1111111111111111,\"#46039f\"],[0.2222222222222222,\"#7201a8\"],[0.3333333333333333,\"#9c179e\"],[0.4444444444444444,\"#bd3786\"],[0.5555555555555556,\"#d8576b\"],[0.6666666666666666,\"#ed7953\"],[0.7777777777777778,\"#fb9f3a\"],[0.8888888888888888,\"#fdca26\"],[1.0,\"#f0f921\"]],\"sequentialminus\":[[0.0,\"#0d0887\"],[0.1111111111111111,\"#46039f\"],[0.2222222222222222,\"#7201a8\"],[0.3333333333333333,\"#9c179e\"],[0.4444444444444444,\"#bd3786\"],[0.5555555555555556,\"#d8576b\"],[0.6666666666666666,\"#ed7953\"],[0.7777777777777778,\"#fb9f3a\"],[0.8888888888888888,\"#fdca26\"],[1.0,\"#f0f921\"]]},\"colorway\":[\"#636efa\",\"#EF553B\",\"#00cc96\",\"#ab63fa\",\"#FFA15A\",\"#19d3f3\",\"#FF6692\",\"#B6E880\",\"#FF97FF\",\"#FECB52\"],\"font\":{\"color\":\"#2a3f5f\"},\"geo\":{\"bgcolor\":\"white\",\"lakecolor\":\"white\",\"landcolor\":\"#E5ECF6\",\"showlakes\":true,\"showland\":true,\"subunitcolor\":\"white\"},\"hoverlabel\":{\"align\":\"left\"},\"hovermode\":\"closest\",\"mapbox\":{\"style\":\"light\"},\"paper_bgcolor\":\"white\",\"plot_bgcolor\":\"#E5ECF6\",\"polar\":{\"angularaxis\":{\"gridcolor\":\"white\",\"linecolor\":\"white\",\"ticks\":\"\"},\"bgcolor\":\"#E5ECF6\",\"radialaxis\":{\"gridcolor\":\"white\",\"linecolor\":\"white\",\"ticks\":\"\"}},\"scene\":{\"xaxis\":{\"backgroundcolor\":\"#E5ECF6\",\"gridcolor\":\"white\",\"gridwidth\":2,\"linecolor\":\"white\",\"showbackground\":true,\"ticks\":\"\",\"zerolinecolor\":\"white\"},\"yaxis\":{\"backgroundcolor\":\"#E5ECF6\",\"gridcolor\":\"white\",\"gridwidth\":2,\"linecolor\":\"white\",\"showbackground\":true,\"ticks\":\"\",\"zerolinecolor\":\"white\"},\"zaxis\":{\"backgroundcolor\":\"#E5ECF6\",\"gridcolor\":\"white\",\"gridwidth\":2,\"linecolor\":\"white\",\"showbackground\":true,\"ticks\":\"\",\"zerolinecolor\":\"white\"}},\"shapedefaults\":{\"line\":{\"color\":\"#2a3f5f\"}},\"ternary\":{\"aaxis\":{\"gridcolor\":\"white\",\"linecolor\":\"white\",\"ticks\":\"\"},\"baxis\":{\"gridcolor\":\"white\",\"linecolor\":\"white\",\"ticks\":\"\"},\"bgcolor\":\"#E5ECF6\",\"caxis\":{\"gridcolor\":\"white\",\"linecolor\":\"white\",\"ticks\":\"\"}},\"title\":{\"x\":0.05},\"xaxis\":{\"automargin\":true,\"gridcolor\":\"white\",\"linecolor\":\"white\",\"ticks\":\"\",\"title\":{\"standoff\":15},\"zerolinecolor\":\"white\",\"zerolinewidth\":2},\"yaxis\":{\"automargin\":true,\"gridcolor\":\"white\",\"linecolor\":\"white\",\"ticks\":\"\",\"title\":{\"standoff\":15},\"zerolinecolor\":\"white\",\"zerolinewidth\":2}}},\"title\":{\"font\":{\"color\":\"#4D5663\"}},\"xaxis\":{\"anchor\":\"y\",\"domain\":[0.0,0.2125],\"gridcolor\":\"#E1E5ED\",\"showgrid\":false,\"tickfont\":{\"color\":\"#4D5663\"},\"title\":{\"font\":{\"color\":\"#4D5663\"},\"text\":\"\"},\"zerolinecolor\":\"#E1E5ED\"},\"yaxis\":{\"anchor\":\"x\",\"domain\":[0.8025,1.0],\"gridcolor\":\"#E1E5ED\",\"showgrid\":false,\"tickfont\":{\"color\":\"#4D5663\"},\"title\":{\"font\":{\"color\":\"#4D5663\"},\"text\":\"\"},\"zerolinecolor\":\"#E1E5ED\"},\"xaxis2\":{\"anchor\":\"y2\",\"domain\":[0.2625,0.475],\"gridcolor\":\"#E1E5ED\",\"showgrid\":false,\"tickfont\":{\"color\":\"#4D5663\"},\"title\":{\"font\":{\"color\":\"#4D5663\"},\"text\":\"\"},\"zerolinecolor\":\"#E1E5ED\"},\"yaxis2\":{\"anchor\":\"x2\",\"domain\":[0.8025,1.0],\"gridcolor\":\"#E1E5ED\",\"showgrid\":false,\"tickfont\":{\"color\":\"#4D5663\"},\"title\":{\"font\":{\"color\":\"#4D5663\"},\"text\":\"\"},\"zerolinecolor\":\"#E1E5ED\"},\"xaxis3\":{\"anchor\":\"y3\",\"domain\":[0.525,0.7375],\"gridcolor\":\"#E1E5ED\",\"showgrid\":false,\"tickfont\":{\"color\":\"#4D5663\"},\"title\":{\"font\":{\"color\":\"#4D5663\"},\"text\":\"\"},\"zerolinecolor\":\"#E1E5ED\"},\"yaxis3\":{\"anchor\":\"x3\",\"domain\":[0.8025,1.0],\"gridcolor\":\"#E1E5ED\",\"showgrid\":false,\"tickfont\":{\"color\":\"#4D5663\"},\"title\":{\"font\":{\"color\":\"#4D5663\"},\"text\":\"\"},\"zerolinecolor\":\"#E1E5ED\"},\"xaxis4\":{\"anchor\":\"y4\",\"domain\":[0.7875,1.0],\"gridcolor\":\"#E1E5ED\",\"showgrid\":false,\"tickfont\":{\"color\":\"#4D5663\"},\"title\":{\"font\":{\"color\":\"#4D5663\"},\"text\":\"\"},\"zerolinecolor\":\"#E1E5ED\"},\"yaxis4\":{\"anchor\":\"x4\",\"domain\":[0.8025,1.0],\"gridcolor\":\"#E1E5ED\",\"showgrid\":false,\"tickfont\":{\"color\":\"#4D5663\"},\"title\":{\"font\":{\"color\":\"#4D5663\"},\"text\":\"\"},\"zerolinecolor\":\"#E1E5ED\"},\"xaxis5\":{\"anchor\":\"y5\",\"domain\":[0.0,0.2125],\"gridcolor\":\"#E1E5ED\",\"showgrid\":false,\"tickfont\":{\"color\":\"#4D5663\"},\"title\":{\"font\":{\"color\":\"#4D5663\"},\"text\":\"\"},\"zerolinecolor\":\"#E1E5ED\"},\"yaxis5\":{\"anchor\":\"x5\",\"domain\":[0.535,0.7325],\"gridcolor\":\"#E1E5ED\",\"showgrid\":false,\"tickfont\":{\"color\":\"#4D5663\"},\"title\":{\"font\":{\"color\":\"#4D5663\"},\"text\":\"\"},\"zerolinecolor\":\"#E1E5ED\"},\"xaxis6\":{\"anchor\":\"y6\",\"domain\":[0.2625,0.475],\"gridcolor\":\"#E1E5ED\",\"showgrid\":false,\"tickfont\":{\"color\":\"#4D5663\"},\"title\":{\"font\":{\"color\":\"#4D5663\"},\"text\":\"\"},\"zerolinecolor\":\"#E1E5ED\"},\"yaxis6\":{\"anchor\":\"x6\",\"domain\":[0.535,0.7325],\"gridcolor\":\"#E1E5ED\",\"showgrid\":false,\"tickfont\":{\"color\":\"#4D5663\"},\"title\":{\"font\":{\"color\":\"#4D5663\"},\"text\":\"\"},\"zerolinecolor\":\"#E1E5ED\"},\"xaxis7\":{\"anchor\":\"y7\",\"domain\":[0.525,0.7375],\"gridcolor\":\"#E1E5ED\",\"showgrid\":false,\"tickfont\":{\"color\":\"#4D5663\"},\"title\":{\"font\":{\"color\":\"#4D5663\"},\"text\":\"\"},\"zerolinecolor\":\"#E1E5ED\"},\"yaxis7\":{\"anchor\":\"x7\",\"domain\":[0.535,0.7325],\"gridcolor\":\"#E1E5ED\",\"showgrid\":false,\"tickfont\":{\"color\":\"#4D5663\"},\"title\":{\"font\":{\"color\":\"#4D5663\"},\"text\":\"\"},\"zerolinecolor\":\"#E1E5ED\"},\"xaxis8\":{\"anchor\":\"y8\",\"domain\":[0.7875,1.0],\"gridcolor\":\"#E1E5ED\",\"showgrid\":false,\"tickfont\":{\"color\":\"#4D5663\"},\"title\":{\"font\":{\"color\":\"#4D5663\"},\"text\":\"\"},\"zerolinecolor\":\"#E1E5ED\"},\"yaxis8\":{\"anchor\":\"x8\",\"domain\":[0.535,0.7325],\"gridcolor\":\"#E1E5ED\",\"showgrid\":false,\"tickfont\":{\"color\":\"#4D5663\"},\"title\":{\"font\":{\"color\":\"#4D5663\"},\"text\":\"\"},\"zerolinecolor\":\"#E1E5ED\"},\"xaxis9\":{\"anchor\":\"y9\",\"domain\":[0.0,0.2125],\"gridcolor\":\"#E1E5ED\",\"showgrid\":false,\"tickfont\":{\"color\":\"#4D5663\"},\"title\":{\"font\":{\"color\":\"#4D5663\"},\"text\":\"\"},\"zerolinecolor\":\"#E1E5ED\"},\"yaxis9\":{\"anchor\":\"x9\",\"domain\":[0.2675,0.465],\"gridcolor\":\"#E1E5ED\",\"showgrid\":false,\"tickfont\":{\"color\":\"#4D5663\"},\"title\":{\"font\":{\"color\":\"#4D5663\"},\"text\":\"\"},\"zerolinecolor\":\"#E1E5ED\"},\"xaxis10\":{\"anchor\":\"y10\",\"domain\":[0.2625,0.475],\"gridcolor\":\"#E1E5ED\",\"showgrid\":false,\"tickfont\":{\"color\":\"#4D5663\"},\"title\":{\"font\":{\"color\":\"#4D5663\"},\"text\":\"\"},\"zerolinecolor\":\"#E1E5ED\"},\"yaxis10\":{\"anchor\":\"x10\",\"domain\":[0.2675,0.465],\"gridcolor\":\"#E1E5ED\",\"showgrid\":false,\"tickfont\":{\"color\":\"#4D5663\"},\"title\":{\"font\":{\"color\":\"#4D5663\"},\"text\":\"\"},\"zerolinecolor\":\"#E1E5ED\"},\"xaxis11\":{\"anchor\":\"y11\",\"domain\":[0.525,0.7375],\"gridcolor\":\"#E1E5ED\",\"showgrid\":false,\"tickfont\":{\"color\":\"#4D5663\"},\"title\":{\"font\":{\"color\":\"#4D5663\"},\"text\":\"\"},\"zerolinecolor\":\"#E1E5ED\"},\"yaxis11\":{\"anchor\":\"x11\",\"domain\":[0.2675,0.465],\"gridcolor\":\"#E1E5ED\",\"showgrid\":false,\"tickfont\":{\"color\":\"#4D5663\"},\"title\":{\"font\":{\"color\":\"#4D5663\"},\"text\":\"\"},\"zerolinecolor\":\"#E1E5ED\"},\"xaxis12\":{\"anchor\":\"y12\",\"domain\":[0.7875,1.0],\"gridcolor\":\"#E1E5ED\",\"showgrid\":false,\"tickfont\":{\"color\":\"#4D5663\"},\"title\":{\"font\":{\"color\":\"#4D5663\"},\"text\":\"\"},\"zerolinecolor\":\"#E1E5ED\"},\"yaxis12\":{\"anchor\":\"x12\",\"domain\":[0.2675,0.465],\"gridcolor\":\"#E1E5ED\",\"showgrid\":false,\"tickfont\":{\"color\":\"#4D5663\"},\"title\":{\"font\":{\"color\":\"#4D5663\"},\"text\":\"\"},\"zerolinecolor\":\"#E1E5ED\"},\"xaxis13\":{\"anchor\":\"y13\",\"domain\":[0.0,0.2125],\"gridcolor\":\"#E1E5ED\",\"showgrid\":false,\"tickfont\":{\"color\":\"#4D5663\"},\"title\":{\"font\":{\"color\":\"#4D5663\"},\"text\":\"\"},\"zerolinecolor\":\"#E1E5ED\"},\"yaxis13\":{\"anchor\":\"x13\",\"domain\":[0.0,0.1975],\"gridcolor\":\"#E1E5ED\",\"showgrid\":false,\"tickfont\":{\"color\":\"#4D5663\"},\"title\":{\"font\":{\"color\":\"#4D5663\"},\"text\":\"\"},\"zerolinecolor\":\"#E1E5ED\"},\"xaxis14\":{\"anchor\":\"y14\",\"domain\":[0.2625,0.475],\"gridcolor\":\"#E1E5ED\",\"showgrid\":false,\"tickfont\":{\"color\":\"#4D5663\"},\"title\":{\"font\":{\"color\":\"#4D5663\"},\"text\":\"\"},\"zerolinecolor\":\"#E1E5ED\"},\"yaxis14\":{\"anchor\":\"x14\",\"domain\":[0.0,0.1975],\"gridcolor\":\"#E1E5ED\",\"showgrid\":false,\"tickfont\":{\"color\":\"#4D5663\"},\"title\":{\"font\":{\"color\":\"#4D5663\"},\"text\":\"\"},\"zerolinecolor\":\"#E1E5ED\"},\"xaxis15\":{\"anchor\":\"y15\",\"domain\":[0.525,0.7375],\"gridcolor\":\"#E1E5ED\",\"showgrid\":false,\"tickfont\":{\"color\":\"#4D5663\"},\"title\":{\"font\":{\"color\":\"#4D5663\"},\"text\":\"\"},\"zerolinecolor\":\"#E1E5ED\"},\"yaxis15\":{\"anchor\":\"x15\",\"domain\":[0.0,0.1975],\"gridcolor\":\"#E1E5ED\",\"showgrid\":false,\"tickfont\":{\"color\":\"#4D5663\"},\"title\":{\"font\":{\"color\":\"#4D5663\"},\"text\":\"\"},\"zerolinecolor\":\"#E1E5ED\"},\"xaxis16\":{\"anchor\":\"y16\",\"domain\":[0.7875,1.0],\"gridcolor\":\"#E1E5ED\",\"showgrid\":false,\"tickfont\":{\"color\":\"#4D5663\"},\"title\":{\"font\":{\"color\":\"#4D5663\"},\"text\":\"\"},\"zerolinecolor\":\"#E1E5ED\"},\"yaxis16\":{\"anchor\":\"x16\",\"domain\":[0.0,0.1975],\"gridcolor\":\"#E1E5ED\",\"showgrid\":false,\"tickfont\":{\"color\":\"#4D5663\"},\"title\":{\"font\":{\"color\":\"#4D5663\"},\"text\":\"\"},\"zerolinecolor\":\"#E1E5ED\"}},                        {\"showLink\": true, \"linkText\": \"Export to plot.ly\", \"plotlyServerURL\": \"https://plot.ly\", \"responsive\": true}                    ).then(function(){\n",
       "                            \n",
       "var gd = document.getElementById('c743de51-1245-4014-ad9c-f77b23ef5cea');\n",
       "var x = new MutationObserver(function (mutations, observer) {{\n",
       "        var display = window.getComputedStyle(gd).display;\n",
       "        if (!display || display === 'none') {{\n",
       "            console.log([gd, 'removed!']);\n",
       "            Plotly.purge(gd);\n",
       "            observer.disconnect();\n",
       "        }}\n",
       "}});\n",
       "\n",
       "// Listen for the removal of the full notebook cells\n",
       "var notebookContainer = gd.closest('#notebook-container');\n",
       "if (notebookContainer) {{\n",
       "    x.observe(notebookContainer, {childList: true});\n",
       "}}\n",
       "\n",
       "// Listen for the clearing of the current output cell\n",
       "var outputEl = gd.closest('.output');\n",
       "if (outputEl) {{\n",
       "    x.observe(outputEl, {childList: true});\n",
       "}}\n",
       "\n",
       "                        })                };                });            </script>        </div>"
      ]
     },
     "metadata": {},
     "output_type": "display_data"
    }
   ],
   "source": [
    "df.scatter_matrix()"
   ]
  },
  {
   "cell_type": "code",
   "execution_count": null,
   "id": "311bdcfa",
   "metadata": {},
   "outputs": [],
   "source": []
  }
 ],
 "metadata": {
  "kernelspec": {
   "display_name": "Python 3 (ipykernel)",
   "language": "python",
   "name": "python3"
  },
  "language_info": {
   "codemirror_mode": {
    "name": "ipython",
    "version": 3
   },
   "file_extension": ".py",
   "mimetype": "text/x-python",
   "name": "python",
   "nbconvert_exporter": "python",
   "pygments_lexer": "ipython3",
   "version": "3.11.4"
  }
 },
 "nbformat": 4,
 "nbformat_minor": 5
}
