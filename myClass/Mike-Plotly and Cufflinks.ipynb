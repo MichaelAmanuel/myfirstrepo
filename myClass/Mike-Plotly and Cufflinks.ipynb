{
 "cells": [
  {
   "cell_type": "code",
   "execution_count": 1,
   "id": "77597830",
   "metadata": {},
   "outputs": [
    {
     "name": "stdout",
     "output_type": "stream",
     "text": [
      "5.9.0\n"
     ]
    },
    {
     "name": "stderr",
     "output_type": "stream",
     "text": [
      "C:\\Users\\DELL\\anaconda3\\Lib\\site-packages\\paramiko\\transport.py:219: CryptographyDeprecationWarning:\n",
      "\n",
      "Blowfish has been deprecated\n",
      "\n"
     ]
    },
    {
     "data": {
      "text/html": [
       "        <script type=\"text/javascript\">\n",
       "        window.PlotlyConfig = {MathJaxConfig: 'local'};\n",
       "        if (window.MathJax && window.MathJax.Hub && window.MathJax.Hub.Config) {window.MathJax.Hub.Config({SVG: {font: \"STIX-Web\"}});}\n",
       "        if (typeof require !== 'undefined') {\n",
       "        require.undef(\"plotly\");\n",
       "        requirejs.config({\n",
       "            paths: {\n",
       "                'plotly': ['https://cdn.plot.ly/plotly-2.12.1.min']\n",
       "            }\n",
       "        });\n",
       "        require(['plotly'], function(Plotly) {\n",
       "            window._Plotly = Plotly;\n",
       "        });\n",
       "        }\n",
       "        </script>\n",
       "        "
      ]
     },
     "metadata": {},
     "output_type": "display_data"
    },
    {
     "data": {
      "text/html": [
       "        <script type=\"text/javascript\">\n",
       "        window.PlotlyConfig = {MathJaxConfig: 'local'};\n",
       "        if (window.MathJax && window.MathJax.Hub && window.MathJax.Hub.Config) {window.MathJax.Hub.Config({SVG: {font: \"STIX-Web\"}});}\n",
       "        if (typeof require !== 'undefined') {\n",
       "        require.undef(\"plotly\");\n",
       "        requirejs.config({\n",
       "            paths: {\n",
       "                'plotly': ['https://cdn.plot.ly/plotly-2.12.1.min']\n",
       "            }\n",
       "        });\n",
       "        require(['plotly'], function(Plotly) {\n",
       "            window._Plotly = Plotly;\n",
       "        });\n",
       "        }\n",
       "        </script>\n",
       "        "
      ]
     },
     "metadata": {},
     "output_type": "display_data"
    }
   ],
   "source": [
    "import pandas as pd\n",
    "import numpy as np\n",
    "%matplotlib inline\n",
    "from plotly import __version__\n",
    "from plotly.offline import download_plotlyjs, init_notebook_mode, plot, iplot\n",
    "\n",
    "print(__version__) # requires version >= 1.9.0\n",
    "import cufflinks as cf\n",
    "init_notebook_mode(connected=True)\n",
    "cf.go_offline()"
   ]
  },
  {
   "cell_type": "code",
   "execution_count": 2,
   "id": "5845e2ef",
   "metadata": {},
   "outputs": [],
   "source": [
    "df = pd.DataFrame(np.random.randn(100,4),columns='A B C D'.split())"
   ]
  },
  {
   "cell_type": "code",
   "execution_count": 3,
   "id": "fb1e0c05",
   "metadata": {},
   "outputs": [
    {
     "data": {
      "text/html": [
       "<div>\n",
       "<style scoped>\n",
       "    .dataframe tbody tr th:only-of-type {\n",
       "        vertical-align: middle;\n",
       "    }\n",
       "\n",
       "    .dataframe tbody tr th {\n",
       "        vertical-align: top;\n",
       "    }\n",
       "\n",
       "    .dataframe thead th {\n",
       "        text-align: right;\n",
       "    }\n",
       "</style>\n",
       "<table border=\"1\" class=\"dataframe\">\n",
       "  <thead>\n",
       "    <tr style=\"text-align: right;\">\n",
       "      <th></th>\n",
       "      <th>A</th>\n",
       "      <th>B</th>\n",
       "      <th>C</th>\n",
       "      <th>D</th>\n",
       "    </tr>\n",
       "  </thead>\n",
       "  <tbody>\n",
       "    <tr>\n",
       "      <th>0</th>\n",
       "      <td>1.097220</td>\n",
       "      <td>-1.363777</td>\n",
       "      <td>1.744144</td>\n",
       "      <td>0.288074</td>\n",
       "    </tr>\n",
       "    <tr>\n",
       "      <th>1</th>\n",
       "      <td>-0.855630</td>\n",
       "      <td>0.353953</td>\n",
       "      <td>-1.357181</td>\n",
       "      <td>-0.619648</td>\n",
       "    </tr>\n",
       "    <tr>\n",
       "      <th>2</th>\n",
       "      <td>0.126238</td>\n",
       "      <td>0.213535</td>\n",
       "      <td>-0.599780</td>\n",
       "      <td>0.435291</td>\n",
       "    </tr>\n",
       "    <tr>\n",
       "      <th>3</th>\n",
       "      <td>-0.828220</td>\n",
       "      <td>0.669914</td>\n",
       "      <td>0.513658</td>\n",
       "      <td>1.385848</td>\n",
       "    </tr>\n",
       "    <tr>\n",
       "      <th>4</th>\n",
       "      <td>0.856087</td>\n",
       "      <td>-0.574120</td>\n",
       "      <td>-0.283828</td>\n",
       "      <td>-0.129678</td>\n",
       "    </tr>\n",
       "  </tbody>\n",
       "</table>\n",
       "</div>"
      ],
      "text/plain": [
       "          A         B         C         D\n",
       "0  1.097220 -1.363777  1.744144  0.288074\n",
       "1 -0.855630  0.353953 -1.357181 -0.619648\n",
       "2  0.126238  0.213535 -0.599780  0.435291\n",
       "3 -0.828220  0.669914  0.513658  1.385848\n",
       "4  0.856087 -0.574120 -0.283828 -0.129678"
      ]
     },
     "execution_count": 3,
     "metadata": {},
     "output_type": "execute_result"
    }
   ],
   "source": [
    "df.head()"
   ]
  },
  {
   "cell_type": "code",
   "execution_count": 4,
   "id": "2104e51b",
   "metadata": {},
   "outputs": [],
   "source": [
    "df2 = pd.DataFrame({'Category':['A','B','C'],'Values':[32,43,50]})"
   ]
  },
  {
   "cell_type": "code",
   "execution_count": 5,
   "id": "42fc7384",
   "metadata": {},
   "outputs": [
    {
     "data": {
      "text/html": [
       "<div>\n",
       "<style scoped>\n",
       "    .dataframe tbody tr th:only-of-type {\n",
       "        vertical-align: middle;\n",
       "    }\n",
       "\n",
       "    .dataframe tbody tr th {\n",
       "        vertical-align: top;\n",
       "    }\n",
       "\n",
       "    .dataframe thead th {\n",
       "        text-align: right;\n",
       "    }\n",
       "</style>\n",
       "<table border=\"1\" class=\"dataframe\">\n",
       "  <thead>\n",
       "    <tr style=\"text-align: right;\">\n",
       "      <th></th>\n",
       "      <th>Category</th>\n",
       "      <th>Values</th>\n",
       "    </tr>\n",
       "  </thead>\n",
       "  <tbody>\n",
       "    <tr>\n",
       "      <th>0</th>\n",
       "      <td>A</td>\n",
       "      <td>32</td>\n",
       "    </tr>\n",
       "    <tr>\n",
       "      <th>1</th>\n",
       "      <td>B</td>\n",
       "      <td>43</td>\n",
       "    </tr>\n",
       "    <tr>\n",
       "      <th>2</th>\n",
       "      <td>C</td>\n",
       "      <td>50</td>\n",
       "    </tr>\n",
       "  </tbody>\n",
       "</table>\n",
       "</div>"
      ],
      "text/plain": [
       "  Category  Values\n",
       "0        A      32\n",
       "1        B      43\n",
       "2        C      50"
      ]
     },
     "execution_count": 5,
     "metadata": {},
     "output_type": "execute_result"
    }
   ],
   "source": [
    "df2.head()"
   ]
  },
  {
   "cell_type": "code",
   "execution_count": 6,
   "id": "f7f5bd02",
   "metadata": {},
   "outputs": [
    {
     "data": {
      "application/vnd.plotly.v1+json": {
       "config": {
        "linkText": "Export to plot.ly",
        "plotlyServerURL": "https://plot.ly",
        "showLink": true
       },
       "data": [
        {
         "line": {
          "color": "rgba(255, 153, 51, 1.0)",
          "dash": "solid",
          "shape": "linear",
          "width": 1.3
         },
         "marker": {
          "size": 10,
          "symbol": "circle"
         },
         "mode": "markers",
         "name": "B",
         "text": "",
         "type": "scatter",
         "x": [
          1.0972199573688461,
          -0.8556300900285553,
          0.126238097867567,
          -0.8282204270169976,
          0.8560873352556525,
          0.5619925804799691,
          2.167754242657729,
          0.8685971008748656,
          -1.9289937198025082,
          0.5437032363502787,
          -0.9574925223199207,
          -0.24911605946206627,
          1.5931382742156124,
          1.295876030061057,
          -0.3059339088046586,
          -2.5137835517098113,
          -0.1843257337369107,
          -0.11925588099121849,
          0.040977527180113854,
          0.591519333167522,
          -1.9133114776397937,
          -0.4234397600642683,
          -0.37323357463192774,
          0.39736404172278844,
          -1.0687353713516132,
          -2.1137134499842243,
          0.026616150448040582,
          0.03207548264493021,
          2.2350858795361037,
          0.3865150785553918,
          -0.2765508952638007,
          -0.9742483462536244,
          -0.037418091518889154,
          -0.6957386432796877,
          0.26254940779255026,
          -0.37061011710613984,
          0.1940616159399782,
          -0.4712706922249023,
          -0.7438133035929787,
          -0.8617817265675123,
          1.2274765825622858,
          -2.1162084763156,
          -0.39314272842603903,
          -0.7536802700649506,
          -0.2586012758153935,
          -0.3647937634526296,
          0.28374946056505923,
          -0.7426970053836787,
          0.5138603605588284,
          -1.1221585741415925,
          2.462589511258795,
          0.326754111891552,
          -1.1360152092376024,
          1.1009591239625762,
          0.5331383898979563,
          1.030367103510399,
          -1.5476307035214891,
          -0.14353702750924907,
          0.6153365014212021,
          0.17582305872329348,
          -0.1407595696306908,
          0.9615519820277341,
          -0.18273247455217942,
          -1.2490206473611387,
          -0.6843774351888924,
          -0.9450323644698706,
          -0.41593589370993106,
          1.6402502318965975,
          0.15090798894901028,
          -0.7602056513090112,
          0.16666027169541586,
          -0.6140555628020126,
          0.1224738655616952,
          0.0355516286140335,
          -0.07126787414443411,
          -0.47293961552623126,
          -0.17699554805522952,
          0.46179222308616014,
          0.9014511792772176,
          -1.0619107340564138,
          0.2431893684974666,
          -0.5197779549294853,
          -0.37792729092691474,
          -0.9297917791003169,
          0.7464411364714747,
          1.3135926514013567,
          -0.11786793920996452,
          -0.9006190576593024,
          0.3189182367226934,
          -0.6013694007427746,
          0.6392332214332836,
          -0.41007665963566364,
          -0.44084763227914775,
          0.026668559790025716,
          0.7551911700826331,
          1.2784426404091564,
          1.9525932355403217,
          1.4083554324392453,
          -0.04995379723171119,
          -0.8870695309281038
         ],
         "y": [
          -1.3637774842815413,
          0.353952675325184,
          0.21353536078393018,
          0.6699142800774748,
          -0.574120137178779,
          0.22137996731266077,
          0.1842868499658055,
          -0.5631842115771228,
          0.026902270886982552,
          1.6135586059124316,
          -0.24141231977133087,
          0.3589101422836867,
          0.5151474823005724,
          -0.8065719473373799,
          2.655984963239379,
          1.7676102880648454,
          0.536666074694593,
          1.7113497148684713,
          1.2103329781689967,
          0.2892831050976094,
          0.5536184590916052,
          -0.9080764903832801,
          1.3117010182803681,
          0.9496623261887203,
          2.1578662968217746,
          -2.2866991271331054,
          0.46502055933437225,
          0.3007190779204101,
          0.21565361054157617,
          0.7297651175587392,
          1.2110715854901988,
          -0.4313639363120854,
          0.3186649273727466,
          0.8610791269604751,
          -0.3520093584334649,
          -0.18440102023666888,
          0.20663158797414072,
          -1.2482030602991123,
          -0.15252849941252594,
          -0.6280150064398252,
          1.6384377692523178,
          -0.9686158825072473,
          1.523254680641849,
          -0.43324496175475813,
          0.17683089883614178,
          1.3437492789374694,
          0.7922225736517898,
          0.37848642017699863,
          1.944114142362021,
          -1.1989544380354518,
          0.9270998914726263,
          0.21227650911028123,
          1.6141779405665395,
          0.7559046937544706,
          1.3126072045227353,
          -0.33678296009720143,
          0.29379536995738714,
          -0.814197978560749,
          0.035366931482711854,
          -1.7283954579795704,
          0.21158915830886985,
          1.0445162035800992,
          -0.8675878384458665,
          -0.39509555817917685,
          0.39641202034336487,
          0.34138447652912884,
          -1.5794190042582488,
          1.6361047889920284,
          0.10099997488030328,
          1.380339719163687,
          -0.1942889589590072,
          0.030121399759899314,
          -0.22129904013345408,
          0.5198780246561374,
          0.718822922695734,
          -1.0378545103964494,
          0.5094549811222295,
          0.9981651911086201,
          -0.3052056534959569,
          -1.0367418993908588,
          0.8114795684472617,
          -1.984381866446984,
          -0.7176887974181332,
          0.2326928856538649,
          -0.06287311871688153,
          0.3424467162006518,
          -0.7303309346947787,
          -0.7732572902361802,
          0.017804708943345644,
          2.2215543781141633,
          -0.4078351257654741,
          -0.029488329916561636,
          0.3382837144894597,
          -1.7290701278444445,
          -1.7183982409460457,
          0.6898709280559027,
          -1.2171663269029787,
          -0.5932799090423962,
          -0.409927639782033,
          1.1406913323954189
         ]
        }
       ],
       "layout": {
        "legend": {
         "bgcolor": "#F5F6F9",
         "font": {
          "color": "#4D5663"
         }
        },
        "paper_bgcolor": "#F5F6F9",
        "plot_bgcolor": "#F5F6F9",
        "template": {
         "data": {
          "bar": [
           {
            "error_x": {
             "color": "#2a3f5f"
            },
            "error_y": {
             "color": "#2a3f5f"
            },
            "marker": {
             "line": {
              "color": "#E5ECF6",
              "width": 0.5
             },
             "pattern": {
              "fillmode": "overlay",
              "size": 10,
              "solidity": 0.2
             }
            },
            "type": "bar"
           }
          ],
          "barpolar": [
           {
            "marker": {
             "line": {
              "color": "#E5ECF6",
              "width": 0.5
             },
             "pattern": {
              "fillmode": "overlay",
              "size": 10,
              "solidity": 0.2
             }
            },
            "type": "barpolar"
           }
          ],
          "carpet": [
           {
            "aaxis": {
             "endlinecolor": "#2a3f5f",
             "gridcolor": "white",
             "linecolor": "white",
             "minorgridcolor": "white",
             "startlinecolor": "#2a3f5f"
            },
            "baxis": {
             "endlinecolor": "#2a3f5f",
             "gridcolor": "white",
             "linecolor": "white",
             "minorgridcolor": "white",
             "startlinecolor": "#2a3f5f"
            },
            "type": "carpet"
           }
          ],
          "choropleth": [
           {
            "colorbar": {
             "outlinewidth": 0,
             "ticks": ""
            },
            "type": "choropleth"
           }
          ],
          "contour": [
           {
            "colorbar": {
             "outlinewidth": 0,
             "ticks": ""
            },
            "colorscale": [
             [
              0,
              "#0d0887"
             ],
             [
              0.1111111111111111,
              "#46039f"
             ],
             [
              0.2222222222222222,
              "#7201a8"
             ],
             [
              0.3333333333333333,
              "#9c179e"
             ],
             [
              0.4444444444444444,
              "#bd3786"
             ],
             [
              0.5555555555555556,
              "#d8576b"
             ],
             [
              0.6666666666666666,
              "#ed7953"
             ],
             [
              0.7777777777777778,
              "#fb9f3a"
             ],
             [
              0.8888888888888888,
              "#fdca26"
             ],
             [
              1,
              "#f0f921"
             ]
            ],
            "type": "contour"
           }
          ],
          "contourcarpet": [
           {
            "colorbar": {
             "outlinewidth": 0,
             "ticks": ""
            },
            "type": "contourcarpet"
           }
          ],
          "heatmap": [
           {
            "colorbar": {
             "outlinewidth": 0,
             "ticks": ""
            },
            "colorscale": [
             [
              0,
              "#0d0887"
             ],
             [
              0.1111111111111111,
              "#46039f"
             ],
             [
              0.2222222222222222,
              "#7201a8"
             ],
             [
              0.3333333333333333,
              "#9c179e"
             ],
             [
              0.4444444444444444,
              "#bd3786"
             ],
             [
              0.5555555555555556,
              "#d8576b"
             ],
             [
              0.6666666666666666,
              "#ed7953"
             ],
             [
              0.7777777777777778,
              "#fb9f3a"
             ],
             [
              0.8888888888888888,
              "#fdca26"
             ],
             [
              1,
              "#f0f921"
             ]
            ],
            "type": "heatmap"
           }
          ],
          "heatmapgl": [
           {
            "colorbar": {
             "outlinewidth": 0,
             "ticks": ""
            },
            "colorscale": [
             [
              0,
              "#0d0887"
             ],
             [
              0.1111111111111111,
              "#46039f"
             ],
             [
              0.2222222222222222,
              "#7201a8"
             ],
             [
              0.3333333333333333,
              "#9c179e"
             ],
             [
              0.4444444444444444,
              "#bd3786"
             ],
             [
              0.5555555555555556,
              "#d8576b"
             ],
             [
              0.6666666666666666,
              "#ed7953"
             ],
             [
              0.7777777777777778,
              "#fb9f3a"
             ],
             [
              0.8888888888888888,
              "#fdca26"
             ],
             [
              1,
              "#f0f921"
             ]
            ],
            "type": "heatmapgl"
           }
          ],
          "histogram": [
           {
            "marker": {
             "pattern": {
              "fillmode": "overlay",
              "size": 10,
              "solidity": 0.2
             }
            },
            "type": "histogram"
           }
          ],
          "histogram2d": [
           {
            "colorbar": {
             "outlinewidth": 0,
             "ticks": ""
            },
            "colorscale": [
             [
              0,
              "#0d0887"
             ],
             [
              0.1111111111111111,
              "#46039f"
             ],
             [
              0.2222222222222222,
              "#7201a8"
             ],
             [
              0.3333333333333333,
              "#9c179e"
             ],
             [
              0.4444444444444444,
              "#bd3786"
             ],
             [
              0.5555555555555556,
              "#d8576b"
             ],
             [
              0.6666666666666666,
              "#ed7953"
             ],
             [
              0.7777777777777778,
              "#fb9f3a"
             ],
             [
              0.8888888888888888,
              "#fdca26"
             ],
             [
              1,
              "#f0f921"
             ]
            ],
            "type": "histogram2d"
           }
          ],
          "histogram2dcontour": [
           {
            "colorbar": {
             "outlinewidth": 0,
             "ticks": ""
            },
            "colorscale": [
             [
              0,
              "#0d0887"
             ],
             [
              0.1111111111111111,
              "#46039f"
             ],
             [
              0.2222222222222222,
              "#7201a8"
             ],
             [
              0.3333333333333333,
              "#9c179e"
             ],
             [
              0.4444444444444444,
              "#bd3786"
             ],
             [
              0.5555555555555556,
              "#d8576b"
             ],
             [
              0.6666666666666666,
              "#ed7953"
             ],
             [
              0.7777777777777778,
              "#fb9f3a"
             ],
             [
              0.8888888888888888,
              "#fdca26"
             ],
             [
              1,
              "#f0f921"
             ]
            ],
            "type": "histogram2dcontour"
           }
          ],
          "mesh3d": [
           {
            "colorbar": {
             "outlinewidth": 0,
             "ticks": ""
            },
            "type": "mesh3d"
           }
          ],
          "parcoords": [
           {
            "line": {
             "colorbar": {
              "outlinewidth": 0,
              "ticks": ""
             }
            },
            "type": "parcoords"
           }
          ],
          "pie": [
           {
            "automargin": true,
            "type": "pie"
           }
          ],
          "scatter": [
           {
            "fillpattern": {
             "fillmode": "overlay",
             "size": 10,
             "solidity": 0.2
            },
            "type": "scatter"
           }
          ],
          "scatter3d": [
           {
            "line": {
             "colorbar": {
              "outlinewidth": 0,
              "ticks": ""
             }
            },
            "marker": {
             "colorbar": {
              "outlinewidth": 0,
              "ticks": ""
             }
            },
            "type": "scatter3d"
           }
          ],
          "scattercarpet": [
           {
            "marker": {
             "colorbar": {
              "outlinewidth": 0,
              "ticks": ""
             }
            },
            "type": "scattercarpet"
           }
          ],
          "scattergeo": [
           {
            "marker": {
             "colorbar": {
              "outlinewidth": 0,
              "ticks": ""
             }
            },
            "type": "scattergeo"
           }
          ],
          "scattergl": [
           {
            "marker": {
             "colorbar": {
              "outlinewidth": 0,
              "ticks": ""
             }
            },
            "type": "scattergl"
           }
          ],
          "scattermapbox": [
           {
            "marker": {
             "colorbar": {
              "outlinewidth": 0,
              "ticks": ""
             }
            },
            "type": "scattermapbox"
           }
          ],
          "scatterpolar": [
           {
            "marker": {
             "colorbar": {
              "outlinewidth": 0,
              "ticks": ""
             }
            },
            "type": "scatterpolar"
           }
          ],
          "scatterpolargl": [
           {
            "marker": {
             "colorbar": {
              "outlinewidth": 0,
              "ticks": ""
             }
            },
            "type": "scatterpolargl"
           }
          ],
          "scatterternary": [
           {
            "marker": {
             "colorbar": {
              "outlinewidth": 0,
              "ticks": ""
             }
            },
            "type": "scatterternary"
           }
          ],
          "surface": [
           {
            "colorbar": {
             "outlinewidth": 0,
             "ticks": ""
            },
            "colorscale": [
             [
              0,
              "#0d0887"
             ],
             [
              0.1111111111111111,
              "#46039f"
             ],
             [
              0.2222222222222222,
              "#7201a8"
             ],
             [
              0.3333333333333333,
              "#9c179e"
             ],
             [
              0.4444444444444444,
              "#bd3786"
             ],
             [
              0.5555555555555556,
              "#d8576b"
             ],
             [
              0.6666666666666666,
              "#ed7953"
             ],
             [
              0.7777777777777778,
              "#fb9f3a"
             ],
             [
              0.8888888888888888,
              "#fdca26"
             ],
             [
              1,
              "#f0f921"
             ]
            ],
            "type": "surface"
           }
          ],
          "table": [
           {
            "cells": {
             "fill": {
              "color": "#EBF0F8"
             },
             "line": {
              "color": "white"
             }
            },
            "header": {
             "fill": {
              "color": "#C8D4E3"
             },
             "line": {
              "color": "white"
             }
            },
            "type": "table"
           }
          ]
         },
         "layout": {
          "annotationdefaults": {
           "arrowcolor": "#2a3f5f",
           "arrowhead": 0,
           "arrowwidth": 1
          },
          "autotypenumbers": "strict",
          "coloraxis": {
           "colorbar": {
            "outlinewidth": 0,
            "ticks": ""
           }
          },
          "colorscale": {
           "diverging": [
            [
             0,
             "#8e0152"
            ],
            [
             0.1,
             "#c51b7d"
            ],
            [
             0.2,
             "#de77ae"
            ],
            [
             0.3,
             "#f1b6da"
            ],
            [
             0.4,
             "#fde0ef"
            ],
            [
             0.5,
             "#f7f7f7"
            ],
            [
             0.6,
             "#e6f5d0"
            ],
            [
             0.7,
             "#b8e186"
            ],
            [
             0.8,
             "#7fbc41"
            ],
            [
             0.9,
             "#4d9221"
            ],
            [
             1,
             "#276419"
            ]
           ],
           "sequential": [
            [
             0,
             "#0d0887"
            ],
            [
             0.1111111111111111,
             "#46039f"
            ],
            [
             0.2222222222222222,
             "#7201a8"
            ],
            [
             0.3333333333333333,
             "#9c179e"
            ],
            [
             0.4444444444444444,
             "#bd3786"
            ],
            [
             0.5555555555555556,
             "#d8576b"
            ],
            [
             0.6666666666666666,
             "#ed7953"
            ],
            [
             0.7777777777777778,
             "#fb9f3a"
            ],
            [
             0.8888888888888888,
             "#fdca26"
            ],
            [
             1,
             "#f0f921"
            ]
           ],
           "sequentialminus": [
            [
             0,
             "#0d0887"
            ],
            [
             0.1111111111111111,
             "#46039f"
            ],
            [
             0.2222222222222222,
             "#7201a8"
            ],
            [
             0.3333333333333333,
             "#9c179e"
            ],
            [
             0.4444444444444444,
             "#bd3786"
            ],
            [
             0.5555555555555556,
             "#d8576b"
            ],
            [
             0.6666666666666666,
             "#ed7953"
            ],
            [
             0.7777777777777778,
             "#fb9f3a"
            ],
            [
             0.8888888888888888,
             "#fdca26"
            ],
            [
             1,
             "#f0f921"
            ]
           ]
          },
          "colorway": [
           "#636efa",
           "#EF553B",
           "#00cc96",
           "#ab63fa",
           "#FFA15A",
           "#19d3f3",
           "#FF6692",
           "#B6E880",
           "#FF97FF",
           "#FECB52"
          ],
          "font": {
           "color": "#2a3f5f"
          },
          "geo": {
           "bgcolor": "white",
           "lakecolor": "white",
           "landcolor": "#E5ECF6",
           "showlakes": true,
           "showland": true,
           "subunitcolor": "white"
          },
          "hoverlabel": {
           "align": "left"
          },
          "hovermode": "closest",
          "mapbox": {
           "style": "light"
          },
          "paper_bgcolor": "white",
          "plot_bgcolor": "#E5ECF6",
          "polar": {
           "angularaxis": {
            "gridcolor": "white",
            "linecolor": "white",
            "ticks": ""
           },
           "bgcolor": "#E5ECF6",
           "radialaxis": {
            "gridcolor": "white",
            "linecolor": "white",
            "ticks": ""
           }
          },
          "scene": {
           "xaxis": {
            "backgroundcolor": "#E5ECF6",
            "gridcolor": "white",
            "gridwidth": 2,
            "linecolor": "white",
            "showbackground": true,
            "ticks": "",
            "zerolinecolor": "white"
           },
           "yaxis": {
            "backgroundcolor": "#E5ECF6",
            "gridcolor": "white",
            "gridwidth": 2,
            "linecolor": "white",
            "showbackground": true,
            "ticks": "",
            "zerolinecolor": "white"
           },
           "zaxis": {
            "backgroundcolor": "#E5ECF6",
            "gridcolor": "white",
            "gridwidth": 2,
            "linecolor": "white",
            "showbackground": true,
            "ticks": "",
            "zerolinecolor": "white"
           }
          },
          "shapedefaults": {
           "line": {
            "color": "#2a3f5f"
           }
          },
          "ternary": {
           "aaxis": {
            "gridcolor": "white",
            "linecolor": "white",
            "ticks": ""
           },
           "baxis": {
            "gridcolor": "white",
            "linecolor": "white",
            "ticks": ""
           },
           "bgcolor": "#E5ECF6",
           "caxis": {
            "gridcolor": "white",
            "linecolor": "white",
            "ticks": ""
           }
          },
          "title": {
           "x": 0.05
          },
          "xaxis": {
           "automargin": true,
           "gridcolor": "white",
           "linecolor": "white",
           "ticks": "",
           "title": {
            "standoff": 15
           },
           "zerolinecolor": "white",
           "zerolinewidth": 2
          },
          "yaxis": {
           "automargin": true,
           "gridcolor": "white",
           "linecolor": "white",
           "ticks": "",
           "title": {
            "standoff": 15
           },
           "zerolinecolor": "white",
           "zerolinewidth": 2
          }
         }
        },
        "title": {
         "font": {
          "color": "#4D5663"
         }
        },
        "xaxis": {
         "gridcolor": "#E1E5ED",
         "showgrid": true,
         "tickfont": {
          "color": "#4D5663"
         },
         "title": {
          "font": {
           "color": "#4D5663"
          },
          "text": ""
         },
         "zerolinecolor": "#E1E5ED"
        },
        "yaxis": {
         "gridcolor": "#E1E5ED",
         "showgrid": true,
         "tickfont": {
          "color": "#4D5663"
         },
         "title": {
          "font": {
           "color": "#4D5663"
          },
          "text": ""
         },
         "zerolinecolor": "#E1E5ED"
        }
       }
      },
      "text/html": [
       "<div>                            <div id=\"af043fcc-ef03-4297-9530-2aed8b3631ca\" class=\"plotly-graph-div\" style=\"height:525px; width:100%;\"></div>            <script type=\"text/javascript\">                require([\"plotly\"], function(Plotly) {                    window.PLOTLYENV=window.PLOTLYENV || {};\n",
       "                    window.PLOTLYENV.BASE_URL='https://plot.ly';                                    if (document.getElementById(\"af043fcc-ef03-4297-9530-2aed8b3631ca\")) {                    Plotly.newPlot(                        \"af043fcc-ef03-4297-9530-2aed8b3631ca\",                        [{\"line\":{\"color\":\"rgba(255, 153, 51, 1.0)\",\"dash\":\"solid\",\"shape\":\"linear\",\"width\":1.3},\"marker\":{\"size\":10,\"symbol\":\"circle\"},\"mode\":\"markers\",\"name\":\"B\",\"text\":\"\",\"x\":[1.0972199573688461,-0.8556300900285553,0.126238097867567,-0.8282204270169976,0.8560873352556525,0.5619925804799691,2.167754242657729,0.8685971008748656,-1.9289937198025082,0.5437032363502787,-0.9574925223199207,-0.24911605946206627,1.5931382742156124,1.295876030061057,-0.3059339088046586,-2.5137835517098113,-0.1843257337369107,-0.11925588099121849,0.040977527180113854,0.591519333167522,-1.9133114776397937,-0.4234397600642683,-0.37323357463192774,0.39736404172278844,-1.0687353713516132,-2.1137134499842243,0.026616150448040582,0.03207548264493021,2.2350858795361037,0.3865150785553918,-0.2765508952638007,-0.9742483462536244,-0.037418091518889154,-0.6957386432796877,0.26254940779255026,-0.37061011710613984,0.1940616159399782,-0.4712706922249023,-0.7438133035929787,-0.8617817265675123,1.2274765825622858,-2.1162084763156,-0.39314272842603903,-0.7536802700649506,-0.2586012758153935,-0.3647937634526296,0.28374946056505923,-0.7426970053836787,0.5138603605588284,-1.1221585741415925,2.462589511258795,0.326754111891552,-1.1360152092376024,1.1009591239625762,0.5331383898979563,1.030367103510399,-1.5476307035214891,-0.14353702750924907,0.6153365014212021,0.17582305872329348,-0.1407595696306908,0.9615519820277341,-0.18273247455217942,-1.2490206473611387,-0.6843774351888924,-0.9450323644698706,-0.41593589370993106,1.6402502318965975,0.15090798894901028,-0.7602056513090112,0.16666027169541586,-0.6140555628020126,0.1224738655616952,0.0355516286140335,-0.07126787414443411,-0.47293961552623126,-0.17699554805522952,0.46179222308616014,0.9014511792772176,-1.0619107340564138,0.2431893684974666,-0.5197779549294853,-0.37792729092691474,-0.9297917791003169,0.7464411364714747,1.3135926514013567,-0.11786793920996452,-0.9006190576593024,0.3189182367226934,-0.6013694007427746,0.6392332214332836,-0.41007665963566364,-0.44084763227914775,0.026668559790025716,0.7551911700826331,1.2784426404091564,1.9525932355403217,1.4083554324392453,-0.04995379723171119,-0.8870695309281038],\"y\":[-1.3637774842815413,0.353952675325184,0.21353536078393018,0.6699142800774748,-0.574120137178779,0.22137996731266077,0.1842868499658055,-0.5631842115771228,0.026902270886982552,1.6135586059124316,-0.24141231977133087,0.3589101422836867,0.5151474823005724,-0.8065719473373799,2.655984963239379,1.7676102880648454,0.536666074694593,1.7113497148684713,1.2103329781689967,0.2892831050976094,0.5536184590916052,-0.9080764903832801,1.3117010182803681,0.9496623261887203,2.1578662968217746,-2.2866991271331054,0.46502055933437225,0.3007190779204101,0.21565361054157617,0.7297651175587392,1.2110715854901988,-0.4313639363120854,0.3186649273727466,0.8610791269604751,-0.3520093584334649,-0.18440102023666888,0.20663158797414072,-1.2482030602991123,-0.15252849941252594,-0.6280150064398252,1.6384377692523178,-0.9686158825072473,1.523254680641849,-0.43324496175475813,0.17683089883614178,1.3437492789374694,0.7922225736517898,0.37848642017699863,1.944114142362021,-1.1989544380354518,0.9270998914726263,0.21227650911028123,1.6141779405665395,0.7559046937544706,1.3126072045227353,-0.33678296009720143,0.29379536995738714,-0.814197978560749,0.035366931482711854,-1.7283954579795704,0.21158915830886985,1.0445162035800992,-0.8675878384458665,-0.39509555817917685,0.39641202034336487,0.34138447652912884,-1.5794190042582488,1.6361047889920284,0.10099997488030328,1.380339719163687,-0.1942889589590072,0.030121399759899314,-0.22129904013345408,0.5198780246561374,0.718822922695734,-1.0378545103964494,0.5094549811222295,0.9981651911086201,-0.3052056534959569,-1.0367418993908588,0.8114795684472617,-1.984381866446984,-0.7176887974181332,0.2326928856538649,-0.06287311871688153,0.3424467162006518,-0.7303309346947787,-0.7732572902361802,0.017804708943345644,2.2215543781141633,-0.4078351257654741,-0.029488329916561636,0.3382837144894597,-1.7290701278444445,-1.7183982409460457,0.6898709280559027,-1.2171663269029787,-0.5932799090423962,-0.409927639782033,1.1406913323954189],\"type\":\"scatter\"}],                        {\"legend\":{\"bgcolor\":\"#F5F6F9\",\"font\":{\"color\":\"#4D5663\"}},\"paper_bgcolor\":\"#F5F6F9\",\"plot_bgcolor\":\"#F5F6F9\",\"template\":{\"data\":{\"barpolar\":[{\"marker\":{\"line\":{\"color\":\"#E5ECF6\",\"width\":0.5},\"pattern\":{\"fillmode\":\"overlay\",\"size\":10,\"solidity\":0.2}},\"type\":\"barpolar\"}],\"bar\":[{\"error_x\":{\"color\":\"#2a3f5f\"},\"error_y\":{\"color\":\"#2a3f5f\"},\"marker\":{\"line\":{\"color\":\"#E5ECF6\",\"width\":0.5},\"pattern\":{\"fillmode\":\"overlay\",\"size\":10,\"solidity\":0.2}},\"type\":\"bar\"}],\"carpet\":[{\"aaxis\":{\"endlinecolor\":\"#2a3f5f\",\"gridcolor\":\"white\",\"linecolor\":\"white\",\"minorgridcolor\":\"white\",\"startlinecolor\":\"#2a3f5f\"},\"baxis\":{\"endlinecolor\":\"#2a3f5f\",\"gridcolor\":\"white\",\"linecolor\":\"white\",\"minorgridcolor\":\"white\",\"startlinecolor\":\"#2a3f5f\"},\"type\":\"carpet\"}],\"choropleth\":[{\"colorbar\":{\"outlinewidth\":0,\"ticks\":\"\"},\"type\":\"choropleth\"}],\"contourcarpet\":[{\"colorbar\":{\"outlinewidth\":0,\"ticks\":\"\"},\"type\":\"contourcarpet\"}],\"contour\":[{\"colorbar\":{\"outlinewidth\":0,\"ticks\":\"\"},\"colorscale\":[[0.0,\"#0d0887\"],[0.1111111111111111,\"#46039f\"],[0.2222222222222222,\"#7201a8\"],[0.3333333333333333,\"#9c179e\"],[0.4444444444444444,\"#bd3786\"],[0.5555555555555556,\"#d8576b\"],[0.6666666666666666,\"#ed7953\"],[0.7777777777777778,\"#fb9f3a\"],[0.8888888888888888,\"#fdca26\"],[1.0,\"#f0f921\"]],\"type\":\"contour\"}],\"heatmapgl\":[{\"colorbar\":{\"outlinewidth\":0,\"ticks\":\"\"},\"colorscale\":[[0.0,\"#0d0887\"],[0.1111111111111111,\"#46039f\"],[0.2222222222222222,\"#7201a8\"],[0.3333333333333333,\"#9c179e\"],[0.4444444444444444,\"#bd3786\"],[0.5555555555555556,\"#d8576b\"],[0.6666666666666666,\"#ed7953\"],[0.7777777777777778,\"#fb9f3a\"],[0.8888888888888888,\"#fdca26\"],[1.0,\"#f0f921\"]],\"type\":\"heatmapgl\"}],\"heatmap\":[{\"colorbar\":{\"outlinewidth\":0,\"ticks\":\"\"},\"colorscale\":[[0.0,\"#0d0887\"],[0.1111111111111111,\"#46039f\"],[0.2222222222222222,\"#7201a8\"],[0.3333333333333333,\"#9c179e\"],[0.4444444444444444,\"#bd3786\"],[0.5555555555555556,\"#d8576b\"],[0.6666666666666666,\"#ed7953\"],[0.7777777777777778,\"#fb9f3a\"],[0.8888888888888888,\"#fdca26\"],[1.0,\"#f0f921\"]],\"type\":\"heatmap\"}],\"histogram2dcontour\":[{\"colorbar\":{\"outlinewidth\":0,\"ticks\":\"\"},\"colorscale\":[[0.0,\"#0d0887\"],[0.1111111111111111,\"#46039f\"],[0.2222222222222222,\"#7201a8\"],[0.3333333333333333,\"#9c179e\"],[0.4444444444444444,\"#bd3786\"],[0.5555555555555556,\"#d8576b\"],[0.6666666666666666,\"#ed7953\"],[0.7777777777777778,\"#fb9f3a\"],[0.8888888888888888,\"#fdca26\"],[1.0,\"#f0f921\"]],\"type\":\"histogram2dcontour\"}],\"histogram2d\":[{\"colorbar\":{\"outlinewidth\":0,\"ticks\":\"\"},\"colorscale\":[[0.0,\"#0d0887\"],[0.1111111111111111,\"#46039f\"],[0.2222222222222222,\"#7201a8\"],[0.3333333333333333,\"#9c179e\"],[0.4444444444444444,\"#bd3786\"],[0.5555555555555556,\"#d8576b\"],[0.6666666666666666,\"#ed7953\"],[0.7777777777777778,\"#fb9f3a\"],[0.8888888888888888,\"#fdca26\"],[1.0,\"#f0f921\"]],\"type\":\"histogram2d\"}],\"histogram\":[{\"marker\":{\"pattern\":{\"fillmode\":\"overlay\",\"size\":10,\"solidity\":0.2}},\"type\":\"histogram\"}],\"mesh3d\":[{\"colorbar\":{\"outlinewidth\":0,\"ticks\":\"\"},\"type\":\"mesh3d\"}],\"parcoords\":[{\"line\":{\"colorbar\":{\"outlinewidth\":0,\"ticks\":\"\"}},\"type\":\"parcoords\"}],\"pie\":[{\"automargin\":true,\"type\":\"pie\"}],\"scatter3d\":[{\"line\":{\"colorbar\":{\"outlinewidth\":0,\"ticks\":\"\"}},\"marker\":{\"colorbar\":{\"outlinewidth\":0,\"ticks\":\"\"}},\"type\":\"scatter3d\"}],\"scattercarpet\":[{\"marker\":{\"colorbar\":{\"outlinewidth\":0,\"ticks\":\"\"}},\"type\":\"scattercarpet\"}],\"scattergeo\":[{\"marker\":{\"colorbar\":{\"outlinewidth\":0,\"ticks\":\"\"}},\"type\":\"scattergeo\"}],\"scattergl\":[{\"marker\":{\"colorbar\":{\"outlinewidth\":0,\"ticks\":\"\"}},\"type\":\"scattergl\"}],\"scattermapbox\":[{\"marker\":{\"colorbar\":{\"outlinewidth\":0,\"ticks\":\"\"}},\"type\":\"scattermapbox\"}],\"scatterpolargl\":[{\"marker\":{\"colorbar\":{\"outlinewidth\":0,\"ticks\":\"\"}},\"type\":\"scatterpolargl\"}],\"scatterpolar\":[{\"marker\":{\"colorbar\":{\"outlinewidth\":0,\"ticks\":\"\"}},\"type\":\"scatterpolar\"}],\"scatter\":[{\"fillpattern\":{\"fillmode\":\"overlay\",\"size\":10,\"solidity\":0.2},\"type\":\"scatter\"}],\"scatterternary\":[{\"marker\":{\"colorbar\":{\"outlinewidth\":0,\"ticks\":\"\"}},\"type\":\"scatterternary\"}],\"surface\":[{\"colorbar\":{\"outlinewidth\":0,\"ticks\":\"\"},\"colorscale\":[[0.0,\"#0d0887\"],[0.1111111111111111,\"#46039f\"],[0.2222222222222222,\"#7201a8\"],[0.3333333333333333,\"#9c179e\"],[0.4444444444444444,\"#bd3786\"],[0.5555555555555556,\"#d8576b\"],[0.6666666666666666,\"#ed7953\"],[0.7777777777777778,\"#fb9f3a\"],[0.8888888888888888,\"#fdca26\"],[1.0,\"#f0f921\"]],\"type\":\"surface\"}],\"table\":[{\"cells\":{\"fill\":{\"color\":\"#EBF0F8\"},\"line\":{\"color\":\"white\"}},\"header\":{\"fill\":{\"color\":\"#C8D4E3\"},\"line\":{\"color\":\"white\"}},\"type\":\"table\"}]},\"layout\":{\"annotationdefaults\":{\"arrowcolor\":\"#2a3f5f\",\"arrowhead\":0,\"arrowwidth\":1},\"autotypenumbers\":\"strict\",\"coloraxis\":{\"colorbar\":{\"outlinewidth\":0,\"ticks\":\"\"}},\"colorscale\":{\"diverging\":[[0,\"#8e0152\"],[0.1,\"#c51b7d\"],[0.2,\"#de77ae\"],[0.3,\"#f1b6da\"],[0.4,\"#fde0ef\"],[0.5,\"#f7f7f7\"],[0.6,\"#e6f5d0\"],[0.7,\"#b8e186\"],[0.8,\"#7fbc41\"],[0.9,\"#4d9221\"],[1,\"#276419\"]],\"sequential\":[[0.0,\"#0d0887\"],[0.1111111111111111,\"#46039f\"],[0.2222222222222222,\"#7201a8\"],[0.3333333333333333,\"#9c179e\"],[0.4444444444444444,\"#bd3786\"],[0.5555555555555556,\"#d8576b\"],[0.6666666666666666,\"#ed7953\"],[0.7777777777777778,\"#fb9f3a\"],[0.8888888888888888,\"#fdca26\"],[1.0,\"#f0f921\"]],\"sequentialminus\":[[0.0,\"#0d0887\"],[0.1111111111111111,\"#46039f\"],[0.2222222222222222,\"#7201a8\"],[0.3333333333333333,\"#9c179e\"],[0.4444444444444444,\"#bd3786\"],[0.5555555555555556,\"#d8576b\"],[0.6666666666666666,\"#ed7953\"],[0.7777777777777778,\"#fb9f3a\"],[0.8888888888888888,\"#fdca26\"],[1.0,\"#f0f921\"]]},\"colorway\":[\"#636efa\",\"#EF553B\",\"#00cc96\",\"#ab63fa\",\"#FFA15A\",\"#19d3f3\",\"#FF6692\",\"#B6E880\",\"#FF97FF\",\"#FECB52\"],\"font\":{\"color\":\"#2a3f5f\"},\"geo\":{\"bgcolor\":\"white\",\"lakecolor\":\"white\",\"landcolor\":\"#E5ECF6\",\"showlakes\":true,\"showland\":true,\"subunitcolor\":\"white\"},\"hoverlabel\":{\"align\":\"left\"},\"hovermode\":\"closest\",\"mapbox\":{\"style\":\"light\"},\"paper_bgcolor\":\"white\",\"plot_bgcolor\":\"#E5ECF6\",\"polar\":{\"angularaxis\":{\"gridcolor\":\"white\",\"linecolor\":\"white\",\"ticks\":\"\"},\"bgcolor\":\"#E5ECF6\",\"radialaxis\":{\"gridcolor\":\"white\",\"linecolor\":\"white\",\"ticks\":\"\"}},\"scene\":{\"xaxis\":{\"backgroundcolor\":\"#E5ECF6\",\"gridcolor\":\"white\",\"gridwidth\":2,\"linecolor\":\"white\",\"showbackground\":true,\"ticks\":\"\",\"zerolinecolor\":\"white\"},\"yaxis\":{\"backgroundcolor\":\"#E5ECF6\",\"gridcolor\":\"white\",\"gridwidth\":2,\"linecolor\":\"white\",\"showbackground\":true,\"ticks\":\"\",\"zerolinecolor\":\"white\"},\"zaxis\":{\"backgroundcolor\":\"#E5ECF6\",\"gridcolor\":\"white\",\"gridwidth\":2,\"linecolor\":\"white\",\"showbackground\":true,\"ticks\":\"\",\"zerolinecolor\":\"white\"}},\"shapedefaults\":{\"line\":{\"color\":\"#2a3f5f\"}},\"ternary\":{\"aaxis\":{\"gridcolor\":\"white\",\"linecolor\":\"white\",\"ticks\":\"\"},\"baxis\":{\"gridcolor\":\"white\",\"linecolor\":\"white\",\"ticks\":\"\"},\"bgcolor\":\"#E5ECF6\",\"caxis\":{\"gridcolor\":\"white\",\"linecolor\":\"white\",\"ticks\":\"\"}},\"title\":{\"x\":0.05},\"xaxis\":{\"automargin\":true,\"gridcolor\":\"white\",\"linecolor\":\"white\",\"ticks\":\"\",\"title\":{\"standoff\":15},\"zerolinecolor\":\"white\",\"zerolinewidth\":2},\"yaxis\":{\"automargin\":true,\"gridcolor\":\"white\",\"linecolor\":\"white\",\"ticks\":\"\",\"title\":{\"standoff\":15},\"zerolinecolor\":\"white\",\"zerolinewidth\":2}}},\"title\":{\"font\":{\"color\":\"#4D5663\"}},\"xaxis\":{\"gridcolor\":\"#E1E5ED\",\"showgrid\":true,\"tickfont\":{\"color\":\"#4D5663\"},\"title\":{\"font\":{\"color\":\"#4D5663\"},\"text\":\"\"},\"zerolinecolor\":\"#E1E5ED\"},\"yaxis\":{\"gridcolor\":\"#E1E5ED\",\"showgrid\":true,\"tickfont\":{\"color\":\"#4D5663\"},\"title\":{\"font\":{\"color\":\"#4D5663\"},\"text\":\"\"},\"zerolinecolor\":\"#E1E5ED\"}},                        {\"showLink\": true, \"linkText\": \"Export to plot.ly\", \"plotlyServerURL\": \"https://plot.ly\", \"responsive\": true}                    ).then(function(){\n",
       "                            \n",
       "var gd = document.getElementById('af043fcc-ef03-4297-9530-2aed8b3631ca');\n",
       "var x = new MutationObserver(function (mutations, observer) {{\n",
       "        var display = window.getComputedStyle(gd).display;\n",
       "        if (!display || display === 'none') {{\n",
       "            console.log([gd, 'removed!']);\n",
       "            Plotly.purge(gd);\n",
       "            observer.disconnect();\n",
       "        }}\n",
       "}});\n",
       "\n",
       "// Listen for the removal of the full notebook cells\n",
       "var notebookContainer = gd.closest('#notebook-container');\n",
       "if (notebookContainer) {{\n",
       "    x.observe(notebookContainer, {childList: true});\n",
       "}}\n",
       "\n",
       "// Listen for the clearing of the current output cell\n",
       "var outputEl = gd.closest('.output');\n",
       "if (outputEl) {{\n",
       "    x.observe(outputEl, {childList: true});\n",
       "}}\n",
       "\n",
       "                        })                };                });            </script>        </div>"
      ]
     },
     "metadata": {},
     "output_type": "display_data"
    }
   ],
   "source": [
    "df.iplot(kind='scatter',x='A',y='B',mode='markers',size=10)"
   ]
  },
  {
   "cell_type": "code",
   "execution_count": 7,
   "id": "bc04cbba",
   "metadata": {},
   "outputs": [
    {
     "data": {
      "application/vnd.plotly.v1+json": {
       "config": {
        "linkText": "Export to plot.ly",
        "plotlyServerURL": "https://plot.ly",
        "showLink": true
       },
       "data": [
        {
         "marker": {
          "color": "rgba(255, 153, 51, 0.6)",
          "line": {
           "color": "rgba(255, 153, 51, 1.0)",
           "width": 1
          }
         },
         "name": "Values",
         "orientation": "v",
         "text": "",
         "type": "bar",
         "x": [
          "A",
          "B",
          "C"
         ],
         "y": [
          32,
          43,
          50
         ]
        }
       ],
       "layout": {
        "legend": {
         "bgcolor": "#F5F6F9",
         "font": {
          "color": "#4D5663"
         }
        },
        "paper_bgcolor": "#F5F6F9",
        "plot_bgcolor": "#F5F6F9",
        "template": {
         "data": {
          "bar": [
           {
            "error_x": {
             "color": "#2a3f5f"
            },
            "error_y": {
             "color": "#2a3f5f"
            },
            "marker": {
             "line": {
              "color": "#E5ECF6",
              "width": 0.5
             },
             "pattern": {
              "fillmode": "overlay",
              "size": 10,
              "solidity": 0.2
             }
            },
            "type": "bar"
           }
          ],
          "barpolar": [
           {
            "marker": {
             "line": {
              "color": "#E5ECF6",
              "width": 0.5
             },
             "pattern": {
              "fillmode": "overlay",
              "size": 10,
              "solidity": 0.2
             }
            },
            "type": "barpolar"
           }
          ],
          "carpet": [
           {
            "aaxis": {
             "endlinecolor": "#2a3f5f",
             "gridcolor": "white",
             "linecolor": "white",
             "minorgridcolor": "white",
             "startlinecolor": "#2a3f5f"
            },
            "baxis": {
             "endlinecolor": "#2a3f5f",
             "gridcolor": "white",
             "linecolor": "white",
             "minorgridcolor": "white",
             "startlinecolor": "#2a3f5f"
            },
            "type": "carpet"
           }
          ],
          "choropleth": [
           {
            "colorbar": {
             "outlinewidth": 0,
             "ticks": ""
            },
            "type": "choropleth"
           }
          ],
          "contour": [
           {
            "colorbar": {
             "outlinewidth": 0,
             "ticks": ""
            },
            "colorscale": [
             [
              0,
              "#0d0887"
             ],
             [
              0.1111111111111111,
              "#46039f"
             ],
             [
              0.2222222222222222,
              "#7201a8"
             ],
             [
              0.3333333333333333,
              "#9c179e"
             ],
             [
              0.4444444444444444,
              "#bd3786"
             ],
             [
              0.5555555555555556,
              "#d8576b"
             ],
             [
              0.6666666666666666,
              "#ed7953"
             ],
             [
              0.7777777777777778,
              "#fb9f3a"
             ],
             [
              0.8888888888888888,
              "#fdca26"
             ],
             [
              1,
              "#f0f921"
             ]
            ],
            "type": "contour"
           }
          ],
          "contourcarpet": [
           {
            "colorbar": {
             "outlinewidth": 0,
             "ticks": ""
            },
            "type": "contourcarpet"
           }
          ],
          "heatmap": [
           {
            "colorbar": {
             "outlinewidth": 0,
             "ticks": ""
            },
            "colorscale": [
             [
              0,
              "#0d0887"
             ],
             [
              0.1111111111111111,
              "#46039f"
             ],
             [
              0.2222222222222222,
              "#7201a8"
             ],
             [
              0.3333333333333333,
              "#9c179e"
             ],
             [
              0.4444444444444444,
              "#bd3786"
             ],
             [
              0.5555555555555556,
              "#d8576b"
             ],
             [
              0.6666666666666666,
              "#ed7953"
             ],
             [
              0.7777777777777778,
              "#fb9f3a"
             ],
             [
              0.8888888888888888,
              "#fdca26"
             ],
             [
              1,
              "#f0f921"
             ]
            ],
            "type": "heatmap"
           }
          ],
          "heatmapgl": [
           {
            "colorbar": {
             "outlinewidth": 0,
             "ticks": ""
            },
            "colorscale": [
             [
              0,
              "#0d0887"
             ],
             [
              0.1111111111111111,
              "#46039f"
             ],
             [
              0.2222222222222222,
              "#7201a8"
             ],
             [
              0.3333333333333333,
              "#9c179e"
             ],
             [
              0.4444444444444444,
              "#bd3786"
             ],
             [
              0.5555555555555556,
              "#d8576b"
             ],
             [
              0.6666666666666666,
              "#ed7953"
             ],
             [
              0.7777777777777778,
              "#fb9f3a"
             ],
             [
              0.8888888888888888,
              "#fdca26"
             ],
             [
              1,
              "#f0f921"
             ]
            ],
            "type": "heatmapgl"
           }
          ],
          "histogram": [
           {
            "marker": {
             "pattern": {
              "fillmode": "overlay",
              "size": 10,
              "solidity": 0.2
             }
            },
            "type": "histogram"
           }
          ],
          "histogram2d": [
           {
            "colorbar": {
             "outlinewidth": 0,
             "ticks": ""
            },
            "colorscale": [
             [
              0,
              "#0d0887"
             ],
             [
              0.1111111111111111,
              "#46039f"
             ],
             [
              0.2222222222222222,
              "#7201a8"
             ],
             [
              0.3333333333333333,
              "#9c179e"
             ],
             [
              0.4444444444444444,
              "#bd3786"
             ],
             [
              0.5555555555555556,
              "#d8576b"
             ],
             [
              0.6666666666666666,
              "#ed7953"
             ],
             [
              0.7777777777777778,
              "#fb9f3a"
             ],
             [
              0.8888888888888888,
              "#fdca26"
             ],
             [
              1,
              "#f0f921"
             ]
            ],
            "type": "histogram2d"
           }
          ],
          "histogram2dcontour": [
           {
            "colorbar": {
             "outlinewidth": 0,
             "ticks": ""
            },
            "colorscale": [
             [
              0,
              "#0d0887"
             ],
             [
              0.1111111111111111,
              "#46039f"
             ],
             [
              0.2222222222222222,
              "#7201a8"
             ],
             [
              0.3333333333333333,
              "#9c179e"
             ],
             [
              0.4444444444444444,
              "#bd3786"
             ],
             [
              0.5555555555555556,
              "#d8576b"
             ],
             [
              0.6666666666666666,
              "#ed7953"
             ],
             [
              0.7777777777777778,
              "#fb9f3a"
             ],
             [
              0.8888888888888888,
              "#fdca26"
             ],
             [
              1,
              "#f0f921"
             ]
            ],
            "type": "histogram2dcontour"
           }
          ],
          "mesh3d": [
           {
            "colorbar": {
             "outlinewidth": 0,
             "ticks": ""
            },
            "type": "mesh3d"
           }
          ],
          "parcoords": [
           {
            "line": {
             "colorbar": {
              "outlinewidth": 0,
              "ticks": ""
             }
            },
            "type": "parcoords"
           }
          ],
          "pie": [
           {
            "automargin": true,
            "type": "pie"
           }
          ],
          "scatter": [
           {
            "fillpattern": {
             "fillmode": "overlay",
             "size": 10,
             "solidity": 0.2
            },
            "type": "scatter"
           }
          ],
          "scatter3d": [
           {
            "line": {
             "colorbar": {
              "outlinewidth": 0,
              "ticks": ""
             }
            },
            "marker": {
             "colorbar": {
              "outlinewidth": 0,
              "ticks": ""
             }
            },
            "type": "scatter3d"
           }
          ],
          "scattercarpet": [
           {
            "marker": {
             "colorbar": {
              "outlinewidth": 0,
              "ticks": ""
             }
            },
            "type": "scattercarpet"
           }
          ],
          "scattergeo": [
           {
            "marker": {
             "colorbar": {
              "outlinewidth": 0,
              "ticks": ""
             }
            },
            "type": "scattergeo"
           }
          ],
          "scattergl": [
           {
            "marker": {
             "colorbar": {
              "outlinewidth": 0,
              "ticks": ""
             }
            },
            "type": "scattergl"
           }
          ],
          "scattermapbox": [
           {
            "marker": {
             "colorbar": {
              "outlinewidth": 0,
              "ticks": ""
             }
            },
            "type": "scattermapbox"
           }
          ],
          "scatterpolar": [
           {
            "marker": {
             "colorbar": {
              "outlinewidth": 0,
              "ticks": ""
             }
            },
            "type": "scatterpolar"
           }
          ],
          "scatterpolargl": [
           {
            "marker": {
             "colorbar": {
              "outlinewidth": 0,
              "ticks": ""
             }
            },
            "type": "scatterpolargl"
           }
          ],
          "scatterternary": [
           {
            "marker": {
             "colorbar": {
              "outlinewidth": 0,
              "ticks": ""
             }
            },
            "type": "scatterternary"
           }
          ],
          "surface": [
           {
            "colorbar": {
             "outlinewidth": 0,
             "ticks": ""
            },
            "colorscale": [
             [
              0,
              "#0d0887"
             ],
             [
              0.1111111111111111,
              "#46039f"
             ],
             [
              0.2222222222222222,
              "#7201a8"
             ],
             [
              0.3333333333333333,
              "#9c179e"
             ],
             [
              0.4444444444444444,
              "#bd3786"
             ],
             [
              0.5555555555555556,
              "#d8576b"
             ],
             [
              0.6666666666666666,
              "#ed7953"
             ],
             [
              0.7777777777777778,
              "#fb9f3a"
             ],
             [
              0.8888888888888888,
              "#fdca26"
             ],
             [
              1,
              "#f0f921"
             ]
            ],
            "type": "surface"
           }
          ],
          "table": [
           {
            "cells": {
             "fill": {
              "color": "#EBF0F8"
             },
             "line": {
              "color": "white"
             }
            },
            "header": {
             "fill": {
              "color": "#C8D4E3"
             },
             "line": {
              "color": "white"
             }
            },
            "type": "table"
           }
          ]
         },
         "layout": {
          "annotationdefaults": {
           "arrowcolor": "#2a3f5f",
           "arrowhead": 0,
           "arrowwidth": 1
          },
          "autotypenumbers": "strict",
          "coloraxis": {
           "colorbar": {
            "outlinewidth": 0,
            "ticks": ""
           }
          },
          "colorscale": {
           "diverging": [
            [
             0,
             "#8e0152"
            ],
            [
             0.1,
             "#c51b7d"
            ],
            [
             0.2,
             "#de77ae"
            ],
            [
             0.3,
             "#f1b6da"
            ],
            [
             0.4,
             "#fde0ef"
            ],
            [
             0.5,
             "#f7f7f7"
            ],
            [
             0.6,
             "#e6f5d0"
            ],
            [
             0.7,
             "#b8e186"
            ],
            [
             0.8,
             "#7fbc41"
            ],
            [
             0.9,
             "#4d9221"
            ],
            [
             1,
             "#276419"
            ]
           ],
           "sequential": [
            [
             0,
             "#0d0887"
            ],
            [
             0.1111111111111111,
             "#46039f"
            ],
            [
             0.2222222222222222,
             "#7201a8"
            ],
            [
             0.3333333333333333,
             "#9c179e"
            ],
            [
             0.4444444444444444,
             "#bd3786"
            ],
            [
             0.5555555555555556,
             "#d8576b"
            ],
            [
             0.6666666666666666,
             "#ed7953"
            ],
            [
             0.7777777777777778,
             "#fb9f3a"
            ],
            [
             0.8888888888888888,
             "#fdca26"
            ],
            [
             1,
             "#f0f921"
            ]
           ],
           "sequentialminus": [
            [
             0,
             "#0d0887"
            ],
            [
             0.1111111111111111,
             "#46039f"
            ],
            [
             0.2222222222222222,
             "#7201a8"
            ],
            [
             0.3333333333333333,
             "#9c179e"
            ],
            [
             0.4444444444444444,
             "#bd3786"
            ],
            [
             0.5555555555555556,
             "#d8576b"
            ],
            [
             0.6666666666666666,
             "#ed7953"
            ],
            [
             0.7777777777777778,
             "#fb9f3a"
            ],
            [
             0.8888888888888888,
             "#fdca26"
            ],
            [
             1,
             "#f0f921"
            ]
           ]
          },
          "colorway": [
           "#636efa",
           "#EF553B",
           "#00cc96",
           "#ab63fa",
           "#FFA15A",
           "#19d3f3",
           "#FF6692",
           "#B6E880",
           "#FF97FF",
           "#FECB52"
          ],
          "font": {
           "color": "#2a3f5f"
          },
          "geo": {
           "bgcolor": "white",
           "lakecolor": "white",
           "landcolor": "#E5ECF6",
           "showlakes": true,
           "showland": true,
           "subunitcolor": "white"
          },
          "hoverlabel": {
           "align": "left"
          },
          "hovermode": "closest",
          "mapbox": {
           "style": "light"
          },
          "paper_bgcolor": "white",
          "plot_bgcolor": "#E5ECF6",
          "polar": {
           "angularaxis": {
            "gridcolor": "white",
            "linecolor": "white",
            "ticks": ""
           },
           "bgcolor": "#E5ECF6",
           "radialaxis": {
            "gridcolor": "white",
            "linecolor": "white",
            "ticks": ""
           }
          },
          "scene": {
           "xaxis": {
            "backgroundcolor": "#E5ECF6",
            "gridcolor": "white",
            "gridwidth": 2,
            "linecolor": "white",
            "showbackground": true,
            "ticks": "",
            "zerolinecolor": "white"
           },
           "yaxis": {
            "backgroundcolor": "#E5ECF6",
            "gridcolor": "white",
            "gridwidth": 2,
            "linecolor": "white",
            "showbackground": true,
            "ticks": "",
            "zerolinecolor": "white"
           },
           "zaxis": {
            "backgroundcolor": "#E5ECF6",
            "gridcolor": "white",
            "gridwidth": 2,
            "linecolor": "white",
            "showbackground": true,
            "ticks": "",
            "zerolinecolor": "white"
           }
          },
          "shapedefaults": {
           "line": {
            "color": "#2a3f5f"
           }
          },
          "ternary": {
           "aaxis": {
            "gridcolor": "white",
            "linecolor": "white",
            "ticks": ""
           },
           "baxis": {
            "gridcolor": "white",
            "linecolor": "white",
            "ticks": ""
           },
           "bgcolor": "#E5ECF6",
           "caxis": {
            "gridcolor": "white",
            "linecolor": "white",
            "ticks": ""
           }
          },
          "title": {
           "x": 0.05
          },
          "xaxis": {
           "automargin": true,
           "gridcolor": "white",
           "linecolor": "white",
           "ticks": "",
           "title": {
            "standoff": 15
           },
           "zerolinecolor": "white",
           "zerolinewidth": 2
          },
          "yaxis": {
           "automargin": true,
           "gridcolor": "white",
           "linecolor": "white",
           "ticks": "",
           "title": {
            "standoff": 15
           },
           "zerolinecolor": "white",
           "zerolinewidth": 2
          }
         }
        },
        "title": {
         "font": {
          "color": "#4D5663"
         }
        },
        "xaxis": {
         "gridcolor": "#E1E5ED",
         "showgrid": true,
         "tickfont": {
          "color": "#4D5663"
         },
         "title": {
          "font": {
           "color": "#4D5663"
          },
          "text": ""
         },
         "zerolinecolor": "#E1E5ED"
        },
        "yaxis": {
         "gridcolor": "#E1E5ED",
         "showgrid": true,
         "tickfont": {
          "color": "#4D5663"
         },
         "title": {
          "font": {
           "color": "#4D5663"
          },
          "text": ""
         },
         "zerolinecolor": "#E1E5ED"
        }
       }
      },
      "text/html": [
       "<div>                            <div id=\"4a3799d9-e1bf-4f4d-aa2b-f81060708a57\" class=\"plotly-graph-div\" style=\"height:525px; width:100%;\"></div>            <script type=\"text/javascript\">                require([\"plotly\"], function(Plotly) {                    window.PLOTLYENV=window.PLOTLYENV || {};\n",
       "                    window.PLOTLYENV.BASE_URL='https://plot.ly';                                    if (document.getElementById(\"4a3799d9-e1bf-4f4d-aa2b-f81060708a57\")) {                    Plotly.newPlot(                        \"4a3799d9-e1bf-4f4d-aa2b-f81060708a57\",                        [{\"marker\":{\"color\":\"rgba(255, 153, 51, 0.6)\",\"line\":{\"color\":\"rgba(255, 153, 51, 1.0)\",\"width\":1}},\"name\":\"Values\",\"orientation\":\"v\",\"text\":\"\",\"x\":[\"A\",\"B\",\"C\"],\"y\":[32,43,50],\"type\":\"bar\"}],                        {\"legend\":{\"bgcolor\":\"#F5F6F9\",\"font\":{\"color\":\"#4D5663\"}},\"paper_bgcolor\":\"#F5F6F9\",\"plot_bgcolor\":\"#F5F6F9\",\"template\":{\"data\":{\"barpolar\":[{\"marker\":{\"line\":{\"color\":\"#E5ECF6\",\"width\":0.5},\"pattern\":{\"fillmode\":\"overlay\",\"size\":10,\"solidity\":0.2}},\"type\":\"barpolar\"}],\"bar\":[{\"error_x\":{\"color\":\"#2a3f5f\"},\"error_y\":{\"color\":\"#2a3f5f\"},\"marker\":{\"line\":{\"color\":\"#E5ECF6\",\"width\":0.5},\"pattern\":{\"fillmode\":\"overlay\",\"size\":10,\"solidity\":0.2}},\"type\":\"bar\"}],\"carpet\":[{\"aaxis\":{\"endlinecolor\":\"#2a3f5f\",\"gridcolor\":\"white\",\"linecolor\":\"white\",\"minorgridcolor\":\"white\",\"startlinecolor\":\"#2a3f5f\"},\"baxis\":{\"endlinecolor\":\"#2a3f5f\",\"gridcolor\":\"white\",\"linecolor\":\"white\",\"minorgridcolor\":\"white\",\"startlinecolor\":\"#2a3f5f\"},\"type\":\"carpet\"}],\"choropleth\":[{\"colorbar\":{\"outlinewidth\":0,\"ticks\":\"\"},\"type\":\"choropleth\"}],\"contourcarpet\":[{\"colorbar\":{\"outlinewidth\":0,\"ticks\":\"\"},\"type\":\"contourcarpet\"}],\"contour\":[{\"colorbar\":{\"outlinewidth\":0,\"ticks\":\"\"},\"colorscale\":[[0.0,\"#0d0887\"],[0.1111111111111111,\"#46039f\"],[0.2222222222222222,\"#7201a8\"],[0.3333333333333333,\"#9c179e\"],[0.4444444444444444,\"#bd3786\"],[0.5555555555555556,\"#d8576b\"],[0.6666666666666666,\"#ed7953\"],[0.7777777777777778,\"#fb9f3a\"],[0.8888888888888888,\"#fdca26\"],[1.0,\"#f0f921\"]],\"type\":\"contour\"}],\"heatmapgl\":[{\"colorbar\":{\"outlinewidth\":0,\"ticks\":\"\"},\"colorscale\":[[0.0,\"#0d0887\"],[0.1111111111111111,\"#46039f\"],[0.2222222222222222,\"#7201a8\"],[0.3333333333333333,\"#9c179e\"],[0.4444444444444444,\"#bd3786\"],[0.5555555555555556,\"#d8576b\"],[0.6666666666666666,\"#ed7953\"],[0.7777777777777778,\"#fb9f3a\"],[0.8888888888888888,\"#fdca26\"],[1.0,\"#f0f921\"]],\"type\":\"heatmapgl\"}],\"heatmap\":[{\"colorbar\":{\"outlinewidth\":0,\"ticks\":\"\"},\"colorscale\":[[0.0,\"#0d0887\"],[0.1111111111111111,\"#46039f\"],[0.2222222222222222,\"#7201a8\"],[0.3333333333333333,\"#9c179e\"],[0.4444444444444444,\"#bd3786\"],[0.5555555555555556,\"#d8576b\"],[0.6666666666666666,\"#ed7953\"],[0.7777777777777778,\"#fb9f3a\"],[0.8888888888888888,\"#fdca26\"],[1.0,\"#f0f921\"]],\"type\":\"heatmap\"}],\"histogram2dcontour\":[{\"colorbar\":{\"outlinewidth\":0,\"ticks\":\"\"},\"colorscale\":[[0.0,\"#0d0887\"],[0.1111111111111111,\"#46039f\"],[0.2222222222222222,\"#7201a8\"],[0.3333333333333333,\"#9c179e\"],[0.4444444444444444,\"#bd3786\"],[0.5555555555555556,\"#d8576b\"],[0.6666666666666666,\"#ed7953\"],[0.7777777777777778,\"#fb9f3a\"],[0.8888888888888888,\"#fdca26\"],[1.0,\"#f0f921\"]],\"type\":\"histogram2dcontour\"}],\"histogram2d\":[{\"colorbar\":{\"outlinewidth\":0,\"ticks\":\"\"},\"colorscale\":[[0.0,\"#0d0887\"],[0.1111111111111111,\"#46039f\"],[0.2222222222222222,\"#7201a8\"],[0.3333333333333333,\"#9c179e\"],[0.4444444444444444,\"#bd3786\"],[0.5555555555555556,\"#d8576b\"],[0.6666666666666666,\"#ed7953\"],[0.7777777777777778,\"#fb9f3a\"],[0.8888888888888888,\"#fdca26\"],[1.0,\"#f0f921\"]],\"type\":\"histogram2d\"}],\"histogram\":[{\"marker\":{\"pattern\":{\"fillmode\":\"overlay\",\"size\":10,\"solidity\":0.2}},\"type\":\"histogram\"}],\"mesh3d\":[{\"colorbar\":{\"outlinewidth\":0,\"ticks\":\"\"},\"type\":\"mesh3d\"}],\"parcoords\":[{\"line\":{\"colorbar\":{\"outlinewidth\":0,\"ticks\":\"\"}},\"type\":\"parcoords\"}],\"pie\":[{\"automargin\":true,\"type\":\"pie\"}],\"scatter3d\":[{\"line\":{\"colorbar\":{\"outlinewidth\":0,\"ticks\":\"\"}},\"marker\":{\"colorbar\":{\"outlinewidth\":0,\"ticks\":\"\"}},\"type\":\"scatter3d\"}],\"scattercarpet\":[{\"marker\":{\"colorbar\":{\"outlinewidth\":0,\"ticks\":\"\"}},\"type\":\"scattercarpet\"}],\"scattergeo\":[{\"marker\":{\"colorbar\":{\"outlinewidth\":0,\"ticks\":\"\"}},\"type\":\"scattergeo\"}],\"scattergl\":[{\"marker\":{\"colorbar\":{\"outlinewidth\":0,\"ticks\":\"\"}},\"type\":\"scattergl\"}],\"scattermapbox\":[{\"marker\":{\"colorbar\":{\"outlinewidth\":0,\"ticks\":\"\"}},\"type\":\"scattermapbox\"}],\"scatterpolargl\":[{\"marker\":{\"colorbar\":{\"outlinewidth\":0,\"ticks\":\"\"}},\"type\":\"scatterpolargl\"}],\"scatterpolar\":[{\"marker\":{\"colorbar\":{\"outlinewidth\":0,\"ticks\":\"\"}},\"type\":\"scatterpolar\"}],\"scatter\":[{\"fillpattern\":{\"fillmode\":\"overlay\",\"size\":10,\"solidity\":0.2},\"type\":\"scatter\"}],\"scatterternary\":[{\"marker\":{\"colorbar\":{\"outlinewidth\":0,\"ticks\":\"\"}},\"type\":\"scatterternary\"}],\"surface\":[{\"colorbar\":{\"outlinewidth\":0,\"ticks\":\"\"},\"colorscale\":[[0.0,\"#0d0887\"],[0.1111111111111111,\"#46039f\"],[0.2222222222222222,\"#7201a8\"],[0.3333333333333333,\"#9c179e\"],[0.4444444444444444,\"#bd3786\"],[0.5555555555555556,\"#d8576b\"],[0.6666666666666666,\"#ed7953\"],[0.7777777777777778,\"#fb9f3a\"],[0.8888888888888888,\"#fdca26\"],[1.0,\"#f0f921\"]],\"type\":\"surface\"}],\"table\":[{\"cells\":{\"fill\":{\"color\":\"#EBF0F8\"},\"line\":{\"color\":\"white\"}},\"header\":{\"fill\":{\"color\":\"#C8D4E3\"},\"line\":{\"color\":\"white\"}},\"type\":\"table\"}]},\"layout\":{\"annotationdefaults\":{\"arrowcolor\":\"#2a3f5f\",\"arrowhead\":0,\"arrowwidth\":1},\"autotypenumbers\":\"strict\",\"coloraxis\":{\"colorbar\":{\"outlinewidth\":0,\"ticks\":\"\"}},\"colorscale\":{\"diverging\":[[0,\"#8e0152\"],[0.1,\"#c51b7d\"],[0.2,\"#de77ae\"],[0.3,\"#f1b6da\"],[0.4,\"#fde0ef\"],[0.5,\"#f7f7f7\"],[0.6,\"#e6f5d0\"],[0.7,\"#b8e186\"],[0.8,\"#7fbc41\"],[0.9,\"#4d9221\"],[1,\"#276419\"]],\"sequential\":[[0.0,\"#0d0887\"],[0.1111111111111111,\"#46039f\"],[0.2222222222222222,\"#7201a8\"],[0.3333333333333333,\"#9c179e\"],[0.4444444444444444,\"#bd3786\"],[0.5555555555555556,\"#d8576b\"],[0.6666666666666666,\"#ed7953\"],[0.7777777777777778,\"#fb9f3a\"],[0.8888888888888888,\"#fdca26\"],[1.0,\"#f0f921\"]],\"sequentialminus\":[[0.0,\"#0d0887\"],[0.1111111111111111,\"#46039f\"],[0.2222222222222222,\"#7201a8\"],[0.3333333333333333,\"#9c179e\"],[0.4444444444444444,\"#bd3786\"],[0.5555555555555556,\"#d8576b\"],[0.6666666666666666,\"#ed7953\"],[0.7777777777777778,\"#fb9f3a\"],[0.8888888888888888,\"#fdca26\"],[1.0,\"#f0f921\"]]},\"colorway\":[\"#636efa\",\"#EF553B\",\"#00cc96\",\"#ab63fa\",\"#FFA15A\",\"#19d3f3\",\"#FF6692\",\"#B6E880\",\"#FF97FF\",\"#FECB52\"],\"font\":{\"color\":\"#2a3f5f\"},\"geo\":{\"bgcolor\":\"white\",\"lakecolor\":\"white\",\"landcolor\":\"#E5ECF6\",\"showlakes\":true,\"showland\":true,\"subunitcolor\":\"white\"},\"hoverlabel\":{\"align\":\"left\"},\"hovermode\":\"closest\",\"mapbox\":{\"style\":\"light\"},\"paper_bgcolor\":\"white\",\"plot_bgcolor\":\"#E5ECF6\",\"polar\":{\"angularaxis\":{\"gridcolor\":\"white\",\"linecolor\":\"white\",\"ticks\":\"\"},\"bgcolor\":\"#E5ECF6\",\"radialaxis\":{\"gridcolor\":\"white\",\"linecolor\":\"white\",\"ticks\":\"\"}},\"scene\":{\"xaxis\":{\"backgroundcolor\":\"#E5ECF6\",\"gridcolor\":\"white\",\"gridwidth\":2,\"linecolor\":\"white\",\"showbackground\":true,\"ticks\":\"\",\"zerolinecolor\":\"white\"},\"yaxis\":{\"backgroundcolor\":\"#E5ECF6\",\"gridcolor\":\"white\",\"gridwidth\":2,\"linecolor\":\"white\",\"showbackground\":true,\"ticks\":\"\",\"zerolinecolor\":\"white\"},\"zaxis\":{\"backgroundcolor\":\"#E5ECF6\",\"gridcolor\":\"white\",\"gridwidth\":2,\"linecolor\":\"white\",\"showbackground\":true,\"ticks\":\"\",\"zerolinecolor\":\"white\"}},\"shapedefaults\":{\"line\":{\"color\":\"#2a3f5f\"}},\"ternary\":{\"aaxis\":{\"gridcolor\":\"white\",\"linecolor\":\"white\",\"ticks\":\"\"},\"baxis\":{\"gridcolor\":\"white\",\"linecolor\":\"white\",\"ticks\":\"\"},\"bgcolor\":\"#E5ECF6\",\"caxis\":{\"gridcolor\":\"white\",\"linecolor\":\"white\",\"ticks\":\"\"}},\"title\":{\"x\":0.05},\"xaxis\":{\"automargin\":true,\"gridcolor\":\"white\",\"linecolor\":\"white\",\"ticks\":\"\",\"title\":{\"standoff\":15},\"zerolinecolor\":\"white\",\"zerolinewidth\":2},\"yaxis\":{\"automargin\":true,\"gridcolor\":\"white\",\"linecolor\":\"white\",\"ticks\":\"\",\"title\":{\"standoff\":15},\"zerolinecolor\":\"white\",\"zerolinewidth\":2}}},\"title\":{\"font\":{\"color\":\"#4D5663\"}},\"xaxis\":{\"gridcolor\":\"#E1E5ED\",\"showgrid\":true,\"tickfont\":{\"color\":\"#4D5663\"},\"title\":{\"font\":{\"color\":\"#4D5663\"},\"text\":\"\"},\"zerolinecolor\":\"#E1E5ED\"},\"yaxis\":{\"gridcolor\":\"#E1E5ED\",\"showgrid\":true,\"tickfont\":{\"color\":\"#4D5663\"},\"title\":{\"font\":{\"color\":\"#4D5663\"},\"text\":\"\"},\"zerolinecolor\":\"#E1E5ED\"}},                        {\"showLink\": true, \"linkText\": \"Export to plot.ly\", \"plotlyServerURL\": \"https://plot.ly\", \"responsive\": true}                    ).then(function(){\n",
       "                            \n",
       "var gd = document.getElementById('4a3799d9-e1bf-4f4d-aa2b-f81060708a57');\n",
       "var x = new MutationObserver(function (mutations, observer) {{\n",
       "        var display = window.getComputedStyle(gd).display;\n",
       "        if (!display || display === 'none') {{\n",
       "            console.log([gd, 'removed!']);\n",
       "            Plotly.purge(gd);\n",
       "            observer.disconnect();\n",
       "        }}\n",
       "}});\n",
       "\n",
       "// Listen for the removal of the full notebook cells\n",
       "var notebookContainer = gd.closest('#notebook-container');\n",
       "if (notebookContainer) {{\n",
       "    x.observe(notebookContainer, {childList: true});\n",
       "}}\n",
       "\n",
       "// Listen for the clearing of the current output cell\n",
       "var outputEl = gd.closest('.output');\n",
       "if (outputEl) {{\n",
       "    x.observe(outputEl, {childList: true});\n",
       "}}\n",
       "\n",
       "                        })                };                });            </script>        </div>"
      ]
     },
     "metadata": {},
     "output_type": "display_data"
    }
   ],
   "source": [
    "df2.iplot(kind='bar',x='Category',y='Values')"
   ]
  },
  {
   "cell_type": "code",
   "execution_count": 8,
   "id": "ab6a0c4d",
   "metadata": {},
   "outputs": [
    {
     "data": {
      "application/vnd.plotly.v1+json": {
       "config": {
        "linkText": "Export to plot.ly",
        "plotlyServerURL": "https://plot.ly",
        "showLink": true
       },
       "data": [
        {
         "marker": {
          "color": "rgba(255, 153, 51, 0.6)",
          "line": {
           "color": "rgba(255, 153, 51, 1.0)",
           "width": 1
          }
         },
         "name": "None",
         "orientation": "v",
         "text": "",
         "type": "bar",
         "x": [
          "A",
          "B",
          "C",
          "D"
         ],
         "y": [
          100,
          100,
          100,
          100
         ]
        }
       ],
       "layout": {
        "legend": {
         "bgcolor": "#F5F6F9",
         "font": {
          "color": "#4D5663"
         }
        },
        "paper_bgcolor": "#F5F6F9",
        "plot_bgcolor": "#F5F6F9",
        "template": {
         "data": {
          "bar": [
           {
            "error_x": {
             "color": "#2a3f5f"
            },
            "error_y": {
             "color": "#2a3f5f"
            },
            "marker": {
             "line": {
              "color": "#E5ECF6",
              "width": 0.5
             },
             "pattern": {
              "fillmode": "overlay",
              "size": 10,
              "solidity": 0.2
             }
            },
            "type": "bar"
           }
          ],
          "barpolar": [
           {
            "marker": {
             "line": {
              "color": "#E5ECF6",
              "width": 0.5
             },
             "pattern": {
              "fillmode": "overlay",
              "size": 10,
              "solidity": 0.2
             }
            },
            "type": "barpolar"
           }
          ],
          "carpet": [
           {
            "aaxis": {
             "endlinecolor": "#2a3f5f",
             "gridcolor": "white",
             "linecolor": "white",
             "minorgridcolor": "white",
             "startlinecolor": "#2a3f5f"
            },
            "baxis": {
             "endlinecolor": "#2a3f5f",
             "gridcolor": "white",
             "linecolor": "white",
             "minorgridcolor": "white",
             "startlinecolor": "#2a3f5f"
            },
            "type": "carpet"
           }
          ],
          "choropleth": [
           {
            "colorbar": {
             "outlinewidth": 0,
             "ticks": ""
            },
            "type": "choropleth"
           }
          ],
          "contour": [
           {
            "colorbar": {
             "outlinewidth": 0,
             "ticks": ""
            },
            "colorscale": [
             [
              0,
              "#0d0887"
             ],
             [
              0.1111111111111111,
              "#46039f"
             ],
             [
              0.2222222222222222,
              "#7201a8"
             ],
             [
              0.3333333333333333,
              "#9c179e"
             ],
             [
              0.4444444444444444,
              "#bd3786"
             ],
             [
              0.5555555555555556,
              "#d8576b"
             ],
             [
              0.6666666666666666,
              "#ed7953"
             ],
             [
              0.7777777777777778,
              "#fb9f3a"
             ],
             [
              0.8888888888888888,
              "#fdca26"
             ],
             [
              1,
              "#f0f921"
             ]
            ],
            "type": "contour"
           }
          ],
          "contourcarpet": [
           {
            "colorbar": {
             "outlinewidth": 0,
             "ticks": ""
            },
            "type": "contourcarpet"
           }
          ],
          "heatmap": [
           {
            "colorbar": {
             "outlinewidth": 0,
             "ticks": ""
            },
            "colorscale": [
             [
              0,
              "#0d0887"
             ],
             [
              0.1111111111111111,
              "#46039f"
             ],
             [
              0.2222222222222222,
              "#7201a8"
             ],
             [
              0.3333333333333333,
              "#9c179e"
             ],
             [
              0.4444444444444444,
              "#bd3786"
             ],
             [
              0.5555555555555556,
              "#d8576b"
             ],
             [
              0.6666666666666666,
              "#ed7953"
             ],
             [
              0.7777777777777778,
              "#fb9f3a"
             ],
             [
              0.8888888888888888,
              "#fdca26"
             ],
             [
              1,
              "#f0f921"
             ]
            ],
            "type": "heatmap"
           }
          ],
          "heatmapgl": [
           {
            "colorbar": {
             "outlinewidth": 0,
             "ticks": ""
            },
            "colorscale": [
             [
              0,
              "#0d0887"
             ],
             [
              0.1111111111111111,
              "#46039f"
             ],
             [
              0.2222222222222222,
              "#7201a8"
             ],
             [
              0.3333333333333333,
              "#9c179e"
             ],
             [
              0.4444444444444444,
              "#bd3786"
             ],
             [
              0.5555555555555556,
              "#d8576b"
             ],
             [
              0.6666666666666666,
              "#ed7953"
             ],
             [
              0.7777777777777778,
              "#fb9f3a"
             ],
             [
              0.8888888888888888,
              "#fdca26"
             ],
             [
              1,
              "#f0f921"
             ]
            ],
            "type": "heatmapgl"
           }
          ],
          "histogram": [
           {
            "marker": {
             "pattern": {
              "fillmode": "overlay",
              "size": 10,
              "solidity": 0.2
             }
            },
            "type": "histogram"
           }
          ],
          "histogram2d": [
           {
            "colorbar": {
             "outlinewidth": 0,
             "ticks": ""
            },
            "colorscale": [
             [
              0,
              "#0d0887"
             ],
             [
              0.1111111111111111,
              "#46039f"
             ],
             [
              0.2222222222222222,
              "#7201a8"
             ],
             [
              0.3333333333333333,
              "#9c179e"
             ],
             [
              0.4444444444444444,
              "#bd3786"
             ],
             [
              0.5555555555555556,
              "#d8576b"
             ],
             [
              0.6666666666666666,
              "#ed7953"
             ],
             [
              0.7777777777777778,
              "#fb9f3a"
             ],
             [
              0.8888888888888888,
              "#fdca26"
             ],
             [
              1,
              "#f0f921"
             ]
            ],
            "type": "histogram2d"
           }
          ],
          "histogram2dcontour": [
           {
            "colorbar": {
             "outlinewidth": 0,
             "ticks": ""
            },
            "colorscale": [
             [
              0,
              "#0d0887"
             ],
             [
              0.1111111111111111,
              "#46039f"
             ],
             [
              0.2222222222222222,
              "#7201a8"
             ],
             [
              0.3333333333333333,
              "#9c179e"
             ],
             [
              0.4444444444444444,
              "#bd3786"
             ],
             [
              0.5555555555555556,
              "#d8576b"
             ],
             [
              0.6666666666666666,
              "#ed7953"
             ],
             [
              0.7777777777777778,
              "#fb9f3a"
             ],
             [
              0.8888888888888888,
              "#fdca26"
             ],
             [
              1,
              "#f0f921"
             ]
            ],
            "type": "histogram2dcontour"
           }
          ],
          "mesh3d": [
           {
            "colorbar": {
             "outlinewidth": 0,
             "ticks": ""
            },
            "type": "mesh3d"
           }
          ],
          "parcoords": [
           {
            "line": {
             "colorbar": {
              "outlinewidth": 0,
              "ticks": ""
             }
            },
            "type": "parcoords"
           }
          ],
          "pie": [
           {
            "automargin": true,
            "type": "pie"
           }
          ],
          "scatter": [
           {
            "fillpattern": {
             "fillmode": "overlay",
             "size": 10,
             "solidity": 0.2
            },
            "type": "scatter"
           }
          ],
          "scatter3d": [
           {
            "line": {
             "colorbar": {
              "outlinewidth": 0,
              "ticks": ""
             }
            },
            "marker": {
             "colorbar": {
              "outlinewidth": 0,
              "ticks": ""
             }
            },
            "type": "scatter3d"
           }
          ],
          "scattercarpet": [
           {
            "marker": {
             "colorbar": {
              "outlinewidth": 0,
              "ticks": ""
             }
            },
            "type": "scattercarpet"
           }
          ],
          "scattergeo": [
           {
            "marker": {
             "colorbar": {
              "outlinewidth": 0,
              "ticks": ""
             }
            },
            "type": "scattergeo"
           }
          ],
          "scattergl": [
           {
            "marker": {
             "colorbar": {
              "outlinewidth": 0,
              "ticks": ""
             }
            },
            "type": "scattergl"
           }
          ],
          "scattermapbox": [
           {
            "marker": {
             "colorbar": {
              "outlinewidth": 0,
              "ticks": ""
             }
            },
            "type": "scattermapbox"
           }
          ],
          "scatterpolar": [
           {
            "marker": {
             "colorbar": {
              "outlinewidth": 0,
              "ticks": ""
             }
            },
            "type": "scatterpolar"
           }
          ],
          "scatterpolargl": [
           {
            "marker": {
             "colorbar": {
              "outlinewidth": 0,
              "ticks": ""
             }
            },
            "type": "scatterpolargl"
           }
          ],
          "scatterternary": [
           {
            "marker": {
             "colorbar": {
              "outlinewidth": 0,
              "ticks": ""
             }
            },
            "type": "scatterternary"
           }
          ],
          "surface": [
           {
            "colorbar": {
             "outlinewidth": 0,
             "ticks": ""
            },
            "colorscale": [
             [
              0,
              "#0d0887"
             ],
             [
              0.1111111111111111,
              "#46039f"
             ],
             [
              0.2222222222222222,
              "#7201a8"
             ],
             [
              0.3333333333333333,
              "#9c179e"
             ],
             [
              0.4444444444444444,
              "#bd3786"
             ],
             [
              0.5555555555555556,
              "#d8576b"
             ],
             [
              0.6666666666666666,
              "#ed7953"
             ],
             [
              0.7777777777777778,
              "#fb9f3a"
             ],
             [
              0.8888888888888888,
              "#fdca26"
             ],
             [
              1,
              "#f0f921"
             ]
            ],
            "type": "surface"
           }
          ],
          "table": [
           {
            "cells": {
             "fill": {
              "color": "#EBF0F8"
             },
             "line": {
              "color": "white"
             }
            },
            "header": {
             "fill": {
              "color": "#C8D4E3"
             },
             "line": {
              "color": "white"
             }
            },
            "type": "table"
           }
          ]
         },
         "layout": {
          "annotationdefaults": {
           "arrowcolor": "#2a3f5f",
           "arrowhead": 0,
           "arrowwidth": 1
          },
          "autotypenumbers": "strict",
          "coloraxis": {
           "colorbar": {
            "outlinewidth": 0,
            "ticks": ""
           }
          },
          "colorscale": {
           "diverging": [
            [
             0,
             "#8e0152"
            ],
            [
             0.1,
             "#c51b7d"
            ],
            [
             0.2,
             "#de77ae"
            ],
            [
             0.3,
             "#f1b6da"
            ],
            [
             0.4,
             "#fde0ef"
            ],
            [
             0.5,
             "#f7f7f7"
            ],
            [
             0.6,
             "#e6f5d0"
            ],
            [
             0.7,
             "#b8e186"
            ],
            [
             0.8,
             "#7fbc41"
            ],
            [
             0.9,
             "#4d9221"
            ],
            [
             1,
             "#276419"
            ]
           ],
           "sequential": [
            [
             0,
             "#0d0887"
            ],
            [
             0.1111111111111111,
             "#46039f"
            ],
            [
             0.2222222222222222,
             "#7201a8"
            ],
            [
             0.3333333333333333,
             "#9c179e"
            ],
            [
             0.4444444444444444,
             "#bd3786"
            ],
            [
             0.5555555555555556,
             "#d8576b"
            ],
            [
             0.6666666666666666,
             "#ed7953"
            ],
            [
             0.7777777777777778,
             "#fb9f3a"
            ],
            [
             0.8888888888888888,
             "#fdca26"
            ],
            [
             1,
             "#f0f921"
            ]
           ],
           "sequentialminus": [
            [
             0,
             "#0d0887"
            ],
            [
             0.1111111111111111,
             "#46039f"
            ],
            [
             0.2222222222222222,
             "#7201a8"
            ],
            [
             0.3333333333333333,
             "#9c179e"
            ],
            [
             0.4444444444444444,
             "#bd3786"
            ],
            [
             0.5555555555555556,
             "#d8576b"
            ],
            [
             0.6666666666666666,
             "#ed7953"
            ],
            [
             0.7777777777777778,
             "#fb9f3a"
            ],
            [
             0.8888888888888888,
             "#fdca26"
            ],
            [
             1,
             "#f0f921"
            ]
           ]
          },
          "colorway": [
           "#636efa",
           "#EF553B",
           "#00cc96",
           "#ab63fa",
           "#FFA15A",
           "#19d3f3",
           "#FF6692",
           "#B6E880",
           "#FF97FF",
           "#FECB52"
          ],
          "font": {
           "color": "#2a3f5f"
          },
          "geo": {
           "bgcolor": "white",
           "lakecolor": "white",
           "landcolor": "#E5ECF6",
           "showlakes": true,
           "showland": true,
           "subunitcolor": "white"
          },
          "hoverlabel": {
           "align": "left"
          },
          "hovermode": "closest",
          "mapbox": {
           "style": "light"
          },
          "paper_bgcolor": "white",
          "plot_bgcolor": "#E5ECF6",
          "polar": {
           "angularaxis": {
            "gridcolor": "white",
            "linecolor": "white",
            "ticks": ""
           },
           "bgcolor": "#E5ECF6",
           "radialaxis": {
            "gridcolor": "white",
            "linecolor": "white",
            "ticks": ""
           }
          },
          "scene": {
           "xaxis": {
            "backgroundcolor": "#E5ECF6",
            "gridcolor": "white",
            "gridwidth": 2,
            "linecolor": "white",
            "showbackground": true,
            "ticks": "",
            "zerolinecolor": "white"
           },
           "yaxis": {
            "backgroundcolor": "#E5ECF6",
            "gridcolor": "white",
            "gridwidth": 2,
            "linecolor": "white",
            "showbackground": true,
            "ticks": "",
            "zerolinecolor": "white"
           },
           "zaxis": {
            "backgroundcolor": "#E5ECF6",
            "gridcolor": "white",
            "gridwidth": 2,
            "linecolor": "white",
            "showbackground": true,
            "ticks": "",
            "zerolinecolor": "white"
           }
          },
          "shapedefaults": {
           "line": {
            "color": "#2a3f5f"
           }
          },
          "ternary": {
           "aaxis": {
            "gridcolor": "white",
            "linecolor": "white",
            "ticks": ""
           },
           "baxis": {
            "gridcolor": "white",
            "linecolor": "white",
            "ticks": ""
           },
           "bgcolor": "#E5ECF6",
           "caxis": {
            "gridcolor": "white",
            "linecolor": "white",
            "ticks": ""
           }
          },
          "title": {
           "x": 0.05
          },
          "xaxis": {
           "automargin": true,
           "gridcolor": "white",
           "linecolor": "white",
           "ticks": "",
           "title": {
            "standoff": 15
           },
           "zerolinecolor": "white",
           "zerolinewidth": 2
          },
          "yaxis": {
           "automargin": true,
           "gridcolor": "white",
           "linecolor": "white",
           "ticks": "",
           "title": {
            "standoff": 15
           },
           "zerolinecolor": "white",
           "zerolinewidth": 2
          }
         }
        },
        "title": {
         "font": {
          "color": "#4D5663"
         }
        },
        "xaxis": {
         "gridcolor": "#E1E5ED",
         "showgrid": true,
         "tickfont": {
          "color": "#4D5663"
         },
         "title": {
          "font": {
           "color": "#4D5663"
          },
          "text": ""
         },
         "zerolinecolor": "#E1E5ED"
        },
        "yaxis": {
         "gridcolor": "#E1E5ED",
         "showgrid": true,
         "tickfont": {
          "color": "#4D5663"
         },
         "title": {
          "font": {
           "color": "#4D5663"
          },
          "text": ""
         },
         "zerolinecolor": "#E1E5ED"
        }
       }
      },
      "text/html": [
       "<div>                            <div id=\"1b3a24a5-504f-4d35-8f5e-4a61070bab44\" class=\"plotly-graph-div\" style=\"height:525px; width:100%;\"></div>            <script type=\"text/javascript\">                require([\"plotly\"], function(Plotly) {                    window.PLOTLYENV=window.PLOTLYENV || {};\n",
       "                    window.PLOTLYENV.BASE_URL='https://plot.ly';                                    if (document.getElementById(\"1b3a24a5-504f-4d35-8f5e-4a61070bab44\")) {                    Plotly.newPlot(                        \"1b3a24a5-504f-4d35-8f5e-4a61070bab44\",                        [{\"marker\":{\"color\":\"rgba(255, 153, 51, 0.6)\",\"line\":{\"color\":\"rgba(255, 153, 51, 1.0)\",\"width\":1}},\"name\":\"None\",\"orientation\":\"v\",\"text\":\"\",\"x\":[\"A\",\"B\",\"C\",\"D\"],\"y\":[100,100,100,100],\"type\":\"bar\"}],                        {\"legend\":{\"bgcolor\":\"#F5F6F9\",\"font\":{\"color\":\"#4D5663\"}},\"paper_bgcolor\":\"#F5F6F9\",\"plot_bgcolor\":\"#F5F6F9\",\"template\":{\"data\":{\"barpolar\":[{\"marker\":{\"line\":{\"color\":\"#E5ECF6\",\"width\":0.5},\"pattern\":{\"fillmode\":\"overlay\",\"size\":10,\"solidity\":0.2}},\"type\":\"barpolar\"}],\"bar\":[{\"error_x\":{\"color\":\"#2a3f5f\"},\"error_y\":{\"color\":\"#2a3f5f\"},\"marker\":{\"line\":{\"color\":\"#E5ECF6\",\"width\":0.5},\"pattern\":{\"fillmode\":\"overlay\",\"size\":10,\"solidity\":0.2}},\"type\":\"bar\"}],\"carpet\":[{\"aaxis\":{\"endlinecolor\":\"#2a3f5f\",\"gridcolor\":\"white\",\"linecolor\":\"white\",\"minorgridcolor\":\"white\",\"startlinecolor\":\"#2a3f5f\"},\"baxis\":{\"endlinecolor\":\"#2a3f5f\",\"gridcolor\":\"white\",\"linecolor\":\"white\",\"minorgridcolor\":\"white\",\"startlinecolor\":\"#2a3f5f\"},\"type\":\"carpet\"}],\"choropleth\":[{\"colorbar\":{\"outlinewidth\":0,\"ticks\":\"\"},\"type\":\"choropleth\"}],\"contourcarpet\":[{\"colorbar\":{\"outlinewidth\":0,\"ticks\":\"\"},\"type\":\"contourcarpet\"}],\"contour\":[{\"colorbar\":{\"outlinewidth\":0,\"ticks\":\"\"},\"colorscale\":[[0.0,\"#0d0887\"],[0.1111111111111111,\"#46039f\"],[0.2222222222222222,\"#7201a8\"],[0.3333333333333333,\"#9c179e\"],[0.4444444444444444,\"#bd3786\"],[0.5555555555555556,\"#d8576b\"],[0.6666666666666666,\"#ed7953\"],[0.7777777777777778,\"#fb9f3a\"],[0.8888888888888888,\"#fdca26\"],[1.0,\"#f0f921\"]],\"type\":\"contour\"}],\"heatmapgl\":[{\"colorbar\":{\"outlinewidth\":0,\"ticks\":\"\"},\"colorscale\":[[0.0,\"#0d0887\"],[0.1111111111111111,\"#46039f\"],[0.2222222222222222,\"#7201a8\"],[0.3333333333333333,\"#9c179e\"],[0.4444444444444444,\"#bd3786\"],[0.5555555555555556,\"#d8576b\"],[0.6666666666666666,\"#ed7953\"],[0.7777777777777778,\"#fb9f3a\"],[0.8888888888888888,\"#fdca26\"],[1.0,\"#f0f921\"]],\"type\":\"heatmapgl\"}],\"heatmap\":[{\"colorbar\":{\"outlinewidth\":0,\"ticks\":\"\"},\"colorscale\":[[0.0,\"#0d0887\"],[0.1111111111111111,\"#46039f\"],[0.2222222222222222,\"#7201a8\"],[0.3333333333333333,\"#9c179e\"],[0.4444444444444444,\"#bd3786\"],[0.5555555555555556,\"#d8576b\"],[0.6666666666666666,\"#ed7953\"],[0.7777777777777778,\"#fb9f3a\"],[0.8888888888888888,\"#fdca26\"],[1.0,\"#f0f921\"]],\"type\":\"heatmap\"}],\"histogram2dcontour\":[{\"colorbar\":{\"outlinewidth\":0,\"ticks\":\"\"},\"colorscale\":[[0.0,\"#0d0887\"],[0.1111111111111111,\"#46039f\"],[0.2222222222222222,\"#7201a8\"],[0.3333333333333333,\"#9c179e\"],[0.4444444444444444,\"#bd3786\"],[0.5555555555555556,\"#d8576b\"],[0.6666666666666666,\"#ed7953\"],[0.7777777777777778,\"#fb9f3a\"],[0.8888888888888888,\"#fdca26\"],[1.0,\"#f0f921\"]],\"type\":\"histogram2dcontour\"}],\"histogram2d\":[{\"colorbar\":{\"outlinewidth\":0,\"ticks\":\"\"},\"colorscale\":[[0.0,\"#0d0887\"],[0.1111111111111111,\"#46039f\"],[0.2222222222222222,\"#7201a8\"],[0.3333333333333333,\"#9c179e\"],[0.4444444444444444,\"#bd3786\"],[0.5555555555555556,\"#d8576b\"],[0.6666666666666666,\"#ed7953\"],[0.7777777777777778,\"#fb9f3a\"],[0.8888888888888888,\"#fdca26\"],[1.0,\"#f0f921\"]],\"type\":\"histogram2d\"}],\"histogram\":[{\"marker\":{\"pattern\":{\"fillmode\":\"overlay\",\"size\":10,\"solidity\":0.2}},\"type\":\"histogram\"}],\"mesh3d\":[{\"colorbar\":{\"outlinewidth\":0,\"ticks\":\"\"},\"type\":\"mesh3d\"}],\"parcoords\":[{\"line\":{\"colorbar\":{\"outlinewidth\":0,\"ticks\":\"\"}},\"type\":\"parcoords\"}],\"pie\":[{\"automargin\":true,\"type\":\"pie\"}],\"scatter3d\":[{\"line\":{\"colorbar\":{\"outlinewidth\":0,\"ticks\":\"\"}},\"marker\":{\"colorbar\":{\"outlinewidth\":0,\"ticks\":\"\"}},\"type\":\"scatter3d\"}],\"scattercarpet\":[{\"marker\":{\"colorbar\":{\"outlinewidth\":0,\"ticks\":\"\"}},\"type\":\"scattercarpet\"}],\"scattergeo\":[{\"marker\":{\"colorbar\":{\"outlinewidth\":0,\"ticks\":\"\"}},\"type\":\"scattergeo\"}],\"scattergl\":[{\"marker\":{\"colorbar\":{\"outlinewidth\":0,\"ticks\":\"\"}},\"type\":\"scattergl\"}],\"scattermapbox\":[{\"marker\":{\"colorbar\":{\"outlinewidth\":0,\"ticks\":\"\"}},\"type\":\"scattermapbox\"}],\"scatterpolargl\":[{\"marker\":{\"colorbar\":{\"outlinewidth\":0,\"ticks\":\"\"}},\"type\":\"scatterpolargl\"}],\"scatterpolar\":[{\"marker\":{\"colorbar\":{\"outlinewidth\":0,\"ticks\":\"\"}},\"type\":\"scatterpolar\"}],\"scatter\":[{\"fillpattern\":{\"fillmode\":\"overlay\",\"size\":10,\"solidity\":0.2},\"type\":\"scatter\"}],\"scatterternary\":[{\"marker\":{\"colorbar\":{\"outlinewidth\":0,\"ticks\":\"\"}},\"type\":\"scatterternary\"}],\"surface\":[{\"colorbar\":{\"outlinewidth\":0,\"ticks\":\"\"},\"colorscale\":[[0.0,\"#0d0887\"],[0.1111111111111111,\"#46039f\"],[0.2222222222222222,\"#7201a8\"],[0.3333333333333333,\"#9c179e\"],[0.4444444444444444,\"#bd3786\"],[0.5555555555555556,\"#d8576b\"],[0.6666666666666666,\"#ed7953\"],[0.7777777777777778,\"#fb9f3a\"],[0.8888888888888888,\"#fdca26\"],[1.0,\"#f0f921\"]],\"type\":\"surface\"}],\"table\":[{\"cells\":{\"fill\":{\"color\":\"#EBF0F8\"},\"line\":{\"color\":\"white\"}},\"header\":{\"fill\":{\"color\":\"#C8D4E3\"},\"line\":{\"color\":\"white\"}},\"type\":\"table\"}]},\"layout\":{\"annotationdefaults\":{\"arrowcolor\":\"#2a3f5f\",\"arrowhead\":0,\"arrowwidth\":1},\"autotypenumbers\":\"strict\",\"coloraxis\":{\"colorbar\":{\"outlinewidth\":0,\"ticks\":\"\"}},\"colorscale\":{\"diverging\":[[0,\"#8e0152\"],[0.1,\"#c51b7d\"],[0.2,\"#de77ae\"],[0.3,\"#f1b6da\"],[0.4,\"#fde0ef\"],[0.5,\"#f7f7f7\"],[0.6,\"#e6f5d0\"],[0.7,\"#b8e186\"],[0.8,\"#7fbc41\"],[0.9,\"#4d9221\"],[1,\"#276419\"]],\"sequential\":[[0.0,\"#0d0887\"],[0.1111111111111111,\"#46039f\"],[0.2222222222222222,\"#7201a8\"],[0.3333333333333333,\"#9c179e\"],[0.4444444444444444,\"#bd3786\"],[0.5555555555555556,\"#d8576b\"],[0.6666666666666666,\"#ed7953\"],[0.7777777777777778,\"#fb9f3a\"],[0.8888888888888888,\"#fdca26\"],[1.0,\"#f0f921\"]],\"sequentialminus\":[[0.0,\"#0d0887\"],[0.1111111111111111,\"#46039f\"],[0.2222222222222222,\"#7201a8\"],[0.3333333333333333,\"#9c179e\"],[0.4444444444444444,\"#bd3786\"],[0.5555555555555556,\"#d8576b\"],[0.6666666666666666,\"#ed7953\"],[0.7777777777777778,\"#fb9f3a\"],[0.8888888888888888,\"#fdca26\"],[1.0,\"#f0f921\"]]},\"colorway\":[\"#636efa\",\"#EF553B\",\"#00cc96\",\"#ab63fa\",\"#FFA15A\",\"#19d3f3\",\"#FF6692\",\"#B6E880\",\"#FF97FF\",\"#FECB52\"],\"font\":{\"color\":\"#2a3f5f\"},\"geo\":{\"bgcolor\":\"white\",\"lakecolor\":\"white\",\"landcolor\":\"#E5ECF6\",\"showlakes\":true,\"showland\":true,\"subunitcolor\":\"white\"},\"hoverlabel\":{\"align\":\"left\"},\"hovermode\":\"closest\",\"mapbox\":{\"style\":\"light\"},\"paper_bgcolor\":\"white\",\"plot_bgcolor\":\"#E5ECF6\",\"polar\":{\"angularaxis\":{\"gridcolor\":\"white\",\"linecolor\":\"white\",\"ticks\":\"\"},\"bgcolor\":\"#E5ECF6\",\"radialaxis\":{\"gridcolor\":\"white\",\"linecolor\":\"white\",\"ticks\":\"\"}},\"scene\":{\"xaxis\":{\"backgroundcolor\":\"#E5ECF6\",\"gridcolor\":\"white\",\"gridwidth\":2,\"linecolor\":\"white\",\"showbackground\":true,\"ticks\":\"\",\"zerolinecolor\":\"white\"},\"yaxis\":{\"backgroundcolor\":\"#E5ECF6\",\"gridcolor\":\"white\",\"gridwidth\":2,\"linecolor\":\"white\",\"showbackground\":true,\"ticks\":\"\",\"zerolinecolor\":\"white\"},\"zaxis\":{\"backgroundcolor\":\"#E5ECF6\",\"gridcolor\":\"white\",\"gridwidth\":2,\"linecolor\":\"white\",\"showbackground\":true,\"ticks\":\"\",\"zerolinecolor\":\"white\"}},\"shapedefaults\":{\"line\":{\"color\":\"#2a3f5f\"}},\"ternary\":{\"aaxis\":{\"gridcolor\":\"white\",\"linecolor\":\"white\",\"ticks\":\"\"},\"baxis\":{\"gridcolor\":\"white\",\"linecolor\":\"white\",\"ticks\":\"\"},\"bgcolor\":\"#E5ECF6\",\"caxis\":{\"gridcolor\":\"white\",\"linecolor\":\"white\",\"ticks\":\"\"}},\"title\":{\"x\":0.05},\"xaxis\":{\"automargin\":true,\"gridcolor\":\"white\",\"linecolor\":\"white\",\"ticks\":\"\",\"title\":{\"standoff\":15},\"zerolinecolor\":\"white\",\"zerolinewidth\":2},\"yaxis\":{\"automargin\":true,\"gridcolor\":\"white\",\"linecolor\":\"white\",\"ticks\":\"\",\"title\":{\"standoff\":15},\"zerolinecolor\":\"white\",\"zerolinewidth\":2}}},\"title\":{\"font\":{\"color\":\"#4D5663\"}},\"xaxis\":{\"gridcolor\":\"#E1E5ED\",\"showgrid\":true,\"tickfont\":{\"color\":\"#4D5663\"},\"title\":{\"font\":{\"color\":\"#4D5663\"},\"text\":\"\"},\"zerolinecolor\":\"#E1E5ED\"},\"yaxis\":{\"gridcolor\":\"#E1E5ED\",\"showgrid\":true,\"tickfont\":{\"color\":\"#4D5663\"},\"title\":{\"font\":{\"color\":\"#4D5663\"},\"text\":\"\"},\"zerolinecolor\":\"#E1E5ED\"}},                        {\"showLink\": true, \"linkText\": \"Export to plot.ly\", \"plotlyServerURL\": \"https://plot.ly\", \"responsive\": true}                    ).then(function(){\n",
       "                            \n",
       "var gd = document.getElementById('1b3a24a5-504f-4d35-8f5e-4a61070bab44');\n",
       "var x = new MutationObserver(function (mutations, observer) {{\n",
       "        var display = window.getComputedStyle(gd).display;\n",
       "        if (!display || display === 'none') {{\n",
       "            console.log([gd, 'removed!']);\n",
       "            Plotly.purge(gd);\n",
       "            observer.disconnect();\n",
       "        }}\n",
       "}});\n",
       "\n",
       "// Listen for the removal of the full notebook cells\n",
       "var notebookContainer = gd.closest('#notebook-container');\n",
       "if (notebookContainer) {{\n",
       "    x.observe(notebookContainer, {childList: true});\n",
       "}}\n",
       "\n",
       "// Listen for the clearing of the current output cell\n",
       "var outputEl = gd.closest('.output');\n",
       "if (outputEl) {{\n",
       "    x.observe(outputEl, {childList: true});\n",
       "}}\n",
       "\n",
       "                        })                };                });            </script>        </div>"
      ]
     },
     "metadata": {},
     "output_type": "display_data"
    }
   ],
   "source": [
    "df.count().iplot(kind='bar')"
   ]
  },
  {
   "cell_type": "code",
   "execution_count": 9,
   "id": "8a40db23",
   "metadata": {},
   "outputs": [
    {
     "data": {
      "application/vnd.plotly.v1+json": {
       "config": {
        "linkText": "Export to plot.ly",
        "plotlyServerURL": "https://plot.ly",
        "showLink": true
       },
       "data": [
        {
         "boxpoints": false,
         "line": {
          "width": 1.3
         },
         "marker": {
          "color": "rgba(255, 153, 51, 1.0)"
         },
         "name": "A",
         "orientation": "v",
         "type": "box",
         "y": [
          1.0972199573688461,
          -0.8556300900285553,
          0.126238097867567,
          -0.8282204270169976,
          0.8560873352556525,
          0.5619925804799691,
          2.167754242657729,
          0.8685971008748656,
          -1.9289937198025082,
          0.5437032363502787,
          -0.9574925223199207,
          -0.24911605946206627,
          1.5931382742156124,
          1.295876030061057,
          -0.3059339088046586,
          -2.5137835517098113,
          -0.1843257337369107,
          -0.11925588099121849,
          0.040977527180113854,
          0.591519333167522,
          -1.9133114776397937,
          -0.4234397600642683,
          -0.37323357463192774,
          0.39736404172278844,
          -1.0687353713516132,
          -2.1137134499842243,
          0.026616150448040582,
          0.03207548264493021,
          2.2350858795361037,
          0.3865150785553918,
          -0.2765508952638007,
          -0.9742483462536244,
          -0.037418091518889154,
          -0.6957386432796877,
          0.26254940779255026,
          -0.37061011710613984,
          0.1940616159399782,
          -0.4712706922249023,
          -0.7438133035929787,
          -0.8617817265675123,
          1.2274765825622858,
          -2.1162084763156,
          -0.39314272842603903,
          -0.7536802700649506,
          -0.2586012758153935,
          -0.3647937634526296,
          0.28374946056505923,
          -0.7426970053836787,
          0.5138603605588284,
          -1.1221585741415925,
          2.462589511258795,
          0.326754111891552,
          -1.1360152092376024,
          1.1009591239625762,
          0.5331383898979563,
          1.030367103510399,
          -1.5476307035214891,
          -0.14353702750924907,
          0.6153365014212021,
          0.17582305872329348,
          -0.1407595696306908,
          0.9615519820277341,
          -0.18273247455217942,
          -1.2490206473611387,
          -0.6843774351888924,
          -0.9450323644698706,
          -0.41593589370993106,
          1.6402502318965975,
          0.15090798894901028,
          -0.7602056513090112,
          0.16666027169541586,
          -0.6140555628020126,
          0.1224738655616952,
          0.0355516286140335,
          -0.07126787414443411,
          -0.47293961552623126,
          -0.17699554805522952,
          0.46179222308616014,
          0.9014511792772176,
          -1.0619107340564138,
          0.2431893684974666,
          -0.5197779549294853,
          -0.37792729092691474,
          -0.9297917791003169,
          0.7464411364714747,
          1.3135926514013567,
          -0.11786793920996452,
          -0.9006190576593024,
          0.3189182367226934,
          -0.6013694007427746,
          0.6392332214332836,
          -0.41007665963566364,
          -0.44084763227914775,
          0.026668559790025716,
          0.7551911700826331,
          1.2784426404091564,
          1.9525932355403217,
          1.4083554324392453,
          -0.04995379723171119,
          -0.8870695309281038
         ]
        },
        {
         "boxpoints": false,
         "line": {
          "width": 1.3
         },
         "marker": {
          "color": "rgba(55, 128, 191, 1.0)"
         },
         "name": "B",
         "orientation": "v",
         "type": "box",
         "y": [
          -1.3637774842815413,
          0.353952675325184,
          0.21353536078393018,
          0.6699142800774748,
          -0.574120137178779,
          0.22137996731266077,
          0.1842868499658055,
          -0.5631842115771228,
          0.026902270886982552,
          1.6135586059124316,
          -0.24141231977133087,
          0.3589101422836867,
          0.5151474823005724,
          -0.8065719473373799,
          2.655984963239379,
          1.7676102880648454,
          0.536666074694593,
          1.7113497148684713,
          1.2103329781689967,
          0.2892831050976094,
          0.5536184590916052,
          -0.9080764903832801,
          1.3117010182803681,
          0.9496623261887203,
          2.1578662968217746,
          -2.2866991271331054,
          0.46502055933437225,
          0.3007190779204101,
          0.21565361054157617,
          0.7297651175587392,
          1.2110715854901988,
          -0.4313639363120854,
          0.3186649273727466,
          0.8610791269604751,
          -0.3520093584334649,
          -0.18440102023666888,
          0.20663158797414072,
          -1.2482030602991123,
          -0.15252849941252594,
          -0.6280150064398252,
          1.6384377692523178,
          -0.9686158825072473,
          1.523254680641849,
          -0.43324496175475813,
          0.17683089883614178,
          1.3437492789374694,
          0.7922225736517898,
          0.37848642017699863,
          1.944114142362021,
          -1.1989544380354518,
          0.9270998914726263,
          0.21227650911028123,
          1.6141779405665395,
          0.7559046937544706,
          1.3126072045227353,
          -0.33678296009720143,
          0.29379536995738714,
          -0.814197978560749,
          0.035366931482711854,
          -1.7283954579795704,
          0.21158915830886985,
          1.0445162035800992,
          -0.8675878384458665,
          -0.39509555817917685,
          0.39641202034336487,
          0.34138447652912884,
          -1.5794190042582488,
          1.6361047889920284,
          0.10099997488030328,
          1.380339719163687,
          -0.1942889589590072,
          0.030121399759899314,
          -0.22129904013345408,
          0.5198780246561374,
          0.718822922695734,
          -1.0378545103964494,
          0.5094549811222295,
          0.9981651911086201,
          -0.3052056534959569,
          -1.0367418993908588,
          0.8114795684472617,
          -1.984381866446984,
          -0.7176887974181332,
          0.2326928856538649,
          -0.06287311871688153,
          0.3424467162006518,
          -0.7303309346947787,
          -0.7732572902361802,
          0.017804708943345644,
          2.2215543781141633,
          -0.4078351257654741,
          -0.029488329916561636,
          0.3382837144894597,
          -1.7290701278444445,
          -1.7183982409460457,
          0.6898709280559027,
          -1.2171663269029787,
          -0.5932799090423962,
          -0.409927639782033,
          1.1406913323954189
         ]
        },
        {
         "boxpoints": false,
         "line": {
          "width": 1.3
         },
         "marker": {
          "color": "rgba(50, 171, 96, 1.0)"
         },
         "name": "C",
         "orientation": "v",
         "type": "box",
         "y": [
          1.7441444268444621,
          -1.3571809582949532,
          -0.5997803803184673,
          0.5136575022216522,
          -0.2838279646933433,
          0.36791853405653707,
          -0.8301022377992087,
          -1.839793469893,
          -0.7066247079268967,
          0.8801286868007496,
          2.3321073682831206,
          1.2817107032896797,
          -0.3336674844381158,
          0.9640589507222928,
          1.1174560065410974,
          0.13742478008949918,
          0.422611403168731,
          -2.02126224568225,
          0.3725032072100424,
          0.6375837045563109,
          0.48409137155102644,
          -1.3188893337688938,
          1.0351008668977895,
          -0.1078610714437173,
          -1.0714872756406661,
          0.36299985911785887,
          -0.2663598281959314,
          -0.13936621226773235,
          1.5634508491681254,
          0.11722009064520982,
          -0.6311174905821366,
          1.0176053134414236,
          0.1930356053045629,
          -0.6452265018090639,
          1.212576031273781,
          -0.41756275368521373,
          -0.05084938082231021,
          1.3689341937764048,
          0.6937624179644558,
          -1.1079621913633733,
          1.524803992919876,
          0.5498480902392452,
          1.921727117885748,
          0.9737348902866186,
          0.30741346156809546,
          0.2766375646427449,
          -1.6482611307797688,
          -0.3263070889295888,
          1.0878737098420215,
          -0.765017935436571,
          0.09908709624767846,
          1.075132096831975,
          0.32591691894492913,
          -0.9505559412638134,
          0.8518786843713807,
          2.0053245315642743,
          0.0064170006344238095,
          1.3877408380309788,
          -1.159928103058354,
          0.37458153522549786,
          0.14556569596995914,
          -0.9225375411594947,
          0.2732011044440375,
          1.00563474086416,
          -1.8036431451086403,
          -0.6841874227735335,
          0.5306868618779714,
          -2.1828529498193343,
          -0.40306005109868626,
          1.3315620367452865,
          -0.5852132025838219,
          -1.0812359396637476,
          -0.19156909840427944,
          -0.016256672670362064,
          0.41094406123749944,
          0.25312201160334846,
          -0.8628860743124456,
          0.060058552317430486,
          -0.17463669980882854,
          0.563579278564023,
          0.7207705370182675,
          -1.9768846335355195,
          1.0498202378486199,
          -0.07676005165937246,
          0.11622186861272342,
          1.3522798146343886,
          0.3066726347961337,
          -0.016262251887249665,
          2.5582467326198266,
          -0.4100318259422234,
          1.2012186250185024,
          -0.4848897360002726,
          0.0656295218447803,
          0.9754947681988773,
          0.47253300044969765,
          -0.12573270430543682,
          0.15288422279365216,
          -0.05940658101056851,
          -0.7751888302513141,
          1.8816948506046864
         ]
        },
        {
         "boxpoints": false,
         "line": {
          "width": 1.3
         },
         "marker": {
          "color": "rgba(128, 0, 128, 1.0)"
         },
         "name": "D",
         "orientation": "v",
         "type": "box",
         "y": [
          0.288073644622906,
          -0.6196480294379495,
          0.4352912178986984,
          1.3858483000443054,
          -0.12967783089136828,
          0.25901940507108606,
          -0.15369446045114837,
          0.7022791049065268,
          0.25003367642911445,
          0.6423040484592956,
          -0.06515752085004241,
          -0.2428497626437784,
          3.017296437956513,
          -0.2873600024607329,
          0.7858449713650546,
          -0.2527239645512696,
          -1.0706166628771294,
          1.30301604833422,
          -0.6035874827134198,
          -0.08194565023611032,
          -0.7434120074720523,
          -0.622350129771808,
          0.25224914913165547,
          -0.40271633351280484,
          -0.6401774801595804,
          -1.5488484085800065,
          0.11473011687590177,
          -0.20835998436792869,
          0.03060385876344897,
          -0.6195768008460987,
          1.0367646544705695,
          0.6863266604025321,
          0.27869920937452786,
          0.3139776946948659,
          -0.4275409048884473,
          0.6114339959922276,
          -0.041968596690567184,
          0.29870089152331825,
          -0.7633953281817364,
          0.7174993318718507,
          -1.2831130795055063,
          1.3745239986080247,
          0.13375071683693568,
          0.27039092883369986,
          -1.7047901060150608,
          0.2703024515670794,
          -0.24802671571485174,
          -0.505782056400116,
          0.9042068737244287,
          -0.706912859024362,
          -1.154218503943458,
          0.7209859769209502,
          -0.4994228090441744,
          0.7668114269013349,
          -0.46177981263883,
          -0.030700677042771234,
          -0.3219389644258767,
          -0.9760524729894123,
          0.22272923363405842,
          -0.03821262707650034,
          0.03602664326105428,
          -1.7686308352616142,
          0.3349026690553228,
          1.1045955353888688,
          -1.0694638326577615,
          0.8417559558881049,
          -0.3065524737142244,
          -1.2261442399978455,
          -0.25912865005178964,
          0.8031747205194517,
          1.5230957745817966,
          -0.27939989540503624,
          0.49483465178498076,
          -0.07236550494013297,
          -0.6251070562374017,
          0.4832219323713606,
          1.8981437362531792,
          -0.5312073144789279,
          0.6745558314731132,
          -0.7156297556397487,
          -0.5259849913047434,
          0.12817459979566342,
          0.25976296024330936,
          -0.8887673629176817,
          1.4629420195867027,
          -0.8697290492235933,
          0.7041186624009869,
          2.2787105968099186,
          -0.6719568104744766,
          1.5008672928070275,
          0.8916534726836076,
          0.34273802958541766,
          -0.15562415135930815,
          -0.6550811919299239,
          1.1428124102932224,
          0.03409777252625565,
          2.504284355186978,
          -0.19164274036642848,
          1.899465898860514,
          1.2650752163646082
         ]
        }
       ],
       "layout": {
        "legend": {
         "bgcolor": "#F5F6F9",
         "font": {
          "color": "#4D5663"
         }
        },
        "paper_bgcolor": "#F5F6F9",
        "plot_bgcolor": "#F5F6F9",
        "template": {
         "data": {
          "bar": [
           {
            "error_x": {
             "color": "#2a3f5f"
            },
            "error_y": {
             "color": "#2a3f5f"
            },
            "marker": {
             "line": {
              "color": "#E5ECF6",
              "width": 0.5
             },
             "pattern": {
              "fillmode": "overlay",
              "size": 10,
              "solidity": 0.2
             }
            },
            "type": "bar"
           }
          ],
          "barpolar": [
           {
            "marker": {
             "line": {
              "color": "#E5ECF6",
              "width": 0.5
             },
             "pattern": {
              "fillmode": "overlay",
              "size": 10,
              "solidity": 0.2
             }
            },
            "type": "barpolar"
           }
          ],
          "carpet": [
           {
            "aaxis": {
             "endlinecolor": "#2a3f5f",
             "gridcolor": "white",
             "linecolor": "white",
             "minorgridcolor": "white",
             "startlinecolor": "#2a3f5f"
            },
            "baxis": {
             "endlinecolor": "#2a3f5f",
             "gridcolor": "white",
             "linecolor": "white",
             "minorgridcolor": "white",
             "startlinecolor": "#2a3f5f"
            },
            "type": "carpet"
           }
          ],
          "choropleth": [
           {
            "colorbar": {
             "outlinewidth": 0,
             "ticks": ""
            },
            "type": "choropleth"
           }
          ],
          "contour": [
           {
            "colorbar": {
             "outlinewidth": 0,
             "ticks": ""
            },
            "colorscale": [
             [
              0,
              "#0d0887"
             ],
             [
              0.1111111111111111,
              "#46039f"
             ],
             [
              0.2222222222222222,
              "#7201a8"
             ],
             [
              0.3333333333333333,
              "#9c179e"
             ],
             [
              0.4444444444444444,
              "#bd3786"
             ],
             [
              0.5555555555555556,
              "#d8576b"
             ],
             [
              0.6666666666666666,
              "#ed7953"
             ],
             [
              0.7777777777777778,
              "#fb9f3a"
             ],
             [
              0.8888888888888888,
              "#fdca26"
             ],
             [
              1,
              "#f0f921"
             ]
            ],
            "type": "contour"
           }
          ],
          "contourcarpet": [
           {
            "colorbar": {
             "outlinewidth": 0,
             "ticks": ""
            },
            "type": "contourcarpet"
           }
          ],
          "heatmap": [
           {
            "colorbar": {
             "outlinewidth": 0,
             "ticks": ""
            },
            "colorscale": [
             [
              0,
              "#0d0887"
             ],
             [
              0.1111111111111111,
              "#46039f"
             ],
             [
              0.2222222222222222,
              "#7201a8"
             ],
             [
              0.3333333333333333,
              "#9c179e"
             ],
             [
              0.4444444444444444,
              "#bd3786"
             ],
             [
              0.5555555555555556,
              "#d8576b"
             ],
             [
              0.6666666666666666,
              "#ed7953"
             ],
             [
              0.7777777777777778,
              "#fb9f3a"
             ],
             [
              0.8888888888888888,
              "#fdca26"
             ],
             [
              1,
              "#f0f921"
             ]
            ],
            "type": "heatmap"
           }
          ],
          "heatmapgl": [
           {
            "colorbar": {
             "outlinewidth": 0,
             "ticks": ""
            },
            "colorscale": [
             [
              0,
              "#0d0887"
             ],
             [
              0.1111111111111111,
              "#46039f"
             ],
             [
              0.2222222222222222,
              "#7201a8"
             ],
             [
              0.3333333333333333,
              "#9c179e"
             ],
             [
              0.4444444444444444,
              "#bd3786"
             ],
             [
              0.5555555555555556,
              "#d8576b"
             ],
             [
              0.6666666666666666,
              "#ed7953"
             ],
             [
              0.7777777777777778,
              "#fb9f3a"
             ],
             [
              0.8888888888888888,
              "#fdca26"
             ],
             [
              1,
              "#f0f921"
             ]
            ],
            "type": "heatmapgl"
           }
          ],
          "histogram": [
           {
            "marker": {
             "pattern": {
              "fillmode": "overlay",
              "size": 10,
              "solidity": 0.2
             }
            },
            "type": "histogram"
           }
          ],
          "histogram2d": [
           {
            "colorbar": {
             "outlinewidth": 0,
             "ticks": ""
            },
            "colorscale": [
             [
              0,
              "#0d0887"
             ],
             [
              0.1111111111111111,
              "#46039f"
             ],
             [
              0.2222222222222222,
              "#7201a8"
             ],
             [
              0.3333333333333333,
              "#9c179e"
             ],
             [
              0.4444444444444444,
              "#bd3786"
             ],
             [
              0.5555555555555556,
              "#d8576b"
             ],
             [
              0.6666666666666666,
              "#ed7953"
             ],
             [
              0.7777777777777778,
              "#fb9f3a"
             ],
             [
              0.8888888888888888,
              "#fdca26"
             ],
             [
              1,
              "#f0f921"
             ]
            ],
            "type": "histogram2d"
           }
          ],
          "histogram2dcontour": [
           {
            "colorbar": {
             "outlinewidth": 0,
             "ticks": ""
            },
            "colorscale": [
             [
              0,
              "#0d0887"
             ],
             [
              0.1111111111111111,
              "#46039f"
             ],
             [
              0.2222222222222222,
              "#7201a8"
             ],
             [
              0.3333333333333333,
              "#9c179e"
             ],
             [
              0.4444444444444444,
              "#bd3786"
             ],
             [
              0.5555555555555556,
              "#d8576b"
             ],
             [
              0.6666666666666666,
              "#ed7953"
             ],
             [
              0.7777777777777778,
              "#fb9f3a"
             ],
             [
              0.8888888888888888,
              "#fdca26"
             ],
             [
              1,
              "#f0f921"
             ]
            ],
            "type": "histogram2dcontour"
           }
          ],
          "mesh3d": [
           {
            "colorbar": {
             "outlinewidth": 0,
             "ticks": ""
            },
            "type": "mesh3d"
           }
          ],
          "parcoords": [
           {
            "line": {
             "colorbar": {
              "outlinewidth": 0,
              "ticks": ""
             }
            },
            "type": "parcoords"
           }
          ],
          "pie": [
           {
            "automargin": true,
            "type": "pie"
           }
          ],
          "scatter": [
           {
            "fillpattern": {
             "fillmode": "overlay",
             "size": 10,
             "solidity": 0.2
            },
            "type": "scatter"
           }
          ],
          "scatter3d": [
           {
            "line": {
             "colorbar": {
              "outlinewidth": 0,
              "ticks": ""
             }
            },
            "marker": {
             "colorbar": {
              "outlinewidth": 0,
              "ticks": ""
             }
            },
            "type": "scatter3d"
           }
          ],
          "scattercarpet": [
           {
            "marker": {
             "colorbar": {
              "outlinewidth": 0,
              "ticks": ""
             }
            },
            "type": "scattercarpet"
           }
          ],
          "scattergeo": [
           {
            "marker": {
             "colorbar": {
              "outlinewidth": 0,
              "ticks": ""
             }
            },
            "type": "scattergeo"
           }
          ],
          "scattergl": [
           {
            "marker": {
             "colorbar": {
              "outlinewidth": 0,
              "ticks": ""
             }
            },
            "type": "scattergl"
           }
          ],
          "scattermapbox": [
           {
            "marker": {
             "colorbar": {
              "outlinewidth": 0,
              "ticks": ""
             }
            },
            "type": "scattermapbox"
           }
          ],
          "scatterpolar": [
           {
            "marker": {
             "colorbar": {
              "outlinewidth": 0,
              "ticks": ""
             }
            },
            "type": "scatterpolar"
           }
          ],
          "scatterpolargl": [
           {
            "marker": {
             "colorbar": {
              "outlinewidth": 0,
              "ticks": ""
             }
            },
            "type": "scatterpolargl"
           }
          ],
          "scatterternary": [
           {
            "marker": {
             "colorbar": {
              "outlinewidth": 0,
              "ticks": ""
             }
            },
            "type": "scatterternary"
           }
          ],
          "surface": [
           {
            "colorbar": {
             "outlinewidth": 0,
             "ticks": ""
            },
            "colorscale": [
             [
              0,
              "#0d0887"
             ],
             [
              0.1111111111111111,
              "#46039f"
             ],
             [
              0.2222222222222222,
              "#7201a8"
             ],
             [
              0.3333333333333333,
              "#9c179e"
             ],
             [
              0.4444444444444444,
              "#bd3786"
             ],
             [
              0.5555555555555556,
              "#d8576b"
             ],
             [
              0.6666666666666666,
              "#ed7953"
             ],
             [
              0.7777777777777778,
              "#fb9f3a"
             ],
             [
              0.8888888888888888,
              "#fdca26"
             ],
             [
              1,
              "#f0f921"
             ]
            ],
            "type": "surface"
           }
          ],
          "table": [
           {
            "cells": {
             "fill": {
              "color": "#EBF0F8"
             },
             "line": {
              "color": "white"
             }
            },
            "header": {
             "fill": {
              "color": "#C8D4E3"
             },
             "line": {
              "color": "white"
             }
            },
            "type": "table"
           }
          ]
         },
         "layout": {
          "annotationdefaults": {
           "arrowcolor": "#2a3f5f",
           "arrowhead": 0,
           "arrowwidth": 1
          },
          "autotypenumbers": "strict",
          "coloraxis": {
           "colorbar": {
            "outlinewidth": 0,
            "ticks": ""
           }
          },
          "colorscale": {
           "diverging": [
            [
             0,
             "#8e0152"
            ],
            [
             0.1,
             "#c51b7d"
            ],
            [
             0.2,
             "#de77ae"
            ],
            [
             0.3,
             "#f1b6da"
            ],
            [
             0.4,
             "#fde0ef"
            ],
            [
             0.5,
             "#f7f7f7"
            ],
            [
             0.6,
             "#e6f5d0"
            ],
            [
             0.7,
             "#b8e186"
            ],
            [
             0.8,
             "#7fbc41"
            ],
            [
             0.9,
             "#4d9221"
            ],
            [
             1,
             "#276419"
            ]
           ],
           "sequential": [
            [
             0,
             "#0d0887"
            ],
            [
             0.1111111111111111,
             "#46039f"
            ],
            [
             0.2222222222222222,
             "#7201a8"
            ],
            [
             0.3333333333333333,
             "#9c179e"
            ],
            [
             0.4444444444444444,
             "#bd3786"
            ],
            [
             0.5555555555555556,
             "#d8576b"
            ],
            [
             0.6666666666666666,
             "#ed7953"
            ],
            [
             0.7777777777777778,
             "#fb9f3a"
            ],
            [
             0.8888888888888888,
             "#fdca26"
            ],
            [
             1,
             "#f0f921"
            ]
           ],
           "sequentialminus": [
            [
             0,
             "#0d0887"
            ],
            [
             0.1111111111111111,
             "#46039f"
            ],
            [
             0.2222222222222222,
             "#7201a8"
            ],
            [
             0.3333333333333333,
             "#9c179e"
            ],
            [
             0.4444444444444444,
             "#bd3786"
            ],
            [
             0.5555555555555556,
             "#d8576b"
            ],
            [
             0.6666666666666666,
             "#ed7953"
            ],
            [
             0.7777777777777778,
             "#fb9f3a"
            ],
            [
             0.8888888888888888,
             "#fdca26"
            ],
            [
             1,
             "#f0f921"
            ]
           ]
          },
          "colorway": [
           "#636efa",
           "#EF553B",
           "#00cc96",
           "#ab63fa",
           "#FFA15A",
           "#19d3f3",
           "#FF6692",
           "#B6E880",
           "#FF97FF",
           "#FECB52"
          ],
          "font": {
           "color": "#2a3f5f"
          },
          "geo": {
           "bgcolor": "white",
           "lakecolor": "white",
           "landcolor": "#E5ECF6",
           "showlakes": true,
           "showland": true,
           "subunitcolor": "white"
          },
          "hoverlabel": {
           "align": "left"
          },
          "hovermode": "closest",
          "mapbox": {
           "style": "light"
          },
          "paper_bgcolor": "white",
          "plot_bgcolor": "#E5ECF6",
          "polar": {
           "angularaxis": {
            "gridcolor": "white",
            "linecolor": "white",
            "ticks": ""
           },
           "bgcolor": "#E5ECF6",
           "radialaxis": {
            "gridcolor": "white",
            "linecolor": "white",
            "ticks": ""
           }
          },
          "scene": {
           "xaxis": {
            "backgroundcolor": "#E5ECF6",
            "gridcolor": "white",
            "gridwidth": 2,
            "linecolor": "white",
            "showbackground": true,
            "ticks": "",
            "zerolinecolor": "white"
           },
           "yaxis": {
            "backgroundcolor": "#E5ECF6",
            "gridcolor": "white",
            "gridwidth": 2,
            "linecolor": "white",
            "showbackground": true,
            "ticks": "",
            "zerolinecolor": "white"
           },
           "zaxis": {
            "backgroundcolor": "#E5ECF6",
            "gridcolor": "white",
            "gridwidth": 2,
            "linecolor": "white",
            "showbackground": true,
            "ticks": "",
            "zerolinecolor": "white"
           }
          },
          "shapedefaults": {
           "line": {
            "color": "#2a3f5f"
           }
          },
          "ternary": {
           "aaxis": {
            "gridcolor": "white",
            "linecolor": "white",
            "ticks": ""
           },
           "baxis": {
            "gridcolor": "white",
            "linecolor": "white",
            "ticks": ""
           },
           "bgcolor": "#E5ECF6",
           "caxis": {
            "gridcolor": "white",
            "linecolor": "white",
            "ticks": ""
           }
          },
          "title": {
           "x": 0.05
          },
          "xaxis": {
           "automargin": true,
           "gridcolor": "white",
           "linecolor": "white",
           "ticks": "",
           "title": {
            "standoff": 15
           },
           "zerolinecolor": "white",
           "zerolinewidth": 2
          },
          "yaxis": {
           "automargin": true,
           "gridcolor": "white",
           "linecolor": "white",
           "ticks": "",
           "title": {
            "standoff": 15
           },
           "zerolinecolor": "white",
           "zerolinewidth": 2
          }
         }
        },
        "title": {
         "font": {
          "color": "#4D5663"
         }
        },
        "xaxis": {
         "gridcolor": "#E1E5ED",
         "showgrid": true,
         "tickfont": {
          "color": "#4D5663"
         },
         "title": {
          "font": {
           "color": "#4D5663"
          },
          "text": ""
         },
         "zerolinecolor": "#E1E5ED"
        },
        "yaxis": {
         "gridcolor": "#E1E5ED",
         "showgrid": true,
         "tickfont": {
          "color": "#4D5663"
         },
         "title": {
          "font": {
           "color": "#4D5663"
          },
          "text": ""
         },
         "zerolinecolor": "#E1E5ED"
        }
       }
      },
      "text/html": [
       "<div>                            <div id=\"b422f58a-9285-4059-a1cb-f34af4f58e7d\" class=\"plotly-graph-div\" style=\"height:525px; width:100%;\"></div>            <script type=\"text/javascript\">                require([\"plotly\"], function(Plotly) {                    window.PLOTLYENV=window.PLOTLYENV || {};\n",
       "                    window.PLOTLYENV.BASE_URL='https://plot.ly';                                    if (document.getElementById(\"b422f58a-9285-4059-a1cb-f34af4f58e7d\")) {                    Plotly.newPlot(                        \"b422f58a-9285-4059-a1cb-f34af4f58e7d\",                        [{\"boxpoints\":false,\"line\":{\"width\":1.3},\"marker\":{\"color\":\"rgba(255, 153, 51, 1.0)\"},\"name\":\"A\",\"orientation\":\"v\",\"y\":[1.0972199573688461,-0.8556300900285553,0.126238097867567,-0.8282204270169976,0.8560873352556525,0.5619925804799691,2.167754242657729,0.8685971008748656,-1.9289937198025082,0.5437032363502787,-0.9574925223199207,-0.24911605946206627,1.5931382742156124,1.295876030061057,-0.3059339088046586,-2.5137835517098113,-0.1843257337369107,-0.11925588099121849,0.040977527180113854,0.591519333167522,-1.9133114776397937,-0.4234397600642683,-0.37323357463192774,0.39736404172278844,-1.0687353713516132,-2.1137134499842243,0.026616150448040582,0.03207548264493021,2.2350858795361037,0.3865150785553918,-0.2765508952638007,-0.9742483462536244,-0.037418091518889154,-0.6957386432796877,0.26254940779255026,-0.37061011710613984,0.1940616159399782,-0.4712706922249023,-0.7438133035929787,-0.8617817265675123,1.2274765825622858,-2.1162084763156,-0.39314272842603903,-0.7536802700649506,-0.2586012758153935,-0.3647937634526296,0.28374946056505923,-0.7426970053836787,0.5138603605588284,-1.1221585741415925,2.462589511258795,0.326754111891552,-1.1360152092376024,1.1009591239625762,0.5331383898979563,1.030367103510399,-1.5476307035214891,-0.14353702750924907,0.6153365014212021,0.17582305872329348,-0.1407595696306908,0.9615519820277341,-0.18273247455217942,-1.2490206473611387,-0.6843774351888924,-0.9450323644698706,-0.41593589370993106,1.6402502318965975,0.15090798894901028,-0.7602056513090112,0.16666027169541586,-0.6140555628020126,0.1224738655616952,0.0355516286140335,-0.07126787414443411,-0.47293961552623126,-0.17699554805522952,0.46179222308616014,0.9014511792772176,-1.0619107340564138,0.2431893684974666,-0.5197779549294853,-0.37792729092691474,-0.9297917791003169,0.7464411364714747,1.3135926514013567,-0.11786793920996452,-0.9006190576593024,0.3189182367226934,-0.6013694007427746,0.6392332214332836,-0.41007665963566364,-0.44084763227914775,0.026668559790025716,0.7551911700826331,1.2784426404091564,1.9525932355403217,1.4083554324392453,-0.04995379723171119,-0.8870695309281038],\"type\":\"box\"},{\"boxpoints\":false,\"line\":{\"width\":1.3},\"marker\":{\"color\":\"rgba(55, 128, 191, 1.0)\"},\"name\":\"B\",\"orientation\":\"v\",\"y\":[-1.3637774842815413,0.353952675325184,0.21353536078393018,0.6699142800774748,-0.574120137178779,0.22137996731266077,0.1842868499658055,-0.5631842115771228,0.026902270886982552,1.6135586059124316,-0.24141231977133087,0.3589101422836867,0.5151474823005724,-0.8065719473373799,2.655984963239379,1.7676102880648454,0.536666074694593,1.7113497148684713,1.2103329781689967,0.2892831050976094,0.5536184590916052,-0.9080764903832801,1.3117010182803681,0.9496623261887203,2.1578662968217746,-2.2866991271331054,0.46502055933437225,0.3007190779204101,0.21565361054157617,0.7297651175587392,1.2110715854901988,-0.4313639363120854,0.3186649273727466,0.8610791269604751,-0.3520093584334649,-0.18440102023666888,0.20663158797414072,-1.2482030602991123,-0.15252849941252594,-0.6280150064398252,1.6384377692523178,-0.9686158825072473,1.523254680641849,-0.43324496175475813,0.17683089883614178,1.3437492789374694,0.7922225736517898,0.37848642017699863,1.944114142362021,-1.1989544380354518,0.9270998914726263,0.21227650911028123,1.6141779405665395,0.7559046937544706,1.3126072045227353,-0.33678296009720143,0.29379536995738714,-0.814197978560749,0.035366931482711854,-1.7283954579795704,0.21158915830886985,1.0445162035800992,-0.8675878384458665,-0.39509555817917685,0.39641202034336487,0.34138447652912884,-1.5794190042582488,1.6361047889920284,0.10099997488030328,1.380339719163687,-0.1942889589590072,0.030121399759899314,-0.22129904013345408,0.5198780246561374,0.718822922695734,-1.0378545103964494,0.5094549811222295,0.9981651911086201,-0.3052056534959569,-1.0367418993908588,0.8114795684472617,-1.984381866446984,-0.7176887974181332,0.2326928856538649,-0.06287311871688153,0.3424467162006518,-0.7303309346947787,-0.7732572902361802,0.017804708943345644,2.2215543781141633,-0.4078351257654741,-0.029488329916561636,0.3382837144894597,-1.7290701278444445,-1.7183982409460457,0.6898709280559027,-1.2171663269029787,-0.5932799090423962,-0.409927639782033,1.1406913323954189],\"type\":\"box\"},{\"boxpoints\":false,\"line\":{\"width\":1.3},\"marker\":{\"color\":\"rgba(50, 171, 96, 1.0)\"},\"name\":\"C\",\"orientation\":\"v\",\"y\":[1.7441444268444621,-1.3571809582949532,-0.5997803803184673,0.5136575022216522,-0.2838279646933433,0.36791853405653707,-0.8301022377992087,-1.839793469893,-0.7066247079268967,0.8801286868007496,2.3321073682831206,1.2817107032896797,-0.3336674844381158,0.9640589507222928,1.1174560065410974,0.13742478008949918,0.422611403168731,-2.02126224568225,0.3725032072100424,0.6375837045563109,0.48409137155102644,-1.3188893337688938,1.0351008668977895,-0.1078610714437173,-1.0714872756406661,0.36299985911785887,-0.2663598281959314,-0.13936621226773235,1.5634508491681254,0.11722009064520982,-0.6311174905821366,1.0176053134414236,0.1930356053045629,-0.6452265018090639,1.212576031273781,-0.41756275368521373,-0.05084938082231021,1.3689341937764048,0.6937624179644558,-1.1079621913633733,1.524803992919876,0.5498480902392452,1.921727117885748,0.9737348902866186,0.30741346156809546,0.2766375646427449,-1.6482611307797688,-0.3263070889295888,1.0878737098420215,-0.765017935436571,0.09908709624767846,1.075132096831975,0.32591691894492913,-0.9505559412638134,0.8518786843713807,2.0053245315642743,0.0064170006344238095,1.3877408380309788,-1.159928103058354,0.37458153522549786,0.14556569596995914,-0.9225375411594947,0.2732011044440375,1.00563474086416,-1.8036431451086403,-0.6841874227735335,0.5306868618779714,-2.1828529498193343,-0.40306005109868626,1.3315620367452865,-0.5852132025838219,-1.0812359396637476,-0.19156909840427944,-0.016256672670362064,0.41094406123749944,0.25312201160334846,-0.8628860743124456,0.060058552317430486,-0.17463669980882854,0.563579278564023,0.7207705370182675,-1.9768846335355195,1.0498202378486199,-0.07676005165937246,0.11622186861272342,1.3522798146343886,0.3066726347961337,-0.016262251887249665,2.5582467326198266,-0.4100318259422234,1.2012186250185024,-0.4848897360002726,0.0656295218447803,0.9754947681988773,0.47253300044969765,-0.12573270430543682,0.15288422279365216,-0.05940658101056851,-0.7751888302513141,1.8816948506046864],\"type\":\"box\"},{\"boxpoints\":false,\"line\":{\"width\":1.3},\"marker\":{\"color\":\"rgba(128, 0, 128, 1.0)\"},\"name\":\"D\",\"orientation\":\"v\",\"y\":[0.288073644622906,-0.6196480294379495,0.4352912178986984,1.3858483000443054,-0.12967783089136828,0.25901940507108606,-0.15369446045114837,0.7022791049065268,0.25003367642911445,0.6423040484592956,-0.06515752085004241,-0.2428497626437784,3.017296437956513,-0.2873600024607329,0.7858449713650546,-0.2527239645512696,-1.0706166628771294,1.30301604833422,-0.6035874827134198,-0.08194565023611032,-0.7434120074720523,-0.622350129771808,0.25224914913165547,-0.40271633351280484,-0.6401774801595804,-1.5488484085800065,0.11473011687590177,-0.20835998436792869,0.03060385876344897,-0.6195768008460987,1.0367646544705695,0.6863266604025321,0.27869920937452786,0.3139776946948659,-0.4275409048884473,0.6114339959922276,-0.041968596690567184,0.29870089152331825,-0.7633953281817364,0.7174993318718507,-1.2831130795055063,1.3745239986080247,0.13375071683693568,0.27039092883369986,-1.7047901060150608,0.2703024515670794,-0.24802671571485174,-0.505782056400116,0.9042068737244287,-0.706912859024362,-1.154218503943458,0.7209859769209502,-0.4994228090441744,0.7668114269013349,-0.46177981263883,-0.030700677042771234,-0.3219389644258767,-0.9760524729894123,0.22272923363405842,-0.03821262707650034,0.03602664326105428,-1.7686308352616142,0.3349026690553228,1.1045955353888688,-1.0694638326577615,0.8417559558881049,-0.3065524737142244,-1.2261442399978455,-0.25912865005178964,0.8031747205194517,1.5230957745817966,-0.27939989540503624,0.49483465178498076,-0.07236550494013297,-0.6251070562374017,0.4832219323713606,1.8981437362531792,-0.5312073144789279,0.6745558314731132,-0.7156297556397487,-0.5259849913047434,0.12817459979566342,0.25976296024330936,-0.8887673629176817,1.4629420195867027,-0.8697290492235933,0.7041186624009869,2.2787105968099186,-0.6719568104744766,1.5008672928070275,0.8916534726836076,0.34273802958541766,-0.15562415135930815,-0.6550811919299239,1.1428124102932224,0.03409777252625565,2.504284355186978,-0.19164274036642848,1.899465898860514,1.2650752163646082],\"type\":\"box\"}],                        {\"legend\":{\"bgcolor\":\"#F5F6F9\",\"font\":{\"color\":\"#4D5663\"}},\"paper_bgcolor\":\"#F5F6F9\",\"plot_bgcolor\":\"#F5F6F9\",\"template\":{\"data\":{\"barpolar\":[{\"marker\":{\"line\":{\"color\":\"#E5ECF6\",\"width\":0.5},\"pattern\":{\"fillmode\":\"overlay\",\"size\":10,\"solidity\":0.2}},\"type\":\"barpolar\"}],\"bar\":[{\"error_x\":{\"color\":\"#2a3f5f\"},\"error_y\":{\"color\":\"#2a3f5f\"},\"marker\":{\"line\":{\"color\":\"#E5ECF6\",\"width\":0.5},\"pattern\":{\"fillmode\":\"overlay\",\"size\":10,\"solidity\":0.2}},\"type\":\"bar\"}],\"carpet\":[{\"aaxis\":{\"endlinecolor\":\"#2a3f5f\",\"gridcolor\":\"white\",\"linecolor\":\"white\",\"minorgridcolor\":\"white\",\"startlinecolor\":\"#2a3f5f\"},\"baxis\":{\"endlinecolor\":\"#2a3f5f\",\"gridcolor\":\"white\",\"linecolor\":\"white\",\"minorgridcolor\":\"white\",\"startlinecolor\":\"#2a3f5f\"},\"type\":\"carpet\"}],\"choropleth\":[{\"colorbar\":{\"outlinewidth\":0,\"ticks\":\"\"},\"type\":\"choropleth\"}],\"contourcarpet\":[{\"colorbar\":{\"outlinewidth\":0,\"ticks\":\"\"},\"type\":\"contourcarpet\"}],\"contour\":[{\"colorbar\":{\"outlinewidth\":0,\"ticks\":\"\"},\"colorscale\":[[0.0,\"#0d0887\"],[0.1111111111111111,\"#46039f\"],[0.2222222222222222,\"#7201a8\"],[0.3333333333333333,\"#9c179e\"],[0.4444444444444444,\"#bd3786\"],[0.5555555555555556,\"#d8576b\"],[0.6666666666666666,\"#ed7953\"],[0.7777777777777778,\"#fb9f3a\"],[0.8888888888888888,\"#fdca26\"],[1.0,\"#f0f921\"]],\"type\":\"contour\"}],\"heatmapgl\":[{\"colorbar\":{\"outlinewidth\":0,\"ticks\":\"\"},\"colorscale\":[[0.0,\"#0d0887\"],[0.1111111111111111,\"#46039f\"],[0.2222222222222222,\"#7201a8\"],[0.3333333333333333,\"#9c179e\"],[0.4444444444444444,\"#bd3786\"],[0.5555555555555556,\"#d8576b\"],[0.6666666666666666,\"#ed7953\"],[0.7777777777777778,\"#fb9f3a\"],[0.8888888888888888,\"#fdca26\"],[1.0,\"#f0f921\"]],\"type\":\"heatmapgl\"}],\"heatmap\":[{\"colorbar\":{\"outlinewidth\":0,\"ticks\":\"\"},\"colorscale\":[[0.0,\"#0d0887\"],[0.1111111111111111,\"#46039f\"],[0.2222222222222222,\"#7201a8\"],[0.3333333333333333,\"#9c179e\"],[0.4444444444444444,\"#bd3786\"],[0.5555555555555556,\"#d8576b\"],[0.6666666666666666,\"#ed7953\"],[0.7777777777777778,\"#fb9f3a\"],[0.8888888888888888,\"#fdca26\"],[1.0,\"#f0f921\"]],\"type\":\"heatmap\"}],\"histogram2dcontour\":[{\"colorbar\":{\"outlinewidth\":0,\"ticks\":\"\"},\"colorscale\":[[0.0,\"#0d0887\"],[0.1111111111111111,\"#46039f\"],[0.2222222222222222,\"#7201a8\"],[0.3333333333333333,\"#9c179e\"],[0.4444444444444444,\"#bd3786\"],[0.5555555555555556,\"#d8576b\"],[0.6666666666666666,\"#ed7953\"],[0.7777777777777778,\"#fb9f3a\"],[0.8888888888888888,\"#fdca26\"],[1.0,\"#f0f921\"]],\"type\":\"histogram2dcontour\"}],\"histogram2d\":[{\"colorbar\":{\"outlinewidth\":0,\"ticks\":\"\"},\"colorscale\":[[0.0,\"#0d0887\"],[0.1111111111111111,\"#46039f\"],[0.2222222222222222,\"#7201a8\"],[0.3333333333333333,\"#9c179e\"],[0.4444444444444444,\"#bd3786\"],[0.5555555555555556,\"#d8576b\"],[0.6666666666666666,\"#ed7953\"],[0.7777777777777778,\"#fb9f3a\"],[0.8888888888888888,\"#fdca26\"],[1.0,\"#f0f921\"]],\"type\":\"histogram2d\"}],\"histogram\":[{\"marker\":{\"pattern\":{\"fillmode\":\"overlay\",\"size\":10,\"solidity\":0.2}},\"type\":\"histogram\"}],\"mesh3d\":[{\"colorbar\":{\"outlinewidth\":0,\"ticks\":\"\"},\"type\":\"mesh3d\"}],\"parcoords\":[{\"line\":{\"colorbar\":{\"outlinewidth\":0,\"ticks\":\"\"}},\"type\":\"parcoords\"}],\"pie\":[{\"automargin\":true,\"type\":\"pie\"}],\"scatter3d\":[{\"line\":{\"colorbar\":{\"outlinewidth\":0,\"ticks\":\"\"}},\"marker\":{\"colorbar\":{\"outlinewidth\":0,\"ticks\":\"\"}},\"type\":\"scatter3d\"}],\"scattercarpet\":[{\"marker\":{\"colorbar\":{\"outlinewidth\":0,\"ticks\":\"\"}},\"type\":\"scattercarpet\"}],\"scattergeo\":[{\"marker\":{\"colorbar\":{\"outlinewidth\":0,\"ticks\":\"\"}},\"type\":\"scattergeo\"}],\"scattergl\":[{\"marker\":{\"colorbar\":{\"outlinewidth\":0,\"ticks\":\"\"}},\"type\":\"scattergl\"}],\"scattermapbox\":[{\"marker\":{\"colorbar\":{\"outlinewidth\":0,\"ticks\":\"\"}},\"type\":\"scattermapbox\"}],\"scatterpolargl\":[{\"marker\":{\"colorbar\":{\"outlinewidth\":0,\"ticks\":\"\"}},\"type\":\"scatterpolargl\"}],\"scatterpolar\":[{\"marker\":{\"colorbar\":{\"outlinewidth\":0,\"ticks\":\"\"}},\"type\":\"scatterpolar\"}],\"scatter\":[{\"fillpattern\":{\"fillmode\":\"overlay\",\"size\":10,\"solidity\":0.2},\"type\":\"scatter\"}],\"scatterternary\":[{\"marker\":{\"colorbar\":{\"outlinewidth\":0,\"ticks\":\"\"}},\"type\":\"scatterternary\"}],\"surface\":[{\"colorbar\":{\"outlinewidth\":0,\"ticks\":\"\"},\"colorscale\":[[0.0,\"#0d0887\"],[0.1111111111111111,\"#46039f\"],[0.2222222222222222,\"#7201a8\"],[0.3333333333333333,\"#9c179e\"],[0.4444444444444444,\"#bd3786\"],[0.5555555555555556,\"#d8576b\"],[0.6666666666666666,\"#ed7953\"],[0.7777777777777778,\"#fb9f3a\"],[0.8888888888888888,\"#fdca26\"],[1.0,\"#f0f921\"]],\"type\":\"surface\"}],\"table\":[{\"cells\":{\"fill\":{\"color\":\"#EBF0F8\"},\"line\":{\"color\":\"white\"}},\"header\":{\"fill\":{\"color\":\"#C8D4E3\"},\"line\":{\"color\":\"white\"}},\"type\":\"table\"}]},\"layout\":{\"annotationdefaults\":{\"arrowcolor\":\"#2a3f5f\",\"arrowhead\":0,\"arrowwidth\":1},\"autotypenumbers\":\"strict\",\"coloraxis\":{\"colorbar\":{\"outlinewidth\":0,\"ticks\":\"\"}},\"colorscale\":{\"diverging\":[[0,\"#8e0152\"],[0.1,\"#c51b7d\"],[0.2,\"#de77ae\"],[0.3,\"#f1b6da\"],[0.4,\"#fde0ef\"],[0.5,\"#f7f7f7\"],[0.6,\"#e6f5d0\"],[0.7,\"#b8e186\"],[0.8,\"#7fbc41\"],[0.9,\"#4d9221\"],[1,\"#276419\"]],\"sequential\":[[0.0,\"#0d0887\"],[0.1111111111111111,\"#46039f\"],[0.2222222222222222,\"#7201a8\"],[0.3333333333333333,\"#9c179e\"],[0.4444444444444444,\"#bd3786\"],[0.5555555555555556,\"#d8576b\"],[0.6666666666666666,\"#ed7953\"],[0.7777777777777778,\"#fb9f3a\"],[0.8888888888888888,\"#fdca26\"],[1.0,\"#f0f921\"]],\"sequentialminus\":[[0.0,\"#0d0887\"],[0.1111111111111111,\"#46039f\"],[0.2222222222222222,\"#7201a8\"],[0.3333333333333333,\"#9c179e\"],[0.4444444444444444,\"#bd3786\"],[0.5555555555555556,\"#d8576b\"],[0.6666666666666666,\"#ed7953\"],[0.7777777777777778,\"#fb9f3a\"],[0.8888888888888888,\"#fdca26\"],[1.0,\"#f0f921\"]]},\"colorway\":[\"#636efa\",\"#EF553B\",\"#00cc96\",\"#ab63fa\",\"#FFA15A\",\"#19d3f3\",\"#FF6692\",\"#B6E880\",\"#FF97FF\",\"#FECB52\"],\"font\":{\"color\":\"#2a3f5f\"},\"geo\":{\"bgcolor\":\"white\",\"lakecolor\":\"white\",\"landcolor\":\"#E5ECF6\",\"showlakes\":true,\"showland\":true,\"subunitcolor\":\"white\"},\"hoverlabel\":{\"align\":\"left\"},\"hovermode\":\"closest\",\"mapbox\":{\"style\":\"light\"},\"paper_bgcolor\":\"white\",\"plot_bgcolor\":\"#E5ECF6\",\"polar\":{\"angularaxis\":{\"gridcolor\":\"white\",\"linecolor\":\"white\",\"ticks\":\"\"},\"bgcolor\":\"#E5ECF6\",\"radialaxis\":{\"gridcolor\":\"white\",\"linecolor\":\"white\",\"ticks\":\"\"}},\"scene\":{\"xaxis\":{\"backgroundcolor\":\"#E5ECF6\",\"gridcolor\":\"white\",\"gridwidth\":2,\"linecolor\":\"white\",\"showbackground\":true,\"ticks\":\"\",\"zerolinecolor\":\"white\"},\"yaxis\":{\"backgroundcolor\":\"#E5ECF6\",\"gridcolor\":\"white\",\"gridwidth\":2,\"linecolor\":\"white\",\"showbackground\":true,\"ticks\":\"\",\"zerolinecolor\":\"white\"},\"zaxis\":{\"backgroundcolor\":\"#E5ECF6\",\"gridcolor\":\"white\",\"gridwidth\":2,\"linecolor\":\"white\",\"showbackground\":true,\"ticks\":\"\",\"zerolinecolor\":\"white\"}},\"shapedefaults\":{\"line\":{\"color\":\"#2a3f5f\"}},\"ternary\":{\"aaxis\":{\"gridcolor\":\"white\",\"linecolor\":\"white\",\"ticks\":\"\"},\"baxis\":{\"gridcolor\":\"white\",\"linecolor\":\"white\",\"ticks\":\"\"},\"bgcolor\":\"#E5ECF6\",\"caxis\":{\"gridcolor\":\"white\",\"linecolor\":\"white\",\"ticks\":\"\"}},\"title\":{\"x\":0.05},\"xaxis\":{\"automargin\":true,\"gridcolor\":\"white\",\"linecolor\":\"white\",\"ticks\":\"\",\"title\":{\"standoff\":15},\"zerolinecolor\":\"white\",\"zerolinewidth\":2},\"yaxis\":{\"automargin\":true,\"gridcolor\":\"white\",\"linecolor\":\"white\",\"ticks\":\"\",\"title\":{\"standoff\":15},\"zerolinecolor\":\"white\",\"zerolinewidth\":2}}},\"title\":{\"font\":{\"color\":\"#4D5663\"}},\"xaxis\":{\"gridcolor\":\"#E1E5ED\",\"showgrid\":true,\"tickfont\":{\"color\":\"#4D5663\"},\"title\":{\"font\":{\"color\":\"#4D5663\"},\"text\":\"\"},\"zerolinecolor\":\"#E1E5ED\"},\"yaxis\":{\"gridcolor\":\"#E1E5ED\",\"showgrid\":true,\"tickfont\":{\"color\":\"#4D5663\"},\"title\":{\"font\":{\"color\":\"#4D5663\"},\"text\":\"\"},\"zerolinecolor\":\"#E1E5ED\"}},                        {\"showLink\": true, \"linkText\": \"Export to plot.ly\", \"plotlyServerURL\": \"https://plot.ly\", \"responsive\": true}                    ).then(function(){\n",
       "                            \n",
       "var gd = document.getElementById('b422f58a-9285-4059-a1cb-f34af4f58e7d');\n",
       "var x = new MutationObserver(function (mutations, observer) {{\n",
       "        var display = window.getComputedStyle(gd).display;\n",
       "        if (!display || display === 'none') {{\n",
       "            console.log([gd, 'removed!']);\n",
       "            Plotly.purge(gd);\n",
       "            observer.disconnect();\n",
       "        }}\n",
       "}});\n",
       "\n",
       "// Listen for the removal of the full notebook cells\n",
       "var notebookContainer = gd.closest('#notebook-container');\n",
       "if (notebookContainer) {{\n",
       "    x.observe(notebookContainer, {childList: true});\n",
       "}}\n",
       "\n",
       "// Listen for the clearing of the current output cell\n",
       "var outputEl = gd.closest('.output');\n",
       "if (outputEl) {{\n",
       "    x.observe(outputEl, {childList: true});\n",
       "}}\n",
       "\n",
       "                        })                };                });            </script>        </div>"
      ]
     },
     "metadata": {},
     "output_type": "display_data"
    }
   ],
   "source": [
    "df.iplot(kind='box')"
   ]
  },
  {
   "cell_type": "code",
   "execution_count": 10,
   "id": "72094a68",
   "metadata": {},
   "outputs": [
    {
     "data": {
      "application/vnd.plotly.v1+json": {
       "config": {
        "linkText": "Export to plot.ly",
        "plotlyServerURL": "https://plot.ly",
        "showLink": true
       },
       "data": [
        {
         "colorscale": [
          [
           0,
           "rgb(165,0,38)"
          ],
          [
           0.1,
           "rgb(215,48,39)"
          ],
          [
           0.2,
           "rgb(244,109,67)"
          ],
          [
           0.3,
           "rgb(253,174,97)"
          ],
          [
           0.4,
           "rgb(254,224,144)"
          ],
          [
           0.5,
           "rgb(255,255,191)"
          ],
          [
           0.6,
           "rgb(224,243,248)"
          ],
          [
           0.7,
           "rgb(171,217,233)"
          ],
          [
           0.8,
           "rgb(116,173,209)"
          ],
          [
           0.9,
           "rgb(69,117,180)"
          ],
          [
           1,
           "rgb(49,54,149)"
          ]
         ],
         "type": "surface",
         "x": [
          0,
          1,
          2,
          3,
          4
         ],
         "y": [
          "x",
          "y",
          "z"
         ],
         "z": [
          [
           1,
           2,
           3,
           4,
           5
          ],
          [
           10,
           20,
           30,
           20,
           10
          ],
          [
           5,
           4,
           3,
           2,
           1
          ]
         ]
        }
       ],
       "layout": {
        "legend": {
         "bgcolor": "#F5F6F9",
         "font": {
          "color": "#4D5663"
         }
        },
        "paper_bgcolor": "#F5F6F9",
        "plot_bgcolor": "#F5F6F9",
        "template": {
         "data": {
          "bar": [
           {
            "error_x": {
             "color": "#2a3f5f"
            },
            "error_y": {
             "color": "#2a3f5f"
            },
            "marker": {
             "line": {
              "color": "#E5ECF6",
              "width": 0.5
             },
             "pattern": {
              "fillmode": "overlay",
              "size": 10,
              "solidity": 0.2
             }
            },
            "type": "bar"
           }
          ],
          "barpolar": [
           {
            "marker": {
             "line": {
              "color": "#E5ECF6",
              "width": 0.5
             },
             "pattern": {
              "fillmode": "overlay",
              "size": 10,
              "solidity": 0.2
             }
            },
            "type": "barpolar"
           }
          ],
          "carpet": [
           {
            "aaxis": {
             "endlinecolor": "#2a3f5f",
             "gridcolor": "white",
             "linecolor": "white",
             "minorgridcolor": "white",
             "startlinecolor": "#2a3f5f"
            },
            "baxis": {
             "endlinecolor": "#2a3f5f",
             "gridcolor": "white",
             "linecolor": "white",
             "minorgridcolor": "white",
             "startlinecolor": "#2a3f5f"
            },
            "type": "carpet"
           }
          ],
          "choropleth": [
           {
            "colorbar": {
             "outlinewidth": 0,
             "ticks": ""
            },
            "type": "choropleth"
           }
          ],
          "contour": [
           {
            "colorbar": {
             "outlinewidth": 0,
             "ticks": ""
            },
            "colorscale": [
             [
              0,
              "#0d0887"
             ],
             [
              0.1111111111111111,
              "#46039f"
             ],
             [
              0.2222222222222222,
              "#7201a8"
             ],
             [
              0.3333333333333333,
              "#9c179e"
             ],
             [
              0.4444444444444444,
              "#bd3786"
             ],
             [
              0.5555555555555556,
              "#d8576b"
             ],
             [
              0.6666666666666666,
              "#ed7953"
             ],
             [
              0.7777777777777778,
              "#fb9f3a"
             ],
             [
              0.8888888888888888,
              "#fdca26"
             ],
             [
              1,
              "#f0f921"
             ]
            ],
            "type": "contour"
           }
          ],
          "contourcarpet": [
           {
            "colorbar": {
             "outlinewidth": 0,
             "ticks": ""
            },
            "type": "contourcarpet"
           }
          ],
          "heatmap": [
           {
            "colorbar": {
             "outlinewidth": 0,
             "ticks": ""
            },
            "colorscale": [
             [
              0,
              "#0d0887"
             ],
             [
              0.1111111111111111,
              "#46039f"
             ],
             [
              0.2222222222222222,
              "#7201a8"
             ],
             [
              0.3333333333333333,
              "#9c179e"
             ],
             [
              0.4444444444444444,
              "#bd3786"
             ],
             [
              0.5555555555555556,
              "#d8576b"
             ],
             [
              0.6666666666666666,
              "#ed7953"
             ],
             [
              0.7777777777777778,
              "#fb9f3a"
             ],
             [
              0.8888888888888888,
              "#fdca26"
             ],
             [
              1,
              "#f0f921"
             ]
            ],
            "type": "heatmap"
           }
          ],
          "heatmapgl": [
           {
            "colorbar": {
             "outlinewidth": 0,
             "ticks": ""
            },
            "colorscale": [
             [
              0,
              "#0d0887"
             ],
             [
              0.1111111111111111,
              "#46039f"
             ],
             [
              0.2222222222222222,
              "#7201a8"
             ],
             [
              0.3333333333333333,
              "#9c179e"
             ],
             [
              0.4444444444444444,
              "#bd3786"
             ],
             [
              0.5555555555555556,
              "#d8576b"
             ],
             [
              0.6666666666666666,
              "#ed7953"
             ],
             [
              0.7777777777777778,
              "#fb9f3a"
             ],
             [
              0.8888888888888888,
              "#fdca26"
             ],
             [
              1,
              "#f0f921"
             ]
            ],
            "type": "heatmapgl"
           }
          ],
          "histogram": [
           {
            "marker": {
             "pattern": {
              "fillmode": "overlay",
              "size": 10,
              "solidity": 0.2
             }
            },
            "type": "histogram"
           }
          ],
          "histogram2d": [
           {
            "colorbar": {
             "outlinewidth": 0,
             "ticks": ""
            },
            "colorscale": [
             [
              0,
              "#0d0887"
             ],
             [
              0.1111111111111111,
              "#46039f"
             ],
             [
              0.2222222222222222,
              "#7201a8"
             ],
             [
              0.3333333333333333,
              "#9c179e"
             ],
             [
              0.4444444444444444,
              "#bd3786"
             ],
             [
              0.5555555555555556,
              "#d8576b"
             ],
             [
              0.6666666666666666,
              "#ed7953"
             ],
             [
              0.7777777777777778,
              "#fb9f3a"
             ],
             [
              0.8888888888888888,
              "#fdca26"
             ],
             [
              1,
              "#f0f921"
             ]
            ],
            "type": "histogram2d"
           }
          ],
          "histogram2dcontour": [
           {
            "colorbar": {
             "outlinewidth": 0,
             "ticks": ""
            },
            "colorscale": [
             [
              0,
              "#0d0887"
             ],
             [
              0.1111111111111111,
              "#46039f"
             ],
             [
              0.2222222222222222,
              "#7201a8"
             ],
             [
              0.3333333333333333,
              "#9c179e"
             ],
             [
              0.4444444444444444,
              "#bd3786"
             ],
             [
              0.5555555555555556,
              "#d8576b"
             ],
             [
              0.6666666666666666,
              "#ed7953"
             ],
             [
              0.7777777777777778,
              "#fb9f3a"
             ],
             [
              0.8888888888888888,
              "#fdca26"
             ],
             [
              1,
              "#f0f921"
             ]
            ],
            "type": "histogram2dcontour"
           }
          ],
          "mesh3d": [
           {
            "colorbar": {
             "outlinewidth": 0,
             "ticks": ""
            },
            "type": "mesh3d"
           }
          ],
          "parcoords": [
           {
            "line": {
             "colorbar": {
              "outlinewidth": 0,
              "ticks": ""
             }
            },
            "type": "parcoords"
           }
          ],
          "pie": [
           {
            "automargin": true,
            "type": "pie"
           }
          ],
          "scatter": [
           {
            "fillpattern": {
             "fillmode": "overlay",
             "size": 10,
             "solidity": 0.2
            },
            "type": "scatter"
           }
          ],
          "scatter3d": [
           {
            "line": {
             "colorbar": {
              "outlinewidth": 0,
              "ticks": ""
             }
            },
            "marker": {
             "colorbar": {
              "outlinewidth": 0,
              "ticks": ""
             }
            },
            "type": "scatter3d"
           }
          ],
          "scattercarpet": [
           {
            "marker": {
             "colorbar": {
              "outlinewidth": 0,
              "ticks": ""
             }
            },
            "type": "scattercarpet"
           }
          ],
          "scattergeo": [
           {
            "marker": {
             "colorbar": {
              "outlinewidth": 0,
              "ticks": ""
             }
            },
            "type": "scattergeo"
           }
          ],
          "scattergl": [
           {
            "marker": {
             "colorbar": {
              "outlinewidth": 0,
              "ticks": ""
             }
            },
            "type": "scattergl"
           }
          ],
          "scattermapbox": [
           {
            "marker": {
             "colorbar": {
              "outlinewidth": 0,
              "ticks": ""
             }
            },
            "type": "scattermapbox"
           }
          ],
          "scatterpolar": [
           {
            "marker": {
             "colorbar": {
              "outlinewidth": 0,
              "ticks": ""
             }
            },
            "type": "scatterpolar"
           }
          ],
          "scatterpolargl": [
           {
            "marker": {
             "colorbar": {
              "outlinewidth": 0,
              "ticks": ""
             }
            },
            "type": "scatterpolargl"
           }
          ],
          "scatterternary": [
           {
            "marker": {
             "colorbar": {
              "outlinewidth": 0,
              "ticks": ""
             }
            },
            "type": "scatterternary"
           }
          ],
          "surface": [
           {
            "colorbar": {
             "outlinewidth": 0,
             "ticks": ""
            },
            "colorscale": [
             [
              0,
              "#0d0887"
             ],
             [
              0.1111111111111111,
              "#46039f"
             ],
             [
              0.2222222222222222,
              "#7201a8"
             ],
             [
              0.3333333333333333,
              "#9c179e"
             ],
             [
              0.4444444444444444,
              "#bd3786"
             ],
             [
              0.5555555555555556,
              "#d8576b"
             ],
             [
              0.6666666666666666,
              "#ed7953"
             ],
             [
              0.7777777777777778,
              "#fb9f3a"
             ],
             [
              0.8888888888888888,
              "#fdca26"
             ],
             [
              1,
              "#f0f921"
             ]
            ],
            "type": "surface"
           }
          ],
          "table": [
           {
            "cells": {
             "fill": {
              "color": "#EBF0F8"
             },
             "line": {
              "color": "white"
             }
            },
            "header": {
             "fill": {
              "color": "#C8D4E3"
             },
             "line": {
              "color": "white"
             }
            },
            "type": "table"
           }
          ]
         },
         "layout": {
          "annotationdefaults": {
           "arrowcolor": "#2a3f5f",
           "arrowhead": 0,
           "arrowwidth": 1
          },
          "autotypenumbers": "strict",
          "coloraxis": {
           "colorbar": {
            "outlinewidth": 0,
            "ticks": ""
           }
          },
          "colorscale": {
           "diverging": [
            [
             0,
             "#8e0152"
            ],
            [
             0.1,
             "#c51b7d"
            ],
            [
             0.2,
             "#de77ae"
            ],
            [
             0.3,
             "#f1b6da"
            ],
            [
             0.4,
             "#fde0ef"
            ],
            [
             0.5,
             "#f7f7f7"
            ],
            [
             0.6,
             "#e6f5d0"
            ],
            [
             0.7,
             "#b8e186"
            ],
            [
             0.8,
             "#7fbc41"
            ],
            [
             0.9,
             "#4d9221"
            ],
            [
             1,
             "#276419"
            ]
           ],
           "sequential": [
            [
             0,
             "#0d0887"
            ],
            [
             0.1111111111111111,
             "#46039f"
            ],
            [
             0.2222222222222222,
             "#7201a8"
            ],
            [
             0.3333333333333333,
             "#9c179e"
            ],
            [
             0.4444444444444444,
             "#bd3786"
            ],
            [
             0.5555555555555556,
             "#d8576b"
            ],
            [
             0.6666666666666666,
             "#ed7953"
            ],
            [
             0.7777777777777778,
             "#fb9f3a"
            ],
            [
             0.8888888888888888,
             "#fdca26"
            ],
            [
             1,
             "#f0f921"
            ]
           ],
           "sequentialminus": [
            [
             0,
             "#0d0887"
            ],
            [
             0.1111111111111111,
             "#46039f"
            ],
            [
             0.2222222222222222,
             "#7201a8"
            ],
            [
             0.3333333333333333,
             "#9c179e"
            ],
            [
             0.4444444444444444,
             "#bd3786"
            ],
            [
             0.5555555555555556,
             "#d8576b"
            ],
            [
             0.6666666666666666,
             "#ed7953"
            ],
            [
             0.7777777777777778,
             "#fb9f3a"
            ],
            [
             0.8888888888888888,
             "#fdca26"
            ],
            [
             1,
             "#f0f921"
            ]
           ]
          },
          "colorway": [
           "#636efa",
           "#EF553B",
           "#00cc96",
           "#ab63fa",
           "#FFA15A",
           "#19d3f3",
           "#FF6692",
           "#B6E880",
           "#FF97FF",
           "#FECB52"
          ],
          "font": {
           "color": "#2a3f5f"
          },
          "geo": {
           "bgcolor": "white",
           "lakecolor": "white",
           "landcolor": "#E5ECF6",
           "showlakes": true,
           "showland": true,
           "subunitcolor": "white"
          },
          "hoverlabel": {
           "align": "left"
          },
          "hovermode": "closest",
          "mapbox": {
           "style": "light"
          },
          "paper_bgcolor": "white",
          "plot_bgcolor": "#E5ECF6",
          "polar": {
           "angularaxis": {
            "gridcolor": "white",
            "linecolor": "white",
            "ticks": ""
           },
           "bgcolor": "#E5ECF6",
           "radialaxis": {
            "gridcolor": "white",
            "linecolor": "white",
            "ticks": ""
           }
          },
          "scene": {
           "xaxis": {
            "backgroundcolor": "#E5ECF6",
            "gridcolor": "white",
            "gridwidth": 2,
            "linecolor": "white",
            "showbackground": true,
            "ticks": "",
            "zerolinecolor": "white"
           },
           "yaxis": {
            "backgroundcolor": "#E5ECF6",
            "gridcolor": "white",
            "gridwidth": 2,
            "linecolor": "white",
            "showbackground": true,
            "ticks": "",
            "zerolinecolor": "white"
           },
           "zaxis": {
            "backgroundcolor": "#E5ECF6",
            "gridcolor": "white",
            "gridwidth": 2,
            "linecolor": "white",
            "showbackground": true,
            "ticks": "",
            "zerolinecolor": "white"
           }
          },
          "shapedefaults": {
           "line": {
            "color": "#2a3f5f"
           }
          },
          "ternary": {
           "aaxis": {
            "gridcolor": "white",
            "linecolor": "white",
            "ticks": ""
           },
           "baxis": {
            "gridcolor": "white",
            "linecolor": "white",
            "ticks": ""
           },
           "bgcolor": "#E5ECF6",
           "caxis": {
            "gridcolor": "white",
            "linecolor": "white",
            "ticks": ""
           }
          },
          "title": {
           "x": 0.05
          },
          "xaxis": {
           "automargin": true,
           "gridcolor": "white",
           "linecolor": "white",
           "ticks": "",
           "title": {
            "standoff": 15
           },
           "zerolinecolor": "white",
           "zerolinewidth": 2
          },
          "yaxis": {
           "automargin": true,
           "gridcolor": "white",
           "linecolor": "white",
           "ticks": "",
           "title": {
            "standoff": 15
           },
           "zerolinecolor": "white",
           "zerolinewidth": 2
          }
         }
        },
        "title": {
         "font": {
          "color": "#4D5663"
         }
        },
        "xaxis": {
         "gridcolor": "#E1E5ED",
         "showgrid": true,
         "tickfont": {
          "color": "#4D5663"
         },
         "title": {
          "font": {
           "color": "#4D5663"
          },
          "text": ""
         },
         "zerolinecolor": "#E1E5ED"
        },
        "yaxis": {
         "gridcolor": "#E1E5ED",
         "showgrid": true,
         "tickfont": {
          "color": "#4D5663"
         },
         "title": {
          "font": {
           "color": "#4D5663"
          },
          "text": ""
         },
         "zerolinecolor": "#E1E5ED"
        }
       }
      },
      "text/html": [
       "<div>                            <div id=\"7cfc5f64-e88c-4add-8fc7-c1d835c883c5\" class=\"plotly-graph-div\" style=\"height:525px; width:100%;\"></div>            <script type=\"text/javascript\">                require([\"plotly\"], function(Plotly) {                    window.PLOTLYENV=window.PLOTLYENV || {};\n",
       "                    window.PLOTLYENV.BASE_URL='https://plot.ly';                                    if (document.getElementById(\"7cfc5f64-e88c-4add-8fc7-c1d835c883c5\")) {                    Plotly.newPlot(                        \"7cfc5f64-e88c-4add-8fc7-c1d835c883c5\",                        [{\"colorscale\":[[0.0,\"rgb(165,0,38)\"],[0.1,\"rgb(215,48,39)\"],[0.2,\"rgb(244,109,67)\"],[0.3,\"rgb(253,174,97)\"],[0.4,\"rgb(254,224,144)\"],[0.5,\"rgb(255,255,191)\"],[0.6,\"rgb(224,243,248)\"],[0.7,\"rgb(171,217,233)\"],[0.8,\"rgb(116,173,209)\"],[0.9,\"rgb(69,117,180)\"],[1.0,\"rgb(49,54,149)\"]],\"x\":[0,1,2,3,4],\"y\":[\"x\",\"y\",\"z\"],\"z\":[[1,2,3,4,5],[10,20,30,20,10],[5,4,3,2,1]],\"type\":\"surface\"}],                        {\"legend\":{\"bgcolor\":\"#F5F6F9\",\"font\":{\"color\":\"#4D5663\"}},\"paper_bgcolor\":\"#F5F6F9\",\"plot_bgcolor\":\"#F5F6F9\",\"template\":{\"data\":{\"barpolar\":[{\"marker\":{\"line\":{\"color\":\"#E5ECF6\",\"width\":0.5},\"pattern\":{\"fillmode\":\"overlay\",\"size\":10,\"solidity\":0.2}},\"type\":\"barpolar\"}],\"bar\":[{\"error_x\":{\"color\":\"#2a3f5f\"},\"error_y\":{\"color\":\"#2a3f5f\"},\"marker\":{\"line\":{\"color\":\"#E5ECF6\",\"width\":0.5},\"pattern\":{\"fillmode\":\"overlay\",\"size\":10,\"solidity\":0.2}},\"type\":\"bar\"}],\"carpet\":[{\"aaxis\":{\"endlinecolor\":\"#2a3f5f\",\"gridcolor\":\"white\",\"linecolor\":\"white\",\"minorgridcolor\":\"white\",\"startlinecolor\":\"#2a3f5f\"},\"baxis\":{\"endlinecolor\":\"#2a3f5f\",\"gridcolor\":\"white\",\"linecolor\":\"white\",\"minorgridcolor\":\"white\",\"startlinecolor\":\"#2a3f5f\"},\"type\":\"carpet\"}],\"choropleth\":[{\"colorbar\":{\"outlinewidth\":0,\"ticks\":\"\"},\"type\":\"choropleth\"}],\"contourcarpet\":[{\"colorbar\":{\"outlinewidth\":0,\"ticks\":\"\"},\"type\":\"contourcarpet\"}],\"contour\":[{\"colorbar\":{\"outlinewidth\":0,\"ticks\":\"\"},\"colorscale\":[[0.0,\"#0d0887\"],[0.1111111111111111,\"#46039f\"],[0.2222222222222222,\"#7201a8\"],[0.3333333333333333,\"#9c179e\"],[0.4444444444444444,\"#bd3786\"],[0.5555555555555556,\"#d8576b\"],[0.6666666666666666,\"#ed7953\"],[0.7777777777777778,\"#fb9f3a\"],[0.8888888888888888,\"#fdca26\"],[1.0,\"#f0f921\"]],\"type\":\"contour\"}],\"heatmapgl\":[{\"colorbar\":{\"outlinewidth\":0,\"ticks\":\"\"},\"colorscale\":[[0.0,\"#0d0887\"],[0.1111111111111111,\"#46039f\"],[0.2222222222222222,\"#7201a8\"],[0.3333333333333333,\"#9c179e\"],[0.4444444444444444,\"#bd3786\"],[0.5555555555555556,\"#d8576b\"],[0.6666666666666666,\"#ed7953\"],[0.7777777777777778,\"#fb9f3a\"],[0.8888888888888888,\"#fdca26\"],[1.0,\"#f0f921\"]],\"type\":\"heatmapgl\"}],\"heatmap\":[{\"colorbar\":{\"outlinewidth\":0,\"ticks\":\"\"},\"colorscale\":[[0.0,\"#0d0887\"],[0.1111111111111111,\"#46039f\"],[0.2222222222222222,\"#7201a8\"],[0.3333333333333333,\"#9c179e\"],[0.4444444444444444,\"#bd3786\"],[0.5555555555555556,\"#d8576b\"],[0.6666666666666666,\"#ed7953\"],[0.7777777777777778,\"#fb9f3a\"],[0.8888888888888888,\"#fdca26\"],[1.0,\"#f0f921\"]],\"type\":\"heatmap\"}],\"histogram2dcontour\":[{\"colorbar\":{\"outlinewidth\":0,\"ticks\":\"\"},\"colorscale\":[[0.0,\"#0d0887\"],[0.1111111111111111,\"#46039f\"],[0.2222222222222222,\"#7201a8\"],[0.3333333333333333,\"#9c179e\"],[0.4444444444444444,\"#bd3786\"],[0.5555555555555556,\"#d8576b\"],[0.6666666666666666,\"#ed7953\"],[0.7777777777777778,\"#fb9f3a\"],[0.8888888888888888,\"#fdca26\"],[1.0,\"#f0f921\"]],\"type\":\"histogram2dcontour\"}],\"histogram2d\":[{\"colorbar\":{\"outlinewidth\":0,\"ticks\":\"\"},\"colorscale\":[[0.0,\"#0d0887\"],[0.1111111111111111,\"#46039f\"],[0.2222222222222222,\"#7201a8\"],[0.3333333333333333,\"#9c179e\"],[0.4444444444444444,\"#bd3786\"],[0.5555555555555556,\"#d8576b\"],[0.6666666666666666,\"#ed7953\"],[0.7777777777777778,\"#fb9f3a\"],[0.8888888888888888,\"#fdca26\"],[1.0,\"#f0f921\"]],\"type\":\"histogram2d\"}],\"histogram\":[{\"marker\":{\"pattern\":{\"fillmode\":\"overlay\",\"size\":10,\"solidity\":0.2}},\"type\":\"histogram\"}],\"mesh3d\":[{\"colorbar\":{\"outlinewidth\":0,\"ticks\":\"\"},\"type\":\"mesh3d\"}],\"parcoords\":[{\"line\":{\"colorbar\":{\"outlinewidth\":0,\"ticks\":\"\"}},\"type\":\"parcoords\"}],\"pie\":[{\"automargin\":true,\"type\":\"pie\"}],\"scatter3d\":[{\"line\":{\"colorbar\":{\"outlinewidth\":0,\"ticks\":\"\"}},\"marker\":{\"colorbar\":{\"outlinewidth\":0,\"ticks\":\"\"}},\"type\":\"scatter3d\"}],\"scattercarpet\":[{\"marker\":{\"colorbar\":{\"outlinewidth\":0,\"ticks\":\"\"}},\"type\":\"scattercarpet\"}],\"scattergeo\":[{\"marker\":{\"colorbar\":{\"outlinewidth\":0,\"ticks\":\"\"}},\"type\":\"scattergeo\"}],\"scattergl\":[{\"marker\":{\"colorbar\":{\"outlinewidth\":0,\"ticks\":\"\"}},\"type\":\"scattergl\"}],\"scattermapbox\":[{\"marker\":{\"colorbar\":{\"outlinewidth\":0,\"ticks\":\"\"}},\"type\":\"scattermapbox\"}],\"scatterpolargl\":[{\"marker\":{\"colorbar\":{\"outlinewidth\":0,\"ticks\":\"\"}},\"type\":\"scatterpolargl\"}],\"scatterpolar\":[{\"marker\":{\"colorbar\":{\"outlinewidth\":0,\"ticks\":\"\"}},\"type\":\"scatterpolar\"}],\"scatter\":[{\"fillpattern\":{\"fillmode\":\"overlay\",\"size\":10,\"solidity\":0.2},\"type\":\"scatter\"}],\"scatterternary\":[{\"marker\":{\"colorbar\":{\"outlinewidth\":0,\"ticks\":\"\"}},\"type\":\"scatterternary\"}],\"surface\":[{\"colorbar\":{\"outlinewidth\":0,\"ticks\":\"\"},\"colorscale\":[[0.0,\"#0d0887\"],[0.1111111111111111,\"#46039f\"],[0.2222222222222222,\"#7201a8\"],[0.3333333333333333,\"#9c179e\"],[0.4444444444444444,\"#bd3786\"],[0.5555555555555556,\"#d8576b\"],[0.6666666666666666,\"#ed7953\"],[0.7777777777777778,\"#fb9f3a\"],[0.8888888888888888,\"#fdca26\"],[1.0,\"#f0f921\"]],\"type\":\"surface\"}],\"table\":[{\"cells\":{\"fill\":{\"color\":\"#EBF0F8\"},\"line\":{\"color\":\"white\"}},\"header\":{\"fill\":{\"color\":\"#C8D4E3\"},\"line\":{\"color\":\"white\"}},\"type\":\"table\"}]},\"layout\":{\"annotationdefaults\":{\"arrowcolor\":\"#2a3f5f\",\"arrowhead\":0,\"arrowwidth\":1},\"autotypenumbers\":\"strict\",\"coloraxis\":{\"colorbar\":{\"outlinewidth\":0,\"ticks\":\"\"}},\"colorscale\":{\"diverging\":[[0,\"#8e0152\"],[0.1,\"#c51b7d\"],[0.2,\"#de77ae\"],[0.3,\"#f1b6da\"],[0.4,\"#fde0ef\"],[0.5,\"#f7f7f7\"],[0.6,\"#e6f5d0\"],[0.7,\"#b8e186\"],[0.8,\"#7fbc41\"],[0.9,\"#4d9221\"],[1,\"#276419\"]],\"sequential\":[[0.0,\"#0d0887\"],[0.1111111111111111,\"#46039f\"],[0.2222222222222222,\"#7201a8\"],[0.3333333333333333,\"#9c179e\"],[0.4444444444444444,\"#bd3786\"],[0.5555555555555556,\"#d8576b\"],[0.6666666666666666,\"#ed7953\"],[0.7777777777777778,\"#fb9f3a\"],[0.8888888888888888,\"#fdca26\"],[1.0,\"#f0f921\"]],\"sequentialminus\":[[0.0,\"#0d0887\"],[0.1111111111111111,\"#46039f\"],[0.2222222222222222,\"#7201a8\"],[0.3333333333333333,\"#9c179e\"],[0.4444444444444444,\"#bd3786\"],[0.5555555555555556,\"#d8576b\"],[0.6666666666666666,\"#ed7953\"],[0.7777777777777778,\"#fb9f3a\"],[0.8888888888888888,\"#fdca26\"],[1.0,\"#f0f921\"]]},\"colorway\":[\"#636efa\",\"#EF553B\",\"#00cc96\",\"#ab63fa\",\"#FFA15A\",\"#19d3f3\",\"#FF6692\",\"#B6E880\",\"#FF97FF\",\"#FECB52\"],\"font\":{\"color\":\"#2a3f5f\"},\"geo\":{\"bgcolor\":\"white\",\"lakecolor\":\"white\",\"landcolor\":\"#E5ECF6\",\"showlakes\":true,\"showland\":true,\"subunitcolor\":\"white\"},\"hoverlabel\":{\"align\":\"left\"},\"hovermode\":\"closest\",\"mapbox\":{\"style\":\"light\"},\"paper_bgcolor\":\"white\",\"plot_bgcolor\":\"#E5ECF6\",\"polar\":{\"angularaxis\":{\"gridcolor\":\"white\",\"linecolor\":\"white\",\"ticks\":\"\"},\"bgcolor\":\"#E5ECF6\",\"radialaxis\":{\"gridcolor\":\"white\",\"linecolor\":\"white\",\"ticks\":\"\"}},\"scene\":{\"xaxis\":{\"backgroundcolor\":\"#E5ECF6\",\"gridcolor\":\"white\",\"gridwidth\":2,\"linecolor\":\"white\",\"showbackground\":true,\"ticks\":\"\",\"zerolinecolor\":\"white\"},\"yaxis\":{\"backgroundcolor\":\"#E5ECF6\",\"gridcolor\":\"white\",\"gridwidth\":2,\"linecolor\":\"white\",\"showbackground\":true,\"ticks\":\"\",\"zerolinecolor\":\"white\"},\"zaxis\":{\"backgroundcolor\":\"#E5ECF6\",\"gridcolor\":\"white\",\"gridwidth\":2,\"linecolor\":\"white\",\"showbackground\":true,\"ticks\":\"\",\"zerolinecolor\":\"white\"}},\"shapedefaults\":{\"line\":{\"color\":\"#2a3f5f\"}},\"ternary\":{\"aaxis\":{\"gridcolor\":\"white\",\"linecolor\":\"white\",\"ticks\":\"\"},\"baxis\":{\"gridcolor\":\"white\",\"linecolor\":\"white\",\"ticks\":\"\"},\"bgcolor\":\"#E5ECF6\",\"caxis\":{\"gridcolor\":\"white\",\"linecolor\":\"white\",\"ticks\":\"\"}},\"title\":{\"x\":0.05},\"xaxis\":{\"automargin\":true,\"gridcolor\":\"white\",\"linecolor\":\"white\",\"ticks\":\"\",\"title\":{\"standoff\":15},\"zerolinecolor\":\"white\",\"zerolinewidth\":2},\"yaxis\":{\"automargin\":true,\"gridcolor\":\"white\",\"linecolor\":\"white\",\"ticks\":\"\",\"title\":{\"standoff\":15},\"zerolinecolor\":\"white\",\"zerolinewidth\":2}}},\"title\":{\"font\":{\"color\":\"#4D5663\"}},\"xaxis\":{\"gridcolor\":\"#E1E5ED\",\"showgrid\":true,\"tickfont\":{\"color\":\"#4D5663\"},\"title\":{\"font\":{\"color\":\"#4D5663\"},\"text\":\"\"},\"zerolinecolor\":\"#E1E5ED\"},\"yaxis\":{\"gridcolor\":\"#E1E5ED\",\"showgrid\":true,\"tickfont\":{\"color\":\"#4D5663\"},\"title\":{\"font\":{\"color\":\"#4D5663\"},\"text\":\"\"},\"zerolinecolor\":\"#E1E5ED\"}},                        {\"showLink\": true, \"linkText\": \"Export to plot.ly\", \"plotlyServerURL\": \"https://plot.ly\", \"responsive\": true}                    ).then(function(){\n",
       "                            \n",
       "var gd = document.getElementById('7cfc5f64-e88c-4add-8fc7-c1d835c883c5');\n",
       "var x = new MutationObserver(function (mutations, observer) {{\n",
       "        var display = window.getComputedStyle(gd).display;\n",
       "        if (!display || display === 'none') {{\n",
       "            console.log([gd, 'removed!']);\n",
       "            Plotly.purge(gd);\n",
       "            observer.disconnect();\n",
       "        }}\n",
       "}});\n",
       "\n",
       "// Listen for the removal of the full notebook cells\n",
       "var notebookContainer = gd.closest('#notebook-container');\n",
       "if (notebookContainer) {{\n",
       "    x.observe(notebookContainer, {childList: true});\n",
       "}}\n",
       "\n",
       "// Listen for the clearing of the current output cell\n",
       "var outputEl = gd.closest('.output');\n",
       "if (outputEl) {{\n",
       "    x.observe(outputEl, {childList: true});\n",
       "}}\n",
       "\n",
       "                        })                };                });            </script>        </div>"
      ]
     },
     "metadata": {},
     "output_type": "display_data"
    }
   ],
   "source": [
    "df3 = pd.DataFrame({'x':[1,2,3,4,5],'y':[10,20,30,20,10],'z':[5,4,3,2,1]})\n",
    "df3.iplot(kind='surface',colorscale='rdylbu')"
   ]
  },
  {
   "cell_type": "code",
   "execution_count": 18,
   "id": "9883567e",
   "metadata": {},
   "outputs": [
    {
     "data": {
      "application/vnd.plotly.v1+json": {
       "config": {
        "linkText": "Export to plot.ly",
        "plotlyServerURL": "https://plot.ly",
        "showLink": true
       },
       "data": [
        {
         "line": {
          "color": "rgba(255, 153, 51, 1.0)",
          "dash": "solid",
          "shape": "linear",
          "width": 1.3
         },
         "mode": "lines",
         "name": "D",
         "text": "",
         "type": "scatter",
         "x": [
          0,
          1,
          2,
          3,
          4,
          5,
          6,
          7,
          8,
          9,
          10,
          11,
          12,
          13,
          14,
          15,
          16,
          17,
          18,
          19,
          20,
          21,
          22,
          23,
          24,
          25,
          26,
          27,
          28,
          29,
          30,
          31,
          32,
          33,
          34,
          35,
          36,
          37,
          38,
          39,
          40,
          41,
          42,
          43,
          44,
          45,
          46,
          47,
          48,
          49,
          50,
          51,
          52,
          53,
          54,
          55,
          56,
          57,
          58,
          59,
          60,
          61,
          62,
          63,
          64,
          65,
          66,
          67,
          68,
          69,
          70,
          71,
          72,
          73,
          74,
          75,
          76,
          77,
          78,
          79,
          80,
          81,
          82,
          83,
          84,
          85,
          86,
          87,
          88,
          89,
          90,
          91,
          92,
          93,
          94,
          95,
          96,
          97,
          98,
          99
         ],
         "y": [
          0.288073644622906,
          -0.6196480294379495,
          0.4352912178986984,
          1.3858483000443054,
          -0.12967783089136828,
          0.25901940507108606,
          -0.15369446045114837,
          0.7022791049065268,
          0.25003367642911445,
          0.6423040484592956,
          -0.06515752085004241,
          -0.2428497626437784,
          3.017296437956513,
          -0.2873600024607329,
          0.7858449713650546,
          -0.2527239645512696,
          -1.0706166628771294,
          1.30301604833422,
          -0.6035874827134198,
          -0.08194565023611032,
          -0.7434120074720523,
          -0.622350129771808,
          0.25224914913165547,
          -0.40271633351280484,
          -0.6401774801595804,
          -1.5488484085800065,
          0.11473011687590177,
          -0.20835998436792869,
          0.03060385876344897,
          -0.6195768008460987,
          1.0367646544705695,
          0.6863266604025321,
          0.27869920937452786,
          0.3139776946948659,
          -0.4275409048884473,
          0.6114339959922276,
          -0.041968596690567184,
          0.29870089152331825,
          -0.7633953281817364,
          0.7174993318718507,
          -1.2831130795055063,
          1.3745239986080247,
          0.13375071683693568,
          0.27039092883369986,
          -1.7047901060150608,
          0.2703024515670794,
          -0.24802671571485174,
          -0.505782056400116,
          0.9042068737244287,
          -0.706912859024362,
          -1.154218503943458,
          0.7209859769209502,
          -0.4994228090441744,
          0.7668114269013349,
          -0.46177981263883,
          -0.030700677042771234,
          -0.3219389644258767,
          -0.9760524729894123,
          0.22272923363405842,
          -0.03821262707650034,
          0.03602664326105428,
          -1.7686308352616142,
          0.3349026690553228,
          1.1045955353888688,
          -1.0694638326577615,
          0.8417559558881049,
          -0.3065524737142244,
          -1.2261442399978455,
          -0.25912865005178964,
          0.8031747205194517,
          1.5230957745817966,
          -0.27939989540503624,
          0.49483465178498076,
          -0.07236550494013297,
          -0.6251070562374017,
          0.4832219323713606,
          1.8981437362531792,
          -0.5312073144789279,
          0.6745558314731132,
          -0.7156297556397487,
          -0.5259849913047434,
          0.12817459979566342,
          0.25976296024330936,
          -0.8887673629176817,
          1.4629420195867027,
          -0.8697290492235933,
          0.7041186624009869,
          2.2787105968099186,
          -0.6719568104744766,
          1.5008672928070275,
          0.8916534726836076,
          0.34273802958541766,
          -0.15562415135930815,
          -0.6550811919299239,
          1.1428124102932224,
          0.03409777252625565,
          2.504284355186978,
          -0.19164274036642848,
          1.899465898860514,
          1.2650752163646082
         ]
        }
       ],
       "layout": {
        "legend": {
         "bgcolor": "#F5F6F9",
         "font": {
          "color": "#4D5663"
         }
        },
        "paper_bgcolor": "#F5F6F9",
        "plot_bgcolor": "#F5F6F9",
        "template": {
         "data": {
          "bar": [
           {
            "error_x": {
             "color": "#2a3f5f"
            },
            "error_y": {
             "color": "#2a3f5f"
            },
            "marker": {
             "line": {
              "color": "#E5ECF6",
              "width": 0.5
             },
             "pattern": {
              "fillmode": "overlay",
              "size": 10,
              "solidity": 0.2
             }
            },
            "type": "bar"
           }
          ],
          "barpolar": [
           {
            "marker": {
             "line": {
              "color": "#E5ECF6",
              "width": 0.5
             },
             "pattern": {
              "fillmode": "overlay",
              "size": 10,
              "solidity": 0.2
             }
            },
            "type": "barpolar"
           }
          ],
          "carpet": [
           {
            "aaxis": {
             "endlinecolor": "#2a3f5f",
             "gridcolor": "white",
             "linecolor": "white",
             "minorgridcolor": "white",
             "startlinecolor": "#2a3f5f"
            },
            "baxis": {
             "endlinecolor": "#2a3f5f",
             "gridcolor": "white",
             "linecolor": "white",
             "minorgridcolor": "white",
             "startlinecolor": "#2a3f5f"
            },
            "type": "carpet"
           }
          ],
          "choropleth": [
           {
            "colorbar": {
             "outlinewidth": 0,
             "ticks": ""
            },
            "type": "choropleth"
           }
          ],
          "contour": [
           {
            "colorbar": {
             "outlinewidth": 0,
             "ticks": ""
            },
            "colorscale": [
             [
              0,
              "#0d0887"
             ],
             [
              0.1111111111111111,
              "#46039f"
             ],
             [
              0.2222222222222222,
              "#7201a8"
             ],
             [
              0.3333333333333333,
              "#9c179e"
             ],
             [
              0.4444444444444444,
              "#bd3786"
             ],
             [
              0.5555555555555556,
              "#d8576b"
             ],
             [
              0.6666666666666666,
              "#ed7953"
             ],
             [
              0.7777777777777778,
              "#fb9f3a"
             ],
             [
              0.8888888888888888,
              "#fdca26"
             ],
             [
              1,
              "#f0f921"
             ]
            ],
            "type": "contour"
           }
          ],
          "contourcarpet": [
           {
            "colorbar": {
             "outlinewidth": 0,
             "ticks": ""
            },
            "type": "contourcarpet"
           }
          ],
          "heatmap": [
           {
            "colorbar": {
             "outlinewidth": 0,
             "ticks": ""
            },
            "colorscale": [
             [
              0,
              "#0d0887"
             ],
             [
              0.1111111111111111,
              "#46039f"
             ],
             [
              0.2222222222222222,
              "#7201a8"
             ],
             [
              0.3333333333333333,
              "#9c179e"
             ],
             [
              0.4444444444444444,
              "#bd3786"
             ],
             [
              0.5555555555555556,
              "#d8576b"
             ],
             [
              0.6666666666666666,
              "#ed7953"
             ],
             [
              0.7777777777777778,
              "#fb9f3a"
             ],
             [
              0.8888888888888888,
              "#fdca26"
             ],
             [
              1,
              "#f0f921"
             ]
            ],
            "type": "heatmap"
           }
          ],
          "heatmapgl": [
           {
            "colorbar": {
             "outlinewidth": 0,
             "ticks": ""
            },
            "colorscale": [
             [
              0,
              "#0d0887"
             ],
             [
              0.1111111111111111,
              "#46039f"
             ],
             [
              0.2222222222222222,
              "#7201a8"
             ],
             [
              0.3333333333333333,
              "#9c179e"
             ],
             [
              0.4444444444444444,
              "#bd3786"
             ],
             [
              0.5555555555555556,
              "#d8576b"
             ],
             [
              0.6666666666666666,
              "#ed7953"
             ],
             [
              0.7777777777777778,
              "#fb9f3a"
             ],
             [
              0.8888888888888888,
              "#fdca26"
             ],
             [
              1,
              "#f0f921"
             ]
            ],
            "type": "heatmapgl"
           }
          ],
          "histogram": [
           {
            "marker": {
             "pattern": {
              "fillmode": "overlay",
              "size": 10,
              "solidity": 0.2
             }
            },
            "type": "histogram"
           }
          ],
          "histogram2d": [
           {
            "colorbar": {
             "outlinewidth": 0,
             "ticks": ""
            },
            "colorscale": [
             [
              0,
              "#0d0887"
             ],
             [
              0.1111111111111111,
              "#46039f"
             ],
             [
              0.2222222222222222,
              "#7201a8"
             ],
             [
              0.3333333333333333,
              "#9c179e"
             ],
             [
              0.4444444444444444,
              "#bd3786"
             ],
             [
              0.5555555555555556,
              "#d8576b"
             ],
             [
              0.6666666666666666,
              "#ed7953"
             ],
             [
              0.7777777777777778,
              "#fb9f3a"
             ],
             [
              0.8888888888888888,
              "#fdca26"
             ],
             [
              1,
              "#f0f921"
             ]
            ],
            "type": "histogram2d"
           }
          ],
          "histogram2dcontour": [
           {
            "colorbar": {
             "outlinewidth": 0,
             "ticks": ""
            },
            "colorscale": [
             [
              0,
              "#0d0887"
             ],
             [
              0.1111111111111111,
              "#46039f"
             ],
             [
              0.2222222222222222,
              "#7201a8"
             ],
             [
              0.3333333333333333,
              "#9c179e"
             ],
             [
              0.4444444444444444,
              "#bd3786"
             ],
             [
              0.5555555555555556,
              "#d8576b"
             ],
             [
              0.6666666666666666,
              "#ed7953"
             ],
             [
              0.7777777777777778,
              "#fb9f3a"
             ],
             [
              0.8888888888888888,
              "#fdca26"
             ],
             [
              1,
              "#f0f921"
             ]
            ],
            "type": "histogram2dcontour"
           }
          ],
          "mesh3d": [
           {
            "colorbar": {
             "outlinewidth": 0,
             "ticks": ""
            },
            "type": "mesh3d"
           }
          ],
          "parcoords": [
           {
            "line": {
             "colorbar": {
              "outlinewidth": 0,
              "ticks": ""
             }
            },
            "type": "parcoords"
           }
          ],
          "pie": [
           {
            "automargin": true,
            "type": "pie"
           }
          ],
          "scatter": [
           {
            "fillpattern": {
             "fillmode": "overlay",
             "size": 10,
             "solidity": 0.2
            },
            "type": "scatter"
           }
          ],
          "scatter3d": [
           {
            "line": {
             "colorbar": {
              "outlinewidth": 0,
              "ticks": ""
             }
            },
            "marker": {
             "colorbar": {
              "outlinewidth": 0,
              "ticks": ""
             }
            },
            "type": "scatter3d"
           }
          ],
          "scattercarpet": [
           {
            "marker": {
             "colorbar": {
              "outlinewidth": 0,
              "ticks": ""
             }
            },
            "type": "scattercarpet"
           }
          ],
          "scattergeo": [
           {
            "marker": {
             "colorbar": {
              "outlinewidth": 0,
              "ticks": ""
             }
            },
            "type": "scattergeo"
           }
          ],
          "scattergl": [
           {
            "marker": {
             "colorbar": {
              "outlinewidth": 0,
              "ticks": ""
             }
            },
            "type": "scattergl"
           }
          ],
          "scattermapbox": [
           {
            "marker": {
             "colorbar": {
              "outlinewidth": 0,
              "ticks": ""
             }
            },
            "type": "scattermapbox"
           }
          ],
          "scatterpolar": [
           {
            "marker": {
             "colorbar": {
              "outlinewidth": 0,
              "ticks": ""
             }
            },
            "type": "scatterpolar"
           }
          ],
          "scatterpolargl": [
           {
            "marker": {
             "colorbar": {
              "outlinewidth": 0,
              "ticks": ""
             }
            },
            "type": "scatterpolargl"
           }
          ],
          "scatterternary": [
           {
            "marker": {
             "colorbar": {
              "outlinewidth": 0,
              "ticks": ""
             }
            },
            "type": "scatterternary"
           }
          ],
          "surface": [
           {
            "colorbar": {
             "outlinewidth": 0,
             "ticks": ""
            },
            "colorscale": [
             [
              0,
              "#0d0887"
             ],
             [
              0.1111111111111111,
              "#46039f"
             ],
             [
              0.2222222222222222,
              "#7201a8"
             ],
             [
              0.3333333333333333,
              "#9c179e"
             ],
             [
              0.4444444444444444,
              "#bd3786"
             ],
             [
              0.5555555555555556,
              "#d8576b"
             ],
             [
              0.6666666666666666,
              "#ed7953"
             ],
             [
              0.7777777777777778,
              "#fb9f3a"
             ],
             [
              0.8888888888888888,
              "#fdca26"
             ],
             [
              1,
              "#f0f921"
             ]
            ],
            "type": "surface"
           }
          ],
          "table": [
           {
            "cells": {
             "fill": {
              "color": "#EBF0F8"
             },
             "line": {
              "color": "white"
             }
            },
            "header": {
             "fill": {
              "color": "#C8D4E3"
             },
             "line": {
              "color": "white"
             }
            },
            "type": "table"
           }
          ]
         },
         "layout": {
          "annotationdefaults": {
           "arrowcolor": "#2a3f5f",
           "arrowhead": 0,
           "arrowwidth": 1
          },
          "autotypenumbers": "strict",
          "coloraxis": {
           "colorbar": {
            "outlinewidth": 0,
            "ticks": ""
           }
          },
          "colorscale": {
           "diverging": [
            [
             0,
             "#8e0152"
            ],
            [
             0.1,
             "#c51b7d"
            ],
            [
             0.2,
             "#de77ae"
            ],
            [
             0.3,
             "#f1b6da"
            ],
            [
             0.4,
             "#fde0ef"
            ],
            [
             0.5,
             "#f7f7f7"
            ],
            [
             0.6,
             "#e6f5d0"
            ],
            [
             0.7,
             "#b8e186"
            ],
            [
             0.8,
             "#7fbc41"
            ],
            [
             0.9,
             "#4d9221"
            ],
            [
             1,
             "#276419"
            ]
           ],
           "sequential": [
            [
             0,
             "#0d0887"
            ],
            [
             0.1111111111111111,
             "#46039f"
            ],
            [
             0.2222222222222222,
             "#7201a8"
            ],
            [
             0.3333333333333333,
             "#9c179e"
            ],
            [
             0.4444444444444444,
             "#bd3786"
            ],
            [
             0.5555555555555556,
             "#d8576b"
            ],
            [
             0.6666666666666666,
             "#ed7953"
            ],
            [
             0.7777777777777778,
             "#fb9f3a"
            ],
            [
             0.8888888888888888,
             "#fdca26"
            ],
            [
             1,
             "#f0f921"
            ]
           ],
           "sequentialminus": [
            [
             0,
             "#0d0887"
            ],
            [
             0.1111111111111111,
             "#46039f"
            ],
            [
             0.2222222222222222,
             "#7201a8"
            ],
            [
             0.3333333333333333,
             "#9c179e"
            ],
            [
             0.4444444444444444,
             "#bd3786"
            ],
            [
             0.5555555555555556,
             "#d8576b"
            ],
            [
             0.6666666666666666,
             "#ed7953"
            ],
            [
             0.7777777777777778,
             "#fb9f3a"
            ],
            [
             0.8888888888888888,
             "#fdca26"
            ],
            [
             1,
             "#f0f921"
            ]
           ]
          },
          "colorway": [
           "#636efa",
           "#EF553B",
           "#00cc96",
           "#ab63fa",
           "#FFA15A",
           "#19d3f3",
           "#FF6692",
           "#B6E880",
           "#FF97FF",
           "#FECB52"
          ],
          "font": {
           "color": "#2a3f5f"
          },
          "geo": {
           "bgcolor": "white",
           "lakecolor": "white",
           "landcolor": "#E5ECF6",
           "showlakes": true,
           "showland": true,
           "subunitcolor": "white"
          },
          "hoverlabel": {
           "align": "left"
          },
          "hovermode": "closest",
          "mapbox": {
           "style": "light"
          },
          "paper_bgcolor": "white",
          "plot_bgcolor": "#E5ECF6",
          "polar": {
           "angularaxis": {
            "gridcolor": "white",
            "linecolor": "white",
            "ticks": ""
           },
           "bgcolor": "#E5ECF6",
           "radialaxis": {
            "gridcolor": "white",
            "linecolor": "white",
            "ticks": ""
           }
          },
          "scene": {
           "xaxis": {
            "backgroundcolor": "#E5ECF6",
            "gridcolor": "white",
            "gridwidth": 2,
            "linecolor": "white",
            "showbackground": true,
            "ticks": "",
            "zerolinecolor": "white"
           },
           "yaxis": {
            "backgroundcolor": "#E5ECF6",
            "gridcolor": "white",
            "gridwidth": 2,
            "linecolor": "white",
            "showbackground": true,
            "ticks": "",
            "zerolinecolor": "white"
           },
           "zaxis": {
            "backgroundcolor": "#E5ECF6",
            "gridcolor": "white",
            "gridwidth": 2,
            "linecolor": "white",
            "showbackground": true,
            "ticks": "",
            "zerolinecolor": "white"
           }
          },
          "shapedefaults": {
           "line": {
            "color": "#2a3f5f"
           }
          },
          "ternary": {
           "aaxis": {
            "gridcolor": "white",
            "linecolor": "white",
            "ticks": ""
           },
           "baxis": {
            "gridcolor": "white",
            "linecolor": "white",
            "ticks": ""
           },
           "bgcolor": "#E5ECF6",
           "caxis": {
            "gridcolor": "white",
            "linecolor": "white",
            "ticks": ""
           }
          },
          "title": {
           "x": 0.05
          },
          "xaxis": {
           "automargin": true,
           "gridcolor": "white",
           "linecolor": "white",
           "ticks": "",
           "title": {
            "standoff": 15
           },
           "zerolinecolor": "white",
           "zerolinewidth": 2
          },
          "yaxis": {
           "automargin": true,
           "gridcolor": "white",
           "linecolor": "white",
           "ticks": "",
           "title": {
            "standoff": 15
           },
           "zerolinecolor": "white",
           "zerolinewidth": 2
          }
         }
        },
        "title": {
         "font": {
          "color": "#4D5663"
         }
        },
        "xaxis": {
         "gridcolor": "#E1E5ED",
         "showgrid": true,
         "tickfont": {
          "color": "#4D5663"
         },
         "title": {
          "font": {
           "color": "#4D5663"
          },
          "text": ""
         },
         "zerolinecolor": "#E1E5ED"
        },
        "yaxis": {
         "gridcolor": "#E1E5ED",
         "showgrid": true,
         "tickfont": {
          "color": "#4D5663"
         },
         "title": {
          "font": {
           "color": "#4D5663"
          },
          "text": ""
         },
         "zerolinecolor": "#E1E5ED"
        }
       }
      },
      "text/html": [
       "<div>                            <div id=\"f527a8d8-c2d4-4b0c-9a34-36aa3ad19c43\" class=\"plotly-graph-div\" style=\"height:525px; width:100%;\"></div>            <script type=\"text/javascript\">                require([\"plotly\"], function(Plotly) {                    window.PLOTLYENV=window.PLOTLYENV || {};\n",
       "                    window.PLOTLYENV.BASE_URL='https://plot.ly';                                    if (document.getElementById(\"f527a8d8-c2d4-4b0c-9a34-36aa3ad19c43\")) {                    Plotly.newPlot(                        \"f527a8d8-c2d4-4b0c-9a34-36aa3ad19c43\",                        [{\"line\":{\"color\":\"rgba(255, 153, 51, 1.0)\",\"dash\":\"solid\",\"shape\":\"linear\",\"width\":1.3},\"mode\":\"lines\",\"name\":\"D\",\"text\":\"\",\"x\":[0,1,2,3,4,5,6,7,8,9,10,11,12,13,14,15,16,17,18,19,20,21,22,23,24,25,26,27,28,29,30,31,32,33,34,35,36,37,38,39,40,41,42,43,44,45,46,47,48,49,50,51,52,53,54,55,56,57,58,59,60,61,62,63,64,65,66,67,68,69,70,71,72,73,74,75,76,77,78,79,80,81,82,83,84,85,86,87,88,89,90,91,92,93,94,95,96,97,98,99],\"y\":[0.288073644622906,-0.6196480294379495,0.4352912178986984,1.3858483000443054,-0.12967783089136828,0.25901940507108606,-0.15369446045114837,0.7022791049065268,0.25003367642911445,0.6423040484592956,-0.06515752085004241,-0.2428497626437784,3.017296437956513,-0.2873600024607329,0.7858449713650546,-0.2527239645512696,-1.0706166628771294,1.30301604833422,-0.6035874827134198,-0.08194565023611032,-0.7434120074720523,-0.622350129771808,0.25224914913165547,-0.40271633351280484,-0.6401774801595804,-1.5488484085800065,0.11473011687590177,-0.20835998436792869,0.03060385876344897,-0.6195768008460987,1.0367646544705695,0.6863266604025321,0.27869920937452786,0.3139776946948659,-0.4275409048884473,0.6114339959922276,-0.041968596690567184,0.29870089152331825,-0.7633953281817364,0.7174993318718507,-1.2831130795055063,1.3745239986080247,0.13375071683693568,0.27039092883369986,-1.7047901060150608,0.2703024515670794,-0.24802671571485174,-0.505782056400116,0.9042068737244287,-0.706912859024362,-1.154218503943458,0.7209859769209502,-0.4994228090441744,0.7668114269013349,-0.46177981263883,-0.030700677042771234,-0.3219389644258767,-0.9760524729894123,0.22272923363405842,-0.03821262707650034,0.03602664326105428,-1.7686308352616142,0.3349026690553228,1.1045955353888688,-1.0694638326577615,0.8417559558881049,-0.3065524737142244,-1.2261442399978455,-0.25912865005178964,0.8031747205194517,1.5230957745817966,-0.27939989540503624,0.49483465178498076,-0.07236550494013297,-0.6251070562374017,0.4832219323713606,1.8981437362531792,-0.5312073144789279,0.6745558314731132,-0.7156297556397487,-0.5259849913047434,0.12817459979566342,0.25976296024330936,-0.8887673629176817,1.4629420195867027,-0.8697290492235933,0.7041186624009869,2.2787105968099186,-0.6719568104744766,1.5008672928070275,0.8916534726836076,0.34273802958541766,-0.15562415135930815,-0.6550811919299239,1.1428124102932224,0.03409777252625565,2.504284355186978,-0.19164274036642848,1.899465898860514,1.2650752163646082],\"type\":\"scatter\"}],                        {\"legend\":{\"bgcolor\":\"#F5F6F9\",\"font\":{\"color\":\"#4D5663\"}},\"paper_bgcolor\":\"#F5F6F9\",\"plot_bgcolor\":\"#F5F6F9\",\"template\":{\"data\":{\"barpolar\":[{\"marker\":{\"line\":{\"color\":\"#E5ECF6\",\"width\":0.5},\"pattern\":{\"fillmode\":\"overlay\",\"size\":10,\"solidity\":0.2}},\"type\":\"barpolar\"}],\"bar\":[{\"error_x\":{\"color\":\"#2a3f5f\"},\"error_y\":{\"color\":\"#2a3f5f\"},\"marker\":{\"line\":{\"color\":\"#E5ECF6\",\"width\":0.5},\"pattern\":{\"fillmode\":\"overlay\",\"size\":10,\"solidity\":0.2}},\"type\":\"bar\"}],\"carpet\":[{\"aaxis\":{\"endlinecolor\":\"#2a3f5f\",\"gridcolor\":\"white\",\"linecolor\":\"white\",\"minorgridcolor\":\"white\",\"startlinecolor\":\"#2a3f5f\"},\"baxis\":{\"endlinecolor\":\"#2a3f5f\",\"gridcolor\":\"white\",\"linecolor\":\"white\",\"minorgridcolor\":\"white\",\"startlinecolor\":\"#2a3f5f\"},\"type\":\"carpet\"}],\"choropleth\":[{\"colorbar\":{\"outlinewidth\":0,\"ticks\":\"\"},\"type\":\"choropleth\"}],\"contourcarpet\":[{\"colorbar\":{\"outlinewidth\":0,\"ticks\":\"\"},\"type\":\"contourcarpet\"}],\"contour\":[{\"colorbar\":{\"outlinewidth\":0,\"ticks\":\"\"},\"colorscale\":[[0.0,\"#0d0887\"],[0.1111111111111111,\"#46039f\"],[0.2222222222222222,\"#7201a8\"],[0.3333333333333333,\"#9c179e\"],[0.4444444444444444,\"#bd3786\"],[0.5555555555555556,\"#d8576b\"],[0.6666666666666666,\"#ed7953\"],[0.7777777777777778,\"#fb9f3a\"],[0.8888888888888888,\"#fdca26\"],[1.0,\"#f0f921\"]],\"type\":\"contour\"}],\"heatmapgl\":[{\"colorbar\":{\"outlinewidth\":0,\"ticks\":\"\"},\"colorscale\":[[0.0,\"#0d0887\"],[0.1111111111111111,\"#46039f\"],[0.2222222222222222,\"#7201a8\"],[0.3333333333333333,\"#9c179e\"],[0.4444444444444444,\"#bd3786\"],[0.5555555555555556,\"#d8576b\"],[0.6666666666666666,\"#ed7953\"],[0.7777777777777778,\"#fb9f3a\"],[0.8888888888888888,\"#fdca26\"],[1.0,\"#f0f921\"]],\"type\":\"heatmapgl\"}],\"heatmap\":[{\"colorbar\":{\"outlinewidth\":0,\"ticks\":\"\"},\"colorscale\":[[0.0,\"#0d0887\"],[0.1111111111111111,\"#46039f\"],[0.2222222222222222,\"#7201a8\"],[0.3333333333333333,\"#9c179e\"],[0.4444444444444444,\"#bd3786\"],[0.5555555555555556,\"#d8576b\"],[0.6666666666666666,\"#ed7953\"],[0.7777777777777778,\"#fb9f3a\"],[0.8888888888888888,\"#fdca26\"],[1.0,\"#f0f921\"]],\"type\":\"heatmap\"}],\"histogram2dcontour\":[{\"colorbar\":{\"outlinewidth\":0,\"ticks\":\"\"},\"colorscale\":[[0.0,\"#0d0887\"],[0.1111111111111111,\"#46039f\"],[0.2222222222222222,\"#7201a8\"],[0.3333333333333333,\"#9c179e\"],[0.4444444444444444,\"#bd3786\"],[0.5555555555555556,\"#d8576b\"],[0.6666666666666666,\"#ed7953\"],[0.7777777777777778,\"#fb9f3a\"],[0.8888888888888888,\"#fdca26\"],[1.0,\"#f0f921\"]],\"type\":\"histogram2dcontour\"}],\"histogram2d\":[{\"colorbar\":{\"outlinewidth\":0,\"ticks\":\"\"},\"colorscale\":[[0.0,\"#0d0887\"],[0.1111111111111111,\"#46039f\"],[0.2222222222222222,\"#7201a8\"],[0.3333333333333333,\"#9c179e\"],[0.4444444444444444,\"#bd3786\"],[0.5555555555555556,\"#d8576b\"],[0.6666666666666666,\"#ed7953\"],[0.7777777777777778,\"#fb9f3a\"],[0.8888888888888888,\"#fdca26\"],[1.0,\"#f0f921\"]],\"type\":\"histogram2d\"}],\"histogram\":[{\"marker\":{\"pattern\":{\"fillmode\":\"overlay\",\"size\":10,\"solidity\":0.2}},\"type\":\"histogram\"}],\"mesh3d\":[{\"colorbar\":{\"outlinewidth\":0,\"ticks\":\"\"},\"type\":\"mesh3d\"}],\"parcoords\":[{\"line\":{\"colorbar\":{\"outlinewidth\":0,\"ticks\":\"\"}},\"type\":\"parcoords\"}],\"pie\":[{\"automargin\":true,\"type\":\"pie\"}],\"scatter3d\":[{\"line\":{\"colorbar\":{\"outlinewidth\":0,\"ticks\":\"\"}},\"marker\":{\"colorbar\":{\"outlinewidth\":0,\"ticks\":\"\"}},\"type\":\"scatter3d\"}],\"scattercarpet\":[{\"marker\":{\"colorbar\":{\"outlinewidth\":0,\"ticks\":\"\"}},\"type\":\"scattercarpet\"}],\"scattergeo\":[{\"marker\":{\"colorbar\":{\"outlinewidth\":0,\"ticks\":\"\"}},\"type\":\"scattergeo\"}],\"scattergl\":[{\"marker\":{\"colorbar\":{\"outlinewidth\":0,\"ticks\":\"\"}},\"type\":\"scattergl\"}],\"scattermapbox\":[{\"marker\":{\"colorbar\":{\"outlinewidth\":0,\"ticks\":\"\"}},\"type\":\"scattermapbox\"}],\"scatterpolargl\":[{\"marker\":{\"colorbar\":{\"outlinewidth\":0,\"ticks\":\"\"}},\"type\":\"scatterpolargl\"}],\"scatterpolar\":[{\"marker\":{\"colorbar\":{\"outlinewidth\":0,\"ticks\":\"\"}},\"type\":\"scatterpolar\"}],\"scatter\":[{\"fillpattern\":{\"fillmode\":\"overlay\",\"size\":10,\"solidity\":0.2},\"type\":\"scatter\"}],\"scatterternary\":[{\"marker\":{\"colorbar\":{\"outlinewidth\":0,\"ticks\":\"\"}},\"type\":\"scatterternary\"}],\"surface\":[{\"colorbar\":{\"outlinewidth\":0,\"ticks\":\"\"},\"colorscale\":[[0.0,\"#0d0887\"],[0.1111111111111111,\"#46039f\"],[0.2222222222222222,\"#7201a8\"],[0.3333333333333333,\"#9c179e\"],[0.4444444444444444,\"#bd3786\"],[0.5555555555555556,\"#d8576b\"],[0.6666666666666666,\"#ed7953\"],[0.7777777777777778,\"#fb9f3a\"],[0.8888888888888888,\"#fdca26\"],[1.0,\"#f0f921\"]],\"type\":\"surface\"}],\"table\":[{\"cells\":{\"fill\":{\"color\":\"#EBF0F8\"},\"line\":{\"color\":\"white\"}},\"header\":{\"fill\":{\"color\":\"#C8D4E3\"},\"line\":{\"color\":\"white\"}},\"type\":\"table\"}]},\"layout\":{\"annotationdefaults\":{\"arrowcolor\":\"#2a3f5f\",\"arrowhead\":0,\"arrowwidth\":1},\"autotypenumbers\":\"strict\",\"coloraxis\":{\"colorbar\":{\"outlinewidth\":0,\"ticks\":\"\"}},\"colorscale\":{\"diverging\":[[0,\"#8e0152\"],[0.1,\"#c51b7d\"],[0.2,\"#de77ae\"],[0.3,\"#f1b6da\"],[0.4,\"#fde0ef\"],[0.5,\"#f7f7f7\"],[0.6,\"#e6f5d0\"],[0.7,\"#b8e186\"],[0.8,\"#7fbc41\"],[0.9,\"#4d9221\"],[1,\"#276419\"]],\"sequential\":[[0.0,\"#0d0887\"],[0.1111111111111111,\"#46039f\"],[0.2222222222222222,\"#7201a8\"],[0.3333333333333333,\"#9c179e\"],[0.4444444444444444,\"#bd3786\"],[0.5555555555555556,\"#d8576b\"],[0.6666666666666666,\"#ed7953\"],[0.7777777777777778,\"#fb9f3a\"],[0.8888888888888888,\"#fdca26\"],[1.0,\"#f0f921\"]],\"sequentialminus\":[[0.0,\"#0d0887\"],[0.1111111111111111,\"#46039f\"],[0.2222222222222222,\"#7201a8\"],[0.3333333333333333,\"#9c179e\"],[0.4444444444444444,\"#bd3786\"],[0.5555555555555556,\"#d8576b\"],[0.6666666666666666,\"#ed7953\"],[0.7777777777777778,\"#fb9f3a\"],[0.8888888888888888,\"#fdca26\"],[1.0,\"#f0f921\"]]},\"colorway\":[\"#636efa\",\"#EF553B\",\"#00cc96\",\"#ab63fa\",\"#FFA15A\",\"#19d3f3\",\"#FF6692\",\"#B6E880\",\"#FF97FF\",\"#FECB52\"],\"font\":{\"color\":\"#2a3f5f\"},\"geo\":{\"bgcolor\":\"white\",\"lakecolor\":\"white\",\"landcolor\":\"#E5ECF6\",\"showlakes\":true,\"showland\":true,\"subunitcolor\":\"white\"},\"hoverlabel\":{\"align\":\"left\"},\"hovermode\":\"closest\",\"mapbox\":{\"style\":\"light\"},\"paper_bgcolor\":\"white\",\"plot_bgcolor\":\"#E5ECF6\",\"polar\":{\"angularaxis\":{\"gridcolor\":\"white\",\"linecolor\":\"white\",\"ticks\":\"\"},\"bgcolor\":\"#E5ECF6\",\"radialaxis\":{\"gridcolor\":\"white\",\"linecolor\":\"white\",\"ticks\":\"\"}},\"scene\":{\"xaxis\":{\"backgroundcolor\":\"#E5ECF6\",\"gridcolor\":\"white\",\"gridwidth\":2,\"linecolor\":\"white\",\"showbackground\":true,\"ticks\":\"\",\"zerolinecolor\":\"white\"},\"yaxis\":{\"backgroundcolor\":\"#E5ECF6\",\"gridcolor\":\"white\",\"gridwidth\":2,\"linecolor\":\"white\",\"showbackground\":true,\"ticks\":\"\",\"zerolinecolor\":\"white\"},\"zaxis\":{\"backgroundcolor\":\"#E5ECF6\",\"gridcolor\":\"white\",\"gridwidth\":2,\"linecolor\":\"white\",\"showbackground\":true,\"ticks\":\"\",\"zerolinecolor\":\"white\"}},\"shapedefaults\":{\"line\":{\"color\":\"#2a3f5f\"}},\"ternary\":{\"aaxis\":{\"gridcolor\":\"white\",\"linecolor\":\"white\",\"ticks\":\"\"},\"baxis\":{\"gridcolor\":\"white\",\"linecolor\":\"white\",\"ticks\":\"\"},\"bgcolor\":\"#E5ECF6\",\"caxis\":{\"gridcolor\":\"white\",\"linecolor\":\"white\",\"ticks\":\"\"}},\"title\":{\"x\":0.05},\"xaxis\":{\"automargin\":true,\"gridcolor\":\"white\",\"linecolor\":\"white\",\"ticks\":\"\",\"title\":{\"standoff\":15},\"zerolinecolor\":\"white\",\"zerolinewidth\":2},\"yaxis\":{\"automargin\":true,\"gridcolor\":\"white\",\"linecolor\":\"white\",\"ticks\":\"\",\"title\":{\"standoff\":15},\"zerolinecolor\":\"white\",\"zerolinewidth\":2}}},\"title\":{\"font\":{\"color\":\"#4D5663\"}},\"xaxis\":{\"gridcolor\":\"#E1E5ED\",\"showgrid\":true,\"tickfont\":{\"color\":\"#4D5663\"},\"title\":{\"font\":{\"color\":\"#4D5663\"},\"text\":\"\"},\"zerolinecolor\":\"#E1E5ED\"},\"yaxis\":{\"gridcolor\":\"#E1E5ED\",\"showgrid\":true,\"tickfont\":{\"color\":\"#4D5663\"},\"title\":{\"font\":{\"color\":\"#4D5663\"},\"text\":\"\"},\"zerolinecolor\":\"#E1E5ED\"}},                        {\"showLink\": true, \"linkText\": \"Export to plot.ly\", \"plotlyServerURL\": \"https://plot.ly\", \"responsive\": true}                    ).then(function(){\n",
       "                            \n",
       "var gd = document.getElementById('f527a8d8-c2d4-4b0c-9a34-36aa3ad19c43');\n",
       "var x = new MutationObserver(function (mutations, observer) {{\n",
       "        var display = window.getComputedStyle(gd).display;\n",
       "        if (!display || display === 'none') {{\n",
       "            console.log([gd, 'removed!']);\n",
       "            Plotly.purge(gd);\n",
       "            observer.disconnect();\n",
       "        }}\n",
       "}});\n",
       "\n",
       "// Listen for the removal of the full notebook cells\n",
       "var notebookContainer = gd.closest('#notebook-container');\n",
       "if (notebookContainer) {{\n",
       "    x.observe(notebookContainer, {childList: true});\n",
       "}}\n",
       "\n",
       "// Listen for the clearing of the current output cell\n",
       "var outputEl = gd.closest('.output');\n",
       "if (outputEl) {{\n",
       "    x.observe(outputEl, {childList: true});\n",
       "}}\n",
       "\n",
       "                        })                };                });            </script>        </div>"
      ]
     },
     "metadata": {},
     "output_type": "display_data"
    }
   ],
   "source": [
    "df['D'].iplot()"
   ]
  },
  {
   "cell_type": "code",
   "execution_count": 12,
   "id": "b707ce77",
   "metadata": {},
   "outputs": [
    {
     "data": {
      "application/vnd.plotly.v1+json": {
       "config": {
        "linkText": "Export to plot.ly",
        "plotlyServerURL": "https://plot.ly",
        "showLink": true
       },
       "data": [
        {
         "histfunc": "count",
         "histnorm": "",
         "marker": {
          "color": "rgba(255, 153, 51, 1.0)",
          "line": {
           "color": "#4D5663",
           "width": 1.3
          }
         },
         "name": "A",
         "nbinsx": 25,
         "opacity": 0.8,
         "orientation": "v",
         "type": "histogram",
         "x": [
          1.0972199573688461,
          -0.8556300900285553,
          0.126238097867567,
          -0.8282204270169976,
          0.8560873352556525,
          0.5619925804799691,
          2.167754242657729,
          0.8685971008748656,
          -1.9289937198025082,
          0.5437032363502787,
          -0.9574925223199207,
          -0.24911605946206627,
          1.5931382742156124,
          1.295876030061057,
          -0.3059339088046586,
          -2.5137835517098113,
          -0.1843257337369107,
          -0.11925588099121849,
          0.040977527180113854,
          0.591519333167522,
          -1.9133114776397937,
          -0.4234397600642683,
          -0.37323357463192774,
          0.39736404172278844,
          -1.0687353713516132,
          -2.1137134499842243,
          0.026616150448040582,
          0.03207548264493021,
          2.2350858795361037,
          0.3865150785553918,
          -0.2765508952638007,
          -0.9742483462536244,
          -0.037418091518889154,
          -0.6957386432796877,
          0.26254940779255026,
          -0.37061011710613984,
          0.1940616159399782,
          -0.4712706922249023,
          -0.7438133035929787,
          -0.8617817265675123,
          1.2274765825622858,
          -2.1162084763156,
          -0.39314272842603903,
          -0.7536802700649506,
          -0.2586012758153935,
          -0.3647937634526296,
          0.28374946056505923,
          -0.7426970053836787,
          0.5138603605588284,
          -1.1221585741415925,
          2.462589511258795,
          0.326754111891552,
          -1.1360152092376024,
          1.1009591239625762,
          0.5331383898979563,
          1.030367103510399,
          -1.5476307035214891,
          -0.14353702750924907,
          0.6153365014212021,
          0.17582305872329348,
          -0.1407595696306908,
          0.9615519820277341,
          -0.18273247455217942,
          -1.2490206473611387,
          -0.6843774351888924,
          -0.9450323644698706,
          -0.41593589370993106,
          1.6402502318965975,
          0.15090798894901028,
          -0.7602056513090112,
          0.16666027169541586,
          -0.6140555628020126,
          0.1224738655616952,
          0.0355516286140335,
          -0.07126787414443411,
          -0.47293961552623126,
          -0.17699554805522952,
          0.46179222308616014,
          0.9014511792772176,
          -1.0619107340564138,
          0.2431893684974666,
          -0.5197779549294853,
          -0.37792729092691474,
          -0.9297917791003169,
          0.7464411364714747,
          1.3135926514013567,
          -0.11786793920996452,
          -0.9006190576593024,
          0.3189182367226934,
          -0.6013694007427746,
          0.6392332214332836,
          -0.41007665963566364,
          -0.44084763227914775,
          0.026668559790025716,
          0.7551911700826331,
          1.2784426404091564,
          1.9525932355403217,
          1.4083554324392453,
          -0.04995379723171119,
          -0.8870695309281038
         ]
        }
       ],
       "layout": {
        "barmode": "overlay",
        "legend": {
         "bgcolor": "#F5F6F9",
         "font": {
          "color": "#4D5663"
         }
        },
        "paper_bgcolor": "#F5F6F9",
        "plot_bgcolor": "#F5F6F9",
        "template": {
         "data": {
          "bar": [
           {
            "error_x": {
             "color": "#2a3f5f"
            },
            "error_y": {
             "color": "#2a3f5f"
            },
            "marker": {
             "line": {
              "color": "#E5ECF6",
              "width": 0.5
             },
             "pattern": {
              "fillmode": "overlay",
              "size": 10,
              "solidity": 0.2
             }
            },
            "type": "bar"
           }
          ],
          "barpolar": [
           {
            "marker": {
             "line": {
              "color": "#E5ECF6",
              "width": 0.5
             },
             "pattern": {
              "fillmode": "overlay",
              "size": 10,
              "solidity": 0.2
             }
            },
            "type": "barpolar"
           }
          ],
          "carpet": [
           {
            "aaxis": {
             "endlinecolor": "#2a3f5f",
             "gridcolor": "white",
             "linecolor": "white",
             "minorgridcolor": "white",
             "startlinecolor": "#2a3f5f"
            },
            "baxis": {
             "endlinecolor": "#2a3f5f",
             "gridcolor": "white",
             "linecolor": "white",
             "minorgridcolor": "white",
             "startlinecolor": "#2a3f5f"
            },
            "type": "carpet"
           }
          ],
          "choropleth": [
           {
            "colorbar": {
             "outlinewidth": 0,
             "ticks": ""
            },
            "type": "choropleth"
           }
          ],
          "contour": [
           {
            "colorbar": {
             "outlinewidth": 0,
             "ticks": ""
            },
            "colorscale": [
             [
              0,
              "#0d0887"
             ],
             [
              0.1111111111111111,
              "#46039f"
             ],
             [
              0.2222222222222222,
              "#7201a8"
             ],
             [
              0.3333333333333333,
              "#9c179e"
             ],
             [
              0.4444444444444444,
              "#bd3786"
             ],
             [
              0.5555555555555556,
              "#d8576b"
             ],
             [
              0.6666666666666666,
              "#ed7953"
             ],
             [
              0.7777777777777778,
              "#fb9f3a"
             ],
             [
              0.8888888888888888,
              "#fdca26"
             ],
             [
              1,
              "#f0f921"
             ]
            ],
            "type": "contour"
           }
          ],
          "contourcarpet": [
           {
            "colorbar": {
             "outlinewidth": 0,
             "ticks": ""
            },
            "type": "contourcarpet"
           }
          ],
          "heatmap": [
           {
            "colorbar": {
             "outlinewidth": 0,
             "ticks": ""
            },
            "colorscale": [
             [
              0,
              "#0d0887"
             ],
             [
              0.1111111111111111,
              "#46039f"
             ],
             [
              0.2222222222222222,
              "#7201a8"
             ],
             [
              0.3333333333333333,
              "#9c179e"
             ],
             [
              0.4444444444444444,
              "#bd3786"
             ],
             [
              0.5555555555555556,
              "#d8576b"
             ],
             [
              0.6666666666666666,
              "#ed7953"
             ],
             [
              0.7777777777777778,
              "#fb9f3a"
             ],
             [
              0.8888888888888888,
              "#fdca26"
             ],
             [
              1,
              "#f0f921"
             ]
            ],
            "type": "heatmap"
           }
          ],
          "heatmapgl": [
           {
            "colorbar": {
             "outlinewidth": 0,
             "ticks": ""
            },
            "colorscale": [
             [
              0,
              "#0d0887"
             ],
             [
              0.1111111111111111,
              "#46039f"
             ],
             [
              0.2222222222222222,
              "#7201a8"
             ],
             [
              0.3333333333333333,
              "#9c179e"
             ],
             [
              0.4444444444444444,
              "#bd3786"
             ],
             [
              0.5555555555555556,
              "#d8576b"
             ],
             [
              0.6666666666666666,
              "#ed7953"
             ],
             [
              0.7777777777777778,
              "#fb9f3a"
             ],
             [
              0.8888888888888888,
              "#fdca26"
             ],
             [
              1,
              "#f0f921"
             ]
            ],
            "type": "heatmapgl"
           }
          ],
          "histogram": [
           {
            "marker": {
             "pattern": {
              "fillmode": "overlay",
              "size": 10,
              "solidity": 0.2
             }
            },
            "type": "histogram"
           }
          ],
          "histogram2d": [
           {
            "colorbar": {
             "outlinewidth": 0,
             "ticks": ""
            },
            "colorscale": [
             [
              0,
              "#0d0887"
             ],
             [
              0.1111111111111111,
              "#46039f"
             ],
             [
              0.2222222222222222,
              "#7201a8"
             ],
             [
              0.3333333333333333,
              "#9c179e"
             ],
             [
              0.4444444444444444,
              "#bd3786"
             ],
             [
              0.5555555555555556,
              "#d8576b"
             ],
             [
              0.6666666666666666,
              "#ed7953"
             ],
             [
              0.7777777777777778,
              "#fb9f3a"
             ],
             [
              0.8888888888888888,
              "#fdca26"
             ],
             [
              1,
              "#f0f921"
             ]
            ],
            "type": "histogram2d"
           }
          ],
          "histogram2dcontour": [
           {
            "colorbar": {
             "outlinewidth": 0,
             "ticks": ""
            },
            "colorscale": [
             [
              0,
              "#0d0887"
             ],
             [
              0.1111111111111111,
              "#46039f"
             ],
             [
              0.2222222222222222,
              "#7201a8"
             ],
             [
              0.3333333333333333,
              "#9c179e"
             ],
             [
              0.4444444444444444,
              "#bd3786"
             ],
             [
              0.5555555555555556,
              "#d8576b"
             ],
             [
              0.6666666666666666,
              "#ed7953"
             ],
             [
              0.7777777777777778,
              "#fb9f3a"
             ],
             [
              0.8888888888888888,
              "#fdca26"
             ],
             [
              1,
              "#f0f921"
             ]
            ],
            "type": "histogram2dcontour"
           }
          ],
          "mesh3d": [
           {
            "colorbar": {
             "outlinewidth": 0,
             "ticks": ""
            },
            "type": "mesh3d"
           }
          ],
          "parcoords": [
           {
            "line": {
             "colorbar": {
              "outlinewidth": 0,
              "ticks": ""
             }
            },
            "type": "parcoords"
           }
          ],
          "pie": [
           {
            "automargin": true,
            "type": "pie"
           }
          ],
          "scatter": [
           {
            "fillpattern": {
             "fillmode": "overlay",
             "size": 10,
             "solidity": 0.2
            },
            "type": "scatter"
           }
          ],
          "scatter3d": [
           {
            "line": {
             "colorbar": {
              "outlinewidth": 0,
              "ticks": ""
             }
            },
            "marker": {
             "colorbar": {
              "outlinewidth": 0,
              "ticks": ""
             }
            },
            "type": "scatter3d"
           }
          ],
          "scattercarpet": [
           {
            "marker": {
             "colorbar": {
              "outlinewidth": 0,
              "ticks": ""
             }
            },
            "type": "scattercarpet"
           }
          ],
          "scattergeo": [
           {
            "marker": {
             "colorbar": {
              "outlinewidth": 0,
              "ticks": ""
             }
            },
            "type": "scattergeo"
           }
          ],
          "scattergl": [
           {
            "marker": {
             "colorbar": {
              "outlinewidth": 0,
              "ticks": ""
             }
            },
            "type": "scattergl"
           }
          ],
          "scattermapbox": [
           {
            "marker": {
             "colorbar": {
              "outlinewidth": 0,
              "ticks": ""
             }
            },
            "type": "scattermapbox"
           }
          ],
          "scatterpolar": [
           {
            "marker": {
             "colorbar": {
              "outlinewidth": 0,
              "ticks": ""
             }
            },
            "type": "scatterpolar"
           }
          ],
          "scatterpolargl": [
           {
            "marker": {
             "colorbar": {
              "outlinewidth": 0,
              "ticks": ""
             }
            },
            "type": "scatterpolargl"
           }
          ],
          "scatterternary": [
           {
            "marker": {
             "colorbar": {
              "outlinewidth": 0,
              "ticks": ""
             }
            },
            "type": "scatterternary"
           }
          ],
          "surface": [
           {
            "colorbar": {
             "outlinewidth": 0,
             "ticks": ""
            },
            "colorscale": [
             [
              0,
              "#0d0887"
             ],
             [
              0.1111111111111111,
              "#46039f"
             ],
             [
              0.2222222222222222,
              "#7201a8"
             ],
             [
              0.3333333333333333,
              "#9c179e"
             ],
             [
              0.4444444444444444,
              "#bd3786"
             ],
             [
              0.5555555555555556,
              "#d8576b"
             ],
             [
              0.6666666666666666,
              "#ed7953"
             ],
             [
              0.7777777777777778,
              "#fb9f3a"
             ],
             [
              0.8888888888888888,
              "#fdca26"
             ],
             [
              1,
              "#f0f921"
             ]
            ],
            "type": "surface"
           }
          ],
          "table": [
           {
            "cells": {
             "fill": {
              "color": "#EBF0F8"
             },
             "line": {
              "color": "white"
             }
            },
            "header": {
             "fill": {
              "color": "#C8D4E3"
             },
             "line": {
              "color": "white"
             }
            },
            "type": "table"
           }
          ]
         },
         "layout": {
          "annotationdefaults": {
           "arrowcolor": "#2a3f5f",
           "arrowhead": 0,
           "arrowwidth": 1
          },
          "autotypenumbers": "strict",
          "coloraxis": {
           "colorbar": {
            "outlinewidth": 0,
            "ticks": ""
           }
          },
          "colorscale": {
           "diverging": [
            [
             0,
             "#8e0152"
            ],
            [
             0.1,
             "#c51b7d"
            ],
            [
             0.2,
             "#de77ae"
            ],
            [
             0.3,
             "#f1b6da"
            ],
            [
             0.4,
             "#fde0ef"
            ],
            [
             0.5,
             "#f7f7f7"
            ],
            [
             0.6,
             "#e6f5d0"
            ],
            [
             0.7,
             "#b8e186"
            ],
            [
             0.8,
             "#7fbc41"
            ],
            [
             0.9,
             "#4d9221"
            ],
            [
             1,
             "#276419"
            ]
           ],
           "sequential": [
            [
             0,
             "#0d0887"
            ],
            [
             0.1111111111111111,
             "#46039f"
            ],
            [
             0.2222222222222222,
             "#7201a8"
            ],
            [
             0.3333333333333333,
             "#9c179e"
            ],
            [
             0.4444444444444444,
             "#bd3786"
            ],
            [
             0.5555555555555556,
             "#d8576b"
            ],
            [
             0.6666666666666666,
             "#ed7953"
            ],
            [
             0.7777777777777778,
             "#fb9f3a"
            ],
            [
             0.8888888888888888,
             "#fdca26"
            ],
            [
             1,
             "#f0f921"
            ]
           ],
           "sequentialminus": [
            [
             0,
             "#0d0887"
            ],
            [
             0.1111111111111111,
             "#46039f"
            ],
            [
             0.2222222222222222,
             "#7201a8"
            ],
            [
             0.3333333333333333,
             "#9c179e"
            ],
            [
             0.4444444444444444,
             "#bd3786"
            ],
            [
             0.5555555555555556,
             "#d8576b"
            ],
            [
             0.6666666666666666,
             "#ed7953"
            ],
            [
             0.7777777777777778,
             "#fb9f3a"
            ],
            [
             0.8888888888888888,
             "#fdca26"
            ],
            [
             1,
             "#f0f921"
            ]
           ]
          },
          "colorway": [
           "#636efa",
           "#EF553B",
           "#00cc96",
           "#ab63fa",
           "#FFA15A",
           "#19d3f3",
           "#FF6692",
           "#B6E880",
           "#FF97FF",
           "#FECB52"
          ],
          "font": {
           "color": "#2a3f5f"
          },
          "geo": {
           "bgcolor": "white",
           "lakecolor": "white",
           "landcolor": "#E5ECF6",
           "showlakes": true,
           "showland": true,
           "subunitcolor": "white"
          },
          "hoverlabel": {
           "align": "left"
          },
          "hovermode": "closest",
          "mapbox": {
           "style": "light"
          },
          "paper_bgcolor": "white",
          "plot_bgcolor": "#E5ECF6",
          "polar": {
           "angularaxis": {
            "gridcolor": "white",
            "linecolor": "white",
            "ticks": ""
           },
           "bgcolor": "#E5ECF6",
           "radialaxis": {
            "gridcolor": "white",
            "linecolor": "white",
            "ticks": ""
           }
          },
          "scene": {
           "xaxis": {
            "backgroundcolor": "#E5ECF6",
            "gridcolor": "white",
            "gridwidth": 2,
            "linecolor": "white",
            "showbackground": true,
            "ticks": "",
            "zerolinecolor": "white"
           },
           "yaxis": {
            "backgroundcolor": "#E5ECF6",
            "gridcolor": "white",
            "gridwidth": 2,
            "linecolor": "white",
            "showbackground": true,
            "ticks": "",
            "zerolinecolor": "white"
           },
           "zaxis": {
            "backgroundcolor": "#E5ECF6",
            "gridcolor": "white",
            "gridwidth": 2,
            "linecolor": "white",
            "showbackground": true,
            "ticks": "",
            "zerolinecolor": "white"
           }
          },
          "shapedefaults": {
           "line": {
            "color": "#2a3f5f"
           }
          },
          "ternary": {
           "aaxis": {
            "gridcolor": "white",
            "linecolor": "white",
            "ticks": ""
           },
           "baxis": {
            "gridcolor": "white",
            "linecolor": "white",
            "ticks": ""
           },
           "bgcolor": "#E5ECF6",
           "caxis": {
            "gridcolor": "white",
            "linecolor": "white",
            "ticks": ""
           }
          },
          "title": {
           "x": 0.05
          },
          "xaxis": {
           "automargin": true,
           "gridcolor": "white",
           "linecolor": "white",
           "ticks": "",
           "title": {
            "standoff": 15
           },
           "zerolinecolor": "white",
           "zerolinewidth": 2
          },
          "yaxis": {
           "automargin": true,
           "gridcolor": "white",
           "linecolor": "white",
           "ticks": "",
           "title": {
            "standoff": 15
           },
           "zerolinecolor": "white",
           "zerolinewidth": 2
          }
         }
        },
        "title": {
         "font": {
          "color": "#4D5663"
         }
        },
        "xaxis": {
         "gridcolor": "#E1E5ED",
         "showgrid": true,
         "tickfont": {
          "color": "#4D5663"
         },
         "title": {
          "font": {
           "color": "#4D5663"
          },
          "text": ""
         },
         "zerolinecolor": "#E1E5ED"
        },
        "yaxis": {
         "gridcolor": "#E1E5ED",
         "showgrid": true,
         "tickfont": {
          "color": "#4D5663"
         },
         "title": {
          "font": {
           "color": "#4D5663"
          },
          "text": ""
         },
         "zerolinecolor": "#E1E5ED"
        }
       }
      },
      "text/html": [
       "<div>                            <div id=\"60aad0ef-232c-4d7d-8382-41c687530b92\" class=\"plotly-graph-div\" style=\"height:525px; width:100%;\"></div>            <script type=\"text/javascript\">                require([\"plotly\"], function(Plotly) {                    window.PLOTLYENV=window.PLOTLYENV || {};\n",
       "                    window.PLOTLYENV.BASE_URL='https://plot.ly';                                    if (document.getElementById(\"60aad0ef-232c-4d7d-8382-41c687530b92\")) {                    Plotly.newPlot(                        \"60aad0ef-232c-4d7d-8382-41c687530b92\",                        [{\"histfunc\":\"count\",\"histnorm\":\"\",\"marker\":{\"color\":\"rgba(255, 153, 51, 1.0)\",\"line\":{\"color\":\"#4D5663\",\"width\":1.3}},\"name\":\"A\",\"nbinsx\":25,\"opacity\":0.8,\"orientation\":\"v\",\"x\":[1.0972199573688461,-0.8556300900285553,0.126238097867567,-0.8282204270169976,0.8560873352556525,0.5619925804799691,2.167754242657729,0.8685971008748656,-1.9289937198025082,0.5437032363502787,-0.9574925223199207,-0.24911605946206627,1.5931382742156124,1.295876030061057,-0.3059339088046586,-2.5137835517098113,-0.1843257337369107,-0.11925588099121849,0.040977527180113854,0.591519333167522,-1.9133114776397937,-0.4234397600642683,-0.37323357463192774,0.39736404172278844,-1.0687353713516132,-2.1137134499842243,0.026616150448040582,0.03207548264493021,2.2350858795361037,0.3865150785553918,-0.2765508952638007,-0.9742483462536244,-0.037418091518889154,-0.6957386432796877,0.26254940779255026,-0.37061011710613984,0.1940616159399782,-0.4712706922249023,-0.7438133035929787,-0.8617817265675123,1.2274765825622858,-2.1162084763156,-0.39314272842603903,-0.7536802700649506,-0.2586012758153935,-0.3647937634526296,0.28374946056505923,-0.7426970053836787,0.5138603605588284,-1.1221585741415925,2.462589511258795,0.326754111891552,-1.1360152092376024,1.1009591239625762,0.5331383898979563,1.030367103510399,-1.5476307035214891,-0.14353702750924907,0.6153365014212021,0.17582305872329348,-0.1407595696306908,0.9615519820277341,-0.18273247455217942,-1.2490206473611387,-0.6843774351888924,-0.9450323644698706,-0.41593589370993106,1.6402502318965975,0.15090798894901028,-0.7602056513090112,0.16666027169541586,-0.6140555628020126,0.1224738655616952,0.0355516286140335,-0.07126787414443411,-0.47293961552623126,-0.17699554805522952,0.46179222308616014,0.9014511792772176,-1.0619107340564138,0.2431893684974666,-0.5197779549294853,-0.37792729092691474,-0.9297917791003169,0.7464411364714747,1.3135926514013567,-0.11786793920996452,-0.9006190576593024,0.3189182367226934,-0.6013694007427746,0.6392332214332836,-0.41007665963566364,-0.44084763227914775,0.026668559790025716,0.7551911700826331,1.2784426404091564,1.9525932355403217,1.4083554324392453,-0.04995379723171119,-0.8870695309281038],\"type\":\"histogram\"}],                        {\"barmode\":\"overlay\",\"legend\":{\"bgcolor\":\"#F5F6F9\",\"font\":{\"color\":\"#4D5663\"}},\"paper_bgcolor\":\"#F5F6F9\",\"plot_bgcolor\":\"#F5F6F9\",\"template\":{\"data\":{\"barpolar\":[{\"marker\":{\"line\":{\"color\":\"#E5ECF6\",\"width\":0.5},\"pattern\":{\"fillmode\":\"overlay\",\"size\":10,\"solidity\":0.2}},\"type\":\"barpolar\"}],\"bar\":[{\"error_x\":{\"color\":\"#2a3f5f\"},\"error_y\":{\"color\":\"#2a3f5f\"},\"marker\":{\"line\":{\"color\":\"#E5ECF6\",\"width\":0.5},\"pattern\":{\"fillmode\":\"overlay\",\"size\":10,\"solidity\":0.2}},\"type\":\"bar\"}],\"carpet\":[{\"aaxis\":{\"endlinecolor\":\"#2a3f5f\",\"gridcolor\":\"white\",\"linecolor\":\"white\",\"minorgridcolor\":\"white\",\"startlinecolor\":\"#2a3f5f\"},\"baxis\":{\"endlinecolor\":\"#2a3f5f\",\"gridcolor\":\"white\",\"linecolor\":\"white\",\"minorgridcolor\":\"white\",\"startlinecolor\":\"#2a3f5f\"},\"type\":\"carpet\"}],\"choropleth\":[{\"colorbar\":{\"outlinewidth\":0,\"ticks\":\"\"},\"type\":\"choropleth\"}],\"contourcarpet\":[{\"colorbar\":{\"outlinewidth\":0,\"ticks\":\"\"},\"type\":\"contourcarpet\"}],\"contour\":[{\"colorbar\":{\"outlinewidth\":0,\"ticks\":\"\"},\"colorscale\":[[0.0,\"#0d0887\"],[0.1111111111111111,\"#46039f\"],[0.2222222222222222,\"#7201a8\"],[0.3333333333333333,\"#9c179e\"],[0.4444444444444444,\"#bd3786\"],[0.5555555555555556,\"#d8576b\"],[0.6666666666666666,\"#ed7953\"],[0.7777777777777778,\"#fb9f3a\"],[0.8888888888888888,\"#fdca26\"],[1.0,\"#f0f921\"]],\"type\":\"contour\"}],\"heatmapgl\":[{\"colorbar\":{\"outlinewidth\":0,\"ticks\":\"\"},\"colorscale\":[[0.0,\"#0d0887\"],[0.1111111111111111,\"#46039f\"],[0.2222222222222222,\"#7201a8\"],[0.3333333333333333,\"#9c179e\"],[0.4444444444444444,\"#bd3786\"],[0.5555555555555556,\"#d8576b\"],[0.6666666666666666,\"#ed7953\"],[0.7777777777777778,\"#fb9f3a\"],[0.8888888888888888,\"#fdca26\"],[1.0,\"#f0f921\"]],\"type\":\"heatmapgl\"}],\"heatmap\":[{\"colorbar\":{\"outlinewidth\":0,\"ticks\":\"\"},\"colorscale\":[[0.0,\"#0d0887\"],[0.1111111111111111,\"#46039f\"],[0.2222222222222222,\"#7201a8\"],[0.3333333333333333,\"#9c179e\"],[0.4444444444444444,\"#bd3786\"],[0.5555555555555556,\"#d8576b\"],[0.6666666666666666,\"#ed7953\"],[0.7777777777777778,\"#fb9f3a\"],[0.8888888888888888,\"#fdca26\"],[1.0,\"#f0f921\"]],\"type\":\"heatmap\"}],\"histogram2dcontour\":[{\"colorbar\":{\"outlinewidth\":0,\"ticks\":\"\"},\"colorscale\":[[0.0,\"#0d0887\"],[0.1111111111111111,\"#46039f\"],[0.2222222222222222,\"#7201a8\"],[0.3333333333333333,\"#9c179e\"],[0.4444444444444444,\"#bd3786\"],[0.5555555555555556,\"#d8576b\"],[0.6666666666666666,\"#ed7953\"],[0.7777777777777778,\"#fb9f3a\"],[0.8888888888888888,\"#fdca26\"],[1.0,\"#f0f921\"]],\"type\":\"histogram2dcontour\"}],\"histogram2d\":[{\"colorbar\":{\"outlinewidth\":0,\"ticks\":\"\"},\"colorscale\":[[0.0,\"#0d0887\"],[0.1111111111111111,\"#46039f\"],[0.2222222222222222,\"#7201a8\"],[0.3333333333333333,\"#9c179e\"],[0.4444444444444444,\"#bd3786\"],[0.5555555555555556,\"#d8576b\"],[0.6666666666666666,\"#ed7953\"],[0.7777777777777778,\"#fb9f3a\"],[0.8888888888888888,\"#fdca26\"],[1.0,\"#f0f921\"]],\"type\":\"histogram2d\"}],\"histogram\":[{\"marker\":{\"pattern\":{\"fillmode\":\"overlay\",\"size\":10,\"solidity\":0.2}},\"type\":\"histogram\"}],\"mesh3d\":[{\"colorbar\":{\"outlinewidth\":0,\"ticks\":\"\"},\"type\":\"mesh3d\"}],\"parcoords\":[{\"line\":{\"colorbar\":{\"outlinewidth\":0,\"ticks\":\"\"}},\"type\":\"parcoords\"}],\"pie\":[{\"automargin\":true,\"type\":\"pie\"}],\"scatter3d\":[{\"line\":{\"colorbar\":{\"outlinewidth\":0,\"ticks\":\"\"}},\"marker\":{\"colorbar\":{\"outlinewidth\":0,\"ticks\":\"\"}},\"type\":\"scatter3d\"}],\"scattercarpet\":[{\"marker\":{\"colorbar\":{\"outlinewidth\":0,\"ticks\":\"\"}},\"type\":\"scattercarpet\"}],\"scattergeo\":[{\"marker\":{\"colorbar\":{\"outlinewidth\":0,\"ticks\":\"\"}},\"type\":\"scattergeo\"}],\"scattergl\":[{\"marker\":{\"colorbar\":{\"outlinewidth\":0,\"ticks\":\"\"}},\"type\":\"scattergl\"}],\"scattermapbox\":[{\"marker\":{\"colorbar\":{\"outlinewidth\":0,\"ticks\":\"\"}},\"type\":\"scattermapbox\"}],\"scatterpolargl\":[{\"marker\":{\"colorbar\":{\"outlinewidth\":0,\"ticks\":\"\"}},\"type\":\"scatterpolargl\"}],\"scatterpolar\":[{\"marker\":{\"colorbar\":{\"outlinewidth\":0,\"ticks\":\"\"}},\"type\":\"scatterpolar\"}],\"scatter\":[{\"fillpattern\":{\"fillmode\":\"overlay\",\"size\":10,\"solidity\":0.2},\"type\":\"scatter\"}],\"scatterternary\":[{\"marker\":{\"colorbar\":{\"outlinewidth\":0,\"ticks\":\"\"}},\"type\":\"scatterternary\"}],\"surface\":[{\"colorbar\":{\"outlinewidth\":0,\"ticks\":\"\"},\"colorscale\":[[0.0,\"#0d0887\"],[0.1111111111111111,\"#46039f\"],[0.2222222222222222,\"#7201a8\"],[0.3333333333333333,\"#9c179e\"],[0.4444444444444444,\"#bd3786\"],[0.5555555555555556,\"#d8576b\"],[0.6666666666666666,\"#ed7953\"],[0.7777777777777778,\"#fb9f3a\"],[0.8888888888888888,\"#fdca26\"],[1.0,\"#f0f921\"]],\"type\":\"surface\"}],\"table\":[{\"cells\":{\"fill\":{\"color\":\"#EBF0F8\"},\"line\":{\"color\":\"white\"}},\"header\":{\"fill\":{\"color\":\"#C8D4E3\"},\"line\":{\"color\":\"white\"}},\"type\":\"table\"}]},\"layout\":{\"annotationdefaults\":{\"arrowcolor\":\"#2a3f5f\",\"arrowhead\":0,\"arrowwidth\":1},\"autotypenumbers\":\"strict\",\"coloraxis\":{\"colorbar\":{\"outlinewidth\":0,\"ticks\":\"\"}},\"colorscale\":{\"diverging\":[[0,\"#8e0152\"],[0.1,\"#c51b7d\"],[0.2,\"#de77ae\"],[0.3,\"#f1b6da\"],[0.4,\"#fde0ef\"],[0.5,\"#f7f7f7\"],[0.6,\"#e6f5d0\"],[0.7,\"#b8e186\"],[0.8,\"#7fbc41\"],[0.9,\"#4d9221\"],[1,\"#276419\"]],\"sequential\":[[0.0,\"#0d0887\"],[0.1111111111111111,\"#46039f\"],[0.2222222222222222,\"#7201a8\"],[0.3333333333333333,\"#9c179e\"],[0.4444444444444444,\"#bd3786\"],[0.5555555555555556,\"#d8576b\"],[0.6666666666666666,\"#ed7953\"],[0.7777777777777778,\"#fb9f3a\"],[0.8888888888888888,\"#fdca26\"],[1.0,\"#f0f921\"]],\"sequentialminus\":[[0.0,\"#0d0887\"],[0.1111111111111111,\"#46039f\"],[0.2222222222222222,\"#7201a8\"],[0.3333333333333333,\"#9c179e\"],[0.4444444444444444,\"#bd3786\"],[0.5555555555555556,\"#d8576b\"],[0.6666666666666666,\"#ed7953\"],[0.7777777777777778,\"#fb9f3a\"],[0.8888888888888888,\"#fdca26\"],[1.0,\"#f0f921\"]]},\"colorway\":[\"#636efa\",\"#EF553B\",\"#00cc96\",\"#ab63fa\",\"#FFA15A\",\"#19d3f3\",\"#FF6692\",\"#B6E880\",\"#FF97FF\",\"#FECB52\"],\"font\":{\"color\":\"#2a3f5f\"},\"geo\":{\"bgcolor\":\"white\",\"lakecolor\":\"white\",\"landcolor\":\"#E5ECF6\",\"showlakes\":true,\"showland\":true,\"subunitcolor\":\"white\"},\"hoverlabel\":{\"align\":\"left\"},\"hovermode\":\"closest\",\"mapbox\":{\"style\":\"light\"},\"paper_bgcolor\":\"white\",\"plot_bgcolor\":\"#E5ECF6\",\"polar\":{\"angularaxis\":{\"gridcolor\":\"white\",\"linecolor\":\"white\",\"ticks\":\"\"},\"bgcolor\":\"#E5ECF6\",\"radialaxis\":{\"gridcolor\":\"white\",\"linecolor\":\"white\",\"ticks\":\"\"}},\"scene\":{\"xaxis\":{\"backgroundcolor\":\"#E5ECF6\",\"gridcolor\":\"white\",\"gridwidth\":2,\"linecolor\":\"white\",\"showbackground\":true,\"ticks\":\"\",\"zerolinecolor\":\"white\"},\"yaxis\":{\"backgroundcolor\":\"#E5ECF6\",\"gridcolor\":\"white\",\"gridwidth\":2,\"linecolor\":\"white\",\"showbackground\":true,\"ticks\":\"\",\"zerolinecolor\":\"white\"},\"zaxis\":{\"backgroundcolor\":\"#E5ECF6\",\"gridcolor\":\"white\",\"gridwidth\":2,\"linecolor\":\"white\",\"showbackground\":true,\"ticks\":\"\",\"zerolinecolor\":\"white\"}},\"shapedefaults\":{\"line\":{\"color\":\"#2a3f5f\"}},\"ternary\":{\"aaxis\":{\"gridcolor\":\"white\",\"linecolor\":\"white\",\"ticks\":\"\"},\"baxis\":{\"gridcolor\":\"white\",\"linecolor\":\"white\",\"ticks\":\"\"},\"bgcolor\":\"#E5ECF6\",\"caxis\":{\"gridcolor\":\"white\",\"linecolor\":\"white\",\"ticks\":\"\"}},\"title\":{\"x\":0.05},\"xaxis\":{\"automargin\":true,\"gridcolor\":\"white\",\"linecolor\":\"white\",\"ticks\":\"\",\"title\":{\"standoff\":15},\"zerolinecolor\":\"white\",\"zerolinewidth\":2},\"yaxis\":{\"automargin\":true,\"gridcolor\":\"white\",\"linecolor\":\"white\",\"ticks\":\"\",\"title\":{\"standoff\":15},\"zerolinecolor\":\"white\",\"zerolinewidth\":2}}},\"title\":{\"font\":{\"color\":\"#4D5663\"}},\"xaxis\":{\"gridcolor\":\"#E1E5ED\",\"showgrid\":true,\"tickfont\":{\"color\":\"#4D5663\"},\"title\":{\"font\":{\"color\":\"#4D5663\"},\"text\":\"\"},\"zerolinecolor\":\"#E1E5ED\"},\"yaxis\":{\"gridcolor\":\"#E1E5ED\",\"showgrid\":true,\"tickfont\":{\"color\":\"#4D5663\"},\"title\":{\"font\":{\"color\":\"#4D5663\"},\"text\":\"\"},\"zerolinecolor\":\"#E1E5ED\"}},                        {\"showLink\": true, \"linkText\": \"Export to plot.ly\", \"plotlyServerURL\": \"https://plot.ly\", \"responsive\": true}                    ).then(function(){\n",
       "                            \n",
       "var gd = document.getElementById('60aad0ef-232c-4d7d-8382-41c687530b92');\n",
       "var x = new MutationObserver(function (mutations, observer) {{\n",
       "        var display = window.getComputedStyle(gd).display;\n",
       "        if (!display || display === 'none') {{\n",
       "            console.log([gd, 'removed!']);\n",
       "            Plotly.purge(gd);\n",
       "            observer.disconnect();\n",
       "        }}\n",
       "}});\n",
       "\n",
       "// Listen for the removal of the full notebook cells\n",
       "var notebookContainer = gd.closest('#notebook-container');\n",
       "if (notebookContainer) {{\n",
       "    x.observe(notebookContainer, {childList: true});\n",
       "}}\n",
       "\n",
       "// Listen for the clearing of the current output cell\n",
       "var outputEl = gd.closest('.output');\n",
       "if (outputEl) {{\n",
       "    x.observe(outputEl, {childList: true});\n",
       "}}\n",
       "\n",
       "                        })                };                });            </script>        </div>"
      ]
     },
     "metadata": {},
     "output_type": "display_data"
    }
   ],
   "source": [
    "df['A'].iplot(kind='hist',bins=25)"
   ]
  },
  {
   "cell_type": "code",
   "execution_count": 13,
   "id": "15e4e810",
   "metadata": {},
   "outputs": [
    {
     "data": {
      "application/vnd.plotly.v1+json": {
       "config": {
        "linkText": "Export to plot.ly",
        "plotlyServerURL": "https://plot.ly",
        "showLink": true
       },
       "data": [
        {
         "marker": {
          "color": [
           "rgb(255, 153, 51)",
           "rgb(55, 128, 191)",
           "rgb(50, 171, 96)",
           "rgb(128, 0, 128)",
           "rgb(219, 64, 82)",
           "rgb(0, 128, 128)",
           "rgb(255, 255, 51)",
           "rgb(128, 128, 0)",
           "rgb(251, 128, 114)",
           "rgb(128, 177, 211)"
          ],
          "line": {
           "width": 1.3
          },
          "size": [
           94,
           29,
           45,
           68,
           52,
           65,
           40,
           19,
           43,
           76,
           107,
           85,
           51,
           78,
           81,
           60,
           66,
           15,
           65,
           71,
           68,
           30,
           79,
           55,
           35,
           65,
           52,
           55,
           91,
           60,
           44,
           79,
           62,
           44,
           83,
           49,
           56,
           86,
           72,
           34,
           90,
           69,
           98,
           78,
           64,
           63,
           23,
           51,
           80,
           41,
           60,
           80,
           64,
           37,
           76,
           100,
           58,
           87,
           33,
           65,
           61,
           38,
           63,
           79,
           19,
           43,
           69,
           12,
           49,
           86,
           45,
           35,
           54,
           57,
           66,
           63,
           39,
           59,
           54,
           69,
           73,
           16,
           80,
           56,
           60,
           86,
           64,
           57,
           112,
           49,
           83,
           47,
           59,
           78,
           68,
           55,
           61,
           56,
           41,
           97
          ],
          "symbol": "circle"
         },
         "mode": "markers",
         "text": "",
         "type": "scatter",
         "x": [
          1.0972199573688461,
          -0.8556300900285553,
          0.126238097867567,
          -0.8282204270169976,
          0.8560873352556525,
          0.5619925804799691,
          2.167754242657729,
          0.8685971008748656,
          -1.9289937198025082,
          0.5437032363502787,
          -0.9574925223199207,
          -0.24911605946206627,
          1.5931382742156124,
          1.295876030061057,
          -0.3059339088046586,
          -2.5137835517098113,
          -0.1843257337369107,
          -0.11925588099121849,
          0.040977527180113854,
          0.591519333167522,
          -1.9133114776397937,
          -0.4234397600642683,
          -0.37323357463192774,
          0.39736404172278844,
          -1.0687353713516132,
          -2.1137134499842243,
          0.026616150448040582,
          0.03207548264493021,
          2.2350858795361037,
          0.3865150785553918,
          -0.2765508952638007,
          -0.9742483462536244,
          -0.037418091518889154,
          -0.6957386432796877,
          0.26254940779255026,
          -0.37061011710613984,
          0.1940616159399782,
          -0.4712706922249023,
          -0.7438133035929787,
          -0.8617817265675123,
          1.2274765825622858,
          -2.1162084763156,
          -0.39314272842603903,
          -0.7536802700649506,
          -0.2586012758153935,
          -0.3647937634526296,
          0.28374946056505923,
          -0.7426970053836787,
          0.5138603605588284,
          -1.1221585741415925,
          2.462589511258795,
          0.326754111891552,
          -1.1360152092376024,
          1.1009591239625762,
          0.5331383898979563,
          1.030367103510399,
          -1.5476307035214891,
          -0.14353702750924907,
          0.6153365014212021,
          0.17582305872329348,
          -0.1407595696306908,
          0.9615519820277341,
          -0.18273247455217942,
          -1.2490206473611387,
          -0.6843774351888924,
          -0.9450323644698706,
          -0.41593589370993106,
          1.6402502318965975,
          0.15090798894901028,
          -0.7602056513090112,
          0.16666027169541586,
          -0.6140555628020126,
          0.1224738655616952,
          0.0355516286140335,
          -0.07126787414443411,
          -0.47293961552623126,
          -0.17699554805522952,
          0.46179222308616014,
          0.9014511792772176,
          -1.0619107340564138,
          0.2431893684974666,
          -0.5197779549294853,
          -0.37792729092691474,
          -0.9297917791003169,
          0.7464411364714747,
          1.3135926514013567,
          -0.11786793920996452,
          -0.9006190576593024,
          0.3189182367226934,
          -0.6013694007427746,
          0.6392332214332836,
          -0.41007665963566364,
          -0.44084763227914775,
          0.026668559790025716,
          0.7551911700826331,
          1.2784426404091564,
          1.9525932355403217,
          1.4083554324392453,
          -0.04995379723171119,
          -0.8870695309281038
         ],
         "y": [
          -1.3637774842815413,
          0.353952675325184,
          0.21353536078393018,
          0.6699142800774748,
          -0.574120137178779,
          0.22137996731266077,
          0.1842868499658055,
          -0.5631842115771228,
          0.026902270886982552,
          1.6135586059124316,
          -0.24141231977133087,
          0.3589101422836867,
          0.5151474823005724,
          -0.8065719473373799,
          2.655984963239379,
          1.7676102880648454,
          0.536666074694593,
          1.7113497148684713,
          1.2103329781689967,
          0.2892831050976094,
          0.5536184590916052,
          -0.9080764903832801,
          1.3117010182803681,
          0.9496623261887203,
          2.1578662968217746,
          -2.2866991271331054,
          0.46502055933437225,
          0.3007190779204101,
          0.21565361054157617,
          0.7297651175587392,
          1.2110715854901988,
          -0.4313639363120854,
          0.3186649273727466,
          0.8610791269604751,
          -0.3520093584334649,
          -0.18440102023666888,
          0.20663158797414072,
          -1.2482030602991123,
          -0.15252849941252594,
          -0.6280150064398252,
          1.6384377692523178,
          -0.9686158825072473,
          1.523254680641849,
          -0.43324496175475813,
          0.17683089883614178,
          1.3437492789374694,
          0.7922225736517898,
          0.37848642017699863,
          1.944114142362021,
          -1.1989544380354518,
          0.9270998914726263,
          0.21227650911028123,
          1.6141779405665395,
          0.7559046937544706,
          1.3126072045227353,
          -0.33678296009720143,
          0.29379536995738714,
          -0.814197978560749,
          0.035366931482711854,
          -1.7283954579795704,
          0.21158915830886985,
          1.0445162035800992,
          -0.8675878384458665,
          -0.39509555817917685,
          0.39641202034336487,
          0.34138447652912884,
          -1.5794190042582488,
          1.6361047889920284,
          0.10099997488030328,
          1.380339719163687,
          -0.1942889589590072,
          0.030121399759899314,
          -0.22129904013345408,
          0.5198780246561374,
          0.718822922695734,
          -1.0378545103964494,
          0.5094549811222295,
          0.9981651911086201,
          -0.3052056534959569,
          -1.0367418993908588,
          0.8114795684472617,
          -1.984381866446984,
          -0.7176887974181332,
          0.2326928856538649,
          -0.06287311871688153,
          0.3424467162006518,
          -0.7303309346947787,
          -0.7732572902361802,
          0.017804708943345644,
          2.2215543781141633,
          -0.4078351257654741,
          -0.029488329916561636,
          0.3382837144894597,
          -1.7290701278444445,
          -1.7183982409460457,
          0.6898709280559027,
          -1.2171663269029787,
          -0.5932799090423962,
          -0.409927639782033,
          1.1406913323954189
         ]
        }
       ],
       "layout": {
        "legend": {
         "bgcolor": "#F5F6F9",
         "font": {
          "color": "#4D5663"
         }
        },
        "paper_bgcolor": "#F5F6F9",
        "plot_bgcolor": "#F5F6F9",
        "template": {
         "data": {
          "bar": [
           {
            "error_x": {
             "color": "#2a3f5f"
            },
            "error_y": {
             "color": "#2a3f5f"
            },
            "marker": {
             "line": {
              "color": "#E5ECF6",
              "width": 0.5
             },
             "pattern": {
              "fillmode": "overlay",
              "size": 10,
              "solidity": 0.2
             }
            },
            "type": "bar"
           }
          ],
          "barpolar": [
           {
            "marker": {
             "line": {
              "color": "#E5ECF6",
              "width": 0.5
             },
             "pattern": {
              "fillmode": "overlay",
              "size": 10,
              "solidity": 0.2
             }
            },
            "type": "barpolar"
           }
          ],
          "carpet": [
           {
            "aaxis": {
             "endlinecolor": "#2a3f5f",
             "gridcolor": "white",
             "linecolor": "white",
             "minorgridcolor": "white",
             "startlinecolor": "#2a3f5f"
            },
            "baxis": {
             "endlinecolor": "#2a3f5f",
             "gridcolor": "white",
             "linecolor": "white",
             "minorgridcolor": "white",
             "startlinecolor": "#2a3f5f"
            },
            "type": "carpet"
           }
          ],
          "choropleth": [
           {
            "colorbar": {
             "outlinewidth": 0,
             "ticks": ""
            },
            "type": "choropleth"
           }
          ],
          "contour": [
           {
            "colorbar": {
             "outlinewidth": 0,
             "ticks": ""
            },
            "colorscale": [
             [
              0,
              "#0d0887"
             ],
             [
              0.1111111111111111,
              "#46039f"
             ],
             [
              0.2222222222222222,
              "#7201a8"
             ],
             [
              0.3333333333333333,
              "#9c179e"
             ],
             [
              0.4444444444444444,
              "#bd3786"
             ],
             [
              0.5555555555555556,
              "#d8576b"
             ],
             [
              0.6666666666666666,
              "#ed7953"
             ],
             [
              0.7777777777777778,
              "#fb9f3a"
             ],
             [
              0.8888888888888888,
              "#fdca26"
             ],
             [
              1,
              "#f0f921"
             ]
            ],
            "type": "contour"
           }
          ],
          "contourcarpet": [
           {
            "colorbar": {
             "outlinewidth": 0,
             "ticks": ""
            },
            "type": "contourcarpet"
           }
          ],
          "heatmap": [
           {
            "colorbar": {
             "outlinewidth": 0,
             "ticks": ""
            },
            "colorscale": [
             [
              0,
              "#0d0887"
             ],
             [
              0.1111111111111111,
              "#46039f"
             ],
             [
              0.2222222222222222,
              "#7201a8"
             ],
             [
              0.3333333333333333,
              "#9c179e"
             ],
             [
              0.4444444444444444,
              "#bd3786"
             ],
             [
              0.5555555555555556,
              "#d8576b"
             ],
             [
              0.6666666666666666,
              "#ed7953"
             ],
             [
              0.7777777777777778,
              "#fb9f3a"
             ],
             [
              0.8888888888888888,
              "#fdca26"
             ],
             [
              1,
              "#f0f921"
             ]
            ],
            "type": "heatmap"
           }
          ],
          "heatmapgl": [
           {
            "colorbar": {
             "outlinewidth": 0,
             "ticks": ""
            },
            "colorscale": [
             [
              0,
              "#0d0887"
             ],
             [
              0.1111111111111111,
              "#46039f"
             ],
             [
              0.2222222222222222,
              "#7201a8"
             ],
             [
              0.3333333333333333,
              "#9c179e"
             ],
             [
              0.4444444444444444,
              "#bd3786"
             ],
             [
              0.5555555555555556,
              "#d8576b"
             ],
             [
              0.6666666666666666,
              "#ed7953"
             ],
             [
              0.7777777777777778,
              "#fb9f3a"
             ],
             [
              0.8888888888888888,
              "#fdca26"
             ],
             [
              1,
              "#f0f921"
             ]
            ],
            "type": "heatmapgl"
           }
          ],
          "histogram": [
           {
            "marker": {
             "pattern": {
              "fillmode": "overlay",
              "size": 10,
              "solidity": 0.2
             }
            },
            "type": "histogram"
           }
          ],
          "histogram2d": [
           {
            "colorbar": {
             "outlinewidth": 0,
             "ticks": ""
            },
            "colorscale": [
             [
              0,
              "#0d0887"
             ],
             [
              0.1111111111111111,
              "#46039f"
             ],
             [
              0.2222222222222222,
              "#7201a8"
             ],
             [
              0.3333333333333333,
              "#9c179e"
             ],
             [
              0.4444444444444444,
              "#bd3786"
             ],
             [
              0.5555555555555556,
              "#d8576b"
             ],
             [
              0.6666666666666666,
              "#ed7953"
             ],
             [
              0.7777777777777778,
              "#fb9f3a"
             ],
             [
              0.8888888888888888,
              "#fdca26"
             ],
             [
              1,
              "#f0f921"
             ]
            ],
            "type": "histogram2d"
           }
          ],
          "histogram2dcontour": [
           {
            "colorbar": {
             "outlinewidth": 0,
             "ticks": ""
            },
            "colorscale": [
             [
              0,
              "#0d0887"
             ],
             [
              0.1111111111111111,
              "#46039f"
             ],
             [
              0.2222222222222222,
              "#7201a8"
             ],
             [
              0.3333333333333333,
              "#9c179e"
             ],
             [
              0.4444444444444444,
              "#bd3786"
             ],
             [
              0.5555555555555556,
              "#d8576b"
             ],
             [
              0.6666666666666666,
              "#ed7953"
             ],
             [
              0.7777777777777778,
              "#fb9f3a"
             ],
             [
              0.8888888888888888,
              "#fdca26"
             ],
             [
              1,
              "#f0f921"
             ]
            ],
            "type": "histogram2dcontour"
           }
          ],
          "mesh3d": [
           {
            "colorbar": {
             "outlinewidth": 0,
             "ticks": ""
            },
            "type": "mesh3d"
           }
          ],
          "parcoords": [
           {
            "line": {
             "colorbar": {
              "outlinewidth": 0,
              "ticks": ""
             }
            },
            "type": "parcoords"
           }
          ],
          "pie": [
           {
            "automargin": true,
            "type": "pie"
           }
          ],
          "scatter": [
           {
            "fillpattern": {
             "fillmode": "overlay",
             "size": 10,
             "solidity": 0.2
            },
            "type": "scatter"
           }
          ],
          "scatter3d": [
           {
            "line": {
             "colorbar": {
              "outlinewidth": 0,
              "ticks": ""
             }
            },
            "marker": {
             "colorbar": {
              "outlinewidth": 0,
              "ticks": ""
             }
            },
            "type": "scatter3d"
           }
          ],
          "scattercarpet": [
           {
            "marker": {
             "colorbar": {
              "outlinewidth": 0,
              "ticks": ""
             }
            },
            "type": "scattercarpet"
           }
          ],
          "scattergeo": [
           {
            "marker": {
             "colorbar": {
              "outlinewidth": 0,
              "ticks": ""
             }
            },
            "type": "scattergeo"
           }
          ],
          "scattergl": [
           {
            "marker": {
             "colorbar": {
              "outlinewidth": 0,
              "ticks": ""
             }
            },
            "type": "scattergl"
           }
          ],
          "scattermapbox": [
           {
            "marker": {
             "colorbar": {
              "outlinewidth": 0,
              "ticks": ""
             }
            },
            "type": "scattermapbox"
           }
          ],
          "scatterpolar": [
           {
            "marker": {
             "colorbar": {
              "outlinewidth": 0,
              "ticks": ""
             }
            },
            "type": "scatterpolar"
           }
          ],
          "scatterpolargl": [
           {
            "marker": {
             "colorbar": {
              "outlinewidth": 0,
              "ticks": ""
             }
            },
            "type": "scatterpolargl"
           }
          ],
          "scatterternary": [
           {
            "marker": {
             "colorbar": {
              "outlinewidth": 0,
              "ticks": ""
             }
            },
            "type": "scatterternary"
           }
          ],
          "surface": [
           {
            "colorbar": {
             "outlinewidth": 0,
             "ticks": ""
            },
            "colorscale": [
             [
              0,
              "#0d0887"
             ],
             [
              0.1111111111111111,
              "#46039f"
             ],
             [
              0.2222222222222222,
              "#7201a8"
             ],
             [
              0.3333333333333333,
              "#9c179e"
             ],
             [
              0.4444444444444444,
              "#bd3786"
             ],
             [
              0.5555555555555556,
              "#d8576b"
             ],
             [
              0.6666666666666666,
              "#ed7953"
             ],
             [
              0.7777777777777778,
              "#fb9f3a"
             ],
             [
              0.8888888888888888,
              "#fdca26"
             ],
             [
              1,
              "#f0f921"
             ]
            ],
            "type": "surface"
           }
          ],
          "table": [
           {
            "cells": {
             "fill": {
              "color": "#EBF0F8"
             },
             "line": {
              "color": "white"
             }
            },
            "header": {
             "fill": {
              "color": "#C8D4E3"
             },
             "line": {
              "color": "white"
             }
            },
            "type": "table"
           }
          ]
         },
         "layout": {
          "annotationdefaults": {
           "arrowcolor": "#2a3f5f",
           "arrowhead": 0,
           "arrowwidth": 1
          },
          "autotypenumbers": "strict",
          "coloraxis": {
           "colorbar": {
            "outlinewidth": 0,
            "ticks": ""
           }
          },
          "colorscale": {
           "diverging": [
            [
             0,
             "#8e0152"
            ],
            [
             0.1,
             "#c51b7d"
            ],
            [
             0.2,
             "#de77ae"
            ],
            [
             0.3,
             "#f1b6da"
            ],
            [
             0.4,
             "#fde0ef"
            ],
            [
             0.5,
             "#f7f7f7"
            ],
            [
             0.6,
             "#e6f5d0"
            ],
            [
             0.7,
             "#b8e186"
            ],
            [
             0.8,
             "#7fbc41"
            ],
            [
             0.9,
             "#4d9221"
            ],
            [
             1,
             "#276419"
            ]
           ],
           "sequential": [
            [
             0,
             "#0d0887"
            ],
            [
             0.1111111111111111,
             "#46039f"
            ],
            [
             0.2222222222222222,
             "#7201a8"
            ],
            [
             0.3333333333333333,
             "#9c179e"
            ],
            [
             0.4444444444444444,
             "#bd3786"
            ],
            [
             0.5555555555555556,
             "#d8576b"
            ],
            [
             0.6666666666666666,
             "#ed7953"
            ],
            [
             0.7777777777777778,
             "#fb9f3a"
            ],
            [
             0.8888888888888888,
             "#fdca26"
            ],
            [
             1,
             "#f0f921"
            ]
           ],
           "sequentialminus": [
            [
             0,
             "#0d0887"
            ],
            [
             0.1111111111111111,
             "#46039f"
            ],
            [
             0.2222222222222222,
             "#7201a8"
            ],
            [
             0.3333333333333333,
             "#9c179e"
            ],
            [
             0.4444444444444444,
             "#bd3786"
            ],
            [
             0.5555555555555556,
             "#d8576b"
            ],
            [
             0.6666666666666666,
             "#ed7953"
            ],
            [
             0.7777777777777778,
             "#fb9f3a"
            ],
            [
             0.8888888888888888,
             "#fdca26"
            ],
            [
             1,
             "#f0f921"
            ]
           ]
          },
          "colorway": [
           "#636efa",
           "#EF553B",
           "#00cc96",
           "#ab63fa",
           "#FFA15A",
           "#19d3f3",
           "#FF6692",
           "#B6E880",
           "#FF97FF",
           "#FECB52"
          ],
          "font": {
           "color": "#2a3f5f"
          },
          "geo": {
           "bgcolor": "white",
           "lakecolor": "white",
           "landcolor": "#E5ECF6",
           "showlakes": true,
           "showland": true,
           "subunitcolor": "white"
          },
          "hoverlabel": {
           "align": "left"
          },
          "hovermode": "closest",
          "mapbox": {
           "style": "light"
          },
          "paper_bgcolor": "white",
          "plot_bgcolor": "#E5ECF6",
          "polar": {
           "angularaxis": {
            "gridcolor": "white",
            "linecolor": "white",
            "ticks": ""
           },
           "bgcolor": "#E5ECF6",
           "radialaxis": {
            "gridcolor": "white",
            "linecolor": "white",
            "ticks": ""
           }
          },
          "scene": {
           "xaxis": {
            "backgroundcolor": "#E5ECF6",
            "gridcolor": "white",
            "gridwidth": 2,
            "linecolor": "white",
            "showbackground": true,
            "ticks": "",
            "zerolinecolor": "white"
           },
           "yaxis": {
            "backgroundcolor": "#E5ECF6",
            "gridcolor": "white",
            "gridwidth": 2,
            "linecolor": "white",
            "showbackground": true,
            "ticks": "",
            "zerolinecolor": "white"
           },
           "zaxis": {
            "backgroundcolor": "#E5ECF6",
            "gridcolor": "white",
            "gridwidth": 2,
            "linecolor": "white",
            "showbackground": true,
            "ticks": "",
            "zerolinecolor": "white"
           }
          },
          "shapedefaults": {
           "line": {
            "color": "#2a3f5f"
           }
          },
          "ternary": {
           "aaxis": {
            "gridcolor": "white",
            "linecolor": "white",
            "ticks": ""
           },
           "baxis": {
            "gridcolor": "white",
            "linecolor": "white",
            "ticks": ""
           },
           "bgcolor": "#E5ECF6",
           "caxis": {
            "gridcolor": "white",
            "linecolor": "white",
            "ticks": ""
           }
          },
          "title": {
           "x": 0.05
          },
          "xaxis": {
           "automargin": true,
           "gridcolor": "white",
           "linecolor": "white",
           "ticks": "",
           "title": {
            "standoff": 15
           },
           "zerolinecolor": "white",
           "zerolinewidth": 2
          },
          "yaxis": {
           "automargin": true,
           "gridcolor": "white",
           "linecolor": "white",
           "ticks": "",
           "title": {
            "standoff": 15
           },
           "zerolinecolor": "white",
           "zerolinewidth": 2
          }
         }
        },
        "title": {
         "font": {
          "color": "#4D5663"
         }
        },
        "xaxis": {
         "gridcolor": "#E1E5ED",
         "showgrid": true,
         "tickfont": {
          "color": "#4D5663"
         },
         "title": {
          "font": {
           "color": "#4D5663"
          },
          "text": ""
         },
         "zerolinecolor": "#E1E5ED"
        },
        "yaxis": {
         "gridcolor": "#E1E5ED",
         "showgrid": true,
         "tickfont": {
          "color": "#4D5663"
         },
         "title": {
          "font": {
           "color": "#4D5663"
          },
          "text": ""
         },
         "zerolinecolor": "#E1E5ED"
        }
       }
      },
      "text/html": [
       "<div>                            <div id=\"c17f533b-8e62-49f1-8f36-6d007e06a0c1\" class=\"plotly-graph-div\" style=\"height:525px; width:100%;\"></div>            <script type=\"text/javascript\">                require([\"plotly\"], function(Plotly) {                    window.PLOTLYENV=window.PLOTLYENV || {};\n",
       "                    window.PLOTLYENV.BASE_URL='https://plot.ly';                                    if (document.getElementById(\"c17f533b-8e62-49f1-8f36-6d007e06a0c1\")) {                    Plotly.newPlot(                        \"c17f533b-8e62-49f1-8f36-6d007e06a0c1\",                        [{\"marker\":{\"color\":[\"rgb(255, 153, 51)\",\"rgb(55, 128, 191)\",\"rgb(50, 171, 96)\",\"rgb(128, 0, 128)\",\"rgb(219, 64, 82)\",\"rgb(0, 128, 128)\",\"rgb(255, 255, 51)\",\"rgb(128, 128, 0)\",\"rgb(251, 128, 114)\",\"rgb(128, 177, 211)\"],\"line\":{\"width\":1.3},\"size\":[94,29,45,68,52,65,40,19,43,76,107,85,51,78,81,60,66,15,65,71,68,30,79,55,35,65,52,55,91,60,44,79,62,44,83,49,56,86,72,34,90,69,98,78,64,63,23,51,80,41,60,80,64,37,76,100,58,87,33,65,61,38,63,79,19,43,69,12,49,86,45,35,54,57,66,63,39,59,54,69,73,16,80,56,60,86,64,57,112,49,83,47,59,78,68,55,61,56,41,97],\"symbol\":\"circle\"},\"mode\":\"markers\",\"text\":\"\",\"x\":[1.0972199573688461,-0.8556300900285553,0.126238097867567,-0.8282204270169976,0.8560873352556525,0.5619925804799691,2.167754242657729,0.8685971008748656,-1.9289937198025082,0.5437032363502787,-0.9574925223199207,-0.24911605946206627,1.5931382742156124,1.295876030061057,-0.3059339088046586,-2.5137835517098113,-0.1843257337369107,-0.11925588099121849,0.040977527180113854,0.591519333167522,-1.9133114776397937,-0.4234397600642683,-0.37323357463192774,0.39736404172278844,-1.0687353713516132,-2.1137134499842243,0.026616150448040582,0.03207548264493021,2.2350858795361037,0.3865150785553918,-0.2765508952638007,-0.9742483462536244,-0.037418091518889154,-0.6957386432796877,0.26254940779255026,-0.37061011710613984,0.1940616159399782,-0.4712706922249023,-0.7438133035929787,-0.8617817265675123,1.2274765825622858,-2.1162084763156,-0.39314272842603903,-0.7536802700649506,-0.2586012758153935,-0.3647937634526296,0.28374946056505923,-0.7426970053836787,0.5138603605588284,-1.1221585741415925,2.462589511258795,0.326754111891552,-1.1360152092376024,1.1009591239625762,0.5331383898979563,1.030367103510399,-1.5476307035214891,-0.14353702750924907,0.6153365014212021,0.17582305872329348,-0.1407595696306908,0.9615519820277341,-0.18273247455217942,-1.2490206473611387,-0.6843774351888924,-0.9450323644698706,-0.41593589370993106,1.6402502318965975,0.15090798894901028,-0.7602056513090112,0.16666027169541586,-0.6140555628020126,0.1224738655616952,0.0355516286140335,-0.07126787414443411,-0.47293961552623126,-0.17699554805522952,0.46179222308616014,0.9014511792772176,-1.0619107340564138,0.2431893684974666,-0.5197779549294853,-0.37792729092691474,-0.9297917791003169,0.7464411364714747,1.3135926514013567,-0.11786793920996452,-0.9006190576593024,0.3189182367226934,-0.6013694007427746,0.6392332214332836,-0.41007665963566364,-0.44084763227914775,0.026668559790025716,0.7551911700826331,1.2784426404091564,1.9525932355403217,1.4083554324392453,-0.04995379723171119,-0.8870695309281038],\"y\":[-1.3637774842815413,0.353952675325184,0.21353536078393018,0.6699142800774748,-0.574120137178779,0.22137996731266077,0.1842868499658055,-0.5631842115771228,0.026902270886982552,1.6135586059124316,-0.24141231977133087,0.3589101422836867,0.5151474823005724,-0.8065719473373799,2.655984963239379,1.7676102880648454,0.536666074694593,1.7113497148684713,1.2103329781689967,0.2892831050976094,0.5536184590916052,-0.9080764903832801,1.3117010182803681,0.9496623261887203,2.1578662968217746,-2.2866991271331054,0.46502055933437225,0.3007190779204101,0.21565361054157617,0.7297651175587392,1.2110715854901988,-0.4313639363120854,0.3186649273727466,0.8610791269604751,-0.3520093584334649,-0.18440102023666888,0.20663158797414072,-1.2482030602991123,-0.15252849941252594,-0.6280150064398252,1.6384377692523178,-0.9686158825072473,1.523254680641849,-0.43324496175475813,0.17683089883614178,1.3437492789374694,0.7922225736517898,0.37848642017699863,1.944114142362021,-1.1989544380354518,0.9270998914726263,0.21227650911028123,1.6141779405665395,0.7559046937544706,1.3126072045227353,-0.33678296009720143,0.29379536995738714,-0.814197978560749,0.035366931482711854,-1.7283954579795704,0.21158915830886985,1.0445162035800992,-0.8675878384458665,-0.39509555817917685,0.39641202034336487,0.34138447652912884,-1.5794190042582488,1.6361047889920284,0.10099997488030328,1.380339719163687,-0.1942889589590072,0.030121399759899314,-0.22129904013345408,0.5198780246561374,0.718822922695734,-1.0378545103964494,0.5094549811222295,0.9981651911086201,-0.3052056534959569,-1.0367418993908588,0.8114795684472617,-1.984381866446984,-0.7176887974181332,0.2326928856538649,-0.06287311871688153,0.3424467162006518,-0.7303309346947787,-0.7732572902361802,0.017804708943345644,2.2215543781141633,-0.4078351257654741,-0.029488329916561636,0.3382837144894597,-1.7290701278444445,-1.7183982409460457,0.6898709280559027,-1.2171663269029787,-0.5932799090423962,-0.409927639782033,1.1406913323954189],\"type\":\"scatter\"}],                        {\"legend\":{\"bgcolor\":\"#F5F6F9\",\"font\":{\"color\":\"#4D5663\"}},\"paper_bgcolor\":\"#F5F6F9\",\"plot_bgcolor\":\"#F5F6F9\",\"template\":{\"data\":{\"barpolar\":[{\"marker\":{\"line\":{\"color\":\"#E5ECF6\",\"width\":0.5},\"pattern\":{\"fillmode\":\"overlay\",\"size\":10,\"solidity\":0.2}},\"type\":\"barpolar\"}],\"bar\":[{\"error_x\":{\"color\":\"#2a3f5f\"},\"error_y\":{\"color\":\"#2a3f5f\"},\"marker\":{\"line\":{\"color\":\"#E5ECF6\",\"width\":0.5},\"pattern\":{\"fillmode\":\"overlay\",\"size\":10,\"solidity\":0.2}},\"type\":\"bar\"}],\"carpet\":[{\"aaxis\":{\"endlinecolor\":\"#2a3f5f\",\"gridcolor\":\"white\",\"linecolor\":\"white\",\"minorgridcolor\":\"white\",\"startlinecolor\":\"#2a3f5f\"},\"baxis\":{\"endlinecolor\":\"#2a3f5f\",\"gridcolor\":\"white\",\"linecolor\":\"white\",\"minorgridcolor\":\"white\",\"startlinecolor\":\"#2a3f5f\"},\"type\":\"carpet\"}],\"choropleth\":[{\"colorbar\":{\"outlinewidth\":0,\"ticks\":\"\"},\"type\":\"choropleth\"}],\"contourcarpet\":[{\"colorbar\":{\"outlinewidth\":0,\"ticks\":\"\"},\"type\":\"contourcarpet\"}],\"contour\":[{\"colorbar\":{\"outlinewidth\":0,\"ticks\":\"\"},\"colorscale\":[[0.0,\"#0d0887\"],[0.1111111111111111,\"#46039f\"],[0.2222222222222222,\"#7201a8\"],[0.3333333333333333,\"#9c179e\"],[0.4444444444444444,\"#bd3786\"],[0.5555555555555556,\"#d8576b\"],[0.6666666666666666,\"#ed7953\"],[0.7777777777777778,\"#fb9f3a\"],[0.8888888888888888,\"#fdca26\"],[1.0,\"#f0f921\"]],\"type\":\"contour\"}],\"heatmapgl\":[{\"colorbar\":{\"outlinewidth\":0,\"ticks\":\"\"},\"colorscale\":[[0.0,\"#0d0887\"],[0.1111111111111111,\"#46039f\"],[0.2222222222222222,\"#7201a8\"],[0.3333333333333333,\"#9c179e\"],[0.4444444444444444,\"#bd3786\"],[0.5555555555555556,\"#d8576b\"],[0.6666666666666666,\"#ed7953\"],[0.7777777777777778,\"#fb9f3a\"],[0.8888888888888888,\"#fdca26\"],[1.0,\"#f0f921\"]],\"type\":\"heatmapgl\"}],\"heatmap\":[{\"colorbar\":{\"outlinewidth\":0,\"ticks\":\"\"},\"colorscale\":[[0.0,\"#0d0887\"],[0.1111111111111111,\"#46039f\"],[0.2222222222222222,\"#7201a8\"],[0.3333333333333333,\"#9c179e\"],[0.4444444444444444,\"#bd3786\"],[0.5555555555555556,\"#d8576b\"],[0.6666666666666666,\"#ed7953\"],[0.7777777777777778,\"#fb9f3a\"],[0.8888888888888888,\"#fdca26\"],[1.0,\"#f0f921\"]],\"type\":\"heatmap\"}],\"histogram2dcontour\":[{\"colorbar\":{\"outlinewidth\":0,\"ticks\":\"\"},\"colorscale\":[[0.0,\"#0d0887\"],[0.1111111111111111,\"#46039f\"],[0.2222222222222222,\"#7201a8\"],[0.3333333333333333,\"#9c179e\"],[0.4444444444444444,\"#bd3786\"],[0.5555555555555556,\"#d8576b\"],[0.6666666666666666,\"#ed7953\"],[0.7777777777777778,\"#fb9f3a\"],[0.8888888888888888,\"#fdca26\"],[1.0,\"#f0f921\"]],\"type\":\"histogram2dcontour\"}],\"histogram2d\":[{\"colorbar\":{\"outlinewidth\":0,\"ticks\":\"\"},\"colorscale\":[[0.0,\"#0d0887\"],[0.1111111111111111,\"#46039f\"],[0.2222222222222222,\"#7201a8\"],[0.3333333333333333,\"#9c179e\"],[0.4444444444444444,\"#bd3786\"],[0.5555555555555556,\"#d8576b\"],[0.6666666666666666,\"#ed7953\"],[0.7777777777777778,\"#fb9f3a\"],[0.8888888888888888,\"#fdca26\"],[1.0,\"#f0f921\"]],\"type\":\"histogram2d\"}],\"histogram\":[{\"marker\":{\"pattern\":{\"fillmode\":\"overlay\",\"size\":10,\"solidity\":0.2}},\"type\":\"histogram\"}],\"mesh3d\":[{\"colorbar\":{\"outlinewidth\":0,\"ticks\":\"\"},\"type\":\"mesh3d\"}],\"parcoords\":[{\"line\":{\"colorbar\":{\"outlinewidth\":0,\"ticks\":\"\"}},\"type\":\"parcoords\"}],\"pie\":[{\"automargin\":true,\"type\":\"pie\"}],\"scatter3d\":[{\"line\":{\"colorbar\":{\"outlinewidth\":0,\"ticks\":\"\"}},\"marker\":{\"colorbar\":{\"outlinewidth\":0,\"ticks\":\"\"}},\"type\":\"scatter3d\"}],\"scattercarpet\":[{\"marker\":{\"colorbar\":{\"outlinewidth\":0,\"ticks\":\"\"}},\"type\":\"scattercarpet\"}],\"scattergeo\":[{\"marker\":{\"colorbar\":{\"outlinewidth\":0,\"ticks\":\"\"}},\"type\":\"scattergeo\"}],\"scattergl\":[{\"marker\":{\"colorbar\":{\"outlinewidth\":0,\"ticks\":\"\"}},\"type\":\"scattergl\"}],\"scattermapbox\":[{\"marker\":{\"colorbar\":{\"outlinewidth\":0,\"ticks\":\"\"}},\"type\":\"scattermapbox\"}],\"scatterpolargl\":[{\"marker\":{\"colorbar\":{\"outlinewidth\":0,\"ticks\":\"\"}},\"type\":\"scatterpolargl\"}],\"scatterpolar\":[{\"marker\":{\"colorbar\":{\"outlinewidth\":0,\"ticks\":\"\"}},\"type\":\"scatterpolar\"}],\"scatter\":[{\"fillpattern\":{\"fillmode\":\"overlay\",\"size\":10,\"solidity\":0.2},\"type\":\"scatter\"}],\"scatterternary\":[{\"marker\":{\"colorbar\":{\"outlinewidth\":0,\"ticks\":\"\"}},\"type\":\"scatterternary\"}],\"surface\":[{\"colorbar\":{\"outlinewidth\":0,\"ticks\":\"\"},\"colorscale\":[[0.0,\"#0d0887\"],[0.1111111111111111,\"#46039f\"],[0.2222222222222222,\"#7201a8\"],[0.3333333333333333,\"#9c179e\"],[0.4444444444444444,\"#bd3786\"],[0.5555555555555556,\"#d8576b\"],[0.6666666666666666,\"#ed7953\"],[0.7777777777777778,\"#fb9f3a\"],[0.8888888888888888,\"#fdca26\"],[1.0,\"#f0f921\"]],\"type\":\"surface\"}],\"table\":[{\"cells\":{\"fill\":{\"color\":\"#EBF0F8\"},\"line\":{\"color\":\"white\"}},\"header\":{\"fill\":{\"color\":\"#C8D4E3\"},\"line\":{\"color\":\"white\"}},\"type\":\"table\"}]},\"layout\":{\"annotationdefaults\":{\"arrowcolor\":\"#2a3f5f\",\"arrowhead\":0,\"arrowwidth\":1},\"autotypenumbers\":\"strict\",\"coloraxis\":{\"colorbar\":{\"outlinewidth\":0,\"ticks\":\"\"}},\"colorscale\":{\"diverging\":[[0,\"#8e0152\"],[0.1,\"#c51b7d\"],[0.2,\"#de77ae\"],[0.3,\"#f1b6da\"],[0.4,\"#fde0ef\"],[0.5,\"#f7f7f7\"],[0.6,\"#e6f5d0\"],[0.7,\"#b8e186\"],[0.8,\"#7fbc41\"],[0.9,\"#4d9221\"],[1,\"#276419\"]],\"sequential\":[[0.0,\"#0d0887\"],[0.1111111111111111,\"#46039f\"],[0.2222222222222222,\"#7201a8\"],[0.3333333333333333,\"#9c179e\"],[0.4444444444444444,\"#bd3786\"],[0.5555555555555556,\"#d8576b\"],[0.6666666666666666,\"#ed7953\"],[0.7777777777777778,\"#fb9f3a\"],[0.8888888888888888,\"#fdca26\"],[1.0,\"#f0f921\"]],\"sequentialminus\":[[0.0,\"#0d0887\"],[0.1111111111111111,\"#46039f\"],[0.2222222222222222,\"#7201a8\"],[0.3333333333333333,\"#9c179e\"],[0.4444444444444444,\"#bd3786\"],[0.5555555555555556,\"#d8576b\"],[0.6666666666666666,\"#ed7953\"],[0.7777777777777778,\"#fb9f3a\"],[0.8888888888888888,\"#fdca26\"],[1.0,\"#f0f921\"]]},\"colorway\":[\"#636efa\",\"#EF553B\",\"#00cc96\",\"#ab63fa\",\"#FFA15A\",\"#19d3f3\",\"#FF6692\",\"#B6E880\",\"#FF97FF\",\"#FECB52\"],\"font\":{\"color\":\"#2a3f5f\"},\"geo\":{\"bgcolor\":\"white\",\"lakecolor\":\"white\",\"landcolor\":\"#E5ECF6\",\"showlakes\":true,\"showland\":true,\"subunitcolor\":\"white\"},\"hoverlabel\":{\"align\":\"left\"},\"hovermode\":\"closest\",\"mapbox\":{\"style\":\"light\"},\"paper_bgcolor\":\"white\",\"plot_bgcolor\":\"#E5ECF6\",\"polar\":{\"angularaxis\":{\"gridcolor\":\"white\",\"linecolor\":\"white\",\"ticks\":\"\"},\"bgcolor\":\"#E5ECF6\",\"radialaxis\":{\"gridcolor\":\"white\",\"linecolor\":\"white\",\"ticks\":\"\"}},\"scene\":{\"xaxis\":{\"backgroundcolor\":\"#E5ECF6\",\"gridcolor\":\"white\",\"gridwidth\":2,\"linecolor\":\"white\",\"showbackground\":true,\"ticks\":\"\",\"zerolinecolor\":\"white\"},\"yaxis\":{\"backgroundcolor\":\"#E5ECF6\",\"gridcolor\":\"white\",\"gridwidth\":2,\"linecolor\":\"white\",\"showbackground\":true,\"ticks\":\"\",\"zerolinecolor\":\"white\"},\"zaxis\":{\"backgroundcolor\":\"#E5ECF6\",\"gridcolor\":\"white\",\"gridwidth\":2,\"linecolor\":\"white\",\"showbackground\":true,\"ticks\":\"\",\"zerolinecolor\":\"white\"}},\"shapedefaults\":{\"line\":{\"color\":\"#2a3f5f\"}},\"ternary\":{\"aaxis\":{\"gridcolor\":\"white\",\"linecolor\":\"white\",\"ticks\":\"\"},\"baxis\":{\"gridcolor\":\"white\",\"linecolor\":\"white\",\"ticks\":\"\"},\"bgcolor\":\"#E5ECF6\",\"caxis\":{\"gridcolor\":\"white\",\"linecolor\":\"white\",\"ticks\":\"\"}},\"title\":{\"x\":0.05},\"xaxis\":{\"automargin\":true,\"gridcolor\":\"white\",\"linecolor\":\"white\",\"ticks\":\"\",\"title\":{\"standoff\":15},\"zerolinecolor\":\"white\",\"zerolinewidth\":2},\"yaxis\":{\"automargin\":true,\"gridcolor\":\"white\",\"linecolor\":\"white\",\"ticks\":\"\",\"title\":{\"standoff\":15},\"zerolinecolor\":\"white\",\"zerolinewidth\":2}}},\"title\":{\"font\":{\"color\":\"#4D5663\"}},\"xaxis\":{\"gridcolor\":\"#E1E5ED\",\"showgrid\":true,\"tickfont\":{\"color\":\"#4D5663\"},\"title\":{\"font\":{\"color\":\"#4D5663\"},\"text\":\"\"},\"zerolinecolor\":\"#E1E5ED\"},\"yaxis\":{\"gridcolor\":\"#E1E5ED\",\"showgrid\":true,\"tickfont\":{\"color\":\"#4D5663\"},\"title\":{\"font\":{\"color\":\"#4D5663\"},\"text\":\"\"},\"zerolinecolor\":\"#E1E5ED\"}},                        {\"showLink\": true, \"linkText\": \"Export to plot.ly\", \"plotlyServerURL\": \"https://plot.ly\", \"responsive\": true}                    ).then(function(){\n",
       "                            \n",
       "var gd = document.getElementById('c17f533b-8e62-49f1-8f36-6d007e06a0c1');\n",
       "var x = new MutationObserver(function (mutations, observer) {{\n",
       "        var display = window.getComputedStyle(gd).display;\n",
       "        if (!display || display === 'none') {{\n",
       "            console.log([gd, 'removed!']);\n",
       "            Plotly.purge(gd);\n",
       "            observer.disconnect();\n",
       "        }}\n",
       "}});\n",
       "\n",
       "// Listen for the removal of the full notebook cells\n",
       "var notebookContainer = gd.closest('#notebook-container');\n",
       "if (notebookContainer) {{\n",
       "    x.observe(notebookContainer, {childList: true});\n",
       "}}\n",
       "\n",
       "// Listen for the clearing of the current output cell\n",
       "var outputEl = gd.closest('.output');\n",
       "if (outputEl) {{\n",
       "    x.observe(outputEl, {childList: true});\n",
       "}}\n",
       "\n",
       "                        })                };                });            </script>        </div>"
      ]
     },
     "metadata": {},
     "output_type": "display_data"
    }
   ],
   "source": [
    "df.iplot(kind='bubble',x='A',y='B',size='C')"
   ]
  },
  {
   "cell_type": "code",
   "execution_count": 14,
   "id": "d12b387a",
   "metadata": {},
   "outputs": [
    {
     "data": {
      "application/vnd.plotly.v1+json": {
       "config": {
        "linkText": "Export to plot.ly",
        "plotlyServerURL": "https://plot.ly",
        "showLink": true
       },
       "data": [
        {
         "histfunc": "count",
         "histnorm": "",
         "marker": {
          "color": "rgba(255, 153, 51, 1.0)",
          "line": {
           "color": "#4D5663",
           "width": 1.3
          }
         },
         "name": "A",
         "nbinsx": 10,
         "opacity": 0.8,
         "orientation": "v",
         "type": "histogram",
         "x": [
          1.0972199573688461,
          -0.8556300900285553,
          0.126238097867567,
          -0.8282204270169976,
          0.8560873352556525,
          0.5619925804799691,
          2.167754242657729,
          0.8685971008748656,
          -1.9289937198025082,
          0.5437032363502787,
          -0.9574925223199207,
          -0.24911605946206627,
          1.5931382742156124,
          1.295876030061057,
          -0.3059339088046586,
          -2.5137835517098113,
          -0.1843257337369107,
          -0.11925588099121849,
          0.040977527180113854,
          0.591519333167522,
          -1.9133114776397937,
          -0.4234397600642683,
          -0.37323357463192774,
          0.39736404172278844,
          -1.0687353713516132,
          -2.1137134499842243,
          0.026616150448040582,
          0.03207548264493021,
          2.2350858795361037,
          0.3865150785553918,
          -0.2765508952638007,
          -0.9742483462536244,
          -0.037418091518889154,
          -0.6957386432796877,
          0.26254940779255026,
          -0.37061011710613984,
          0.1940616159399782,
          -0.4712706922249023,
          -0.7438133035929787,
          -0.8617817265675123,
          1.2274765825622858,
          -2.1162084763156,
          -0.39314272842603903,
          -0.7536802700649506,
          -0.2586012758153935,
          -0.3647937634526296,
          0.28374946056505923,
          -0.7426970053836787,
          0.5138603605588284,
          -1.1221585741415925,
          2.462589511258795,
          0.326754111891552,
          -1.1360152092376024,
          1.1009591239625762,
          0.5331383898979563,
          1.030367103510399,
          -1.5476307035214891,
          -0.14353702750924907,
          0.6153365014212021,
          0.17582305872329348,
          -0.1407595696306908,
          0.9615519820277341,
          -0.18273247455217942,
          -1.2490206473611387,
          -0.6843774351888924,
          -0.9450323644698706,
          -0.41593589370993106,
          1.6402502318965975,
          0.15090798894901028,
          -0.7602056513090112,
          0.16666027169541586,
          -0.6140555628020126,
          0.1224738655616952,
          0.0355516286140335,
          -0.07126787414443411,
          -0.47293961552623126,
          -0.17699554805522952,
          0.46179222308616014,
          0.9014511792772176,
          -1.0619107340564138,
          0.2431893684974666,
          -0.5197779549294853,
          -0.37792729092691474,
          -0.9297917791003169,
          0.7464411364714747,
          1.3135926514013567,
          -0.11786793920996452,
          -0.9006190576593024,
          0.3189182367226934,
          -0.6013694007427746,
          0.6392332214332836,
          -0.41007665963566364,
          -0.44084763227914775,
          0.026668559790025716,
          0.7551911700826331,
          1.2784426404091564,
          1.9525932355403217,
          1.4083554324392453,
          -0.04995379723171119,
          -0.8870695309281038
         ],
         "xaxis": "x",
         "yaxis": "y"
        },
        {
         "line": {
          "color": "rgba(128, 128, 128, 1.0)",
          "dash": "solid",
          "shape": "linear",
          "width": 1.3
         },
         "marker": {
          "size": 2,
          "symbol": "circle"
         },
         "mode": "markers",
         "name": "A",
         "text": "",
         "type": "scatter",
         "x": [
          -1.3637774842815413,
          0.353952675325184,
          0.21353536078393018,
          0.6699142800774748,
          -0.574120137178779,
          0.22137996731266077,
          0.1842868499658055,
          -0.5631842115771228,
          0.026902270886982552,
          1.6135586059124316,
          -0.24141231977133087,
          0.3589101422836867,
          0.5151474823005724,
          -0.8065719473373799,
          2.655984963239379,
          1.7676102880648454,
          0.536666074694593,
          1.7113497148684713,
          1.2103329781689967,
          0.2892831050976094,
          0.5536184590916052,
          -0.9080764903832801,
          1.3117010182803681,
          0.9496623261887203,
          2.1578662968217746,
          -2.2866991271331054,
          0.46502055933437225,
          0.3007190779204101,
          0.21565361054157617,
          0.7297651175587392,
          1.2110715854901988,
          -0.4313639363120854,
          0.3186649273727466,
          0.8610791269604751,
          -0.3520093584334649,
          -0.18440102023666888,
          0.20663158797414072,
          -1.2482030602991123,
          -0.15252849941252594,
          -0.6280150064398252,
          1.6384377692523178,
          -0.9686158825072473,
          1.523254680641849,
          -0.43324496175475813,
          0.17683089883614178,
          1.3437492789374694,
          0.7922225736517898,
          0.37848642017699863,
          1.944114142362021,
          -1.1989544380354518,
          0.9270998914726263,
          0.21227650911028123,
          1.6141779405665395,
          0.7559046937544706,
          1.3126072045227353,
          -0.33678296009720143,
          0.29379536995738714,
          -0.814197978560749,
          0.035366931482711854,
          -1.7283954579795704,
          0.21158915830886985,
          1.0445162035800992,
          -0.8675878384458665,
          -0.39509555817917685,
          0.39641202034336487,
          0.34138447652912884,
          -1.5794190042582488,
          1.6361047889920284,
          0.10099997488030328,
          1.380339719163687,
          -0.1942889589590072,
          0.030121399759899314,
          -0.22129904013345408,
          0.5198780246561374,
          0.718822922695734,
          -1.0378545103964494,
          0.5094549811222295,
          0.9981651911086201,
          -0.3052056534959569,
          -1.0367418993908588,
          0.8114795684472617,
          -1.984381866446984,
          -0.7176887974181332,
          0.2326928856538649,
          -0.06287311871688153,
          0.3424467162006518,
          -0.7303309346947787,
          -0.7732572902361802,
          0.017804708943345644,
          2.2215543781141633,
          -0.4078351257654741,
          -0.029488329916561636,
          0.3382837144894597,
          -1.7290701278444445,
          -1.7183982409460457,
          0.6898709280559027,
          -1.2171663269029787,
          -0.5932799090423962,
          -0.409927639782033,
          1.1406913323954189
         ],
         "xaxis": "x2",
         "y": [
          1.0972199573688461,
          -0.8556300900285553,
          0.126238097867567,
          -0.8282204270169976,
          0.8560873352556525,
          0.5619925804799691,
          2.167754242657729,
          0.8685971008748656,
          -1.9289937198025082,
          0.5437032363502787,
          -0.9574925223199207,
          -0.24911605946206627,
          1.5931382742156124,
          1.295876030061057,
          -0.3059339088046586,
          -2.5137835517098113,
          -0.1843257337369107,
          -0.11925588099121849,
          0.040977527180113854,
          0.591519333167522,
          -1.9133114776397937,
          -0.4234397600642683,
          -0.37323357463192774,
          0.39736404172278844,
          -1.0687353713516132,
          -2.1137134499842243,
          0.026616150448040582,
          0.03207548264493021,
          2.2350858795361037,
          0.3865150785553918,
          -0.2765508952638007,
          -0.9742483462536244,
          -0.037418091518889154,
          -0.6957386432796877,
          0.26254940779255026,
          -0.37061011710613984,
          0.1940616159399782,
          -0.4712706922249023,
          -0.7438133035929787,
          -0.8617817265675123,
          1.2274765825622858,
          -2.1162084763156,
          -0.39314272842603903,
          -0.7536802700649506,
          -0.2586012758153935,
          -0.3647937634526296,
          0.28374946056505923,
          -0.7426970053836787,
          0.5138603605588284,
          -1.1221585741415925,
          2.462589511258795,
          0.326754111891552,
          -1.1360152092376024,
          1.1009591239625762,
          0.5331383898979563,
          1.030367103510399,
          -1.5476307035214891,
          -0.14353702750924907,
          0.6153365014212021,
          0.17582305872329348,
          -0.1407595696306908,
          0.9615519820277341,
          -0.18273247455217942,
          -1.2490206473611387,
          -0.6843774351888924,
          -0.9450323644698706,
          -0.41593589370993106,
          1.6402502318965975,
          0.15090798894901028,
          -0.7602056513090112,
          0.16666027169541586,
          -0.6140555628020126,
          0.1224738655616952,
          0.0355516286140335,
          -0.07126787414443411,
          -0.47293961552623126,
          -0.17699554805522952,
          0.46179222308616014,
          0.9014511792772176,
          -1.0619107340564138,
          0.2431893684974666,
          -0.5197779549294853,
          -0.37792729092691474,
          -0.9297917791003169,
          0.7464411364714747,
          1.3135926514013567,
          -0.11786793920996452,
          -0.9006190576593024,
          0.3189182367226934,
          -0.6013694007427746,
          0.6392332214332836,
          -0.41007665963566364,
          -0.44084763227914775,
          0.026668559790025716,
          0.7551911700826331,
          1.2784426404091564,
          1.9525932355403217,
          1.4083554324392453,
          -0.04995379723171119,
          -0.8870695309281038
         ],
         "yaxis": "y2"
        },
        {
         "line": {
          "color": "rgba(128, 128, 128, 1.0)",
          "dash": "solid",
          "shape": "linear",
          "width": 1.3
         },
         "marker": {
          "size": 2,
          "symbol": "circle"
         },
         "mode": "markers",
         "name": "A",
         "text": "",
         "type": "scatter",
         "x": [
          1.7441444268444621,
          -1.3571809582949532,
          -0.5997803803184673,
          0.5136575022216522,
          -0.2838279646933433,
          0.36791853405653707,
          -0.8301022377992087,
          -1.839793469893,
          -0.7066247079268967,
          0.8801286868007496,
          2.3321073682831206,
          1.2817107032896797,
          -0.3336674844381158,
          0.9640589507222928,
          1.1174560065410974,
          0.13742478008949918,
          0.422611403168731,
          -2.02126224568225,
          0.3725032072100424,
          0.6375837045563109,
          0.48409137155102644,
          -1.3188893337688938,
          1.0351008668977895,
          -0.1078610714437173,
          -1.0714872756406661,
          0.36299985911785887,
          -0.2663598281959314,
          -0.13936621226773235,
          1.5634508491681254,
          0.11722009064520982,
          -0.6311174905821366,
          1.0176053134414236,
          0.1930356053045629,
          -0.6452265018090639,
          1.212576031273781,
          -0.41756275368521373,
          -0.05084938082231021,
          1.3689341937764048,
          0.6937624179644558,
          -1.1079621913633733,
          1.524803992919876,
          0.5498480902392452,
          1.921727117885748,
          0.9737348902866186,
          0.30741346156809546,
          0.2766375646427449,
          -1.6482611307797688,
          -0.3263070889295888,
          1.0878737098420215,
          -0.765017935436571,
          0.09908709624767846,
          1.075132096831975,
          0.32591691894492913,
          -0.9505559412638134,
          0.8518786843713807,
          2.0053245315642743,
          0.0064170006344238095,
          1.3877408380309788,
          -1.159928103058354,
          0.37458153522549786,
          0.14556569596995914,
          -0.9225375411594947,
          0.2732011044440375,
          1.00563474086416,
          -1.8036431451086403,
          -0.6841874227735335,
          0.5306868618779714,
          -2.1828529498193343,
          -0.40306005109868626,
          1.3315620367452865,
          -0.5852132025838219,
          -1.0812359396637476,
          -0.19156909840427944,
          -0.016256672670362064,
          0.41094406123749944,
          0.25312201160334846,
          -0.8628860743124456,
          0.060058552317430486,
          -0.17463669980882854,
          0.563579278564023,
          0.7207705370182675,
          -1.9768846335355195,
          1.0498202378486199,
          -0.07676005165937246,
          0.11622186861272342,
          1.3522798146343886,
          0.3066726347961337,
          -0.016262251887249665,
          2.5582467326198266,
          -0.4100318259422234,
          1.2012186250185024,
          -0.4848897360002726,
          0.0656295218447803,
          0.9754947681988773,
          0.47253300044969765,
          -0.12573270430543682,
          0.15288422279365216,
          -0.05940658101056851,
          -0.7751888302513141,
          1.8816948506046864
         ],
         "xaxis": "x3",
         "y": [
          1.0972199573688461,
          -0.8556300900285553,
          0.126238097867567,
          -0.8282204270169976,
          0.8560873352556525,
          0.5619925804799691,
          2.167754242657729,
          0.8685971008748656,
          -1.9289937198025082,
          0.5437032363502787,
          -0.9574925223199207,
          -0.24911605946206627,
          1.5931382742156124,
          1.295876030061057,
          -0.3059339088046586,
          -2.5137835517098113,
          -0.1843257337369107,
          -0.11925588099121849,
          0.040977527180113854,
          0.591519333167522,
          -1.9133114776397937,
          -0.4234397600642683,
          -0.37323357463192774,
          0.39736404172278844,
          -1.0687353713516132,
          -2.1137134499842243,
          0.026616150448040582,
          0.03207548264493021,
          2.2350858795361037,
          0.3865150785553918,
          -0.2765508952638007,
          -0.9742483462536244,
          -0.037418091518889154,
          -0.6957386432796877,
          0.26254940779255026,
          -0.37061011710613984,
          0.1940616159399782,
          -0.4712706922249023,
          -0.7438133035929787,
          -0.8617817265675123,
          1.2274765825622858,
          -2.1162084763156,
          -0.39314272842603903,
          -0.7536802700649506,
          -0.2586012758153935,
          -0.3647937634526296,
          0.28374946056505923,
          -0.7426970053836787,
          0.5138603605588284,
          -1.1221585741415925,
          2.462589511258795,
          0.326754111891552,
          -1.1360152092376024,
          1.1009591239625762,
          0.5331383898979563,
          1.030367103510399,
          -1.5476307035214891,
          -0.14353702750924907,
          0.6153365014212021,
          0.17582305872329348,
          -0.1407595696306908,
          0.9615519820277341,
          -0.18273247455217942,
          -1.2490206473611387,
          -0.6843774351888924,
          -0.9450323644698706,
          -0.41593589370993106,
          1.6402502318965975,
          0.15090798894901028,
          -0.7602056513090112,
          0.16666027169541586,
          -0.6140555628020126,
          0.1224738655616952,
          0.0355516286140335,
          -0.07126787414443411,
          -0.47293961552623126,
          -0.17699554805522952,
          0.46179222308616014,
          0.9014511792772176,
          -1.0619107340564138,
          0.2431893684974666,
          -0.5197779549294853,
          -0.37792729092691474,
          -0.9297917791003169,
          0.7464411364714747,
          1.3135926514013567,
          -0.11786793920996452,
          -0.9006190576593024,
          0.3189182367226934,
          -0.6013694007427746,
          0.6392332214332836,
          -0.41007665963566364,
          -0.44084763227914775,
          0.026668559790025716,
          0.7551911700826331,
          1.2784426404091564,
          1.9525932355403217,
          1.4083554324392453,
          -0.04995379723171119,
          -0.8870695309281038
         ],
         "yaxis": "y3"
        },
        {
         "line": {
          "color": "rgba(128, 128, 128, 1.0)",
          "dash": "solid",
          "shape": "linear",
          "width": 1.3
         },
         "marker": {
          "size": 2,
          "symbol": "circle"
         },
         "mode": "markers",
         "name": "A",
         "text": "",
         "type": "scatter",
         "x": [
          0.288073644622906,
          -0.6196480294379495,
          0.4352912178986984,
          1.3858483000443054,
          -0.12967783089136828,
          0.25901940507108606,
          -0.15369446045114837,
          0.7022791049065268,
          0.25003367642911445,
          0.6423040484592956,
          -0.06515752085004241,
          -0.2428497626437784,
          3.017296437956513,
          -0.2873600024607329,
          0.7858449713650546,
          -0.2527239645512696,
          -1.0706166628771294,
          1.30301604833422,
          -0.6035874827134198,
          -0.08194565023611032,
          -0.7434120074720523,
          -0.622350129771808,
          0.25224914913165547,
          -0.40271633351280484,
          -0.6401774801595804,
          -1.5488484085800065,
          0.11473011687590177,
          -0.20835998436792869,
          0.03060385876344897,
          -0.6195768008460987,
          1.0367646544705695,
          0.6863266604025321,
          0.27869920937452786,
          0.3139776946948659,
          -0.4275409048884473,
          0.6114339959922276,
          -0.041968596690567184,
          0.29870089152331825,
          -0.7633953281817364,
          0.7174993318718507,
          -1.2831130795055063,
          1.3745239986080247,
          0.13375071683693568,
          0.27039092883369986,
          -1.7047901060150608,
          0.2703024515670794,
          -0.24802671571485174,
          -0.505782056400116,
          0.9042068737244287,
          -0.706912859024362,
          -1.154218503943458,
          0.7209859769209502,
          -0.4994228090441744,
          0.7668114269013349,
          -0.46177981263883,
          -0.030700677042771234,
          -0.3219389644258767,
          -0.9760524729894123,
          0.22272923363405842,
          -0.03821262707650034,
          0.03602664326105428,
          -1.7686308352616142,
          0.3349026690553228,
          1.1045955353888688,
          -1.0694638326577615,
          0.8417559558881049,
          -0.3065524737142244,
          -1.2261442399978455,
          -0.25912865005178964,
          0.8031747205194517,
          1.5230957745817966,
          -0.27939989540503624,
          0.49483465178498076,
          -0.07236550494013297,
          -0.6251070562374017,
          0.4832219323713606,
          1.8981437362531792,
          -0.5312073144789279,
          0.6745558314731132,
          -0.7156297556397487,
          -0.5259849913047434,
          0.12817459979566342,
          0.25976296024330936,
          -0.8887673629176817,
          1.4629420195867027,
          -0.8697290492235933,
          0.7041186624009869,
          2.2787105968099186,
          -0.6719568104744766,
          1.5008672928070275,
          0.8916534726836076,
          0.34273802958541766,
          -0.15562415135930815,
          -0.6550811919299239,
          1.1428124102932224,
          0.03409777252625565,
          2.504284355186978,
          -0.19164274036642848,
          1.899465898860514,
          1.2650752163646082
         ],
         "xaxis": "x4",
         "y": [
          1.0972199573688461,
          -0.8556300900285553,
          0.126238097867567,
          -0.8282204270169976,
          0.8560873352556525,
          0.5619925804799691,
          2.167754242657729,
          0.8685971008748656,
          -1.9289937198025082,
          0.5437032363502787,
          -0.9574925223199207,
          -0.24911605946206627,
          1.5931382742156124,
          1.295876030061057,
          -0.3059339088046586,
          -2.5137835517098113,
          -0.1843257337369107,
          -0.11925588099121849,
          0.040977527180113854,
          0.591519333167522,
          -1.9133114776397937,
          -0.4234397600642683,
          -0.37323357463192774,
          0.39736404172278844,
          -1.0687353713516132,
          -2.1137134499842243,
          0.026616150448040582,
          0.03207548264493021,
          2.2350858795361037,
          0.3865150785553918,
          -0.2765508952638007,
          -0.9742483462536244,
          -0.037418091518889154,
          -0.6957386432796877,
          0.26254940779255026,
          -0.37061011710613984,
          0.1940616159399782,
          -0.4712706922249023,
          -0.7438133035929787,
          -0.8617817265675123,
          1.2274765825622858,
          -2.1162084763156,
          -0.39314272842603903,
          -0.7536802700649506,
          -0.2586012758153935,
          -0.3647937634526296,
          0.28374946056505923,
          -0.7426970053836787,
          0.5138603605588284,
          -1.1221585741415925,
          2.462589511258795,
          0.326754111891552,
          -1.1360152092376024,
          1.1009591239625762,
          0.5331383898979563,
          1.030367103510399,
          -1.5476307035214891,
          -0.14353702750924907,
          0.6153365014212021,
          0.17582305872329348,
          -0.1407595696306908,
          0.9615519820277341,
          -0.18273247455217942,
          -1.2490206473611387,
          -0.6843774351888924,
          -0.9450323644698706,
          -0.41593589370993106,
          1.6402502318965975,
          0.15090798894901028,
          -0.7602056513090112,
          0.16666027169541586,
          -0.6140555628020126,
          0.1224738655616952,
          0.0355516286140335,
          -0.07126787414443411,
          -0.47293961552623126,
          -0.17699554805522952,
          0.46179222308616014,
          0.9014511792772176,
          -1.0619107340564138,
          0.2431893684974666,
          -0.5197779549294853,
          -0.37792729092691474,
          -0.9297917791003169,
          0.7464411364714747,
          1.3135926514013567,
          -0.11786793920996452,
          -0.9006190576593024,
          0.3189182367226934,
          -0.6013694007427746,
          0.6392332214332836,
          -0.41007665963566364,
          -0.44084763227914775,
          0.026668559790025716,
          0.7551911700826331,
          1.2784426404091564,
          1.9525932355403217,
          1.4083554324392453,
          -0.04995379723171119,
          -0.8870695309281038
         ],
         "yaxis": "y4"
        },
        {
         "line": {
          "color": "rgba(128, 128, 128, 1.0)",
          "dash": "solid",
          "shape": "linear",
          "width": 1.3
         },
         "marker": {
          "size": 2,
          "symbol": "circle"
         },
         "mode": "markers",
         "name": "B",
         "text": "",
         "type": "scatter",
         "x": [
          1.0972199573688461,
          -0.8556300900285553,
          0.126238097867567,
          -0.8282204270169976,
          0.8560873352556525,
          0.5619925804799691,
          2.167754242657729,
          0.8685971008748656,
          -1.9289937198025082,
          0.5437032363502787,
          -0.9574925223199207,
          -0.24911605946206627,
          1.5931382742156124,
          1.295876030061057,
          -0.3059339088046586,
          -2.5137835517098113,
          -0.1843257337369107,
          -0.11925588099121849,
          0.040977527180113854,
          0.591519333167522,
          -1.9133114776397937,
          -0.4234397600642683,
          -0.37323357463192774,
          0.39736404172278844,
          -1.0687353713516132,
          -2.1137134499842243,
          0.026616150448040582,
          0.03207548264493021,
          2.2350858795361037,
          0.3865150785553918,
          -0.2765508952638007,
          -0.9742483462536244,
          -0.037418091518889154,
          -0.6957386432796877,
          0.26254940779255026,
          -0.37061011710613984,
          0.1940616159399782,
          -0.4712706922249023,
          -0.7438133035929787,
          -0.8617817265675123,
          1.2274765825622858,
          -2.1162084763156,
          -0.39314272842603903,
          -0.7536802700649506,
          -0.2586012758153935,
          -0.3647937634526296,
          0.28374946056505923,
          -0.7426970053836787,
          0.5138603605588284,
          -1.1221585741415925,
          2.462589511258795,
          0.326754111891552,
          -1.1360152092376024,
          1.1009591239625762,
          0.5331383898979563,
          1.030367103510399,
          -1.5476307035214891,
          -0.14353702750924907,
          0.6153365014212021,
          0.17582305872329348,
          -0.1407595696306908,
          0.9615519820277341,
          -0.18273247455217942,
          -1.2490206473611387,
          -0.6843774351888924,
          -0.9450323644698706,
          -0.41593589370993106,
          1.6402502318965975,
          0.15090798894901028,
          -0.7602056513090112,
          0.16666027169541586,
          -0.6140555628020126,
          0.1224738655616952,
          0.0355516286140335,
          -0.07126787414443411,
          -0.47293961552623126,
          -0.17699554805522952,
          0.46179222308616014,
          0.9014511792772176,
          -1.0619107340564138,
          0.2431893684974666,
          -0.5197779549294853,
          -0.37792729092691474,
          -0.9297917791003169,
          0.7464411364714747,
          1.3135926514013567,
          -0.11786793920996452,
          -0.9006190576593024,
          0.3189182367226934,
          -0.6013694007427746,
          0.6392332214332836,
          -0.41007665963566364,
          -0.44084763227914775,
          0.026668559790025716,
          0.7551911700826331,
          1.2784426404091564,
          1.9525932355403217,
          1.4083554324392453,
          -0.04995379723171119,
          -0.8870695309281038
         ],
         "xaxis": "x5",
         "y": [
          -1.3637774842815413,
          0.353952675325184,
          0.21353536078393018,
          0.6699142800774748,
          -0.574120137178779,
          0.22137996731266077,
          0.1842868499658055,
          -0.5631842115771228,
          0.026902270886982552,
          1.6135586059124316,
          -0.24141231977133087,
          0.3589101422836867,
          0.5151474823005724,
          -0.8065719473373799,
          2.655984963239379,
          1.7676102880648454,
          0.536666074694593,
          1.7113497148684713,
          1.2103329781689967,
          0.2892831050976094,
          0.5536184590916052,
          -0.9080764903832801,
          1.3117010182803681,
          0.9496623261887203,
          2.1578662968217746,
          -2.2866991271331054,
          0.46502055933437225,
          0.3007190779204101,
          0.21565361054157617,
          0.7297651175587392,
          1.2110715854901988,
          -0.4313639363120854,
          0.3186649273727466,
          0.8610791269604751,
          -0.3520093584334649,
          -0.18440102023666888,
          0.20663158797414072,
          -1.2482030602991123,
          -0.15252849941252594,
          -0.6280150064398252,
          1.6384377692523178,
          -0.9686158825072473,
          1.523254680641849,
          -0.43324496175475813,
          0.17683089883614178,
          1.3437492789374694,
          0.7922225736517898,
          0.37848642017699863,
          1.944114142362021,
          -1.1989544380354518,
          0.9270998914726263,
          0.21227650911028123,
          1.6141779405665395,
          0.7559046937544706,
          1.3126072045227353,
          -0.33678296009720143,
          0.29379536995738714,
          -0.814197978560749,
          0.035366931482711854,
          -1.7283954579795704,
          0.21158915830886985,
          1.0445162035800992,
          -0.8675878384458665,
          -0.39509555817917685,
          0.39641202034336487,
          0.34138447652912884,
          -1.5794190042582488,
          1.6361047889920284,
          0.10099997488030328,
          1.380339719163687,
          -0.1942889589590072,
          0.030121399759899314,
          -0.22129904013345408,
          0.5198780246561374,
          0.718822922695734,
          -1.0378545103964494,
          0.5094549811222295,
          0.9981651911086201,
          -0.3052056534959569,
          -1.0367418993908588,
          0.8114795684472617,
          -1.984381866446984,
          -0.7176887974181332,
          0.2326928856538649,
          -0.06287311871688153,
          0.3424467162006518,
          -0.7303309346947787,
          -0.7732572902361802,
          0.017804708943345644,
          2.2215543781141633,
          -0.4078351257654741,
          -0.029488329916561636,
          0.3382837144894597,
          -1.7290701278444445,
          -1.7183982409460457,
          0.6898709280559027,
          -1.2171663269029787,
          -0.5932799090423962,
          -0.409927639782033,
          1.1406913323954189
         ],
         "yaxis": "y5"
        },
        {
         "histfunc": "count",
         "histnorm": "",
         "marker": {
          "color": "rgba(55, 128, 191, 1.0)",
          "line": {
           "color": "#4D5663",
           "width": 1.3
          }
         },
         "name": "B",
         "nbinsx": 10,
         "opacity": 0.8,
         "orientation": "v",
         "type": "histogram",
         "x": [
          -1.3637774842815413,
          0.353952675325184,
          0.21353536078393018,
          0.6699142800774748,
          -0.574120137178779,
          0.22137996731266077,
          0.1842868499658055,
          -0.5631842115771228,
          0.026902270886982552,
          1.6135586059124316,
          -0.24141231977133087,
          0.3589101422836867,
          0.5151474823005724,
          -0.8065719473373799,
          2.655984963239379,
          1.7676102880648454,
          0.536666074694593,
          1.7113497148684713,
          1.2103329781689967,
          0.2892831050976094,
          0.5536184590916052,
          -0.9080764903832801,
          1.3117010182803681,
          0.9496623261887203,
          2.1578662968217746,
          -2.2866991271331054,
          0.46502055933437225,
          0.3007190779204101,
          0.21565361054157617,
          0.7297651175587392,
          1.2110715854901988,
          -0.4313639363120854,
          0.3186649273727466,
          0.8610791269604751,
          -0.3520093584334649,
          -0.18440102023666888,
          0.20663158797414072,
          -1.2482030602991123,
          -0.15252849941252594,
          -0.6280150064398252,
          1.6384377692523178,
          -0.9686158825072473,
          1.523254680641849,
          -0.43324496175475813,
          0.17683089883614178,
          1.3437492789374694,
          0.7922225736517898,
          0.37848642017699863,
          1.944114142362021,
          -1.1989544380354518,
          0.9270998914726263,
          0.21227650911028123,
          1.6141779405665395,
          0.7559046937544706,
          1.3126072045227353,
          -0.33678296009720143,
          0.29379536995738714,
          -0.814197978560749,
          0.035366931482711854,
          -1.7283954579795704,
          0.21158915830886985,
          1.0445162035800992,
          -0.8675878384458665,
          -0.39509555817917685,
          0.39641202034336487,
          0.34138447652912884,
          -1.5794190042582488,
          1.6361047889920284,
          0.10099997488030328,
          1.380339719163687,
          -0.1942889589590072,
          0.030121399759899314,
          -0.22129904013345408,
          0.5198780246561374,
          0.718822922695734,
          -1.0378545103964494,
          0.5094549811222295,
          0.9981651911086201,
          -0.3052056534959569,
          -1.0367418993908588,
          0.8114795684472617,
          -1.984381866446984,
          -0.7176887974181332,
          0.2326928856538649,
          -0.06287311871688153,
          0.3424467162006518,
          -0.7303309346947787,
          -0.7732572902361802,
          0.017804708943345644,
          2.2215543781141633,
          -0.4078351257654741,
          -0.029488329916561636,
          0.3382837144894597,
          -1.7290701278444445,
          -1.7183982409460457,
          0.6898709280559027,
          -1.2171663269029787,
          -0.5932799090423962,
          -0.409927639782033,
          1.1406913323954189
         ],
         "xaxis": "x6",
         "yaxis": "y6"
        },
        {
         "line": {
          "color": "rgba(128, 128, 128, 1.0)",
          "dash": "solid",
          "shape": "linear",
          "width": 1.3
         },
         "marker": {
          "size": 2,
          "symbol": "circle"
         },
         "mode": "markers",
         "name": "B",
         "text": "",
         "type": "scatter",
         "x": [
          1.7441444268444621,
          -1.3571809582949532,
          -0.5997803803184673,
          0.5136575022216522,
          -0.2838279646933433,
          0.36791853405653707,
          -0.8301022377992087,
          -1.839793469893,
          -0.7066247079268967,
          0.8801286868007496,
          2.3321073682831206,
          1.2817107032896797,
          -0.3336674844381158,
          0.9640589507222928,
          1.1174560065410974,
          0.13742478008949918,
          0.422611403168731,
          -2.02126224568225,
          0.3725032072100424,
          0.6375837045563109,
          0.48409137155102644,
          -1.3188893337688938,
          1.0351008668977895,
          -0.1078610714437173,
          -1.0714872756406661,
          0.36299985911785887,
          -0.2663598281959314,
          -0.13936621226773235,
          1.5634508491681254,
          0.11722009064520982,
          -0.6311174905821366,
          1.0176053134414236,
          0.1930356053045629,
          -0.6452265018090639,
          1.212576031273781,
          -0.41756275368521373,
          -0.05084938082231021,
          1.3689341937764048,
          0.6937624179644558,
          -1.1079621913633733,
          1.524803992919876,
          0.5498480902392452,
          1.921727117885748,
          0.9737348902866186,
          0.30741346156809546,
          0.2766375646427449,
          -1.6482611307797688,
          -0.3263070889295888,
          1.0878737098420215,
          -0.765017935436571,
          0.09908709624767846,
          1.075132096831975,
          0.32591691894492913,
          -0.9505559412638134,
          0.8518786843713807,
          2.0053245315642743,
          0.0064170006344238095,
          1.3877408380309788,
          -1.159928103058354,
          0.37458153522549786,
          0.14556569596995914,
          -0.9225375411594947,
          0.2732011044440375,
          1.00563474086416,
          -1.8036431451086403,
          -0.6841874227735335,
          0.5306868618779714,
          -2.1828529498193343,
          -0.40306005109868626,
          1.3315620367452865,
          -0.5852132025838219,
          -1.0812359396637476,
          -0.19156909840427944,
          -0.016256672670362064,
          0.41094406123749944,
          0.25312201160334846,
          -0.8628860743124456,
          0.060058552317430486,
          -0.17463669980882854,
          0.563579278564023,
          0.7207705370182675,
          -1.9768846335355195,
          1.0498202378486199,
          -0.07676005165937246,
          0.11622186861272342,
          1.3522798146343886,
          0.3066726347961337,
          -0.016262251887249665,
          2.5582467326198266,
          -0.4100318259422234,
          1.2012186250185024,
          -0.4848897360002726,
          0.0656295218447803,
          0.9754947681988773,
          0.47253300044969765,
          -0.12573270430543682,
          0.15288422279365216,
          -0.05940658101056851,
          -0.7751888302513141,
          1.8816948506046864
         ],
         "xaxis": "x7",
         "y": [
          -1.3637774842815413,
          0.353952675325184,
          0.21353536078393018,
          0.6699142800774748,
          -0.574120137178779,
          0.22137996731266077,
          0.1842868499658055,
          -0.5631842115771228,
          0.026902270886982552,
          1.6135586059124316,
          -0.24141231977133087,
          0.3589101422836867,
          0.5151474823005724,
          -0.8065719473373799,
          2.655984963239379,
          1.7676102880648454,
          0.536666074694593,
          1.7113497148684713,
          1.2103329781689967,
          0.2892831050976094,
          0.5536184590916052,
          -0.9080764903832801,
          1.3117010182803681,
          0.9496623261887203,
          2.1578662968217746,
          -2.2866991271331054,
          0.46502055933437225,
          0.3007190779204101,
          0.21565361054157617,
          0.7297651175587392,
          1.2110715854901988,
          -0.4313639363120854,
          0.3186649273727466,
          0.8610791269604751,
          -0.3520093584334649,
          -0.18440102023666888,
          0.20663158797414072,
          -1.2482030602991123,
          -0.15252849941252594,
          -0.6280150064398252,
          1.6384377692523178,
          -0.9686158825072473,
          1.523254680641849,
          -0.43324496175475813,
          0.17683089883614178,
          1.3437492789374694,
          0.7922225736517898,
          0.37848642017699863,
          1.944114142362021,
          -1.1989544380354518,
          0.9270998914726263,
          0.21227650911028123,
          1.6141779405665395,
          0.7559046937544706,
          1.3126072045227353,
          -0.33678296009720143,
          0.29379536995738714,
          -0.814197978560749,
          0.035366931482711854,
          -1.7283954579795704,
          0.21158915830886985,
          1.0445162035800992,
          -0.8675878384458665,
          -0.39509555817917685,
          0.39641202034336487,
          0.34138447652912884,
          -1.5794190042582488,
          1.6361047889920284,
          0.10099997488030328,
          1.380339719163687,
          -0.1942889589590072,
          0.030121399759899314,
          -0.22129904013345408,
          0.5198780246561374,
          0.718822922695734,
          -1.0378545103964494,
          0.5094549811222295,
          0.9981651911086201,
          -0.3052056534959569,
          -1.0367418993908588,
          0.8114795684472617,
          -1.984381866446984,
          -0.7176887974181332,
          0.2326928856538649,
          -0.06287311871688153,
          0.3424467162006518,
          -0.7303309346947787,
          -0.7732572902361802,
          0.017804708943345644,
          2.2215543781141633,
          -0.4078351257654741,
          -0.029488329916561636,
          0.3382837144894597,
          -1.7290701278444445,
          -1.7183982409460457,
          0.6898709280559027,
          -1.2171663269029787,
          -0.5932799090423962,
          -0.409927639782033,
          1.1406913323954189
         ],
         "yaxis": "y7"
        },
        {
         "line": {
          "color": "rgba(128, 128, 128, 1.0)",
          "dash": "solid",
          "shape": "linear",
          "width": 1.3
         },
         "marker": {
          "size": 2,
          "symbol": "circle"
         },
         "mode": "markers",
         "name": "B",
         "text": "",
         "type": "scatter",
         "x": [
          0.288073644622906,
          -0.6196480294379495,
          0.4352912178986984,
          1.3858483000443054,
          -0.12967783089136828,
          0.25901940507108606,
          -0.15369446045114837,
          0.7022791049065268,
          0.25003367642911445,
          0.6423040484592956,
          -0.06515752085004241,
          -0.2428497626437784,
          3.017296437956513,
          -0.2873600024607329,
          0.7858449713650546,
          -0.2527239645512696,
          -1.0706166628771294,
          1.30301604833422,
          -0.6035874827134198,
          -0.08194565023611032,
          -0.7434120074720523,
          -0.622350129771808,
          0.25224914913165547,
          -0.40271633351280484,
          -0.6401774801595804,
          -1.5488484085800065,
          0.11473011687590177,
          -0.20835998436792869,
          0.03060385876344897,
          -0.6195768008460987,
          1.0367646544705695,
          0.6863266604025321,
          0.27869920937452786,
          0.3139776946948659,
          -0.4275409048884473,
          0.6114339959922276,
          -0.041968596690567184,
          0.29870089152331825,
          -0.7633953281817364,
          0.7174993318718507,
          -1.2831130795055063,
          1.3745239986080247,
          0.13375071683693568,
          0.27039092883369986,
          -1.7047901060150608,
          0.2703024515670794,
          -0.24802671571485174,
          -0.505782056400116,
          0.9042068737244287,
          -0.706912859024362,
          -1.154218503943458,
          0.7209859769209502,
          -0.4994228090441744,
          0.7668114269013349,
          -0.46177981263883,
          -0.030700677042771234,
          -0.3219389644258767,
          -0.9760524729894123,
          0.22272923363405842,
          -0.03821262707650034,
          0.03602664326105428,
          -1.7686308352616142,
          0.3349026690553228,
          1.1045955353888688,
          -1.0694638326577615,
          0.8417559558881049,
          -0.3065524737142244,
          -1.2261442399978455,
          -0.25912865005178964,
          0.8031747205194517,
          1.5230957745817966,
          -0.27939989540503624,
          0.49483465178498076,
          -0.07236550494013297,
          -0.6251070562374017,
          0.4832219323713606,
          1.8981437362531792,
          -0.5312073144789279,
          0.6745558314731132,
          -0.7156297556397487,
          -0.5259849913047434,
          0.12817459979566342,
          0.25976296024330936,
          -0.8887673629176817,
          1.4629420195867027,
          -0.8697290492235933,
          0.7041186624009869,
          2.2787105968099186,
          -0.6719568104744766,
          1.5008672928070275,
          0.8916534726836076,
          0.34273802958541766,
          -0.15562415135930815,
          -0.6550811919299239,
          1.1428124102932224,
          0.03409777252625565,
          2.504284355186978,
          -0.19164274036642848,
          1.899465898860514,
          1.2650752163646082
         ],
         "xaxis": "x8",
         "y": [
          -1.3637774842815413,
          0.353952675325184,
          0.21353536078393018,
          0.6699142800774748,
          -0.574120137178779,
          0.22137996731266077,
          0.1842868499658055,
          -0.5631842115771228,
          0.026902270886982552,
          1.6135586059124316,
          -0.24141231977133087,
          0.3589101422836867,
          0.5151474823005724,
          -0.8065719473373799,
          2.655984963239379,
          1.7676102880648454,
          0.536666074694593,
          1.7113497148684713,
          1.2103329781689967,
          0.2892831050976094,
          0.5536184590916052,
          -0.9080764903832801,
          1.3117010182803681,
          0.9496623261887203,
          2.1578662968217746,
          -2.2866991271331054,
          0.46502055933437225,
          0.3007190779204101,
          0.21565361054157617,
          0.7297651175587392,
          1.2110715854901988,
          -0.4313639363120854,
          0.3186649273727466,
          0.8610791269604751,
          -0.3520093584334649,
          -0.18440102023666888,
          0.20663158797414072,
          -1.2482030602991123,
          -0.15252849941252594,
          -0.6280150064398252,
          1.6384377692523178,
          -0.9686158825072473,
          1.523254680641849,
          -0.43324496175475813,
          0.17683089883614178,
          1.3437492789374694,
          0.7922225736517898,
          0.37848642017699863,
          1.944114142362021,
          -1.1989544380354518,
          0.9270998914726263,
          0.21227650911028123,
          1.6141779405665395,
          0.7559046937544706,
          1.3126072045227353,
          -0.33678296009720143,
          0.29379536995738714,
          -0.814197978560749,
          0.035366931482711854,
          -1.7283954579795704,
          0.21158915830886985,
          1.0445162035800992,
          -0.8675878384458665,
          -0.39509555817917685,
          0.39641202034336487,
          0.34138447652912884,
          -1.5794190042582488,
          1.6361047889920284,
          0.10099997488030328,
          1.380339719163687,
          -0.1942889589590072,
          0.030121399759899314,
          -0.22129904013345408,
          0.5198780246561374,
          0.718822922695734,
          -1.0378545103964494,
          0.5094549811222295,
          0.9981651911086201,
          -0.3052056534959569,
          -1.0367418993908588,
          0.8114795684472617,
          -1.984381866446984,
          -0.7176887974181332,
          0.2326928856538649,
          -0.06287311871688153,
          0.3424467162006518,
          -0.7303309346947787,
          -0.7732572902361802,
          0.017804708943345644,
          2.2215543781141633,
          -0.4078351257654741,
          -0.029488329916561636,
          0.3382837144894597,
          -1.7290701278444445,
          -1.7183982409460457,
          0.6898709280559027,
          -1.2171663269029787,
          -0.5932799090423962,
          -0.409927639782033,
          1.1406913323954189
         ],
         "yaxis": "y8"
        },
        {
         "line": {
          "color": "rgba(128, 128, 128, 1.0)",
          "dash": "solid",
          "shape": "linear",
          "width": 1.3
         },
         "marker": {
          "size": 2,
          "symbol": "circle"
         },
         "mode": "markers",
         "name": "C",
         "text": "",
         "type": "scatter",
         "x": [
          1.0972199573688461,
          -0.8556300900285553,
          0.126238097867567,
          -0.8282204270169976,
          0.8560873352556525,
          0.5619925804799691,
          2.167754242657729,
          0.8685971008748656,
          -1.9289937198025082,
          0.5437032363502787,
          -0.9574925223199207,
          -0.24911605946206627,
          1.5931382742156124,
          1.295876030061057,
          -0.3059339088046586,
          -2.5137835517098113,
          -0.1843257337369107,
          -0.11925588099121849,
          0.040977527180113854,
          0.591519333167522,
          -1.9133114776397937,
          -0.4234397600642683,
          -0.37323357463192774,
          0.39736404172278844,
          -1.0687353713516132,
          -2.1137134499842243,
          0.026616150448040582,
          0.03207548264493021,
          2.2350858795361037,
          0.3865150785553918,
          -0.2765508952638007,
          -0.9742483462536244,
          -0.037418091518889154,
          -0.6957386432796877,
          0.26254940779255026,
          -0.37061011710613984,
          0.1940616159399782,
          -0.4712706922249023,
          -0.7438133035929787,
          -0.8617817265675123,
          1.2274765825622858,
          -2.1162084763156,
          -0.39314272842603903,
          -0.7536802700649506,
          -0.2586012758153935,
          -0.3647937634526296,
          0.28374946056505923,
          -0.7426970053836787,
          0.5138603605588284,
          -1.1221585741415925,
          2.462589511258795,
          0.326754111891552,
          -1.1360152092376024,
          1.1009591239625762,
          0.5331383898979563,
          1.030367103510399,
          -1.5476307035214891,
          -0.14353702750924907,
          0.6153365014212021,
          0.17582305872329348,
          -0.1407595696306908,
          0.9615519820277341,
          -0.18273247455217942,
          -1.2490206473611387,
          -0.6843774351888924,
          -0.9450323644698706,
          -0.41593589370993106,
          1.6402502318965975,
          0.15090798894901028,
          -0.7602056513090112,
          0.16666027169541586,
          -0.6140555628020126,
          0.1224738655616952,
          0.0355516286140335,
          -0.07126787414443411,
          -0.47293961552623126,
          -0.17699554805522952,
          0.46179222308616014,
          0.9014511792772176,
          -1.0619107340564138,
          0.2431893684974666,
          -0.5197779549294853,
          -0.37792729092691474,
          -0.9297917791003169,
          0.7464411364714747,
          1.3135926514013567,
          -0.11786793920996452,
          -0.9006190576593024,
          0.3189182367226934,
          -0.6013694007427746,
          0.6392332214332836,
          -0.41007665963566364,
          -0.44084763227914775,
          0.026668559790025716,
          0.7551911700826331,
          1.2784426404091564,
          1.9525932355403217,
          1.4083554324392453,
          -0.04995379723171119,
          -0.8870695309281038
         ],
         "xaxis": "x9",
         "y": [
          1.7441444268444621,
          -1.3571809582949532,
          -0.5997803803184673,
          0.5136575022216522,
          -0.2838279646933433,
          0.36791853405653707,
          -0.8301022377992087,
          -1.839793469893,
          -0.7066247079268967,
          0.8801286868007496,
          2.3321073682831206,
          1.2817107032896797,
          -0.3336674844381158,
          0.9640589507222928,
          1.1174560065410974,
          0.13742478008949918,
          0.422611403168731,
          -2.02126224568225,
          0.3725032072100424,
          0.6375837045563109,
          0.48409137155102644,
          -1.3188893337688938,
          1.0351008668977895,
          -0.1078610714437173,
          -1.0714872756406661,
          0.36299985911785887,
          -0.2663598281959314,
          -0.13936621226773235,
          1.5634508491681254,
          0.11722009064520982,
          -0.6311174905821366,
          1.0176053134414236,
          0.1930356053045629,
          -0.6452265018090639,
          1.212576031273781,
          -0.41756275368521373,
          -0.05084938082231021,
          1.3689341937764048,
          0.6937624179644558,
          -1.1079621913633733,
          1.524803992919876,
          0.5498480902392452,
          1.921727117885748,
          0.9737348902866186,
          0.30741346156809546,
          0.2766375646427449,
          -1.6482611307797688,
          -0.3263070889295888,
          1.0878737098420215,
          -0.765017935436571,
          0.09908709624767846,
          1.075132096831975,
          0.32591691894492913,
          -0.9505559412638134,
          0.8518786843713807,
          2.0053245315642743,
          0.0064170006344238095,
          1.3877408380309788,
          -1.159928103058354,
          0.37458153522549786,
          0.14556569596995914,
          -0.9225375411594947,
          0.2732011044440375,
          1.00563474086416,
          -1.8036431451086403,
          -0.6841874227735335,
          0.5306868618779714,
          -2.1828529498193343,
          -0.40306005109868626,
          1.3315620367452865,
          -0.5852132025838219,
          -1.0812359396637476,
          -0.19156909840427944,
          -0.016256672670362064,
          0.41094406123749944,
          0.25312201160334846,
          -0.8628860743124456,
          0.060058552317430486,
          -0.17463669980882854,
          0.563579278564023,
          0.7207705370182675,
          -1.9768846335355195,
          1.0498202378486199,
          -0.07676005165937246,
          0.11622186861272342,
          1.3522798146343886,
          0.3066726347961337,
          -0.016262251887249665,
          2.5582467326198266,
          -0.4100318259422234,
          1.2012186250185024,
          -0.4848897360002726,
          0.0656295218447803,
          0.9754947681988773,
          0.47253300044969765,
          -0.12573270430543682,
          0.15288422279365216,
          -0.05940658101056851,
          -0.7751888302513141,
          1.8816948506046864
         ],
         "yaxis": "y9"
        },
        {
         "line": {
          "color": "rgba(128, 128, 128, 1.0)",
          "dash": "solid",
          "shape": "linear",
          "width": 1.3
         },
         "marker": {
          "size": 2,
          "symbol": "circle"
         },
         "mode": "markers",
         "name": "C",
         "text": "",
         "type": "scatter",
         "x": [
          -1.3637774842815413,
          0.353952675325184,
          0.21353536078393018,
          0.6699142800774748,
          -0.574120137178779,
          0.22137996731266077,
          0.1842868499658055,
          -0.5631842115771228,
          0.026902270886982552,
          1.6135586059124316,
          -0.24141231977133087,
          0.3589101422836867,
          0.5151474823005724,
          -0.8065719473373799,
          2.655984963239379,
          1.7676102880648454,
          0.536666074694593,
          1.7113497148684713,
          1.2103329781689967,
          0.2892831050976094,
          0.5536184590916052,
          -0.9080764903832801,
          1.3117010182803681,
          0.9496623261887203,
          2.1578662968217746,
          -2.2866991271331054,
          0.46502055933437225,
          0.3007190779204101,
          0.21565361054157617,
          0.7297651175587392,
          1.2110715854901988,
          -0.4313639363120854,
          0.3186649273727466,
          0.8610791269604751,
          -0.3520093584334649,
          -0.18440102023666888,
          0.20663158797414072,
          -1.2482030602991123,
          -0.15252849941252594,
          -0.6280150064398252,
          1.6384377692523178,
          -0.9686158825072473,
          1.523254680641849,
          -0.43324496175475813,
          0.17683089883614178,
          1.3437492789374694,
          0.7922225736517898,
          0.37848642017699863,
          1.944114142362021,
          -1.1989544380354518,
          0.9270998914726263,
          0.21227650911028123,
          1.6141779405665395,
          0.7559046937544706,
          1.3126072045227353,
          -0.33678296009720143,
          0.29379536995738714,
          -0.814197978560749,
          0.035366931482711854,
          -1.7283954579795704,
          0.21158915830886985,
          1.0445162035800992,
          -0.8675878384458665,
          -0.39509555817917685,
          0.39641202034336487,
          0.34138447652912884,
          -1.5794190042582488,
          1.6361047889920284,
          0.10099997488030328,
          1.380339719163687,
          -0.1942889589590072,
          0.030121399759899314,
          -0.22129904013345408,
          0.5198780246561374,
          0.718822922695734,
          -1.0378545103964494,
          0.5094549811222295,
          0.9981651911086201,
          -0.3052056534959569,
          -1.0367418993908588,
          0.8114795684472617,
          -1.984381866446984,
          -0.7176887974181332,
          0.2326928856538649,
          -0.06287311871688153,
          0.3424467162006518,
          -0.7303309346947787,
          -0.7732572902361802,
          0.017804708943345644,
          2.2215543781141633,
          -0.4078351257654741,
          -0.029488329916561636,
          0.3382837144894597,
          -1.7290701278444445,
          -1.7183982409460457,
          0.6898709280559027,
          -1.2171663269029787,
          -0.5932799090423962,
          -0.409927639782033,
          1.1406913323954189
         ],
         "xaxis": "x10",
         "y": [
          1.7441444268444621,
          -1.3571809582949532,
          -0.5997803803184673,
          0.5136575022216522,
          -0.2838279646933433,
          0.36791853405653707,
          -0.8301022377992087,
          -1.839793469893,
          -0.7066247079268967,
          0.8801286868007496,
          2.3321073682831206,
          1.2817107032896797,
          -0.3336674844381158,
          0.9640589507222928,
          1.1174560065410974,
          0.13742478008949918,
          0.422611403168731,
          -2.02126224568225,
          0.3725032072100424,
          0.6375837045563109,
          0.48409137155102644,
          -1.3188893337688938,
          1.0351008668977895,
          -0.1078610714437173,
          -1.0714872756406661,
          0.36299985911785887,
          -0.2663598281959314,
          -0.13936621226773235,
          1.5634508491681254,
          0.11722009064520982,
          -0.6311174905821366,
          1.0176053134414236,
          0.1930356053045629,
          -0.6452265018090639,
          1.212576031273781,
          -0.41756275368521373,
          -0.05084938082231021,
          1.3689341937764048,
          0.6937624179644558,
          -1.1079621913633733,
          1.524803992919876,
          0.5498480902392452,
          1.921727117885748,
          0.9737348902866186,
          0.30741346156809546,
          0.2766375646427449,
          -1.6482611307797688,
          -0.3263070889295888,
          1.0878737098420215,
          -0.765017935436571,
          0.09908709624767846,
          1.075132096831975,
          0.32591691894492913,
          -0.9505559412638134,
          0.8518786843713807,
          2.0053245315642743,
          0.0064170006344238095,
          1.3877408380309788,
          -1.159928103058354,
          0.37458153522549786,
          0.14556569596995914,
          -0.9225375411594947,
          0.2732011044440375,
          1.00563474086416,
          -1.8036431451086403,
          -0.6841874227735335,
          0.5306868618779714,
          -2.1828529498193343,
          -0.40306005109868626,
          1.3315620367452865,
          -0.5852132025838219,
          -1.0812359396637476,
          -0.19156909840427944,
          -0.016256672670362064,
          0.41094406123749944,
          0.25312201160334846,
          -0.8628860743124456,
          0.060058552317430486,
          -0.17463669980882854,
          0.563579278564023,
          0.7207705370182675,
          -1.9768846335355195,
          1.0498202378486199,
          -0.07676005165937246,
          0.11622186861272342,
          1.3522798146343886,
          0.3066726347961337,
          -0.016262251887249665,
          2.5582467326198266,
          -0.4100318259422234,
          1.2012186250185024,
          -0.4848897360002726,
          0.0656295218447803,
          0.9754947681988773,
          0.47253300044969765,
          -0.12573270430543682,
          0.15288422279365216,
          -0.05940658101056851,
          -0.7751888302513141,
          1.8816948506046864
         ],
         "yaxis": "y10"
        },
        {
         "histfunc": "count",
         "histnorm": "",
         "marker": {
          "color": "rgba(50, 171, 96, 1.0)",
          "line": {
           "color": "#4D5663",
           "width": 1.3
          }
         },
         "name": "C",
         "nbinsx": 10,
         "opacity": 0.8,
         "orientation": "v",
         "type": "histogram",
         "x": [
          1.7441444268444621,
          -1.3571809582949532,
          -0.5997803803184673,
          0.5136575022216522,
          -0.2838279646933433,
          0.36791853405653707,
          -0.8301022377992087,
          -1.839793469893,
          -0.7066247079268967,
          0.8801286868007496,
          2.3321073682831206,
          1.2817107032896797,
          -0.3336674844381158,
          0.9640589507222928,
          1.1174560065410974,
          0.13742478008949918,
          0.422611403168731,
          -2.02126224568225,
          0.3725032072100424,
          0.6375837045563109,
          0.48409137155102644,
          -1.3188893337688938,
          1.0351008668977895,
          -0.1078610714437173,
          -1.0714872756406661,
          0.36299985911785887,
          -0.2663598281959314,
          -0.13936621226773235,
          1.5634508491681254,
          0.11722009064520982,
          -0.6311174905821366,
          1.0176053134414236,
          0.1930356053045629,
          -0.6452265018090639,
          1.212576031273781,
          -0.41756275368521373,
          -0.05084938082231021,
          1.3689341937764048,
          0.6937624179644558,
          -1.1079621913633733,
          1.524803992919876,
          0.5498480902392452,
          1.921727117885748,
          0.9737348902866186,
          0.30741346156809546,
          0.2766375646427449,
          -1.6482611307797688,
          -0.3263070889295888,
          1.0878737098420215,
          -0.765017935436571,
          0.09908709624767846,
          1.075132096831975,
          0.32591691894492913,
          -0.9505559412638134,
          0.8518786843713807,
          2.0053245315642743,
          0.0064170006344238095,
          1.3877408380309788,
          -1.159928103058354,
          0.37458153522549786,
          0.14556569596995914,
          -0.9225375411594947,
          0.2732011044440375,
          1.00563474086416,
          -1.8036431451086403,
          -0.6841874227735335,
          0.5306868618779714,
          -2.1828529498193343,
          -0.40306005109868626,
          1.3315620367452865,
          -0.5852132025838219,
          -1.0812359396637476,
          -0.19156909840427944,
          -0.016256672670362064,
          0.41094406123749944,
          0.25312201160334846,
          -0.8628860743124456,
          0.060058552317430486,
          -0.17463669980882854,
          0.563579278564023,
          0.7207705370182675,
          -1.9768846335355195,
          1.0498202378486199,
          -0.07676005165937246,
          0.11622186861272342,
          1.3522798146343886,
          0.3066726347961337,
          -0.016262251887249665,
          2.5582467326198266,
          -0.4100318259422234,
          1.2012186250185024,
          -0.4848897360002726,
          0.0656295218447803,
          0.9754947681988773,
          0.47253300044969765,
          -0.12573270430543682,
          0.15288422279365216,
          -0.05940658101056851,
          -0.7751888302513141,
          1.8816948506046864
         ],
         "xaxis": "x11",
         "yaxis": "y11"
        },
        {
         "line": {
          "color": "rgba(128, 128, 128, 1.0)",
          "dash": "solid",
          "shape": "linear",
          "width": 1.3
         },
         "marker": {
          "size": 2,
          "symbol": "circle"
         },
         "mode": "markers",
         "name": "C",
         "text": "",
         "type": "scatter",
         "x": [
          0.288073644622906,
          -0.6196480294379495,
          0.4352912178986984,
          1.3858483000443054,
          -0.12967783089136828,
          0.25901940507108606,
          -0.15369446045114837,
          0.7022791049065268,
          0.25003367642911445,
          0.6423040484592956,
          -0.06515752085004241,
          -0.2428497626437784,
          3.017296437956513,
          -0.2873600024607329,
          0.7858449713650546,
          -0.2527239645512696,
          -1.0706166628771294,
          1.30301604833422,
          -0.6035874827134198,
          -0.08194565023611032,
          -0.7434120074720523,
          -0.622350129771808,
          0.25224914913165547,
          -0.40271633351280484,
          -0.6401774801595804,
          -1.5488484085800065,
          0.11473011687590177,
          -0.20835998436792869,
          0.03060385876344897,
          -0.6195768008460987,
          1.0367646544705695,
          0.6863266604025321,
          0.27869920937452786,
          0.3139776946948659,
          -0.4275409048884473,
          0.6114339959922276,
          -0.041968596690567184,
          0.29870089152331825,
          -0.7633953281817364,
          0.7174993318718507,
          -1.2831130795055063,
          1.3745239986080247,
          0.13375071683693568,
          0.27039092883369986,
          -1.7047901060150608,
          0.2703024515670794,
          -0.24802671571485174,
          -0.505782056400116,
          0.9042068737244287,
          -0.706912859024362,
          -1.154218503943458,
          0.7209859769209502,
          -0.4994228090441744,
          0.7668114269013349,
          -0.46177981263883,
          -0.030700677042771234,
          -0.3219389644258767,
          -0.9760524729894123,
          0.22272923363405842,
          -0.03821262707650034,
          0.03602664326105428,
          -1.7686308352616142,
          0.3349026690553228,
          1.1045955353888688,
          -1.0694638326577615,
          0.8417559558881049,
          -0.3065524737142244,
          -1.2261442399978455,
          -0.25912865005178964,
          0.8031747205194517,
          1.5230957745817966,
          -0.27939989540503624,
          0.49483465178498076,
          -0.07236550494013297,
          -0.6251070562374017,
          0.4832219323713606,
          1.8981437362531792,
          -0.5312073144789279,
          0.6745558314731132,
          -0.7156297556397487,
          -0.5259849913047434,
          0.12817459979566342,
          0.25976296024330936,
          -0.8887673629176817,
          1.4629420195867027,
          -0.8697290492235933,
          0.7041186624009869,
          2.2787105968099186,
          -0.6719568104744766,
          1.5008672928070275,
          0.8916534726836076,
          0.34273802958541766,
          -0.15562415135930815,
          -0.6550811919299239,
          1.1428124102932224,
          0.03409777252625565,
          2.504284355186978,
          -0.19164274036642848,
          1.899465898860514,
          1.2650752163646082
         ],
         "xaxis": "x12",
         "y": [
          1.7441444268444621,
          -1.3571809582949532,
          -0.5997803803184673,
          0.5136575022216522,
          -0.2838279646933433,
          0.36791853405653707,
          -0.8301022377992087,
          -1.839793469893,
          -0.7066247079268967,
          0.8801286868007496,
          2.3321073682831206,
          1.2817107032896797,
          -0.3336674844381158,
          0.9640589507222928,
          1.1174560065410974,
          0.13742478008949918,
          0.422611403168731,
          -2.02126224568225,
          0.3725032072100424,
          0.6375837045563109,
          0.48409137155102644,
          -1.3188893337688938,
          1.0351008668977895,
          -0.1078610714437173,
          -1.0714872756406661,
          0.36299985911785887,
          -0.2663598281959314,
          -0.13936621226773235,
          1.5634508491681254,
          0.11722009064520982,
          -0.6311174905821366,
          1.0176053134414236,
          0.1930356053045629,
          -0.6452265018090639,
          1.212576031273781,
          -0.41756275368521373,
          -0.05084938082231021,
          1.3689341937764048,
          0.6937624179644558,
          -1.1079621913633733,
          1.524803992919876,
          0.5498480902392452,
          1.921727117885748,
          0.9737348902866186,
          0.30741346156809546,
          0.2766375646427449,
          -1.6482611307797688,
          -0.3263070889295888,
          1.0878737098420215,
          -0.765017935436571,
          0.09908709624767846,
          1.075132096831975,
          0.32591691894492913,
          -0.9505559412638134,
          0.8518786843713807,
          2.0053245315642743,
          0.0064170006344238095,
          1.3877408380309788,
          -1.159928103058354,
          0.37458153522549786,
          0.14556569596995914,
          -0.9225375411594947,
          0.2732011044440375,
          1.00563474086416,
          -1.8036431451086403,
          -0.6841874227735335,
          0.5306868618779714,
          -2.1828529498193343,
          -0.40306005109868626,
          1.3315620367452865,
          -0.5852132025838219,
          -1.0812359396637476,
          -0.19156909840427944,
          -0.016256672670362064,
          0.41094406123749944,
          0.25312201160334846,
          -0.8628860743124456,
          0.060058552317430486,
          -0.17463669980882854,
          0.563579278564023,
          0.7207705370182675,
          -1.9768846335355195,
          1.0498202378486199,
          -0.07676005165937246,
          0.11622186861272342,
          1.3522798146343886,
          0.3066726347961337,
          -0.016262251887249665,
          2.5582467326198266,
          -0.4100318259422234,
          1.2012186250185024,
          -0.4848897360002726,
          0.0656295218447803,
          0.9754947681988773,
          0.47253300044969765,
          -0.12573270430543682,
          0.15288422279365216,
          -0.05940658101056851,
          -0.7751888302513141,
          1.8816948506046864
         ],
         "yaxis": "y12"
        },
        {
         "line": {
          "color": "rgba(128, 128, 128, 1.0)",
          "dash": "solid",
          "shape": "linear",
          "width": 1.3
         },
         "marker": {
          "size": 2,
          "symbol": "circle"
         },
         "mode": "markers",
         "name": "D",
         "text": "",
         "type": "scatter",
         "x": [
          1.0972199573688461,
          -0.8556300900285553,
          0.126238097867567,
          -0.8282204270169976,
          0.8560873352556525,
          0.5619925804799691,
          2.167754242657729,
          0.8685971008748656,
          -1.9289937198025082,
          0.5437032363502787,
          -0.9574925223199207,
          -0.24911605946206627,
          1.5931382742156124,
          1.295876030061057,
          -0.3059339088046586,
          -2.5137835517098113,
          -0.1843257337369107,
          -0.11925588099121849,
          0.040977527180113854,
          0.591519333167522,
          -1.9133114776397937,
          -0.4234397600642683,
          -0.37323357463192774,
          0.39736404172278844,
          -1.0687353713516132,
          -2.1137134499842243,
          0.026616150448040582,
          0.03207548264493021,
          2.2350858795361037,
          0.3865150785553918,
          -0.2765508952638007,
          -0.9742483462536244,
          -0.037418091518889154,
          -0.6957386432796877,
          0.26254940779255026,
          -0.37061011710613984,
          0.1940616159399782,
          -0.4712706922249023,
          -0.7438133035929787,
          -0.8617817265675123,
          1.2274765825622858,
          -2.1162084763156,
          -0.39314272842603903,
          -0.7536802700649506,
          -0.2586012758153935,
          -0.3647937634526296,
          0.28374946056505923,
          -0.7426970053836787,
          0.5138603605588284,
          -1.1221585741415925,
          2.462589511258795,
          0.326754111891552,
          -1.1360152092376024,
          1.1009591239625762,
          0.5331383898979563,
          1.030367103510399,
          -1.5476307035214891,
          -0.14353702750924907,
          0.6153365014212021,
          0.17582305872329348,
          -0.1407595696306908,
          0.9615519820277341,
          -0.18273247455217942,
          -1.2490206473611387,
          -0.6843774351888924,
          -0.9450323644698706,
          -0.41593589370993106,
          1.6402502318965975,
          0.15090798894901028,
          -0.7602056513090112,
          0.16666027169541586,
          -0.6140555628020126,
          0.1224738655616952,
          0.0355516286140335,
          -0.07126787414443411,
          -0.47293961552623126,
          -0.17699554805522952,
          0.46179222308616014,
          0.9014511792772176,
          -1.0619107340564138,
          0.2431893684974666,
          -0.5197779549294853,
          -0.37792729092691474,
          -0.9297917791003169,
          0.7464411364714747,
          1.3135926514013567,
          -0.11786793920996452,
          -0.9006190576593024,
          0.3189182367226934,
          -0.6013694007427746,
          0.6392332214332836,
          -0.41007665963566364,
          -0.44084763227914775,
          0.026668559790025716,
          0.7551911700826331,
          1.2784426404091564,
          1.9525932355403217,
          1.4083554324392453,
          -0.04995379723171119,
          -0.8870695309281038
         ],
         "xaxis": "x13",
         "y": [
          0.288073644622906,
          -0.6196480294379495,
          0.4352912178986984,
          1.3858483000443054,
          -0.12967783089136828,
          0.25901940507108606,
          -0.15369446045114837,
          0.7022791049065268,
          0.25003367642911445,
          0.6423040484592956,
          -0.06515752085004241,
          -0.2428497626437784,
          3.017296437956513,
          -0.2873600024607329,
          0.7858449713650546,
          -0.2527239645512696,
          -1.0706166628771294,
          1.30301604833422,
          -0.6035874827134198,
          -0.08194565023611032,
          -0.7434120074720523,
          -0.622350129771808,
          0.25224914913165547,
          -0.40271633351280484,
          -0.6401774801595804,
          -1.5488484085800065,
          0.11473011687590177,
          -0.20835998436792869,
          0.03060385876344897,
          -0.6195768008460987,
          1.0367646544705695,
          0.6863266604025321,
          0.27869920937452786,
          0.3139776946948659,
          -0.4275409048884473,
          0.6114339959922276,
          -0.041968596690567184,
          0.29870089152331825,
          -0.7633953281817364,
          0.7174993318718507,
          -1.2831130795055063,
          1.3745239986080247,
          0.13375071683693568,
          0.27039092883369986,
          -1.7047901060150608,
          0.2703024515670794,
          -0.24802671571485174,
          -0.505782056400116,
          0.9042068737244287,
          -0.706912859024362,
          -1.154218503943458,
          0.7209859769209502,
          -0.4994228090441744,
          0.7668114269013349,
          -0.46177981263883,
          -0.030700677042771234,
          -0.3219389644258767,
          -0.9760524729894123,
          0.22272923363405842,
          -0.03821262707650034,
          0.03602664326105428,
          -1.7686308352616142,
          0.3349026690553228,
          1.1045955353888688,
          -1.0694638326577615,
          0.8417559558881049,
          -0.3065524737142244,
          -1.2261442399978455,
          -0.25912865005178964,
          0.8031747205194517,
          1.5230957745817966,
          -0.27939989540503624,
          0.49483465178498076,
          -0.07236550494013297,
          -0.6251070562374017,
          0.4832219323713606,
          1.8981437362531792,
          -0.5312073144789279,
          0.6745558314731132,
          -0.7156297556397487,
          -0.5259849913047434,
          0.12817459979566342,
          0.25976296024330936,
          -0.8887673629176817,
          1.4629420195867027,
          -0.8697290492235933,
          0.7041186624009869,
          2.2787105968099186,
          -0.6719568104744766,
          1.5008672928070275,
          0.8916534726836076,
          0.34273802958541766,
          -0.15562415135930815,
          -0.6550811919299239,
          1.1428124102932224,
          0.03409777252625565,
          2.504284355186978,
          -0.19164274036642848,
          1.899465898860514,
          1.2650752163646082
         ],
         "yaxis": "y13"
        },
        {
         "line": {
          "color": "rgba(128, 128, 128, 1.0)",
          "dash": "solid",
          "shape": "linear",
          "width": 1.3
         },
         "marker": {
          "size": 2,
          "symbol": "circle"
         },
         "mode": "markers",
         "name": "D",
         "text": "",
         "type": "scatter",
         "x": [
          -1.3637774842815413,
          0.353952675325184,
          0.21353536078393018,
          0.6699142800774748,
          -0.574120137178779,
          0.22137996731266077,
          0.1842868499658055,
          -0.5631842115771228,
          0.026902270886982552,
          1.6135586059124316,
          -0.24141231977133087,
          0.3589101422836867,
          0.5151474823005724,
          -0.8065719473373799,
          2.655984963239379,
          1.7676102880648454,
          0.536666074694593,
          1.7113497148684713,
          1.2103329781689967,
          0.2892831050976094,
          0.5536184590916052,
          -0.9080764903832801,
          1.3117010182803681,
          0.9496623261887203,
          2.1578662968217746,
          -2.2866991271331054,
          0.46502055933437225,
          0.3007190779204101,
          0.21565361054157617,
          0.7297651175587392,
          1.2110715854901988,
          -0.4313639363120854,
          0.3186649273727466,
          0.8610791269604751,
          -0.3520093584334649,
          -0.18440102023666888,
          0.20663158797414072,
          -1.2482030602991123,
          -0.15252849941252594,
          -0.6280150064398252,
          1.6384377692523178,
          -0.9686158825072473,
          1.523254680641849,
          -0.43324496175475813,
          0.17683089883614178,
          1.3437492789374694,
          0.7922225736517898,
          0.37848642017699863,
          1.944114142362021,
          -1.1989544380354518,
          0.9270998914726263,
          0.21227650911028123,
          1.6141779405665395,
          0.7559046937544706,
          1.3126072045227353,
          -0.33678296009720143,
          0.29379536995738714,
          -0.814197978560749,
          0.035366931482711854,
          -1.7283954579795704,
          0.21158915830886985,
          1.0445162035800992,
          -0.8675878384458665,
          -0.39509555817917685,
          0.39641202034336487,
          0.34138447652912884,
          -1.5794190042582488,
          1.6361047889920284,
          0.10099997488030328,
          1.380339719163687,
          -0.1942889589590072,
          0.030121399759899314,
          -0.22129904013345408,
          0.5198780246561374,
          0.718822922695734,
          -1.0378545103964494,
          0.5094549811222295,
          0.9981651911086201,
          -0.3052056534959569,
          -1.0367418993908588,
          0.8114795684472617,
          -1.984381866446984,
          -0.7176887974181332,
          0.2326928856538649,
          -0.06287311871688153,
          0.3424467162006518,
          -0.7303309346947787,
          -0.7732572902361802,
          0.017804708943345644,
          2.2215543781141633,
          -0.4078351257654741,
          -0.029488329916561636,
          0.3382837144894597,
          -1.7290701278444445,
          -1.7183982409460457,
          0.6898709280559027,
          -1.2171663269029787,
          -0.5932799090423962,
          -0.409927639782033,
          1.1406913323954189
         ],
         "xaxis": "x14",
         "y": [
          0.288073644622906,
          -0.6196480294379495,
          0.4352912178986984,
          1.3858483000443054,
          -0.12967783089136828,
          0.25901940507108606,
          -0.15369446045114837,
          0.7022791049065268,
          0.25003367642911445,
          0.6423040484592956,
          -0.06515752085004241,
          -0.2428497626437784,
          3.017296437956513,
          -0.2873600024607329,
          0.7858449713650546,
          -0.2527239645512696,
          -1.0706166628771294,
          1.30301604833422,
          -0.6035874827134198,
          -0.08194565023611032,
          -0.7434120074720523,
          -0.622350129771808,
          0.25224914913165547,
          -0.40271633351280484,
          -0.6401774801595804,
          -1.5488484085800065,
          0.11473011687590177,
          -0.20835998436792869,
          0.03060385876344897,
          -0.6195768008460987,
          1.0367646544705695,
          0.6863266604025321,
          0.27869920937452786,
          0.3139776946948659,
          -0.4275409048884473,
          0.6114339959922276,
          -0.041968596690567184,
          0.29870089152331825,
          -0.7633953281817364,
          0.7174993318718507,
          -1.2831130795055063,
          1.3745239986080247,
          0.13375071683693568,
          0.27039092883369986,
          -1.7047901060150608,
          0.2703024515670794,
          -0.24802671571485174,
          -0.505782056400116,
          0.9042068737244287,
          -0.706912859024362,
          -1.154218503943458,
          0.7209859769209502,
          -0.4994228090441744,
          0.7668114269013349,
          -0.46177981263883,
          -0.030700677042771234,
          -0.3219389644258767,
          -0.9760524729894123,
          0.22272923363405842,
          -0.03821262707650034,
          0.03602664326105428,
          -1.7686308352616142,
          0.3349026690553228,
          1.1045955353888688,
          -1.0694638326577615,
          0.8417559558881049,
          -0.3065524737142244,
          -1.2261442399978455,
          -0.25912865005178964,
          0.8031747205194517,
          1.5230957745817966,
          -0.27939989540503624,
          0.49483465178498076,
          -0.07236550494013297,
          -0.6251070562374017,
          0.4832219323713606,
          1.8981437362531792,
          -0.5312073144789279,
          0.6745558314731132,
          -0.7156297556397487,
          -0.5259849913047434,
          0.12817459979566342,
          0.25976296024330936,
          -0.8887673629176817,
          1.4629420195867027,
          -0.8697290492235933,
          0.7041186624009869,
          2.2787105968099186,
          -0.6719568104744766,
          1.5008672928070275,
          0.8916534726836076,
          0.34273802958541766,
          -0.15562415135930815,
          -0.6550811919299239,
          1.1428124102932224,
          0.03409777252625565,
          2.504284355186978,
          -0.19164274036642848,
          1.899465898860514,
          1.2650752163646082
         ],
         "yaxis": "y14"
        },
        {
         "line": {
          "color": "rgba(128, 128, 128, 1.0)",
          "dash": "solid",
          "shape": "linear",
          "width": 1.3
         },
         "marker": {
          "size": 2,
          "symbol": "circle"
         },
         "mode": "markers",
         "name": "D",
         "text": "",
         "type": "scatter",
         "x": [
          1.7441444268444621,
          -1.3571809582949532,
          -0.5997803803184673,
          0.5136575022216522,
          -0.2838279646933433,
          0.36791853405653707,
          -0.8301022377992087,
          -1.839793469893,
          -0.7066247079268967,
          0.8801286868007496,
          2.3321073682831206,
          1.2817107032896797,
          -0.3336674844381158,
          0.9640589507222928,
          1.1174560065410974,
          0.13742478008949918,
          0.422611403168731,
          -2.02126224568225,
          0.3725032072100424,
          0.6375837045563109,
          0.48409137155102644,
          -1.3188893337688938,
          1.0351008668977895,
          -0.1078610714437173,
          -1.0714872756406661,
          0.36299985911785887,
          -0.2663598281959314,
          -0.13936621226773235,
          1.5634508491681254,
          0.11722009064520982,
          -0.6311174905821366,
          1.0176053134414236,
          0.1930356053045629,
          -0.6452265018090639,
          1.212576031273781,
          -0.41756275368521373,
          -0.05084938082231021,
          1.3689341937764048,
          0.6937624179644558,
          -1.1079621913633733,
          1.524803992919876,
          0.5498480902392452,
          1.921727117885748,
          0.9737348902866186,
          0.30741346156809546,
          0.2766375646427449,
          -1.6482611307797688,
          -0.3263070889295888,
          1.0878737098420215,
          -0.765017935436571,
          0.09908709624767846,
          1.075132096831975,
          0.32591691894492913,
          -0.9505559412638134,
          0.8518786843713807,
          2.0053245315642743,
          0.0064170006344238095,
          1.3877408380309788,
          -1.159928103058354,
          0.37458153522549786,
          0.14556569596995914,
          -0.9225375411594947,
          0.2732011044440375,
          1.00563474086416,
          -1.8036431451086403,
          -0.6841874227735335,
          0.5306868618779714,
          -2.1828529498193343,
          -0.40306005109868626,
          1.3315620367452865,
          -0.5852132025838219,
          -1.0812359396637476,
          -0.19156909840427944,
          -0.016256672670362064,
          0.41094406123749944,
          0.25312201160334846,
          -0.8628860743124456,
          0.060058552317430486,
          -0.17463669980882854,
          0.563579278564023,
          0.7207705370182675,
          -1.9768846335355195,
          1.0498202378486199,
          -0.07676005165937246,
          0.11622186861272342,
          1.3522798146343886,
          0.3066726347961337,
          -0.016262251887249665,
          2.5582467326198266,
          -0.4100318259422234,
          1.2012186250185024,
          -0.4848897360002726,
          0.0656295218447803,
          0.9754947681988773,
          0.47253300044969765,
          -0.12573270430543682,
          0.15288422279365216,
          -0.05940658101056851,
          -0.7751888302513141,
          1.8816948506046864
         ],
         "xaxis": "x15",
         "y": [
          0.288073644622906,
          -0.6196480294379495,
          0.4352912178986984,
          1.3858483000443054,
          -0.12967783089136828,
          0.25901940507108606,
          -0.15369446045114837,
          0.7022791049065268,
          0.25003367642911445,
          0.6423040484592956,
          -0.06515752085004241,
          -0.2428497626437784,
          3.017296437956513,
          -0.2873600024607329,
          0.7858449713650546,
          -0.2527239645512696,
          -1.0706166628771294,
          1.30301604833422,
          -0.6035874827134198,
          -0.08194565023611032,
          -0.7434120074720523,
          -0.622350129771808,
          0.25224914913165547,
          -0.40271633351280484,
          -0.6401774801595804,
          -1.5488484085800065,
          0.11473011687590177,
          -0.20835998436792869,
          0.03060385876344897,
          -0.6195768008460987,
          1.0367646544705695,
          0.6863266604025321,
          0.27869920937452786,
          0.3139776946948659,
          -0.4275409048884473,
          0.6114339959922276,
          -0.041968596690567184,
          0.29870089152331825,
          -0.7633953281817364,
          0.7174993318718507,
          -1.2831130795055063,
          1.3745239986080247,
          0.13375071683693568,
          0.27039092883369986,
          -1.7047901060150608,
          0.2703024515670794,
          -0.24802671571485174,
          -0.505782056400116,
          0.9042068737244287,
          -0.706912859024362,
          -1.154218503943458,
          0.7209859769209502,
          -0.4994228090441744,
          0.7668114269013349,
          -0.46177981263883,
          -0.030700677042771234,
          -0.3219389644258767,
          -0.9760524729894123,
          0.22272923363405842,
          -0.03821262707650034,
          0.03602664326105428,
          -1.7686308352616142,
          0.3349026690553228,
          1.1045955353888688,
          -1.0694638326577615,
          0.8417559558881049,
          -0.3065524737142244,
          -1.2261442399978455,
          -0.25912865005178964,
          0.8031747205194517,
          1.5230957745817966,
          -0.27939989540503624,
          0.49483465178498076,
          -0.07236550494013297,
          -0.6251070562374017,
          0.4832219323713606,
          1.8981437362531792,
          -0.5312073144789279,
          0.6745558314731132,
          -0.7156297556397487,
          -0.5259849913047434,
          0.12817459979566342,
          0.25976296024330936,
          -0.8887673629176817,
          1.4629420195867027,
          -0.8697290492235933,
          0.7041186624009869,
          2.2787105968099186,
          -0.6719568104744766,
          1.5008672928070275,
          0.8916534726836076,
          0.34273802958541766,
          -0.15562415135930815,
          -0.6550811919299239,
          1.1428124102932224,
          0.03409777252625565,
          2.504284355186978,
          -0.19164274036642848,
          1.899465898860514,
          1.2650752163646082
         ],
         "yaxis": "y15"
        },
        {
         "histfunc": "count",
         "histnorm": "",
         "marker": {
          "color": "rgba(128, 0, 128, 1.0)",
          "line": {
           "color": "#4D5663",
           "width": 1.3
          }
         },
         "name": "D",
         "nbinsx": 10,
         "opacity": 0.8,
         "orientation": "v",
         "type": "histogram",
         "x": [
          0.288073644622906,
          -0.6196480294379495,
          0.4352912178986984,
          1.3858483000443054,
          -0.12967783089136828,
          0.25901940507108606,
          -0.15369446045114837,
          0.7022791049065268,
          0.25003367642911445,
          0.6423040484592956,
          -0.06515752085004241,
          -0.2428497626437784,
          3.017296437956513,
          -0.2873600024607329,
          0.7858449713650546,
          -0.2527239645512696,
          -1.0706166628771294,
          1.30301604833422,
          -0.6035874827134198,
          -0.08194565023611032,
          -0.7434120074720523,
          -0.622350129771808,
          0.25224914913165547,
          -0.40271633351280484,
          -0.6401774801595804,
          -1.5488484085800065,
          0.11473011687590177,
          -0.20835998436792869,
          0.03060385876344897,
          -0.6195768008460987,
          1.0367646544705695,
          0.6863266604025321,
          0.27869920937452786,
          0.3139776946948659,
          -0.4275409048884473,
          0.6114339959922276,
          -0.041968596690567184,
          0.29870089152331825,
          -0.7633953281817364,
          0.7174993318718507,
          -1.2831130795055063,
          1.3745239986080247,
          0.13375071683693568,
          0.27039092883369986,
          -1.7047901060150608,
          0.2703024515670794,
          -0.24802671571485174,
          -0.505782056400116,
          0.9042068737244287,
          -0.706912859024362,
          -1.154218503943458,
          0.7209859769209502,
          -0.4994228090441744,
          0.7668114269013349,
          -0.46177981263883,
          -0.030700677042771234,
          -0.3219389644258767,
          -0.9760524729894123,
          0.22272923363405842,
          -0.03821262707650034,
          0.03602664326105428,
          -1.7686308352616142,
          0.3349026690553228,
          1.1045955353888688,
          -1.0694638326577615,
          0.8417559558881049,
          -0.3065524737142244,
          -1.2261442399978455,
          -0.25912865005178964,
          0.8031747205194517,
          1.5230957745817966,
          -0.27939989540503624,
          0.49483465178498076,
          -0.07236550494013297,
          -0.6251070562374017,
          0.4832219323713606,
          1.8981437362531792,
          -0.5312073144789279,
          0.6745558314731132,
          -0.7156297556397487,
          -0.5259849913047434,
          0.12817459979566342,
          0.25976296024330936,
          -0.8887673629176817,
          1.4629420195867027,
          -0.8697290492235933,
          0.7041186624009869,
          2.2787105968099186,
          -0.6719568104744766,
          1.5008672928070275,
          0.8916534726836076,
          0.34273802958541766,
          -0.15562415135930815,
          -0.6550811919299239,
          1.1428124102932224,
          0.03409777252625565,
          2.504284355186978,
          -0.19164274036642848,
          1.899465898860514,
          1.2650752163646082
         ],
         "xaxis": "x16",
         "yaxis": "y16"
        }
       ],
       "layout": {
        "bargap": 0.02,
        "legend": {
         "bgcolor": "#F5F6F9",
         "font": {
          "color": "#4D5663"
         }
        },
        "paper_bgcolor": "#F5F6F9",
        "plot_bgcolor": "#F5F6F9",
        "showlegend": false,
        "template": {
         "data": {
          "bar": [
           {
            "error_x": {
             "color": "#2a3f5f"
            },
            "error_y": {
             "color": "#2a3f5f"
            },
            "marker": {
             "line": {
              "color": "#E5ECF6",
              "width": 0.5
             },
             "pattern": {
              "fillmode": "overlay",
              "size": 10,
              "solidity": 0.2
             }
            },
            "type": "bar"
           }
          ],
          "barpolar": [
           {
            "marker": {
             "line": {
              "color": "#E5ECF6",
              "width": 0.5
             },
             "pattern": {
              "fillmode": "overlay",
              "size": 10,
              "solidity": 0.2
             }
            },
            "type": "barpolar"
           }
          ],
          "carpet": [
           {
            "aaxis": {
             "endlinecolor": "#2a3f5f",
             "gridcolor": "white",
             "linecolor": "white",
             "minorgridcolor": "white",
             "startlinecolor": "#2a3f5f"
            },
            "baxis": {
             "endlinecolor": "#2a3f5f",
             "gridcolor": "white",
             "linecolor": "white",
             "minorgridcolor": "white",
             "startlinecolor": "#2a3f5f"
            },
            "type": "carpet"
           }
          ],
          "choropleth": [
           {
            "colorbar": {
             "outlinewidth": 0,
             "ticks": ""
            },
            "type": "choropleth"
           }
          ],
          "contour": [
           {
            "colorbar": {
             "outlinewidth": 0,
             "ticks": ""
            },
            "colorscale": [
             [
              0,
              "#0d0887"
             ],
             [
              0.1111111111111111,
              "#46039f"
             ],
             [
              0.2222222222222222,
              "#7201a8"
             ],
             [
              0.3333333333333333,
              "#9c179e"
             ],
             [
              0.4444444444444444,
              "#bd3786"
             ],
             [
              0.5555555555555556,
              "#d8576b"
             ],
             [
              0.6666666666666666,
              "#ed7953"
             ],
             [
              0.7777777777777778,
              "#fb9f3a"
             ],
             [
              0.8888888888888888,
              "#fdca26"
             ],
             [
              1,
              "#f0f921"
             ]
            ],
            "type": "contour"
           }
          ],
          "contourcarpet": [
           {
            "colorbar": {
             "outlinewidth": 0,
             "ticks": ""
            },
            "type": "contourcarpet"
           }
          ],
          "heatmap": [
           {
            "colorbar": {
             "outlinewidth": 0,
             "ticks": ""
            },
            "colorscale": [
             [
              0,
              "#0d0887"
             ],
             [
              0.1111111111111111,
              "#46039f"
             ],
             [
              0.2222222222222222,
              "#7201a8"
             ],
             [
              0.3333333333333333,
              "#9c179e"
             ],
             [
              0.4444444444444444,
              "#bd3786"
             ],
             [
              0.5555555555555556,
              "#d8576b"
             ],
             [
              0.6666666666666666,
              "#ed7953"
             ],
             [
              0.7777777777777778,
              "#fb9f3a"
             ],
             [
              0.8888888888888888,
              "#fdca26"
             ],
             [
              1,
              "#f0f921"
             ]
            ],
            "type": "heatmap"
           }
          ],
          "heatmapgl": [
           {
            "colorbar": {
             "outlinewidth": 0,
             "ticks": ""
            },
            "colorscale": [
             [
              0,
              "#0d0887"
             ],
             [
              0.1111111111111111,
              "#46039f"
             ],
             [
              0.2222222222222222,
              "#7201a8"
             ],
             [
              0.3333333333333333,
              "#9c179e"
             ],
             [
              0.4444444444444444,
              "#bd3786"
             ],
             [
              0.5555555555555556,
              "#d8576b"
             ],
             [
              0.6666666666666666,
              "#ed7953"
             ],
             [
              0.7777777777777778,
              "#fb9f3a"
             ],
             [
              0.8888888888888888,
              "#fdca26"
             ],
             [
              1,
              "#f0f921"
             ]
            ],
            "type": "heatmapgl"
           }
          ],
          "histogram": [
           {
            "marker": {
             "pattern": {
              "fillmode": "overlay",
              "size": 10,
              "solidity": 0.2
             }
            },
            "type": "histogram"
           }
          ],
          "histogram2d": [
           {
            "colorbar": {
             "outlinewidth": 0,
             "ticks": ""
            },
            "colorscale": [
             [
              0,
              "#0d0887"
             ],
             [
              0.1111111111111111,
              "#46039f"
             ],
             [
              0.2222222222222222,
              "#7201a8"
             ],
             [
              0.3333333333333333,
              "#9c179e"
             ],
             [
              0.4444444444444444,
              "#bd3786"
             ],
             [
              0.5555555555555556,
              "#d8576b"
             ],
             [
              0.6666666666666666,
              "#ed7953"
             ],
             [
              0.7777777777777778,
              "#fb9f3a"
             ],
             [
              0.8888888888888888,
              "#fdca26"
             ],
             [
              1,
              "#f0f921"
             ]
            ],
            "type": "histogram2d"
           }
          ],
          "histogram2dcontour": [
           {
            "colorbar": {
             "outlinewidth": 0,
             "ticks": ""
            },
            "colorscale": [
             [
              0,
              "#0d0887"
             ],
             [
              0.1111111111111111,
              "#46039f"
             ],
             [
              0.2222222222222222,
              "#7201a8"
             ],
             [
              0.3333333333333333,
              "#9c179e"
             ],
             [
              0.4444444444444444,
              "#bd3786"
             ],
             [
              0.5555555555555556,
              "#d8576b"
             ],
             [
              0.6666666666666666,
              "#ed7953"
             ],
             [
              0.7777777777777778,
              "#fb9f3a"
             ],
             [
              0.8888888888888888,
              "#fdca26"
             ],
             [
              1,
              "#f0f921"
             ]
            ],
            "type": "histogram2dcontour"
           }
          ],
          "mesh3d": [
           {
            "colorbar": {
             "outlinewidth": 0,
             "ticks": ""
            },
            "type": "mesh3d"
           }
          ],
          "parcoords": [
           {
            "line": {
             "colorbar": {
              "outlinewidth": 0,
              "ticks": ""
             }
            },
            "type": "parcoords"
           }
          ],
          "pie": [
           {
            "automargin": true,
            "type": "pie"
           }
          ],
          "scatter": [
           {
            "fillpattern": {
             "fillmode": "overlay",
             "size": 10,
             "solidity": 0.2
            },
            "type": "scatter"
           }
          ],
          "scatter3d": [
           {
            "line": {
             "colorbar": {
              "outlinewidth": 0,
              "ticks": ""
             }
            },
            "marker": {
             "colorbar": {
              "outlinewidth": 0,
              "ticks": ""
             }
            },
            "type": "scatter3d"
           }
          ],
          "scattercarpet": [
           {
            "marker": {
             "colorbar": {
              "outlinewidth": 0,
              "ticks": ""
             }
            },
            "type": "scattercarpet"
           }
          ],
          "scattergeo": [
           {
            "marker": {
             "colorbar": {
              "outlinewidth": 0,
              "ticks": ""
             }
            },
            "type": "scattergeo"
           }
          ],
          "scattergl": [
           {
            "marker": {
             "colorbar": {
              "outlinewidth": 0,
              "ticks": ""
             }
            },
            "type": "scattergl"
           }
          ],
          "scattermapbox": [
           {
            "marker": {
             "colorbar": {
              "outlinewidth": 0,
              "ticks": ""
             }
            },
            "type": "scattermapbox"
           }
          ],
          "scatterpolar": [
           {
            "marker": {
             "colorbar": {
              "outlinewidth": 0,
              "ticks": ""
             }
            },
            "type": "scatterpolar"
           }
          ],
          "scatterpolargl": [
           {
            "marker": {
             "colorbar": {
              "outlinewidth": 0,
              "ticks": ""
             }
            },
            "type": "scatterpolargl"
           }
          ],
          "scatterternary": [
           {
            "marker": {
             "colorbar": {
              "outlinewidth": 0,
              "ticks": ""
             }
            },
            "type": "scatterternary"
           }
          ],
          "surface": [
           {
            "colorbar": {
             "outlinewidth": 0,
             "ticks": ""
            },
            "colorscale": [
             [
              0,
              "#0d0887"
             ],
             [
              0.1111111111111111,
              "#46039f"
             ],
             [
              0.2222222222222222,
              "#7201a8"
             ],
             [
              0.3333333333333333,
              "#9c179e"
             ],
             [
              0.4444444444444444,
              "#bd3786"
             ],
             [
              0.5555555555555556,
              "#d8576b"
             ],
             [
              0.6666666666666666,
              "#ed7953"
             ],
             [
              0.7777777777777778,
              "#fb9f3a"
             ],
             [
              0.8888888888888888,
              "#fdca26"
             ],
             [
              1,
              "#f0f921"
             ]
            ],
            "type": "surface"
           }
          ],
          "table": [
           {
            "cells": {
             "fill": {
              "color": "#EBF0F8"
             },
             "line": {
              "color": "white"
             }
            },
            "header": {
             "fill": {
              "color": "#C8D4E3"
             },
             "line": {
              "color": "white"
             }
            },
            "type": "table"
           }
          ]
         },
         "layout": {
          "annotationdefaults": {
           "arrowcolor": "#2a3f5f",
           "arrowhead": 0,
           "arrowwidth": 1
          },
          "autotypenumbers": "strict",
          "coloraxis": {
           "colorbar": {
            "outlinewidth": 0,
            "ticks": ""
           }
          },
          "colorscale": {
           "diverging": [
            [
             0,
             "#8e0152"
            ],
            [
             0.1,
             "#c51b7d"
            ],
            [
             0.2,
             "#de77ae"
            ],
            [
             0.3,
             "#f1b6da"
            ],
            [
             0.4,
             "#fde0ef"
            ],
            [
             0.5,
             "#f7f7f7"
            ],
            [
             0.6,
             "#e6f5d0"
            ],
            [
             0.7,
             "#b8e186"
            ],
            [
             0.8,
             "#7fbc41"
            ],
            [
             0.9,
             "#4d9221"
            ],
            [
             1,
             "#276419"
            ]
           ],
           "sequential": [
            [
             0,
             "#0d0887"
            ],
            [
             0.1111111111111111,
             "#46039f"
            ],
            [
             0.2222222222222222,
             "#7201a8"
            ],
            [
             0.3333333333333333,
             "#9c179e"
            ],
            [
             0.4444444444444444,
             "#bd3786"
            ],
            [
             0.5555555555555556,
             "#d8576b"
            ],
            [
             0.6666666666666666,
             "#ed7953"
            ],
            [
             0.7777777777777778,
             "#fb9f3a"
            ],
            [
             0.8888888888888888,
             "#fdca26"
            ],
            [
             1,
             "#f0f921"
            ]
           ],
           "sequentialminus": [
            [
             0,
             "#0d0887"
            ],
            [
             0.1111111111111111,
             "#46039f"
            ],
            [
             0.2222222222222222,
             "#7201a8"
            ],
            [
             0.3333333333333333,
             "#9c179e"
            ],
            [
             0.4444444444444444,
             "#bd3786"
            ],
            [
             0.5555555555555556,
             "#d8576b"
            ],
            [
             0.6666666666666666,
             "#ed7953"
            ],
            [
             0.7777777777777778,
             "#fb9f3a"
            ],
            [
             0.8888888888888888,
             "#fdca26"
            ],
            [
             1,
             "#f0f921"
            ]
           ]
          },
          "colorway": [
           "#636efa",
           "#EF553B",
           "#00cc96",
           "#ab63fa",
           "#FFA15A",
           "#19d3f3",
           "#FF6692",
           "#B6E880",
           "#FF97FF",
           "#FECB52"
          ],
          "font": {
           "color": "#2a3f5f"
          },
          "geo": {
           "bgcolor": "white",
           "lakecolor": "white",
           "landcolor": "#E5ECF6",
           "showlakes": true,
           "showland": true,
           "subunitcolor": "white"
          },
          "hoverlabel": {
           "align": "left"
          },
          "hovermode": "closest",
          "mapbox": {
           "style": "light"
          },
          "paper_bgcolor": "white",
          "plot_bgcolor": "#E5ECF6",
          "polar": {
           "angularaxis": {
            "gridcolor": "white",
            "linecolor": "white",
            "ticks": ""
           },
           "bgcolor": "#E5ECF6",
           "radialaxis": {
            "gridcolor": "white",
            "linecolor": "white",
            "ticks": ""
           }
          },
          "scene": {
           "xaxis": {
            "backgroundcolor": "#E5ECF6",
            "gridcolor": "white",
            "gridwidth": 2,
            "linecolor": "white",
            "showbackground": true,
            "ticks": "",
            "zerolinecolor": "white"
           },
           "yaxis": {
            "backgroundcolor": "#E5ECF6",
            "gridcolor": "white",
            "gridwidth": 2,
            "linecolor": "white",
            "showbackground": true,
            "ticks": "",
            "zerolinecolor": "white"
           },
           "zaxis": {
            "backgroundcolor": "#E5ECF6",
            "gridcolor": "white",
            "gridwidth": 2,
            "linecolor": "white",
            "showbackground": true,
            "ticks": "",
            "zerolinecolor": "white"
           }
          },
          "shapedefaults": {
           "line": {
            "color": "#2a3f5f"
           }
          },
          "ternary": {
           "aaxis": {
            "gridcolor": "white",
            "linecolor": "white",
            "ticks": ""
           },
           "baxis": {
            "gridcolor": "white",
            "linecolor": "white",
            "ticks": ""
           },
           "bgcolor": "#E5ECF6",
           "caxis": {
            "gridcolor": "white",
            "linecolor": "white",
            "ticks": ""
           }
          },
          "title": {
           "x": 0.05
          },
          "xaxis": {
           "automargin": true,
           "gridcolor": "white",
           "linecolor": "white",
           "ticks": "",
           "title": {
            "standoff": 15
           },
           "zerolinecolor": "white",
           "zerolinewidth": 2
          },
          "yaxis": {
           "automargin": true,
           "gridcolor": "white",
           "linecolor": "white",
           "ticks": "",
           "title": {
            "standoff": 15
           },
           "zerolinecolor": "white",
           "zerolinewidth": 2
          }
         }
        },
        "title": {
         "font": {
          "color": "#4D5663"
         }
        },
        "xaxis": {
         "anchor": "y",
         "domain": [
          0,
          0.2125
         ],
         "gridcolor": "#E1E5ED",
         "showgrid": false,
         "tickfont": {
          "color": "#4D5663"
         },
         "title": {
          "font": {
           "color": "#4D5663"
          },
          "text": ""
         },
         "zerolinecolor": "#E1E5ED"
        },
        "xaxis10": {
         "anchor": "y10",
         "domain": [
          0.2625,
          0.475
         ],
         "gridcolor": "#E1E5ED",
         "showgrid": false,
         "tickfont": {
          "color": "#4D5663"
         },
         "title": {
          "font": {
           "color": "#4D5663"
          },
          "text": ""
         },
         "zerolinecolor": "#E1E5ED"
        },
        "xaxis11": {
         "anchor": "y11",
         "domain": [
          0.525,
          0.7375
         ],
         "gridcolor": "#E1E5ED",
         "showgrid": false,
         "tickfont": {
          "color": "#4D5663"
         },
         "title": {
          "font": {
           "color": "#4D5663"
          },
          "text": ""
         },
         "zerolinecolor": "#E1E5ED"
        },
        "xaxis12": {
         "anchor": "y12",
         "domain": [
          0.7875,
          1
         ],
         "gridcolor": "#E1E5ED",
         "showgrid": false,
         "tickfont": {
          "color": "#4D5663"
         },
         "title": {
          "font": {
           "color": "#4D5663"
          },
          "text": ""
         },
         "zerolinecolor": "#E1E5ED"
        },
        "xaxis13": {
         "anchor": "y13",
         "domain": [
          0,
          0.2125
         ],
         "gridcolor": "#E1E5ED",
         "showgrid": false,
         "tickfont": {
          "color": "#4D5663"
         },
         "title": {
          "font": {
           "color": "#4D5663"
          },
          "text": ""
         },
         "zerolinecolor": "#E1E5ED"
        },
        "xaxis14": {
         "anchor": "y14",
         "domain": [
          0.2625,
          0.475
         ],
         "gridcolor": "#E1E5ED",
         "showgrid": false,
         "tickfont": {
          "color": "#4D5663"
         },
         "title": {
          "font": {
           "color": "#4D5663"
          },
          "text": ""
         },
         "zerolinecolor": "#E1E5ED"
        },
        "xaxis15": {
         "anchor": "y15",
         "domain": [
          0.525,
          0.7375
         ],
         "gridcolor": "#E1E5ED",
         "showgrid": false,
         "tickfont": {
          "color": "#4D5663"
         },
         "title": {
          "font": {
           "color": "#4D5663"
          },
          "text": ""
         },
         "zerolinecolor": "#E1E5ED"
        },
        "xaxis16": {
         "anchor": "y16",
         "domain": [
          0.7875,
          1
         ],
         "gridcolor": "#E1E5ED",
         "showgrid": false,
         "tickfont": {
          "color": "#4D5663"
         },
         "title": {
          "font": {
           "color": "#4D5663"
          },
          "text": ""
         },
         "zerolinecolor": "#E1E5ED"
        },
        "xaxis2": {
         "anchor": "y2",
         "domain": [
          0.2625,
          0.475
         ],
         "gridcolor": "#E1E5ED",
         "showgrid": false,
         "tickfont": {
          "color": "#4D5663"
         },
         "title": {
          "font": {
           "color": "#4D5663"
          },
          "text": ""
         },
         "zerolinecolor": "#E1E5ED"
        },
        "xaxis3": {
         "anchor": "y3",
         "domain": [
          0.525,
          0.7375
         ],
         "gridcolor": "#E1E5ED",
         "showgrid": false,
         "tickfont": {
          "color": "#4D5663"
         },
         "title": {
          "font": {
           "color": "#4D5663"
          },
          "text": ""
         },
         "zerolinecolor": "#E1E5ED"
        },
        "xaxis4": {
         "anchor": "y4",
         "domain": [
          0.7875,
          1
         ],
         "gridcolor": "#E1E5ED",
         "showgrid": false,
         "tickfont": {
          "color": "#4D5663"
         },
         "title": {
          "font": {
           "color": "#4D5663"
          },
          "text": ""
         },
         "zerolinecolor": "#E1E5ED"
        },
        "xaxis5": {
         "anchor": "y5",
         "domain": [
          0,
          0.2125
         ],
         "gridcolor": "#E1E5ED",
         "showgrid": false,
         "tickfont": {
          "color": "#4D5663"
         },
         "title": {
          "font": {
           "color": "#4D5663"
          },
          "text": ""
         },
         "zerolinecolor": "#E1E5ED"
        },
        "xaxis6": {
         "anchor": "y6",
         "domain": [
          0.2625,
          0.475
         ],
         "gridcolor": "#E1E5ED",
         "showgrid": false,
         "tickfont": {
          "color": "#4D5663"
         },
         "title": {
          "font": {
           "color": "#4D5663"
          },
          "text": ""
         },
         "zerolinecolor": "#E1E5ED"
        },
        "xaxis7": {
         "anchor": "y7",
         "domain": [
          0.525,
          0.7375
         ],
         "gridcolor": "#E1E5ED",
         "showgrid": false,
         "tickfont": {
          "color": "#4D5663"
         },
         "title": {
          "font": {
           "color": "#4D5663"
          },
          "text": ""
         },
         "zerolinecolor": "#E1E5ED"
        },
        "xaxis8": {
         "anchor": "y8",
         "domain": [
          0.7875,
          1
         ],
         "gridcolor": "#E1E5ED",
         "showgrid": false,
         "tickfont": {
          "color": "#4D5663"
         },
         "title": {
          "font": {
           "color": "#4D5663"
          },
          "text": ""
         },
         "zerolinecolor": "#E1E5ED"
        },
        "xaxis9": {
         "anchor": "y9",
         "domain": [
          0,
          0.2125
         ],
         "gridcolor": "#E1E5ED",
         "showgrid": false,
         "tickfont": {
          "color": "#4D5663"
         },
         "title": {
          "font": {
           "color": "#4D5663"
          },
          "text": ""
         },
         "zerolinecolor": "#E1E5ED"
        },
        "yaxis": {
         "anchor": "x",
         "domain": [
          0.8025,
          1
         ],
         "gridcolor": "#E1E5ED",
         "showgrid": false,
         "tickfont": {
          "color": "#4D5663"
         },
         "title": {
          "font": {
           "color": "#4D5663"
          },
          "text": ""
         },
         "zerolinecolor": "#E1E5ED"
        },
        "yaxis10": {
         "anchor": "x10",
         "domain": [
          0.2675,
          0.465
         ],
         "gridcolor": "#E1E5ED",
         "showgrid": false,
         "tickfont": {
          "color": "#4D5663"
         },
         "title": {
          "font": {
           "color": "#4D5663"
          },
          "text": ""
         },
         "zerolinecolor": "#E1E5ED"
        },
        "yaxis11": {
         "anchor": "x11",
         "domain": [
          0.2675,
          0.465
         ],
         "gridcolor": "#E1E5ED",
         "showgrid": false,
         "tickfont": {
          "color": "#4D5663"
         },
         "title": {
          "font": {
           "color": "#4D5663"
          },
          "text": ""
         },
         "zerolinecolor": "#E1E5ED"
        },
        "yaxis12": {
         "anchor": "x12",
         "domain": [
          0.2675,
          0.465
         ],
         "gridcolor": "#E1E5ED",
         "showgrid": false,
         "tickfont": {
          "color": "#4D5663"
         },
         "title": {
          "font": {
           "color": "#4D5663"
          },
          "text": ""
         },
         "zerolinecolor": "#E1E5ED"
        },
        "yaxis13": {
         "anchor": "x13",
         "domain": [
          0,
          0.1975
         ],
         "gridcolor": "#E1E5ED",
         "showgrid": false,
         "tickfont": {
          "color": "#4D5663"
         },
         "title": {
          "font": {
           "color": "#4D5663"
          },
          "text": ""
         },
         "zerolinecolor": "#E1E5ED"
        },
        "yaxis14": {
         "anchor": "x14",
         "domain": [
          0,
          0.1975
         ],
         "gridcolor": "#E1E5ED",
         "showgrid": false,
         "tickfont": {
          "color": "#4D5663"
         },
         "title": {
          "font": {
           "color": "#4D5663"
          },
          "text": ""
         },
         "zerolinecolor": "#E1E5ED"
        },
        "yaxis15": {
         "anchor": "x15",
         "domain": [
          0,
          0.1975
         ],
         "gridcolor": "#E1E5ED",
         "showgrid": false,
         "tickfont": {
          "color": "#4D5663"
         },
         "title": {
          "font": {
           "color": "#4D5663"
          },
          "text": ""
         },
         "zerolinecolor": "#E1E5ED"
        },
        "yaxis16": {
         "anchor": "x16",
         "domain": [
          0,
          0.1975
         ],
         "gridcolor": "#E1E5ED",
         "showgrid": false,
         "tickfont": {
          "color": "#4D5663"
         },
         "title": {
          "font": {
           "color": "#4D5663"
          },
          "text": ""
         },
         "zerolinecolor": "#E1E5ED"
        },
        "yaxis2": {
         "anchor": "x2",
         "domain": [
          0.8025,
          1
         ],
         "gridcolor": "#E1E5ED",
         "showgrid": false,
         "tickfont": {
          "color": "#4D5663"
         },
         "title": {
          "font": {
           "color": "#4D5663"
          },
          "text": ""
         },
         "zerolinecolor": "#E1E5ED"
        },
        "yaxis3": {
         "anchor": "x3",
         "domain": [
          0.8025,
          1
         ],
         "gridcolor": "#E1E5ED",
         "showgrid": false,
         "tickfont": {
          "color": "#4D5663"
         },
         "title": {
          "font": {
           "color": "#4D5663"
          },
          "text": ""
         },
         "zerolinecolor": "#E1E5ED"
        },
        "yaxis4": {
         "anchor": "x4",
         "domain": [
          0.8025,
          1
         ],
         "gridcolor": "#E1E5ED",
         "showgrid": false,
         "tickfont": {
          "color": "#4D5663"
         },
         "title": {
          "font": {
           "color": "#4D5663"
          },
          "text": ""
         },
         "zerolinecolor": "#E1E5ED"
        },
        "yaxis5": {
         "anchor": "x5",
         "domain": [
          0.535,
          0.7325
         ],
         "gridcolor": "#E1E5ED",
         "showgrid": false,
         "tickfont": {
          "color": "#4D5663"
         },
         "title": {
          "font": {
           "color": "#4D5663"
          },
          "text": ""
         },
         "zerolinecolor": "#E1E5ED"
        },
        "yaxis6": {
         "anchor": "x6",
         "domain": [
          0.535,
          0.7325
         ],
         "gridcolor": "#E1E5ED",
         "showgrid": false,
         "tickfont": {
          "color": "#4D5663"
         },
         "title": {
          "font": {
           "color": "#4D5663"
          },
          "text": ""
         },
         "zerolinecolor": "#E1E5ED"
        },
        "yaxis7": {
         "anchor": "x7",
         "domain": [
          0.535,
          0.7325
         ],
         "gridcolor": "#E1E5ED",
         "showgrid": false,
         "tickfont": {
          "color": "#4D5663"
         },
         "title": {
          "font": {
           "color": "#4D5663"
          },
          "text": ""
         },
         "zerolinecolor": "#E1E5ED"
        },
        "yaxis8": {
         "anchor": "x8",
         "domain": [
          0.535,
          0.7325
         ],
         "gridcolor": "#E1E5ED",
         "showgrid": false,
         "tickfont": {
          "color": "#4D5663"
         },
         "title": {
          "font": {
           "color": "#4D5663"
          },
          "text": ""
         },
         "zerolinecolor": "#E1E5ED"
        },
        "yaxis9": {
         "anchor": "x9",
         "domain": [
          0.2675,
          0.465
         ],
         "gridcolor": "#E1E5ED",
         "showgrid": false,
         "tickfont": {
          "color": "#4D5663"
         },
         "title": {
          "font": {
           "color": "#4D5663"
          },
          "text": ""
         },
         "zerolinecolor": "#E1E5ED"
        }
       }
      },
      "text/html": [
       "<div>                            <div id=\"5a91e414-c283-420c-bdbb-b8a3a9cccbd2\" class=\"plotly-graph-div\" style=\"height:525px; width:100%;\"></div>            <script type=\"text/javascript\">                require([\"plotly\"], function(Plotly) {                    window.PLOTLYENV=window.PLOTLYENV || {};\n",
       "                    window.PLOTLYENV.BASE_URL='https://plot.ly';                                    if (document.getElementById(\"5a91e414-c283-420c-bdbb-b8a3a9cccbd2\")) {                    Plotly.newPlot(                        \"5a91e414-c283-420c-bdbb-b8a3a9cccbd2\",                        [{\"histfunc\":\"count\",\"histnorm\":\"\",\"marker\":{\"color\":\"rgba(255, 153, 51, 1.0)\",\"line\":{\"color\":\"#4D5663\",\"width\":1.3}},\"name\":\"A\",\"nbinsx\":10,\"opacity\":0.8,\"orientation\":\"v\",\"x\":[1.0972199573688461,-0.8556300900285553,0.126238097867567,-0.8282204270169976,0.8560873352556525,0.5619925804799691,2.167754242657729,0.8685971008748656,-1.9289937198025082,0.5437032363502787,-0.9574925223199207,-0.24911605946206627,1.5931382742156124,1.295876030061057,-0.3059339088046586,-2.5137835517098113,-0.1843257337369107,-0.11925588099121849,0.040977527180113854,0.591519333167522,-1.9133114776397937,-0.4234397600642683,-0.37323357463192774,0.39736404172278844,-1.0687353713516132,-2.1137134499842243,0.026616150448040582,0.03207548264493021,2.2350858795361037,0.3865150785553918,-0.2765508952638007,-0.9742483462536244,-0.037418091518889154,-0.6957386432796877,0.26254940779255026,-0.37061011710613984,0.1940616159399782,-0.4712706922249023,-0.7438133035929787,-0.8617817265675123,1.2274765825622858,-2.1162084763156,-0.39314272842603903,-0.7536802700649506,-0.2586012758153935,-0.3647937634526296,0.28374946056505923,-0.7426970053836787,0.5138603605588284,-1.1221585741415925,2.462589511258795,0.326754111891552,-1.1360152092376024,1.1009591239625762,0.5331383898979563,1.030367103510399,-1.5476307035214891,-0.14353702750924907,0.6153365014212021,0.17582305872329348,-0.1407595696306908,0.9615519820277341,-0.18273247455217942,-1.2490206473611387,-0.6843774351888924,-0.9450323644698706,-0.41593589370993106,1.6402502318965975,0.15090798894901028,-0.7602056513090112,0.16666027169541586,-0.6140555628020126,0.1224738655616952,0.0355516286140335,-0.07126787414443411,-0.47293961552623126,-0.17699554805522952,0.46179222308616014,0.9014511792772176,-1.0619107340564138,0.2431893684974666,-0.5197779549294853,-0.37792729092691474,-0.9297917791003169,0.7464411364714747,1.3135926514013567,-0.11786793920996452,-0.9006190576593024,0.3189182367226934,-0.6013694007427746,0.6392332214332836,-0.41007665963566364,-0.44084763227914775,0.026668559790025716,0.7551911700826331,1.2784426404091564,1.9525932355403217,1.4083554324392453,-0.04995379723171119,-0.8870695309281038],\"xaxis\":\"x\",\"yaxis\":\"y\",\"type\":\"histogram\"},{\"line\":{\"color\":\"rgba(128, 128, 128, 1.0)\",\"dash\":\"solid\",\"shape\":\"linear\",\"width\":1.3},\"marker\":{\"size\":2,\"symbol\":\"circle\"},\"mode\":\"markers\",\"name\":\"A\",\"text\":\"\",\"x\":[-1.3637774842815413,0.353952675325184,0.21353536078393018,0.6699142800774748,-0.574120137178779,0.22137996731266077,0.1842868499658055,-0.5631842115771228,0.026902270886982552,1.6135586059124316,-0.24141231977133087,0.3589101422836867,0.5151474823005724,-0.8065719473373799,2.655984963239379,1.7676102880648454,0.536666074694593,1.7113497148684713,1.2103329781689967,0.2892831050976094,0.5536184590916052,-0.9080764903832801,1.3117010182803681,0.9496623261887203,2.1578662968217746,-2.2866991271331054,0.46502055933437225,0.3007190779204101,0.21565361054157617,0.7297651175587392,1.2110715854901988,-0.4313639363120854,0.3186649273727466,0.8610791269604751,-0.3520093584334649,-0.18440102023666888,0.20663158797414072,-1.2482030602991123,-0.15252849941252594,-0.6280150064398252,1.6384377692523178,-0.9686158825072473,1.523254680641849,-0.43324496175475813,0.17683089883614178,1.3437492789374694,0.7922225736517898,0.37848642017699863,1.944114142362021,-1.1989544380354518,0.9270998914726263,0.21227650911028123,1.6141779405665395,0.7559046937544706,1.3126072045227353,-0.33678296009720143,0.29379536995738714,-0.814197978560749,0.035366931482711854,-1.7283954579795704,0.21158915830886985,1.0445162035800992,-0.8675878384458665,-0.39509555817917685,0.39641202034336487,0.34138447652912884,-1.5794190042582488,1.6361047889920284,0.10099997488030328,1.380339719163687,-0.1942889589590072,0.030121399759899314,-0.22129904013345408,0.5198780246561374,0.718822922695734,-1.0378545103964494,0.5094549811222295,0.9981651911086201,-0.3052056534959569,-1.0367418993908588,0.8114795684472617,-1.984381866446984,-0.7176887974181332,0.2326928856538649,-0.06287311871688153,0.3424467162006518,-0.7303309346947787,-0.7732572902361802,0.017804708943345644,2.2215543781141633,-0.4078351257654741,-0.029488329916561636,0.3382837144894597,-1.7290701278444445,-1.7183982409460457,0.6898709280559027,-1.2171663269029787,-0.5932799090423962,-0.409927639782033,1.1406913323954189],\"xaxis\":\"x2\",\"y\":[1.0972199573688461,-0.8556300900285553,0.126238097867567,-0.8282204270169976,0.8560873352556525,0.5619925804799691,2.167754242657729,0.8685971008748656,-1.9289937198025082,0.5437032363502787,-0.9574925223199207,-0.24911605946206627,1.5931382742156124,1.295876030061057,-0.3059339088046586,-2.5137835517098113,-0.1843257337369107,-0.11925588099121849,0.040977527180113854,0.591519333167522,-1.9133114776397937,-0.4234397600642683,-0.37323357463192774,0.39736404172278844,-1.0687353713516132,-2.1137134499842243,0.026616150448040582,0.03207548264493021,2.2350858795361037,0.3865150785553918,-0.2765508952638007,-0.9742483462536244,-0.037418091518889154,-0.6957386432796877,0.26254940779255026,-0.37061011710613984,0.1940616159399782,-0.4712706922249023,-0.7438133035929787,-0.8617817265675123,1.2274765825622858,-2.1162084763156,-0.39314272842603903,-0.7536802700649506,-0.2586012758153935,-0.3647937634526296,0.28374946056505923,-0.7426970053836787,0.5138603605588284,-1.1221585741415925,2.462589511258795,0.326754111891552,-1.1360152092376024,1.1009591239625762,0.5331383898979563,1.030367103510399,-1.5476307035214891,-0.14353702750924907,0.6153365014212021,0.17582305872329348,-0.1407595696306908,0.9615519820277341,-0.18273247455217942,-1.2490206473611387,-0.6843774351888924,-0.9450323644698706,-0.41593589370993106,1.6402502318965975,0.15090798894901028,-0.7602056513090112,0.16666027169541586,-0.6140555628020126,0.1224738655616952,0.0355516286140335,-0.07126787414443411,-0.47293961552623126,-0.17699554805522952,0.46179222308616014,0.9014511792772176,-1.0619107340564138,0.2431893684974666,-0.5197779549294853,-0.37792729092691474,-0.9297917791003169,0.7464411364714747,1.3135926514013567,-0.11786793920996452,-0.9006190576593024,0.3189182367226934,-0.6013694007427746,0.6392332214332836,-0.41007665963566364,-0.44084763227914775,0.026668559790025716,0.7551911700826331,1.2784426404091564,1.9525932355403217,1.4083554324392453,-0.04995379723171119,-0.8870695309281038],\"yaxis\":\"y2\",\"type\":\"scatter\"},{\"line\":{\"color\":\"rgba(128, 128, 128, 1.0)\",\"dash\":\"solid\",\"shape\":\"linear\",\"width\":1.3},\"marker\":{\"size\":2,\"symbol\":\"circle\"},\"mode\":\"markers\",\"name\":\"A\",\"text\":\"\",\"x\":[1.7441444268444621,-1.3571809582949532,-0.5997803803184673,0.5136575022216522,-0.2838279646933433,0.36791853405653707,-0.8301022377992087,-1.839793469893,-0.7066247079268967,0.8801286868007496,2.3321073682831206,1.2817107032896797,-0.3336674844381158,0.9640589507222928,1.1174560065410974,0.13742478008949918,0.422611403168731,-2.02126224568225,0.3725032072100424,0.6375837045563109,0.48409137155102644,-1.3188893337688938,1.0351008668977895,-0.1078610714437173,-1.0714872756406661,0.36299985911785887,-0.2663598281959314,-0.13936621226773235,1.5634508491681254,0.11722009064520982,-0.6311174905821366,1.0176053134414236,0.1930356053045629,-0.6452265018090639,1.212576031273781,-0.41756275368521373,-0.05084938082231021,1.3689341937764048,0.6937624179644558,-1.1079621913633733,1.524803992919876,0.5498480902392452,1.921727117885748,0.9737348902866186,0.30741346156809546,0.2766375646427449,-1.6482611307797688,-0.3263070889295888,1.0878737098420215,-0.765017935436571,0.09908709624767846,1.075132096831975,0.32591691894492913,-0.9505559412638134,0.8518786843713807,2.0053245315642743,0.0064170006344238095,1.3877408380309788,-1.159928103058354,0.37458153522549786,0.14556569596995914,-0.9225375411594947,0.2732011044440375,1.00563474086416,-1.8036431451086403,-0.6841874227735335,0.5306868618779714,-2.1828529498193343,-0.40306005109868626,1.3315620367452865,-0.5852132025838219,-1.0812359396637476,-0.19156909840427944,-0.016256672670362064,0.41094406123749944,0.25312201160334846,-0.8628860743124456,0.060058552317430486,-0.17463669980882854,0.563579278564023,0.7207705370182675,-1.9768846335355195,1.0498202378486199,-0.07676005165937246,0.11622186861272342,1.3522798146343886,0.3066726347961337,-0.016262251887249665,2.5582467326198266,-0.4100318259422234,1.2012186250185024,-0.4848897360002726,0.0656295218447803,0.9754947681988773,0.47253300044969765,-0.12573270430543682,0.15288422279365216,-0.05940658101056851,-0.7751888302513141,1.8816948506046864],\"xaxis\":\"x3\",\"y\":[1.0972199573688461,-0.8556300900285553,0.126238097867567,-0.8282204270169976,0.8560873352556525,0.5619925804799691,2.167754242657729,0.8685971008748656,-1.9289937198025082,0.5437032363502787,-0.9574925223199207,-0.24911605946206627,1.5931382742156124,1.295876030061057,-0.3059339088046586,-2.5137835517098113,-0.1843257337369107,-0.11925588099121849,0.040977527180113854,0.591519333167522,-1.9133114776397937,-0.4234397600642683,-0.37323357463192774,0.39736404172278844,-1.0687353713516132,-2.1137134499842243,0.026616150448040582,0.03207548264493021,2.2350858795361037,0.3865150785553918,-0.2765508952638007,-0.9742483462536244,-0.037418091518889154,-0.6957386432796877,0.26254940779255026,-0.37061011710613984,0.1940616159399782,-0.4712706922249023,-0.7438133035929787,-0.8617817265675123,1.2274765825622858,-2.1162084763156,-0.39314272842603903,-0.7536802700649506,-0.2586012758153935,-0.3647937634526296,0.28374946056505923,-0.7426970053836787,0.5138603605588284,-1.1221585741415925,2.462589511258795,0.326754111891552,-1.1360152092376024,1.1009591239625762,0.5331383898979563,1.030367103510399,-1.5476307035214891,-0.14353702750924907,0.6153365014212021,0.17582305872329348,-0.1407595696306908,0.9615519820277341,-0.18273247455217942,-1.2490206473611387,-0.6843774351888924,-0.9450323644698706,-0.41593589370993106,1.6402502318965975,0.15090798894901028,-0.7602056513090112,0.16666027169541586,-0.6140555628020126,0.1224738655616952,0.0355516286140335,-0.07126787414443411,-0.47293961552623126,-0.17699554805522952,0.46179222308616014,0.9014511792772176,-1.0619107340564138,0.2431893684974666,-0.5197779549294853,-0.37792729092691474,-0.9297917791003169,0.7464411364714747,1.3135926514013567,-0.11786793920996452,-0.9006190576593024,0.3189182367226934,-0.6013694007427746,0.6392332214332836,-0.41007665963566364,-0.44084763227914775,0.026668559790025716,0.7551911700826331,1.2784426404091564,1.9525932355403217,1.4083554324392453,-0.04995379723171119,-0.8870695309281038],\"yaxis\":\"y3\",\"type\":\"scatter\"},{\"line\":{\"color\":\"rgba(128, 128, 128, 1.0)\",\"dash\":\"solid\",\"shape\":\"linear\",\"width\":1.3},\"marker\":{\"size\":2,\"symbol\":\"circle\"},\"mode\":\"markers\",\"name\":\"A\",\"text\":\"\",\"x\":[0.288073644622906,-0.6196480294379495,0.4352912178986984,1.3858483000443054,-0.12967783089136828,0.25901940507108606,-0.15369446045114837,0.7022791049065268,0.25003367642911445,0.6423040484592956,-0.06515752085004241,-0.2428497626437784,3.017296437956513,-0.2873600024607329,0.7858449713650546,-0.2527239645512696,-1.0706166628771294,1.30301604833422,-0.6035874827134198,-0.08194565023611032,-0.7434120074720523,-0.622350129771808,0.25224914913165547,-0.40271633351280484,-0.6401774801595804,-1.5488484085800065,0.11473011687590177,-0.20835998436792869,0.03060385876344897,-0.6195768008460987,1.0367646544705695,0.6863266604025321,0.27869920937452786,0.3139776946948659,-0.4275409048884473,0.6114339959922276,-0.041968596690567184,0.29870089152331825,-0.7633953281817364,0.7174993318718507,-1.2831130795055063,1.3745239986080247,0.13375071683693568,0.27039092883369986,-1.7047901060150608,0.2703024515670794,-0.24802671571485174,-0.505782056400116,0.9042068737244287,-0.706912859024362,-1.154218503943458,0.7209859769209502,-0.4994228090441744,0.7668114269013349,-0.46177981263883,-0.030700677042771234,-0.3219389644258767,-0.9760524729894123,0.22272923363405842,-0.03821262707650034,0.03602664326105428,-1.7686308352616142,0.3349026690553228,1.1045955353888688,-1.0694638326577615,0.8417559558881049,-0.3065524737142244,-1.2261442399978455,-0.25912865005178964,0.8031747205194517,1.5230957745817966,-0.27939989540503624,0.49483465178498076,-0.07236550494013297,-0.6251070562374017,0.4832219323713606,1.8981437362531792,-0.5312073144789279,0.6745558314731132,-0.7156297556397487,-0.5259849913047434,0.12817459979566342,0.25976296024330936,-0.8887673629176817,1.4629420195867027,-0.8697290492235933,0.7041186624009869,2.2787105968099186,-0.6719568104744766,1.5008672928070275,0.8916534726836076,0.34273802958541766,-0.15562415135930815,-0.6550811919299239,1.1428124102932224,0.03409777252625565,2.504284355186978,-0.19164274036642848,1.899465898860514,1.2650752163646082],\"xaxis\":\"x4\",\"y\":[1.0972199573688461,-0.8556300900285553,0.126238097867567,-0.8282204270169976,0.8560873352556525,0.5619925804799691,2.167754242657729,0.8685971008748656,-1.9289937198025082,0.5437032363502787,-0.9574925223199207,-0.24911605946206627,1.5931382742156124,1.295876030061057,-0.3059339088046586,-2.5137835517098113,-0.1843257337369107,-0.11925588099121849,0.040977527180113854,0.591519333167522,-1.9133114776397937,-0.4234397600642683,-0.37323357463192774,0.39736404172278844,-1.0687353713516132,-2.1137134499842243,0.026616150448040582,0.03207548264493021,2.2350858795361037,0.3865150785553918,-0.2765508952638007,-0.9742483462536244,-0.037418091518889154,-0.6957386432796877,0.26254940779255026,-0.37061011710613984,0.1940616159399782,-0.4712706922249023,-0.7438133035929787,-0.8617817265675123,1.2274765825622858,-2.1162084763156,-0.39314272842603903,-0.7536802700649506,-0.2586012758153935,-0.3647937634526296,0.28374946056505923,-0.7426970053836787,0.5138603605588284,-1.1221585741415925,2.462589511258795,0.326754111891552,-1.1360152092376024,1.1009591239625762,0.5331383898979563,1.030367103510399,-1.5476307035214891,-0.14353702750924907,0.6153365014212021,0.17582305872329348,-0.1407595696306908,0.9615519820277341,-0.18273247455217942,-1.2490206473611387,-0.6843774351888924,-0.9450323644698706,-0.41593589370993106,1.6402502318965975,0.15090798894901028,-0.7602056513090112,0.16666027169541586,-0.6140555628020126,0.1224738655616952,0.0355516286140335,-0.07126787414443411,-0.47293961552623126,-0.17699554805522952,0.46179222308616014,0.9014511792772176,-1.0619107340564138,0.2431893684974666,-0.5197779549294853,-0.37792729092691474,-0.9297917791003169,0.7464411364714747,1.3135926514013567,-0.11786793920996452,-0.9006190576593024,0.3189182367226934,-0.6013694007427746,0.6392332214332836,-0.41007665963566364,-0.44084763227914775,0.026668559790025716,0.7551911700826331,1.2784426404091564,1.9525932355403217,1.4083554324392453,-0.04995379723171119,-0.8870695309281038],\"yaxis\":\"y4\",\"type\":\"scatter\"},{\"line\":{\"color\":\"rgba(128, 128, 128, 1.0)\",\"dash\":\"solid\",\"shape\":\"linear\",\"width\":1.3},\"marker\":{\"size\":2,\"symbol\":\"circle\"},\"mode\":\"markers\",\"name\":\"B\",\"text\":\"\",\"x\":[1.0972199573688461,-0.8556300900285553,0.126238097867567,-0.8282204270169976,0.8560873352556525,0.5619925804799691,2.167754242657729,0.8685971008748656,-1.9289937198025082,0.5437032363502787,-0.9574925223199207,-0.24911605946206627,1.5931382742156124,1.295876030061057,-0.3059339088046586,-2.5137835517098113,-0.1843257337369107,-0.11925588099121849,0.040977527180113854,0.591519333167522,-1.9133114776397937,-0.4234397600642683,-0.37323357463192774,0.39736404172278844,-1.0687353713516132,-2.1137134499842243,0.026616150448040582,0.03207548264493021,2.2350858795361037,0.3865150785553918,-0.2765508952638007,-0.9742483462536244,-0.037418091518889154,-0.6957386432796877,0.26254940779255026,-0.37061011710613984,0.1940616159399782,-0.4712706922249023,-0.7438133035929787,-0.8617817265675123,1.2274765825622858,-2.1162084763156,-0.39314272842603903,-0.7536802700649506,-0.2586012758153935,-0.3647937634526296,0.28374946056505923,-0.7426970053836787,0.5138603605588284,-1.1221585741415925,2.462589511258795,0.326754111891552,-1.1360152092376024,1.1009591239625762,0.5331383898979563,1.030367103510399,-1.5476307035214891,-0.14353702750924907,0.6153365014212021,0.17582305872329348,-0.1407595696306908,0.9615519820277341,-0.18273247455217942,-1.2490206473611387,-0.6843774351888924,-0.9450323644698706,-0.41593589370993106,1.6402502318965975,0.15090798894901028,-0.7602056513090112,0.16666027169541586,-0.6140555628020126,0.1224738655616952,0.0355516286140335,-0.07126787414443411,-0.47293961552623126,-0.17699554805522952,0.46179222308616014,0.9014511792772176,-1.0619107340564138,0.2431893684974666,-0.5197779549294853,-0.37792729092691474,-0.9297917791003169,0.7464411364714747,1.3135926514013567,-0.11786793920996452,-0.9006190576593024,0.3189182367226934,-0.6013694007427746,0.6392332214332836,-0.41007665963566364,-0.44084763227914775,0.026668559790025716,0.7551911700826331,1.2784426404091564,1.9525932355403217,1.4083554324392453,-0.04995379723171119,-0.8870695309281038],\"xaxis\":\"x5\",\"y\":[-1.3637774842815413,0.353952675325184,0.21353536078393018,0.6699142800774748,-0.574120137178779,0.22137996731266077,0.1842868499658055,-0.5631842115771228,0.026902270886982552,1.6135586059124316,-0.24141231977133087,0.3589101422836867,0.5151474823005724,-0.8065719473373799,2.655984963239379,1.7676102880648454,0.536666074694593,1.7113497148684713,1.2103329781689967,0.2892831050976094,0.5536184590916052,-0.9080764903832801,1.3117010182803681,0.9496623261887203,2.1578662968217746,-2.2866991271331054,0.46502055933437225,0.3007190779204101,0.21565361054157617,0.7297651175587392,1.2110715854901988,-0.4313639363120854,0.3186649273727466,0.8610791269604751,-0.3520093584334649,-0.18440102023666888,0.20663158797414072,-1.2482030602991123,-0.15252849941252594,-0.6280150064398252,1.6384377692523178,-0.9686158825072473,1.523254680641849,-0.43324496175475813,0.17683089883614178,1.3437492789374694,0.7922225736517898,0.37848642017699863,1.944114142362021,-1.1989544380354518,0.9270998914726263,0.21227650911028123,1.6141779405665395,0.7559046937544706,1.3126072045227353,-0.33678296009720143,0.29379536995738714,-0.814197978560749,0.035366931482711854,-1.7283954579795704,0.21158915830886985,1.0445162035800992,-0.8675878384458665,-0.39509555817917685,0.39641202034336487,0.34138447652912884,-1.5794190042582488,1.6361047889920284,0.10099997488030328,1.380339719163687,-0.1942889589590072,0.030121399759899314,-0.22129904013345408,0.5198780246561374,0.718822922695734,-1.0378545103964494,0.5094549811222295,0.9981651911086201,-0.3052056534959569,-1.0367418993908588,0.8114795684472617,-1.984381866446984,-0.7176887974181332,0.2326928856538649,-0.06287311871688153,0.3424467162006518,-0.7303309346947787,-0.7732572902361802,0.017804708943345644,2.2215543781141633,-0.4078351257654741,-0.029488329916561636,0.3382837144894597,-1.7290701278444445,-1.7183982409460457,0.6898709280559027,-1.2171663269029787,-0.5932799090423962,-0.409927639782033,1.1406913323954189],\"yaxis\":\"y5\",\"type\":\"scatter\"},{\"histfunc\":\"count\",\"histnorm\":\"\",\"marker\":{\"color\":\"rgba(55, 128, 191, 1.0)\",\"line\":{\"color\":\"#4D5663\",\"width\":1.3}},\"name\":\"B\",\"nbinsx\":10,\"opacity\":0.8,\"orientation\":\"v\",\"x\":[-1.3637774842815413,0.353952675325184,0.21353536078393018,0.6699142800774748,-0.574120137178779,0.22137996731266077,0.1842868499658055,-0.5631842115771228,0.026902270886982552,1.6135586059124316,-0.24141231977133087,0.3589101422836867,0.5151474823005724,-0.8065719473373799,2.655984963239379,1.7676102880648454,0.536666074694593,1.7113497148684713,1.2103329781689967,0.2892831050976094,0.5536184590916052,-0.9080764903832801,1.3117010182803681,0.9496623261887203,2.1578662968217746,-2.2866991271331054,0.46502055933437225,0.3007190779204101,0.21565361054157617,0.7297651175587392,1.2110715854901988,-0.4313639363120854,0.3186649273727466,0.8610791269604751,-0.3520093584334649,-0.18440102023666888,0.20663158797414072,-1.2482030602991123,-0.15252849941252594,-0.6280150064398252,1.6384377692523178,-0.9686158825072473,1.523254680641849,-0.43324496175475813,0.17683089883614178,1.3437492789374694,0.7922225736517898,0.37848642017699863,1.944114142362021,-1.1989544380354518,0.9270998914726263,0.21227650911028123,1.6141779405665395,0.7559046937544706,1.3126072045227353,-0.33678296009720143,0.29379536995738714,-0.814197978560749,0.035366931482711854,-1.7283954579795704,0.21158915830886985,1.0445162035800992,-0.8675878384458665,-0.39509555817917685,0.39641202034336487,0.34138447652912884,-1.5794190042582488,1.6361047889920284,0.10099997488030328,1.380339719163687,-0.1942889589590072,0.030121399759899314,-0.22129904013345408,0.5198780246561374,0.718822922695734,-1.0378545103964494,0.5094549811222295,0.9981651911086201,-0.3052056534959569,-1.0367418993908588,0.8114795684472617,-1.984381866446984,-0.7176887974181332,0.2326928856538649,-0.06287311871688153,0.3424467162006518,-0.7303309346947787,-0.7732572902361802,0.017804708943345644,2.2215543781141633,-0.4078351257654741,-0.029488329916561636,0.3382837144894597,-1.7290701278444445,-1.7183982409460457,0.6898709280559027,-1.2171663269029787,-0.5932799090423962,-0.409927639782033,1.1406913323954189],\"xaxis\":\"x6\",\"yaxis\":\"y6\",\"type\":\"histogram\"},{\"line\":{\"color\":\"rgba(128, 128, 128, 1.0)\",\"dash\":\"solid\",\"shape\":\"linear\",\"width\":1.3},\"marker\":{\"size\":2,\"symbol\":\"circle\"},\"mode\":\"markers\",\"name\":\"B\",\"text\":\"\",\"x\":[1.7441444268444621,-1.3571809582949532,-0.5997803803184673,0.5136575022216522,-0.2838279646933433,0.36791853405653707,-0.8301022377992087,-1.839793469893,-0.7066247079268967,0.8801286868007496,2.3321073682831206,1.2817107032896797,-0.3336674844381158,0.9640589507222928,1.1174560065410974,0.13742478008949918,0.422611403168731,-2.02126224568225,0.3725032072100424,0.6375837045563109,0.48409137155102644,-1.3188893337688938,1.0351008668977895,-0.1078610714437173,-1.0714872756406661,0.36299985911785887,-0.2663598281959314,-0.13936621226773235,1.5634508491681254,0.11722009064520982,-0.6311174905821366,1.0176053134414236,0.1930356053045629,-0.6452265018090639,1.212576031273781,-0.41756275368521373,-0.05084938082231021,1.3689341937764048,0.6937624179644558,-1.1079621913633733,1.524803992919876,0.5498480902392452,1.921727117885748,0.9737348902866186,0.30741346156809546,0.2766375646427449,-1.6482611307797688,-0.3263070889295888,1.0878737098420215,-0.765017935436571,0.09908709624767846,1.075132096831975,0.32591691894492913,-0.9505559412638134,0.8518786843713807,2.0053245315642743,0.0064170006344238095,1.3877408380309788,-1.159928103058354,0.37458153522549786,0.14556569596995914,-0.9225375411594947,0.2732011044440375,1.00563474086416,-1.8036431451086403,-0.6841874227735335,0.5306868618779714,-2.1828529498193343,-0.40306005109868626,1.3315620367452865,-0.5852132025838219,-1.0812359396637476,-0.19156909840427944,-0.016256672670362064,0.41094406123749944,0.25312201160334846,-0.8628860743124456,0.060058552317430486,-0.17463669980882854,0.563579278564023,0.7207705370182675,-1.9768846335355195,1.0498202378486199,-0.07676005165937246,0.11622186861272342,1.3522798146343886,0.3066726347961337,-0.016262251887249665,2.5582467326198266,-0.4100318259422234,1.2012186250185024,-0.4848897360002726,0.0656295218447803,0.9754947681988773,0.47253300044969765,-0.12573270430543682,0.15288422279365216,-0.05940658101056851,-0.7751888302513141,1.8816948506046864],\"xaxis\":\"x7\",\"y\":[-1.3637774842815413,0.353952675325184,0.21353536078393018,0.6699142800774748,-0.574120137178779,0.22137996731266077,0.1842868499658055,-0.5631842115771228,0.026902270886982552,1.6135586059124316,-0.24141231977133087,0.3589101422836867,0.5151474823005724,-0.8065719473373799,2.655984963239379,1.7676102880648454,0.536666074694593,1.7113497148684713,1.2103329781689967,0.2892831050976094,0.5536184590916052,-0.9080764903832801,1.3117010182803681,0.9496623261887203,2.1578662968217746,-2.2866991271331054,0.46502055933437225,0.3007190779204101,0.21565361054157617,0.7297651175587392,1.2110715854901988,-0.4313639363120854,0.3186649273727466,0.8610791269604751,-0.3520093584334649,-0.18440102023666888,0.20663158797414072,-1.2482030602991123,-0.15252849941252594,-0.6280150064398252,1.6384377692523178,-0.9686158825072473,1.523254680641849,-0.43324496175475813,0.17683089883614178,1.3437492789374694,0.7922225736517898,0.37848642017699863,1.944114142362021,-1.1989544380354518,0.9270998914726263,0.21227650911028123,1.6141779405665395,0.7559046937544706,1.3126072045227353,-0.33678296009720143,0.29379536995738714,-0.814197978560749,0.035366931482711854,-1.7283954579795704,0.21158915830886985,1.0445162035800992,-0.8675878384458665,-0.39509555817917685,0.39641202034336487,0.34138447652912884,-1.5794190042582488,1.6361047889920284,0.10099997488030328,1.380339719163687,-0.1942889589590072,0.030121399759899314,-0.22129904013345408,0.5198780246561374,0.718822922695734,-1.0378545103964494,0.5094549811222295,0.9981651911086201,-0.3052056534959569,-1.0367418993908588,0.8114795684472617,-1.984381866446984,-0.7176887974181332,0.2326928856538649,-0.06287311871688153,0.3424467162006518,-0.7303309346947787,-0.7732572902361802,0.017804708943345644,2.2215543781141633,-0.4078351257654741,-0.029488329916561636,0.3382837144894597,-1.7290701278444445,-1.7183982409460457,0.6898709280559027,-1.2171663269029787,-0.5932799090423962,-0.409927639782033,1.1406913323954189],\"yaxis\":\"y7\",\"type\":\"scatter\"},{\"line\":{\"color\":\"rgba(128, 128, 128, 1.0)\",\"dash\":\"solid\",\"shape\":\"linear\",\"width\":1.3},\"marker\":{\"size\":2,\"symbol\":\"circle\"},\"mode\":\"markers\",\"name\":\"B\",\"text\":\"\",\"x\":[0.288073644622906,-0.6196480294379495,0.4352912178986984,1.3858483000443054,-0.12967783089136828,0.25901940507108606,-0.15369446045114837,0.7022791049065268,0.25003367642911445,0.6423040484592956,-0.06515752085004241,-0.2428497626437784,3.017296437956513,-0.2873600024607329,0.7858449713650546,-0.2527239645512696,-1.0706166628771294,1.30301604833422,-0.6035874827134198,-0.08194565023611032,-0.7434120074720523,-0.622350129771808,0.25224914913165547,-0.40271633351280484,-0.6401774801595804,-1.5488484085800065,0.11473011687590177,-0.20835998436792869,0.03060385876344897,-0.6195768008460987,1.0367646544705695,0.6863266604025321,0.27869920937452786,0.3139776946948659,-0.4275409048884473,0.6114339959922276,-0.041968596690567184,0.29870089152331825,-0.7633953281817364,0.7174993318718507,-1.2831130795055063,1.3745239986080247,0.13375071683693568,0.27039092883369986,-1.7047901060150608,0.2703024515670794,-0.24802671571485174,-0.505782056400116,0.9042068737244287,-0.706912859024362,-1.154218503943458,0.7209859769209502,-0.4994228090441744,0.7668114269013349,-0.46177981263883,-0.030700677042771234,-0.3219389644258767,-0.9760524729894123,0.22272923363405842,-0.03821262707650034,0.03602664326105428,-1.7686308352616142,0.3349026690553228,1.1045955353888688,-1.0694638326577615,0.8417559558881049,-0.3065524737142244,-1.2261442399978455,-0.25912865005178964,0.8031747205194517,1.5230957745817966,-0.27939989540503624,0.49483465178498076,-0.07236550494013297,-0.6251070562374017,0.4832219323713606,1.8981437362531792,-0.5312073144789279,0.6745558314731132,-0.7156297556397487,-0.5259849913047434,0.12817459979566342,0.25976296024330936,-0.8887673629176817,1.4629420195867027,-0.8697290492235933,0.7041186624009869,2.2787105968099186,-0.6719568104744766,1.5008672928070275,0.8916534726836076,0.34273802958541766,-0.15562415135930815,-0.6550811919299239,1.1428124102932224,0.03409777252625565,2.504284355186978,-0.19164274036642848,1.899465898860514,1.2650752163646082],\"xaxis\":\"x8\",\"y\":[-1.3637774842815413,0.353952675325184,0.21353536078393018,0.6699142800774748,-0.574120137178779,0.22137996731266077,0.1842868499658055,-0.5631842115771228,0.026902270886982552,1.6135586059124316,-0.24141231977133087,0.3589101422836867,0.5151474823005724,-0.8065719473373799,2.655984963239379,1.7676102880648454,0.536666074694593,1.7113497148684713,1.2103329781689967,0.2892831050976094,0.5536184590916052,-0.9080764903832801,1.3117010182803681,0.9496623261887203,2.1578662968217746,-2.2866991271331054,0.46502055933437225,0.3007190779204101,0.21565361054157617,0.7297651175587392,1.2110715854901988,-0.4313639363120854,0.3186649273727466,0.8610791269604751,-0.3520093584334649,-0.18440102023666888,0.20663158797414072,-1.2482030602991123,-0.15252849941252594,-0.6280150064398252,1.6384377692523178,-0.9686158825072473,1.523254680641849,-0.43324496175475813,0.17683089883614178,1.3437492789374694,0.7922225736517898,0.37848642017699863,1.944114142362021,-1.1989544380354518,0.9270998914726263,0.21227650911028123,1.6141779405665395,0.7559046937544706,1.3126072045227353,-0.33678296009720143,0.29379536995738714,-0.814197978560749,0.035366931482711854,-1.7283954579795704,0.21158915830886985,1.0445162035800992,-0.8675878384458665,-0.39509555817917685,0.39641202034336487,0.34138447652912884,-1.5794190042582488,1.6361047889920284,0.10099997488030328,1.380339719163687,-0.1942889589590072,0.030121399759899314,-0.22129904013345408,0.5198780246561374,0.718822922695734,-1.0378545103964494,0.5094549811222295,0.9981651911086201,-0.3052056534959569,-1.0367418993908588,0.8114795684472617,-1.984381866446984,-0.7176887974181332,0.2326928856538649,-0.06287311871688153,0.3424467162006518,-0.7303309346947787,-0.7732572902361802,0.017804708943345644,2.2215543781141633,-0.4078351257654741,-0.029488329916561636,0.3382837144894597,-1.7290701278444445,-1.7183982409460457,0.6898709280559027,-1.2171663269029787,-0.5932799090423962,-0.409927639782033,1.1406913323954189],\"yaxis\":\"y8\",\"type\":\"scatter\"},{\"line\":{\"color\":\"rgba(128, 128, 128, 1.0)\",\"dash\":\"solid\",\"shape\":\"linear\",\"width\":1.3},\"marker\":{\"size\":2,\"symbol\":\"circle\"},\"mode\":\"markers\",\"name\":\"C\",\"text\":\"\",\"x\":[1.0972199573688461,-0.8556300900285553,0.126238097867567,-0.8282204270169976,0.8560873352556525,0.5619925804799691,2.167754242657729,0.8685971008748656,-1.9289937198025082,0.5437032363502787,-0.9574925223199207,-0.24911605946206627,1.5931382742156124,1.295876030061057,-0.3059339088046586,-2.5137835517098113,-0.1843257337369107,-0.11925588099121849,0.040977527180113854,0.591519333167522,-1.9133114776397937,-0.4234397600642683,-0.37323357463192774,0.39736404172278844,-1.0687353713516132,-2.1137134499842243,0.026616150448040582,0.03207548264493021,2.2350858795361037,0.3865150785553918,-0.2765508952638007,-0.9742483462536244,-0.037418091518889154,-0.6957386432796877,0.26254940779255026,-0.37061011710613984,0.1940616159399782,-0.4712706922249023,-0.7438133035929787,-0.8617817265675123,1.2274765825622858,-2.1162084763156,-0.39314272842603903,-0.7536802700649506,-0.2586012758153935,-0.3647937634526296,0.28374946056505923,-0.7426970053836787,0.5138603605588284,-1.1221585741415925,2.462589511258795,0.326754111891552,-1.1360152092376024,1.1009591239625762,0.5331383898979563,1.030367103510399,-1.5476307035214891,-0.14353702750924907,0.6153365014212021,0.17582305872329348,-0.1407595696306908,0.9615519820277341,-0.18273247455217942,-1.2490206473611387,-0.6843774351888924,-0.9450323644698706,-0.41593589370993106,1.6402502318965975,0.15090798894901028,-0.7602056513090112,0.16666027169541586,-0.6140555628020126,0.1224738655616952,0.0355516286140335,-0.07126787414443411,-0.47293961552623126,-0.17699554805522952,0.46179222308616014,0.9014511792772176,-1.0619107340564138,0.2431893684974666,-0.5197779549294853,-0.37792729092691474,-0.9297917791003169,0.7464411364714747,1.3135926514013567,-0.11786793920996452,-0.9006190576593024,0.3189182367226934,-0.6013694007427746,0.6392332214332836,-0.41007665963566364,-0.44084763227914775,0.026668559790025716,0.7551911700826331,1.2784426404091564,1.9525932355403217,1.4083554324392453,-0.04995379723171119,-0.8870695309281038],\"xaxis\":\"x9\",\"y\":[1.7441444268444621,-1.3571809582949532,-0.5997803803184673,0.5136575022216522,-0.2838279646933433,0.36791853405653707,-0.8301022377992087,-1.839793469893,-0.7066247079268967,0.8801286868007496,2.3321073682831206,1.2817107032896797,-0.3336674844381158,0.9640589507222928,1.1174560065410974,0.13742478008949918,0.422611403168731,-2.02126224568225,0.3725032072100424,0.6375837045563109,0.48409137155102644,-1.3188893337688938,1.0351008668977895,-0.1078610714437173,-1.0714872756406661,0.36299985911785887,-0.2663598281959314,-0.13936621226773235,1.5634508491681254,0.11722009064520982,-0.6311174905821366,1.0176053134414236,0.1930356053045629,-0.6452265018090639,1.212576031273781,-0.41756275368521373,-0.05084938082231021,1.3689341937764048,0.6937624179644558,-1.1079621913633733,1.524803992919876,0.5498480902392452,1.921727117885748,0.9737348902866186,0.30741346156809546,0.2766375646427449,-1.6482611307797688,-0.3263070889295888,1.0878737098420215,-0.765017935436571,0.09908709624767846,1.075132096831975,0.32591691894492913,-0.9505559412638134,0.8518786843713807,2.0053245315642743,0.0064170006344238095,1.3877408380309788,-1.159928103058354,0.37458153522549786,0.14556569596995914,-0.9225375411594947,0.2732011044440375,1.00563474086416,-1.8036431451086403,-0.6841874227735335,0.5306868618779714,-2.1828529498193343,-0.40306005109868626,1.3315620367452865,-0.5852132025838219,-1.0812359396637476,-0.19156909840427944,-0.016256672670362064,0.41094406123749944,0.25312201160334846,-0.8628860743124456,0.060058552317430486,-0.17463669980882854,0.563579278564023,0.7207705370182675,-1.9768846335355195,1.0498202378486199,-0.07676005165937246,0.11622186861272342,1.3522798146343886,0.3066726347961337,-0.016262251887249665,2.5582467326198266,-0.4100318259422234,1.2012186250185024,-0.4848897360002726,0.0656295218447803,0.9754947681988773,0.47253300044969765,-0.12573270430543682,0.15288422279365216,-0.05940658101056851,-0.7751888302513141,1.8816948506046864],\"yaxis\":\"y9\",\"type\":\"scatter\"},{\"line\":{\"color\":\"rgba(128, 128, 128, 1.0)\",\"dash\":\"solid\",\"shape\":\"linear\",\"width\":1.3},\"marker\":{\"size\":2,\"symbol\":\"circle\"},\"mode\":\"markers\",\"name\":\"C\",\"text\":\"\",\"x\":[-1.3637774842815413,0.353952675325184,0.21353536078393018,0.6699142800774748,-0.574120137178779,0.22137996731266077,0.1842868499658055,-0.5631842115771228,0.026902270886982552,1.6135586059124316,-0.24141231977133087,0.3589101422836867,0.5151474823005724,-0.8065719473373799,2.655984963239379,1.7676102880648454,0.536666074694593,1.7113497148684713,1.2103329781689967,0.2892831050976094,0.5536184590916052,-0.9080764903832801,1.3117010182803681,0.9496623261887203,2.1578662968217746,-2.2866991271331054,0.46502055933437225,0.3007190779204101,0.21565361054157617,0.7297651175587392,1.2110715854901988,-0.4313639363120854,0.3186649273727466,0.8610791269604751,-0.3520093584334649,-0.18440102023666888,0.20663158797414072,-1.2482030602991123,-0.15252849941252594,-0.6280150064398252,1.6384377692523178,-0.9686158825072473,1.523254680641849,-0.43324496175475813,0.17683089883614178,1.3437492789374694,0.7922225736517898,0.37848642017699863,1.944114142362021,-1.1989544380354518,0.9270998914726263,0.21227650911028123,1.6141779405665395,0.7559046937544706,1.3126072045227353,-0.33678296009720143,0.29379536995738714,-0.814197978560749,0.035366931482711854,-1.7283954579795704,0.21158915830886985,1.0445162035800992,-0.8675878384458665,-0.39509555817917685,0.39641202034336487,0.34138447652912884,-1.5794190042582488,1.6361047889920284,0.10099997488030328,1.380339719163687,-0.1942889589590072,0.030121399759899314,-0.22129904013345408,0.5198780246561374,0.718822922695734,-1.0378545103964494,0.5094549811222295,0.9981651911086201,-0.3052056534959569,-1.0367418993908588,0.8114795684472617,-1.984381866446984,-0.7176887974181332,0.2326928856538649,-0.06287311871688153,0.3424467162006518,-0.7303309346947787,-0.7732572902361802,0.017804708943345644,2.2215543781141633,-0.4078351257654741,-0.029488329916561636,0.3382837144894597,-1.7290701278444445,-1.7183982409460457,0.6898709280559027,-1.2171663269029787,-0.5932799090423962,-0.409927639782033,1.1406913323954189],\"xaxis\":\"x10\",\"y\":[1.7441444268444621,-1.3571809582949532,-0.5997803803184673,0.5136575022216522,-0.2838279646933433,0.36791853405653707,-0.8301022377992087,-1.839793469893,-0.7066247079268967,0.8801286868007496,2.3321073682831206,1.2817107032896797,-0.3336674844381158,0.9640589507222928,1.1174560065410974,0.13742478008949918,0.422611403168731,-2.02126224568225,0.3725032072100424,0.6375837045563109,0.48409137155102644,-1.3188893337688938,1.0351008668977895,-0.1078610714437173,-1.0714872756406661,0.36299985911785887,-0.2663598281959314,-0.13936621226773235,1.5634508491681254,0.11722009064520982,-0.6311174905821366,1.0176053134414236,0.1930356053045629,-0.6452265018090639,1.212576031273781,-0.41756275368521373,-0.05084938082231021,1.3689341937764048,0.6937624179644558,-1.1079621913633733,1.524803992919876,0.5498480902392452,1.921727117885748,0.9737348902866186,0.30741346156809546,0.2766375646427449,-1.6482611307797688,-0.3263070889295888,1.0878737098420215,-0.765017935436571,0.09908709624767846,1.075132096831975,0.32591691894492913,-0.9505559412638134,0.8518786843713807,2.0053245315642743,0.0064170006344238095,1.3877408380309788,-1.159928103058354,0.37458153522549786,0.14556569596995914,-0.9225375411594947,0.2732011044440375,1.00563474086416,-1.8036431451086403,-0.6841874227735335,0.5306868618779714,-2.1828529498193343,-0.40306005109868626,1.3315620367452865,-0.5852132025838219,-1.0812359396637476,-0.19156909840427944,-0.016256672670362064,0.41094406123749944,0.25312201160334846,-0.8628860743124456,0.060058552317430486,-0.17463669980882854,0.563579278564023,0.7207705370182675,-1.9768846335355195,1.0498202378486199,-0.07676005165937246,0.11622186861272342,1.3522798146343886,0.3066726347961337,-0.016262251887249665,2.5582467326198266,-0.4100318259422234,1.2012186250185024,-0.4848897360002726,0.0656295218447803,0.9754947681988773,0.47253300044969765,-0.12573270430543682,0.15288422279365216,-0.05940658101056851,-0.7751888302513141,1.8816948506046864],\"yaxis\":\"y10\",\"type\":\"scatter\"},{\"histfunc\":\"count\",\"histnorm\":\"\",\"marker\":{\"color\":\"rgba(50, 171, 96, 1.0)\",\"line\":{\"color\":\"#4D5663\",\"width\":1.3}},\"name\":\"C\",\"nbinsx\":10,\"opacity\":0.8,\"orientation\":\"v\",\"x\":[1.7441444268444621,-1.3571809582949532,-0.5997803803184673,0.5136575022216522,-0.2838279646933433,0.36791853405653707,-0.8301022377992087,-1.839793469893,-0.7066247079268967,0.8801286868007496,2.3321073682831206,1.2817107032896797,-0.3336674844381158,0.9640589507222928,1.1174560065410974,0.13742478008949918,0.422611403168731,-2.02126224568225,0.3725032072100424,0.6375837045563109,0.48409137155102644,-1.3188893337688938,1.0351008668977895,-0.1078610714437173,-1.0714872756406661,0.36299985911785887,-0.2663598281959314,-0.13936621226773235,1.5634508491681254,0.11722009064520982,-0.6311174905821366,1.0176053134414236,0.1930356053045629,-0.6452265018090639,1.212576031273781,-0.41756275368521373,-0.05084938082231021,1.3689341937764048,0.6937624179644558,-1.1079621913633733,1.524803992919876,0.5498480902392452,1.921727117885748,0.9737348902866186,0.30741346156809546,0.2766375646427449,-1.6482611307797688,-0.3263070889295888,1.0878737098420215,-0.765017935436571,0.09908709624767846,1.075132096831975,0.32591691894492913,-0.9505559412638134,0.8518786843713807,2.0053245315642743,0.0064170006344238095,1.3877408380309788,-1.159928103058354,0.37458153522549786,0.14556569596995914,-0.9225375411594947,0.2732011044440375,1.00563474086416,-1.8036431451086403,-0.6841874227735335,0.5306868618779714,-2.1828529498193343,-0.40306005109868626,1.3315620367452865,-0.5852132025838219,-1.0812359396637476,-0.19156909840427944,-0.016256672670362064,0.41094406123749944,0.25312201160334846,-0.8628860743124456,0.060058552317430486,-0.17463669980882854,0.563579278564023,0.7207705370182675,-1.9768846335355195,1.0498202378486199,-0.07676005165937246,0.11622186861272342,1.3522798146343886,0.3066726347961337,-0.016262251887249665,2.5582467326198266,-0.4100318259422234,1.2012186250185024,-0.4848897360002726,0.0656295218447803,0.9754947681988773,0.47253300044969765,-0.12573270430543682,0.15288422279365216,-0.05940658101056851,-0.7751888302513141,1.8816948506046864],\"xaxis\":\"x11\",\"yaxis\":\"y11\",\"type\":\"histogram\"},{\"line\":{\"color\":\"rgba(128, 128, 128, 1.0)\",\"dash\":\"solid\",\"shape\":\"linear\",\"width\":1.3},\"marker\":{\"size\":2,\"symbol\":\"circle\"},\"mode\":\"markers\",\"name\":\"C\",\"text\":\"\",\"x\":[0.288073644622906,-0.6196480294379495,0.4352912178986984,1.3858483000443054,-0.12967783089136828,0.25901940507108606,-0.15369446045114837,0.7022791049065268,0.25003367642911445,0.6423040484592956,-0.06515752085004241,-0.2428497626437784,3.017296437956513,-0.2873600024607329,0.7858449713650546,-0.2527239645512696,-1.0706166628771294,1.30301604833422,-0.6035874827134198,-0.08194565023611032,-0.7434120074720523,-0.622350129771808,0.25224914913165547,-0.40271633351280484,-0.6401774801595804,-1.5488484085800065,0.11473011687590177,-0.20835998436792869,0.03060385876344897,-0.6195768008460987,1.0367646544705695,0.6863266604025321,0.27869920937452786,0.3139776946948659,-0.4275409048884473,0.6114339959922276,-0.041968596690567184,0.29870089152331825,-0.7633953281817364,0.7174993318718507,-1.2831130795055063,1.3745239986080247,0.13375071683693568,0.27039092883369986,-1.7047901060150608,0.2703024515670794,-0.24802671571485174,-0.505782056400116,0.9042068737244287,-0.706912859024362,-1.154218503943458,0.7209859769209502,-0.4994228090441744,0.7668114269013349,-0.46177981263883,-0.030700677042771234,-0.3219389644258767,-0.9760524729894123,0.22272923363405842,-0.03821262707650034,0.03602664326105428,-1.7686308352616142,0.3349026690553228,1.1045955353888688,-1.0694638326577615,0.8417559558881049,-0.3065524737142244,-1.2261442399978455,-0.25912865005178964,0.8031747205194517,1.5230957745817966,-0.27939989540503624,0.49483465178498076,-0.07236550494013297,-0.6251070562374017,0.4832219323713606,1.8981437362531792,-0.5312073144789279,0.6745558314731132,-0.7156297556397487,-0.5259849913047434,0.12817459979566342,0.25976296024330936,-0.8887673629176817,1.4629420195867027,-0.8697290492235933,0.7041186624009869,2.2787105968099186,-0.6719568104744766,1.5008672928070275,0.8916534726836076,0.34273802958541766,-0.15562415135930815,-0.6550811919299239,1.1428124102932224,0.03409777252625565,2.504284355186978,-0.19164274036642848,1.899465898860514,1.2650752163646082],\"xaxis\":\"x12\",\"y\":[1.7441444268444621,-1.3571809582949532,-0.5997803803184673,0.5136575022216522,-0.2838279646933433,0.36791853405653707,-0.8301022377992087,-1.839793469893,-0.7066247079268967,0.8801286868007496,2.3321073682831206,1.2817107032896797,-0.3336674844381158,0.9640589507222928,1.1174560065410974,0.13742478008949918,0.422611403168731,-2.02126224568225,0.3725032072100424,0.6375837045563109,0.48409137155102644,-1.3188893337688938,1.0351008668977895,-0.1078610714437173,-1.0714872756406661,0.36299985911785887,-0.2663598281959314,-0.13936621226773235,1.5634508491681254,0.11722009064520982,-0.6311174905821366,1.0176053134414236,0.1930356053045629,-0.6452265018090639,1.212576031273781,-0.41756275368521373,-0.05084938082231021,1.3689341937764048,0.6937624179644558,-1.1079621913633733,1.524803992919876,0.5498480902392452,1.921727117885748,0.9737348902866186,0.30741346156809546,0.2766375646427449,-1.6482611307797688,-0.3263070889295888,1.0878737098420215,-0.765017935436571,0.09908709624767846,1.075132096831975,0.32591691894492913,-0.9505559412638134,0.8518786843713807,2.0053245315642743,0.0064170006344238095,1.3877408380309788,-1.159928103058354,0.37458153522549786,0.14556569596995914,-0.9225375411594947,0.2732011044440375,1.00563474086416,-1.8036431451086403,-0.6841874227735335,0.5306868618779714,-2.1828529498193343,-0.40306005109868626,1.3315620367452865,-0.5852132025838219,-1.0812359396637476,-0.19156909840427944,-0.016256672670362064,0.41094406123749944,0.25312201160334846,-0.8628860743124456,0.060058552317430486,-0.17463669980882854,0.563579278564023,0.7207705370182675,-1.9768846335355195,1.0498202378486199,-0.07676005165937246,0.11622186861272342,1.3522798146343886,0.3066726347961337,-0.016262251887249665,2.5582467326198266,-0.4100318259422234,1.2012186250185024,-0.4848897360002726,0.0656295218447803,0.9754947681988773,0.47253300044969765,-0.12573270430543682,0.15288422279365216,-0.05940658101056851,-0.7751888302513141,1.8816948506046864],\"yaxis\":\"y12\",\"type\":\"scatter\"},{\"line\":{\"color\":\"rgba(128, 128, 128, 1.0)\",\"dash\":\"solid\",\"shape\":\"linear\",\"width\":1.3},\"marker\":{\"size\":2,\"symbol\":\"circle\"},\"mode\":\"markers\",\"name\":\"D\",\"text\":\"\",\"x\":[1.0972199573688461,-0.8556300900285553,0.126238097867567,-0.8282204270169976,0.8560873352556525,0.5619925804799691,2.167754242657729,0.8685971008748656,-1.9289937198025082,0.5437032363502787,-0.9574925223199207,-0.24911605946206627,1.5931382742156124,1.295876030061057,-0.3059339088046586,-2.5137835517098113,-0.1843257337369107,-0.11925588099121849,0.040977527180113854,0.591519333167522,-1.9133114776397937,-0.4234397600642683,-0.37323357463192774,0.39736404172278844,-1.0687353713516132,-2.1137134499842243,0.026616150448040582,0.03207548264493021,2.2350858795361037,0.3865150785553918,-0.2765508952638007,-0.9742483462536244,-0.037418091518889154,-0.6957386432796877,0.26254940779255026,-0.37061011710613984,0.1940616159399782,-0.4712706922249023,-0.7438133035929787,-0.8617817265675123,1.2274765825622858,-2.1162084763156,-0.39314272842603903,-0.7536802700649506,-0.2586012758153935,-0.3647937634526296,0.28374946056505923,-0.7426970053836787,0.5138603605588284,-1.1221585741415925,2.462589511258795,0.326754111891552,-1.1360152092376024,1.1009591239625762,0.5331383898979563,1.030367103510399,-1.5476307035214891,-0.14353702750924907,0.6153365014212021,0.17582305872329348,-0.1407595696306908,0.9615519820277341,-0.18273247455217942,-1.2490206473611387,-0.6843774351888924,-0.9450323644698706,-0.41593589370993106,1.6402502318965975,0.15090798894901028,-0.7602056513090112,0.16666027169541586,-0.6140555628020126,0.1224738655616952,0.0355516286140335,-0.07126787414443411,-0.47293961552623126,-0.17699554805522952,0.46179222308616014,0.9014511792772176,-1.0619107340564138,0.2431893684974666,-0.5197779549294853,-0.37792729092691474,-0.9297917791003169,0.7464411364714747,1.3135926514013567,-0.11786793920996452,-0.9006190576593024,0.3189182367226934,-0.6013694007427746,0.6392332214332836,-0.41007665963566364,-0.44084763227914775,0.026668559790025716,0.7551911700826331,1.2784426404091564,1.9525932355403217,1.4083554324392453,-0.04995379723171119,-0.8870695309281038],\"xaxis\":\"x13\",\"y\":[0.288073644622906,-0.6196480294379495,0.4352912178986984,1.3858483000443054,-0.12967783089136828,0.25901940507108606,-0.15369446045114837,0.7022791049065268,0.25003367642911445,0.6423040484592956,-0.06515752085004241,-0.2428497626437784,3.017296437956513,-0.2873600024607329,0.7858449713650546,-0.2527239645512696,-1.0706166628771294,1.30301604833422,-0.6035874827134198,-0.08194565023611032,-0.7434120074720523,-0.622350129771808,0.25224914913165547,-0.40271633351280484,-0.6401774801595804,-1.5488484085800065,0.11473011687590177,-0.20835998436792869,0.03060385876344897,-0.6195768008460987,1.0367646544705695,0.6863266604025321,0.27869920937452786,0.3139776946948659,-0.4275409048884473,0.6114339959922276,-0.041968596690567184,0.29870089152331825,-0.7633953281817364,0.7174993318718507,-1.2831130795055063,1.3745239986080247,0.13375071683693568,0.27039092883369986,-1.7047901060150608,0.2703024515670794,-0.24802671571485174,-0.505782056400116,0.9042068737244287,-0.706912859024362,-1.154218503943458,0.7209859769209502,-0.4994228090441744,0.7668114269013349,-0.46177981263883,-0.030700677042771234,-0.3219389644258767,-0.9760524729894123,0.22272923363405842,-0.03821262707650034,0.03602664326105428,-1.7686308352616142,0.3349026690553228,1.1045955353888688,-1.0694638326577615,0.8417559558881049,-0.3065524737142244,-1.2261442399978455,-0.25912865005178964,0.8031747205194517,1.5230957745817966,-0.27939989540503624,0.49483465178498076,-0.07236550494013297,-0.6251070562374017,0.4832219323713606,1.8981437362531792,-0.5312073144789279,0.6745558314731132,-0.7156297556397487,-0.5259849913047434,0.12817459979566342,0.25976296024330936,-0.8887673629176817,1.4629420195867027,-0.8697290492235933,0.7041186624009869,2.2787105968099186,-0.6719568104744766,1.5008672928070275,0.8916534726836076,0.34273802958541766,-0.15562415135930815,-0.6550811919299239,1.1428124102932224,0.03409777252625565,2.504284355186978,-0.19164274036642848,1.899465898860514,1.2650752163646082],\"yaxis\":\"y13\",\"type\":\"scatter\"},{\"line\":{\"color\":\"rgba(128, 128, 128, 1.0)\",\"dash\":\"solid\",\"shape\":\"linear\",\"width\":1.3},\"marker\":{\"size\":2,\"symbol\":\"circle\"},\"mode\":\"markers\",\"name\":\"D\",\"text\":\"\",\"x\":[-1.3637774842815413,0.353952675325184,0.21353536078393018,0.6699142800774748,-0.574120137178779,0.22137996731266077,0.1842868499658055,-0.5631842115771228,0.026902270886982552,1.6135586059124316,-0.24141231977133087,0.3589101422836867,0.5151474823005724,-0.8065719473373799,2.655984963239379,1.7676102880648454,0.536666074694593,1.7113497148684713,1.2103329781689967,0.2892831050976094,0.5536184590916052,-0.9080764903832801,1.3117010182803681,0.9496623261887203,2.1578662968217746,-2.2866991271331054,0.46502055933437225,0.3007190779204101,0.21565361054157617,0.7297651175587392,1.2110715854901988,-0.4313639363120854,0.3186649273727466,0.8610791269604751,-0.3520093584334649,-0.18440102023666888,0.20663158797414072,-1.2482030602991123,-0.15252849941252594,-0.6280150064398252,1.6384377692523178,-0.9686158825072473,1.523254680641849,-0.43324496175475813,0.17683089883614178,1.3437492789374694,0.7922225736517898,0.37848642017699863,1.944114142362021,-1.1989544380354518,0.9270998914726263,0.21227650911028123,1.6141779405665395,0.7559046937544706,1.3126072045227353,-0.33678296009720143,0.29379536995738714,-0.814197978560749,0.035366931482711854,-1.7283954579795704,0.21158915830886985,1.0445162035800992,-0.8675878384458665,-0.39509555817917685,0.39641202034336487,0.34138447652912884,-1.5794190042582488,1.6361047889920284,0.10099997488030328,1.380339719163687,-0.1942889589590072,0.030121399759899314,-0.22129904013345408,0.5198780246561374,0.718822922695734,-1.0378545103964494,0.5094549811222295,0.9981651911086201,-0.3052056534959569,-1.0367418993908588,0.8114795684472617,-1.984381866446984,-0.7176887974181332,0.2326928856538649,-0.06287311871688153,0.3424467162006518,-0.7303309346947787,-0.7732572902361802,0.017804708943345644,2.2215543781141633,-0.4078351257654741,-0.029488329916561636,0.3382837144894597,-1.7290701278444445,-1.7183982409460457,0.6898709280559027,-1.2171663269029787,-0.5932799090423962,-0.409927639782033,1.1406913323954189],\"xaxis\":\"x14\",\"y\":[0.288073644622906,-0.6196480294379495,0.4352912178986984,1.3858483000443054,-0.12967783089136828,0.25901940507108606,-0.15369446045114837,0.7022791049065268,0.25003367642911445,0.6423040484592956,-0.06515752085004241,-0.2428497626437784,3.017296437956513,-0.2873600024607329,0.7858449713650546,-0.2527239645512696,-1.0706166628771294,1.30301604833422,-0.6035874827134198,-0.08194565023611032,-0.7434120074720523,-0.622350129771808,0.25224914913165547,-0.40271633351280484,-0.6401774801595804,-1.5488484085800065,0.11473011687590177,-0.20835998436792869,0.03060385876344897,-0.6195768008460987,1.0367646544705695,0.6863266604025321,0.27869920937452786,0.3139776946948659,-0.4275409048884473,0.6114339959922276,-0.041968596690567184,0.29870089152331825,-0.7633953281817364,0.7174993318718507,-1.2831130795055063,1.3745239986080247,0.13375071683693568,0.27039092883369986,-1.7047901060150608,0.2703024515670794,-0.24802671571485174,-0.505782056400116,0.9042068737244287,-0.706912859024362,-1.154218503943458,0.7209859769209502,-0.4994228090441744,0.7668114269013349,-0.46177981263883,-0.030700677042771234,-0.3219389644258767,-0.9760524729894123,0.22272923363405842,-0.03821262707650034,0.03602664326105428,-1.7686308352616142,0.3349026690553228,1.1045955353888688,-1.0694638326577615,0.8417559558881049,-0.3065524737142244,-1.2261442399978455,-0.25912865005178964,0.8031747205194517,1.5230957745817966,-0.27939989540503624,0.49483465178498076,-0.07236550494013297,-0.6251070562374017,0.4832219323713606,1.8981437362531792,-0.5312073144789279,0.6745558314731132,-0.7156297556397487,-0.5259849913047434,0.12817459979566342,0.25976296024330936,-0.8887673629176817,1.4629420195867027,-0.8697290492235933,0.7041186624009869,2.2787105968099186,-0.6719568104744766,1.5008672928070275,0.8916534726836076,0.34273802958541766,-0.15562415135930815,-0.6550811919299239,1.1428124102932224,0.03409777252625565,2.504284355186978,-0.19164274036642848,1.899465898860514,1.2650752163646082],\"yaxis\":\"y14\",\"type\":\"scatter\"},{\"line\":{\"color\":\"rgba(128, 128, 128, 1.0)\",\"dash\":\"solid\",\"shape\":\"linear\",\"width\":1.3},\"marker\":{\"size\":2,\"symbol\":\"circle\"},\"mode\":\"markers\",\"name\":\"D\",\"text\":\"\",\"x\":[1.7441444268444621,-1.3571809582949532,-0.5997803803184673,0.5136575022216522,-0.2838279646933433,0.36791853405653707,-0.8301022377992087,-1.839793469893,-0.7066247079268967,0.8801286868007496,2.3321073682831206,1.2817107032896797,-0.3336674844381158,0.9640589507222928,1.1174560065410974,0.13742478008949918,0.422611403168731,-2.02126224568225,0.3725032072100424,0.6375837045563109,0.48409137155102644,-1.3188893337688938,1.0351008668977895,-0.1078610714437173,-1.0714872756406661,0.36299985911785887,-0.2663598281959314,-0.13936621226773235,1.5634508491681254,0.11722009064520982,-0.6311174905821366,1.0176053134414236,0.1930356053045629,-0.6452265018090639,1.212576031273781,-0.41756275368521373,-0.05084938082231021,1.3689341937764048,0.6937624179644558,-1.1079621913633733,1.524803992919876,0.5498480902392452,1.921727117885748,0.9737348902866186,0.30741346156809546,0.2766375646427449,-1.6482611307797688,-0.3263070889295888,1.0878737098420215,-0.765017935436571,0.09908709624767846,1.075132096831975,0.32591691894492913,-0.9505559412638134,0.8518786843713807,2.0053245315642743,0.0064170006344238095,1.3877408380309788,-1.159928103058354,0.37458153522549786,0.14556569596995914,-0.9225375411594947,0.2732011044440375,1.00563474086416,-1.8036431451086403,-0.6841874227735335,0.5306868618779714,-2.1828529498193343,-0.40306005109868626,1.3315620367452865,-0.5852132025838219,-1.0812359396637476,-0.19156909840427944,-0.016256672670362064,0.41094406123749944,0.25312201160334846,-0.8628860743124456,0.060058552317430486,-0.17463669980882854,0.563579278564023,0.7207705370182675,-1.9768846335355195,1.0498202378486199,-0.07676005165937246,0.11622186861272342,1.3522798146343886,0.3066726347961337,-0.016262251887249665,2.5582467326198266,-0.4100318259422234,1.2012186250185024,-0.4848897360002726,0.0656295218447803,0.9754947681988773,0.47253300044969765,-0.12573270430543682,0.15288422279365216,-0.05940658101056851,-0.7751888302513141,1.8816948506046864],\"xaxis\":\"x15\",\"y\":[0.288073644622906,-0.6196480294379495,0.4352912178986984,1.3858483000443054,-0.12967783089136828,0.25901940507108606,-0.15369446045114837,0.7022791049065268,0.25003367642911445,0.6423040484592956,-0.06515752085004241,-0.2428497626437784,3.017296437956513,-0.2873600024607329,0.7858449713650546,-0.2527239645512696,-1.0706166628771294,1.30301604833422,-0.6035874827134198,-0.08194565023611032,-0.7434120074720523,-0.622350129771808,0.25224914913165547,-0.40271633351280484,-0.6401774801595804,-1.5488484085800065,0.11473011687590177,-0.20835998436792869,0.03060385876344897,-0.6195768008460987,1.0367646544705695,0.6863266604025321,0.27869920937452786,0.3139776946948659,-0.4275409048884473,0.6114339959922276,-0.041968596690567184,0.29870089152331825,-0.7633953281817364,0.7174993318718507,-1.2831130795055063,1.3745239986080247,0.13375071683693568,0.27039092883369986,-1.7047901060150608,0.2703024515670794,-0.24802671571485174,-0.505782056400116,0.9042068737244287,-0.706912859024362,-1.154218503943458,0.7209859769209502,-0.4994228090441744,0.7668114269013349,-0.46177981263883,-0.030700677042771234,-0.3219389644258767,-0.9760524729894123,0.22272923363405842,-0.03821262707650034,0.03602664326105428,-1.7686308352616142,0.3349026690553228,1.1045955353888688,-1.0694638326577615,0.8417559558881049,-0.3065524737142244,-1.2261442399978455,-0.25912865005178964,0.8031747205194517,1.5230957745817966,-0.27939989540503624,0.49483465178498076,-0.07236550494013297,-0.6251070562374017,0.4832219323713606,1.8981437362531792,-0.5312073144789279,0.6745558314731132,-0.7156297556397487,-0.5259849913047434,0.12817459979566342,0.25976296024330936,-0.8887673629176817,1.4629420195867027,-0.8697290492235933,0.7041186624009869,2.2787105968099186,-0.6719568104744766,1.5008672928070275,0.8916534726836076,0.34273802958541766,-0.15562415135930815,-0.6550811919299239,1.1428124102932224,0.03409777252625565,2.504284355186978,-0.19164274036642848,1.899465898860514,1.2650752163646082],\"yaxis\":\"y15\",\"type\":\"scatter\"},{\"histfunc\":\"count\",\"histnorm\":\"\",\"marker\":{\"color\":\"rgba(128, 0, 128, 1.0)\",\"line\":{\"color\":\"#4D5663\",\"width\":1.3}},\"name\":\"D\",\"nbinsx\":10,\"opacity\":0.8,\"orientation\":\"v\",\"x\":[0.288073644622906,-0.6196480294379495,0.4352912178986984,1.3858483000443054,-0.12967783089136828,0.25901940507108606,-0.15369446045114837,0.7022791049065268,0.25003367642911445,0.6423040484592956,-0.06515752085004241,-0.2428497626437784,3.017296437956513,-0.2873600024607329,0.7858449713650546,-0.2527239645512696,-1.0706166628771294,1.30301604833422,-0.6035874827134198,-0.08194565023611032,-0.7434120074720523,-0.622350129771808,0.25224914913165547,-0.40271633351280484,-0.6401774801595804,-1.5488484085800065,0.11473011687590177,-0.20835998436792869,0.03060385876344897,-0.6195768008460987,1.0367646544705695,0.6863266604025321,0.27869920937452786,0.3139776946948659,-0.4275409048884473,0.6114339959922276,-0.041968596690567184,0.29870089152331825,-0.7633953281817364,0.7174993318718507,-1.2831130795055063,1.3745239986080247,0.13375071683693568,0.27039092883369986,-1.7047901060150608,0.2703024515670794,-0.24802671571485174,-0.505782056400116,0.9042068737244287,-0.706912859024362,-1.154218503943458,0.7209859769209502,-0.4994228090441744,0.7668114269013349,-0.46177981263883,-0.030700677042771234,-0.3219389644258767,-0.9760524729894123,0.22272923363405842,-0.03821262707650034,0.03602664326105428,-1.7686308352616142,0.3349026690553228,1.1045955353888688,-1.0694638326577615,0.8417559558881049,-0.3065524737142244,-1.2261442399978455,-0.25912865005178964,0.8031747205194517,1.5230957745817966,-0.27939989540503624,0.49483465178498076,-0.07236550494013297,-0.6251070562374017,0.4832219323713606,1.8981437362531792,-0.5312073144789279,0.6745558314731132,-0.7156297556397487,-0.5259849913047434,0.12817459979566342,0.25976296024330936,-0.8887673629176817,1.4629420195867027,-0.8697290492235933,0.7041186624009869,2.2787105968099186,-0.6719568104744766,1.5008672928070275,0.8916534726836076,0.34273802958541766,-0.15562415135930815,-0.6550811919299239,1.1428124102932224,0.03409777252625565,2.504284355186978,-0.19164274036642848,1.899465898860514,1.2650752163646082],\"xaxis\":\"x16\",\"yaxis\":\"y16\",\"type\":\"histogram\"}],                        {\"bargap\":0.02,\"legend\":{\"bgcolor\":\"#F5F6F9\",\"font\":{\"color\":\"#4D5663\"}},\"paper_bgcolor\":\"#F5F6F9\",\"plot_bgcolor\":\"#F5F6F9\",\"showlegend\":false,\"template\":{\"data\":{\"barpolar\":[{\"marker\":{\"line\":{\"color\":\"#E5ECF6\",\"width\":0.5},\"pattern\":{\"fillmode\":\"overlay\",\"size\":10,\"solidity\":0.2}},\"type\":\"barpolar\"}],\"bar\":[{\"error_x\":{\"color\":\"#2a3f5f\"},\"error_y\":{\"color\":\"#2a3f5f\"},\"marker\":{\"line\":{\"color\":\"#E5ECF6\",\"width\":0.5},\"pattern\":{\"fillmode\":\"overlay\",\"size\":10,\"solidity\":0.2}},\"type\":\"bar\"}],\"carpet\":[{\"aaxis\":{\"endlinecolor\":\"#2a3f5f\",\"gridcolor\":\"white\",\"linecolor\":\"white\",\"minorgridcolor\":\"white\",\"startlinecolor\":\"#2a3f5f\"},\"baxis\":{\"endlinecolor\":\"#2a3f5f\",\"gridcolor\":\"white\",\"linecolor\":\"white\",\"minorgridcolor\":\"white\",\"startlinecolor\":\"#2a3f5f\"},\"type\":\"carpet\"}],\"choropleth\":[{\"colorbar\":{\"outlinewidth\":0,\"ticks\":\"\"},\"type\":\"choropleth\"}],\"contourcarpet\":[{\"colorbar\":{\"outlinewidth\":0,\"ticks\":\"\"},\"type\":\"contourcarpet\"}],\"contour\":[{\"colorbar\":{\"outlinewidth\":0,\"ticks\":\"\"},\"colorscale\":[[0.0,\"#0d0887\"],[0.1111111111111111,\"#46039f\"],[0.2222222222222222,\"#7201a8\"],[0.3333333333333333,\"#9c179e\"],[0.4444444444444444,\"#bd3786\"],[0.5555555555555556,\"#d8576b\"],[0.6666666666666666,\"#ed7953\"],[0.7777777777777778,\"#fb9f3a\"],[0.8888888888888888,\"#fdca26\"],[1.0,\"#f0f921\"]],\"type\":\"contour\"}],\"heatmapgl\":[{\"colorbar\":{\"outlinewidth\":0,\"ticks\":\"\"},\"colorscale\":[[0.0,\"#0d0887\"],[0.1111111111111111,\"#46039f\"],[0.2222222222222222,\"#7201a8\"],[0.3333333333333333,\"#9c179e\"],[0.4444444444444444,\"#bd3786\"],[0.5555555555555556,\"#d8576b\"],[0.6666666666666666,\"#ed7953\"],[0.7777777777777778,\"#fb9f3a\"],[0.8888888888888888,\"#fdca26\"],[1.0,\"#f0f921\"]],\"type\":\"heatmapgl\"}],\"heatmap\":[{\"colorbar\":{\"outlinewidth\":0,\"ticks\":\"\"},\"colorscale\":[[0.0,\"#0d0887\"],[0.1111111111111111,\"#46039f\"],[0.2222222222222222,\"#7201a8\"],[0.3333333333333333,\"#9c179e\"],[0.4444444444444444,\"#bd3786\"],[0.5555555555555556,\"#d8576b\"],[0.6666666666666666,\"#ed7953\"],[0.7777777777777778,\"#fb9f3a\"],[0.8888888888888888,\"#fdca26\"],[1.0,\"#f0f921\"]],\"type\":\"heatmap\"}],\"histogram2dcontour\":[{\"colorbar\":{\"outlinewidth\":0,\"ticks\":\"\"},\"colorscale\":[[0.0,\"#0d0887\"],[0.1111111111111111,\"#46039f\"],[0.2222222222222222,\"#7201a8\"],[0.3333333333333333,\"#9c179e\"],[0.4444444444444444,\"#bd3786\"],[0.5555555555555556,\"#d8576b\"],[0.6666666666666666,\"#ed7953\"],[0.7777777777777778,\"#fb9f3a\"],[0.8888888888888888,\"#fdca26\"],[1.0,\"#f0f921\"]],\"type\":\"histogram2dcontour\"}],\"histogram2d\":[{\"colorbar\":{\"outlinewidth\":0,\"ticks\":\"\"},\"colorscale\":[[0.0,\"#0d0887\"],[0.1111111111111111,\"#46039f\"],[0.2222222222222222,\"#7201a8\"],[0.3333333333333333,\"#9c179e\"],[0.4444444444444444,\"#bd3786\"],[0.5555555555555556,\"#d8576b\"],[0.6666666666666666,\"#ed7953\"],[0.7777777777777778,\"#fb9f3a\"],[0.8888888888888888,\"#fdca26\"],[1.0,\"#f0f921\"]],\"type\":\"histogram2d\"}],\"histogram\":[{\"marker\":{\"pattern\":{\"fillmode\":\"overlay\",\"size\":10,\"solidity\":0.2}},\"type\":\"histogram\"}],\"mesh3d\":[{\"colorbar\":{\"outlinewidth\":0,\"ticks\":\"\"},\"type\":\"mesh3d\"}],\"parcoords\":[{\"line\":{\"colorbar\":{\"outlinewidth\":0,\"ticks\":\"\"}},\"type\":\"parcoords\"}],\"pie\":[{\"automargin\":true,\"type\":\"pie\"}],\"scatter3d\":[{\"line\":{\"colorbar\":{\"outlinewidth\":0,\"ticks\":\"\"}},\"marker\":{\"colorbar\":{\"outlinewidth\":0,\"ticks\":\"\"}},\"type\":\"scatter3d\"}],\"scattercarpet\":[{\"marker\":{\"colorbar\":{\"outlinewidth\":0,\"ticks\":\"\"}},\"type\":\"scattercarpet\"}],\"scattergeo\":[{\"marker\":{\"colorbar\":{\"outlinewidth\":0,\"ticks\":\"\"}},\"type\":\"scattergeo\"}],\"scattergl\":[{\"marker\":{\"colorbar\":{\"outlinewidth\":0,\"ticks\":\"\"}},\"type\":\"scattergl\"}],\"scattermapbox\":[{\"marker\":{\"colorbar\":{\"outlinewidth\":0,\"ticks\":\"\"}},\"type\":\"scattermapbox\"}],\"scatterpolargl\":[{\"marker\":{\"colorbar\":{\"outlinewidth\":0,\"ticks\":\"\"}},\"type\":\"scatterpolargl\"}],\"scatterpolar\":[{\"marker\":{\"colorbar\":{\"outlinewidth\":0,\"ticks\":\"\"}},\"type\":\"scatterpolar\"}],\"scatter\":[{\"fillpattern\":{\"fillmode\":\"overlay\",\"size\":10,\"solidity\":0.2},\"type\":\"scatter\"}],\"scatterternary\":[{\"marker\":{\"colorbar\":{\"outlinewidth\":0,\"ticks\":\"\"}},\"type\":\"scatterternary\"}],\"surface\":[{\"colorbar\":{\"outlinewidth\":0,\"ticks\":\"\"},\"colorscale\":[[0.0,\"#0d0887\"],[0.1111111111111111,\"#46039f\"],[0.2222222222222222,\"#7201a8\"],[0.3333333333333333,\"#9c179e\"],[0.4444444444444444,\"#bd3786\"],[0.5555555555555556,\"#d8576b\"],[0.6666666666666666,\"#ed7953\"],[0.7777777777777778,\"#fb9f3a\"],[0.8888888888888888,\"#fdca26\"],[1.0,\"#f0f921\"]],\"type\":\"surface\"}],\"table\":[{\"cells\":{\"fill\":{\"color\":\"#EBF0F8\"},\"line\":{\"color\":\"white\"}},\"header\":{\"fill\":{\"color\":\"#C8D4E3\"},\"line\":{\"color\":\"white\"}},\"type\":\"table\"}]},\"layout\":{\"annotationdefaults\":{\"arrowcolor\":\"#2a3f5f\",\"arrowhead\":0,\"arrowwidth\":1},\"autotypenumbers\":\"strict\",\"coloraxis\":{\"colorbar\":{\"outlinewidth\":0,\"ticks\":\"\"}},\"colorscale\":{\"diverging\":[[0,\"#8e0152\"],[0.1,\"#c51b7d\"],[0.2,\"#de77ae\"],[0.3,\"#f1b6da\"],[0.4,\"#fde0ef\"],[0.5,\"#f7f7f7\"],[0.6,\"#e6f5d0\"],[0.7,\"#b8e186\"],[0.8,\"#7fbc41\"],[0.9,\"#4d9221\"],[1,\"#276419\"]],\"sequential\":[[0.0,\"#0d0887\"],[0.1111111111111111,\"#46039f\"],[0.2222222222222222,\"#7201a8\"],[0.3333333333333333,\"#9c179e\"],[0.4444444444444444,\"#bd3786\"],[0.5555555555555556,\"#d8576b\"],[0.6666666666666666,\"#ed7953\"],[0.7777777777777778,\"#fb9f3a\"],[0.8888888888888888,\"#fdca26\"],[1.0,\"#f0f921\"]],\"sequentialminus\":[[0.0,\"#0d0887\"],[0.1111111111111111,\"#46039f\"],[0.2222222222222222,\"#7201a8\"],[0.3333333333333333,\"#9c179e\"],[0.4444444444444444,\"#bd3786\"],[0.5555555555555556,\"#d8576b\"],[0.6666666666666666,\"#ed7953\"],[0.7777777777777778,\"#fb9f3a\"],[0.8888888888888888,\"#fdca26\"],[1.0,\"#f0f921\"]]},\"colorway\":[\"#636efa\",\"#EF553B\",\"#00cc96\",\"#ab63fa\",\"#FFA15A\",\"#19d3f3\",\"#FF6692\",\"#B6E880\",\"#FF97FF\",\"#FECB52\"],\"font\":{\"color\":\"#2a3f5f\"},\"geo\":{\"bgcolor\":\"white\",\"lakecolor\":\"white\",\"landcolor\":\"#E5ECF6\",\"showlakes\":true,\"showland\":true,\"subunitcolor\":\"white\"},\"hoverlabel\":{\"align\":\"left\"},\"hovermode\":\"closest\",\"mapbox\":{\"style\":\"light\"},\"paper_bgcolor\":\"white\",\"plot_bgcolor\":\"#E5ECF6\",\"polar\":{\"angularaxis\":{\"gridcolor\":\"white\",\"linecolor\":\"white\",\"ticks\":\"\"},\"bgcolor\":\"#E5ECF6\",\"radialaxis\":{\"gridcolor\":\"white\",\"linecolor\":\"white\",\"ticks\":\"\"}},\"scene\":{\"xaxis\":{\"backgroundcolor\":\"#E5ECF6\",\"gridcolor\":\"white\",\"gridwidth\":2,\"linecolor\":\"white\",\"showbackground\":true,\"ticks\":\"\",\"zerolinecolor\":\"white\"},\"yaxis\":{\"backgroundcolor\":\"#E5ECF6\",\"gridcolor\":\"white\",\"gridwidth\":2,\"linecolor\":\"white\",\"showbackground\":true,\"ticks\":\"\",\"zerolinecolor\":\"white\"},\"zaxis\":{\"backgroundcolor\":\"#E5ECF6\",\"gridcolor\":\"white\",\"gridwidth\":2,\"linecolor\":\"white\",\"showbackground\":true,\"ticks\":\"\",\"zerolinecolor\":\"white\"}},\"shapedefaults\":{\"line\":{\"color\":\"#2a3f5f\"}},\"ternary\":{\"aaxis\":{\"gridcolor\":\"white\",\"linecolor\":\"white\",\"ticks\":\"\"},\"baxis\":{\"gridcolor\":\"white\",\"linecolor\":\"white\",\"ticks\":\"\"},\"bgcolor\":\"#E5ECF6\",\"caxis\":{\"gridcolor\":\"white\",\"linecolor\":\"white\",\"ticks\":\"\"}},\"title\":{\"x\":0.05},\"xaxis\":{\"automargin\":true,\"gridcolor\":\"white\",\"linecolor\":\"white\",\"ticks\":\"\",\"title\":{\"standoff\":15},\"zerolinecolor\":\"white\",\"zerolinewidth\":2},\"yaxis\":{\"automargin\":true,\"gridcolor\":\"white\",\"linecolor\":\"white\",\"ticks\":\"\",\"title\":{\"standoff\":15},\"zerolinecolor\":\"white\",\"zerolinewidth\":2}}},\"title\":{\"font\":{\"color\":\"#4D5663\"}},\"xaxis\":{\"anchor\":\"y\",\"domain\":[0.0,0.2125],\"gridcolor\":\"#E1E5ED\",\"showgrid\":false,\"tickfont\":{\"color\":\"#4D5663\"},\"title\":{\"font\":{\"color\":\"#4D5663\"},\"text\":\"\"},\"zerolinecolor\":\"#E1E5ED\"},\"yaxis\":{\"anchor\":\"x\",\"domain\":[0.8025,1.0],\"gridcolor\":\"#E1E5ED\",\"showgrid\":false,\"tickfont\":{\"color\":\"#4D5663\"},\"title\":{\"font\":{\"color\":\"#4D5663\"},\"text\":\"\"},\"zerolinecolor\":\"#E1E5ED\"},\"xaxis2\":{\"anchor\":\"y2\",\"domain\":[0.2625,0.475],\"gridcolor\":\"#E1E5ED\",\"showgrid\":false,\"tickfont\":{\"color\":\"#4D5663\"},\"title\":{\"font\":{\"color\":\"#4D5663\"},\"text\":\"\"},\"zerolinecolor\":\"#E1E5ED\"},\"yaxis2\":{\"anchor\":\"x2\",\"domain\":[0.8025,1.0],\"gridcolor\":\"#E1E5ED\",\"showgrid\":false,\"tickfont\":{\"color\":\"#4D5663\"},\"title\":{\"font\":{\"color\":\"#4D5663\"},\"text\":\"\"},\"zerolinecolor\":\"#E1E5ED\"},\"xaxis3\":{\"anchor\":\"y3\",\"domain\":[0.525,0.7375],\"gridcolor\":\"#E1E5ED\",\"showgrid\":false,\"tickfont\":{\"color\":\"#4D5663\"},\"title\":{\"font\":{\"color\":\"#4D5663\"},\"text\":\"\"},\"zerolinecolor\":\"#E1E5ED\"},\"yaxis3\":{\"anchor\":\"x3\",\"domain\":[0.8025,1.0],\"gridcolor\":\"#E1E5ED\",\"showgrid\":false,\"tickfont\":{\"color\":\"#4D5663\"},\"title\":{\"font\":{\"color\":\"#4D5663\"},\"text\":\"\"},\"zerolinecolor\":\"#E1E5ED\"},\"xaxis4\":{\"anchor\":\"y4\",\"domain\":[0.7875,1.0],\"gridcolor\":\"#E1E5ED\",\"showgrid\":false,\"tickfont\":{\"color\":\"#4D5663\"},\"title\":{\"font\":{\"color\":\"#4D5663\"},\"text\":\"\"},\"zerolinecolor\":\"#E1E5ED\"},\"yaxis4\":{\"anchor\":\"x4\",\"domain\":[0.8025,1.0],\"gridcolor\":\"#E1E5ED\",\"showgrid\":false,\"tickfont\":{\"color\":\"#4D5663\"},\"title\":{\"font\":{\"color\":\"#4D5663\"},\"text\":\"\"},\"zerolinecolor\":\"#E1E5ED\"},\"xaxis5\":{\"anchor\":\"y5\",\"domain\":[0.0,0.2125],\"gridcolor\":\"#E1E5ED\",\"showgrid\":false,\"tickfont\":{\"color\":\"#4D5663\"},\"title\":{\"font\":{\"color\":\"#4D5663\"},\"text\":\"\"},\"zerolinecolor\":\"#E1E5ED\"},\"yaxis5\":{\"anchor\":\"x5\",\"domain\":[0.535,0.7325],\"gridcolor\":\"#E1E5ED\",\"showgrid\":false,\"tickfont\":{\"color\":\"#4D5663\"},\"title\":{\"font\":{\"color\":\"#4D5663\"},\"text\":\"\"},\"zerolinecolor\":\"#E1E5ED\"},\"xaxis6\":{\"anchor\":\"y6\",\"domain\":[0.2625,0.475],\"gridcolor\":\"#E1E5ED\",\"showgrid\":false,\"tickfont\":{\"color\":\"#4D5663\"},\"title\":{\"font\":{\"color\":\"#4D5663\"},\"text\":\"\"},\"zerolinecolor\":\"#E1E5ED\"},\"yaxis6\":{\"anchor\":\"x6\",\"domain\":[0.535,0.7325],\"gridcolor\":\"#E1E5ED\",\"showgrid\":false,\"tickfont\":{\"color\":\"#4D5663\"},\"title\":{\"font\":{\"color\":\"#4D5663\"},\"text\":\"\"},\"zerolinecolor\":\"#E1E5ED\"},\"xaxis7\":{\"anchor\":\"y7\",\"domain\":[0.525,0.7375],\"gridcolor\":\"#E1E5ED\",\"showgrid\":false,\"tickfont\":{\"color\":\"#4D5663\"},\"title\":{\"font\":{\"color\":\"#4D5663\"},\"text\":\"\"},\"zerolinecolor\":\"#E1E5ED\"},\"yaxis7\":{\"anchor\":\"x7\",\"domain\":[0.535,0.7325],\"gridcolor\":\"#E1E5ED\",\"showgrid\":false,\"tickfont\":{\"color\":\"#4D5663\"},\"title\":{\"font\":{\"color\":\"#4D5663\"},\"text\":\"\"},\"zerolinecolor\":\"#E1E5ED\"},\"xaxis8\":{\"anchor\":\"y8\",\"domain\":[0.7875,1.0],\"gridcolor\":\"#E1E5ED\",\"showgrid\":false,\"tickfont\":{\"color\":\"#4D5663\"},\"title\":{\"font\":{\"color\":\"#4D5663\"},\"text\":\"\"},\"zerolinecolor\":\"#E1E5ED\"},\"yaxis8\":{\"anchor\":\"x8\",\"domain\":[0.535,0.7325],\"gridcolor\":\"#E1E5ED\",\"showgrid\":false,\"tickfont\":{\"color\":\"#4D5663\"},\"title\":{\"font\":{\"color\":\"#4D5663\"},\"text\":\"\"},\"zerolinecolor\":\"#E1E5ED\"},\"xaxis9\":{\"anchor\":\"y9\",\"domain\":[0.0,0.2125],\"gridcolor\":\"#E1E5ED\",\"showgrid\":false,\"tickfont\":{\"color\":\"#4D5663\"},\"title\":{\"font\":{\"color\":\"#4D5663\"},\"text\":\"\"},\"zerolinecolor\":\"#E1E5ED\"},\"yaxis9\":{\"anchor\":\"x9\",\"domain\":[0.2675,0.465],\"gridcolor\":\"#E1E5ED\",\"showgrid\":false,\"tickfont\":{\"color\":\"#4D5663\"},\"title\":{\"font\":{\"color\":\"#4D5663\"},\"text\":\"\"},\"zerolinecolor\":\"#E1E5ED\"},\"xaxis10\":{\"anchor\":\"y10\",\"domain\":[0.2625,0.475],\"gridcolor\":\"#E1E5ED\",\"showgrid\":false,\"tickfont\":{\"color\":\"#4D5663\"},\"title\":{\"font\":{\"color\":\"#4D5663\"},\"text\":\"\"},\"zerolinecolor\":\"#E1E5ED\"},\"yaxis10\":{\"anchor\":\"x10\",\"domain\":[0.2675,0.465],\"gridcolor\":\"#E1E5ED\",\"showgrid\":false,\"tickfont\":{\"color\":\"#4D5663\"},\"title\":{\"font\":{\"color\":\"#4D5663\"},\"text\":\"\"},\"zerolinecolor\":\"#E1E5ED\"},\"xaxis11\":{\"anchor\":\"y11\",\"domain\":[0.525,0.7375],\"gridcolor\":\"#E1E5ED\",\"showgrid\":false,\"tickfont\":{\"color\":\"#4D5663\"},\"title\":{\"font\":{\"color\":\"#4D5663\"},\"text\":\"\"},\"zerolinecolor\":\"#E1E5ED\"},\"yaxis11\":{\"anchor\":\"x11\",\"domain\":[0.2675,0.465],\"gridcolor\":\"#E1E5ED\",\"showgrid\":false,\"tickfont\":{\"color\":\"#4D5663\"},\"title\":{\"font\":{\"color\":\"#4D5663\"},\"text\":\"\"},\"zerolinecolor\":\"#E1E5ED\"},\"xaxis12\":{\"anchor\":\"y12\",\"domain\":[0.7875,1.0],\"gridcolor\":\"#E1E5ED\",\"showgrid\":false,\"tickfont\":{\"color\":\"#4D5663\"},\"title\":{\"font\":{\"color\":\"#4D5663\"},\"text\":\"\"},\"zerolinecolor\":\"#E1E5ED\"},\"yaxis12\":{\"anchor\":\"x12\",\"domain\":[0.2675,0.465],\"gridcolor\":\"#E1E5ED\",\"showgrid\":false,\"tickfont\":{\"color\":\"#4D5663\"},\"title\":{\"font\":{\"color\":\"#4D5663\"},\"text\":\"\"},\"zerolinecolor\":\"#E1E5ED\"},\"xaxis13\":{\"anchor\":\"y13\",\"domain\":[0.0,0.2125],\"gridcolor\":\"#E1E5ED\",\"showgrid\":false,\"tickfont\":{\"color\":\"#4D5663\"},\"title\":{\"font\":{\"color\":\"#4D5663\"},\"text\":\"\"},\"zerolinecolor\":\"#E1E5ED\"},\"yaxis13\":{\"anchor\":\"x13\",\"domain\":[0.0,0.1975],\"gridcolor\":\"#E1E5ED\",\"showgrid\":false,\"tickfont\":{\"color\":\"#4D5663\"},\"title\":{\"font\":{\"color\":\"#4D5663\"},\"text\":\"\"},\"zerolinecolor\":\"#E1E5ED\"},\"xaxis14\":{\"anchor\":\"y14\",\"domain\":[0.2625,0.475],\"gridcolor\":\"#E1E5ED\",\"showgrid\":false,\"tickfont\":{\"color\":\"#4D5663\"},\"title\":{\"font\":{\"color\":\"#4D5663\"},\"text\":\"\"},\"zerolinecolor\":\"#E1E5ED\"},\"yaxis14\":{\"anchor\":\"x14\",\"domain\":[0.0,0.1975],\"gridcolor\":\"#E1E5ED\",\"showgrid\":false,\"tickfont\":{\"color\":\"#4D5663\"},\"title\":{\"font\":{\"color\":\"#4D5663\"},\"text\":\"\"},\"zerolinecolor\":\"#E1E5ED\"},\"xaxis15\":{\"anchor\":\"y15\",\"domain\":[0.525,0.7375],\"gridcolor\":\"#E1E5ED\",\"showgrid\":false,\"tickfont\":{\"color\":\"#4D5663\"},\"title\":{\"font\":{\"color\":\"#4D5663\"},\"text\":\"\"},\"zerolinecolor\":\"#E1E5ED\"},\"yaxis15\":{\"anchor\":\"x15\",\"domain\":[0.0,0.1975],\"gridcolor\":\"#E1E5ED\",\"showgrid\":false,\"tickfont\":{\"color\":\"#4D5663\"},\"title\":{\"font\":{\"color\":\"#4D5663\"},\"text\":\"\"},\"zerolinecolor\":\"#E1E5ED\"},\"xaxis16\":{\"anchor\":\"y16\",\"domain\":[0.7875,1.0],\"gridcolor\":\"#E1E5ED\",\"showgrid\":false,\"tickfont\":{\"color\":\"#4D5663\"},\"title\":{\"font\":{\"color\":\"#4D5663\"},\"text\":\"\"},\"zerolinecolor\":\"#E1E5ED\"},\"yaxis16\":{\"anchor\":\"x16\",\"domain\":[0.0,0.1975],\"gridcolor\":\"#E1E5ED\",\"showgrid\":false,\"tickfont\":{\"color\":\"#4D5663\"},\"title\":{\"font\":{\"color\":\"#4D5663\"},\"text\":\"\"},\"zerolinecolor\":\"#E1E5ED\"}},                        {\"showLink\": true, \"linkText\": \"Export to plot.ly\", \"plotlyServerURL\": \"https://plot.ly\", \"responsive\": true}                    ).then(function(){\n",
       "                            \n",
       "var gd = document.getElementById('5a91e414-c283-420c-bdbb-b8a3a9cccbd2');\n",
       "var x = new MutationObserver(function (mutations, observer) {{\n",
       "        var display = window.getComputedStyle(gd).display;\n",
       "        if (!display || display === 'none') {{\n",
       "            console.log([gd, 'removed!']);\n",
       "            Plotly.purge(gd);\n",
       "            observer.disconnect();\n",
       "        }}\n",
       "}});\n",
       "\n",
       "// Listen for the removal of the full notebook cells\n",
       "var notebookContainer = gd.closest('#notebook-container');\n",
       "if (notebookContainer) {{\n",
       "    x.observe(notebookContainer, {childList: true});\n",
       "}}\n",
       "\n",
       "// Listen for the clearing of the current output cell\n",
       "var outputEl = gd.closest('.output');\n",
       "if (outputEl) {{\n",
       "    x.observe(outputEl, {childList: true});\n",
       "}}\n",
       "\n",
       "                        })                };                });            </script>        </div>"
      ]
     },
     "metadata": {},
     "output_type": "display_data"
    }
   ],
   "source": [
    "df.scatter_matrix()"
   ]
  },
  {
   "cell_type": "code",
   "execution_count": null,
   "id": "d65f7843",
   "metadata": {},
   "outputs": [],
   "source": []
  }
 ],
 "metadata": {
  "kernelspec": {
   "display_name": "Python 3 (ipykernel)",
   "language": "python",
   "name": "python3"
  },
  "language_info": {
   "codemirror_mode": {
    "name": "ipython",
    "version": 3
   },
   "file_extension": ".py",
   "mimetype": "text/x-python",
   "name": "python",
   "nbconvert_exporter": "python",
   "pygments_lexer": "ipython3",
   "version": "3.11.4"
  }
 },
 "nbformat": 4,
 "nbformat_minor": 5
}
